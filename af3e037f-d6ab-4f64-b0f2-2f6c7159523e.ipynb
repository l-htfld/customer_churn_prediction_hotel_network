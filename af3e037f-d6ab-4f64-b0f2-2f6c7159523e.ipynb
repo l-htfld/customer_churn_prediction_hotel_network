{
 "cells": [
  {
   "cell_type": "markdown",
   "metadata": {},
   "source": [
    "<div style=\"padding: 30px 25px; border: 2px #6495ed solid\">\n",
    "    \n",
    "<b>Привет, Вячеслав!</b>\n",
    "\n",
    "Меня зовут Алексей Косенко, и я буду проверять твой проект.\n",
    "    \n",
    "Предлагаю общаться на «<b>ты</b>», но если это неудобно — обязательно сообщи об этом.\n",
    "    \n",
    "Ниже ты увидишь мои комментарии, выделенные разным цветом:\n",
    "    \n",
    "<div class=\"alert alert-success\">\n",
    "<h2>Комментарий ревьюера<a class=\"tocSkip\"></a></h2>\n",
    "\n",
    "<b>Отлично!</b> ✔️: все ок, продолжай в том же духе :)\n",
    "\n",
    "</div>\n",
    "<div class=\"alert alert-warning\">\n",
    "<h2>Комментарий ревьюера<a class=\"tocSkip\"></a></h2>\n",
    "    \n",
    "<b>Есть совет</b> ⚠️: так выделены некритичные замечания или советы, которые смогут улучшить твой проект.\n",
    "\n",
    "</div>\n",
    "<div class=\"alert alert-danger\">\n",
    "<h2>Комментарий ревьюера<a class=\"tocSkip\"></a></h2>\n",
    "\n",
    "<b>Нужно доработать</b> ❌: так выделены важные замечания — без их исправления проект не может быть принят.\n",
    "    \n",
    "</div>\n",
    "\n",
    "Будет здорово, если ты будешь участвовать в диалоге, а свои вопросы, комментарии и изменения в проекте тоже будешь выделять, например, вот так:\n",
    "    \n",
    "<div class=\"alert alert-info\">\n",
    "    <b>Комментарий студента:</b> твой комментарий\n",
    "</div>\n",
    "    \n",
    "Пожалуйста, не перемещай и не удаляй мои комментарии, это усложнит повторную проверку.\n",
    "    \n",
    "</div>"
   ]
  },
  {
   "cell_type": "markdown",
   "metadata": {},
   "source": [
    "<div class=\"alert alert-info\">\n",
    "    <b>Комментарий студента:</b> Привет, конечно я не против на ты) Спасибо за комментарии. Я исправил там, где смог. но остались вопросы по 3му разделу, который я не смог сделать.Проект выполнял в дикой спешке, так как из-за экзаменов пропустил два спринта и приходится нагонять, так что прошу прощения за кривость(\n",
    "</div>"
   ]
  },
  {
   "cell_type": "markdown",
   "metadata": {},
   "source": [
    "<div style=\"padding: 30px 25px; border: 2px #6495ed solid\">\n",
    "    \n",
    "<b>Еще раз привет!</b>\n",
    "\n",
    "Спасибо, что доделал работу, оформление комментариев остается тем же, только обозначим номер итерации: v2\n",
    "    \n",
    "Не страшно, давай посмотрим, что получилось :)\n",
    "    \n",
    "</div>"
   ]
  },
  {
   "cell_type": "markdown",
   "metadata": {},
   "source": [
    "<div class=\"alert alert-info\">\n",
    "    <b>Комментарий студента V2:</b> Привет) В общем, посидел, допилил, но не могу сказать, что всё идеально. Пару моментов, которые ты рекомендовал, сломались, и я пошёл по пути наименьшего сопротивления, чтобы всё запускалось. Добавил сложного кода, поправлял косяки. Старался сосредоточиться, но дедлайн до 11 не давал покоя) но должно быть лучше, чем первая версия. Буду рад твоей помощи)\n",
    "</div>"
   ]
  },
  {
   "cell_type": "markdown",
   "metadata": {},
   "source": [
    "<div style=\"padding: 30px 25px; border: 2px #6495ed solid\">\n",
    "    \n",
    "<b>И снова здравствуй!</b>\n",
    "\n",
    "Супер, давай посмотрим, как прогресс, номер итерации: v3\n",
    "    \n",
    "</div>"
   ]
  },
  {
   "cell_type": "markdown",
   "metadata": {},
   "source": [
    "# Прогнозирование оттока клиентов в сети отелей «Как в гостях»"
   ]
  },
  {
   "cell_type": "markdown",
   "metadata": {},
   "source": [
    "### Шаг 1. Откройте файлы с данными"
   ]
  },
  {
   "cell_type": "markdown",
   "metadata": {},
   "source": [
    "Итак, перед нами стоит задача - научиться предсказывать, откажется ли клиент от брони, чтобы нужному клиенту преложить внести депозит, дабы компания не пострадала от убытков. Причём сумма депозита должна покрыть минимум одну уборку и одну ночь в отеле. С учетом высего вышесказанного, задачу можно поделить на пункты:\n",
    "\n",
    "- Предобработка и исследовательский анализ данных\n",
    "- Постановка задачаи и обучение модели для машинного обучения\n",
    "- Выбор лучшей модели для ML\n",
    "- Анализ метрик, подсчёт результатов\n",
    "\n",
    "В итоге у нас должен получится \"портрет\" клиента, который закажет бронь, но откажется от неё в будущем."
   ]
  },
  {
   "cell_type": "code",
   "execution_count": 1,
   "metadata": {
    "scrolled": true
   },
   "outputs": [
    {
     "name": "stdout",
     "output_type": "stream",
     "text": [
      "Collecting pandas_profiling\n",
      "  Downloading pandas_profiling-3.6.6-py2.py3-none-any.whl (324 kB)\n",
      "\u001b[K     |████████████████████████████████| 324 kB 2.5 MB/s eta 0:00:01\n",
      "\u001b[?25hCollecting ydata-profiling\n",
      "  Downloading ydata_profiling-4.0.0-py2.py3-none-any.whl (344 kB)\n",
      "\u001b[K     |████████████████████████████████| 344 kB 63.0 MB/s eta 0:00:01\n",
      "\u001b[?25hRequirement already satisfied: tqdm<4.65,>=4.48.2 in /opt/conda/lib/python3.9/site-packages (from ydata-profiling->pandas_profiling) (4.61.2)\n",
      "Requirement already satisfied: jinja2<3.2,>=2.11.1 in /opt/conda/lib/python3.9/site-packages (from ydata-profiling->pandas_profiling) (3.0.1)\n",
      "Requirement already satisfied: numpy<1.24,>=1.16.0 in /opt/conda/lib/python3.9/site-packages (from ydata-profiling->pandas_profiling) (1.21.1)\n",
      "Collecting phik<0.13,>=0.11.1\n",
      "  Downloading phik-0.12.3-cp39-cp39-manylinux_2_17_x86_64.manylinux2014_x86_64.whl (679 kB)\n",
      "\u001b[K     |████████████████████████████████| 679 kB 81.9 MB/s eta 0:00:01\n",
      "\u001b[?25hCollecting multimethod<1.10,>=1.4\n",
      "  Downloading multimethod-1.9.1-py3-none-any.whl (10 kB)\n",
      "Requirement already satisfied: matplotlib<3.7,>=3.2 in /opt/conda/lib/python3.9/site-packages (from ydata-profiling->pandas_profiling) (3.3.4)\n",
      "Requirement already satisfied: requests<2.29,>=2.24.0 in /opt/conda/lib/python3.9/site-packages (from ydata-profiling->pandas_profiling) (2.25.1)\n",
      "Requirement already satisfied: statsmodels<0.14,>=0.13.2 in /opt/conda/lib/python3.9/site-packages (from ydata-profiling->pandas_profiling) (0.13.2)\n",
      "Requirement already satisfied: pydantic<1.11,>=1.8.1 in /opt/conda/lib/python3.9/site-packages (from ydata-profiling->pandas_profiling) (1.8.2)\n",
      "Collecting htmlmin==0.1.12\n",
      "  Downloading htmlmin-0.1.12.tar.gz (19 kB)\n",
      "Requirement already satisfied: seaborn<0.13,>=0.10.1 in /opt/conda/lib/python3.9/site-packages (from ydata-profiling->pandas_profiling) (0.11.1)\n",
      "Requirement already satisfied: pandas!=1.4.0,<1.6,>1.1 in /opt/conda/lib/python3.9/site-packages (from ydata-profiling->pandas_profiling) (1.2.4)\n",
      "Collecting visions[type_image_path]==0.7.5\n",
      "  Downloading visions-0.7.5-py3-none-any.whl (102 kB)\n",
      "\u001b[K     |████████████████████████████████| 102 kB 80.1 MB/s eta 0:00:01\n",
      "\u001b[?25hCollecting typeguard<2.14,>=2.13.2\n",
      "  Downloading typeguard-2.13.3-py3-none-any.whl (17 kB)\n",
      "Requirement already satisfied: PyYAML<6.1,>=5.0.0 in /opt/conda/lib/python3.9/site-packages (from ydata-profiling->pandas_profiling) (6.0)\n",
      "Requirement already satisfied: scipy<1.10,>=1.4.1 in /opt/conda/lib/python3.9/site-packages (from ydata-profiling->pandas_profiling) (1.9.1)\n",
      "Collecting tangled-up-in-unicode>=0.0.4\n",
      "  Downloading tangled_up_in_unicode-0.2.0-py3-none-any.whl (4.7 MB)\n",
      "\u001b[K     |████████████████████████████████| 4.7 MB 80.2 MB/s eta 0:00:010:01\n",
      "\u001b[?25hRequirement already satisfied: attrs>=19.3.0 in /opt/conda/lib/python3.9/site-packages (from visions[type_image_path]==0.7.5->ydata-profiling->pandas_profiling) (21.2.0)\n",
      "Collecting networkx>=2.4\n",
      "  Downloading networkx-3.0-py3-none-any.whl (2.0 MB)\n",
      "\u001b[K     |████████████████████████████████| 2.0 MB 58.1 MB/s eta 0:00:01\n",
      "\u001b[?25hRequirement already satisfied: Pillow in /opt/conda/lib/python3.9/site-packages (from visions[type_image_path]==0.7.5->ydata-profiling->pandas_profiling) (8.4.0)\n",
      "Collecting imagehash\n",
      "  Downloading ImageHash-4.3.1-py2.py3-none-any.whl (296 kB)\n",
      "\u001b[K     |████████████████████████████████| 296 kB 79.9 MB/s eta 0:00:01\n",
      "\u001b[?25hRequirement already satisfied: MarkupSafe>=2.0 in /opt/conda/lib/python3.9/site-packages (from jinja2<3.2,>=2.11.1->ydata-profiling->pandas_profiling) (2.1.1)\n",
      "Requirement already satisfied: cycler>=0.10 in /opt/conda/lib/python3.9/site-packages (from matplotlib<3.7,>=3.2->ydata-profiling->pandas_profiling) (0.11.0)\n",
      "Requirement already satisfied: pyparsing!=2.0.4,!=2.1.2,!=2.1.6,>=2.0.3 in /opt/conda/lib/python3.9/site-packages (from matplotlib<3.7,>=3.2->ydata-profiling->pandas_profiling) (2.4.7)\n",
      "Requirement already satisfied: kiwisolver>=1.0.1 in /opt/conda/lib/python3.9/site-packages (from matplotlib<3.7,>=3.2->ydata-profiling->pandas_profiling) (1.4.4)\n",
      "Requirement already satisfied: python-dateutil>=2.1 in /opt/conda/lib/python3.9/site-packages (from matplotlib<3.7,>=3.2->ydata-profiling->pandas_profiling) (2.8.1)\n",
      "Requirement already satisfied: pytz>=2017.3 in /opt/conda/lib/python3.9/site-packages (from pandas!=1.4.0,<1.6,>1.1->ydata-profiling->pandas_profiling) (2021.1)\n",
      "Requirement already satisfied: joblib>=0.14.1 in /opt/conda/lib/python3.9/site-packages (from phik<0.13,>=0.11.1->ydata-profiling->pandas_profiling) (1.1.0)\n",
      "Requirement already satisfied: typing-extensions>=3.7.4.3 in /opt/conda/lib/python3.9/site-packages (from pydantic<1.11,>=1.8.1->ydata-profiling->pandas_profiling) (4.3.0)\n",
      "Requirement already satisfied: six>=1.5 in /opt/conda/lib/python3.9/site-packages (from python-dateutil>=2.1->matplotlib<3.7,>=3.2->ydata-profiling->pandas_profiling) (1.16.0)\n",
      "Requirement already satisfied: urllib3<1.27,>=1.21.1 in /opt/conda/lib/python3.9/site-packages (from requests<2.29,>=2.24.0->ydata-profiling->pandas_profiling) (1.26.6)\n",
      "Requirement already satisfied: certifi>=2017.4.17 in /opt/conda/lib/python3.9/site-packages (from requests<2.29,>=2.24.0->ydata-profiling->pandas_profiling) (2022.6.15)\n",
      "Requirement already satisfied: idna<3,>=2.5 in /opt/conda/lib/python3.9/site-packages (from requests<2.29,>=2.24.0->ydata-profiling->pandas_profiling) (2.10)\n",
      "Requirement already satisfied: chardet<5,>=3.0.2 in /opt/conda/lib/python3.9/site-packages (from requests<2.29,>=2.24.0->ydata-profiling->pandas_profiling) (4.0.0)\n",
      "Requirement already satisfied: patsy>=0.5.2 in /opt/conda/lib/python3.9/site-packages (from statsmodels<0.14,>=0.13.2->ydata-profiling->pandas_profiling) (0.5.2)\n",
      "Requirement already satisfied: packaging>=21.3 in /opt/conda/lib/python3.9/site-packages (from statsmodels<0.14,>=0.13.2->ydata-profiling->pandas_profiling) (21.3)\n",
      "Collecting PyWavelets\n",
      "  Downloading PyWavelets-1.4.1-cp39-cp39-manylinux_2_17_x86_64.manylinux2014_x86_64.whl (6.9 MB)\n",
      "\u001b[K     |████████████████████████████████| 6.9 MB 54.2 MB/s eta 0:00:01\n",
      "\u001b[?25hBuilding wheels for collected packages: htmlmin\n",
      "  Building wheel for htmlmin (setup.py) ... \u001b[?25ldone\n",
      "\u001b[?25h  Created wheel for htmlmin: filename=htmlmin-0.1.12-py3-none-any.whl size=27085 sha256=1e4e792192783e4bd697c82052115e734c49727d9b9f7a2778be6c1ba2bbaa20\n",
      "  Stored in directory: /home/jovyan/.cache/pip/wheels/1d/05/04/c6d7d3b66539d9e659ac6dfe81e2d0fd4c1a8316cc5a403300\n",
      "Successfully built htmlmin\n",
      "Installing collected packages: tangled-up-in-unicode, PyWavelets, networkx, multimethod, visions, imagehash, typeguard, phik, htmlmin, ydata-profiling, pandas-profiling\n",
      "Successfully installed PyWavelets-1.4.1 htmlmin-0.1.12 imagehash-4.3.1 multimethod-1.9.1 networkx-3.0 pandas-profiling-3.6.6 phik-0.12.3 tangled-up-in-unicode-0.2.0 typeguard-2.13.3 visions-0.7.5 ydata-profiling-4.0.0\n",
      "Note: you may need to restart the kernel to use updated packages.\n"
     ]
    }
   ],
   "source": [
    "pip install pandas_profiling"
   ]
  },
  {
   "cell_type": "code",
   "execution_count": 2,
   "metadata": {},
   "outputs": [
    {
     "name": "stdout",
     "output_type": "stream",
     "text": [
      "Collecting category_encoders\n",
      "  Downloading category_encoders-2.6.0-py2.py3-none-any.whl (81 kB)\n",
      "\u001b[K     |████████████████████████████████| 81 kB 2.4 MB/s eta 0:00:011\n",
      "\u001b[?25hRequirement already satisfied: scikit-learn>=0.20.0 in /opt/conda/lib/python3.9/site-packages (from category_encoders) (0.24.1)\n",
      "Requirement already satisfied: patsy>=0.5.1 in /opt/conda/lib/python3.9/site-packages (from category_encoders) (0.5.2)\n",
      "Requirement already satisfied: scipy>=1.0.0 in /opt/conda/lib/python3.9/site-packages (from category_encoders) (1.9.1)\n",
      "Requirement already satisfied: pandas>=1.0.5 in /opt/conda/lib/python3.9/site-packages (from category_encoders) (1.2.4)\n",
      "Requirement already satisfied: statsmodels>=0.9.0 in /opt/conda/lib/python3.9/site-packages (from category_encoders) (0.13.2)\n",
      "Requirement already satisfied: numpy>=1.14.0 in /opt/conda/lib/python3.9/site-packages (from category_encoders) (1.21.1)\n",
      "Requirement already satisfied: python-dateutil>=2.7.3 in /opt/conda/lib/python3.9/site-packages (from pandas>=1.0.5->category_encoders) (2.8.1)\n",
      "Requirement already satisfied: pytz>=2017.3 in /opt/conda/lib/python3.9/site-packages (from pandas>=1.0.5->category_encoders) (2021.1)\n",
      "Requirement already satisfied: six in /opt/conda/lib/python3.9/site-packages (from patsy>=0.5.1->category_encoders) (1.16.0)\n",
      "Requirement already satisfied: threadpoolctl>=2.0.0 in /opt/conda/lib/python3.9/site-packages (from scikit-learn>=0.20.0->category_encoders) (3.1.0)\n",
      "Requirement already satisfied: joblib>=0.11 in /opt/conda/lib/python3.9/site-packages (from scikit-learn>=0.20.0->category_encoders) (1.1.0)\n",
      "Requirement already satisfied: packaging>=21.3 in /opt/conda/lib/python3.9/site-packages (from statsmodels>=0.9.0->category_encoders) (21.3)\n",
      "Requirement already satisfied: pyparsing!=3.0.5,>=2.0.2 in /opt/conda/lib/python3.9/site-packages (from packaging>=21.3->statsmodels>=0.9.0->category_encoders) (2.4.7)\n",
      "Installing collected packages: category-encoders\n",
      "Successfully installed category-encoders-2.6.0\n",
      "Note: you may need to restart the kernel to use updated packages.\n"
     ]
    }
   ],
   "source": [
    "pip install category_encoders"
   ]
  },
  {
   "cell_type": "code",
   "execution_count": 3,
   "metadata": {},
   "outputs": [
    {
     "name": "stderr",
     "output_type": "stream",
     "text": [
      "/tmp/ipykernel_48/3980283479.py:5: DeprecationWarning: `import pandas_profiling` is going to be deprecated by April 1st. Please use `import ydata_profiling` instead.\n",
      "  import pandas_profiling\n"
     ]
    }
   ],
   "source": [
    "import pandas as pd\n",
    "import matplotlib.pyplot as plt\n",
    "import seaborn as sns\n",
    "import numpy as np\n",
    "import pandas_profiling\n",
    "import category_encoders as ce\n",
    "from sklearn.preprocessing import OrdinalEncoder\n",
    "from sklearn.preprocessing import OneHotEncoder\n",
    "from sklearn.model_selection import train_test_split\n",
    "from sklearn.model_selection import cross_val_score\n",
    "from sklearn.preprocessing import StandardScaler\n",
    "from sklearn.tree import DecisionTreeClassifier\n",
    "from catboost import CatBoostClassifier\n",
    "from sklearn.linear_model import LogisticRegression\n",
    "from sklearn.svm import SVC\n",
    "from sklearn.model_selection import GridSearchCV\n",
    "from sklearn.metrics import recall_score\n",
    "from sklearn.metrics import f1_score\n",
    "from sklearn.pipeline import Pipeline\n",
    "from sklearn.decomposition import PCA\n",
    "from sklearn.inspection import permutation_importance"
   ]
  },
  {
   "cell_type": "code",
   "execution_count": 4,
   "metadata": {},
   "outputs": [],
   "source": [
    "htrain = pd.read_csv('/datasets/hotel_train.csv')\n",
    "htest = pd.read_csv('/datasets/hotel_test.csv')"
   ]
  },
  {
   "cell_type": "code",
   "execution_count": 5,
   "metadata": {},
   "outputs": [],
   "source": [
    "hotels = [htrain, htest]"
   ]
  },
  {
   "cell_type": "code",
   "execution_count": 6,
   "metadata": {},
   "outputs": [
    {
     "data": {
      "text/html": [
       "<div>\n",
       "<style scoped>\n",
       "    .dataframe tbody tr th:only-of-type {\n",
       "        vertical-align: middle;\n",
       "    }\n",
       "\n",
       "    .dataframe tbody tr th {\n",
       "        vertical-align: top;\n",
       "    }\n",
       "\n",
       "    .dataframe thead th {\n",
       "        text-align: right;\n",
       "    }\n",
       "</style>\n",
       "<table border=\"1\" class=\"dataframe\">\n",
       "  <thead>\n",
       "    <tr style=\"text-align: right;\">\n",
       "      <th></th>\n",
       "      <th>id</th>\n",
       "      <th>is_canceled</th>\n",
       "      <th>lead_time</th>\n",
       "      <th>arrival_date_year</th>\n",
       "      <th>arrival_date_month</th>\n",
       "      <th>arrival_date_week_number</th>\n",
       "      <th>arrival_date_day_of_month</th>\n",
       "      <th>stays_in_weekend_nights</th>\n",
       "      <th>stays_in_week_nights</th>\n",
       "      <th>adults</th>\n",
       "      <th>...</th>\n",
       "      <th>is_repeated_guest</th>\n",
       "      <th>previous_cancellations</th>\n",
       "      <th>previous_bookings_not_canceled</th>\n",
       "      <th>reserved_room_type</th>\n",
       "      <th>booking_changes</th>\n",
       "      <th>days_in_waiting_list</th>\n",
       "      <th>customer_type</th>\n",
       "      <th>required_car_parking_spaces</th>\n",
       "      <th>total_of_special_requests</th>\n",
       "      <th>total_nights</th>\n",
       "    </tr>\n",
       "  </thead>\n",
       "  <tbody>\n",
       "    <tr>\n",
       "      <th>0</th>\n",
       "      <td>0</td>\n",
       "      <td>0</td>\n",
       "      <td>7.0</td>\n",
       "      <td>2015</td>\n",
       "      <td>July</td>\n",
       "      <td>27</td>\n",
       "      <td>1</td>\n",
       "      <td>0</td>\n",
       "      <td>1</td>\n",
       "      <td>1.0</td>\n",
       "      <td>...</td>\n",
       "      <td>0</td>\n",
       "      <td>0</td>\n",
       "      <td>0</td>\n",
       "      <td>A</td>\n",
       "      <td>0</td>\n",
       "      <td>0</td>\n",
       "      <td>Transient</td>\n",
       "      <td>0</td>\n",
       "      <td>0</td>\n",
       "      <td>1</td>\n",
       "    </tr>\n",
       "    <tr>\n",
       "      <th>1</th>\n",
       "      <td>1</td>\n",
       "      <td>0</td>\n",
       "      <td>14.0</td>\n",
       "      <td>2015</td>\n",
       "      <td>July</td>\n",
       "      <td>27</td>\n",
       "      <td>1</td>\n",
       "      <td>0</td>\n",
       "      <td>2</td>\n",
       "      <td>2.0</td>\n",
       "      <td>...</td>\n",
       "      <td>0</td>\n",
       "      <td>0</td>\n",
       "      <td>0</td>\n",
       "      <td>A</td>\n",
       "      <td>0</td>\n",
       "      <td>0</td>\n",
       "      <td>Transient</td>\n",
       "      <td>0</td>\n",
       "      <td>1</td>\n",
       "      <td>2</td>\n",
       "    </tr>\n",
       "    <tr>\n",
       "      <th>2</th>\n",
       "      <td>2</td>\n",
       "      <td>0</td>\n",
       "      <td>0.0</td>\n",
       "      <td>2015</td>\n",
       "      <td>July</td>\n",
       "      <td>27</td>\n",
       "      <td>1</td>\n",
       "      <td>0</td>\n",
       "      <td>2</td>\n",
       "      <td>2.0</td>\n",
       "      <td>...</td>\n",
       "      <td>0</td>\n",
       "      <td>0</td>\n",
       "      <td>0</td>\n",
       "      <td>C</td>\n",
       "      <td>0</td>\n",
       "      <td>0</td>\n",
       "      <td>Transient</td>\n",
       "      <td>0</td>\n",
       "      <td>0</td>\n",
       "      <td>2</td>\n",
       "    </tr>\n",
       "    <tr>\n",
       "      <th>3</th>\n",
       "      <td>3</td>\n",
       "      <td>0</td>\n",
       "      <td>9.0</td>\n",
       "      <td>2015</td>\n",
       "      <td>July</td>\n",
       "      <td>27</td>\n",
       "      <td>1</td>\n",
       "      <td>0</td>\n",
       "      <td>2</td>\n",
       "      <td>2.0</td>\n",
       "      <td>...</td>\n",
       "      <td>0</td>\n",
       "      <td>0</td>\n",
       "      <td>0</td>\n",
       "      <td>C</td>\n",
       "      <td>0</td>\n",
       "      <td>0</td>\n",
       "      <td>Transient</td>\n",
       "      <td>0</td>\n",
       "      <td>1</td>\n",
       "      <td>2</td>\n",
       "    </tr>\n",
       "    <tr>\n",
       "      <th>4</th>\n",
       "      <td>4</td>\n",
       "      <td>1</td>\n",
       "      <td>85.0</td>\n",
       "      <td>2015</td>\n",
       "      <td>July</td>\n",
       "      <td>27</td>\n",
       "      <td>1</td>\n",
       "      <td>0</td>\n",
       "      <td>3</td>\n",
       "      <td>2.0</td>\n",
       "      <td>...</td>\n",
       "      <td>0</td>\n",
       "      <td>0</td>\n",
       "      <td>0</td>\n",
       "      <td>A</td>\n",
       "      <td>0</td>\n",
       "      <td>0</td>\n",
       "      <td>Transient</td>\n",
       "      <td>0</td>\n",
       "      <td>1</td>\n",
       "      <td>3</td>\n",
       "    </tr>\n",
       "  </tbody>\n",
       "</table>\n",
       "<p>5 rows × 25 columns</p>\n",
       "</div>"
      ],
      "text/plain": [
       "   id  is_canceled  lead_time  arrival_date_year arrival_date_month  \\\n",
       "0   0            0        7.0               2015               July   \n",
       "1   1            0       14.0               2015               July   \n",
       "2   2            0        0.0               2015               July   \n",
       "3   3            0        9.0               2015               July   \n",
       "4   4            1       85.0               2015               July   \n",
       "\n",
       "   arrival_date_week_number  arrival_date_day_of_month  \\\n",
       "0                        27                          1   \n",
       "1                        27                          1   \n",
       "2                        27                          1   \n",
       "3                        27                          1   \n",
       "4                        27                          1   \n",
       "\n",
       "   stays_in_weekend_nights  stays_in_week_nights  adults  ...  \\\n",
       "0                        0                     1     1.0  ...   \n",
       "1                        0                     2     2.0  ...   \n",
       "2                        0                     2     2.0  ...   \n",
       "3                        0                     2     2.0  ...   \n",
       "4                        0                     3     2.0  ...   \n",
       "\n",
       "   is_repeated_guest  previous_cancellations previous_bookings_not_canceled  \\\n",
       "0                  0                       0                              0   \n",
       "1                  0                       0                              0   \n",
       "2                  0                       0                              0   \n",
       "3                  0                       0                              0   \n",
       "4                  0                       0                              0   \n",
       "\n",
       "  reserved_room_type booking_changes  days_in_waiting_list  customer_type  \\\n",
       "0   A                              0                     0      Transient   \n",
       "1   A                              0                     0      Transient   \n",
       "2   C                              0                     0      Transient   \n",
       "3   C                              0                     0      Transient   \n",
       "4   A                              0                     0      Transient   \n",
       "\n",
       "   required_car_parking_spaces total_of_special_requests  total_nights  \n",
       "0                            0                         0             1  \n",
       "1                            0                         1             2  \n",
       "2                            0                         0             2  \n",
       "3                            0                         1             2  \n",
       "4                            0                         1             3  \n",
       "\n",
       "[5 rows x 25 columns]"
      ]
     },
     "metadata": {},
     "output_type": "display_data"
    }
   ],
   "source": [
    "display(htrain.head())"
   ]
  },
  {
   "cell_type": "code",
   "execution_count": 7,
   "metadata": {},
   "outputs": [
    {
     "data": {
      "text/html": [
       "<div>\n",
       "<style scoped>\n",
       "    .dataframe tbody tr th:only-of-type {\n",
       "        vertical-align: middle;\n",
       "    }\n",
       "\n",
       "    .dataframe tbody tr th {\n",
       "        vertical-align: top;\n",
       "    }\n",
       "\n",
       "    .dataframe thead th {\n",
       "        text-align: right;\n",
       "    }\n",
       "</style>\n",
       "<table border=\"1\" class=\"dataframe\">\n",
       "  <thead>\n",
       "    <tr style=\"text-align: right;\">\n",
       "      <th></th>\n",
       "      <th>id</th>\n",
       "      <th>is_canceled</th>\n",
       "      <th>lead_time</th>\n",
       "      <th>arrival_date_year</th>\n",
       "      <th>arrival_date_month</th>\n",
       "      <th>arrival_date_week_number</th>\n",
       "      <th>arrival_date_day_of_month</th>\n",
       "      <th>stays_in_weekend_nights</th>\n",
       "      <th>stays_in_week_nights</th>\n",
       "      <th>adults</th>\n",
       "      <th>...</th>\n",
       "      <th>is_repeated_guest</th>\n",
       "      <th>previous_cancellations</th>\n",
       "      <th>previous_bookings_not_canceled</th>\n",
       "      <th>reserved_room_type</th>\n",
       "      <th>booking_changes</th>\n",
       "      <th>days_in_waiting_list</th>\n",
       "      <th>customer_type</th>\n",
       "      <th>required_car_parking_spaces</th>\n",
       "      <th>total_of_special_requests</th>\n",
       "      <th>total_nights</th>\n",
       "    </tr>\n",
       "  </thead>\n",
       "  <tbody>\n",
       "    <tr>\n",
       "      <th>0</th>\n",
       "      <td>6086</td>\n",
       "      <td>1</td>\n",
       "      <td>74.0</td>\n",
       "      <td>2017</td>\n",
       "      <td>January</td>\n",
       "      <td>1</td>\n",
       "      <td>1</td>\n",
       "      <td>1</td>\n",
       "      <td>0</td>\n",
       "      <td>2.0</td>\n",
       "      <td>...</td>\n",
       "      <td>0</td>\n",
       "      <td>0</td>\n",
       "      <td>0</td>\n",
       "      <td>A</td>\n",
       "      <td>0</td>\n",
       "      <td>0</td>\n",
       "      <td>Transient</td>\n",
       "      <td>0</td>\n",
       "      <td>0</td>\n",
       "      <td>1</td>\n",
       "    </tr>\n",
       "    <tr>\n",
       "      <th>1</th>\n",
       "      <td>6087</td>\n",
       "      <td>1</td>\n",
       "      <td>62.0</td>\n",
       "      <td>2017</td>\n",
       "      <td>January</td>\n",
       "      <td>1</td>\n",
       "      <td>1</td>\n",
       "      <td>2</td>\n",
       "      <td>2</td>\n",
       "      <td>2.0</td>\n",
       "      <td>...</td>\n",
       "      <td>0</td>\n",
       "      <td>0</td>\n",
       "      <td>0</td>\n",
       "      <td>A</td>\n",
       "      <td>0</td>\n",
       "      <td>0</td>\n",
       "      <td>Transient</td>\n",
       "      <td>0</td>\n",
       "      <td>1</td>\n",
       "      <td>4</td>\n",
       "    </tr>\n",
       "    <tr>\n",
       "      <th>2</th>\n",
       "      <td>6088</td>\n",
       "      <td>1</td>\n",
       "      <td>62.0</td>\n",
       "      <td>2017</td>\n",
       "      <td>January</td>\n",
       "      <td>1</td>\n",
       "      <td>1</td>\n",
       "      <td>2</td>\n",
       "      <td>2</td>\n",
       "      <td>2.0</td>\n",
       "      <td>...</td>\n",
       "      <td>0</td>\n",
       "      <td>0</td>\n",
       "      <td>0</td>\n",
       "      <td>A</td>\n",
       "      <td>0</td>\n",
       "      <td>0</td>\n",
       "      <td>Transient</td>\n",
       "      <td>0</td>\n",
       "      <td>1</td>\n",
       "      <td>4</td>\n",
       "    </tr>\n",
       "    <tr>\n",
       "      <th>3</th>\n",
       "      <td>6089</td>\n",
       "      <td>1</td>\n",
       "      <td>71.0</td>\n",
       "      <td>2017</td>\n",
       "      <td>January</td>\n",
       "      <td>1</td>\n",
       "      <td>1</td>\n",
       "      <td>2</td>\n",
       "      <td>2</td>\n",
       "      <td>1.0</td>\n",
       "      <td>...</td>\n",
       "      <td>0</td>\n",
       "      <td>0</td>\n",
       "      <td>0</td>\n",
       "      <td>A</td>\n",
       "      <td>0</td>\n",
       "      <td>0</td>\n",
       "      <td>Transient</td>\n",
       "      <td>0</td>\n",
       "      <td>1</td>\n",
       "      <td>4</td>\n",
       "    </tr>\n",
       "    <tr>\n",
       "      <th>4</th>\n",
       "      <td>6090</td>\n",
       "      <td>1</td>\n",
       "      <td>172.0</td>\n",
       "      <td>2017</td>\n",
       "      <td>January</td>\n",
       "      <td>1</td>\n",
       "      <td>1</td>\n",
       "      <td>2</td>\n",
       "      <td>5</td>\n",
       "      <td>2.0</td>\n",
       "      <td>...</td>\n",
       "      <td>0</td>\n",
       "      <td>0</td>\n",
       "      <td>0</td>\n",
       "      <td>A</td>\n",
       "      <td>0</td>\n",
       "      <td>0</td>\n",
       "      <td>Transient</td>\n",
       "      <td>0</td>\n",
       "      <td>0</td>\n",
       "      <td>7</td>\n",
       "    </tr>\n",
       "  </tbody>\n",
       "</table>\n",
       "<p>5 rows × 25 columns</p>\n",
       "</div>"
      ],
      "text/plain": [
       "     id  is_canceled  lead_time  arrival_date_year arrival_date_month  \\\n",
       "0  6086            1       74.0               2017            January   \n",
       "1  6087            1       62.0               2017            January   \n",
       "2  6088            1       62.0               2017            January   \n",
       "3  6089            1       71.0               2017            January   \n",
       "4  6090            1      172.0               2017            January   \n",
       "\n",
       "   arrival_date_week_number  arrival_date_day_of_month  \\\n",
       "0                         1                          1   \n",
       "1                         1                          1   \n",
       "2                         1                          1   \n",
       "3                         1                          1   \n",
       "4                         1                          1   \n",
       "\n",
       "   stays_in_weekend_nights  stays_in_week_nights  adults  ...  \\\n",
       "0                        1                     0     2.0  ...   \n",
       "1                        2                     2     2.0  ...   \n",
       "2                        2                     2     2.0  ...   \n",
       "3                        2                     2     1.0  ...   \n",
       "4                        2                     5     2.0  ...   \n",
       "\n",
       "   is_repeated_guest  previous_cancellations previous_bookings_not_canceled  \\\n",
       "0                  0                       0                              0   \n",
       "1                  0                       0                              0   \n",
       "2                  0                       0                              0   \n",
       "3                  0                       0                              0   \n",
       "4                  0                       0                              0   \n",
       "\n",
       "  reserved_room_type booking_changes  days_in_waiting_list  customer_type  \\\n",
       "0   A                              0                     0      Transient   \n",
       "1   A                              0                     0      Transient   \n",
       "2   A                              0                     0      Transient   \n",
       "3   A                              0                     0      Transient   \n",
       "4   A                              0                     0      Transient   \n",
       "\n",
       "   required_car_parking_spaces total_of_special_requests  total_nights  \n",
       "0                            0                         0             1  \n",
       "1                            0                         1             4  \n",
       "2                            0                         1             4  \n",
       "3                            0                         1             4  \n",
       "4                            0                         0             7  \n",
       "\n",
       "[5 rows x 25 columns]"
      ]
     },
     "metadata": {},
     "output_type": "display_data"
    }
   ],
   "source": [
    "display(htest.head())"
   ]
  },
  {
   "cell_type": "code",
   "execution_count": 8,
   "metadata": {},
   "outputs": [
    {
     "name": "stdout",
     "output_type": "stream",
     "text": [
      "<class 'pandas.core.frame.DataFrame'>\n",
      "RangeIndex: 65229 entries, 0 to 65228\n",
      "Data columns (total 25 columns):\n",
      " #   Column                          Non-Null Count  Dtype  \n",
      "---  ------                          --------------  -----  \n",
      " 0   id                              65229 non-null  int64  \n",
      " 1   is_canceled                     65229 non-null  int64  \n",
      " 2   lead_time                       65229 non-null  float64\n",
      " 3   arrival_date_year               65229 non-null  int64  \n",
      " 4   arrival_date_month              65229 non-null  object \n",
      " 5   arrival_date_week_number        65229 non-null  int64  \n",
      " 6   arrival_date_day_of_month       65229 non-null  int64  \n",
      " 7   stays_in_weekend_nights         65229 non-null  int64  \n",
      " 8   stays_in_week_nights            65229 non-null  int64  \n",
      " 9   adults                          65229 non-null  float64\n",
      " 10  children                        65229 non-null  float64\n",
      " 11  babies                          65229 non-null  float64\n",
      " 12  meal                            65229 non-null  object \n",
      " 13  country                         65229 non-null  object \n",
      " 14  distribution_channel            65229 non-null  object \n",
      " 15  is_repeated_guest               65229 non-null  int64  \n",
      " 16  previous_cancellations          65229 non-null  int64  \n",
      " 17  previous_bookings_not_canceled  65229 non-null  int64  \n",
      " 18  reserved_room_type              65229 non-null  object \n",
      " 19  booking_changes                 65229 non-null  int64  \n",
      " 20  days_in_waiting_list            65229 non-null  int64  \n",
      " 21  customer_type                   65229 non-null  object \n",
      " 22  required_car_parking_spaces     65229 non-null  int64  \n",
      " 23  total_of_special_requests       65229 non-null  int64  \n",
      " 24  total_nights                    65229 non-null  int64  \n",
      "dtypes: float64(4), int64(15), object(6)\n",
      "memory usage: 12.4+ MB\n"
     ]
    }
   ],
   "source": [
    "htrain.info()"
   ]
  },
  {
   "cell_type": "code",
   "execution_count": 9,
   "metadata": {},
   "outputs": [
    {
     "name": "stdout",
     "output_type": "stream",
     "text": [
      "<class 'pandas.core.frame.DataFrame'>\n",
      "RangeIndex: 32412 entries, 0 to 32411\n",
      "Data columns (total 25 columns):\n",
      " #   Column                          Non-Null Count  Dtype  \n",
      "---  ------                          --------------  -----  \n",
      " 0   id                              32412 non-null  int64  \n",
      " 1   is_canceled                     32412 non-null  int64  \n",
      " 2   lead_time                       32412 non-null  float64\n",
      " 3   arrival_date_year               32412 non-null  int64  \n",
      " 4   arrival_date_month              32412 non-null  object \n",
      " 5   arrival_date_week_number        32412 non-null  int64  \n",
      " 6   arrival_date_day_of_month       32412 non-null  int64  \n",
      " 7   stays_in_weekend_nights         32412 non-null  int64  \n",
      " 8   stays_in_week_nights            32412 non-null  int64  \n",
      " 9   adults                          32412 non-null  float64\n",
      " 10  children                        32412 non-null  float64\n",
      " 11  babies                          32412 non-null  float64\n",
      " 12  meal                            32412 non-null  object \n",
      " 13  country                         32412 non-null  object \n",
      " 14  distribution_channel            32412 non-null  object \n",
      " 15  is_repeated_guest               32412 non-null  int64  \n",
      " 16  previous_cancellations          32412 non-null  int64  \n",
      " 17  previous_bookings_not_canceled  32412 non-null  int64  \n",
      " 18  reserved_room_type              32412 non-null  object \n",
      " 19  booking_changes                 32412 non-null  int64  \n",
      " 20  days_in_waiting_list            32412 non-null  int64  \n",
      " 21  customer_type                   32412 non-null  object \n",
      " 22  required_car_parking_spaces     32412 non-null  int64  \n",
      " 23  total_of_special_requests       32412 non-null  int64  \n",
      " 24  total_nights                    32412 non-null  int64  \n",
      "dtypes: float64(4), int64(15), object(6)\n",
      "memory usage: 6.2+ MB\n"
     ]
    }
   ],
   "source": [
    "htest.info()"
   ]
  },
  {
   "cell_type": "code",
   "execution_count": 10,
   "metadata": {},
   "outputs": [
    {
     "data": {
      "text/html": [
       "<div>\n",
       "<style scoped>\n",
       "    .dataframe tbody tr th:only-of-type {\n",
       "        vertical-align: middle;\n",
       "    }\n",
       "\n",
       "    .dataframe tbody tr th {\n",
       "        vertical-align: top;\n",
       "    }\n",
       "\n",
       "    .dataframe thead th {\n",
       "        text-align: right;\n",
       "    }\n",
       "</style>\n",
       "<table border=\"1\" class=\"dataframe\">\n",
       "  <thead>\n",
       "    <tr style=\"text-align: right;\">\n",
       "      <th></th>\n",
       "      <th>id</th>\n",
       "      <th>is_canceled</th>\n",
       "      <th>lead_time</th>\n",
       "      <th>arrival_date_year</th>\n",
       "      <th>arrival_date_month</th>\n",
       "      <th>arrival_date_week_number</th>\n",
       "      <th>arrival_date_day_of_month</th>\n",
       "      <th>stays_in_weekend_nights</th>\n",
       "      <th>stays_in_week_nights</th>\n",
       "      <th>adults</th>\n",
       "      <th>...</th>\n",
       "      <th>is_repeated_guest</th>\n",
       "      <th>previous_cancellations</th>\n",
       "      <th>previous_bookings_not_canceled</th>\n",
       "      <th>reserved_room_type</th>\n",
       "      <th>booking_changes</th>\n",
       "      <th>days_in_waiting_list</th>\n",
       "      <th>customer_type</th>\n",
       "      <th>required_car_parking_spaces</th>\n",
       "      <th>total_of_special_requests</th>\n",
       "      <th>total_nights</th>\n",
       "    </tr>\n",
       "  </thead>\n",
       "  <tbody>\n",
       "    <tr>\n",
       "      <th>count</th>\n",
       "      <td>65229.000000</td>\n",
       "      <td>65229.000000</td>\n",
       "      <td>65229.000000</td>\n",
       "      <td>65229.000000</td>\n",
       "      <td>65229</td>\n",
       "      <td>65229.000000</td>\n",
       "      <td>65229.000000</td>\n",
       "      <td>65229.000000</td>\n",
       "      <td>65229.000000</td>\n",
       "      <td>65229.000000</td>\n",
       "      <td>...</td>\n",
       "      <td>65229.000000</td>\n",
       "      <td>65229.000000</td>\n",
       "      <td>65229.000000</td>\n",
       "      <td>65229</td>\n",
       "      <td>65229.000000</td>\n",
       "      <td>65229.000000</td>\n",
       "      <td>65229</td>\n",
       "      <td>65229.000000</td>\n",
       "      <td>65229.000000</td>\n",
       "      <td>65229.000000</td>\n",
       "    </tr>\n",
       "    <tr>\n",
       "      <th>unique</th>\n",
       "      <td>NaN</td>\n",
       "      <td>NaN</td>\n",
       "      <td>NaN</td>\n",
       "      <td>NaN</td>\n",
       "      <td>12</td>\n",
       "      <td>NaN</td>\n",
       "      <td>NaN</td>\n",
       "      <td>NaN</td>\n",
       "      <td>NaN</td>\n",
       "      <td>NaN</td>\n",
       "      <td>...</td>\n",
       "      <td>NaN</td>\n",
       "      <td>NaN</td>\n",
       "      <td>NaN</td>\n",
       "      <td>7</td>\n",
       "      <td>NaN</td>\n",
       "      <td>NaN</td>\n",
       "      <td>4</td>\n",
       "      <td>NaN</td>\n",
       "      <td>NaN</td>\n",
       "      <td>NaN</td>\n",
       "    </tr>\n",
       "    <tr>\n",
       "      <th>top</th>\n",
       "      <td>NaN</td>\n",
       "      <td>NaN</td>\n",
       "      <td>NaN</td>\n",
       "      <td>NaN</td>\n",
       "      <td>October</td>\n",
       "      <td>NaN</td>\n",
       "      <td>NaN</td>\n",
       "      <td>NaN</td>\n",
       "      <td>NaN</td>\n",
       "      <td>NaN</td>\n",
       "      <td>...</td>\n",
       "      <td>NaN</td>\n",
       "      <td>NaN</td>\n",
       "      <td>NaN</td>\n",
       "      <td>A</td>\n",
       "      <td>NaN</td>\n",
       "      <td>NaN</td>\n",
       "      <td>Transient</td>\n",
       "      <td>NaN</td>\n",
       "      <td>NaN</td>\n",
       "      <td>NaN</td>\n",
       "    </tr>\n",
       "    <tr>\n",
       "      <th>freq</th>\n",
       "      <td>NaN</td>\n",
       "      <td>NaN</td>\n",
       "      <td>NaN</td>\n",
       "      <td>NaN</td>\n",
       "      <td>9255</td>\n",
       "      <td>NaN</td>\n",
       "      <td>NaN</td>\n",
       "      <td>NaN</td>\n",
       "      <td>NaN</td>\n",
       "      <td>NaN</td>\n",
       "      <td>...</td>\n",
       "      <td>NaN</td>\n",
       "      <td>NaN</td>\n",
       "      <td>NaN</td>\n",
       "      <td>50501</td>\n",
       "      <td>NaN</td>\n",
       "      <td>NaN</td>\n",
       "      <td>45493</td>\n",
       "      <td>NaN</td>\n",
       "      <td>NaN</td>\n",
       "      <td>NaN</td>\n",
       "    </tr>\n",
       "    <tr>\n",
       "      <th>mean</th>\n",
       "      <td>43544.069172</td>\n",
       "      <td>0.368609</td>\n",
       "      <td>96.337917</td>\n",
       "      <td>2015.719021</td>\n",
       "      <td>NaN</td>\n",
       "      <td>31.339772</td>\n",
       "      <td>15.847813</td>\n",
       "      <td>0.825185</td>\n",
       "      <td>2.224793</td>\n",
       "      <td>1.836576</td>\n",
       "      <td>...</td>\n",
       "      <td>0.027151</td>\n",
       "      <td>0.128915</td>\n",
       "      <td>0.107713</td>\n",
       "      <td>NaN</td>\n",
       "      <td>0.194269</td>\n",
       "      <td>3.334422</td>\n",
       "      <td>NaN</td>\n",
       "      <td>0.056647</td>\n",
       "      <td>0.512763</td>\n",
       "      <td>3.049978</td>\n",
       "    </tr>\n",
       "    <tr>\n",
       "      <th>std</th>\n",
       "      <td>25614.858971</td>\n",
       "      <td>0.482431</td>\n",
       "      <td>96.127545</td>\n",
       "      <td>0.449481</td>\n",
       "      <td>NaN</td>\n",
       "      <td>13.464024</td>\n",
       "      <td>8.748182</td>\n",
       "      <td>0.853477</td>\n",
       "      <td>1.354992</td>\n",
       "      <td>0.480245</td>\n",
       "      <td>...</td>\n",
       "      <td>0.162523</td>\n",
       "      <td>0.965326</td>\n",
       "      <td>1.326638</td>\n",
       "      <td>NaN</td>\n",
       "      <td>0.593838</td>\n",
       "      <td>18.239606</td>\n",
       "      <td>NaN</td>\n",
       "      <td>0.232094</td>\n",
       "      <td>0.752590</td>\n",
       "      <td>1.738108</td>\n",
       "    </tr>\n",
       "    <tr>\n",
       "      <th>min</th>\n",
       "      <td>0.000000</td>\n",
       "      <td>0.000000</td>\n",
       "      <td>0.000000</td>\n",
       "      <td>2015.000000</td>\n",
       "      <td>NaN</td>\n",
       "      <td>1.000000</td>\n",
       "      <td>1.000000</td>\n",
       "      <td>0.000000</td>\n",
       "      <td>0.000000</td>\n",
       "      <td>0.000000</td>\n",
       "      <td>...</td>\n",
       "      <td>0.000000</td>\n",
       "      <td>0.000000</td>\n",
       "      <td>0.000000</td>\n",
       "      <td>NaN</td>\n",
       "      <td>0.000000</td>\n",
       "      <td>0.000000</td>\n",
       "      <td>NaN</td>\n",
       "      <td>0.000000</td>\n",
       "      <td>0.000000</td>\n",
       "      <td>1.000000</td>\n",
       "    </tr>\n",
       "    <tr>\n",
       "      <th>25%</th>\n",
       "      <td>19108.000000</td>\n",
       "      <td>0.000000</td>\n",
       "      <td>17.000000</td>\n",
       "      <td>2015.000000</td>\n",
       "      <td>NaN</td>\n",
       "      <td>21.000000</td>\n",
       "      <td>8.000000</td>\n",
       "      <td>0.000000</td>\n",
       "      <td>1.000000</td>\n",
       "      <td>2.000000</td>\n",
       "      <td>...</td>\n",
       "      <td>0.000000</td>\n",
       "      <td>0.000000</td>\n",
       "      <td>0.000000</td>\n",
       "      <td>NaN</td>\n",
       "      <td>0.000000</td>\n",
       "      <td>0.000000</td>\n",
       "      <td>NaN</td>\n",
       "      <td>0.000000</td>\n",
       "      <td>0.000000</td>\n",
       "      <td>2.000000</td>\n",
       "    </tr>\n",
       "    <tr>\n",
       "      <th>50%</th>\n",
       "      <td>40554.000000</td>\n",
       "      <td>0.000000</td>\n",
       "      <td>64.000000</td>\n",
       "      <td>2016.000000</td>\n",
       "      <td>NaN</td>\n",
       "      <td>34.000000</td>\n",
       "      <td>16.000000</td>\n",
       "      <td>1.000000</td>\n",
       "      <td>2.000000</td>\n",
       "      <td>2.000000</td>\n",
       "      <td>...</td>\n",
       "      <td>0.000000</td>\n",
       "      <td>0.000000</td>\n",
       "      <td>0.000000</td>\n",
       "      <td>NaN</td>\n",
       "      <td>0.000000</td>\n",
       "      <td>0.000000</td>\n",
       "      <td>NaN</td>\n",
       "      <td>0.000000</td>\n",
       "      <td>0.000000</td>\n",
       "      <td>3.000000</td>\n",
       "    </tr>\n",
       "    <tr>\n",
       "      <th>75%</th>\n",
       "      <td>67414.000000</td>\n",
       "      <td>1.000000</td>\n",
       "      <td>151.000000</td>\n",
       "      <td>2016.000000</td>\n",
       "      <td>NaN</td>\n",
       "      <td>42.000000</td>\n",
       "      <td>23.000000</td>\n",
       "      <td>2.000000</td>\n",
       "      <td>3.000000</td>\n",
       "      <td>2.000000</td>\n",
       "      <td>...</td>\n",
       "      <td>0.000000</td>\n",
       "      <td>0.000000</td>\n",
       "      <td>0.000000</td>\n",
       "      <td>NaN</td>\n",
       "      <td>0.000000</td>\n",
       "      <td>0.000000</td>\n",
       "      <td>NaN</td>\n",
       "      <td>0.000000</td>\n",
       "      <td>1.000000</td>\n",
       "      <td>4.000000</td>\n",
       "    </tr>\n",
       "    <tr>\n",
       "      <th>max</th>\n",
       "      <td>84121.000000</td>\n",
       "      <td>1.000000</td>\n",
       "      <td>374.000000</td>\n",
       "      <td>2016.000000</td>\n",
       "      <td>NaN</td>\n",
       "      <td>53.000000</td>\n",
       "      <td>31.000000</td>\n",
       "      <td>4.000000</td>\n",
       "      <td>6.000000</td>\n",
       "      <td>4.000000</td>\n",
       "      <td>...</td>\n",
       "      <td>1.000000</td>\n",
       "      <td>26.000000</td>\n",
       "      <td>58.000000</td>\n",
       "      <td>NaN</td>\n",
       "      <td>17.000000</td>\n",
       "      <td>259.000000</td>\n",
       "      <td>NaN</td>\n",
       "      <td>3.000000</td>\n",
       "      <td>5.000000</td>\n",
       "      <td>10.000000</td>\n",
       "    </tr>\n",
       "  </tbody>\n",
       "</table>\n",
       "<p>11 rows × 25 columns</p>\n",
       "</div>"
      ],
      "text/plain": [
       "                  id   is_canceled     lead_time  arrival_date_year  \\\n",
       "count   65229.000000  65229.000000  65229.000000       65229.000000   \n",
       "unique           NaN           NaN           NaN                NaN   \n",
       "top              NaN           NaN           NaN                NaN   \n",
       "freq             NaN           NaN           NaN                NaN   \n",
       "mean    43544.069172      0.368609     96.337917        2015.719021   \n",
       "std     25614.858971      0.482431     96.127545           0.449481   \n",
       "min         0.000000      0.000000      0.000000        2015.000000   \n",
       "25%     19108.000000      0.000000     17.000000        2015.000000   \n",
       "50%     40554.000000      0.000000     64.000000        2016.000000   \n",
       "75%     67414.000000      1.000000    151.000000        2016.000000   \n",
       "max     84121.000000      1.000000    374.000000        2016.000000   \n",
       "\n",
       "       arrival_date_month  arrival_date_week_number  \\\n",
       "count               65229              65229.000000   \n",
       "unique                 12                       NaN   \n",
       "top               October                       NaN   \n",
       "freq                 9255                       NaN   \n",
       "mean                  NaN                 31.339772   \n",
       "std                   NaN                 13.464024   \n",
       "min                   NaN                  1.000000   \n",
       "25%                   NaN                 21.000000   \n",
       "50%                   NaN                 34.000000   \n",
       "75%                   NaN                 42.000000   \n",
       "max                   NaN                 53.000000   \n",
       "\n",
       "        arrival_date_day_of_month  stays_in_weekend_nights  \\\n",
       "count                65229.000000             65229.000000   \n",
       "unique                        NaN                      NaN   \n",
       "top                           NaN                      NaN   \n",
       "freq                          NaN                      NaN   \n",
       "mean                    15.847813                 0.825185   \n",
       "std                      8.748182                 0.853477   \n",
       "min                      1.000000                 0.000000   \n",
       "25%                      8.000000                 0.000000   \n",
       "50%                     16.000000                 1.000000   \n",
       "75%                     23.000000                 2.000000   \n",
       "max                     31.000000                 4.000000   \n",
       "\n",
       "        stays_in_week_nights        adults  ...  is_repeated_guest  \\\n",
       "count           65229.000000  65229.000000  ...       65229.000000   \n",
       "unique                   NaN           NaN  ...                NaN   \n",
       "top                      NaN           NaN  ...                NaN   \n",
       "freq                     NaN           NaN  ...                NaN   \n",
       "mean                2.224793      1.836576  ...           0.027151   \n",
       "std                 1.354992      0.480245  ...           0.162523   \n",
       "min                 0.000000      0.000000  ...           0.000000   \n",
       "25%                 1.000000      2.000000  ...           0.000000   \n",
       "50%                 2.000000      2.000000  ...           0.000000   \n",
       "75%                 3.000000      2.000000  ...           0.000000   \n",
       "max                 6.000000      4.000000  ...           1.000000   \n",
       "\n",
       "        previous_cancellations previous_bookings_not_canceled  \\\n",
       "count             65229.000000                   65229.000000   \n",
       "unique                     NaN                            NaN   \n",
       "top                        NaN                            NaN   \n",
       "freq                       NaN                            NaN   \n",
       "mean                  0.128915                       0.107713   \n",
       "std                   0.965326                       1.326638   \n",
       "min                   0.000000                       0.000000   \n",
       "25%                   0.000000                       0.000000   \n",
       "50%                   0.000000                       0.000000   \n",
       "75%                   0.000000                       0.000000   \n",
       "max                  26.000000                      58.000000   \n",
       "\n",
       "       reserved_room_type booking_changes  days_in_waiting_list  \\\n",
       "count               65229    65229.000000          65229.000000   \n",
       "unique                  7             NaN                   NaN   \n",
       "top      A                            NaN                   NaN   \n",
       "freq                50501             NaN                   NaN   \n",
       "mean                  NaN        0.194269              3.334422   \n",
       "std                   NaN        0.593838             18.239606   \n",
       "min                   NaN        0.000000              0.000000   \n",
       "25%                   NaN        0.000000              0.000000   \n",
       "50%                   NaN        0.000000              0.000000   \n",
       "75%                   NaN        0.000000              0.000000   \n",
       "max                   NaN       17.000000            259.000000   \n",
       "\n",
       "        customer_type  required_car_parking_spaces total_of_special_requests  \\\n",
       "count           65229                 65229.000000              65229.000000   \n",
       "unique              4                          NaN                       NaN   \n",
       "top         Transient                          NaN                       NaN   \n",
       "freq            45493                          NaN                       NaN   \n",
       "mean              NaN                     0.056647                  0.512763   \n",
       "std               NaN                     0.232094                  0.752590   \n",
       "min               NaN                     0.000000                  0.000000   \n",
       "25%               NaN                     0.000000                  0.000000   \n",
       "50%               NaN                     0.000000                  0.000000   \n",
       "75%               NaN                     0.000000                  1.000000   \n",
       "max               NaN                     3.000000                  5.000000   \n",
       "\n",
       "        total_nights  \n",
       "count   65229.000000  \n",
       "unique           NaN  \n",
       "top              NaN  \n",
       "freq             NaN  \n",
       "mean        3.049978  \n",
       "std         1.738108  \n",
       "min         1.000000  \n",
       "25%         2.000000  \n",
       "50%         3.000000  \n",
       "75%         4.000000  \n",
       "max        10.000000  \n",
       "\n",
       "[11 rows x 25 columns]"
      ]
     },
     "execution_count": 10,
     "metadata": {},
     "output_type": "execute_result"
    }
   ],
   "source": [
    "htrain.describe(include = \"all\")"
   ]
  },
  {
   "cell_type": "code",
   "execution_count": 11,
   "metadata": {},
   "outputs": [
    {
     "data": {
      "text/html": [
       "<div>\n",
       "<style scoped>\n",
       "    .dataframe tbody tr th:only-of-type {\n",
       "        vertical-align: middle;\n",
       "    }\n",
       "\n",
       "    .dataframe tbody tr th {\n",
       "        vertical-align: top;\n",
       "    }\n",
       "\n",
       "    .dataframe thead th {\n",
       "        text-align: right;\n",
       "    }\n",
       "</style>\n",
       "<table border=\"1\" class=\"dataframe\">\n",
       "  <thead>\n",
       "    <tr style=\"text-align: right;\">\n",
       "      <th></th>\n",
       "      <th>id</th>\n",
       "      <th>is_canceled</th>\n",
       "      <th>lead_time</th>\n",
       "      <th>arrival_date_year</th>\n",
       "      <th>arrival_date_month</th>\n",
       "      <th>arrival_date_week_number</th>\n",
       "      <th>arrival_date_day_of_month</th>\n",
       "      <th>stays_in_weekend_nights</th>\n",
       "      <th>stays_in_week_nights</th>\n",
       "      <th>adults</th>\n",
       "      <th>...</th>\n",
       "      <th>is_repeated_guest</th>\n",
       "      <th>previous_cancellations</th>\n",
       "      <th>previous_bookings_not_canceled</th>\n",
       "      <th>reserved_room_type</th>\n",
       "      <th>booking_changes</th>\n",
       "      <th>days_in_waiting_list</th>\n",
       "      <th>customer_type</th>\n",
       "      <th>required_car_parking_spaces</th>\n",
       "      <th>total_of_special_requests</th>\n",
       "      <th>total_nights</th>\n",
       "    </tr>\n",
       "  </thead>\n",
       "  <tbody>\n",
       "    <tr>\n",
       "      <th>count</th>\n",
       "      <td>32412.000000</td>\n",
       "      <td>32412.000000</td>\n",
       "      <td>32412.000000</td>\n",
       "      <td>32412.0</td>\n",
       "      <td>32412</td>\n",
       "      <td>32412.000000</td>\n",
       "      <td>32412.000000</td>\n",
       "      <td>32412.000000</td>\n",
       "      <td>32412.00000</td>\n",
       "      <td>32412.000000</td>\n",
       "      <td>...</td>\n",
       "      <td>32412.000000</td>\n",
       "      <td>32412.000000</td>\n",
       "      <td>32412.000000</td>\n",
       "      <td>32412</td>\n",
       "      <td>32412.000000</td>\n",
       "      <td>32412.000000</td>\n",
       "      <td>32412</td>\n",
       "      <td>32412.000000</td>\n",
       "      <td>32412.000000</td>\n",
       "      <td>32412.000000</td>\n",
       "    </tr>\n",
       "    <tr>\n",
       "      <th>unique</th>\n",
       "      <td>NaN</td>\n",
       "      <td>NaN</td>\n",
       "      <td>NaN</td>\n",
       "      <td>NaN</td>\n",
       "      <td>8</td>\n",
       "      <td>NaN</td>\n",
       "      <td>NaN</td>\n",
       "      <td>NaN</td>\n",
       "      <td>NaN</td>\n",
       "      <td>NaN</td>\n",
       "      <td>...</td>\n",
       "      <td>NaN</td>\n",
       "      <td>NaN</td>\n",
       "      <td>NaN</td>\n",
       "      <td>7</td>\n",
       "      <td>NaN</td>\n",
       "      <td>NaN</td>\n",
       "      <td>4</td>\n",
       "      <td>NaN</td>\n",
       "      <td>NaN</td>\n",
       "      <td>NaN</td>\n",
       "    </tr>\n",
       "    <tr>\n",
       "      <th>top</th>\n",
       "      <td>NaN</td>\n",
       "      <td>NaN</td>\n",
       "      <td>NaN</td>\n",
       "      <td>NaN</td>\n",
       "      <td>May</td>\n",
       "      <td>NaN</td>\n",
       "      <td>NaN</td>\n",
       "      <td>NaN</td>\n",
       "      <td>NaN</td>\n",
       "      <td>NaN</td>\n",
       "      <td>...</td>\n",
       "      <td>NaN</td>\n",
       "      <td>NaN</td>\n",
       "      <td>NaN</td>\n",
       "      <td>A</td>\n",
       "      <td>NaN</td>\n",
       "      <td>NaN</td>\n",
       "      <td>Transient</td>\n",
       "      <td>NaN</td>\n",
       "      <td>NaN</td>\n",
       "      <td>NaN</td>\n",
       "    </tr>\n",
       "    <tr>\n",
       "      <th>freq</th>\n",
       "      <td>NaN</td>\n",
       "      <td>NaN</td>\n",
       "      <td>NaN</td>\n",
       "      <td>NaN</td>\n",
       "      <td>5262</td>\n",
       "      <td>NaN</td>\n",
       "      <td>NaN</td>\n",
       "      <td>NaN</td>\n",
       "      <td>NaN</td>\n",
       "      <td>NaN</td>\n",
       "      <td>...</td>\n",
       "      <td>NaN</td>\n",
       "      <td>NaN</td>\n",
       "      <td>NaN</td>\n",
       "      <td>23471</td>\n",
       "      <td>NaN</td>\n",
       "      <td>NaN</td>\n",
       "      <td>27461</td>\n",
       "      <td>NaN</td>\n",
       "      <td>NaN</td>\n",
       "      <td>NaN</td>\n",
       "    </tr>\n",
       "    <tr>\n",
       "      <th>mean</th>\n",
       "      <td>60131.505183</td>\n",
       "      <td>0.388467</td>\n",
       "      <td>97.587869</td>\n",
       "      <td>2017.0</td>\n",
       "      <td>NaN</td>\n",
       "      <td>17.804054</td>\n",
       "      <td>15.656948</td>\n",
       "      <td>0.867888</td>\n",
       "      <td>2.34009</td>\n",
       "      <td>1.858602</td>\n",
       "      <td>...</td>\n",
       "      <td>0.031377</td>\n",
       "      <td>0.011601</td>\n",
       "      <td>0.171418</td>\n",
       "      <td>NaN</td>\n",
       "      <td>0.216741</td>\n",
       "      <td>0.262341</td>\n",
       "      <td>NaN</td>\n",
       "      <td>0.046248</td>\n",
       "      <td>0.657781</td>\n",
       "      <td>3.207979</td>\n",
       "    </tr>\n",
       "    <tr>\n",
       "      <th>std</th>\n",
       "      <td>29953.586177</td>\n",
       "      <td>0.487409</td>\n",
       "      <td>86.507146</td>\n",
       "      <td>0.0</td>\n",
       "      <td>NaN</td>\n",
       "      <td>9.177384</td>\n",
       "      <td>8.766429</td>\n",
       "      <td>0.853394</td>\n",
       "      <td>1.37517</td>\n",
       "      <td>0.489341</td>\n",
       "      <td>...</td>\n",
       "      <td>0.174338</td>\n",
       "      <td>0.180473</td>\n",
       "      <td>1.875170</td>\n",
       "      <td>NaN</td>\n",
       "      <td>0.640551</td>\n",
       "      <td>4.733027</td>\n",
       "      <td>NaN</td>\n",
       "      <td>0.219367</td>\n",
       "      <td>0.834341</td>\n",
       "      <td>1.738683</td>\n",
       "    </tr>\n",
       "    <tr>\n",
       "      <th>min</th>\n",
       "      <td>6086.000000</td>\n",
       "      <td>0.000000</td>\n",
       "      <td>0.000000</td>\n",
       "      <td>2017.0</td>\n",
       "      <td>NaN</td>\n",
       "      <td>1.000000</td>\n",
       "      <td>1.000000</td>\n",
       "      <td>0.000000</td>\n",
       "      <td>0.00000</td>\n",
       "      <td>0.000000</td>\n",
       "      <td>...</td>\n",
       "      <td>0.000000</td>\n",
       "      <td>0.000000</td>\n",
       "      <td>0.000000</td>\n",
       "      <td>NaN</td>\n",
       "      <td>0.000000</td>\n",
       "      <td>0.000000</td>\n",
       "      <td>NaN</td>\n",
       "      <td>0.000000</td>\n",
       "      <td>0.000000</td>\n",
       "      <td>1.000000</td>\n",
       "    </tr>\n",
       "    <tr>\n",
       "      <th>25%</th>\n",
       "      <td>45291.750000</td>\n",
       "      <td>0.000000</td>\n",
       "      <td>23.000000</td>\n",
       "      <td>2017.0</td>\n",
       "      <td>NaN</td>\n",
       "      <td>10.000000</td>\n",
       "      <td>8.000000</td>\n",
       "      <td>0.000000</td>\n",
       "      <td>1.00000</td>\n",
       "      <td>2.000000</td>\n",
       "      <td>...</td>\n",
       "      <td>0.000000</td>\n",
       "      <td>0.000000</td>\n",
       "      <td>0.000000</td>\n",
       "      <td>NaN</td>\n",
       "      <td>0.000000</td>\n",
       "      <td>0.000000</td>\n",
       "      <td>NaN</td>\n",
       "      <td>0.000000</td>\n",
       "      <td>0.000000</td>\n",
       "      <td>2.000000</td>\n",
       "    </tr>\n",
       "    <tr>\n",
       "      <th>50%</th>\n",
       "      <td>53394.500000</td>\n",
       "      <td>0.000000</td>\n",
       "      <td>76.000000</td>\n",
       "      <td>2017.0</td>\n",
       "      <td>NaN</td>\n",
       "      <td>18.000000</td>\n",
       "      <td>15.500000</td>\n",
       "      <td>1.000000</td>\n",
       "      <td>2.00000</td>\n",
       "      <td>2.000000</td>\n",
       "      <td>...</td>\n",
       "      <td>0.000000</td>\n",
       "      <td>0.000000</td>\n",
       "      <td>0.000000</td>\n",
       "      <td>NaN</td>\n",
       "      <td>0.000000</td>\n",
       "      <td>0.000000</td>\n",
       "      <td>NaN</td>\n",
       "      <td>0.000000</td>\n",
       "      <td>0.000000</td>\n",
       "      <td>3.000000</td>\n",
       "    </tr>\n",
       "    <tr>\n",
       "      <th>75%</th>\n",
       "      <td>89800.250000</td>\n",
       "      <td>1.000000</td>\n",
       "      <td>155.000000</td>\n",
       "      <td>2017.0</td>\n",
       "      <td>NaN</td>\n",
       "      <td>25.000000</td>\n",
       "      <td>23.000000</td>\n",
       "      <td>2.000000</td>\n",
       "      <td>3.00000</td>\n",
       "      <td>2.000000</td>\n",
       "      <td>...</td>\n",
       "      <td>0.000000</td>\n",
       "      <td>0.000000</td>\n",
       "      <td>0.000000</td>\n",
       "      <td>NaN</td>\n",
       "      <td>0.000000</td>\n",
       "      <td>0.000000</td>\n",
       "      <td>NaN</td>\n",
       "      <td>0.000000</td>\n",
       "      <td>1.000000</td>\n",
       "      <td>4.000000</td>\n",
       "    </tr>\n",
       "    <tr>\n",
       "      <th>max</th>\n",
       "      <td>97903.000000</td>\n",
       "      <td>1.000000</td>\n",
       "      <td>373.000000</td>\n",
       "      <td>2017.0</td>\n",
       "      <td>NaN</td>\n",
       "      <td>35.000000</td>\n",
       "      <td>31.000000</td>\n",
       "      <td>4.000000</td>\n",
       "      <td>6.00000</td>\n",
       "      <td>4.000000</td>\n",
       "      <td>...</td>\n",
       "      <td>1.000000</td>\n",
       "      <td>6.000000</td>\n",
       "      <td>72.000000</td>\n",
       "      <td>NaN</td>\n",
       "      <td>18.000000</td>\n",
       "      <td>223.000000</td>\n",
       "      <td>NaN</td>\n",
       "      <td>8.000000</td>\n",
       "      <td>5.000000</td>\n",
       "      <td>10.000000</td>\n",
       "    </tr>\n",
       "  </tbody>\n",
       "</table>\n",
       "<p>11 rows × 25 columns</p>\n",
       "</div>"
      ],
      "text/plain": [
       "                  id   is_canceled     lead_time  arrival_date_year  \\\n",
       "count   32412.000000  32412.000000  32412.000000            32412.0   \n",
       "unique           NaN           NaN           NaN                NaN   \n",
       "top              NaN           NaN           NaN                NaN   \n",
       "freq             NaN           NaN           NaN                NaN   \n",
       "mean    60131.505183      0.388467     97.587869             2017.0   \n",
       "std     29953.586177      0.487409     86.507146                0.0   \n",
       "min      6086.000000      0.000000      0.000000             2017.0   \n",
       "25%     45291.750000      0.000000     23.000000             2017.0   \n",
       "50%     53394.500000      0.000000     76.000000             2017.0   \n",
       "75%     89800.250000      1.000000    155.000000             2017.0   \n",
       "max     97903.000000      1.000000    373.000000             2017.0   \n",
       "\n",
       "       arrival_date_month  arrival_date_week_number  \\\n",
       "count               32412              32412.000000   \n",
       "unique                  8                       NaN   \n",
       "top                   May                       NaN   \n",
       "freq                 5262                       NaN   \n",
       "mean                  NaN                 17.804054   \n",
       "std                   NaN                  9.177384   \n",
       "min                   NaN                  1.000000   \n",
       "25%                   NaN                 10.000000   \n",
       "50%                   NaN                 18.000000   \n",
       "75%                   NaN                 25.000000   \n",
       "max                   NaN                 35.000000   \n",
       "\n",
       "        arrival_date_day_of_month  stays_in_weekend_nights  \\\n",
       "count                32412.000000             32412.000000   \n",
       "unique                        NaN                      NaN   \n",
       "top                           NaN                      NaN   \n",
       "freq                          NaN                      NaN   \n",
       "mean                    15.656948                 0.867888   \n",
       "std                      8.766429                 0.853394   \n",
       "min                      1.000000                 0.000000   \n",
       "25%                      8.000000                 0.000000   \n",
       "50%                     15.500000                 1.000000   \n",
       "75%                     23.000000                 2.000000   \n",
       "max                     31.000000                 4.000000   \n",
       "\n",
       "        stays_in_week_nights        adults  ...  is_repeated_guest  \\\n",
       "count            32412.00000  32412.000000  ...       32412.000000   \n",
       "unique                   NaN           NaN  ...                NaN   \n",
       "top                      NaN           NaN  ...                NaN   \n",
       "freq                     NaN           NaN  ...                NaN   \n",
       "mean                 2.34009      1.858602  ...           0.031377   \n",
       "std                  1.37517      0.489341  ...           0.174338   \n",
       "min                  0.00000      0.000000  ...           0.000000   \n",
       "25%                  1.00000      2.000000  ...           0.000000   \n",
       "50%                  2.00000      2.000000  ...           0.000000   \n",
       "75%                  3.00000      2.000000  ...           0.000000   \n",
       "max                  6.00000      4.000000  ...           1.000000   \n",
       "\n",
       "        previous_cancellations previous_bookings_not_canceled  \\\n",
       "count             32412.000000                   32412.000000   \n",
       "unique                     NaN                            NaN   \n",
       "top                        NaN                            NaN   \n",
       "freq                       NaN                            NaN   \n",
       "mean                  0.011601                       0.171418   \n",
       "std                   0.180473                       1.875170   \n",
       "min                   0.000000                       0.000000   \n",
       "25%                   0.000000                       0.000000   \n",
       "50%                   0.000000                       0.000000   \n",
       "75%                   0.000000                       0.000000   \n",
       "max                   6.000000                      72.000000   \n",
       "\n",
       "       reserved_room_type booking_changes  days_in_waiting_list  \\\n",
       "count               32412    32412.000000          32412.000000   \n",
       "unique                  7             NaN                   NaN   \n",
       "top      A                            NaN                   NaN   \n",
       "freq                23471             NaN                   NaN   \n",
       "mean                  NaN        0.216741              0.262341   \n",
       "std                   NaN        0.640551              4.733027   \n",
       "min                   NaN        0.000000              0.000000   \n",
       "25%                   NaN        0.000000              0.000000   \n",
       "50%                   NaN        0.000000              0.000000   \n",
       "75%                   NaN        0.000000              0.000000   \n",
       "max                   NaN       18.000000            223.000000   \n",
       "\n",
       "        customer_type  required_car_parking_spaces total_of_special_requests  \\\n",
       "count           32412                 32412.000000              32412.000000   \n",
       "unique              4                          NaN                       NaN   \n",
       "top         Transient                          NaN                       NaN   \n",
       "freq            27461                          NaN                       NaN   \n",
       "mean              NaN                     0.046248                  0.657781   \n",
       "std               NaN                     0.219367                  0.834341   \n",
       "min               NaN                     0.000000                  0.000000   \n",
       "25%               NaN                     0.000000                  0.000000   \n",
       "50%               NaN                     0.000000                  0.000000   \n",
       "75%               NaN                     0.000000                  1.000000   \n",
       "max               NaN                     8.000000                  5.000000   \n",
       "\n",
       "        total_nights  \n",
       "count   32412.000000  \n",
       "unique           NaN  \n",
       "top              NaN  \n",
       "freq             NaN  \n",
       "mean        3.207979  \n",
       "std         1.738683  \n",
       "min         1.000000  \n",
       "25%         2.000000  \n",
       "50%         3.000000  \n",
       "75%         4.000000  \n",
       "max        10.000000  \n",
       "\n",
       "[11 rows x 25 columns]"
      ]
     },
     "execution_count": 11,
     "metadata": {},
     "output_type": "execute_result"
    }
   ],
   "source": [
    "htest.describe(include = \"all\")"
   ]
  },
  {
   "cell_type": "markdown",
   "metadata": {},
   "source": [
    "Данные открыты, можно приступать к обработке."
   ]
  },
  {
   "cell_type": "markdown",
   "metadata": {},
   "source": [
    "<div class=\"alert alert-success\">\n",
    "<h2>Комментарий ревьюера<a class=\"tocSkip\"></a></h2>\n",
    "    \n",
    "**Отлично!** ✔️: данные на месте!</div>"
   ]
  },
  {
   "cell_type": "markdown",
   "metadata": {},
   "source": [
    "### Шаг 2. Предобработка и исследовательский анализ данных"
   ]
  },
  {
   "cell_type": "markdown",
   "metadata": {},
   "source": [
    "На этом этапе посмотрим на пропущенные значения, проверим дупликаты и посомтрим на корреляции, может найдём закономерности."
   ]
  },
  {
   "cell_type": "markdown",
   "metadata": {},
   "source": [
    "#### Предобработка"
   ]
  },
  {
   "cell_type": "code",
   "execution_count": 12,
   "metadata": {},
   "outputs": [
    {
     "name": "stdout",
     "output_type": "stream",
     "text": [
      "id                                0\n",
      "is_canceled                       0\n",
      "lead_time                         0\n",
      "arrival_date_year                 0\n",
      "arrival_date_month                0\n",
      "arrival_date_week_number          0\n",
      "arrival_date_day_of_month         0\n",
      "stays_in_weekend_nights           0\n",
      "stays_in_week_nights              0\n",
      "adults                            0\n",
      "children                          0\n",
      "babies                            0\n",
      "meal                              0\n",
      "country                           0\n",
      "distribution_channel              0\n",
      "is_repeated_guest                 0\n",
      "previous_cancellations            0\n",
      "previous_bookings_not_canceled    0\n",
      "reserved_room_type                0\n",
      "booking_changes                   0\n",
      "days_in_waiting_list              0\n",
      "customer_type                     0\n",
      "required_car_parking_spaces       0\n",
      "total_of_special_requests         0\n",
      "total_nights                      0\n",
      "dtype: int64\n",
      "\n",
      "id                                0\n",
      "is_canceled                       0\n",
      "lead_time                         0\n",
      "arrival_date_year                 0\n",
      "arrival_date_month                0\n",
      "arrival_date_week_number          0\n",
      "arrival_date_day_of_month         0\n",
      "stays_in_weekend_nights           0\n",
      "stays_in_week_nights              0\n",
      "adults                            0\n",
      "children                          0\n",
      "babies                            0\n",
      "meal                              0\n",
      "country                           0\n",
      "distribution_channel              0\n",
      "is_repeated_guest                 0\n",
      "previous_cancellations            0\n",
      "previous_bookings_not_canceled    0\n",
      "reserved_room_type                0\n",
      "booking_changes                   0\n",
      "days_in_waiting_list              0\n",
      "customer_type                     0\n",
      "required_car_parking_spaces       0\n",
      "total_of_special_requests         0\n",
      "total_nights                      0\n",
      "dtype: int64\n",
      "\n"
     ]
    }
   ],
   "source": [
    "for h in hotels:\n",
    "    print(h.isna().sum(), end='\\n\\n')"
   ]
  },
  {
   "cell_type": "code",
   "execution_count": 13,
   "metadata": {},
   "outputs": [
    {
     "data": {
      "text/html": [
       "<div>\n",
       "<style scoped>\n",
       "    .dataframe tbody tr th:only-of-type {\n",
       "        vertical-align: middle;\n",
       "    }\n",
       "\n",
       "    .dataframe tbody tr th {\n",
       "        vertical-align: top;\n",
       "    }\n",
       "\n",
       "    .dataframe thead th {\n",
       "        text-align: right;\n",
       "    }\n",
       "</style>\n",
       "<table border=\"1\" class=\"dataframe\">\n",
       "  <thead>\n",
       "    <tr style=\"text-align: right;\">\n",
       "      <th></th>\n",
       "      <th>id</th>\n",
       "      <th>is_canceled</th>\n",
       "      <th>lead_time</th>\n",
       "      <th>arrival_date_year</th>\n",
       "      <th>arrival_date_month</th>\n",
       "      <th>arrival_date_week_number</th>\n",
       "      <th>arrival_date_day_of_month</th>\n",
       "      <th>stays_in_weekend_nights</th>\n",
       "      <th>stays_in_week_nights</th>\n",
       "      <th>adults</th>\n",
       "      <th>...</th>\n",
       "      <th>is_repeated_guest</th>\n",
       "      <th>previous_cancellations</th>\n",
       "      <th>previous_bookings_not_canceled</th>\n",
       "      <th>reserved_room_type</th>\n",
       "      <th>booking_changes</th>\n",
       "      <th>days_in_waiting_list</th>\n",
       "      <th>customer_type</th>\n",
       "      <th>required_car_parking_spaces</th>\n",
       "      <th>total_of_special_requests</th>\n",
       "      <th>total_nights</th>\n",
       "    </tr>\n",
       "  </thead>\n",
       "  <tbody>\n",
       "  </tbody>\n",
       "</table>\n",
       "<p>0 rows × 25 columns</p>\n",
       "</div>"
      ],
      "text/plain": [
       "Empty DataFrame\n",
       "Columns: [id, is_canceled, lead_time, arrival_date_year, arrival_date_month, arrival_date_week_number, arrival_date_day_of_month, stays_in_weekend_nights, stays_in_week_nights, adults, children, babies, meal, country, distribution_channel, is_repeated_guest, previous_cancellations, previous_bookings_not_canceled, reserved_room_type, booking_changes, days_in_waiting_list, customer_type, required_car_parking_spaces, total_of_special_requests, total_nights]\n",
       "Index: []\n",
       "\n",
       "[0 rows x 25 columns]"
      ]
     },
     "metadata": {},
     "output_type": "display_data"
    },
    {
     "data": {
      "text/html": [
       "<div>\n",
       "<style scoped>\n",
       "    .dataframe tbody tr th:only-of-type {\n",
       "        vertical-align: middle;\n",
       "    }\n",
       "\n",
       "    .dataframe tbody tr th {\n",
       "        vertical-align: top;\n",
       "    }\n",
       "\n",
       "    .dataframe thead th {\n",
       "        text-align: right;\n",
       "    }\n",
       "</style>\n",
       "<table border=\"1\" class=\"dataframe\">\n",
       "  <thead>\n",
       "    <tr style=\"text-align: right;\">\n",
       "      <th></th>\n",
       "      <th>id</th>\n",
       "      <th>is_canceled</th>\n",
       "      <th>lead_time</th>\n",
       "      <th>arrival_date_year</th>\n",
       "      <th>arrival_date_month</th>\n",
       "      <th>arrival_date_week_number</th>\n",
       "      <th>arrival_date_day_of_month</th>\n",
       "      <th>stays_in_weekend_nights</th>\n",
       "      <th>stays_in_week_nights</th>\n",
       "      <th>adults</th>\n",
       "      <th>...</th>\n",
       "      <th>is_repeated_guest</th>\n",
       "      <th>previous_cancellations</th>\n",
       "      <th>previous_bookings_not_canceled</th>\n",
       "      <th>reserved_room_type</th>\n",
       "      <th>booking_changes</th>\n",
       "      <th>days_in_waiting_list</th>\n",
       "      <th>customer_type</th>\n",
       "      <th>required_car_parking_spaces</th>\n",
       "      <th>total_of_special_requests</th>\n",
       "      <th>total_nights</th>\n",
       "    </tr>\n",
       "  </thead>\n",
       "  <tbody>\n",
       "  </tbody>\n",
       "</table>\n",
       "<p>0 rows × 25 columns</p>\n",
       "</div>"
      ],
      "text/plain": [
       "Empty DataFrame\n",
       "Columns: [id, is_canceled, lead_time, arrival_date_year, arrival_date_month, arrival_date_week_number, arrival_date_day_of_month, stays_in_weekend_nights, stays_in_week_nights, adults, children, babies, meal, country, distribution_channel, is_repeated_guest, previous_cancellations, previous_bookings_not_canceled, reserved_room_type, booking_changes, days_in_waiting_list, customer_type, required_car_parking_spaces, total_of_special_requests, total_nights]\n",
       "Index: []\n",
       "\n",
       "[0 rows x 25 columns]"
      ]
     },
     "metadata": {},
     "output_type": "display_data"
    }
   ],
   "source": [
    "for h in hotels:\n",
    "    duplicateRows = h[h.duplicated()]\n",
    "    display(duplicateRows)"
   ]
  },
  {
   "cell_type": "markdown",
   "metadata": {},
   "source": [
    "<div class=\"alert alert-warning\">\n",
    "<h2>Комментарий ревьюера<a class=\"tocSkip\"></a></h2>\n",
    "    \n",
    "**Есть совет** ⚠️: еще стоит проверить наличие полных дубликатов после удаления id</div>"
   ]
  },
  {
   "cell_type": "code",
   "execution_count": 14,
   "metadata": {},
   "outputs": [],
   "source": [
    "for hot in hotels:\n",
    "    hot.drop('id', axis=1, inplace=True) # уберём ненужный столбец"
   ]
  },
  {
   "cell_type": "code",
   "execution_count": 15,
   "metadata": {},
   "outputs": [
    {
     "data": {
      "text/html": [
       "<div>\n",
       "<style scoped>\n",
       "    .dataframe tbody tr th:only-of-type {\n",
       "        vertical-align: middle;\n",
       "    }\n",
       "\n",
       "    .dataframe tbody tr th {\n",
       "        vertical-align: top;\n",
       "    }\n",
       "\n",
       "    .dataframe thead th {\n",
       "        text-align: right;\n",
       "    }\n",
       "</style>\n",
       "<table border=\"1\" class=\"dataframe\">\n",
       "  <thead>\n",
       "    <tr style=\"text-align: right;\">\n",
       "      <th></th>\n",
       "      <th>is_canceled</th>\n",
       "      <th>lead_time</th>\n",
       "      <th>arrival_date_year</th>\n",
       "      <th>arrival_date_month</th>\n",
       "      <th>arrival_date_week_number</th>\n",
       "      <th>arrival_date_day_of_month</th>\n",
       "      <th>stays_in_weekend_nights</th>\n",
       "      <th>stays_in_week_nights</th>\n",
       "      <th>adults</th>\n",
       "      <th>children</th>\n",
       "      <th>...</th>\n",
       "      <th>is_repeated_guest</th>\n",
       "      <th>previous_cancellations</th>\n",
       "      <th>previous_bookings_not_canceled</th>\n",
       "      <th>reserved_room_type</th>\n",
       "      <th>booking_changes</th>\n",
       "      <th>days_in_waiting_list</th>\n",
       "      <th>customer_type</th>\n",
       "      <th>required_car_parking_spaces</th>\n",
       "      <th>total_of_special_requests</th>\n",
       "      <th>total_nights</th>\n",
       "    </tr>\n",
       "  </thead>\n",
       "  <tbody>\n",
       "    <tr>\n",
       "      <th>13</th>\n",
       "      <td>0</td>\n",
       "      <td>72.0</td>\n",
       "      <td>2015</td>\n",
       "      <td>July</td>\n",
       "      <td>27</td>\n",
       "      <td>1</td>\n",
       "      <td>2</td>\n",
       "      <td>4</td>\n",
       "      <td>2.0</td>\n",
       "      <td>0.0</td>\n",
       "      <td>...</td>\n",
       "      <td>0</td>\n",
       "      <td>0</td>\n",
       "      <td>0</td>\n",
       "      <td>A</td>\n",
       "      <td>1</td>\n",
       "      <td>0</td>\n",
       "      <td>Transient</td>\n",
       "      <td>0</td>\n",
       "      <td>1</td>\n",
       "      <td>6</td>\n",
       "    </tr>\n",
       "    <tr>\n",
       "      <th>85</th>\n",
       "      <td>1</td>\n",
       "      <td>5.0</td>\n",
       "      <td>2015</td>\n",
       "      <td>July</td>\n",
       "      <td>28</td>\n",
       "      <td>5</td>\n",
       "      <td>1</td>\n",
       "      <td>0</td>\n",
       "      <td>2.0</td>\n",
       "      <td>0.0</td>\n",
       "      <td>...</td>\n",
       "      <td>0</td>\n",
       "      <td>0</td>\n",
       "      <td>0</td>\n",
       "      <td>D</td>\n",
       "      <td>0</td>\n",
       "      <td>0</td>\n",
       "      <td>Transient</td>\n",
       "      <td>0</td>\n",
       "      <td>0</td>\n",
       "      <td>1</td>\n",
       "    </tr>\n",
       "    <tr>\n",
       "      <th>115</th>\n",
       "      <td>0</td>\n",
       "      <td>0.0</td>\n",
       "      <td>2015</td>\n",
       "      <td>July</td>\n",
       "      <td>28</td>\n",
       "      <td>7</td>\n",
       "      <td>0</td>\n",
       "      <td>1</td>\n",
       "      <td>1.0</td>\n",
       "      <td>0.0</td>\n",
       "      <td>...</td>\n",
       "      <td>0</td>\n",
       "      <td>0</td>\n",
       "      <td>0</td>\n",
       "      <td>A</td>\n",
       "      <td>0</td>\n",
       "      <td>0</td>\n",
       "      <td>Transient</td>\n",
       "      <td>0</td>\n",
       "      <td>3</td>\n",
       "      <td>1</td>\n",
       "    </tr>\n",
       "    <tr>\n",
       "      <th>127</th>\n",
       "      <td>1</td>\n",
       "      <td>1.0</td>\n",
       "      <td>2015</td>\n",
       "      <td>July</td>\n",
       "      <td>28</td>\n",
       "      <td>8</td>\n",
       "      <td>0</td>\n",
       "      <td>1</td>\n",
       "      <td>2.0</td>\n",
       "      <td>0.0</td>\n",
       "      <td>...</td>\n",
       "      <td>0</td>\n",
       "      <td>0</td>\n",
       "      <td>0</td>\n",
       "      <td>A</td>\n",
       "      <td>0</td>\n",
       "      <td>0</td>\n",
       "      <td>Transient</td>\n",
       "      <td>0</td>\n",
       "      <td>1</td>\n",
       "      <td>1</td>\n",
       "    </tr>\n",
       "    <tr>\n",
       "      <th>219</th>\n",
       "      <td>0</td>\n",
       "      <td>40.0</td>\n",
       "      <td>2015</td>\n",
       "      <td>July</td>\n",
       "      <td>29</td>\n",
       "      <td>13</td>\n",
       "      <td>1</td>\n",
       "      <td>4</td>\n",
       "      <td>2.0</td>\n",
       "      <td>0.0</td>\n",
       "      <td>...</td>\n",
       "      <td>0</td>\n",
       "      <td>0</td>\n",
       "      <td>0</td>\n",
       "      <td>D</td>\n",
       "      <td>0</td>\n",
       "      <td>0</td>\n",
       "      <td>Transient</td>\n",
       "      <td>0</td>\n",
       "      <td>2</td>\n",
       "      <td>5</td>\n",
       "    </tr>\n",
       "    <tr>\n",
       "      <th>...</th>\n",
       "      <td>...</td>\n",
       "      <td>...</td>\n",
       "      <td>...</td>\n",
       "      <td>...</td>\n",
       "      <td>...</td>\n",
       "      <td>...</td>\n",
       "      <td>...</td>\n",
       "      <td>...</td>\n",
       "      <td>...</td>\n",
       "      <td>...</td>\n",
       "      <td>...</td>\n",
       "      <td>...</td>\n",
       "      <td>...</td>\n",
       "      <td>...</td>\n",
       "      <td>...</td>\n",
       "      <td>...</td>\n",
       "      <td>...</td>\n",
       "      <td>...</td>\n",
       "      <td>...</td>\n",
       "      <td>...</td>\n",
       "      <td>...</td>\n",
       "    </tr>\n",
       "    <tr>\n",
       "      <th>65188</th>\n",
       "      <td>0</td>\n",
       "      <td>269.0</td>\n",
       "      <td>2016</td>\n",
       "      <td>December</td>\n",
       "      <td>53</td>\n",
       "      <td>29</td>\n",
       "      <td>2</td>\n",
       "      <td>3</td>\n",
       "      <td>1.0</td>\n",
       "      <td>0.0</td>\n",
       "      <td>...</td>\n",
       "      <td>0</td>\n",
       "      <td>0</td>\n",
       "      <td>0</td>\n",
       "      <td>A</td>\n",
       "      <td>0</td>\n",
       "      <td>0</td>\n",
       "      <td>Transient-Party</td>\n",
       "      <td>0</td>\n",
       "      <td>0</td>\n",
       "      <td>5</td>\n",
       "    </tr>\n",
       "    <tr>\n",
       "      <th>65189</th>\n",
       "      <td>0</td>\n",
       "      <td>269.0</td>\n",
       "      <td>2016</td>\n",
       "      <td>December</td>\n",
       "      <td>53</td>\n",
       "      <td>29</td>\n",
       "      <td>2</td>\n",
       "      <td>3</td>\n",
       "      <td>1.0</td>\n",
       "      <td>0.0</td>\n",
       "      <td>...</td>\n",
       "      <td>0</td>\n",
       "      <td>0</td>\n",
       "      <td>0</td>\n",
       "      <td>A</td>\n",
       "      <td>0</td>\n",
       "      <td>0</td>\n",
       "      <td>Transient-Party</td>\n",
       "      <td>0</td>\n",
       "      <td>0</td>\n",
       "      <td>5</td>\n",
       "    </tr>\n",
       "    <tr>\n",
       "      <th>65192</th>\n",
       "      <td>0</td>\n",
       "      <td>269.0</td>\n",
       "      <td>2016</td>\n",
       "      <td>December</td>\n",
       "      <td>53</td>\n",
       "      <td>29</td>\n",
       "      <td>2</td>\n",
       "      <td>3</td>\n",
       "      <td>1.0</td>\n",
       "      <td>0.0</td>\n",
       "      <td>...</td>\n",
       "      <td>0</td>\n",
       "      <td>0</td>\n",
       "      <td>0</td>\n",
       "      <td>A</td>\n",
       "      <td>0</td>\n",
       "      <td>0</td>\n",
       "      <td>Transient-Party</td>\n",
       "      <td>0</td>\n",
       "      <td>0</td>\n",
       "      <td>5</td>\n",
       "    </tr>\n",
       "    <tr>\n",
       "      <th>65193</th>\n",
       "      <td>0</td>\n",
       "      <td>269.0</td>\n",
       "      <td>2016</td>\n",
       "      <td>December</td>\n",
       "      <td>53</td>\n",
       "      <td>29</td>\n",
       "      <td>2</td>\n",
       "      <td>3</td>\n",
       "      <td>1.0</td>\n",
       "      <td>0.0</td>\n",
       "      <td>...</td>\n",
       "      <td>0</td>\n",
       "      <td>0</td>\n",
       "      <td>0</td>\n",
       "      <td>A</td>\n",
       "      <td>0</td>\n",
       "      <td>0</td>\n",
       "      <td>Transient-Party</td>\n",
       "      <td>0</td>\n",
       "      <td>1</td>\n",
       "      <td>5</td>\n",
       "    </tr>\n",
       "    <tr>\n",
       "      <th>65202</th>\n",
       "      <td>0</td>\n",
       "      <td>291.0</td>\n",
       "      <td>2016</td>\n",
       "      <td>December</td>\n",
       "      <td>53</td>\n",
       "      <td>28</td>\n",
       "      <td>2</td>\n",
       "      <td>4</td>\n",
       "      <td>2.0</td>\n",
       "      <td>0.0</td>\n",
       "      <td>...</td>\n",
       "      <td>0</td>\n",
       "      <td>0</td>\n",
       "      <td>0</td>\n",
       "      <td>A</td>\n",
       "      <td>2</td>\n",
       "      <td>0</td>\n",
       "      <td>Transient</td>\n",
       "      <td>0</td>\n",
       "      <td>2</td>\n",
       "      <td>6</td>\n",
       "    </tr>\n",
       "  </tbody>\n",
       "</table>\n",
       "<p>21377 rows × 24 columns</p>\n",
       "</div>"
      ],
      "text/plain": [
       "       is_canceled  lead_time  arrival_date_year arrival_date_month  \\\n",
       "13               0       72.0               2015               July   \n",
       "85               1        5.0               2015               July   \n",
       "115              0        0.0               2015               July   \n",
       "127              1        1.0               2015               July   \n",
       "219              0       40.0               2015               July   \n",
       "...            ...        ...                ...                ...   \n",
       "65188            0      269.0               2016           December   \n",
       "65189            0      269.0               2016           December   \n",
       "65192            0      269.0               2016           December   \n",
       "65193            0      269.0               2016           December   \n",
       "65202            0      291.0               2016           December   \n",
       "\n",
       "       arrival_date_week_number  arrival_date_day_of_month  \\\n",
       "13                           27                          1   \n",
       "85                           28                          5   \n",
       "115                          28                          7   \n",
       "127                          28                          8   \n",
       "219                          29                         13   \n",
       "...                         ...                        ...   \n",
       "65188                        53                         29   \n",
       "65189                        53                         29   \n",
       "65192                        53                         29   \n",
       "65193                        53                         29   \n",
       "65202                        53                         28   \n",
       "\n",
       "       stays_in_weekend_nights  stays_in_week_nights  adults  children  ...  \\\n",
       "13                           2                     4     2.0       0.0  ...   \n",
       "85                           1                     0     2.0       0.0  ...   \n",
       "115                          0                     1     1.0       0.0  ...   \n",
       "127                          0                     1     2.0       0.0  ...   \n",
       "219                          1                     4     2.0       0.0  ...   \n",
       "...                        ...                   ...     ...       ...  ...   \n",
       "65188                        2                     3     1.0       0.0  ...   \n",
       "65189                        2                     3     1.0       0.0  ...   \n",
       "65192                        2                     3     1.0       0.0  ...   \n",
       "65193                        2                     3     1.0       0.0  ...   \n",
       "65202                        2                     4     2.0       0.0  ...   \n",
       "\n",
       "       is_repeated_guest previous_cancellations  \\\n",
       "13                     0                      0   \n",
       "85                     0                      0   \n",
       "115                    0                      0   \n",
       "127                    0                      0   \n",
       "219                    0                      0   \n",
       "...                  ...                    ...   \n",
       "65188                  0                      0   \n",
       "65189                  0                      0   \n",
       "65192                  0                      0   \n",
       "65193                  0                      0   \n",
       "65202                  0                      0   \n",
       "\n",
       "      previous_bookings_not_canceled reserved_room_type  booking_changes  \\\n",
       "13                                 0   A                               1   \n",
       "85                                 0   D                               0   \n",
       "115                                0   A                               0   \n",
       "127                                0   A                               0   \n",
       "219                                0   D                               0   \n",
       "...                              ...                ...              ...   \n",
       "65188                              0   A                               0   \n",
       "65189                              0   A                               0   \n",
       "65192                              0   A                               0   \n",
       "65193                              0   A                               0   \n",
       "65202                              0   A                               2   \n",
       "\n",
       "       days_in_waiting_list    customer_type required_car_parking_spaces  \\\n",
       "13                        0        Transient                           0   \n",
       "85                        0        Transient                           0   \n",
       "115                       0        Transient                           0   \n",
       "127                       0        Transient                           0   \n",
       "219                       0        Transient                           0   \n",
       "...                     ...              ...                         ...   \n",
       "65188                     0  Transient-Party                           0   \n",
       "65189                     0  Transient-Party                           0   \n",
       "65192                     0  Transient-Party                           0   \n",
       "65193                     0  Transient-Party                           0   \n",
       "65202                     0        Transient                           0   \n",
       "\n",
       "       total_of_special_requests  total_nights  \n",
       "13                             1             6  \n",
       "85                             0             1  \n",
       "115                            3             1  \n",
       "127                            1             1  \n",
       "219                            2             5  \n",
       "...                          ...           ...  \n",
       "65188                          0             5  \n",
       "65189                          0             5  \n",
       "65192                          0             5  \n",
       "65193                          1             5  \n",
       "65202                          2             6  \n",
       "\n",
       "[21377 rows x 24 columns]"
      ]
     },
     "metadata": {},
     "output_type": "display_data"
    },
    {
     "data": {
      "text/html": [
       "<div>\n",
       "<style scoped>\n",
       "    .dataframe tbody tr th:only-of-type {\n",
       "        vertical-align: middle;\n",
       "    }\n",
       "\n",
       "    .dataframe tbody tr th {\n",
       "        vertical-align: top;\n",
       "    }\n",
       "\n",
       "    .dataframe thead th {\n",
       "        text-align: right;\n",
       "    }\n",
       "</style>\n",
       "<table border=\"1\" class=\"dataframe\">\n",
       "  <thead>\n",
       "    <tr style=\"text-align: right;\">\n",
       "      <th></th>\n",
       "      <th>is_canceled</th>\n",
       "      <th>lead_time</th>\n",
       "      <th>arrival_date_year</th>\n",
       "      <th>arrival_date_month</th>\n",
       "      <th>arrival_date_week_number</th>\n",
       "      <th>arrival_date_day_of_month</th>\n",
       "      <th>stays_in_weekend_nights</th>\n",
       "      <th>stays_in_week_nights</th>\n",
       "      <th>adults</th>\n",
       "      <th>children</th>\n",
       "      <th>...</th>\n",
       "      <th>is_repeated_guest</th>\n",
       "      <th>previous_cancellations</th>\n",
       "      <th>previous_bookings_not_canceled</th>\n",
       "      <th>reserved_room_type</th>\n",
       "      <th>booking_changes</th>\n",
       "      <th>days_in_waiting_list</th>\n",
       "      <th>customer_type</th>\n",
       "      <th>required_car_parking_spaces</th>\n",
       "      <th>total_of_special_requests</th>\n",
       "      <th>total_nights</th>\n",
       "    </tr>\n",
       "  </thead>\n",
       "  <tbody>\n",
       "    <tr>\n",
       "      <th>2</th>\n",
       "      <td>1</td>\n",
       "      <td>62.0</td>\n",
       "      <td>2017</td>\n",
       "      <td>January</td>\n",
       "      <td>1</td>\n",
       "      <td>1</td>\n",
       "      <td>2</td>\n",
       "      <td>2</td>\n",
       "      <td>2.0</td>\n",
       "      <td>0.0</td>\n",
       "      <td>...</td>\n",
       "      <td>0</td>\n",
       "      <td>0</td>\n",
       "      <td>0</td>\n",
       "      <td>A</td>\n",
       "      <td>0</td>\n",
       "      <td>0</td>\n",
       "      <td>Transient</td>\n",
       "      <td>0</td>\n",
       "      <td>1</td>\n",
       "      <td>4</td>\n",
       "    </tr>\n",
       "    <tr>\n",
       "      <th>34</th>\n",
       "      <td>1</td>\n",
       "      <td>113.0</td>\n",
       "      <td>2017</td>\n",
       "      <td>January</td>\n",
       "      <td>2</td>\n",
       "      <td>8</td>\n",
       "      <td>1</td>\n",
       "      <td>0</td>\n",
       "      <td>2.0</td>\n",
       "      <td>0.0</td>\n",
       "      <td>...</td>\n",
       "      <td>0</td>\n",
       "      <td>0</td>\n",
       "      <td>0</td>\n",
       "      <td>A</td>\n",
       "      <td>0</td>\n",
       "      <td>0</td>\n",
       "      <td>Transient</td>\n",
       "      <td>0</td>\n",
       "      <td>0</td>\n",
       "      <td>1</td>\n",
       "    </tr>\n",
       "    <tr>\n",
       "      <th>59</th>\n",
       "      <td>1</td>\n",
       "      <td>40.0</td>\n",
       "      <td>2017</td>\n",
       "      <td>January</td>\n",
       "      <td>3</td>\n",
       "      <td>16</td>\n",
       "      <td>1</td>\n",
       "      <td>2</td>\n",
       "      <td>1.0</td>\n",
       "      <td>0.0</td>\n",
       "      <td>...</td>\n",
       "      <td>0</td>\n",
       "      <td>0</td>\n",
       "      <td>0</td>\n",
       "      <td>A</td>\n",
       "      <td>0</td>\n",
       "      <td>0</td>\n",
       "      <td>Transient-Party</td>\n",
       "      <td>0</td>\n",
       "      <td>0</td>\n",
       "      <td>3</td>\n",
       "    </tr>\n",
       "    <tr>\n",
       "      <th>61</th>\n",
       "      <td>1</td>\n",
       "      <td>40.0</td>\n",
       "      <td>2017</td>\n",
       "      <td>January</td>\n",
       "      <td>3</td>\n",
       "      <td>16</td>\n",
       "      <td>1</td>\n",
       "      <td>2</td>\n",
       "      <td>1.0</td>\n",
       "      <td>0.0</td>\n",
       "      <td>...</td>\n",
       "      <td>0</td>\n",
       "      <td>0</td>\n",
       "      <td>0</td>\n",
       "      <td>A</td>\n",
       "      <td>0</td>\n",
       "      <td>0</td>\n",
       "      <td>Transient-Party</td>\n",
       "      <td>0</td>\n",
       "      <td>0</td>\n",
       "      <td>3</td>\n",
       "    </tr>\n",
       "    <tr>\n",
       "      <th>63</th>\n",
       "      <td>1</td>\n",
       "      <td>40.0</td>\n",
       "      <td>2017</td>\n",
       "      <td>January</td>\n",
       "      <td>3</td>\n",
       "      <td>16</td>\n",
       "      <td>1</td>\n",
       "      <td>2</td>\n",
       "      <td>1.0</td>\n",
       "      <td>0.0</td>\n",
       "      <td>...</td>\n",
       "      <td>0</td>\n",
       "      <td>0</td>\n",
       "      <td>0</td>\n",
       "      <td>A</td>\n",
       "      <td>0</td>\n",
       "      <td>0</td>\n",
       "      <td>Transient-Party</td>\n",
       "      <td>0</td>\n",
       "      <td>0</td>\n",
       "      <td>3</td>\n",
       "    </tr>\n",
       "    <tr>\n",
       "      <th>...</th>\n",
       "      <td>...</td>\n",
       "      <td>...</td>\n",
       "      <td>...</td>\n",
       "      <td>...</td>\n",
       "      <td>...</td>\n",
       "      <td>...</td>\n",
       "      <td>...</td>\n",
       "      <td>...</td>\n",
       "      <td>...</td>\n",
       "      <td>...</td>\n",
       "      <td>...</td>\n",
       "      <td>...</td>\n",
       "      <td>...</td>\n",
       "      <td>...</td>\n",
       "      <td>...</td>\n",
       "      <td>...</td>\n",
       "      <td>...</td>\n",
       "      <td>...</td>\n",
       "      <td>...</td>\n",
       "      <td>...</td>\n",
       "      <td>...</td>\n",
       "    </tr>\n",
       "    <tr>\n",
       "      <th>32377</th>\n",
       "      <td>0</td>\n",
       "      <td>186.0</td>\n",
       "      <td>2017</td>\n",
       "      <td>August</td>\n",
       "      <td>35</td>\n",
       "      <td>31</td>\n",
       "      <td>0</td>\n",
       "      <td>3</td>\n",
       "      <td>2.0</td>\n",
       "      <td>0.0</td>\n",
       "      <td>...</td>\n",
       "      <td>0</td>\n",
       "      <td>0</td>\n",
       "      <td>0</td>\n",
       "      <td>D</td>\n",
       "      <td>0</td>\n",
       "      <td>0</td>\n",
       "      <td>Transient</td>\n",
       "      <td>0</td>\n",
       "      <td>2</td>\n",
       "      <td>3</td>\n",
       "    </tr>\n",
       "    <tr>\n",
       "      <th>32380</th>\n",
       "      <td>0</td>\n",
       "      <td>63.0</td>\n",
       "      <td>2017</td>\n",
       "      <td>August</td>\n",
       "      <td>35</td>\n",
       "      <td>31</td>\n",
       "      <td>0</td>\n",
       "      <td>3</td>\n",
       "      <td>3.0</td>\n",
       "      <td>0.0</td>\n",
       "      <td>...</td>\n",
       "      <td>0</td>\n",
       "      <td>0</td>\n",
       "      <td>0</td>\n",
       "      <td>D</td>\n",
       "      <td>0</td>\n",
       "      <td>0</td>\n",
       "      <td>Transient-Party</td>\n",
       "      <td>0</td>\n",
       "      <td>2</td>\n",
       "      <td>3</td>\n",
       "    </tr>\n",
       "    <tr>\n",
       "      <th>32381</th>\n",
       "      <td>0</td>\n",
       "      <td>63.0</td>\n",
       "      <td>2017</td>\n",
       "      <td>August</td>\n",
       "      <td>35</td>\n",
       "      <td>31</td>\n",
       "      <td>0</td>\n",
       "      <td>3</td>\n",
       "      <td>3.0</td>\n",
       "      <td>0.0</td>\n",
       "      <td>...</td>\n",
       "      <td>0</td>\n",
       "      <td>0</td>\n",
       "      <td>0</td>\n",
       "      <td>D</td>\n",
       "      <td>0</td>\n",
       "      <td>0</td>\n",
       "      <td>Transient-Party</td>\n",
       "      <td>0</td>\n",
       "      <td>2</td>\n",
       "      <td>3</td>\n",
       "    </tr>\n",
       "    <tr>\n",
       "      <th>32382</th>\n",
       "      <td>0</td>\n",
       "      <td>63.0</td>\n",
       "      <td>2017</td>\n",
       "      <td>August</td>\n",
       "      <td>35</td>\n",
       "      <td>31</td>\n",
       "      <td>0</td>\n",
       "      <td>3</td>\n",
       "      <td>3.0</td>\n",
       "      <td>0.0</td>\n",
       "      <td>...</td>\n",
       "      <td>0</td>\n",
       "      <td>0</td>\n",
       "      <td>0</td>\n",
       "      <td>D</td>\n",
       "      <td>0</td>\n",
       "      <td>0</td>\n",
       "      <td>Transient-Party</td>\n",
       "      <td>0</td>\n",
       "      <td>2</td>\n",
       "      <td>3</td>\n",
       "    </tr>\n",
       "    <tr>\n",
       "      <th>32399</th>\n",
       "      <td>0</td>\n",
       "      <td>175.0</td>\n",
       "      <td>2017</td>\n",
       "      <td>August</td>\n",
       "      <td>35</td>\n",
       "      <td>31</td>\n",
       "      <td>1</td>\n",
       "      <td>3</td>\n",
       "      <td>1.0</td>\n",
       "      <td>0.0</td>\n",
       "      <td>...</td>\n",
       "      <td>0</td>\n",
       "      <td>0</td>\n",
       "      <td>0</td>\n",
       "      <td>A</td>\n",
       "      <td>0</td>\n",
       "      <td>0</td>\n",
       "      <td>Transient</td>\n",
       "      <td>0</td>\n",
       "      <td>1</td>\n",
       "      <td>4</td>\n",
       "    </tr>\n",
       "  </tbody>\n",
       "</table>\n",
       "<p>7717 rows × 24 columns</p>\n",
       "</div>"
      ],
      "text/plain": [
       "       is_canceled  lead_time  arrival_date_year arrival_date_month  \\\n",
       "2                1       62.0               2017            January   \n",
       "34               1      113.0               2017            January   \n",
       "59               1       40.0               2017            January   \n",
       "61               1       40.0               2017            January   \n",
       "63               1       40.0               2017            January   \n",
       "...            ...        ...                ...                ...   \n",
       "32377            0      186.0               2017             August   \n",
       "32380            0       63.0               2017             August   \n",
       "32381            0       63.0               2017             August   \n",
       "32382            0       63.0               2017             August   \n",
       "32399            0      175.0               2017             August   \n",
       "\n",
       "       arrival_date_week_number  arrival_date_day_of_month  \\\n",
       "2                             1                          1   \n",
       "34                            2                          8   \n",
       "59                            3                         16   \n",
       "61                            3                         16   \n",
       "63                            3                         16   \n",
       "...                         ...                        ...   \n",
       "32377                        35                         31   \n",
       "32380                        35                         31   \n",
       "32381                        35                         31   \n",
       "32382                        35                         31   \n",
       "32399                        35                         31   \n",
       "\n",
       "       stays_in_weekend_nights  stays_in_week_nights  adults  children  ...  \\\n",
       "2                            2                     2     2.0       0.0  ...   \n",
       "34                           1                     0     2.0       0.0  ...   \n",
       "59                           1                     2     1.0       0.0  ...   \n",
       "61                           1                     2     1.0       0.0  ...   \n",
       "63                           1                     2     1.0       0.0  ...   \n",
       "...                        ...                   ...     ...       ...  ...   \n",
       "32377                        0                     3     2.0       0.0  ...   \n",
       "32380                        0                     3     3.0       0.0  ...   \n",
       "32381                        0                     3     3.0       0.0  ...   \n",
       "32382                        0                     3     3.0       0.0  ...   \n",
       "32399                        1                     3     1.0       0.0  ...   \n",
       "\n",
       "       is_repeated_guest previous_cancellations  \\\n",
       "2                      0                      0   \n",
       "34                     0                      0   \n",
       "59                     0                      0   \n",
       "61                     0                      0   \n",
       "63                     0                      0   \n",
       "...                  ...                    ...   \n",
       "32377                  0                      0   \n",
       "32380                  0                      0   \n",
       "32381                  0                      0   \n",
       "32382                  0                      0   \n",
       "32399                  0                      0   \n",
       "\n",
       "      previous_bookings_not_canceled reserved_room_type  booking_changes  \\\n",
       "2                                  0   A                               0   \n",
       "34                                 0   A                               0   \n",
       "59                                 0   A                               0   \n",
       "61                                 0   A                               0   \n",
       "63                                 0   A                               0   \n",
       "...                              ...                ...              ...   \n",
       "32377                              0   D                               0   \n",
       "32380                              0   D                               0   \n",
       "32381                              0   D                               0   \n",
       "32382                              0   D                               0   \n",
       "32399                              0   A                               0   \n",
       "\n",
       "       days_in_waiting_list    customer_type required_car_parking_spaces  \\\n",
       "2                         0        Transient                           0   \n",
       "34                        0        Transient                           0   \n",
       "59                        0  Transient-Party                           0   \n",
       "61                        0  Transient-Party                           0   \n",
       "63                        0  Transient-Party                           0   \n",
       "...                     ...              ...                         ...   \n",
       "32377                     0        Transient                           0   \n",
       "32380                     0  Transient-Party                           0   \n",
       "32381                     0  Transient-Party                           0   \n",
       "32382                     0  Transient-Party                           0   \n",
       "32399                     0        Transient                           0   \n",
       "\n",
       "       total_of_special_requests  total_nights  \n",
       "2                              1             4  \n",
       "34                             0             1  \n",
       "59                             0             3  \n",
       "61                             0             3  \n",
       "63                             0             3  \n",
       "...                          ...           ...  \n",
       "32377                          2             3  \n",
       "32380                          2             3  \n",
       "32381                          2             3  \n",
       "32382                          2             3  \n",
       "32399                          1             4  \n",
       "\n",
       "[7717 rows x 24 columns]"
      ]
     },
     "metadata": {},
     "output_type": "display_data"
    }
   ],
   "source": [
    "for h in hotels:\n",
    "    duplicateRows = h[h.duplicated()]\n",
    "    display(duplicateRows)"
   ]
  },
  {
   "cell_type": "markdown",
   "metadata": {},
   "source": [
    "<div class=\"alert alert-warning\">\n",
    "<h2>Комментарий ревьюера v2<a class=\"tocSkip\"></a></h2>\n",
    "    \n",
    "**Есть совет** ⚠️: в реальных проектах, конечно, нужно было бы поизучать подробнее природу этих дубликатов и проконсультироваться с коллегами по их поводу, но так как такой возможности у нас нет, то придется разбираться самим. Сам факт наличия уникального ID не подтверждает уникальность реального бронирования :) Во-первых, мы не знаем, все ли признаки, которые есть в бронировании, до нас дошли в виде csv файла. Во-вторых, это может быть просто технической ошибкой при записи или выгрузке. В-третьих, не стоит забывать про человеческий фактор: например, сами клиенты могли случайно забронировать номер дважды. А вообще в данных довольно много признаков, позволяющих довольно точно идентифицировать бронирование(день приезда, гражданство и тип заказчика, количество забронированных ночей, дата бронирования(lead time), дополнительные параметры заказа и т.д.), поэтому это больше похоже на техническую ошибку, и я бы в этом случае их удалял, чтобы избежать переобучения(особенно при использовании кросс-валидации), так итоговая оценка будет честнее, даже несмотря на то, что мы теряем ощутимую часть данных. Но в общем случае обязательно нужно разбираться подробнее</div>"
   ]
  },
  {
   "cell_type": "markdown",
   "metadata": {},
   "source": [
    "<div class=\"alert alert-info\">\n",
    "    <b>Комментарий студента V2:</b> Немного здесь непонятно. Явных дупликатов я здесь не обнаружил. Но допустим, клиенты могут забронировать номера одного и того же типа, на одно и то же кол-во ночей. Стоит ли считать это дупликатом?\n",
    "</div>"
   ]
  },
  {
   "cell_type": "markdown",
   "metadata": {},
   "source": [
    "<div class=\"alert alert-warning\">\n",
    "<h2>Комментарий ревьюера v3<a class=\"tocSkip\"></a></h2>\n",
    "    \n",
    "**Есть совет** ⚠️: тоже не совсем понятно, все записи в таблицах выше и есть дубликаты :) Можешь пояснить, что ты имеешь в виду под явными дубликатами? А как я писал выше, с учетом количества параметров, которые могут довольно точно идентифицировать бронирование, такое количество дубликатов больше похоже на техническую ошибку</div>"
   ]
  },
  {
   "cell_type": "code",
   "execution_count": 16,
   "metadata": {},
   "outputs": [],
   "source": [
    "for hot in hotels:\n",
    "    hot.drop('customer_type', axis=1, inplace=True)"
   ]
  },
  {
   "cell_type": "markdown",
   "metadata": {},
   "source": [
    "#### Исследовательский анализ"
   ]
  },
  {
   "cell_type": "code",
   "execution_count": null,
   "metadata": {
    "scrolled": true
   },
   "outputs": [],
   "source": [
    "pandas_profiling.ProfileReport(htrain)"
   ]
  },
  {
   "cell_type": "markdown",
   "metadata": {},
   "source": [
    "Как мы можем видеть из отдела \"Корреляция\" в отчете по датасету, целевой признак имеет некую корреляцию с стобцом lead_time (назовём его оттягиванием). Попробуем исследовать эту связь"
   ]
  },
  {
   "cell_type": "markdown",
   "metadata": {},
   "source": [
    "<div class=\"alert alert-success\">\n",
    "<h2>Комментарий ревьюера<a class=\"tocSkip\"></a></h2>\n",
    "    \n",
    "**Отлично!** ✔️: круто, что используешь профайлер, очень упрощает работу!</div>"
   ]
  },
  {
   "cell_type": "markdown",
   "metadata": {},
   "source": [
    "<div class=\"alert alert-info\">\n",
    "    <b>Комментарий студента:</b> прошлый ревьювер научил)\n",
    "</div>"
   ]
  },
  {
   "cell_type": "code",
   "execution_count": 18,
   "metadata": {
    "scrolled": true
   },
   "outputs": [
    {
     "data": {
      "image/png": "[encoded data removed]",
      "text/plain": [
       "<Figure size 432x288 with 1 Axes>"
      ]
     },
     "metadata": {},
     "output_type": "display_data"
    }
   ],
   "source": [
    "colors = ['pink', 'silver', 'steelblue']\n",
    "htrain.groupby(['is_canceled']).sum().plot(\n",
    "    kind='pie', y='lead_time',\n",
    "  autopct='%1.0f%%', colors=colors)\n",
    "plt.show()"
   ]
  },
  {
   "cell_type": "code",
   "execution_count": 19,
   "metadata": {},
   "outputs": [
    {
     "data": {
      "text/html": [
       "<div>\n",
       "<style scoped>\n",
       "    .dataframe tbody tr th:only-of-type {\n",
       "        vertical-align: middle;\n",
       "    }\n",
       "\n",
       "    .dataframe tbody tr th {\n",
       "        vertical-align: top;\n",
       "    }\n",
       "\n",
       "    .dataframe thead tr th {\n",
       "        text-align: left;\n",
       "    }\n",
       "</style>\n",
       "<table border=\"1\" class=\"dataframe\">\n",
       "  <thead>\n",
       "    <tr>\n",
       "      <th></th>\n",
       "      <th>is_canceled</th>\n",
       "      <th>mean</th>\n",
       "      <th>count</th>\n",
       "    </tr>\n",
       "    <tr>\n",
       "      <th></th>\n",
       "      <th></th>\n",
       "      <th>lead_time</th>\n",
       "      <th>lead_time</th>\n",
       "    </tr>\n",
       "  </thead>\n",
       "  <tbody>\n",
       "    <tr>\n",
       "      <th>0</th>\n",
       "      <td>0</td>\n",
       "      <td>72.236615</td>\n",
       "      <td>41185</td>\n",
       "    </tr>\n",
       "    <tr>\n",
       "      <th>1</th>\n",
       "      <td>1</td>\n",
       "      <td>137.621070</td>\n",
       "      <td>24044</td>\n",
       "    </tr>\n",
       "  </tbody>\n",
       "</table>\n",
       "</div>"
      ],
      "text/plain": [
       "  is_canceled        mean     count\n",
       "                lead_time lead_time\n",
       "0           0   72.236615     41185\n",
       "1           1  137.621070     24044"
      ]
     },
     "execution_count": 19,
     "metadata": {},
     "output_type": "execute_result"
    }
   ],
   "source": [
    "(htrain\n",
    " .pivot_table(index='is_canceled', \n",
    "              values='lead_time', \n",
    "              aggfunc=['mean', 'count'])\n",
    " .reset_index())"
   ]
  },
  {
   "cell_type": "markdown",
   "metadata": {},
   "source": [
    "Картина такая: в среднем люди. отменяющие бронь ждали очень много - 137 дней. Есть предположение, что это аномалия. Проверим"
   ]
  },
  {
   "cell_type": "code",
   "execution_count": 20,
   "metadata": {},
   "outputs": [
    {
     "data": {
      "text/html": [
       "<div>\n",
       "<style scoped>\n",
       "    .dataframe tbody tr th:only-of-type {\n",
       "        vertical-align: middle;\n",
       "    }\n",
       "\n",
       "    .dataframe tbody tr th {\n",
       "        vertical-align: top;\n",
       "    }\n",
       "\n",
       "    .dataframe thead th {\n",
       "        text-align: right;\n",
       "    }\n",
       "</style>\n",
       "<table border=\"1\" class=\"dataframe\">\n",
       "  <thead>\n",
       "    <tr style=\"text-align: right;\">\n",
       "      <th></th>\n",
       "      <th>is_canceled</th>\n",
       "      <th>lead_time</th>\n",
       "      <th>arrival_date_year</th>\n",
       "      <th>arrival_date_month</th>\n",
       "      <th>arrival_date_week_number</th>\n",
       "      <th>arrival_date_day_of_month</th>\n",
       "      <th>stays_in_weekend_nights</th>\n",
       "      <th>stays_in_week_nights</th>\n",
       "      <th>adults</th>\n",
       "      <th>children</th>\n",
       "      <th>...</th>\n",
       "      <th>distribution_channel</th>\n",
       "      <th>is_repeated_guest</th>\n",
       "      <th>previous_cancellations</th>\n",
       "      <th>previous_bookings_not_canceled</th>\n",
       "      <th>reserved_room_type</th>\n",
       "      <th>booking_changes</th>\n",
       "      <th>days_in_waiting_list</th>\n",
       "      <th>required_car_parking_spaces</th>\n",
       "      <th>total_of_special_requests</th>\n",
       "      <th>total_nights</th>\n",
       "    </tr>\n",
       "  </thead>\n",
       "  <tbody>\n",
       "    <tr>\n",
       "      <th>131</th>\n",
       "      <td>1</td>\n",
       "      <td>280.0</td>\n",
       "      <td>2015</td>\n",
       "      <td>July</td>\n",
       "      <td>28</td>\n",
       "      <td>8</td>\n",
       "      <td>2</td>\n",
       "      <td>5</td>\n",
       "      <td>2.0</td>\n",
       "      <td>1.0</td>\n",
       "      <td>...</td>\n",
       "      <td>TA/TO</td>\n",
       "      <td>0</td>\n",
       "      <td>0</td>\n",
       "      <td>0</td>\n",
       "      <td>D</td>\n",
       "      <td>0</td>\n",
       "      <td>0</td>\n",
       "      <td>0</td>\n",
       "      <td>1</td>\n",
       "      <td>7</td>\n",
       "    </tr>\n",
       "    <tr>\n",
       "      <th>146</th>\n",
       "      <td>0</td>\n",
       "      <td>249.0</td>\n",
       "      <td>2015</td>\n",
       "      <td>July</td>\n",
       "      <td>28</td>\n",
       "      <td>9</td>\n",
       "      <td>2</td>\n",
       "      <td>5</td>\n",
       "      <td>2.0</td>\n",
       "      <td>0.0</td>\n",
       "      <td>...</td>\n",
       "      <td>TA/TO</td>\n",
       "      <td>0</td>\n",
       "      <td>0</td>\n",
       "      <td>0</td>\n",
       "      <td>A</td>\n",
       "      <td>0</td>\n",
       "      <td>0</td>\n",
       "      <td>0</td>\n",
       "      <td>1</td>\n",
       "      <td>7</td>\n",
       "    </tr>\n",
       "    <tr>\n",
       "      <th>161</th>\n",
       "      <td>0</td>\n",
       "      <td>304.0</td>\n",
       "      <td>2015</td>\n",
       "      <td>July</td>\n",
       "      <td>28</td>\n",
       "      <td>11</td>\n",
       "      <td>2</td>\n",
       "      <td>4</td>\n",
       "      <td>2.0</td>\n",
       "      <td>0.0</td>\n",
       "      <td>...</td>\n",
       "      <td>TA/TO</td>\n",
       "      <td>0</td>\n",
       "      <td>0</td>\n",
       "      <td>0</td>\n",
       "      <td>A</td>\n",
       "      <td>1</td>\n",
       "      <td>0</td>\n",
       "      <td>0</td>\n",
       "      <td>1</td>\n",
       "      <td>6</td>\n",
       "    </tr>\n",
       "    <tr>\n",
       "      <th>215</th>\n",
       "      <td>1</td>\n",
       "      <td>321.0</td>\n",
       "      <td>2015</td>\n",
       "      <td>July</td>\n",
       "      <td>29</td>\n",
       "      <td>13</td>\n",
       "      <td>1</td>\n",
       "      <td>4</td>\n",
       "      <td>2.0</td>\n",
       "      <td>0.0</td>\n",
       "      <td>...</td>\n",
       "      <td>TA/TO</td>\n",
       "      <td>0</td>\n",
       "      <td>0</td>\n",
       "      <td>0</td>\n",
       "      <td>A</td>\n",
       "      <td>0</td>\n",
       "      <td>0</td>\n",
       "      <td>0</td>\n",
       "      <td>1</td>\n",
       "      <td>5</td>\n",
       "    </tr>\n",
       "    <tr>\n",
       "      <th>428</th>\n",
       "      <td>1</td>\n",
       "      <td>299.0</td>\n",
       "      <td>2015</td>\n",
       "      <td>July</td>\n",
       "      <td>30</td>\n",
       "      <td>25</td>\n",
       "      <td>2</td>\n",
       "      <td>5</td>\n",
       "      <td>2.0</td>\n",
       "      <td>1.0</td>\n",
       "      <td>...</td>\n",
       "      <td>TA/TO</td>\n",
       "      <td>0</td>\n",
       "      <td>0</td>\n",
       "      <td>0</td>\n",
       "      <td>A</td>\n",
       "      <td>0</td>\n",
       "      <td>0</td>\n",
       "      <td>0</td>\n",
       "      <td>1</td>\n",
       "      <td>7</td>\n",
       "    </tr>\n",
       "    <tr>\n",
       "      <th>...</th>\n",
       "      <td>...</td>\n",
       "      <td>...</td>\n",
       "      <td>...</td>\n",
       "      <td>...</td>\n",
       "      <td>...</td>\n",
       "      <td>...</td>\n",
       "      <td>...</td>\n",
       "      <td>...</td>\n",
       "      <td>...</td>\n",
       "      <td>...</td>\n",
       "      <td>...</td>\n",
       "      <td>...</td>\n",
       "      <td>...</td>\n",
       "      <td>...</td>\n",
       "      <td>...</td>\n",
       "      <td>...</td>\n",
       "      <td>...</td>\n",
       "      <td>...</td>\n",
       "      <td>...</td>\n",
       "      <td>...</td>\n",
       "      <td>...</td>\n",
       "    </tr>\n",
       "    <tr>\n",
       "      <th>65213</th>\n",
       "      <td>0</td>\n",
       "      <td>171.0</td>\n",
       "      <td>2016</td>\n",
       "      <td>December</td>\n",
       "      <td>53</td>\n",
       "      <td>31</td>\n",
       "      <td>2</td>\n",
       "      <td>2</td>\n",
       "      <td>2.0</td>\n",
       "      <td>0.0</td>\n",
       "      <td>...</td>\n",
       "      <td>TA/TO</td>\n",
       "      <td>0</td>\n",
       "      <td>0</td>\n",
       "      <td>0</td>\n",
       "      <td>A</td>\n",
       "      <td>0</td>\n",
       "      <td>0</td>\n",
       "      <td>0</td>\n",
       "      <td>1</td>\n",
       "      <td>4</td>\n",
       "    </tr>\n",
       "    <tr>\n",
       "      <th>65214</th>\n",
       "      <td>0</td>\n",
       "      <td>258.0</td>\n",
       "      <td>2016</td>\n",
       "      <td>December</td>\n",
       "      <td>53</td>\n",
       "      <td>28</td>\n",
       "      <td>2</td>\n",
       "      <td>5</td>\n",
       "      <td>1.0</td>\n",
       "      <td>1.0</td>\n",
       "      <td>...</td>\n",
       "      <td>TA/TO</td>\n",
       "      <td>0</td>\n",
       "      <td>0</td>\n",
       "      <td>0</td>\n",
       "      <td>B</td>\n",
       "      <td>2</td>\n",
       "      <td>0</td>\n",
       "      <td>0</td>\n",
       "      <td>3</td>\n",
       "      <td>7</td>\n",
       "    </tr>\n",
       "    <tr>\n",
       "      <th>65215</th>\n",
       "      <td>0</td>\n",
       "      <td>259.0</td>\n",
       "      <td>2016</td>\n",
       "      <td>December</td>\n",
       "      <td>53</td>\n",
       "      <td>28</td>\n",
       "      <td>2</td>\n",
       "      <td>5</td>\n",
       "      <td>2.0</td>\n",
       "      <td>1.0</td>\n",
       "      <td>...</td>\n",
       "      <td>TA/TO</td>\n",
       "      <td>0</td>\n",
       "      <td>0</td>\n",
       "      <td>0</td>\n",
       "      <td>B</td>\n",
       "      <td>3</td>\n",
       "      <td>0</td>\n",
       "      <td>0</td>\n",
       "      <td>3</td>\n",
       "      <td>7</td>\n",
       "    </tr>\n",
       "    <tr>\n",
       "      <th>65216</th>\n",
       "      <td>0</td>\n",
       "      <td>259.0</td>\n",
       "      <td>2016</td>\n",
       "      <td>December</td>\n",
       "      <td>53</td>\n",
       "      <td>28</td>\n",
       "      <td>2</td>\n",
       "      <td>5</td>\n",
       "      <td>2.0</td>\n",
       "      <td>1.0</td>\n",
       "      <td>...</td>\n",
       "      <td>TA/TO</td>\n",
       "      <td>0</td>\n",
       "      <td>0</td>\n",
       "      <td>0</td>\n",
       "      <td>A</td>\n",
       "      <td>3</td>\n",
       "      <td>0</td>\n",
       "      <td>0</td>\n",
       "      <td>3</td>\n",
       "      <td>7</td>\n",
       "    </tr>\n",
       "    <tr>\n",
       "      <th>65218</th>\n",
       "      <td>0</td>\n",
       "      <td>291.0</td>\n",
       "      <td>2016</td>\n",
       "      <td>December</td>\n",
       "      <td>53</td>\n",
       "      <td>28</td>\n",
       "      <td>2</td>\n",
       "      <td>5</td>\n",
       "      <td>2.0</td>\n",
       "      <td>0.0</td>\n",
       "      <td>...</td>\n",
       "      <td>TA/TO</td>\n",
       "      <td>0</td>\n",
       "      <td>0</td>\n",
       "      <td>0</td>\n",
       "      <td>A</td>\n",
       "      <td>0</td>\n",
       "      <td>0</td>\n",
       "      <td>0</td>\n",
       "      <td>0</td>\n",
       "      <td>7</td>\n",
       "    </tr>\n",
       "  </tbody>\n",
       "</table>\n",
       "<p>19652 rows × 23 columns</p>\n",
       "</div>"
      ],
      "text/plain": [
       "       is_canceled  lead_time  arrival_date_year arrival_date_month  \\\n",
       "131              1      280.0               2015               July   \n",
       "146              0      249.0               2015               July   \n",
       "161              0      304.0               2015               July   \n",
       "215              1      321.0               2015               July   \n",
       "428              1      299.0               2015               July   \n",
       "...            ...        ...                ...                ...   \n",
       "65213            0      171.0               2016           December   \n",
       "65214            0      258.0               2016           December   \n",
       "65215            0      259.0               2016           December   \n",
       "65216            0      259.0               2016           December   \n",
       "65218            0      291.0               2016           December   \n",
       "\n",
       "       arrival_date_week_number  arrival_date_day_of_month  \\\n",
       "131                          28                          8   \n",
       "146                          28                          9   \n",
       "161                          28                         11   \n",
       "215                          29                         13   \n",
       "428                          30                         25   \n",
       "...                         ...                        ...   \n",
       "65213                        53                         31   \n",
       "65214                        53                         28   \n",
       "65215                        53                         28   \n",
       "65216                        53                         28   \n",
       "65218                        53                         28   \n",
       "\n",
       "       stays_in_weekend_nights  stays_in_week_nights  adults  children  ...  \\\n",
       "131                          2                     5     2.0       1.0  ...   \n",
       "146                          2                     5     2.0       0.0  ...   \n",
       "161                          2                     4     2.0       0.0  ...   \n",
       "215                          1                     4     2.0       0.0  ...   \n",
       "428                          2                     5     2.0       1.0  ...   \n",
       "...                        ...                   ...     ...       ...  ...   \n",
       "65213                        2                     2     2.0       0.0  ...   \n",
       "65214                        2                     5     1.0       1.0  ...   \n",
       "65215                        2                     5     2.0       1.0  ...   \n",
       "65216                        2                     5     2.0       1.0  ...   \n",
       "65218                        2                     5     2.0       0.0  ...   \n",
       "\n",
       "       distribution_channel is_repeated_guest previous_cancellations  \\\n",
       "131                   TA/TO                 0                      0   \n",
       "146                   TA/TO                 0                      0   \n",
       "161                   TA/TO                 0                      0   \n",
       "215                   TA/TO                 0                      0   \n",
       "428                   TA/TO                 0                      0   \n",
       "...                     ...               ...                    ...   \n",
       "65213                 TA/TO                 0                      0   \n",
       "65214                 TA/TO                 0                      0   \n",
       "65215                 TA/TO                 0                      0   \n",
       "65216                 TA/TO                 0                      0   \n",
       "65218                 TA/TO                 0                      0   \n",
       "\n",
       "      previous_bookings_not_canceled  reserved_room_type  booking_changes  \\\n",
       "131                                0    D                               0   \n",
       "146                                0    A                               0   \n",
       "161                                0    A                               1   \n",
       "215                                0    A                               0   \n",
       "428                                0    A                               0   \n",
       "...                              ...                 ...              ...   \n",
       "65213                              0    A                               0   \n",
       "65214                              0    B                               2   \n",
       "65215                              0    B                               3   \n",
       "65216                              0    A                               3   \n",
       "65218                              0    A                               0   \n",
       "\n",
       "       days_in_waiting_list required_car_parking_spaces  \\\n",
       "131                       0                           0   \n",
       "146                       0                           0   \n",
       "161                       0                           0   \n",
       "215                       0                           0   \n",
       "428                       0                           0   \n",
       "...                     ...                         ...   \n",
       "65213                     0                           0   \n",
       "65214                     0                           0   \n",
       "65215                     0                           0   \n",
       "65216                     0                           0   \n",
       "65218                     0                           0   \n",
       "\n",
       "       total_of_special_requests  total_nights  \n",
       "131                            1             7  \n",
       "146                            1             7  \n",
       "161                            1             6  \n",
       "215                            1             5  \n",
       "428                            1             7  \n",
       "...                          ...           ...  \n",
       "65213                          1             4  \n",
       "65214                          3             7  \n",
       "65215                          3             7  \n",
       "65216                          3             7  \n",
       "65218                          0             7  \n",
       "\n",
       "[19652 rows x 23 columns]"
      ]
     },
     "execution_count": 20,
     "metadata": {},
     "output_type": "execute_result"
    }
   ],
   "source": [
    "htrain[htrain['lead_time'] > 125]"
   ]
  },
  {
   "cell_type": "markdown",
   "metadata": {},
   "source": [
    "Это не аномалия, таких значений много, но очень странно, что люди ждут почти год, чтобы отменить бронь. Я допускаю, что они могли просто забыть, и потом, получив уведомление от компании, постфактум отменить. <br> Даже если учесть тот факт, что человек бронирует заранее, допустим, январь месяц, а он бронирует на лето - есть люди, тянущие больше года. "
   ]
  },
  {
   "cell_type": "markdown",
   "metadata": {},
   "source": [
    "<div class=\"alert alert-warning\">\n",
    "<h2>Комментарий ревьюера<a class=\"tocSkip\"></a></h2>\n",
    "    \n",
    "**Есть совет** ⚠️: вероятнее всего, чаще бронь отменяется со стороны отеля в день заселения, если постоялец не приехал, из-за чего отель и несет убытки</div>"
   ]
  },
  {
   "cell_type": "markdown",
   "metadata": {},
   "source": [
    "<div class=\"alert alert-info\">\n",
    "    <b>Комментарий студента:</b> Вероятно, но что мы тогда сделаем с большими lead_time? Если отель сам отменяет бронь, то тогда он бы делал это вовремя\n",
    "</div>"
   ]
  },
  {
   "cell_type": "markdown",
   "metadata": {},
   "source": [
    "<div class=\"alert alert-warning\">\n",
    "<h2>Комментарий ревьюера v2<a class=\"tocSkip\"></a></h2>\n",
    "    \n",
    "**Есть совет** ⚠️: при таком сценарии сам отель может узнать об этом уже только по факту и отменить только в день заезда или накануне, если клиент не заселился. Поэтому, нам предлагается разработать систему депозитов, которая поможет решить эту проблему. А вообще, бронирования номеров за год вполне могут быть объяснимы: гости часто планируют отпуск заранее и бронируют отель в том числе во время акционных предложений, поэтому можно оставить либо как есть, либо выбрать порог для отсечения самых нерепрезентативных значений</div>"
   ]
  },
  {
   "cell_type": "markdown",
   "metadata": {},
   "source": [
    "<div class=\"alert alert-info\">\n",
    "    <b>Комментарий студента V2:</b> Я, собственно и оставил, потому что случаи бывают разные, поэтому здесь ничгео не трогал\n",
    "</div>"
   ]
  },
  {
   "cell_type": "markdown",
   "metadata": {},
   "source": [
    "<div class=\"alert alert-success\">\n",
    "<h2>Комментарий ревьюера v3<a class=\"tocSkip\"></a></h2>\n",
    "    \n",
    "**Отлично!** ✔️: 👍</div>"
   ]
  },
  {
   "cell_type": "code",
   "execution_count": 21,
   "metadata": {},
   "outputs": [
    {
     "data": {
      "text/html": [
       "<div>\n",
       "<style scoped>\n",
       "    .dataframe tbody tr th:only-of-type {\n",
       "        vertical-align: middle;\n",
       "    }\n",
       "\n",
       "    .dataframe tbody tr th {\n",
       "        vertical-align: top;\n",
       "    }\n",
       "\n",
       "    .dataframe thead th {\n",
       "        text-align: right;\n",
       "    }\n",
       "</style>\n",
       "<table border=\"1\" class=\"dataframe\">\n",
       "  <thead>\n",
       "    <tr style=\"text-align: right;\">\n",
       "      <th></th>\n",
       "      <th>is_canceled</th>\n",
       "      <th>lead_time</th>\n",
       "      <th>arrival_date_year</th>\n",
       "      <th>arrival_date_month</th>\n",
       "      <th>arrival_date_week_number</th>\n",
       "      <th>arrival_date_day_of_month</th>\n",
       "      <th>stays_in_weekend_nights</th>\n",
       "      <th>stays_in_week_nights</th>\n",
       "      <th>adults</th>\n",
       "      <th>children</th>\n",
       "      <th>...</th>\n",
       "      <th>distribution_channel</th>\n",
       "      <th>is_repeated_guest</th>\n",
       "      <th>previous_cancellations</th>\n",
       "      <th>previous_bookings_not_canceled</th>\n",
       "      <th>reserved_room_type</th>\n",
       "      <th>booking_changes</th>\n",
       "      <th>days_in_waiting_list</th>\n",
       "      <th>required_car_parking_spaces</th>\n",
       "      <th>total_of_special_requests</th>\n",
       "      <th>total_nights</th>\n",
       "    </tr>\n",
       "  </thead>\n",
       "  <tbody>\n",
       "    <tr>\n",
       "      <th>4893</th>\n",
       "      <td>0</td>\n",
       "      <td>373.0</td>\n",
       "      <td>2016</td>\n",
       "      <td>September</td>\n",
       "      <td>37</td>\n",
       "      <td>4</td>\n",
       "      <td>4</td>\n",
       "      <td>6</td>\n",
       "      <td>2.0</td>\n",
       "      <td>0.0</td>\n",
       "      <td>...</td>\n",
       "      <td>TA/TO</td>\n",
       "      <td>0</td>\n",
       "      <td>0</td>\n",
       "      <td>0</td>\n",
       "      <td>D</td>\n",
       "      <td>0</td>\n",
       "      <td>0</td>\n",
       "      <td>0</td>\n",
       "      <td>0</td>\n",
       "      <td>10</td>\n",
       "    </tr>\n",
       "    <tr>\n",
       "      <th>30405</th>\n",
       "      <td>1</td>\n",
       "      <td>372.0</td>\n",
       "      <td>2016</td>\n",
       "      <td>July</td>\n",
       "      <td>29</td>\n",
       "      <td>14</td>\n",
       "      <td>0</td>\n",
       "      <td>1</td>\n",
       "      <td>1.0</td>\n",
       "      <td>0.0</td>\n",
       "      <td>...</td>\n",
       "      <td>TA/TO</td>\n",
       "      <td>0</td>\n",
       "      <td>0</td>\n",
       "      <td>0</td>\n",
       "      <td>A</td>\n",
       "      <td>0</td>\n",
       "      <td>0</td>\n",
       "      <td>0</td>\n",
       "      <td>0</td>\n",
       "      <td>1</td>\n",
       "    </tr>\n",
       "    <tr>\n",
       "      <th>30407</th>\n",
       "      <td>1</td>\n",
       "      <td>372.0</td>\n",
       "      <td>2016</td>\n",
       "      <td>July</td>\n",
       "      <td>29</td>\n",
       "      <td>14</td>\n",
       "      <td>0</td>\n",
       "      <td>1</td>\n",
       "      <td>1.0</td>\n",
       "      <td>0.0</td>\n",
       "      <td>...</td>\n",
       "      <td>TA/TO</td>\n",
       "      <td>0</td>\n",
       "      <td>0</td>\n",
       "      <td>0</td>\n",
       "      <td>A</td>\n",
       "      <td>0</td>\n",
       "      <td>0</td>\n",
       "      <td>0</td>\n",
       "      <td>0</td>\n",
       "      <td>1</td>\n",
       "    </tr>\n",
       "    <tr>\n",
       "      <th>30408</th>\n",
       "      <td>1</td>\n",
       "      <td>372.0</td>\n",
       "      <td>2016</td>\n",
       "      <td>July</td>\n",
       "      <td>29</td>\n",
       "      <td>14</td>\n",
       "      <td>0</td>\n",
       "      <td>2</td>\n",
       "      <td>2.0</td>\n",
       "      <td>0.0</td>\n",
       "      <td>...</td>\n",
       "      <td>TA/TO</td>\n",
       "      <td>0</td>\n",
       "      <td>0</td>\n",
       "      <td>0</td>\n",
       "      <td>A</td>\n",
       "      <td>0</td>\n",
       "      <td>0</td>\n",
       "      <td>0</td>\n",
       "      <td>0</td>\n",
       "      <td>2</td>\n",
       "    </tr>\n",
       "    <tr>\n",
       "      <th>30409</th>\n",
       "      <td>1</td>\n",
       "      <td>372.0</td>\n",
       "      <td>2016</td>\n",
       "      <td>July</td>\n",
       "      <td>29</td>\n",
       "      <td>14</td>\n",
       "      <td>0</td>\n",
       "      <td>2</td>\n",
       "      <td>2.0</td>\n",
       "      <td>0.0</td>\n",
       "      <td>...</td>\n",
       "      <td>TA/TO</td>\n",
       "      <td>0</td>\n",
       "      <td>0</td>\n",
       "      <td>0</td>\n",
       "      <td>A</td>\n",
       "      <td>0</td>\n",
       "      <td>0</td>\n",
       "      <td>0</td>\n",
       "      <td>0</td>\n",
       "      <td>2</td>\n",
       "    </tr>\n",
       "    <tr>\n",
       "      <th>...</th>\n",
       "      <td>...</td>\n",
       "      <td>...</td>\n",
       "      <td>...</td>\n",
       "      <td>...</td>\n",
       "      <td>...</td>\n",
       "      <td>...</td>\n",
       "      <td>...</td>\n",
       "      <td>...</td>\n",
       "      <td>...</td>\n",
       "      <td>...</td>\n",
       "      <td>...</td>\n",
       "      <td>...</td>\n",
       "      <td>...</td>\n",
       "      <td>...</td>\n",
       "      <td>...</td>\n",
       "      <td>...</td>\n",
       "      <td>...</td>\n",
       "      <td>...</td>\n",
       "      <td>...</td>\n",
       "      <td>...</td>\n",
       "      <td>...</td>\n",
       "    </tr>\n",
       "    <tr>\n",
       "      <th>37841</th>\n",
       "      <td>1</td>\n",
       "      <td>374.0</td>\n",
       "      <td>2015</td>\n",
       "      <td>October</td>\n",
       "      <td>44</td>\n",
       "      <td>26</td>\n",
       "      <td>1</td>\n",
       "      <td>1</td>\n",
       "      <td>2.0</td>\n",
       "      <td>0.0</td>\n",
       "      <td>...</td>\n",
       "      <td>TA/TO</td>\n",
       "      <td>0</td>\n",
       "      <td>1</td>\n",
       "      <td>0</td>\n",
       "      <td>A</td>\n",
       "      <td>0</td>\n",
       "      <td>0</td>\n",
       "      <td>0</td>\n",
       "      <td>0</td>\n",
       "      <td>2</td>\n",
       "    </tr>\n",
       "    <tr>\n",
       "      <th>37842</th>\n",
       "      <td>1</td>\n",
       "      <td>374.0</td>\n",
       "      <td>2015</td>\n",
       "      <td>October</td>\n",
       "      <td>44</td>\n",
       "      <td>26</td>\n",
       "      <td>1</td>\n",
       "      <td>1</td>\n",
       "      <td>2.0</td>\n",
       "      <td>0.0</td>\n",
       "      <td>...</td>\n",
       "      <td>TA/TO</td>\n",
       "      <td>0</td>\n",
       "      <td>1</td>\n",
       "      <td>0</td>\n",
       "      <td>A</td>\n",
       "      <td>0</td>\n",
       "      <td>0</td>\n",
       "      <td>0</td>\n",
       "      <td>0</td>\n",
       "      <td>2</td>\n",
       "    </tr>\n",
       "    <tr>\n",
       "      <th>37843</th>\n",
       "      <td>1</td>\n",
       "      <td>374.0</td>\n",
       "      <td>2015</td>\n",
       "      <td>October</td>\n",
       "      <td>44</td>\n",
       "      <td>26</td>\n",
       "      <td>1</td>\n",
       "      <td>1</td>\n",
       "      <td>2.0</td>\n",
       "      <td>0.0</td>\n",
       "      <td>...</td>\n",
       "      <td>TA/TO</td>\n",
       "      <td>0</td>\n",
       "      <td>1</td>\n",
       "      <td>0</td>\n",
       "      <td>A</td>\n",
       "      <td>0</td>\n",
       "      <td>0</td>\n",
       "      <td>0</td>\n",
       "      <td>0</td>\n",
       "      <td>2</td>\n",
       "    </tr>\n",
       "    <tr>\n",
       "      <th>37844</th>\n",
       "      <td>1</td>\n",
       "      <td>374.0</td>\n",
       "      <td>2015</td>\n",
       "      <td>October</td>\n",
       "      <td>44</td>\n",
       "      <td>26</td>\n",
       "      <td>1</td>\n",
       "      <td>1</td>\n",
       "      <td>2.0</td>\n",
       "      <td>0.0</td>\n",
       "      <td>...</td>\n",
       "      <td>TA/TO</td>\n",
       "      <td>0</td>\n",
       "      <td>1</td>\n",
       "      <td>0</td>\n",
       "      <td>A</td>\n",
       "      <td>0</td>\n",
       "      <td>0</td>\n",
       "      <td>0</td>\n",
       "      <td>0</td>\n",
       "      <td>2</td>\n",
       "    </tr>\n",
       "    <tr>\n",
       "      <th>37845</th>\n",
       "      <td>1</td>\n",
       "      <td>374.0</td>\n",
       "      <td>2015</td>\n",
       "      <td>October</td>\n",
       "      <td>44</td>\n",
       "      <td>26</td>\n",
       "      <td>1</td>\n",
       "      <td>1</td>\n",
       "      <td>2.0</td>\n",
       "      <td>0.0</td>\n",
       "      <td>...</td>\n",
       "      <td>TA/TO</td>\n",
       "      <td>0</td>\n",
       "      <td>1</td>\n",
       "      <td>0</td>\n",
       "      <td>A</td>\n",
       "      <td>0</td>\n",
       "      <td>0</td>\n",
       "      <td>0</td>\n",
       "      <td>0</td>\n",
       "      <td>2</td>\n",
       "    </tr>\n",
       "  </tbody>\n",
       "</table>\n",
       "<p>74 rows × 23 columns</p>\n",
       "</div>"
      ],
      "text/plain": [
       "       is_canceled  lead_time  arrival_date_year arrival_date_month  \\\n",
       "4893             0      373.0               2016          September   \n",
       "30405            1      372.0               2016               July   \n",
       "30407            1      372.0               2016               July   \n",
       "30408            1      372.0               2016               July   \n",
       "30409            1      372.0               2016               July   \n",
       "...            ...        ...                ...                ...   \n",
       "37841            1      374.0               2015            October   \n",
       "37842            1      374.0               2015            October   \n",
       "37843            1      374.0               2015            October   \n",
       "37844            1      374.0               2015            October   \n",
       "37845            1      374.0               2015            October   \n",
       "\n",
       "       arrival_date_week_number  arrival_date_day_of_month  \\\n",
       "4893                         37                          4   \n",
       "30405                        29                         14   \n",
       "30407                        29                         14   \n",
       "30408                        29                         14   \n",
       "30409                        29                         14   \n",
       "...                         ...                        ...   \n",
       "37841                        44                         26   \n",
       "37842                        44                         26   \n",
       "37843                        44                         26   \n",
       "37844                        44                         26   \n",
       "37845                        44                         26   \n",
       "\n",
       "       stays_in_weekend_nights  stays_in_week_nights  adults  children  ...  \\\n",
       "4893                         4                     6     2.0       0.0  ...   \n",
       "30405                        0                     1     1.0       0.0  ...   \n",
       "30407                        0                     1     1.0       0.0  ...   \n",
       "30408                        0                     2     2.0       0.0  ...   \n",
       "30409                        0                     2     2.0       0.0  ...   \n",
       "...                        ...                   ...     ...       ...  ...   \n",
       "37841                        1                     1     2.0       0.0  ...   \n",
       "37842                        1                     1     2.0       0.0  ...   \n",
       "37843                        1                     1     2.0       0.0  ...   \n",
       "37844                        1                     1     2.0       0.0  ...   \n",
       "37845                        1                     1     2.0       0.0  ...   \n",
       "\n",
       "       distribution_channel is_repeated_guest previous_cancellations  \\\n",
       "4893                  TA/TO                 0                      0   \n",
       "30405                 TA/TO                 0                      0   \n",
       "30407                 TA/TO                 0                      0   \n",
       "30408                 TA/TO                 0                      0   \n",
       "30409                 TA/TO                 0                      0   \n",
       "...                     ...               ...                    ...   \n",
       "37841                 TA/TO                 0                      1   \n",
       "37842                 TA/TO                 0                      1   \n",
       "37843                 TA/TO                 0                      1   \n",
       "37844                 TA/TO                 0                      1   \n",
       "37845                 TA/TO                 0                      1   \n",
       "\n",
       "      previous_bookings_not_canceled  reserved_room_type  booking_changes  \\\n",
       "4893                               0    D                               0   \n",
       "30405                              0    A                               0   \n",
       "30407                              0    A                               0   \n",
       "30408                              0    A                               0   \n",
       "30409                              0    A                               0   \n",
       "...                              ...                 ...              ...   \n",
       "37841                              0    A                               0   \n",
       "37842                              0    A                               0   \n",
       "37843                              0    A                               0   \n",
       "37844                              0    A                               0   \n",
       "37845                              0    A                               0   \n",
       "\n",
       "       days_in_waiting_list required_car_parking_spaces  \\\n",
       "4893                      0                           0   \n",
       "30405                     0                           0   \n",
       "30407                     0                           0   \n",
       "30408                     0                           0   \n",
       "30409                     0                           0   \n",
       "...                     ...                         ...   \n",
       "37841                     0                           0   \n",
       "37842                     0                           0   \n",
       "37843                     0                           0   \n",
       "37844                     0                           0   \n",
       "37845                     0                           0   \n",
       "\n",
       "       total_of_special_requests  total_nights  \n",
       "4893                           0            10  \n",
       "30405                          0             1  \n",
       "30407                          0             1  \n",
       "30408                          0             2  \n",
       "30409                          0             2  \n",
       "...                          ...           ...  \n",
       "37841                          0             2  \n",
       "37842                          0             2  \n",
       "37843                          0             2  \n",
       "37844                          0             2  \n",
       "37845                          0             2  \n",
       "\n",
       "[74 rows x 23 columns]"
      ]
     },
     "execution_count": 21,
     "metadata": {},
     "output_type": "execute_result"
    }
   ],
   "source": [
    "htrain[htrain['lead_time'] > 365]"
   ]
  },
  {
   "cell_type": "markdown",
   "metadata": {},
   "source": [
    "Предлагаю посомтреть, из какой страны данные граждане"
   ]
  },
  {
   "cell_type": "code",
   "execution_count": 22,
   "metadata": {},
   "outputs": [
    {
     "data": {
      "text/html": [
       "<div>\n",
       "<style scoped>\n",
       "    .dataframe tbody tr th:only-of-type {\n",
       "        vertical-align: middle;\n",
       "    }\n",
       "\n",
       "    .dataframe tbody tr th {\n",
       "        vertical-align: top;\n",
       "    }\n",
       "\n",
       "    .dataframe thead th {\n",
       "        text-align: right;\n",
       "    }\n",
       "</style>\n",
       "<table border=\"1\" class=\"dataframe\">\n",
       "  <thead>\n",
       "    <tr style=\"text-align: right;\">\n",
       "      <th></th>\n",
       "      <th>lead_time</th>\n",
       "    </tr>\n",
       "    <tr>\n",
       "      <th>country</th>\n",
       "      <th></th>\n",
       "    </tr>\n",
       "  </thead>\n",
       "  <tbody>\n",
       "    <tr>\n",
       "      <th>FRA</th>\n",
       "      <td>372.000000</td>\n",
       "    </tr>\n",
       "    <tr>\n",
       "      <th>PRT</th>\n",
       "      <td>371.166667</td>\n",
       "    </tr>\n",
       "  </tbody>\n",
       "</table>\n",
       "</div>"
      ],
      "text/plain": [
       "          lead_time\n",
       "country            \n",
       "FRA      372.000000\n",
       "PRT      371.166667"
      ]
     },
     "execution_count": 22,
     "metadata": {},
     "output_type": "execute_result"
    }
   ],
   "source": [
    "htrain[(htrain['lead_time'] > 365) & (htrain['is_canceled'] == 1)].pivot_table(index='country', values='lead_time', aggfunc='mean')"
   ]
  },
  {
   "cell_type": "code",
   "execution_count": 23,
   "metadata": {},
   "outputs": [
    {
     "data": {
      "text/plain": [
       "34.0     249\n",
       "1.0      222\n",
       "68.0     222\n",
       "37.0     222\n",
       "277.0    214\n",
       "        ... \n",
       "331.0      2\n",
       "319.0      2\n",
       "347.0      2\n",
       "348.0      2\n",
       "345.0      1\n",
       "Name: lead_time, Length: 362, dtype: int64"
      ]
     },
     "execution_count": 23,
     "metadata": {},
     "output_type": "execute_result"
    }
   ],
   "source": [
    "htrain[(htrain['is_canceled'] == 1) & (htrain['lead_time'] != 0.0)]['lead_time'].value_counts()"
   ]
  },
  {
   "cell_type": "code",
   "execution_count": 24,
   "metadata": {},
   "outputs": [
    {
     "data": {
      "text/plain": [
       "PRT    16604\n",
       "ESP     1081\n",
       "GBR      938\n",
       "FRA      876\n",
       "ITA      767\n",
       "       ...  \n",
       "IMN        1\n",
       "ECU        1\n",
       "SEN        1\n",
       "HND        1\n",
       "UZB        1\n",
       "Name: country, Length: 112, dtype: int64"
      ]
     },
     "execution_count": 24,
     "metadata": {},
     "output_type": "execute_result"
    }
   ],
   "source": [
    "htrain[(htrain['is_canceled'] == 1)]['country'].value_counts()"
   ]
  },
  {
   "cell_type": "code",
   "execution_count": 25,
   "metadata": {},
   "outputs": [
    {
     "data": {
      "image/png": "[encoded data removed]",
      "text/plain": [
       "<Figure size 2160x1440 with 1 Axes>"
      ]
     },
     "metadata": {
      "needs_background": "light"
     },
     "output_type": "display_data"
    }
   ],
   "source": [
    "htrain.boxplot(column=['children', 'babies', 'required_car_parking_spaces'], figsize=(30, 20))\n",
    "plt.ylim(-100, 50);"
   ]
  },
  {
   "cell_type": "code",
   "execution_count": 26,
   "metadata": {},
   "outputs": [],
   "source": [
    "row = htrain[(htrain['babies'] > 5) | (htrain['required_car_parking_spaces'] > 2)].index\n",
    "htrain = htrain.drop(index=row)"
   ]
  },
  {
   "cell_type": "markdown",
   "metadata": {},
   "source": [
    "<div class=\"alert alert-warning\">\n",
    "<h2>Комментарий ревьюера v2<a class=\"tocSkip\"></a></h2>\n",
    "    \n",
    "**Есть совет** ⚠️: окей, но если внимательно изучить признак, то можно заметить, что бронирований с 2 младенцами тоже слишком мало, чтобы использовать их для прогноза, такие записи тоже лучше обработать. Тогда признак можно переименовать, например, в `has_babies`, чтобы обозначить его теперь уже бинарную природу</div>"
   ]
  },
  {
   "cell_type": "markdown",
   "metadata": {},
   "source": [
    "<div class=\"alert alert-info\">\n",
    "    <b>Комментарий студента V2:</b> Тут хотелось бы поспорить. Вероятность есть, что семьи с 1-2 детьми не отказываются от брони, а дальше - отказываются, и если мы превратим это в столблец с бинарным распределением классов, то модель запутается.\n",
    "</div>"
   ]
  },
  {
   "cell_type": "markdown",
   "metadata": {},
   "source": [
    "<div class=\"alert alert-warning\">\n",
    "<h2>Комментарий ревьюера v3<a class=\"tocSkip\"></a></h2>\n",
    "    \n",
    "**Есть совет** ⚠️: вполне может быть, что какая-либо зависимость между количеством детей и фактом отмены есть, но судить о ней мы по 3 строкам не можем :)</div>"
   ]
  },
  {
   "cell_type": "code",
   "execution_count": 40,
   "metadata": {},
   "outputs": [
    {
     "data": {
      "text/plain": [
       "0.0    64613\n",
       "1.0      444\n",
       "2.0        3\n",
       "Name: babies, dtype: int64"
      ]
     },
     "execution_count": 40,
     "metadata": {},
     "output_type": "execute_result"
    }
   ],
   "source": [
    "# код ревьюера\n",
    "\n",
    "htrain['babies'].value_counts()"
   ]
  },
  {
   "cell_type": "code",
   "execution_count": 27,
   "metadata": {},
   "outputs": [],
   "source": [
    "row = htrain[(htrain['adults'] == 0)].index\n",
    "htrain = htrain.drop(index=row)"
   ]
  },
  {
   "cell_type": "code",
   "execution_count": 28,
   "metadata": {},
   "outputs": [],
   "source": [
    "row = htrain[(htrain['total_nights'] == 0)].index\n",
    "htrain = htrain.drop(index=row)"
   ]
  },
  {
   "cell_type": "code",
   "execution_count": 29,
   "metadata": {},
   "outputs": [],
   "source": [
    "for i in htrain[['total_nights', 'stays_in_week_nights', 'stays_in_weekend_nights']].index:\n",
    "    if htrain['total_nights'][i] != htrain['stays_in_week_nights'][i] + htrain['stays_in_weekend_nights'][i]:\n",
    "        print('Unnamed')"
   ]
  },
  {
   "cell_type": "code",
   "execution_count": 30,
   "metadata": {},
   "outputs": [],
   "source": [
    "htrain = htrain.drop(['stays_in_week_nights', 'stays_in_weekend_nights'], axis=1)"
   ]
  },
  {
   "cell_type": "markdown",
   "metadata": {},
   "source": [
    "<div class=\"alert alert-warning\">\n",
    "<h2>Комментарий ревьюера v2<a class=\"tocSkip\"></a></h2>\n",
    "    \n",
    "**Есть совет** ⚠️: окей, но здесь для уверенности можно проверить, выполняется ли это условие для всех бронирований</div>"
   ]
  },
  {
   "cell_type": "markdown",
   "metadata": {},
   "source": [
    "<div class=\"alert alert-info\">\n",
    "    <b>Комментарий студента V2:</b> Проверил, всё чисто)\n",
    "</div>"
   ]
  },
  {
   "cell_type": "markdown",
   "metadata": {},
   "source": [
    "<div class=\"alert alert-success\">\n",
    "<h2>Комментарий ревьюера v3<a class=\"tocSkip\"></a></h2>\n",
    "    \n",
    "**Отлично!** ✔️: 👍</div>"
   ]
  },
  {
   "cell_type": "markdown",
   "metadata": {},
   "source": [
    "Уберем аномальные значения, такие как семьи с большим количеством детей, клиентов, отмечающих более одного парковочного места, ячейки без взрослых клиентов и клиентов, бронирующих номер на 0 ночей."
   ]
  },
  {
   "cell_type": "code",
   "execution_count": 31,
   "metadata": {},
   "outputs": [
    {
     "name": "stdout",
     "output_type": "stream",
     "text": [
      "['July' 'August' 'September' 'October' 'November' 'December' 'January'\n",
      " 'February' 'March' 'April' 'May' 'June']\n",
      "['BB       ' 'FB       ' 'HB       ' 'SC       ' 'SC']\n",
      "['GBR' 'PRT' 'ESP' 'IRL' 'FRA' 'ROU' 'NOR' 'USA' 'DEU' 'BEL' 'CHE' 'CN'\n",
      " 'GRC' 'NLD' 'ARG' 'RUS' 'SWE' 'POL' 'EST' 'CZE' 'ITA' 'FIN' 'DNK' 'MOZ'\n",
      " 'BWA' 'LUX' 'BRA' 'SVN' 'ALB' 'CHN' 'MEX' 'MAR' 'SMR' 'LVA' 'CHL' 'AUT'\n",
      " 'LTU' 'TUR' 'ISR' 'IND' 'CYM' 'AUS' 'CPV' 'ZWE' 'DZA' 'KOR' 'CRI' 'HUN'\n",
      " 'TUN' 'ARE' 'HRV' 'HKG' 'IRN' 'GIB' 'JEY' 'URY' 'ZAF' 'COL' 'GGY' 'KWT'\n",
      " 'CYP' 'KAZ' 'THA' 'DOM' 'NGA' 'BLR' 'VEN' 'UKR' 'ARM' 'JPN' 'LKA' 'MYS'\n",
      " 'BIH' 'MUS' 'OMN' 'SUR' 'JAM' 'BGR' 'CIV' 'SRB' 'JOR' 'SYR' 'PHL' 'PRI'\n",
      " 'SGP' 'BDI' 'LBN' 'AGO' 'VNM' 'AZE' 'PLW' 'NZL' 'EGY' 'MDV' 'CMR' 'MLT'\n",
      " 'SVK' 'MWI' 'STP' 'TWN' 'IDN' 'SEN' 'PER' 'SAU' 'KNA' 'ETH' 'ECU' 'IRQ'\n",
      " 'AND' 'HND' 'PAK' 'GEO' 'ZMB' 'QAT' 'KHM' 'MCO' 'BGD' 'ISL' 'UZB' 'IMN'\n",
      " 'TJK' 'NIC' 'BEN' 'MAC' 'VGB' 'TZA' 'GAB' 'MKD' 'TMP' 'GLP' 'KEN' 'LIE'\n",
      " 'MMR' 'PAN' 'BFA' 'LBY' 'GNB' 'MLI' 'BHR' 'NAM' 'BOL' 'SYC' 'PRY' 'BRB'\n",
      " 'ABW' 'SLV' 'DMA' 'CUB' 'PYF' 'UGA' 'GUY' 'LCA' 'ATA' 'RWA' 'MNE']\n",
      "['Direct' 'TA/TO' 'Corporate' 'GDS']\n",
      "['A               ' 'C               ' 'D               '\n",
      " 'E               ' 'G               ' 'F               '\n",
      " 'B               ']\n"
     ]
    }
   ],
   "source": [
    "for col in htrain.columns:\n",
    "    if htrain[col].dtypes == 'object':\n",
    "        print(htrain[col].unique())        "
   ]
  },
  {
   "cell_type": "code",
   "execution_count": 32,
   "metadata": {},
   "outputs": [
    {
     "name": "stderr",
     "output_type": "stream",
     "text": [
      "/tmp/ipykernel_48/695320375.py:2: SettingWithCopyWarning: \n",
      "A value is trying to be set on a copy of a slice from a DataFrame\n",
      "\n",
      "See the caveats in the documentation: https://pandas.pydata.org/pandas-docs/stable/user_guide/indexing.html#returning-a-view-versus-a-copy\n",
      "  htrain['reserved_room_type'][i] = htrain['reserved_room_type'][i].rstrip()\n"
     ]
    }
   ],
   "source": [
    "for i in htrain['reserved_room_type'].index:\n",
    "    htrain['reserved_room_type'][i] = htrain['reserved_room_type'][i].rstrip()"
   ]
  },
  {
   "cell_type": "code",
   "execution_count": 33,
   "metadata": {},
   "outputs": [
    {
     "name": "stderr",
     "output_type": "stream",
     "text": [
      "/tmp/ipykernel_48/2332695448.py:2: SettingWithCopyWarning: \n",
      "A value is trying to be set on a copy of a slice from a DataFrame\n",
      "\n",
      "See the caveats in the documentation: https://pandas.pydata.org/pandas-docs/stable/user_guide/indexing.html#returning-a-view-versus-a-copy\n",
      "  htrain['meal'][i] = htrain['meal'][i].rstrip()\n"
     ]
    }
   ],
   "source": [
    "for i in htrain['meal'].index:\n",
    "    htrain['meal'][i] = htrain['meal'][i].rstrip()"
   ]
  },
  {
   "cell_type": "code",
   "execution_count": 34,
   "metadata": {},
   "outputs": [
    {
     "data": {
      "text/plain": [
       "array(['A', 'C', 'D', 'E', 'G', 'F', 'B'], dtype=object)"
      ]
     },
     "execution_count": 34,
     "metadata": {},
     "output_type": "execute_result"
    }
   ],
   "source": [
    "(htrain['reserved_room_type'].unique())  "
   ]
  },
  {
   "cell_type": "code",
   "execution_count": 35,
   "metadata": {},
   "outputs": [
    {
     "data": {
      "text/plain": [
       "array(['BB', 'FB', 'HB', 'SC'], dtype=object)"
      ]
     },
     "execution_count": 35,
     "metadata": {},
     "output_type": "execute_result"
    }
   ],
   "source": [
    "htrain['meal'].unique() "
   ]
  },
  {
   "cell_type": "markdown",
   "metadata": {},
   "source": [
    "Также уберём пробелы в названиях. Неявных дупликатов, к счастью, не обнаружилось"
   ]
  },
  {
   "cell_type": "markdown",
   "metadata": {},
   "source": [
    "<div class=\"alert alert-success\">\n",
    "<h2>Комментарий ревьюера v2<a class=\"tocSkip\"></a></h2>\n",
    "    \n",
    "**Отлично!** ✔️: 👍</div>"
   ]
  },
  {
   "cell_type": "markdown",
   "metadata": {},
   "source": [
    "<div class=\"alert alert-warning\">\n",
    "<h2>Комментарий ревьюера<a class=\"tocSkip\"></a></h2>\n",
    "    \n",
    "**Есть совет** ⚠️: окей, но здесь явно можно больше времени уделить предобработке, начать можно со следующего:\n",
    "1. Лучше внимательнее изучить каждый признак на предмет выбросов: например, 10 младенцев в бронировании или 8 требуемых парковочных мест — явные аномалии, которые стоит обработать;\n",
    "2. Стоит проверить категориальные признаки на предмет лишних пробелов и неявных дубликатов\n",
    "3. Также можно проверить данные на адекватность: например, детям без взрослых номер сдать не могут, так что если такие записи есть — их лучше удалить\n",
    "4. Судя по описанию, `total_nights` — это сумма `stays_in_week_nights` и `stays_in_weekend_nights`, лучше это проверить, и если это и правда так, то все три признака нам не нужны, некоторые стоит удалить</div>"
   ]
  },
  {
   "cell_type": "markdown",
   "metadata": {},
   "source": [
    "<div class=\"alert alert-info\">\n",
    "    <b>Комментарий студента:</b> Сделал, но вопросы есть. Например, 8 детей - могут же приехать такие семьи. Насчёт 4го пункта - так оно и есть, поэтому я оставил total_nights, остальные удалил. И ещё - надо ли делать то же самое в тестовой выборке, всё-таки, модель должна уметь работать и с такими данными? Или я ошибаюсь?\n",
    "</div>"
   ]
  },
  {
   "cell_type": "markdown",
   "metadata": {},
   "source": [
    "<div class=\"alert alert-warning\">\n",
    "<h2>Комментарий ревьюера v2<a class=\"tocSkip\"></a></h2>\n",
    "    \n",
    "**Есть совет** ⚠️: даже при условии, что бронирования с 8 и более детьми — реальны, таких записей слишком мало, чтобы использовать их для обучения. При обработке тестовой выборки также важно избавиться от лишних пробелов и признаков. А при обработке выбросов вообще обычно еще стоит ориентироваться на их природу. Например, когда выбросы вполне легко объясняются предметной областью, можно как раз вернуться к lead_time: люди бронируют номер за год и более. Несмотря на то, что это статистические выбросы, это тоже объясняет поведение определенной группы пользователей, а значит может быть полезно и для модели. Если же выбросы единичны(как в случае с младенцами) или противоречат здравому смыслу(детям до 14 лет без взрослых не могут сдать номер по закону), то полезными для модели эти данные вряд ли назовешь, скорее, они будут вносить лишний шум. Но проконсультироваться с коллегами по этому поводу и выяснить причину выбросов, конечно, стоит :)</div>"
   ]
  },
  {
   "cell_type": "markdown",
   "metadata": {},
   "source": [
    "<div class=\"alert alert-info\">\n",
    "    <b>Комментарий студента V2:</b> Учитывая частоту таких значений, я не уверен, что это выбросы (по поводу lead_time). А в остальном - убедил, вычеркнул эти значения)\n",
    "</div>"
   ]
  },
  {
   "cell_type": "markdown",
   "metadata": {},
   "source": [
    "<div class=\"alert alert-success\">\n",
    "<h2>Комментарий ревьюера v3<a class=\"tocSkip\"></a></h2>\n",
    "    \n",
    "**Отлично!** ✔️: 👍</div>"
   ]
  },
  {
   "cell_type": "markdown",
   "metadata": {},
   "source": [
    "### Шаг 3. Формулировка ML-задачи на основе бизнес-задачи"
   ]
  },
  {
   "cell_type": "markdown",
   "metadata": {},
   "source": [
    "Итак, мы хотим убрать убытки или, хотя бы, сократить их. Для этого нам нужно предугадать, откажется ли клиент от брони. Для этогь нам нужно обучить модель. Бинарный столбец \"is_canceled\" - наш целевой показатель.\n",
    "<br> Нам нужно угадать, 0 или 1 будет в свежих данных.Мы выяснили, что есть корреляция с оттягиванием, то есть, он будет влиять на предсказание модели, которую мы выберем."
   ]
  },
  {
   "cell_type": "markdown",
   "metadata": {},
   "source": [
    "Так как целевой признак у нас бинарный - мы имеем дело с задачей классификации и модели будем использовать соответствующие."
   ]
  },
  {
   "cell_type": "markdown",
   "metadata": {},
   "source": [
    "Но для начала нам нужно вычислить прибыль отеля без депозитов. Вычислим минимум, допустим, что все гости оставлись на одну ночь, и в номерах у них провели одну уборку. Так как данные из тренировочной и тестовой выборок взяты не из потолка, и в этом разделе не надо обучать модели, то для более точных результатов объединим выборки в одну."
   ]
  },
  {
   "cell_type": "markdown",
   "metadata": {},
   "source": [
    "<div class=\"alert alert-danger\">\n",
    "<h2>Комментарий ревьюера<a class=\"tocSkip\"></a></h2>\n",
    "\n",
    "**Нужно доработать** ❌: не совсем, на этом этапе необходимо рассчитать общую и реальную прибыль за тестовый период(на тестовой выборке) до внедрения модели, с учетом всех правил, указанных в задании. После выбора лучшей модели нужно аналогично рассчитать общую прибыль после внедрения. Если разница будет больше расходов на разработку(400000), тогда модель будет полезна бизнесу</div>"
   ]
  },
  {
   "cell_type": "markdown",
   "metadata": {},
   "source": [
    "<div class=\"alert alert-info\">\n",
    "    <b>Комментарий студента:</b> С этим разделом возникли большие проблемы, потому что я застрал на вычислении прибыли. Вот я указал для каждого типа комнаты стоимость с учетом уборки на ночь, умножил на проценты, в зависимости от сезона, а как дальше? Как, например посчитать, сколько приемов пищи заказал бы клиент, и на сколько ночей он забронировал. Это все вычисляется в цикле? или как-то по -другому? Помоги пожалуйста разобраться с этим.\n",
    "</div>"
   ]
  },
  {
   "cell_type": "markdown",
   "metadata": {},
   "source": [
    "<div class=\"alert alert-danger\">\n",
    "<h2>Комментарий ревьюера v2<a class=\"tocSkip\"></a></h2>\n",
    "\n",
    "**Нужно доработать** ❌: давай попробуем разобраться чуть подробнее:\n",
    "1. В случае успешного заселения прибылью отеля будет произведение количества забронированных ночей(признак `total_nights`) и стоимости номера за ночь, с учетом сезонного коэффициента. Также в задании есть фраза: «Прибыль отеля — это разница между стоимостью номера за все ночи и затраты на обслуживание: как при подготовке номера, так и при проживании постояльца». А отсюда мы узнаем два факта:\n",
    "    - затраты на обслуживание в случае, когда клиент заселился, нужно вычитать из суммарной стоимости за номер;\n",
    "    - есть еще одна обязательная уборка перед заселением клиента;\n",
    "\n",
    "    То есть убытками в этом случае будет как раз общее количество уборок за этот период(сезонный коэффициент к ним применяться не будет). Чтобы рассчитать количество уборок для любого количества ночей можно использовать формулу `1 + total_nights // 2`. С учетом уборки перед заселением, получается следующее:\n",
    "\n",
    "    1 ночь, дополнительная уборка не требуется, 1 + 1 // 2 = 1\n",
    "\n",
    "    2 ночи, убираться будут днем после первой ночи, 1 + 2 // 2 = 2\n",
    "\n",
    "    3 ночи, убираться будут днем после первой ночи, 1 + 3 // 2 = 2\n",
    "\n",
    "    4 ночи, убираться будут днем после первой ночи, днём после третьей ночи, 1 + 4 // 2 = 3 и т.д.\n",
    "    \n",
    "\n",
    "2. В случае отмены бронирования до внедрения модели отель не получает никакой прибыли, а несет убытки в размере стоимости одной ночи(с учетом сезонного коэффициента) и стоимости одной уборки\n",
    "    \n",
    "\n",
    "3. После внедрения модели прибыль меняется только в одном случае: когда модель успешно определила отмену брони(is_canceled=1, predictions=1), подробнее про это я писал ниже;\n",
    "    \n",
    "    \n",
    "4. Перебирать строки с помощью цикла — не лучшая идея: методы pandas оптимизированы для работы с большим количеством данных, поэтому помимо более простого и читаемого кода, они будут работать быстрее. Тогда, например, нужно вынести код для расчета прибыли в функцию и использовать ее при вызове apply:\n",
    "    \n",
    "        def profit(row):\n",
    "            ...\n",
    "            if row['is_canceled'] == 0:\n",
    "                revenue = ...\n",
    "                expenses = ...\n",
    "            else:\n",
    "                revenue = ...\n",
    "                expenses = ...\n",
    "\n",
    "            return revenue - expenses\n",
    "\n",
    "        df['profit'] = df.apply(profit, axis=1)\n",
    "        # итоговая выручка\n",
    "        df['profit'].sum()\n",
    "</div>"
   ]
  },
  {
   "cell_type": "markdown",
   "metadata": {},
   "source": [
    "Без внедрения депозита прибыль составляет 30 млн. рублей."
   ]
  },
  {
   "cell_type": "markdown",
   "metadata": {},
   "source": [
    "<div class=\"alert alert-info\">\n",
    "    <b>Комментарий студента V2:</b> В общем, немного погуглил, обратился за помощью к остальным и получился вот такой алгоритм. \n",
    "    \n",
    " Сначала составил нужный датасет со столбцами, которые фигурируют в расчете. Далее генератором, про который я, к сожалению, забыл) создал список из комнат и месяцев и приписал к ним характеристики) Ну и раскидал по таблицам. \n",
    "    \n",
    "Также еще не знал, что к коэффиценту нужно прибавлять 1, но не понимаю, зачем (всегда это не понимал). НУ и в конце, по твоему шаблону получилась такая функция. Грустно с себя, что не я сам додумался, но что поделать)\n",
    "</div>"
   ]
  },
  {
   "cell_type": "markdown",
   "metadata": {},
   "source": [
    "<div class=\"alert alert-success\">\n",
    "<h2>Комментарий ревьюера v3<a class=\"tocSkip\"></a></h2>\n",
    "    \n",
    "**Отлично!** ✔️: здорово, что получилось разобраться, такое решение вполне подходит, а прибыль рассчитана верно! Если ты имеешь ввиду сезонный коэффициент, то раз мы хотим увеличить цены на 20 и 40 процентов, то самый простой вариант — это домножить цену на 1.2 и 1.4 соответственно</div>"
   ]
  },
  {
   "cell_type": "code",
   "execution_count": 36,
   "metadata": {},
   "outputs": [],
   "source": [
    "case_profit = htest[['is_canceled', 'arrival_date_month', 'reserved_room_type', 'total_nights']]"
   ]
  },
  {
   "cell_type": "code",
   "execution_count": 37,
   "metadata": {},
   "outputs": [],
   "source": [
    "rooms = pd.DataFrame({'reserved_room_type' : [i for i in sorted(case_profit['reserved_room_type'].unique())],\n",
    "                         'price_per_night' : [1000, 800, 600, 550, 500, 450, 350],\n",
    "                         'service_price' : [400, 350, 350, 150, 150, 150, 150]})\n",
    "case_profit = case_profit.merge(rooms, on='reserved_room_type', how='left')"
   ]
  },
  {
   "cell_type": "code",
   "execution_count": 38,
   "metadata": {},
   "outputs": [
    {
     "data": {
      "text/html": [
       "<div>\n",
       "<style scoped>\n",
       "    .dataframe tbody tr th:only-of-type {\n",
       "        vertical-align: middle;\n",
       "    }\n",
       "\n",
       "    .dataframe tbody tr th {\n",
       "        vertical-align: top;\n",
       "    }\n",
       "\n",
       "    .dataframe thead th {\n",
       "        text-align: right;\n",
       "    }\n",
       "</style>\n",
       "<table border=\"1\" class=\"dataframe\">\n",
       "  <thead>\n",
       "    <tr style=\"text-align: right;\">\n",
       "      <th></th>\n",
       "      <th>is_canceled</th>\n",
       "      <th>arrival_date_month</th>\n",
       "      <th>reserved_room_type</th>\n",
       "      <th>total_nights</th>\n",
       "      <th>price_per_night</th>\n",
       "      <th>service_price</th>\n",
       "    </tr>\n",
       "  </thead>\n",
       "  <tbody>\n",
       "    <tr>\n",
       "      <th>0</th>\n",
       "      <td>1</td>\n",
       "      <td>January</td>\n",
       "      <td>A</td>\n",
       "      <td>1</td>\n",
       "      <td>1000</td>\n",
       "      <td>400</td>\n",
       "    </tr>\n",
       "    <tr>\n",
       "      <th>1</th>\n",
       "      <td>1</td>\n",
       "      <td>January</td>\n",
       "      <td>A</td>\n",
       "      <td>4</td>\n",
       "      <td>1000</td>\n",
       "      <td>400</td>\n",
       "    </tr>\n",
       "    <tr>\n",
       "      <th>2</th>\n",
       "      <td>1</td>\n",
       "      <td>January</td>\n",
       "      <td>A</td>\n",
       "      <td>4</td>\n",
       "      <td>1000</td>\n",
       "      <td>400</td>\n",
       "    </tr>\n",
       "    <tr>\n",
       "      <th>3</th>\n",
       "      <td>1</td>\n",
       "      <td>January</td>\n",
       "      <td>A</td>\n",
       "      <td>4</td>\n",
       "      <td>1000</td>\n",
       "      <td>400</td>\n",
       "    </tr>\n",
       "    <tr>\n",
       "      <th>4</th>\n",
       "      <td>1</td>\n",
       "      <td>January</td>\n",
       "      <td>A</td>\n",
       "      <td>7</td>\n",
       "      <td>1000</td>\n",
       "      <td>400</td>\n",
       "    </tr>\n",
       "  </tbody>\n",
       "</table>\n",
       "</div>"
      ],
      "text/plain": [
       "   is_canceled arrival_date_month reserved_room_type  total_nights  \\\n",
       "0            1            January   A                            1   \n",
       "1            1            January   A                            4   \n",
       "2            1            January   A                            4   \n",
       "3            1            January   A                            4   \n",
       "4            1            January   A                            7   \n",
       "\n",
       "   price_per_night  service_price  \n",
       "0             1000            400  \n",
       "1             1000            400  \n",
       "2             1000            400  \n",
       "3             1000            400  \n",
       "4             1000            400  "
      ]
     },
     "execution_count": 38,
     "metadata": {},
     "output_type": "execute_result"
    }
   ],
   "source": [
    "case_profit.head()"
   ]
  },
  {
   "cell_type": "code",
   "execution_count": 39,
   "metadata": {},
   "outputs": [
    {
     "ename": "NameError",
     "evalue": "name 'room_dict' is not defined",
     "output_type": "error",
     "traceback": [
      "\u001b[0;31m---------------------------------------------------------------------------\u001b[0m",
      "\u001b[0;31mNameError\u001b[0m                                 Traceback (most recent call last)",
      "\u001b[0;32m/tmp/ipykernel_48/3767235810.py\u001b[0m in \u001b[0;36m<module>\u001b[0;34m\u001b[0m\n\u001b[0;32m----> 1\u001b[0;31m \u001b[0mroom_dict\u001b[0m\u001b[0;34m\u001b[0m\u001b[0;34m\u001b[0m\u001b[0m\n\u001b[0m",
      "\u001b[0;31mNameError\u001b[0m: name 'room_dict' is not defined"
     ]
    }
   ],
   "source": [
    "room_dict"
   ]
  },
  {
   "cell_type": "code",
   "execution_count": 41,
   "metadata": {},
   "outputs": [
    {
     "data": {
      "text/html": [
       "<div>\n",
       "<style scoped>\n",
       "    .dataframe tbody tr th:only-of-type {\n",
       "        vertical-align: middle;\n",
       "    }\n",
       "\n",
       "    .dataframe tbody tr th {\n",
       "        vertical-align: top;\n",
       "    }\n",
       "\n",
       "    .dataframe thead th {\n",
       "        text-align: right;\n",
       "    }\n",
       "</style>\n",
       "<table border=\"1\" class=\"dataframe\">\n",
       "  <thead>\n",
       "    <tr style=\"text-align: right;\">\n",
       "      <th></th>\n",
       "      <th>is_canceled</th>\n",
       "      <th>arrival_date_month</th>\n",
       "      <th>reserved_room_type</th>\n",
       "      <th>total_nights</th>\n",
       "      <th>price_per_night</th>\n",
       "      <th>service_price</th>\n",
       "      <th>coef</th>\n",
       "    </tr>\n",
       "  </thead>\n",
       "  <tbody>\n",
       "    <tr>\n",
       "      <th>0</th>\n",
       "      <td>1</td>\n",
       "      <td>January</td>\n",
       "      <td>A</td>\n",
       "      <td>1</td>\n",
       "      <td>1000</td>\n",
       "      <td>400</td>\n",
       "      <td>1.0</td>\n",
       "    </tr>\n",
       "    <tr>\n",
       "      <th>1</th>\n",
       "      <td>1</td>\n",
       "      <td>January</td>\n",
       "      <td>A</td>\n",
       "      <td>4</td>\n",
       "      <td>1000</td>\n",
       "      <td>400</td>\n",
       "      <td>1.0</td>\n",
       "    </tr>\n",
       "    <tr>\n",
       "      <th>2</th>\n",
       "      <td>1</td>\n",
       "      <td>January</td>\n",
       "      <td>A</td>\n",
       "      <td>4</td>\n",
       "      <td>1000</td>\n",
       "      <td>400</td>\n",
       "      <td>1.0</td>\n",
       "    </tr>\n",
       "    <tr>\n",
       "      <th>3</th>\n",
       "      <td>1</td>\n",
       "      <td>January</td>\n",
       "      <td>A</td>\n",
       "      <td>4</td>\n",
       "      <td>1000</td>\n",
       "      <td>400</td>\n",
       "      <td>1.0</td>\n",
       "    </tr>\n",
       "    <tr>\n",
       "      <th>4</th>\n",
       "      <td>1</td>\n",
       "      <td>January</td>\n",
       "      <td>A</td>\n",
       "      <td>7</td>\n",
       "      <td>1000</td>\n",
       "      <td>400</td>\n",
       "      <td>1.0</td>\n",
       "    </tr>\n",
       "    <tr>\n",
       "      <th>...</th>\n",
       "      <td>...</td>\n",
       "      <td>...</td>\n",
       "      <td>...</td>\n",
       "      <td>...</td>\n",
       "      <td>...</td>\n",
       "      <td>...</td>\n",
       "      <td>...</td>\n",
       "    </tr>\n",
       "    <tr>\n",
       "      <th>32407</th>\n",
       "      <td>0</td>\n",
       "      <td>August</td>\n",
       "      <td>A</td>\n",
       "      <td>6</td>\n",
       "      <td>1000</td>\n",
       "      <td>400</td>\n",
       "      <td>1.4</td>\n",
       "    </tr>\n",
       "    <tr>\n",
       "      <th>32408</th>\n",
       "      <td>0</td>\n",
       "      <td>August</td>\n",
       "      <td>A</td>\n",
       "      <td>7</td>\n",
       "      <td>1000</td>\n",
       "      <td>400</td>\n",
       "      <td>1.4</td>\n",
       "    </tr>\n",
       "    <tr>\n",
       "      <th>32409</th>\n",
       "      <td>0</td>\n",
       "      <td>August</td>\n",
       "      <td>A</td>\n",
       "      <td>7</td>\n",
       "      <td>1000</td>\n",
       "      <td>400</td>\n",
       "      <td>1.4</td>\n",
       "    </tr>\n",
       "    <tr>\n",
       "      <th>32410</th>\n",
       "      <td>0</td>\n",
       "      <td>August</td>\n",
       "      <td>D</td>\n",
       "      <td>7</td>\n",
       "      <td>550</td>\n",
       "      <td>150</td>\n",
       "      <td>1.4</td>\n",
       "    </tr>\n",
       "    <tr>\n",
       "      <th>32411</th>\n",
       "      <td>0</td>\n",
       "      <td>August</td>\n",
       "      <td>A</td>\n",
       "      <td>7</td>\n",
       "      <td>1000</td>\n",
       "      <td>400</td>\n",
       "      <td>1.4</td>\n",
       "    </tr>\n",
       "  </tbody>\n",
       "</table>\n",
       "<p>32412 rows × 7 columns</p>\n",
       "</div>"
      ],
      "text/plain": [
       "       is_canceled arrival_date_month reserved_room_type  total_nights  \\\n",
       "0                1            January   A                            1   \n",
       "1                1            January   A                            4   \n",
       "2                1            January   A                            4   \n",
       "3                1            January   A                            4   \n",
       "4                1            January   A                            7   \n",
       "...            ...                ...                ...           ...   \n",
       "32407            0             August   A                            6   \n",
       "32408            0             August   A                            7   \n",
       "32409            0             August   A                            7   \n",
       "32410            0             August   D                            7   \n",
       "32411            0             August   A                            7   \n",
       "\n",
       "       price_per_night  service_price  coef  \n",
       "0                 1000            400   1.0  \n",
       "1                 1000            400   1.0  \n",
       "2                 1000            400   1.0  \n",
       "3                 1000            400   1.0  \n",
       "4                 1000            400   1.0  \n",
       "...                ...            ...   ...  \n",
       "32407             1000            400   1.4  \n",
       "32408             1000            400   1.4  \n",
       "32409             1000            400   1.4  \n",
       "32410              550            150   1.4  \n",
       "32411             1000            400   1.4  \n",
       "\n",
       "[32412 rows x 7 columns]"
      ]
     },
     "execution_count": 41,
     "metadata": {},
     "output_type": "execute_result"
    }
   ],
   "source": [
    "months = pd.DataFrame({'arrival_date_month' : [i for i in case_profit['arrival_date_month'].unique()],\n",
    "                          'coef' : [1, 1, 1.2, 1.2, 1.2, 1.4, 1.4, 1.4]})\n",
    "case_profit = case_profit.merge(months, on='arrival_date_month', how='left')\n",
    "case_profit"
   ]
  },
  {
   "cell_type": "code",
   "execution_count": 42,
   "metadata": {},
   "outputs": [],
   "source": [
    "def profit(data):\n",
    "    if data['is_canceled'] == 0:\n",
    "        revenue = data['price_per_night'] * data['coef'] * data['total_nights']\n",
    "        expenses = data['service_price'] * (1 + data['total_nights'] // 2)\n",
    "    else:\n",
    "        revenue = 0\n",
    "        expenses = data['service_price'] + (data['price_per_night'] * data['coef'])\n",
    "    return revenue - expenses"
   ]
  },
  {
   "cell_type": "code",
   "execution_count": 43,
   "metadata": {},
   "outputs": [],
   "source": [
    "case_profit['total_profit'] = case_profit.apply(profit, axis=1)"
   ]
  },
  {
   "cell_type": "code",
   "execution_count": 44,
   "metadata": {},
   "outputs": [
    {
     "name": "stdout",
     "output_type": "stream",
     "text": [
      "Прибыль без депозита составляет 32582920.0 рублей.\n"
     ]
    }
   ],
   "source": [
    "print(f'Прибыль без депозита составляет {case_profit[\"total_profit\"].sum()} рублей.')"
   ]
  },
  {
   "cell_type": "markdown",
   "metadata": {},
   "source": [
    "Итог - прибыль составила 32582920 рублей. Теперь приступим к разработке модели."
   ]
  },
  {
   "cell_type": "markdown",
   "metadata": {},
   "source": [
    "### Шаг 4. Разработка модели ML"
   ]
  },
  {
   "cell_type": "markdown",
   "metadata": {},
   "source": [
    "Для начала нужно подготовить данные для обучения: обозначить признаки, закодировать данные и поделить на выборки."
   ]
  },
  {
   "cell_type": "markdown",
   "metadata": {},
   "source": [
    "#### Подготовка для модели"
   ]
  },
  {
   "cell_type": "markdown",
   "metadata": {},
   "source": [
    "<div class=\"alert alert-warning\">\n",
    "<h2>Комментарий ревьюера<a class=\"tocSkip\"></a></h2>\n",
    "    \n",
    "**Есть совет** ⚠️: окей, но не все остальные признаки будут полезны для модели: например, так как модели не придется предсказывать бронирования для прошлых лет, то год заезда будет только путать модель. А номер недели всегда будет линейно зависим с номером месяца, то есть никакой новой информации для модели этот признак не несет</div>"
   ]
  },
  {
   "cell_type": "markdown",
   "metadata": {},
   "source": [
    "<div class=\"alert alert-info\">\n",
    "    <b>Комментарий студента:</b> Готово) Также ещё убрал столбец \"сколько дней заказ ждал подтверждения\", ведь, скорее всего, отель подтверждал.\n",
    "</div>"
   ]
  },
  {
   "cell_type": "markdown",
   "metadata": {},
   "source": [
    "<div class=\"alert alert-success\">\n",
    "<h2>Комментарий ревьюера v2<a class=\"tocSkip\"></a></h2>\n",
    "    \n",
    "**Отлично!** ✔️: мы не знаем, как именно проходило подтверждение заказа, но с учетом того, что в этом признаке большинство значений — нулевые, особо полезной информации он и правда вряд ли принесет</div>"
   ]
  },
  {
   "cell_type": "code",
   "execution_count": 45,
   "metadata": {},
   "outputs": [
    {
     "name": "stdout",
     "output_type": "stream",
     "text": [
      "is_canceled                         int64\n",
      "lead_time                         float64\n",
      "arrival_date_year                   int64\n",
      "arrival_date_month                 object\n",
      "arrival_date_week_number            int64\n",
      "arrival_date_day_of_month           int64\n",
      "stays_in_weekend_nights             int64\n",
      "stays_in_week_nights                int64\n",
      "adults                            float64\n",
      "children                          float64\n",
      "babies                            float64\n",
      "meal                               object\n",
      "country                            object\n",
      "distribution_channel               object\n",
      "is_repeated_guest                   int64\n",
      "previous_cancellations              int64\n",
      "previous_bookings_not_canceled      int64\n",
      "reserved_room_type                 object\n",
      "booking_changes                     int64\n",
      "days_in_waiting_list                int64\n",
      "required_car_parking_spaces         int64\n",
      "total_of_special_requests           int64\n",
      "total_nights                        int64\n",
      "dtype: object\n",
      "\n",
      "is_canceled                         int64\n",
      "lead_time                         float64\n",
      "arrival_date_year                   int64\n",
      "arrival_date_month                 object\n",
      "arrival_date_week_number            int64\n",
      "arrival_date_day_of_month           int64\n",
      "stays_in_weekend_nights             int64\n",
      "stays_in_week_nights                int64\n",
      "adults                            float64\n",
      "children                          float64\n",
      "babies                            float64\n",
      "meal                               object\n",
      "country                            object\n",
      "distribution_channel               object\n",
      "is_repeated_guest                   int64\n",
      "previous_cancellations              int64\n",
      "previous_bookings_not_canceled      int64\n",
      "reserved_room_type                 object\n",
      "booking_changes                     int64\n",
      "days_in_waiting_list                int64\n",
      "required_car_parking_spaces         int64\n",
      "total_of_special_requests           int64\n",
      "total_nights                        int64\n",
      "dtype: object\n",
      "\n"
     ]
    }
   ],
   "source": [
    "for h in hotels:\n",
    "    print(h.dtypes, end='\\n\\n')"
   ]
  },
  {
   "cell_type": "code",
   "execution_count": 46,
   "metadata": {},
   "outputs": [],
   "source": [
    "ord_enc = OrdinalEncoder() # закодируем данные"
   ]
  },
  {
   "cell_type": "code",
   "execution_count": 47,
   "metadata": {
    "scrolled": true
   },
   "outputs": [
    {
     "data": {
      "text/plain": [
       "\"for col in htrain.columns:\\n    if htrain[col].dtypes == 'object':\\n        print(f'{col} имеет тип {htrain[col].dtypes}')\\n        htrain[col] = ord_enc.fit_transform(htrain[[col]])\""
      ]
     },
     "execution_count": 47,
     "metadata": {},
     "output_type": "execute_result"
    }
   ],
   "source": [
    "'''for col in htrain.columns:\n",
    "    if htrain[col].dtypes == 'object':\n",
    "        print(f'{col} имеет тип {htrain[col].dtypes}')\n",
    "        htrain[col] = ord_enc.fit_transform(htrain[[col]])'''"
   ]
  },
  {
   "cell_type": "code",
   "execution_count": 48,
   "metadata": {},
   "outputs": [
    {
     "data": {
      "text/plain": [
       "is_canceled                         int64\n",
       "lead_time                         float64\n",
       "arrival_date_year                   int64\n",
       "arrival_date_month                 object\n",
       "arrival_date_week_number            int64\n",
       "arrival_date_day_of_month           int64\n",
       "adults                            float64\n",
       "children                          float64\n",
       "babies                            float64\n",
       "meal                               object\n",
       "country                            object\n",
       "distribution_channel               object\n",
       "is_repeated_guest                   int64\n",
       "previous_cancellations              int64\n",
       "previous_bookings_not_canceled      int64\n",
       "reserved_room_type                 object\n",
       "booking_changes                     int64\n",
       "days_in_waiting_list                int64\n",
       "required_car_parking_spaces         int64\n",
       "total_of_special_requests           int64\n",
       "total_nights                        int64\n",
       "dtype: object"
      ]
     },
     "execution_count": 48,
     "metadata": {},
     "output_type": "execute_result"
    }
   ],
   "source": [
    "htrain.dtypes"
   ]
  },
  {
   "cell_type": "markdown",
   "metadata": {},
   "source": [
    "#### Подготовка выборок"
   ]
  },
  {
   "cell_type": "markdown",
   "metadata": {},
   "source": [
    "Так как сами таблицы поделены на тренеровочную и тестовую, то на тренировочной обучим, а на тестовой проверим."
   ]
  },
  {
   "cell_type": "code",
   "execution_count": 49,
   "metadata": {},
   "outputs": [],
   "source": [
    "features_train = htrain.drop(columns='is_canceled', axis=1)\n",
    "target_train = htrain['is_canceled']\n",
    "features_test = htest.drop(columns='is_canceled', axis=1) \n",
    "target_test = htest['is_canceled']"
   ]
  },
  {
   "cell_type": "code",
   "execution_count": 50,
   "metadata": {},
   "outputs": [
    {
     "data": {
      "text/plain": [
       "lead_time                         float64\n",
       "arrival_date_year                   int64\n",
       "arrival_date_month                 object\n",
       "arrival_date_week_number            int64\n",
       "arrival_date_day_of_month           int64\n",
       "adults                            float64\n",
       "children                          float64\n",
       "babies                            float64\n",
       "meal                               object\n",
       "country                            object\n",
       "distribution_channel               object\n",
       "is_repeated_guest                   int64\n",
       "previous_cancellations              int64\n",
       "previous_bookings_not_canceled      int64\n",
       "reserved_room_type                 object\n",
       "booking_changes                     int64\n",
       "days_in_waiting_list                int64\n",
       "required_car_parking_spaces         int64\n",
       "total_of_special_requests           int64\n",
       "total_nights                        int64\n",
       "dtype: object"
      ]
     },
     "execution_count": 50,
     "metadata": {},
     "output_type": "execute_result"
    }
   ],
   "source": [
    "features_train.dtypes"
   ]
  },
  {
   "cell_type": "code",
   "execution_count": 51,
   "metadata": {},
   "outputs": [
    {
     "data": {
      "text/html": [
       "<div>\n",
       "<style scoped>\n",
       "    .dataframe tbody tr th:only-of-type {\n",
       "        vertical-align: middle;\n",
       "    }\n",
       "\n",
       "    .dataframe tbody tr th {\n",
       "        vertical-align: top;\n",
       "    }\n",
       "\n",
       "    .dataframe thead th {\n",
       "        text-align: right;\n",
       "    }\n",
       "</style>\n",
       "<table border=\"1\" class=\"dataframe\">\n",
       "  <thead>\n",
       "    <tr style=\"text-align: right;\">\n",
       "      <th></th>\n",
       "      <th>lead_time</th>\n",
       "      <th>arrival_date_year</th>\n",
       "      <th>arrival_date_month</th>\n",
       "      <th>arrival_date_week_number</th>\n",
       "      <th>arrival_date_day_of_month</th>\n",
       "      <th>adults</th>\n",
       "      <th>children</th>\n",
       "      <th>babies</th>\n",
       "      <th>meal</th>\n",
       "      <th>country</th>\n",
       "      <th>distribution_channel</th>\n",
       "      <th>is_repeated_guest</th>\n",
       "      <th>previous_cancellations</th>\n",
       "      <th>previous_bookings_not_canceled</th>\n",
       "      <th>reserved_room_type</th>\n",
       "      <th>booking_changes</th>\n",
       "      <th>days_in_waiting_list</th>\n",
       "      <th>required_car_parking_spaces</th>\n",
       "      <th>total_of_special_requests</th>\n",
       "      <th>total_nights</th>\n",
       "    </tr>\n",
       "  </thead>\n",
       "  <tbody>\n",
       "    <tr>\n",
       "      <th>0</th>\n",
       "      <td>7.0</td>\n",
       "      <td>2015</td>\n",
       "      <td>July</td>\n",
       "      <td>27</td>\n",
       "      <td>1</td>\n",
       "      <td>1.0</td>\n",
       "      <td>0.0</td>\n",
       "      <td>0.0</td>\n",
       "      <td>BB</td>\n",
       "      <td>GBR</td>\n",
       "      <td>Direct</td>\n",
       "      <td>0</td>\n",
       "      <td>0</td>\n",
       "      <td>0</td>\n",
       "      <td>A</td>\n",
       "      <td>0</td>\n",
       "      <td>0</td>\n",
       "      <td>0</td>\n",
       "      <td>0</td>\n",
       "      <td>1</td>\n",
       "    </tr>\n",
       "    <tr>\n",
       "      <th>1</th>\n",
       "      <td>14.0</td>\n",
       "      <td>2015</td>\n",
       "      <td>July</td>\n",
       "      <td>27</td>\n",
       "      <td>1</td>\n",
       "      <td>2.0</td>\n",
       "      <td>0.0</td>\n",
       "      <td>0.0</td>\n",
       "      <td>BB</td>\n",
       "      <td>GBR</td>\n",
       "      <td>TA/TO</td>\n",
       "      <td>0</td>\n",
       "      <td>0</td>\n",
       "      <td>0</td>\n",
       "      <td>A</td>\n",
       "      <td>0</td>\n",
       "      <td>0</td>\n",
       "      <td>0</td>\n",
       "      <td>1</td>\n",
       "      <td>2</td>\n",
       "    </tr>\n",
       "    <tr>\n",
       "      <th>2</th>\n",
       "      <td>0.0</td>\n",
       "      <td>2015</td>\n",
       "      <td>July</td>\n",
       "      <td>27</td>\n",
       "      <td>1</td>\n",
       "      <td>2.0</td>\n",
       "      <td>0.0</td>\n",
       "      <td>0.0</td>\n",
       "      <td>BB</td>\n",
       "      <td>PRT</td>\n",
       "      <td>Direct</td>\n",
       "      <td>0</td>\n",
       "      <td>0</td>\n",
       "      <td>0</td>\n",
       "      <td>C</td>\n",
       "      <td>0</td>\n",
       "      <td>0</td>\n",
       "      <td>0</td>\n",
       "      <td>0</td>\n",
       "      <td>2</td>\n",
       "    </tr>\n",
       "    <tr>\n",
       "      <th>3</th>\n",
       "      <td>9.0</td>\n",
       "      <td>2015</td>\n",
       "      <td>July</td>\n",
       "      <td>27</td>\n",
       "      <td>1</td>\n",
       "      <td>2.0</td>\n",
       "      <td>0.0</td>\n",
       "      <td>0.0</td>\n",
       "      <td>FB</td>\n",
       "      <td>PRT</td>\n",
       "      <td>Direct</td>\n",
       "      <td>0</td>\n",
       "      <td>0</td>\n",
       "      <td>0</td>\n",
       "      <td>C</td>\n",
       "      <td>0</td>\n",
       "      <td>0</td>\n",
       "      <td>0</td>\n",
       "      <td>1</td>\n",
       "      <td>2</td>\n",
       "    </tr>\n",
       "    <tr>\n",
       "      <th>4</th>\n",
       "      <td>85.0</td>\n",
       "      <td>2015</td>\n",
       "      <td>July</td>\n",
       "      <td>27</td>\n",
       "      <td>1</td>\n",
       "      <td>2.0</td>\n",
       "      <td>0.0</td>\n",
       "      <td>0.0</td>\n",
       "      <td>BB</td>\n",
       "      <td>PRT</td>\n",
       "      <td>TA/TO</td>\n",
       "      <td>0</td>\n",
       "      <td>0</td>\n",
       "      <td>0</td>\n",
       "      <td>A</td>\n",
       "      <td>0</td>\n",
       "      <td>0</td>\n",
       "      <td>0</td>\n",
       "      <td>1</td>\n",
       "      <td>3</td>\n",
       "    </tr>\n",
       "    <tr>\n",
       "      <th>...</th>\n",
       "      <td>...</td>\n",
       "      <td>...</td>\n",
       "      <td>...</td>\n",
       "      <td>...</td>\n",
       "      <td>...</td>\n",
       "      <td>...</td>\n",
       "      <td>...</td>\n",
       "      <td>...</td>\n",
       "      <td>...</td>\n",
       "      <td>...</td>\n",
       "      <td>...</td>\n",
       "      <td>...</td>\n",
       "      <td>...</td>\n",
       "      <td>...</td>\n",
       "      <td>...</td>\n",
       "      <td>...</td>\n",
       "      <td>...</td>\n",
       "      <td>...</td>\n",
       "      <td>...</td>\n",
       "      <td>...</td>\n",
       "    </tr>\n",
       "    <tr>\n",
       "      <th>65224</th>\n",
       "      <td>23.0</td>\n",
       "      <td>2016</td>\n",
       "      <td>December</td>\n",
       "      <td>53</td>\n",
       "      <td>30</td>\n",
       "      <td>2.0</td>\n",
       "      <td>0.0</td>\n",
       "      <td>0.0</td>\n",
       "      <td>BB</td>\n",
       "      <td>CHN</td>\n",
       "      <td>TA/TO</td>\n",
       "      <td>0</td>\n",
       "      <td>0</td>\n",
       "      <td>0</td>\n",
       "      <td>D</td>\n",
       "      <td>0</td>\n",
       "      <td>0</td>\n",
       "      <td>0</td>\n",
       "      <td>2</td>\n",
       "      <td>6</td>\n",
       "    </tr>\n",
       "    <tr>\n",
       "      <th>65225</th>\n",
       "      <td>53.0</td>\n",
       "      <td>2016</td>\n",
       "      <td>December</td>\n",
       "      <td>53</td>\n",
       "      <td>31</td>\n",
       "      <td>2.0</td>\n",
       "      <td>0.0</td>\n",
       "      <td>0.0</td>\n",
       "      <td>HB</td>\n",
       "      <td>FRA</td>\n",
       "      <td>TA/TO</td>\n",
       "      <td>0</td>\n",
       "      <td>0</td>\n",
       "      <td>0</td>\n",
       "      <td>D</td>\n",
       "      <td>0</td>\n",
       "      <td>0</td>\n",
       "      <td>0</td>\n",
       "      <td>3</td>\n",
       "      <td>5</td>\n",
       "    </tr>\n",
       "    <tr>\n",
       "      <th>65226</th>\n",
       "      <td>7.0</td>\n",
       "      <td>2016</td>\n",
       "      <td>December</td>\n",
       "      <td>53</td>\n",
       "      <td>31</td>\n",
       "      <td>2.0</td>\n",
       "      <td>0.0</td>\n",
       "      <td>0.0</td>\n",
       "      <td>BB</td>\n",
       "      <td>FRA</td>\n",
       "      <td>TA/TO</td>\n",
       "      <td>0</td>\n",
       "      <td>0</td>\n",
       "      <td>0</td>\n",
       "      <td>D</td>\n",
       "      <td>0</td>\n",
       "      <td>0</td>\n",
       "      <td>0</td>\n",
       "      <td>1</td>\n",
       "      <td>6</td>\n",
       "    </tr>\n",
       "    <tr>\n",
       "      <th>65227</th>\n",
       "      <td>17.0</td>\n",
       "      <td>2016</td>\n",
       "      <td>December</td>\n",
       "      <td>53</td>\n",
       "      <td>30</td>\n",
       "      <td>2.0</td>\n",
       "      <td>0.0</td>\n",
       "      <td>0.0</td>\n",
       "      <td>SC</td>\n",
       "      <td>FRA</td>\n",
       "      <td>TA/TO</td>\n",
       "      <td>0</td>\n",
       "      <td>0</td>\n",
       "      <td>0</td>\n",
       "      <td>A</td>\n",
       "      <td>0</td>\n",
       "      <td>0</td>\n",
       "      <td>0</td>\n",
       "      <td>1</td>\n",
       "      <td>7</td>\n",
       "    </tr>\n",
       "    <tr>\n",
       "      <th>65228</th>\n",
       "      <td>107.0</td>\n",
       "      <td>2016</td>\n",
       "      <td>December</td>\n",
       "      <td>53</td>\n",
       "      <td>31</td>\n",
       "      <td>2.0</td>\n",
       "      <td>0.0</td>\n",
       "      <td>0.0</td>\n",
       "      <td>BB</td>\n",
       "      <td>FRA</td>\n",
       "      <td>TA/TO</td>\n",
       "      <td>0</td>\n",
       "      <td>0</td>\n",
       "      <td>0</td>\n",
       "      <td>A</td>\n",
       "      <td>0</td>\n",
       "      <td>0</td>\n",
       "      <td>0</td>\n",
       "      <td>0</td>\n",
       "      <td>7</td>\n",
       "    </tr>\n",
       "  </tbody>\n",
       "</table>\n",
       "<p>65060 rows × 20 columns</p>\n",
       "</div>"
      ],
      "text/plain": [
       "       lead_time  arrival_date_year arrival_date_month  \\\n",
       "0            7.0               2015               July   \n",
       "1           14.0               2015               July   \n",
       "2            0.0               2015               July   \n",
       "3            9.0               2015               July   \n",
       "4           85.0               2015               July   \n",
       "...          ...                ...                ...   \n",
       "65224       23.0               2016           December   \n",
       "65225       53.0               2016           December   \n",
       "65226        7.0               2016           December   \n",
       "65227       17.0               2016           December   \n",
       "65228      107.0               2016           December   \n",
       "\n",
       "       arrival_date_week_number  arrival_date_day_of_month  adults  children  \\\n",
       "0                            27                          1     1.0       0.0   \n",
       "1                            27                          1     2.0       0.0   \n",
       "2                            27                          1     2.0       0.0   \n",
       "3                            27                          1     2.0       0.0   \n",
       "4                            27                          1     2.0       0.0   \n",
       "...                         ...                        ...     ...       ...   \n",
       "65224                        53                         30     2.0       0.0   \n",
       "65225                        53                         31     2.0       0.0   \n",
       "65226                        53                         31     2.0       0.0   \n",
       "65227                        53                         30     2.0       0.0   \n",
       "65228                        53                         31     2.0       0.0   \n",
       "\n",
       "       babies meal country distribution_channel  is_repeated_guest  \\\n",
       "0         0.0   BB     GBR               Direct                  0   \n",
       "1         0.0   BB     GBR                TA/TO                  0   \n",
       "2         0.0   BB     PRT               Direct                  0   \n",
       "3         0.0   FB     PRT               Direct                  0   \n",
       "4         0.0   BB     PRT                TA/TO                  0   \n",
       "...       ...  ...     ...                  ...                ...   \n",
       "65224     0.0   BB     CHN                TA/TO                  0   \n",
       "65225     0.0   HB     FRA                TA/TO                  0   \n",
       "65226     0.0   BB     FRA                TA/TO                  0   \n",
       "65227     0.0   SC     FRA                TA/TO                  0   \n",
       "65228     0.0   BB     FRA                TA/TO                  0   \n",
       "\n",
       "       previous_cancellations  previous_bookings_not_canceled  \\\n",
       "0                           0                               0   \n",
       "1                           0                               0   \n",
       "2                           0                               0   \n",
       "3                           0                               0   \n",
       "4                           0                               0   \n",
       "...                       ...                             ...   \n",
       "65224                       0                               0   \n",
       "65225                       0                               0   \n",
       "65226                       0                               0   \n",
       "65227                       0                               0   \n",
       "65228                       0                               0   \n",
       "\n",
       "      reserved_room_type  booking_changes  days_in_waiting_list  \\\n",
       "0                      A                0                     0   \n",
       "1                      A                0                     0   \n",
       "2                      C                0                     0   \n",
       "3                      C                0                     0   \n",
       "4                      A                0                     0   \n",
       "...                  ...              ...                   ...   \n",
       "65224                  D                0                     0   \n",
       "65225                  D                0                     0   \n",
       "65226                  D                0                     0   \n",
       "65227                  A                0                     0   \n",
       "65228                  A                0                     0   \n",
       "\n",
       "       required_car_parking_spaces  total_of_special_requests  total_nights  \n",
       "0                                0                          0             1  \n",
       "1                                0                          1             2  \n",
       "2                                0                          0             2  \n",
       "3                                0                          1             2  \n",
       "4                                0                          1             3  \n",
       "...                            ...                        ...           ...  \n",
       "65224                            0                          2             6  \n",
       "65225                            0                          3             5  \n",
       "65226                            0                          1             6  \n",
       "65227                            0                          1             7  \n",
       "65228                            0                          0             7  \n",
       "\n",
       "[65060 rows x 20 columns]"
      ]
     },
     "execution_count": 51,
     "metadata": {},
     "output_type": "execute_result"
    }
   ],
   "source": [
    "features_train"
   ]
  },
  {
   "cell_type": "code",
   "execution_count": 52,
   "metadata": {},
   "outputs": [
    {
     "data": {
      "text/html": [
       "<div>\n",
       "<style scoped>\n",
       "    .dataframe tbody tr th:only-of-type {\n",
       "        vertical-align: middle;\n",
       "    }\n",
       "\n",
       "    .dataframe tbody tr th {\n",
       "        vertical-align: top;\n",
       "    }\n",
       "\n",
       "    .dataframe thead th {\n",
       "        text-align: right;\n",
       "    }\n",
       "</style>\n",
       "<table border=\"1\" class=\"dataframe\">\n",
       "  <thead>\n",
       "    <tr style=\"text-align: right;\">\n",
       "      <th></th>\n",
       "      <th>lead_time</th>\n",
       "      <th>arrival_date_year</th>\n",
       "      <th>arrival_date_month</th>\n",
       "      <th>arrival_date_week_number</th>\n",
       "      <th>arrival_date_day_of_month</th>\n",
       "      <th>stays_in_weekend_nights</th>\n",
       "      <th>stays_in_week_nights</th>\n",
       "      <th>adults</th>\n",
       "      <th>children</th>\n",
       "      <th>babies</th>\n",
       "      <th>...</th>\n",
       "      <th>distribution_channel</th>\n",
       "      <th>is_repeated_guest</th>\n",
       "      <th>previous_cancellations</th>\n",
       "      <th>previous_bookings_not_canceled</th>\n",
       "      <th>reserved_room_type</th>\n",
       "      <th>booking_changes</th>\n",
       "      <th>days_in_waiting_list</th>\n",
       "      <th>required_car_parking_spaces</th>\n",
       "      <th>total_of_special_requests</th>\n",
       "      <th>total_nights</th>\n",
       "    </tr>\n",
       "  </thead>\n",
       "  <tbody>\n",
       "    <tr>\n",
       "      <th>0</th>\n",
       "      <td>74.0</td>\n",
       "      <td>2017</td>\n",
       "      <td>January</td>\n",
       "      <td>1</td>\n",
       "      <td>1</td>\n",
       "      <td>1</td>\n",
       "      <td>0</td>\n",
       "      <td>2.0</td>\n",
       "      <td>0.0</td>\n",
       "      <td>0.0</td>\n",
       "      <td>...</td>\n",
       "      <td>TA/TO</td>\n",
       "      <td>0</td>\n",
       "      <td>0</td>\n",
       "      <td>0</td>\n",
       "      <td>A</td>\n",
       "      <td>0</td>\n",
       "      <td>0</td>\n",
       "      <td>0</td>\n",
       "      <td>0</td>\n",
       "      <td>1</td>\n",
       "    </tr>\n",
       "    <tr>\n",
       "      <th>1</th>\n",
       "      <td>62.0</td>\n",
       "      <td>2017</td>\n",
       "      <td>January</td>\n",
       "      <td>1</td>\n",
       "      <td>1</td>\n",
       "      <td>2</td>\n",
       "      <td>2</td>\n",
       "      <td>2.0</td>\n",
       "      <td>0.0</td>\n",
       "      <td>0.0</td>\n",
       "      <td>...</td>\n",
       "      <td>TA/TO</td>\n",
       "      <td>0</td>\n",
       "      <td>0</td>\n",
       "      <td>0</td>\n",
       "      <td>A</td>\n",
       "      <td>0</td>\n",
       "      <td>0</td>\n",
       "      <td>0</td>\n",
       "      <td>1</td>\n",
       "      <td>4</td>\n",
       "    </tr>\n",
       "    <tr>\n",
       "      <th>2</th>\n",
       "      <td>62.0</td>\n",
       "      <td>2017</td>\n",
       "      <td>January</td>\n",
       "      <td>1</td>\n",
       "      <td>1</td>\n",
       "      <td>2</td>\n",
       "      <td>2</td>\n",
       "      <td>2.0</td>\n",
       "      <td>0.0</td>\n",
       "      <td>0.0</td>\n",
       "      <td>...</td>\n",
       "      <td>TA/TO</td>\n",
       "      <td>0</td>\n",
       "      <td>0</td>\n",
       "      <td>0</td>\n",
       "      <td>A</td>\n",
       "      <td>0</td>\n",
       "      <td>0</td>\n",
       "      <td>0</td>\n",
       "      <td>1</td>\n",
       "      <td>4</td>\n",
       "    </tr>\n",
       "    <tr>\n",
       "      <th>3</th>\n",
       "      <td>71.0</td>\n",
       "      <td>2017</td>\n",
       "      <td>January</td>\n",
       "      <td>1</td>\n",
       "      <td>1</td>\n",
       "      <td>2</td>\n",
       "      <td>2</td>\n",
       "      <td>1.0</td>\n",
       "      <td>0.0</td>\n",
       "      <td>0.0</td>\n",
       "      <td>...</td>\n",
       "      <td>TA/TO</td>\n",
       "      <td>0</td>\n",
       "      <td>0</td>\n",
       "      <td>0</td>\n",
       "      <td>A</td>\n",
       "      <td>0</td>\n",
       "      <td>0</td>\n",
       "      <td>0</td>\n",
       "      <td>1</td>\n",
       "      <td>4</td>\n",
       "    </tr>\n",
       "    <tr>\n",
       "      <th>4</th>\n",
       "      <td>172.0</td>\n",
       "      <td>2017</td>\n",
       "      <td>January</td>\n",
       "      <td>1</td>\n",
       "      <td>1</td>\n",
       "      <td>2</td>\n",
       "      <td>5</td>\n",
       "      <td>2.0</td>\n",
       "      <td>0.0</td>\n",
       "      <td>0.0</td>\n",
       "      <td>...</td>\n",
       "      <td>TA/TO</td>\n",
       "      <td>0</td>\n",
       "      <td>0</td>\n",
       "      <td>0</td>\n",
       "      <td>A</td>\n",
       "      <td>0</td>\n",
       "      <td>0</td>\n",
       "      <td>0</td>\n",
       "      <td>0</td>\n",
       "      <td>7</td>\n",
       "    </tr>\n",
       "    <tr>\n",
       "      <th>...</th>\n",
       "      <td>...</td>\n",
       "      <td>...</td>\n",
       "      <td>...</td>\n",
       "      <td>...</td>\n",
       "      <td>...</td>\n",
       "      <td>...</td>\n",
       "      <td>...</td>\n",
       "      <td>...</td>\n",
       "      <td>...</td>\n",
       "      <td>...</td>\n",
       "      <td>...</td>\n",
       "      <td>...</td>\n",
       "      <td>...</td>\n",
       "      <td>...</td>\n",
       "      <td>...</td>\n",
       "      <td>...</td>\n",
       "      <td>...</td>\n",
       "      <td>...</td>\n",
       "      <td>...</td>\n",
       "      <td>...</td>\n",
       "      <td>...</td>\n",
       "    </tr>\n",
       "    <tr>\n",
       "      <th>32407</th>\n",
       "      <td>164.0</td>\n",
       "      <td>2017</td>\n",
       "      <td>August</td>\n",
       "      <td>35</td>\n",
       "      <td>31</td>\n",
       "      <td>2</td>\n",
       "      <td>4</td>\n",
       "      <td>2.0</td>\n",
       "      <td>0.0</td>\n",
       "      <td>0.0</td>\n",
       "      <td>...</td>\n",
       "      <td>TA/TO</td>\n",
       "      <td>0</td>\n",
       "      <td>0</td>\n",
       "      <td>0</td>\n",
       "      <td>A</td>\n",
       "      <td>0</td>\n",
       "      <td>0</td>\n",
       "      <td>0</td>\n",
       "      <td>0</td>\n",
       "      <td>6</td>\n",
       "    </tr>\n",
       "    <tr>\n",
       "      <th>32408</th>\n",
       "      <td>21.0</td>\n",
       "      <td>2017</td>\n",
       "      <td>August</td>\n",
       "      <td>35</td>\n",
       "      <td>30</td>\n",
       "      <td>2</td>\n",
       "      <td>5</td>\n",
       "      <td>2.0</td>\n",
       "      <td>0.0</td>\n",
       "      <td>0.0</td>\n",
       "      <td>...</td>\n",
       "      <td>TA/TO</td>\n",
       "      <td>0</td>\n",
       "      <td>0</td>\n",
       "      <td>0</td>\n",
       "      <td>A</td>\n",
       "      <td>0</td>\n",
       "      <td>0</td>\n",
       "      <td>0</td>\n",
       "      <td>2</td>\n",
       "      <td>7</td>\n",
       "    </tr>\n",
       "    <tr>\n",
       "      <th>32409</th>\n",
       "      <td>23.0</td>\n",
       "      <td>2017</td>\n",
       "      <td>August</td>\n",
       "      <td>35</td>\n",
       "      <td>30</td>\n",
       "      <td>2</td>\n",
       "      <td>5</td>\n",
       "      <td>2.0</td>\n",
       "      <td>0.0</td>\n",
       "      <td>0.0</td>\n",
       "      <td>...</td>\n",
       "      <td>TA/TO</td>\n",
       "      <td>0</td>\n",
       "      <td>0</td>\n",
       "      <td>0</td>\n",
       "      <td>A</td>\n",
       "      <td>0</td>\n",
       "      <td>0</td>\n",
       "      <td>0</td>\n",
       "      <td>0</td>\n",
       "      <td>7</td>\n",
       "    </tr>\n",
       "    <tr>\n",
       "      <th>32410</th>\n",
       "      <td>34.0</td>\n",
       "      <td>2017</td>\n",
       "      <td>August</td>\n",
       "      <td>35</td>\n",
       "      <td>31</td>\n",
       "      <td>2</td>\n",
       "      <td>5</td>\n",
       "      <td>2.0</td>\n",
       "      <td>0.0</td>\n",
       "      <td>0.0</td>\n",
       "      <td>...</td>\n",
       "      <td>TA/TO</td>\n",
       "      <td>0</td>\n",
       "      <td>0</td>\n",
       "      <td>0</td>\n",
       "      <td>D</td>\n",
       "      <td>0</td>\n",
       "      <td>0</td>\n",
       "      <td>0</td>\n",
       "      <td>4</td>\n",
       "      <td>7</td>\n",
       "    </tr>\n",
       "    <tr>\n",
       "      <th>32411</th>\n",
       "      <td>109.0</td>\n",
       "      <td>2017</td>\n",
       "      <td>August</td>\n",
       "      <td>35</td>\n",
       "      <td>31</td>\n",
       "      <td>2</td>\n",
       "      <td>5</td>\n",
       "      <td>2.0</td>\n",
       "      <td>0.0</td>\n",
       "      <td>0.0</td>\n",
       "      <td>...</td>\n",
       "      <td>TA/TO</td>\n",
       "      <td>0</td>\n",
       "      <td>0</td>\n",
       "      <td>0</td>\n",
       "      <td>A</td>\n",
       "      <td>0</td>\n",
       "      <td>0</td>\n",
       "      <td>0</td>\n",
       "      <td>0</td>\n",
       "      <td>7</td>\n",
       "    </tr>\n",
       "  </tbody>\n",
       "</table>\n",
       "<p>32412 rows × 22 columns</p>\n",
       "</div>"
      ],
      "text/plain": [
       "       lead_time  arrival_date_year arrival_date_month  \\\n",
       "0           74.0               2017            January   \n",
       "1           62.0               2017            January   \n",
       "2           62.0               2017            January   \n",
       "3           71.0               2017            January   \n",
       "4          172.0               2017            January   \n",
       "...          ...                ...                ...   \n",
       "32407      164.0               2017             August   \n",
       "32408       21.0               2017             August   \n",
       "32409       23.0               2017             August   \n",
       "32410       34.0               2017             August   \n",
       "32411      109.0               2017             August   \n",
       "\n",
       "       arrival_date_week_number  arrival_date_day_of_month  \\\n",
       "0                             1                          1   \n",
       "1                             1                          1   \n",
       "2                             1                          1   \n",
       "3                             1                          1   \n",
       "4                             1                          1   \n",
       "...                         ...                        ...   \n",
       "32407                        35                         31   \n",
       "32408                        35                         30   \n",
       "32409                        35                         30   \n",
       "32410                        35                         31   \n",
       "32411                        35                         31   \n",
       "\n",
       "       stays_in_weekend_nights  stays_in_week_nights  adults  children  \\\n",
       "0                            1                     0     2.0       0.0   \n",
       "1                            2                     2     2.0       0.0   \n",
       "2                            2                     2     2.0       0.0   \n",
       "3                            2                     2     1.0       0.0   \n",
       "4                            2                     5     2.0       0.0   \n",
       "...                        ...                   ...     ...       ...   \n",
       "32407                        2                     4     2.0       0.0   \n",
       "32408                        2                     5     2.0       0.0   \n",
       "32409                        2                     5     2.0       0.0   \n",
       "32410                        2                     5     2.0       0.0   \n",
       "32411                        2                     5     2.0       0.0   \n",
       "\n",
       "       babies  ... distribution_channel is_repeated_guest  \\\n",
       "0         0.0  ...                TA/TO                 0   \n",
       "1         0.0  ...                TA/TO                 0   \n",
       "2         0.0  ...                TA/TO                 0   \n",
       "3         0.0  ...                TA/TO                 0   \n",
       "4         0.0  ...                TA/TO                 0   \n",
       "...       ...  ...                  ...               ...   \n",
       "32407     0.0  ...                TA/TO                 0   \n",
       "32408     0.0  ...                TA/TO                 0   \n",
       "32409     0.0  ...                TA/TO                 0   \n",
       "32410     0.0  ...                TA/TO                 0   \n",
       "32411     0.0  ...                TA/TO                 0   \n",
       "\n",
       "      previous_cancellations  previous_bookings_not_canceled  \\\n",
       "0                          0                               0   \n",
       "1                          0                               0   \n",
       "2                          0                               0   \n",
       "3                          0                               0   \n",
       "4                          0                               0   \n",
       "...                      ...                             ...   \n",
       "32407                      0                               0   \n",
       "32408                      0                               0   \n",
       "32409                      0                               0   \n",
       "32410                      0                               0   \n",
       "32411                      0                               0   \n",
       "\n",
       "       reserved_room_type  booking_changes days_in_waiting_list  \\\n",
       "0        A                               0                    0   \n",
       "1        A                               0                    0   \n",
       "2        A                               0                    0   \n",
       "3        A                               0                    0   \n",
       "4        A                               0                    0   \n",
       "...                   ...              ...                  ...   \n",
       "32407    A                               0                    0   \n",
       "32408    A                               0                    0   \n",
       "32409    A                               0                    0   \n",
       "32410    D                               0                    0   \n",
       "32411    A                               0                    0   \n",
       "\n",
       "       required_car_parking_spaces  total_of_special_requests  total_nights  \n",
       "0                                0                          0             1  \n",
       "1                                0                          1             4  \n",
       "2                                0                          1             4  \n",
       "3                                0                          1             4  \n",
       "4                                0                          0             7  \n",
       "...                            ...                        ...           ...  \n",
       "32407                            0                          0             6  \n",
       "32408                            0                          2             7  \n",
       "32409                            0                          0             7  \n",
       "32410                            0                          4             7  \n",
       "32411                            0                          0             7  \n",
       "\n",
       "[32412 rows x 22 columns]"
      ]
     },
     "execution_count": 52,
     "metadata": {},
     "output_type": "execute_result"
    }
   ],
   "source": [
    "features_test"
   ]
  },
  {
   "cell_type": "code",
   "execution_count": 53,
   "metadata": {},
   "outputs": [
    {
     "data": {
      "text/html": [
       "<div>\n",
       "<style scoped>\n",
       "    .dataframe tbody tr th:only-of-type {\n",
       "        vertical-align: middle;\n",
       "    }\n",
       "\n",
       "    .dataframe tbody tr th {\n",
       "        vertical-align: top;\n",
       "    }\n",
       "\n",
       "    .dataframe thead th {\n",
       "        text-align: right;\n",
       "    }\n",
       "</style>\n",
       "<table border=\"1\" class=\"dataframe\">\n",
       "  <thead>\n",
       "    <tr style=\"text-align: right;\">\n",
       "      <th></th>\n",
       "      <th>lead_time</th>\n",
       "      <th>arrival_date_week_number</th>\n",
       "      <th>stays_in_weekend_nights</th>\n",
       "      <th>stays_in_week_nights</th>\n",
       "      <th>adults</th>\n",
       "      <th>children</th>\n",
       "      <th>babies</th>\n",
       "      <th>meal</th>\n",
       "      <th>country</th>\n",
       "      <th>distribution_channel</th>\n",
       "      <th>is_repeated_guest</th>\n",
       "      <th>previous_cancellations</th>\n",
       "      <th>previous_bookings_not_canceled</th>\n",
       "      <th>reserved_room_type</th>\n",
       "      <th>booking_changes</th>\n",
       "      <th>days_in_waiting_list</th>\n",
       "      <th>required_car_parking_spaces</th>\n",
       "      <th>total_of_special_requests</th>\n",
       "    </tr>\n",
       "  </thead>\n",
       "  <tbody>\n",
       "    <tr>\n",
       "      <th>0</th>\n",
       "      <td>74.0</td>\n",
       "      <td>1</td>\n",
       "      <td>1</td>\n",
       "      <td>0</td>\n",
       "      <td>2.0</td>\n",
       "      <td>0.0</td>\n",
       "      <td>0.0</td>\n",
       "      <td>BB</td>\n",
       "      <td>PRT</td>\n",
       "      <td>TA/TO</td>\n",
       "      <td>0</td>\n",
       "      <td>0</td>\n",
       "      <td>0</td>\n",
       "      <td>A</td>\n",
       "      <td>0</td>\n",
       "      <td>0</td>\n",
       "      <td>0</td>\n",
       "      <td>0</td>\n",
       "    </tr>\n",
       "    <tr>\n",
       "      <th>1</th>\n",
       "      <td>62.0</td>\n",
       "      <td>1</td>\n",
       "      <td>2</td>\n",
       "      <td>2</td>\n",
       "      <td>2.0</td>\n",
       "      <td>0.0</td>\n",
       "      <td>0.0</td>\n",
       "      <td>BB</td>\n",
       "      <td>AUT</td>\n",
       "      <td>TA/TO</td>\n",
       "      <td>0</td>\n",
       "      <td>0</td>\n",
       "      <td>0</td>\n",
       "      <td>A</td>\n",
       "      <td>0</td>\n",
       "      <td>0</td>\n",
       "      <td>0</td>\n",
       "      <td>1</td>\n",
       "    </tr>\n",
       "    <tr>\n",
       "      <th>2</th>\n",
       "      <td>62.0</td>\n",
       "      <td>1</td>\n",
       "      <td>2</td>\n",
       "      <td>2</td>\n",
       "      <td>2.0</td>\n",
       "      <td>0.0</td>\n",
       "      <td>0.0</td>\n",
       "      <td>BB</td>\n",
       "      <td>AUT</td>\n",
       "      <td>TA/TO</td>\n",
       "      <td>0</td>\n",
       "      <td>0</td>\n",
       "      <td>0</td>\n",
       "      <td>A</td>\n",
       "      <td>0</td>\n",
       "      <td>0</td>\n",
       "      <td>0</td>\n",
       "      <td>1</td>\n",
       "    </tr>\n",
       "    <tr>\n",
       "      <th>3</th>\n",
       "      <td>71.0</td>\n",
       "      <td>1</td>\n",
       "      <td>2</td>\n",
       "      <td>2</td>\n",
       "      <td>1.0</td>\n",
       "      <td>0.0</td>\n",
       "      <td>0.0</td>\n",
       "      <td>BB</td>\n",
       "      <td>PRT</td>\n",
       "      <td>TA/TO</td>\n",
       "      <td>0</td>\n",
       "      <td>0</td>\n",
       "      <td>0</td>\n",
       "      <td>A</td>\n",
       "      <td>0</td>\n",
       "      <td>0</td>\n",
       "      <td>0</td>\n",
       "      <td>1</td>\n",
       "    </tr>\n",
       "    <tr>\n",
       "      <th>4</th>\n",
       "      <td>172.0</td>\n",
       "      <td>1</td>\n",
       "      <td>2</td>\n",
       "      <td>5</td>\n",
       "      <td>2.0</td>\n",
       "      <td>0.0</td>\n",
       "      <td>0.0</td>\n",
       "      <td>BB</td>\n",
       "      <td>BEL</td>\n",
       "      <td>TA/TO</td>\n",
       "      <td>0</td>\n",
       "      <td>0</td>\n",
       "      <td>0</td>\n",
       "      <td>A</td>\n",
       "      <td>0</td>\n",
       "      <td>0</td>\n",
       "      <td>0</td>\n",
       "      <td>0</td>\n",
       "    </tr>\n",
       "    <tr>\n",
       "      <th>...</th>\n",
       "      <td>...</td>\n",
       "      <td>...</td>\n",
       "      <td>...</td>\n",
       "      <td>...</td>\n",
       "      <td>...</td>\n",
       "      <td>...</td>\n",
       "      <td>...</td>\n",
       "      <td>...</td>\n",
       "      <td>...</td>\n",
       "      <td>...</td>\n",
       "      <td>...</td>\n",
       "      <td>...</td>\n",
       "      <td>...</td>\n",
       "      <td>...</td>\n",
       "      <td>...</td>\n",
       "      <td>...</td>\n",
       "      <td>...</td>\n",
       "      <td>...</td>\n",
       "    </tr>\n",
       "    <tr>\n",
       "      <th>32407</th>\n",
       "      <td>164.0</td>\n",
       "      <td>35</td>\n",
       "      <td>2</td>\n",
       "      <td>4</td>\n",
       "      <td>2.0</td>\n",
       "      <td>0.0</td>\n",
       "      <td>0.0</td>\n",
       "      <td>BB</td>\n",
       "      <td>DEU</td>\n",
       "      <td>TA/TO</td>\n",
       "      <td>0</td>\n",
       "      <td>0</td>\n",
       "      <td>0</td>\n",
       "      <td>A</td>\n",
       "      <td>0</td>\n",
       "      <td>0</td>\n",
       "      <td>0</td>\n",
       "      <td>0</td>\n",
       "    </tr>\n",
       "    <tr>\n",
       "      <th>32408</th>\n",
       "      <td>21.0</td>\n",
       "      <td>35</td>\n",
       "      <td>2</td>\n",
       "      <td>5</td>\n",
       "      <td>2.0</td>\n",
       "      <td>0.0</td>\n",
       "      <td>0.0</td>\n",
       "      <td>BB</td>\n",
       "      <td>BEL</td>\n",
       "      <td>TA/TO</td>\n",
       "      <td>0</td>\n",
       "      <td>0</td>\n",
       "      <td>0</td>\n",
       "      <td>A</td>\n",
       "      <td>0</td>\n",
       "      <td>0</td>\n",
       "      <td>0</td>\n",
       "      <td>2</td>\n",
       "    </tr>\n",
       "    <tr>\n",
       "      <th>32409</th>\n",
       "      <td>23.0</td>\n",
       "      <td>35</td>\n",
       "      <td>2</td>\n",
       "      <td>5</td>\n",
       "      <td>2.0</td>\n",
       "      <td>0.0</td>\n",
       "      <td>0.0</td>\n",
       "      <td>BB</td>\n",
       "      <td>BEL</td>\n",
       "      <td>TA/TO</td>\n",
       "      <td>0</td>\n",
       "      <td>0</td>\n",
       "      <td>0</td>\n",
       "      <td>A</td>\n",
       "      <td>0</td>\n",
       "      <td>0</td>\n",
       "      <td>0</td>\n",
       "      <td>0</td>\n",
       "    </tr>\n",
       "    <tr>\n",
       "      <th>32410</th>\n",
       "      <td>34.0</td>\n",
       "      <td>35</td>\n",
       "      <td>2</td>\n",
       "      <td>5</td>\n",
       "      <td>2.0</td>\n",
       "      <td>0.0</td>\n",
       "      <td>0.0</td>\n",
       "      <td>BB</td>\n",
       "      <td>DEU</td>\n",
       "      <td>TA/TO</td>\n",
       "      <td>0</td>\n",
       "      <td>0</td>\n",
       "      <td>0</td>\n",
       "      <td>D</td>\n",
       "      <td>0</td>\n",
       "      <td>0</td>\n",
       "      <td>0</td>\n",
       "      <td>4</td>\n",
       "    </tr>\n",
       "    <tr>\n",
       "      <th>32411</th>\n",
       "      <td>109.0</td>\n",
       "      <td>35</td>\n",
       "      <td>2</td>\n",
       "      <td>5</td>\n",
       "      <td>2.0</td>\n",
       "      <td>0.0</td>\n",
       "      <td>0.0</td>\n",
       "      <td>BB</td>\n",
       "      <td>GBR</td>\n",
       "      <td>TA/TO</td>\n",
       "      <td>0</td>\n",
       "      <td>0</td>\n",
       "      <td>0</td>\n",
       "      <td>A</td>\n",
       "      <td>0</td>\n",
       "      <td>0</td>\n",
       "      <td>0</td>\n",
       "      <td>0</td>\n",
       "    </tr>\n",
       "  </tbody>\n",
       "</table>\n",
       "<p>32412 rows × 18 columns</p>\n",
       "</div>"
      ],
      "text/plain": [
       "       lead_time  arrival_date_week_number  stays_in_weekend_nights  \\\n",
       "0           74.0                         1                        1   \n",
       "1           62.0                         1                        2   \n",
       "2           62.0                         1                        2   \n",
       "3           71.0                         1                        2   \n",
       "4          172.0                         1                        2   \n",
       "...          ...                       ...                      ...   \n",
       "32407      164.0                        35                        2   \n",
       "32408       21.0                        35                        2   \n",
       "32409       23.0                        35                        2   \n",
       "32410       34.0                        35                        2   \n",
       "32411      109.0                        35                        2   \n",
       "\n",
       "       stays_in_week_nights  adults  children  babies       meal country  \\\n",
       "0                         0     2.0       0.0     0.0  BB            PRT   \n",
       "1                         2     2.0       0.0     0.0  BB            AUT   \n",
       "2                         2     2.0       0.0     0.0  BB            AUT   \n",
       "3                         2     1.0       0.0     0.0  BB            PRT   \n",
       "4                         5     2.0       0.0     0.0  BB            BEL   \n",
       "...                     ...     ...       ...     ...        ...     ...   \n",
       "32407                     4     2.0       0.0     0.0  BB            DEU   \n",
       "32408                     5     2.0       0.0     0.0  BB            BEL   \n",
       "32409                     5     2.0       0.0     0.0  BB            BEL   \n",
       "32410                     5     2.0       0.0     0.0  BB            DEU   \n",
       "32411                     5     2.0       0.0     0.0  BB            GBR   \n",
       "\n",
       "      distribution_channel  is_repeated_guest  previous_cancellations  \\\n",
       "0                    TA/TO                  0                       0   \n",
       "1                    TA/TO                  0                       0   \n",
       "2                    TA/TO                  0                       0   \n",
       "3                    TA/TO                  0                       0   \n",
       "4                    TA/TO                  0                       0   \n",
       "...                    ...                ...                     ...   \n",
       "32407                TA/TO                  0                       0   \n",
       "32408                TA/TO                  0                       0   \n",
       "32409                TA/TO                  0                       0   \n",
       "32410                TA/TO                  0                       0   \n",
       "32411                TA/TO                  0                       0   \n",
       "\n",
       "       previous_bookings_not_canceled reserved_room_type  booking_changes  \\\n",
       "0                                   0   A                               0   \n",
       "1                                   0   A                               0   \n",
       "2                                   0   A                               0   \n",
       "3                                   0   A                               0   \n",
       "4                                   0   A                               0   \n",
       "...                               ...                ...              ...   \n",
       "32407                               0   A                               0   \n",
       "32408                               0   A                               0   \n",
       "32409                               0   A                               0   \n",
       "32410                               0   D                               0   \n",
       "32411                               0   A                               0   \n",
       "\n",
       "       days_in_waiting_list  required_car_parking_spaces  \\\n",
       "0                         0                            0   \n",
       "1                         0                            0   \n",
       "2                         0                            0   \n",
       "3                         0                            0   \n",
       "4                         0                            0   \n",
       "...                     ...                          ...   \n",
       "32407                     0                            0   \n",
       "32408                     0                            0   \n",
       "32409                     0                            0   \n",
       "32410                     0                            0   \n",
       "32411                     0                            0   \n",
       "\n",
       "       total_of_special_requests  \n",
       "0                              0  \n",
       "1                              1  \n",
       "2                              1  \n",
       "3                              1  \n",
       "4                              0  \n",
       "...                          ...  \n",
       "32407                          0  \n",
       "32408                          2  \n",
       "32409                          0  \n",
       "32410                          4  \n",
       "32411                          0  \n",
       "\n",
       "[32412 rows x 18 columns]"
      ]
     },
     "execution_count": 53,
     "metadata": {},
     "output_type": "execute_result"
    }
   ],
   "source": [
    "features_train.drop(['arrival_date_year', 'arrival_date_day_of_month', 'arrival_date_month', 'total_nights'],axis=1)\n",
    "features_test.drop(['arrival_date_year', 'arrival_date_day_of_month', 'arrival_date_month', 'total_nights'], axis=1)"
   ]
  },
  {
   "cell_type": "code",
   "execution_count": 54,
   "metadata": {},
   "outputs": [],
   "source": [
    "numeric = [*features_train.select_dtypes(exclude=['object']).columns]\n",
    "numeric.remove('is_repeated_guest')\n",
    "numeric.remove('babies')\n",
    "numeric.remove('children')\n",
    "scaler = StandardScaler()\n",
    "scaler.fit(features_train[numeric])\n",
    "features_train[numeric] = scaler.transform(features_train[numeric])\n",
    "features_test[numeric] = scaler.transform(features_test[numeric])"
   ]
  },
  {
   "cell_type": "code",
   "execution_count": 55,
   "metadata": {},
   "outputs": [
    {
     "name": "stdout",
     "output_type": "stream",
     "text": [
      "(65060, 20)\n",
      "(32412, 22)\n",
      "(65060,)\n",
      "(32412,)\n"
     ]
    }
   ],
   "source": [
    "print(features_train.shape)\n",
    "print(features_test.shape)\n",
    "print(target_train.shape)\n",
    "print(target_test.shape)"
   ]
  },
  {
   "cell_type": "code",
   "execution_count": 56,
   "metadata": {},
   "outputs": [
    {
     "data": {
      "text/plain": [
       "{'stays_in_week_nights', 'stays_in_weekend_nights'}"
      ]
     },
     "execution_count": 56,
     "metadata": {},
     "output_type": "execute_result"
    }
   ],
   "source": [
    "set(features_test.columns) - set(features_train.columns)"
   ]
  },
  {
   "cell_type": "code",
   "execution_count": 57,
   "metadata": {},
   "outputs": [],
   "source": [
    "features_test = features_test.drop(['stays_in_week_nights', 'stays_in_weekend_nights'], axis=1)"
   ]
  },
  {
   "cell_type": "code",
   "execution_count": 58,
   "metadata": {},
   "outputs": [],
   "source": [
    "binary = ce.BinaryEncoder()\n",
    "binary.fit(features_train)\n",
    "features_train = binary.transform(features_train)\n",
    "features_test = binary.transform(features_test)"
   ]
  },
  {
   "cell_type": "markdown",
   "metadata": {},
   "source": [
    "<div class=\"alert alert-info\">\n",
    "    <b>Комментарий студента:</b> У меня вылезает вот такая ошибка? Как её исправить? Подскажи пожалуйста\n",
    "</div>"
   ]
  },
  {
   "cell_type": "markdown",
   "metadata": {},
   "source": [
    "<div class=\"alert alert-warning\">\n",
    "<h2>Комментарий ревьюера v2<a class=\"tocSkip\"></a></h2>\n",
    "    \n",
    "**Есть совет** ⚠️: эта ошибка говорит о том, что в обучающей и тестовой выборке разное количество признаков, поэтому перед кодированием и масштабированием необходимо убедиться, что в тестовой выборке также не осталось лишних признаков</div>"
   ]
  },
  {
   "cell_type": "markdown",
   "metadata": {},
   "source": [
    "<div class=\"alert alert-info\">\n",
    "    <b>Комментарий студента V2:</b> Да, опрометчиво с моей стороны было не вывести shape. Поправил\n",
    "</div>"
   ]
  },
  {
   "cell_type": "markdown",
   "metadata": {},
   "source": [
    "<div class=\"alert alert-success\">\n",
    "<h2>Комментарий ревьюера v3<a class=\"tocSkip\"></a></h2>\n",
    "    \n",
    "**Отлично!** ✔️: 👍</div>"
   ]
  },
  {
   "cell_type": "markdown",
   "metadata": {},
   "source": [
    "<div class=\"alert alert-warning\">\n",
    "<h2>Комментарий ревьюера<a class=\"tocSkip\"></a></h2>\n",
    "    \n",
    "**Есть совет** ⚠️: вообще для «деревянных» моделей лучше использовать порядковое кодирование, так как они заметно быстрее обучаются на меньшем количестве признаков и не теряют в качестве, есть <a href=\"https://medium.com/data-design/visiting-categorical-features-and-encoding-in-decision-trees-53400fa65931\" target=\"blank_\">шикарная статья</a> на эту тему. Но для линейных моделей(в том числе логистической регрессии) порядковое кодирование не подходит, потому что задает приоритет признакам, которого в природе данных нет. Тогда, например, значение 10^2 в признаке X для них будет важнее, чем значение 10^1, а это далеко не всегда верное утверждение. Поэтому для них лучше использовать OHE.\n",
    "    \n",
    "Также для «деревянных» моделей масштабирование совсем не обязательно, <a href=\"https://towardsdatascience.com/how-data-normalization-affects-your-random-forest-algorithm-fbc6753b4ddf\" target=\"blank_\">тут</a> можно почитать про это подробнее. Но для линейных моделей наоборот, может заметно улучшить метрики\n",
    "    \n",
    "Тогда у тебя получится разная предобработка для разных моделей, это вполне нормально, тут могут помочь пайплайны, они особенно полезны как раз в подобных случаях\n",
    "    \n",
    "Подробнее про пайплайны:\n",
    "* https://scikit-learn.org/stable/modules/generated/sklearn.pipeline.Pipeline.html\n",
    "* https://scikit-learn.org/stable/modules/compose.html\n",
    "* https://towardsdatascience.com/how-to-use-sklearn-pipelines-for-ridiculously-neat-code-a61ab66ca90d</div>"
   ]
  },
  {
   "cell_type": "markdown",
   "metadata": {},
   "source": [
    "<div class=\"alert alert-info\">\n",
    "    <b>Комментарий студента:</b> Как раз хотел заюзать пайплайн, но нужно почитать(\n",
    "</div>"
   ]
  },
  {
   "cell_type": "markdown",
   "metadata": {},
   "source": [
    "<div class=\"alert alert-info\">\n",
    "    <b>Комментарий студента V2:</b> Так, тут сложная обстановка. Я узнал про BinaryEncoder и использовал его, как нечто нейтральное. Из моего опыта универского, pipeline и pca очень капризно себя ведут. К сожалению, так случилось и здесь - выскочила ошибка при попытке обучить лог.регрессию\n",
    "</div>"
   ]
  },
  {
   "cell_type": "markdown",
   "metadata": {},
   "source": [
    "#### Обучение моделей"
   ]
  },
  {
   "cell_type": "markdown",
   "metadata": {},
   "source": [
    "Теперь обучим модели"
   ]
  },
  {
   "cell_type": "markdown",
   "metadata": {},
   "source": [
    "<div class=\"alert alert-danger\">\n",
    "<h2>Комментарий ревьюера<a class=\"tocSkip\"></a></h2>\n",
    "\n",
    "**Нужно доработать** ❌: перед обучением моделей обязательно нужно выбрать основную метрику для оценки моделей и аргументировать свой выбор, исходя из бизнес-задачи, это важная часть проекта</div>"
   ]
  },
  {
   "cell_type": "markdown",
   "metadata": {},
   "source": [
    "<div class=\"alert alert-info\">\n",
    "    <b>Комментарий студента:</b> Сделал)\n",
    "</div>"
   ]
  },
  {
   "cell_type": "markdown",
   "metadata": {},
   "source": [
    "Как я понял, для нас важно идентифицировать сам класс в is_canceled. Потому что, если модель будет неправильно определять ложные признаки, то будет плохо. Так что важный для нас показатель - recall_score"
   ]
  },
  {
   "cell_type": "markdown",
   "metadata": {},
   "source": [
    "<div class=\"alert alert-danger\">\n",
    "<h2>Комментарий ревьюера v2<a class=\"tocSkip\"></a></h2>\n",
    "\n",
    "**Нужно доработать** ❌: не совсем, здесь важно оценить задачу с точки зрения бизнеса. Основная бизнес-задача в этом проекте — это максимизация прибыли(путем минимизации убытков). Если ты считаешь, что именно accuracy среди остальных метрик позволит максимизировать прибыль, то нужно это аргументировать: все метрики бинарной классификации в курсе — это оффлайн-метрики, а историчность данных в этом случае неактуальна</div>"
   ]
  },
  {
   "cell_type": "markdown",
   "metadata": {},
   "source": [
    "<div class=\"alert alert-info\">\n",
    "    <b>Комментарий студента V2:</b> Поменял оценку. Объяснил в меру своих способностей)\n",
    "</div>"
   ]
  },
  {
   "cell_type": "markdown",
   "metadata": {},
   "source": [
    "<div class=\"alert alert-warning\">\n",
    "<h2>Комментарий ревьюера v3<a class=\"tocSkip\"></a></h2>\n",
    "    \n",
    "**Есть совет** ⚠️: окей, принимается, но здесь можно разобраться подробнее: при разработке модели для бизнеса выбор метрики(и в учебных, и в реальных проектах) всегда зависит от бизнес-задачи, которую эта модель будет решать. В этом проекте бизнес-задача — это минимизация убытков от отмен бронирования путем введения депозитов. Запомнив это, давай попробуем разобраться со всеми основными метриками\n",
    "    \n",
    "- **accuracy** — основная проблема этой метрики — это несбалансированные выборки. При дисбалансе классов(особенно, если дисбаланс существенный), accuracy не показательна, так как результат может быть искажен из-за того, что модель лучше предсказывает бОльший класс. Так как на практике редко бывают сбалансированные классы(как и в этом случае), то и accuracy используется не так часто;\n",
    "- метрика **precision** показывает, какая доля объектов, которую модель определила как положительные, действительно положительные. То есть, максимизируя метрику precision, мы пытаемся минимизировать количество **ложноположительных** ответов: клиентов, которые не собирались отменять бронирование, а модель решила, что они все-таки отменят.\n",
    "- метрика **recall** — это доля положительных объектов, которую нашла модель, из всех положительных объектов. Максимизируя recall мы хотим минимизировать количество **ложноотрицательных** ответов модели: клиентов, которые отменят бронирование, но модель решила, что они заселятся.\n",
    "- **F1-мера** — это среднее гармоническое precision и recall, она обычно используется в тех случаях, когда нам одинаково важны и precision, и recall\n",
    "- **AUC-ROC** показывает общее качество бинарного классификатора, в качестве основной метрики для бизнес-задачи она не всегда подходит, так как ее довольно сложно интерпретировать\n",
    "    \n",
    "Теперь можно вернуться к бизнес-задаче. Как мы знаем, отель несет убытки только в случае отмены бронирования(то есть положительных объектов), значит, нам важно найти максимальное количество таких объектов. Тогда для нас важнее всего минимизировать количество ложноотрицательных ответов, чтобы отель мог взять депозит с наибольшего количества «отменяльщиков».\n",
    "    \n",
    "Ложноположительные ответы не так критичны, так как депозит просто пойдет в стоимость оплаты. Но тут может возникнуть другая проблема: депозит для «надежных» клиентов может их отпугнуть, тогда стоит попробовать компенсировать это не метрикой, а экспериментом. Для этого можно попробовать проверить такой сценарий, назовем его худшим: пусть половина случайных клиентов из тех, с кого модель предложит взять депозит(вне зависимости от факта отмены), откажутся от услуг. Если сможешь расчитать выручку в таком случае, будет очень наглядно, стоит ли внедрять модель</div>"
   ]
  },
  {
   "cell_type": "markdown",
   "metadata": {},
   "source": [
    "##### Logistic Regression"
   ]
  },
  {
   "cell_type": "code",
   "execution_count": 59,
   "metadata": {},
   "outputs": [
    {
     "data": {
      "text/plain": [
       "Pipeline(steps=[('reduce_dim', PCA()), ('logreg', LogisticRegression())])"
      ]
     },
     "execution_count": 59,
     "metadata": {},
     "output_type": "execute_result"
    }
   ],
   "source": [
    "estimators = [('reduce_dim', PCA()), ('logreg', LogisticRegression())]\n",
    "pipe = Pipeline(estimators)\n",
    "pipe\n",
    "Pipeline(steps=[('reduce_dim', PCA()), ('logreg', LogisticRegression())])"
   ]
  },
  {
   "cell_type": "code",
   "execution_count": 60,
   "metadata": {},
   "outputs": [],
   "source": [
    "param_grid = dict(reduce_dim=['passthrough', PCA(5), PCA(10)], logreg=[LogisticRegression()],\n",
    "                  logreg__penalty=['l1', 'l2'])\n",
    "grid_search = GridSearchCV(pipe, param_grid=param_grid, scoring='f1')"
   ]
  },
  {
   "cell_type": "code",
   "execution_count": 61,
   "metadata": {},
   "outputs": [
    {
     "data": {
      "text/plain": [
       "'print(\"Best grid search hyperparameters are:\",grid_search.best_params_)\\nprint(\"Best grid search score is:\",grid_search.best_score_)'"
      ]
     },
     "execution_count": 61,
     "metadata": {},
     "output_type": "execute_result"
    }
   ],
   "source": [
    "'''print(\"Best grid search hyperparameters are:\",grid_search.best_params_)\n",
    "print(\"Best grid search score is:\",grid_search.best_score_)'''"
   ]
  },
  {
   "cell_type": "markdown",
   "metadata": {},
   "source": [
    "<div class=\"alert alert-info\">\n",
    "    <b>Комментарий студента V2:</b> Собственно вот. Просто не хочет выводить лучшие гиперпараметры(\n",
    "</div>"
   ]
  },
  {
   "cell_type": "markdown",
   "metadata": {},
   "source": [
    "<div class=\"alert alert-warning\">\n",
    "<h2>Комментарий ревьюера v3<a class=\"tocSkip\"></a></h2>\n",
    "    \n",
    "**Есть совет** ⚠️: для того, чтобы получить лучшие гиперпараметры, GridSearch необходимо сначала обучить методом `fit`. А в остальном проблем вроде не должно быть :)</div>"
   ]
  },
  {
   "cell_type": "code",
   "execution_count": 62,
   "metadata": {},
   "outputs": [
    {
     "name": "stderr",
     "output_type": "stream",
     "text": [
      "/opt/conda/lib/python3.9/site-packages/sklearn/linear_model/_logistic.py:763: ConvergenceWarning: lbfgs failed to converge (status=1):\n",
      "STOP: TOTAL NO. of ITERATIONS REACHED LIMIT.\n",
      "\n",
      "Increase the number of iterations (max_iter) or scale the data as shown in:\n",
      "    https://scikit-learn.org/stable/modules/preprocessing.html\n",
      "Please also refer to the documentation for alternative solver options:\n",
      "    https://scikit-learn.org/stable/modules/linear_model.html#logistic-regression\n",
      "  n_iter_i = _check_optimize_result(\n",
      "/opt/conda/lib/python3.9/site-packages/sklearn/linear_model/_logistic.py:763: ConvergenceWarning: lbfgs failed to converge (status=1):\n",
      "STOP: TOTAL NO. of ITERATIONS REACHED LIMIT.\n",
      "\n",
      "Increase the number of iterations (max_iter) or scale the data as shown in:\n",
      "    https://scikit-learn.org/stable/modules/preprocessing.html\n",
      "Please also refer to the documentation for alternative solver options:\n",
      "    https://scikit-learn.org/stable/modules/linear_model.html#logistic-regression\n",
      "  n_iter_i = _check_optimize_result(\n",
      "/opt/conda/lib/python3.9/site-packages/sklearn/linear_model/_logistic.py:763: ConvergenceWarning: lbfgs failed to converge (status=1):\n",
      "STOP: TOTAL NO. of ITERATIONS REACHED LIMIT.\n",
      "\n",
      "Increase the number of iterations (max_iter) or scale the data as shown in:\n",
      "    https://scikit-learn.org/stable/modules/preprocessing.html\n",
      "Please also refer to the documentation for alternative solver options:\n",
      "    https://scikit-learn.org/stable/modules/linear_model.html#logistic-regression\n",
      "  n_iter_i = _check_optimize_result(\n",
      "/opt/conda/lib/python3.9/site-packages/sklearn/linear_model/_logistic.py:763: ConvergenceWarning: lbfgs failed to converge (status=1):\n",
      "STOP: TOTAL NO. of ITERATIONS REACHED LIMIT.\n",
      "\n",
      "Increase the number of iterations (max_iter) or scale the data as shown in:\n",
      "    https://scikit-learn.org/stable/modules/preprocessing.html\n",
      "Please also refer to the documentation for alternative solver options:\n",
      "    https://scikit-learn.org/stable/modules/linear_model.html#logistic-regression\n",
      "  n_iter_i = _check_optimize_result(\n",
      "/opt/conda/lib/python3.9/site-packages/sklearn/linear_model/_logistic.py:763: ConvergenceWarning: lbfgs failed to converge (status=1):\n",
      "STOP: TOTAL NO. of ITERATIONS REACHED LIMIT.\n",
      "\n",
      "Increase the number of iterations (max_iter) or scale the data as shown in:\n",
      "    https://scikit-learn.org/stable/modules/preprocessing.html\n",
      "Please also refer to the documentation for alternative solver options:\n",
      "    https://scikit-learn.org/stable/modules/linear_model.html#logistic-regression\n",
      "  n_iter_i = _check_optimize_result(\n",
      "/opt/conda/lib/python3.9/site-packages/sklearn/linear_model/_logistic.py:763: ConvergenceWarning: lbfgs failed to converge (status=1):\n",
      "STOP: TOTAL NO. of ITERATIONS REACHED LIMIT.\n",
      "\n",
      "Increase the number of iterations (max_iter) or scale the data as shown in:\n",
      "    https://scikit-learn.org/stable/modules/preprocessing.html\n",
      "Please also refer to the documentation for alternative solver options:\n",
      "    https://scikit-learn.org/stable/modules/linear_model.html#logistic-regression\n",
      "  n_iter_i = _check_optimize_result(\n",
      "/opt/conda/lib/python3.9/site-packages/sklearn/linear_model/_logistic.py:763: ConvergenceWarning: lbfgs failed to converge (status=1):\n",
      "STOP: TOTAL NO. of ITERATIONS REACHED LIMIT.\n",
      "\n",
      "Increase the number of iterations (max_iter) or scale the data as shown in:\n",
      "    https://scikit-learn.org/stable/modules/preprocessing.html\n",
      "Please also refer to the documentation for alternative solver options:\n",
      "    https://scikit-learn.org/stable/modules/linear_model.html#logistic-regression\n",
      "  n_iter_i = _check_optimize_result(\n",
      "/opt/conda/lib/python3.9/site-packages/sklearn/linear_model/_logistic.py:763: ConvergenceWarning: lbfgs failed to converge (status=1):\n",
      "STOP: TOTAL NO. of ITERATIONS REACHED LIMIT.\n",
      "\n",
      "Increase the number of iterations (max_iter) or scale the data as shown in:\n",
      "    https://scikit-learn.org/stable/modules/preprocessing.html\n",
      "Please also refer to the documentation for alternative solver options:\n",
      "    https://scikit-learn.org/stable/modules/linear_model.html#logistic-regression\n",
      "  n_iter_i = _check_optimize_result(\n",
      "/opt/conda/lib/python3.9/site-packages/sklearn/linear_model/_logistic.py:763: ConvergenceWarning: lbfgs failed to converge (status=1):\n",
      "STOP: TOTAL NO. of ITERATIONS REACHED LIMIT.\n",
      "\n",
      "Increase the number of iterations (max_iter) or scale the data as shown in:\n",
      "    https://scikit-learn.org/stable/modules/preprocessing.html\n",
      "Please also refer to the documentation for alternative solver options:\n",
      "    https://scikit-learn.org/stable/modules/linear_model.html#logistic-regression\n",
      "  n_iter_i = _check_optimize_result(\n",
      "/opt/conda/lib/python3.9/site-packages/sklearn/linear_model/_logistic.py:763: ConvergenceWarning: lbfgs failed to converge (status=1):\n",
      "STOP: TOTAL NO. of ITERATIONS REACHED LIMIT.\n",
      "\n",
      "Increase the number of iterations (max_iter) or scale the data as shown in:\n",
      "    https://scikit-learn.org/stable/modules/preprocessing.html\n",
      "Please also refer to the documentation for alternative solver options:\n",
      "    https://scikit-learn.org/stable/modules/linear_model.html#logistic-regression\n",
      "  n_iter_i = _check_optimize_result(\n",
      "/opt/conda/lib/python3.9/site-packages/sklearn/linear_model/_logistic.py:763: ConvergenceWarning: lbfgs failed to converge (status=1):\n",
      "STOP: TOTAL NO. of ITERATIONS REACHED LIMIT.\n",
      "\n",
      "Increase the number of iterations (max_iter) or scale the data as shown in:\n",
      "    https://scikit-learn.org/stable/modules/preprocessing.html\n",
      "Please also refer to the documentation for alternative solver options:\n",
      "    https://scikit-learn.org/stable/modules/linear_model.html#logistic-regression\n",
      "  n_iter_i = _check_optimize_result(\n",
      "/opt/conda/lib/python3.9/site-packages/sklearn/linear_model/_logistic.py:763: ConvergenceWarning: lbfgs failed to converge (status=1):\n",
      "STOP: TOTAL NO. of ITERATIONS REACHED LIMIT.\n",
      "\n",
      "Increase the number of iterations (max_iter) or scale the data as shown in:\n",
      "    https://scikit-learn.org/stable/modules/preprocessing.html\n",
      "Please also refer to the documentation for alternative solver options:\n",
      "    https://scikit-learn.org/stable/modules/linear_model.html#logistic-regression\n",
      "  n_iter_i = _check_optimize_result(\n",
      "/opt/conda/lib/python3.9/site-packages/sklearn/linear_model/_logistic.py:763: ConvergenceWarning: lbfgs failed to converge (status=1):\n",
      "STOP: TOTAL NO. of ITERATIONS REACHED LIMIT.\n",
      "\n",
      "Increase the number of iterations (max_iter) or scale the data as shown in:\n",
      "    https://scikit-learn.org/stable/modules/preprocessing.html\n",
      "Please also refer to the documentation for alternative solver options:\n",
      "    https://scikit-learn.org/stable/modules/linear_model.html#logistic-regression\n",
      "  n_iter_i = _check_optimize_result(\n",
      "/opt/conda/lib/python3.9/site-packages/sklearn/linear_model/_logistic.py:763: ConvergenceWarning: lbfgs failed to converge (status=1):\n",
      "STOP: TOTAL NO. of ITERATIONS REACHED LIMIT.\n",
      "\n",
      "Increase the number of iterations (max_iter) or scale the data as shown in:\n",
      "    https://scikit-learn.org/stable/modules/preprocessing.html\n",
      "Please also refer to the documentation for alternative solver options:\n",
      "    https://scikit-learn.org/stable/modules/linear_model.html#logistic-regression\n",
      "  n_iter_i = _check_optimize_result(\n",
      "/opt/conda/lib/python3.9/site-packages/sklearn/linear_model/_logistic.py:763: ConvergenceWarning: lbfgs failed to converge (status=1):\n",
      "STOP: TOTAL NO. of ITERATIONS REACHED LIMIT.\n",
      "\n",
      "Increase the number of iterations (max_iter) or scale the data as shown in:\n",
      "    https://scikit-learn.org/stable/modules/preprocessing.html\n",
      "Please also refer to the documentation for alternative solver options:\n",
      "    https://scikit-learn.org/stable/modules/linear_model.html#logistic-regression\n",
      "  n_iter_i = _check_optimize_result(\n",
      "/opt/conda/lib/python3.9/site-packages/sklearn/linear_model/_logistic.py:763: ConvergenceWarning: lbfgs failed to converge (status=1):\n",
      "STOP: TOTAL NO. of ITERATIONS REACHED LIMIT.\n",
      "\n",
      "Increase the number of iterations (max_iter) or scale the data as shown in:\n",
      "    https://scikit-learn.org/stable/modules/preprocessing.html\n",
      "Please also refer to the documentation for alternative solver options:\n",
      "    https://scikit-learn.org/stable/modules/linear_model.html#logistic-regression\n",
      "  n_iter_i = _check_optimize_result(\n",
      "/opt/conda/lib/python3.9/site-packages/sklearn/linear_model/_logistic.py:763: ConvergenceWarning: lbfgs failed to converge (status=1):\n",
      "STOP: TOTAL NO. of ITERATIONS REACHED LIMIT.\n",
      "\n",
      "Increase the number of iterations (max_iter) or scale the data as shown in:\n",
      "    https://scikit-learn.org/stable/modules/preprocessing.html\n",
      "Please also refer to the documentation for alternative solver options:\n",
      "    https://scikit-learn.org/stable/modules/linear_model.html#logistic-regression\n",
      "  n_iter_i = _check_optimize_result(\n",
      "/opt/conda/lib/python3.9/site-packages/sklearn/linear_model/_logistic.py:763: ConvergenceWarning: lbfgs failed to converge (status=1):\n",
      "STOP: TOTAL NO. of ITERATIONS REACHED LIMIT.\n",
      "\n",
      "Increase the number of iterations (max_iter) or scale the data as shown in:\n",
      "    https://scikit-learn.org/stable/modules/preprocessing.html\n",
      "Please also refer to the documentation for alternative solver options:\n",
      "    https://scikit-learn.org/stable/modules/linear_model.html#logistic-regression\n",
      "  n_iter_i = _check_optimize_result(\n",
      "/opt/conda/lib/python3.9/site-packages/sklearn/linear_model/_logistic.py:763: ConvergenceWarning: lbfgs failed to converge (status=1):\n",
      "STOP: TOTAL NO. of ITERATIONS REACHED LIMIT.\n",
      "\n",
      "Increase the number of iterations (max_iter) or scale the data as shown in:\n",
      "    https://scikit-learn.org/stable/modules/preprocessing.html\n",
      "Please also refer to the documentation for alternative solver options:\n",
      "    https://scikit-learn.org/stable/modules/linear_model.html#logistic-regression\n",
      "  n_iter_i = _check_optimize_result(\n",
      "/opt/conda/lib/python3.9/site-packages/sklearn/linear_model/_logistic.py:763: ConvergenceWarning: lbfgs failed to converge (status=1):\n",
      "STOP: TOTAL NO. of ITERATIONS REACHED LIMIT.\n",
      "\n",
      "Increase the number of iterations (max_iter) or scale the data as shown in:\n",
      "    https://scikit-learn.org/stable/modules/preprocessing.html\n",
      "Please also refer to the documentation for alternative solver options:\n",
      "    https://scikit-learn.org/stable/modules/linear_model.html#logistic-regression\n",
      "  n_iter_i = _check_optimize_result(\n",
      "/opt/conda/lib/python3.9/site-packages/sklearn/linear_model/_logistic.py:763: ConvergenceWarning: lbfgs failed to converge (status=1):\n",
      "STOP: TOTAL NO. of ITERATIONS REACHED LIMIT.\n",
      "\n",
      "Increase the number of iterations (max_iter) or scale the data as shown in:\n",
      "    https://scikit-learn.org/stable/modules/preprocessing.html\n",
      "Please also refer to the documentation for alternative solver options:\n",
      "    https://scikit-learn.org/stable/modules/linear_model.html#logistic-regression\n",
      "  n_iter_i = _check_optimize_result(\n",
      "/opt/conda/lib/python3.9/site-packages/sklearn/linear_model/_logistic.py:763: ConvergenceWarning: lbfgs failed to converge (status=1):\n",
      "STOP: TOTAL NO. of ITERATIONS REACHED LIMIT.\n",
      "\n",
      "Increase the number of iterations (max_iter) or scale the data as shown in:\n",
      "    https://scikit-learn.org/stable/modules/preprocessing.html\n",
      "Please also refer to the documentation for alternative solver options:\n",
      "    https://scikit-learn.org/stable/modules/linear_model.html#logistic-regression\n",
      "  n_iter_i = _check_optimize_result(\n",
      "/opt/conda/lib/python3.9/site-packages/sklearn/linear_model/_logistic.py:763: ConvergenceWarning: lbfgs failed to converge (status=1):\n",
      "STOP: TOTAL NO. of ITERATIONS REACHED LIMIT.\n",
      "\n",
      "Increase the number of iterations (max_iter) or scale the data as shown in:\n",
      "    https://scikit-learn.org/stable/modules/preprocessing.html\n",
      "Please also refer to the documentation for alternative solver options:\n",
      "    https://scikit-learn.org/stable/modules/linear_model.html#logistic-regression\n",
      "  n_iter_i = _check_optimize_result(\n",
      "/opt/conda/lib/python3.9/site-packages/sklearn/linear_model/_logistic.py:763: ConvergenceWarning: lbfgs failed to converge (status=1):\n",
      "STOP: TOTAL NO. of ITERATIONS REACHED LIMIT.\n",
      "\n",
      "Increase the number of iterations (max_iter) or scale the data as shown in:\n",
      "    https://scikit-learn.org/stable/modules/preprocessing.html\n",
      "Please also refer to the documentation for alternative solver options:\n",
      "    https://scikit-learn.org/stable/modules/linear_model.html#logistic-regression\n",
      "  n_iter_i = _check_optimize_result(\n",
      "/opt/conda/lib/python3.9/site-packages/sklearn/linear_model/_logistic.py:763: ConvergenceWarning: lbfgs failed to converge (status=1):\n",
      "STOP: TOTAL NO. of ITERATIONS REACHED LIMIT.\n",
      "\n",
      "Increase the number of iterations (max_iter) or scale the data as shown in:\n",
      "    https://scikit-learn.org/stable/modules/preprocessing.html\n",
      "Please also refer to the documentation for alternative solver options:\n",
      "    https://scikit-learn.org/stable/modules/linear_model.html#logistic-regression\n",
      "  n_iter_i = _check_optimize_result(\n",
      "/opt/conda/lib/python3.9/site-packages/sklearn/linear_model/_logistic.py:763: ConvergenceWarning: lbfgs failed to converge (status=1):\n",
      "STOP: TOTAL NO. of ITERATIONS REACHED LIMIT.\n",
      "\n",
      "Increase the number of iterations (max_iter) or scale the data as shown in:\n",
      "    https://scikit-learn.org/stable/modules/preprocessing.html\n",
      "Please also refer to the documentation for alternative solver options:\n",
      "    https://scikit-learn.org/stable/modules/linear_model.html#logistic-regression\n",
      "  n_iter_i = _check_optimize_result(\n",
      "/opt/conda/lib/python3.9/site-packages/sklearn/linear_model/_logistic.py:763: ConvergenceWarning: lbfgs failed to converge (status=1):\n",
      "STOP: TOTAL NO. of ITERATIONS REACHED LIMIT.\n",
      "\n",
      "Increase the number of iterations (max_iter) or scale the data as shown in:\n",
      "    https://scikit-learn.org/stable/modules/preprocessing.html\n",
      "Please also refer to the documentation for alternative solver options:\n",
      "    https://scikit-learn.org/stable/modules/linear_model.html#logistic-regression\n",
      "  n_iter_i = _check_optimize_result(\n",
      "/opt/conda/lib/python3.9/site-packages/sklearn/linear_model/_logistic.py:763: ConvergenceWarning: lbfgs failed to converge (status=1):\n",
      "STOP: TOTAL NO. of ITERATIONS REACHED LIMIT.\n",
      "\n",
      "Increase the number of iterations (max_iter) or scale the data as shown in:\n",
      "    https://scikit-learn.org/stable/modules/preprocessing.html\n",
      "Please also refer to the documentation for alternative solver options:\n",
      "    https://scikit-learn.org/stable/modules/linear_model.html#logistic-regression\n",
      "  n_iter_i = _check_optimize_result(\n",
      "/opt/conda/lib/python3.9/site-packages/sklearn/linear_model/_logistic.py:763: ConvergenceWarning: lbfgs failed to converge (status=1):\n",
      "STOP: TOTAL NO. of ITERATIONS REACHED LIMIT.\n",
      "\n",
      "Increase the number of iterations (max_iter) or scale the data as shown in:\n",
      "    https://scikit-learn.org/stable/modules/preprocessing.html\n",
      "Please also refer to the documentation for alternative solver options:\n",
      "    https://scikit-learn.org/stable/modules/linear_model.html#logistic-regression\n",
      "  n_iter_i = _check_optimize_result(\n",
      "/opt/conda/lib/python3.9/site-packages/sklearn/linear_model/_logistic.py:763: ConvergenceWarning: lbfgs failed to converge (status=1):\n",
      "STOP: TOTAL NO. of ITERATIONS REACHED LIMIT.\n",
      "\n",
      "Increase the number of iterations (max_iter) or scale the data as shown in:\n",
      "    https://scikit-learn.org/stable/modules/preprocessing.html\n",
      "Please also refer to the documentation for alternative solver options:\n",
      "    https://scikit-learn.org/stable/modules/linear_model.html#logistic-regression\n",
      "  n_iter_i = _check_optimize_result(\n",
      "/opt/conda/lib/python3.9/site-packages/sklearn/linear_model/_logistic.py:763: ConvergenceWarning: lbfgs failed to converge (status=1):\n",
      "STOP: TOTAL NO. of ITERATIONS REACHED LIMIT.\n",
      "\n",
      "Increase the number of iterations (max_iter) or scale the data as shown in:\n",
      "    https://scikit-learn.org/stable/modules/preprocessing.html\n",
      "Please also refer to the documentation for alternative solver options:\n",
      "    https://scikit-learn.org/stable/modules/linear_model.html#logistic-regression\n",
      "  n_iter_i = _check_optimize_result(\n",
      "/opt/conda/lib/python3.9/site-packages/sklearn/linear_model/_logistic.py:763: ConvergenceWarning: lbfgs failed to converge (status=1):\n",
      "STOP: TOTAL NO. of ITERATIONS REACHED LIMIT.\n",
      "\n",
      "Increase the number of iterations (max_iter) or scale the data as shown in:\n",
      "    https://scikit-learn.org/stable/modules/preprocessing.html\n",
      "Please also refer to the documentation for alternative solver options:\n",
      "    https://scikit-learn.org/stable/modules/linear_model.html#logistic-regression\n",
      "  n_iter_i = _check_optimize_result(\n",
      "/opt/conda/lib/python3.9/site-packages/sklearn/linear_model/_logistic.py:763: ConvergenceWarning: lbfgs failed to converge (status=1):\n",
      "STOP: TOTAL NO. of ITERATIONS REACHED LIMIT.\n",
      "\n",
      "Increase the number of iterations (max_iter) or scale the data as shown in:\n",
      "    https://scikit-learn.org/stable/modules/preprocessing.html\n",
      "Please also refer to the documentation for alternative solver options:\n",
      "    https://scikit-learn.org/stable/modules/linear_model.html#logistic-regression\n",
      "  n_iter_i = _check_optimize_result(\n",
      "/opt/conda/lib/python3.9/site-packages/sklearn/linear_model/_logistic.py:763: ConvergenceWarning: lbfgs failed to converge (status=1):\n",
      "STOP: TOTAL NO. of ITERATIONS REACHED LIMIT.\n",
      "\n",
      "Increase the number of iterations (max_iter) or scale the data as shown in:\n",
      "    https://scikit-learn.org/stable/modules/preprocessing.html\n",
      "Please also refer to the documentation for alternative solver options:\n",
      "    https://scikit-learn.org/stable/modules/linear_model.html#logistic-regression\n",
      "  n_iter_i = _check_optimize_result(\n",
      "/opt/conda/lib/python3.9/site-packages/sklearn/linear_model/_logistic.py:763: ConvergenceWarning: lbfgs failed to converge (status=1):\n",
      "STOP: TOTAL NO. of ITERATIONS REACHED LIMIT.\n",
      "\n",
      "Increase the number of iterations (max_iter) or scale the data as shown in:\n",
      "    https://scikit-learn.org/stable/modules/preprocessing.html\n",
      "Please also refer to the documentation for alternative solver options:\n",
      "    https://scikit-learn.org/stable/modules/linear_model.html#logistic-regression\n",
      "  n_iter_i = _check_optimize_result(\n",
      "/opt/conda/lib/python3.9/site-packages/sklearn/linear_model/_logistic.py:763: ConvergenceWarning: lbfgs failed to converge (status=1):\n",
      "STOP: TOTAL NO. of ITERATIONS REACHED LIMIT.\n",
      "\n",
      "Increase the number of iterations (max_iter) or scale the data as shown in:\n",
      "    https://scikit-learn.org/stable/modules/preprocessing.html\n",
      "Please also refer to the documentation for alternative solver options:\n",
      "    https://scikit-learn.org/stable/modules/linear_model.html#logistic-regression\n",
      "  n_iter_i = _check_optimize_result(\n",
      "/opt/conda/lib/python3.9/site-packages/sklearn/linear_model/_logistic.py:763: ConvergenceWarning: lbfgs failed to converge (status=1):\n",
      "STOP: TOTAL NO. of ITERATIONS REACHED LIMIT.\n",
      "\n",
      "Increase the number of iterations (max_iter) or scale the data as shown in:\n",
      "    https://scikit-learn.org/stable/modules/preprocessing.html\n",
      "Please also refer to the documentation for alternative solver options:\n",
      "    https://scikit-learn.org/stable/modules/linear_model.html#logistic-regression\n",
      "  n_iter_i = _check_optimize_result(\n",
      "/opt/conda/lib/python3.9/site-packages/sklearn/linear_model/_logistic.py:763: ConvergenceWarning: lbfgs failed to converge (status=1):\n",
      "STOP: TOTAL NO. of ITERATIONS REACHED LIMIT.\n",
      "\n",
      "Increase the number of iterations (max_iter) or scale the data as shown in:\n",
      "    https://scikit-learn.org/stable/modules/preprocessing.html\n",
      "Please also refer to the documentation for alternative solver options:\n",
      "    https://scikit-learn.org/stable/modules/linear_model.html#logistic-regression\n",
      "  n_iter_i = _check_optimize_result(\n",
      "/opt/conda/lib/python3.9/site-packages/sklearn/linear_model/_logistic.py:763: ConvergenceWarning: lbfgs failed to converge (status=1):\n",
      "STOP: TOTAL NO. of ITERATIONS REACHED LIMIT.\n",
      "\n",
      "Increase the number of iterations (max_iter) or scale the data as shown in:\n",
      "    https://scikit-learn.org/stable/modules/preprocessing.html\n",
      "Please also refer to the documentation for alternative solver options:\n",
      "    https://scikit-learn.org/stable/modules/linear_model.html#logistic-regression\n",
      "  n_iter_i = _check_optimize_result(\n",
      "/opt/conda/lib/python3.9/site-packages/sklearn/linear_model/_logistic.py:763: ConvergenceWarning: lbfgs failed to converge (status=1):\n",
      "STOP: TOTAL NO. of ITERATIONS REACHED LIMIT.\n",
      "\n",
      "Increase the number of iterations (max_iter) or scale the data as shown in:\n",
      "    https://scikit-learn.org/stable/modules/preprocessing.html\n",
      "Please also refer to the documentation for alternative solver options:\n",
      "    https://scikit-learn.org/stable/modules/linear_model.html#logistic-regression\n",
      "  n_iter_i = _check_optimize_result(\n",
      "/opt/conda/lib/python3.9/site-packages/sklearn/linear_model/_logistic.py:763: ConvergenceWarning: lbfgs failed to converge (status=1):\n",
      "STOP: TOTAL NO. of ITERATIONS REACHED LIMIT.\n",
      "\n",
      "Increase the number of iterations (max_iter) or scale the data as shown in:\n",
      "    https://scikit-learn.org/stable/modules/preprocessing.html\n",
      "Please also refer to the documentation for alternative solver options:\n",
      "    https://scikit-learn.org/stable/modules/linear_model.html#logistic-regression\n",
      "  n_iter_i = _check_optimize_result(\n"
     ]
    },
    {
     "name": "stdout",
     "output_type": "stream",
     "text": [
      "Best grid search hyperparameters are: {'C': 12.742749857031322, 'penalty': 'l2'}\n",
      "Best grid search score is: 0.5275604645212643\n"
     ]
    },
    {
     "name": "stderr",
     "output_type": "stream",
     "text": [
      "/opt/conda/lib/python3.9/site-packages/sklearn/linear_model/_logistic.py:763: ConvergenceWarning: lbfgs failed to converge (status=1):\n",
      "STOP: TOTAL NO. of ITERATIONS REACHED LIMIT.\n",
      "\n",
      "Increase the number of iterations (max_iter) or scale the data as shown in:\n",
      "    https://scikit-learn.org/stable/modules/preprocessing.html\n",
      "Please also refer to the documentation for alternative solver options:\n",
      "    https://scikit-learn.org/stable/modules/linear_model.html#logistic-regression\n",
      "  n_iter_i = _check_optimize_result(\n"
     ]
    }
   ],
   "source": [
    "grid={\"C\":np.logspace(-3,3,20), \"penalty\":[\"l2\"]} \n",
    "logreg=LogisticRegression(random_state=12345)\n",
    "grid_logreg=GridSearchCV(logreg,grid,cv=3, scoring='recall')\n",
    "grid_logreg.fit(features_train, target_train)\n",
    "\n",
    "print('Best grid search hyperparameters are: '+str(grid_logreg.best_params_))\n",
    "print('Best grid search score is: '+str(grid_logreg.best_score_))"
   ]
  },
  {
   "cell_type": "code",
   "execution_count": 63,
   "metadata": {},
   "outputs": [
    {
     "name": "stdout",
     "output_type": "stream",
     "text": [
      "Recall: 0.62 (+/- 0.38)\n"
     ]
    }
   ],
   "source": [
    "logreg = LogisticRegression(solver='liblinear', n_jobs=-1, class_weight='balanced', C = 0.00206913808111479, penalty = 'l2', random_state=12345)\n",
    "logreg.fit(features_train, target_train)\n",
    "scores = cross_val_score(logreg, features_train, target_train, cv=3, scoring='recall')\n",
    "print(\"Recall: %0.2f (+/- %0.2f)\" % (scores.mean(), scores.std() * 2))"
   ]
  },
  {
   "cell_type": "markdown",
   "metadata": {},
   "source": [
    "Регрессия выдала хороший результат с маленькой погрешностью. Посмотрим, что выдадут остальные."
   ]
  },
  {
   "cell_type": "markdown",
   "metadata": {},
   "source": [
    "##### CatBoost"
   ]
  },
  {
   "cell_type": "code",
   "execution_count": 64,
   "metadata": {},
   "outputs": [
    {
     "data": {
      "application/vnd.jupyter.widget-view+json": {
       "model_id": "96380ef8b6a84cddbdb2cae491b18062",
       "version_major": 2,
       "version_minor": 0
      },
      "text/plain": [
       "MetricVisualizer(layout=Layout(align_self='stretch', height='500px'))"
      ]
     },
     "metadata": {},
     "output_type": "display_data"
    },
    {
     "name": "stdout",
     "output_type": "stream",
     "text": [
      "\n",
      "bestTest = 0.3344462829\n",
      "bestIteration = 998\n",
      "\n",
      "0:\tloss: 0.3344463\tbest: 0.3344463 (0)\ttotal: 15.9s\tremaining: 2m 22s\n",
      "\n",
      "bestTest = 0.308238922\n",
      "bestIteration = 998\n",
      "\n",
      "1:\tloss: 0.3082389\tbest: 0.3082389 (1)\ttotal: 30.8s\tremaining: 2m 3s\n",
      "\n",
      "bestTest = 0.2849863109\n",
      "bestIteration = 999\n",
      "\n",
      "2:\tloss: 0.2849863\tbest: 0.2849863 (2)\ttotal: 50.5s\tremaining: 1m 57s\n",
      "\n",
      "bestTest = 0.3111634661\n",
      "bestIteration = 999\n",
      "\n",
      "3:\tloss: 0.3111635\tbest: 0.2849863 (2)\ttotal: 1m 9s\tremaining: 1m 44s\n",
      "\n",
      "bestTest = 0.2878822785\n",
      "bestIteration = 999\n",
      "\n",
      "4:\tloss: 0.2878823\tbest: 0.2849863 (2)\ttotal: 1m 28s\tremaining: 1m 28s\n",
      "\n",
      "bestTest = 0.2889944471\n",
      "bestIteration = 999\n",
      "\n",
      "5:\tloss: 0.2889944\tbest: 0.2849863 (2)\ttotal: 1m 48s\tremaining: 1m 12s\n",
      "\n",
      "bestTest = 0.3161686713\n",
      "bestIteration = 999\n",
      "\n",
      "6:\tloss: 0.3161687\tbest: 0.2849863 (2)\ttotal: 2m 8s\tremaining: 54.9s\n",
      "\n",
      "bestTest = 0.2789001345\n",
      "bestIteration = 999\n",
      "\n",
      "7:\tloss: 0.2789001\tbest: 0.2789001 (7)\ttotal: 3m 1s\tremaining: 45.5s\n",
      "\n",
      "bestTest = 0.2660682906\n",
      "bestIteration = 952\n",
      "\n",
      "8:\tloss: 0.2660683\tbest: 0.2660683 (8)\ttotal: 3m 57s\tremaining: 26.3s\n",
      "\n",
      "bestTest = 0.2860979938\n",
      "bestIteration = 999\n",
      "\n",
      "9:\tloss: 0.2860980\tbest: 0.2660683 (8)\ttotal: 4m 52s\tremaining: 0us\n",
      "Estimating final quality...\n",
      "Training on fold [0/3]\n",
      "\n",
      "bestTest = 0.2816860567\n",
      "bestIteration = 651\n",
      "\n",
      "Training on fold [1/3]\n",
      "\n",
      "bestTest = 0.2828775214\n",
      "bestIteration = 623\n",
      "\n",
      "Training on fold [2/3]\n",
      "\n",
      "bestTest = 0.2770640371\n",
      "bestIteration = 813\n",
      "\n",
      "Best random search hyperparameters are: {'depth': 10, 'l2_leaf_reg': 5, 'learning_rate': 0.1}\n",
      "Best random search score is: 0.6214\n"
     ]
    }
   ],
   "source": [
    "model_CatBoost = CatBoostClassifier(task_type=\"CPU\", devices='0:1', silent=True, random_state=12345)\n",
    "\n",
    "param_CatBoost = {'learning_rate': [0.03, 0.1],\n",
    "        'depth': [5, 7, 10],\n",
    "        'l2_leaf_reg': [1, 3, 5, 7, 9, 11, 13, 15]}\n",
    "\n",
    "grid_CatBoost = model_CatBoost.randomized_search(param_CatBoost, X=features_train, y=target_train, plot=True)\n",
    "\n",
    "print('Best random search hyperparameters are:', grid_CatBoost['params'])\n",
    "print('Best random search score is:', round(pd.DataFrame(grid_CatBoost['cv_results'])['test-Logloss-mean'].max(), 4))"
   ]
  },
  {
   "cell_type": "code",
   "execution_count": 65,
   "metadata": {},
   "outputs": [
    {
     "name": "stdout",
     "output_type": "stream",
     "text": [
      "0:\tlearn: 0.6162667\ttotal: 63.7ms\tremaining: 1m 3s\n",
      "1:\tlearn: 0.5620356\ttotal: 120ms\tremaining: 1m\n",
      "2:\tlearn: 0.5253140\ttotal: 179ms\tremaining: 59.5s\n",
      "3:\tlearn: 0.4929484\ttotal: 235ms\tremaining: 58.4s\n",
      "4:\tlearn: 0.4704885\ttotal: 291ms\tremaining: 57.8s\n",
      "5:\tlearn: 0.4514335\ttotal: 356ms\tremaining: 59s\n",
      "6:\tlearn: 0.4385980\ttotal: 413ms\tremaining: 58.6s\n",
      "7:\tlearn: 0.4264535\ttotal: 474ms\tremaining: 58.8s\n",
      "8:\tlearn: 0.4178009\ttotal: 538ms\tremaining: 59.3s\n",
      "9:\tlearn: 0.4086407\ttotal: 596ms\tremaining: 59s\n",
      "10:\tlearn: 0.3989542\ttotal: 658ms\tremaining: 59.1s\n",
      "11:\tlearn: 0.3938009\ttotal: 713ms\tremaining: 58.7s\n",
      "12:\tlearn: 0.3874554\ttotal: 772ms\tremaining: 58.6s\n",
      "13:\tlearn: 0.3817788\ttotal: 830ms\tremaining: 58.5s\n",
      "14:\tlearn: 0.3769292\ttotal: 886ms\tremaining: 58.2s\n",
      "15:\tlearn: 0.3736332\ttotal: 943ms\tremaining: 58s\n",
      "16:\tlearn: 0.3701252\ttotal: 997ms\tremaining: 57.7s\n",
      "17:\tlearn: 0.3670352\ttotal: 1.06s\tremaining: 57.7s\n",
      "18:\tlearn: 0.3641362\ttotal: 1.11s\tremaining: 57.3s\n",
      "19:\tlearn: 0.3608281\ttotal: 1.17s\tremaining: 57.3s\n",
      "20:\tlearn: 0.3584293\ttotal: 1.23s\tremaining: 57.3s\n",
      "21:\tlearn: 0.3561263\ttotal: 1.29s\tremaining: 57.5s\n",
      "22:\tlearn: 0.3527591\ttotal: 1.36s\tremaining: 57.6s\n",
      "23:\tlearn: 0.3505937\ttotal: 1.42s\tremaining: 57.7s\n",
      "24:\tlearn: 0.3489104\ttotal: 1.49s\tremaining: 58s\n",
      "25:\tlearn: 0.3472239\ttotal: 1.56s\tremaining: 58.3s\n",
      "26:\tlearn: 0.3458501\ttotal: 1.62s\tremaining: 58.3s\n",
      "27:\tlearn: 0.3443999\ttotal: 1.68s\tremaining: 58.2s\n",
      "28:\tlearn: 0.3424423\ttotal: 1.74s\tremaining: 58.1s\n",
      "29:\tlearn: 0.3413462\ttotal: 1.79s\tremaining: 58.1s\n",
      "30:\tlearn: 0.3390041\ttotal: 1.86s\tremaining: 58s\n",
      "31:\tlearn: 0.3373718\ttotal: 1.91s\tremaining: 57.9s\n",
      "32:\tlearn: 0.3347979\ttotal: 1.97s\tremaining: 57.8s\n",
      "33:\tlearn: 0.3335166\ttotal: 2.03s\tremaining: 57.8s\n",
      "34:\tlearn: 0.3330142\ttotal: 2.05s\tremaining: 56.6s\n",
      "35:\tlearn: 0.3314699\ttotal: 2.11s\tremaining: 56.5s\n",
      "36:\tlearn: 0.3307127\ttotal: 2.17s\tremaining: 56.4s\n",
      "37:\tlearn: 0.3295970\ttotal: 2.23s\tremaining: 56.4s\n",
      "38:\tlearn: 0.3277970\ttotal: 2.29s\tremaining: 56.4s\n",
      "39:\tlearn: 0.3256183\ttotal: 2.36s\tremaining: 56.7s\n",
      "40:\tlearn: 0.3237444\ttotal: 2.42s\tremaining: 56.7s\n",
      "41:\tlearn: 0.3226158\ttotal: 2.48s\tremaining: 56.7s\n",
      "42:\tlearn: 0.3213191\ttotal: 2.55s\tremaining: 56.8s\n",
      "43:\tlearn: 0.3206347\ttotal: 2.61s\tremaining: 56.7s\n",
      "44:\tlearn: 0.3198293\ttotal: 2.67s\tremaining: 56.6s\n",
      "45:\tlearn: 0.3190675\ttotal: 2.73s\tremaining: 56.7s\n",
      "46:\tlearn: 0.3180873\ttotal: 2.79s\tremaining: 56.6s\n",
      "47:\tlearn: 0.3175943\ttotal: 2.86s\tremaining: 56.7s\n",
      "48:\tlearn: 0.3164721\ttotal: 2.92s\tremaining: 56.6s\n",
      "49:\tlearn: 0.3162467\ttotal: 2.94s\tremaining: 56s\n",
      "50:\tlearn: 0.3150539\ttotal: 3.01s\tremaining: 56s\n",
      "51:\tlearn: 0.3141380\ttotal: 3.07s\tremaining: 55.9s\n",
      "52:\tlearn: 0.3123743\ttotal: 3.13s\tremaining: 55.9s\n",
      "53:\tlearn: 0.3109385\ttotal: 3.19s\tremaining: 55.9s\n",
      "54:\tlearn: 0.3101563\ttotal: 3.25s\tremaining: 55.9s\n",
      "55:\tlearn: 0.3093199\ttotal: 3.31s\tremaining: 55.9s\n",
      "56:\tlearn: 0.3088980\ttotal: 3.37s\tremaining: 55.8s\n",
      "57:\tlearn: 0.3079472\ttotal: 3.44s\tremaining: 55.8s\n",
      "58:\tlearn: 0.3070060\ttotal: 3.5s\tremaining: 55.8s\n",
      "59:\tlearn: 0.3061511\ttotal: 3.55s\tremaining: 55.7s\n",
      "60:\tlearn: 0.3056156\ttotal: 3.62s\tremaining: 55.7s\n",
      "61:\tlearn: 0.3050190\ttotal: 3.68s\tremaining: 55.7s\n",
      "62:\tlearn: 0.3035231\ttotal: 3.75s\tremaining: 55.8s\n",
      "63:\tlearn: 0.3029314\ttotal: 3.82s\tremaining: 55.8s\n",
      "64:\tlearn: 0.3017664\ttotal: 3.88s\tremaining: 55.8s\n",
      "65:\tlearn: 0.3009638\ttotal: 3.94s\tremaining: 55.7s\n",
      "66:\tlearn: 0.2999392\ttotal: 4s\tremaining: 55.7s\n",
      "67:\tlearn: 0.2990348\ttotal: 4.05s\tremaining: 55.5s\n",
      "68:\tlearn: 0.2985814\ttotal: 4.12s\tremaining: 55.5s\n",
      "69:\tlearn: 0.2977790\ttotal: 4.18s\tremaining: 55.5s\n",
      "70:\tlearn: 0.2968208\ttotal: 4.24s\tremaining: 55.5s\n",
      "71:\tlearn: 0.2963304\ttotal: 4.31s\tremaining: 55.5s\n",
      "72:\tlearn: 0.2955250\ttotal: 4.37s\tremaining: 55.5s\n",
      "73:\tlearn: 0.2951500\ttotal: 4.43s\tremaining: 55.5s\n",
      "74:\tlearn: 0.2945844\ttotal: 4.49s\tremaining: 55.4s\n",
      "75:\tlearn: 0.2939639\ttotal: 4.56s\tremaining: 55.4s\n",
      "76:\tlearn: 0.2935920\ttotal: 4.63s\tremaining: 55.6s\n",
      "77:\tlearn: 0.2933014\ttotal: 4.7s\tremaining: 55.6s\n",
      "78:\tlearn: 0.2930667\ttotal: 4.76s\tremaining: 55.5s\n",
      "79:\tlearn: 0.2925666\ttotal: 4.83s\tremaining: 55.5s\n",
      "80:\tlearn: 0.2919236\ttotal: 4.89s\tremaining: 55.5s\n",
      "81:\tlearn: 0.2913605\ttotal: 4.95s\tremaining: 55.4s\n",
      "82:\tlearn: 0.2911053\ttotal: 5.01s\tremaining: 55.4s\n",
      "83:\tlearn: 0.2905226\ttotal: 5.09s\tremaining: 55.5s\n",
      "84:\tlearn: 0.2901318\ttotal: 5.15s\tremaining: 55.4s\n",
      "85:\tlearn: 0.2897634\ttotal: 5.21s\tremaining: 55.4s\n",
      "86:\tlearn: 0.2890226\ttotal: 5.27s\tremaining: 55.3s\n",
      "87:\tlearn: 0.2878384\ttotal: 5.33s\tremaining: 55.3s\n",
      "88:\tlearn: 0.2873334\ttotal: 5.4s\tremaining: 55.2s\n",
      "89:\tlearn: 0.2867087\ttotal: 5.46s\tremaining: 55.2s\n",
      "90:\tlearn: 0.2863079\ttotal: 5.53s\tremaining: 55.2s\n",
      "91:\tlearn: 0.2860851\ttotal: 5.59s\tremaining: 55.2s\n",
      "92:\tlearn: 0.2852642\ttotal: 5.65s\tremaining: 55.1s\n",
      "93:\tlearn: 0.2842489\ttotal: 5.71s\tremaining: 55s\n",
      "94:\tlearn: 0.2839371\ttotal: 5.77s\tremaining: 55s\n",
      "95:\tlearn: 0.2834140\ttotal: 5.83s\tremaining: 54.9s\n",
      "96:\tlearn: 0.2825580\ttotal: 5.89s\tremaining: 54.9s\n",
      "97:\tlearn: 0.2822418\ttotal: 5.95s\tremaining: 54.8s\n",
      "98:\tlearn: 0.2811021\ttotal: 6.01s\tremaining: 54.7s\n",
      "99:\tlearn: 0.2805631\ttotal: 6.08s\tremaining: 54.7s\n",
      "100:\tlearn: 0.2803985\ttotal: 6.14s\tremaining: 54.6s\n",
      "101:\tlearn: 0.2800379\ttotal: 6.2s\tremaining: 54.6s\n",
      "102:\tlearn: 0.2796072\ttotal: 6.26s\tremaining: 54.5s\n",
      "103:\tlearn: 0.2790113\ttotal: 6.32s\tremaining: 54.5s\n",
      "104:\tlearn: 0.2785587\ttotal: 6.38s\tremaining: 54.4s\n",
      "105:\tlearn: 0.2781573\ttotal: 6.45s\tremaining: 54.4s\n",
      "106:\tlearn: 0.2774403\ttotal: 6.5s\tremaining: 54.3s\n",
      "107:\tlearn: 0.2767418\ttotal: 6.57s\tremaining: 54.3s\n",
      "108:\tlearn: 0.2765590\ttotal: 6.63s\tremaining: 54.2s\n",
      "109:\tlearn: 0.2761222\ttotal: 6.69s\tremaining: 54.1s\n",
      "110:\tlearn: 0.2757299\ttotal: 6.75s\tremaining: 54.1s\n",
      "111:\tlearn: 0.2754385\ttotal: 6.81s\tremaining: 54s\n",
      "112:\tlearn: 0.2752567\ttotal: 6.87s\tremaining: 53.9s\n",
      "113:\tlearn: 0.2743326\ttotal: 6.93s\tremaining: 53.9s\n",
      "114:\tlearn: 0.2738835\ttotal: 6.99s\tremaining: 53.8s\n",
      "115:\tlearn: 0.2735053\ttotal: 7.05s\tremaining: 53.7s\n",
      "116:\tlearn: 0.2730945\ttotal: 7.11s\tremaining: 53.6s\n",
      "117:\tlearn: 0.2727586\ttotal: 7.16s\tremaining: 53.6s\n",
      "118:\tlearn: 0.2722092\ttotal: 7.22s\tremaining: 53.5s\n",
      "119:\tlearn: 0.2719797\ttotal: 7.28s\tremaining: 53.4s\n",
      "120:\tlearn: 0.2716511\ttotal: 7.35s\tremaining: 53.4s\n",
      "121:\tlearn: 0.2712543\ttotal: 7.41s\tremaining: 53.3s\n",
      "122:\tlearn: 0.2706717\ttotal: 7.47s\tremaining: 53.2s\n",
      "123:\tlearn: 0.2703883\ttotal: 7.53s\tremaining: 53.2s\n",
      "124:\tlearn: 0.2699046\ttotal: 7.59s\tremaining: 53.1s\n",
      "125:\tlearn: 0.2694532\ttotal: 7.66s\tremaining: 53.1s\n",
      "126:\tlearn: 0.2691332\ttotal: 7.73s\tremaining: 53.1s\n",
      "127:\tlearn: 0.2687504\ttotal: 7.79s\tremaining: 53s\n",
      "128:\tlearn: 0.2684534\ttotal: 7.85s\tremaining: 53s\n",
      "129:\tlearn: 0.2676184\ttotal: 7.91s\tremaining: 52.9s\n",
      "130:\tlearn: 0.2670978\ttotal: 7.98s\tremaining: 52.9s\n",
      "131:\tlearn: 0.2665628\ttotal: 8.04s\tremaining: 52.9s\n",
      "132:\tlearn: 0.2663379\ttotal: 8.1s\tremaining: 52.8s\n",
      "133:\tlearn: 0.2662450\ttotal: 8.17s\tremaining: 52.8s\n",
      "134:\tlearn: 0.2656573\ttotal: 8.23s\tremaining: 52.7s\n",
      "135:\tlearn: 0.2648917\ttotal: 8.29s\tremaining: 52.6s\n",
      "136:\tlearn: 0.2644463\ttotal: 8.35s\tremaining: 52.6s\n",
      "137:\tlearn: 0.2641428\ttotal: 8.41s\tremaining: 52.5s\n",
      "138:\tlearn: 0.2637819\ttotal: 8.47s\tremaining: 52.5s\n",
      "139:\tlearn: 0.2631515\ttotal: 8.53s\tremaining: 52.4s\n",
      "140:\tlearn: 0.2627515\ttotal: 8.59s\tremaining: 52.3s\n",
      "141:\tlearn: 0.2624590\ttotal: 8.65s\tremaining: 52.3s\n",
      "142:\tlearn: 0.2622266\ttotal: 8.72s\tremaining: 52.3s\n",
      "143:\tlearn: 0.2617820\ttotal: 8.78s\tremaining: 52.2s\n",
      "144:\tlearn: 0.2611194\ttotal: 8.84s\tremaining: 52.1s\n",
      "145:\tlearn: 0.2608694\ttotal: 8.9s\tremaining: 52.1s\n",
      "146:\tlearn: 0.2607152\ttotal: 8.96s\tremaining: 52s\n",
      "147:\tlearn: 0.2600450\ttotal: 9.02s\tremaining: 51.9s\n",
      "148:\tlearn: 0.2595940\ttotal: 9.08s\tremaining: 51.9s\n",
      "149:\tlearn: 0.2591790\ttotal: 9.14s\tremaining: 51.8s\n",
      "150:\tlearn: 0.2591149\ttotal: 9.2s\tremaining: 51.7s\n",
      "151:\tlearn: 0.2583850\ttotal: 9.26s\tremaining: 51.7s\n",
      "152:\tlearn: 0.2582262\ttotal: 9.32s\tremaining: 51.6s\n",
      "153:\tlearn: 0.2579623\ttotal: 9.38s\tremaining: 51.5s\n",
      "154:\tlearn: 0.2573751\ttotal: 9.44s\tremaining: 51.4s\n",
      "155:\tlearn: 0.2569219\ttotal: 9.49s\tremaining: 51.4s\n",
      "156:\tlearn: 0.2563961\ttotal: 9.55s\tremaining: 51.3s\n",
      "157:\tlearn: 0.2560035\ttotal: 9.61s\tremaining: 51.2s\n",
      "158:\tlearn: 0.2554434\ttotal: 9.67s\tremaining: 51.1s\n",
      "159:\tlearn: 0.2550717\ttotal: 9.73s\tremaining: 51.1s\n",
      "160:\tlearn: 0.2546849\ttotal: 9.79s\tremaining: 51s\n",
      "161:\tlearn: 0.2544126\ttotal: 9.84s\tremaining: 50.9s\n",
      "162:\tlearn: 0.2539679\ttotal: 9.9s\tremaining: 50.8s\n",
      "163:\tlearn: 0.2535541\ttotal: 9.96s\tremaining: 50.7s\n",
      "164:\tlearn: 0.2529815\ttotal: 10s\tremaining: 50.7s\n",
      "165:\tlearn: 0.2526396\ttotal: 10.1s\tremaining: 50.6s\n",
      "166:\tlearn: 0.2525817\ttotal: 10.1s\tremaining: 50.5s\n",
      "167:\tlearn: 0.2522057\ttotal: 10.2s\tremaining: 50.5s\n",
      "168:\tlearn: 0.2519597\ttotal: 10.3s\tremaining: 50.4s\n",
      "169:\tlearn: 0.2517190\ttotal: 10.3s\tremaining: 50.4s\n",
      "170:\tlearn: 0.2514789\ttotal: 10.4s\tremaining: 50.3s\n",
      "171:\tlearn: 0.2511945\ttotal: 10.4s\tremaining: 50.2s\n",
      "172:\tlearn: 0.2507019\ttotal: 10.5s\tremaining: 50.2s\n",
      "173:\tlearn: 0.2499368\ttotal: 10.5s\tremaining: 50.1s\n",
      "174:\tlearn: 0.2494998\ttotal: 10.6s\tremaining: 50s\n",
      "175:\tlearn: 0.2492326\ttotal: 10.7s\tremaining: 50s\n",
      "176:\tlearn: 0.2491913\ttotal: 10.7s\tremaining: 49.9s\n",
      "177:\tlearn: 0.2490263\ttotal: 10.8s\tremaining: 49.8s\n",
      "178:\tlearn: 0.2489810\ttotal: 10.9s\tremaining: 49.8s\n",
      "179:\tlearn: 0.2489773\ttotal: 10.9s\tremaining: 49.6s\n",
      "180:\tlearn: 0.2488243\ttotal: 10.9s\tremaining: 49.5s\n",
      "181:\tlearn: 0.2485226\ttotal: 11s\tremaining: 49.5s\n",
      "182:\tlearn: 0.2482392\ttotal: 11.1s\tremaining: 49.4s\n",
      "183:\tlearn: 0.2478710\ttotal: 11.1s\tremaining: 49.3s\n",
      "184:\tlearn: 0.2475622\ttotal: 11.2s\tremaining: 49.3s\n",
      "185:\tlearn: 0.2470866\ttotal: 11.2s\tremaining: 49.2s\n",
      "186:\tlearn: 0.2467163\ttotal: 11.3s\tremaining: 49.1s\n",
      "187:\tlearn: 0.2464733\ttotal: 11.4s\tremaining: 49.1s\n",
      "188:\tlearn: 0.2458231\ttotal: 11.4s\tremaining: 49.1s\n",
      "189:\tlearn: 0.2455974\ttotal: 11.5s\tremaining: 49.1s\n",
      "190:\tlearn: 0.2447690\ttotal: 11.6s\tremaining: 49.1s\n",
      "191:\tlearn: 0.2445905\ttotal: 11.7s\tremaining: 49.1s\n",
      "192:\tlearn: 0.2444652\ttotal: 11.7s\tremaining: 49s\n",
      "193:\tlearn: 0.2441734\ttotal: 11.8s\tremaining: 49s\n",
      "194:\tlearn: 0.2438406\ttotal: 11.8s\tremaining: 48.9s\n",
      "195:\tlearn: 0.2435411\ttotal: 11.9s\tremaining: 48.8s\n",
      "196:\tlearn: 0.2430815\ttotal: 12s\tremaining: 48.8s\n",
      "197:\tlearn: 0.2427023\ttotal: 12s\tremaining: 48.7s\n",
      "198:\tlearn: 0.2421415\ttotal: 12.1s\tremaining: 48.7s\n",
      "199:\tlearn: 0.2419082\ttotal: 12.2s\tremaining: 48.6s\n",
      "200:\tlearn: 0.2415261\ttotal: 12.2s\tremaining: 48.6s\n",
      "201:\tlearn: 0.2413066\ttotal: 12.3s\tremaining: 48.5s\n",
      "202:\tlearn: 0.2409889\ttotal: 12.3s\tremaining: 48.5s\n",
      "203:\tlearn: 0.2403679\ttotal: 12.4s\tremaining: 48.4s\n",
      "204:\tlearn: 0.2400935\ttotal: 12.5s\tremaining: 48.4s\n",
      "205:\tlearn: 0.2399524\ttotal: 12.5s\tremaining: 48.3s\n",
      "206:\tlearn: 0.2398344\ttotal: 12.6s\tremaining: 48.2s\n",
      "207:\tlearn: 0.2396158\ttotal: 12.7s\tremaining: 48.2s\n",
      "208:\tlearn: 0.2391670\ttotal: 12.7s\tremaining: 48.1s\n",
      "209:\tlearn: 0.2388937\ttotal: 12.8s\tremaining: 48s\n",
      "210:\tlearn: 0.2385730\ttotal: 12.8s\tremaining: 48s\n",
      "211:\tlearn: 0.2380630\ttotal: 12.9s\tremaining: 47.9s\n",
      "212:\tlearn: 0.2378287\ttotal: 13s\tremaining: 47.9s\n",
      "213:\tlearn: 0.2374503\ttotal: 13s\tremaining: 47.8s\n",
      "214:\tlearn: 0.2370067\ttotal: 13.1s\tremaining: 47.7s\n",
      "215:\tlearn: 0.2365631\ttotal: 13.1s\tremaining: 47.7s\n",
      "216:\tlearn: 0.2363041\ttotal: 13.2s\tremaining: 47.7s\n",
      "217:\tlearn: 0.2361490\ttotal: 13.3s\tremaining: 47.6s\n",
      "218:\tlearn: 0.2360557\ttotal: 13.3s\tremaining: 47.6s\n",
      "219:\tlearn: 0.2357777\ttotal: 13.4s\tremaining: 47.5s\n",
      "220:\tlearn: 0.2354858\ttotal: 13.5s\tremaining: 47.5s\n",
      "221:\tlearn: 0.2350946\ttotal: 13.5s\tremaining: 47.4s\n",
      "222:\tlearn: 0.2348758\ttotal: 13.6s\tremaining: 47.4s\n",
      "223:\tlearn: 0.2346770\ttotal: 13.7s\tremaining: 47.3s\n",
      "224:\tlearn: 0.2345818\ttotal: 13.7s\tremaining: 47.3s\n",
      "225:\tlearn: 0.2340253\ttotal: 13.8s\tremaining: 47.2s\n",
      "226:\tlearn: 0.2339186\ttotal: 13.8s\tremaining: 47.2s\n",
      "227:\tlearn: 0.2337145\ttotal: 13.9s\tremaining: 47.1s\n",
      "228:\tlearn: 0.2336077\ttotal: 14s\tremaining: 47.1s\n",
      "229:\tlearn: 0.2332609\ttotal: 14s\tremaining: 47s\n",
      "230:\tlearn: 0.2330953\ttotal: 14.1s\tremaining: 47s\n",
      "231:\tlearn: 0.2330138\ttotal: 14.2s\tremaining: 46.9s\n",
      "232:\tlearn: 0.2324010\ttotal: 14.2s\tremaining: 46.9s\n",
      "233:\tlearn: 0.2320343\ttotal: 14.3s\tremaining: 46.8s\n",
      "234:\tlearn: 0.2315681\ttotal: 14.4s\tremaining: 46.7s\n",
      "235:\tlearn: 0.2312393\ttotal: 14.4s\tremaining: 46.7s\n",
      "236:\tlearn: 0.2307719\ttotal: 14.5s\tremaining: 46.6s\n",
      "237:\tlearn: 0.2305852\ttotal: 14.6s\tremaining: 46.6s\n",
      "238:\tlearn: 0.2303649\ttotal: 14.6s\tremaining: 46.6s\n",
      "239:\tlearn: 0.2301393\ttotal: 14.7s\tremaining: 46.5s\n",
      "240:\tlearn: 0.2298379\ttotal: 14.8s\tremaining: 46.5s\n",
      "241:\tlearn: 0.2295544\ttotal: 14.8s\tremaining: 46.4s\n",
      "242:\tlearn: 0.2295121\ttotal: 14.9s\tremaining: 46.3s\n",
      "243:\tlearn: 0.2294191\ttotal: 14.9s\tremaining: 46.3s\n",
      "244:\tlearn: 0.2291984\ttotal: 15s\tremaining: 46.2s\n",
      "245:\tlearn: 0.2287496\ttotal: 15.1s\tremaining: 46.2s\n",
      "246:\tlearn: 0.2281895\ttotal: 15.1s\tremaining: 46.1s\n",
      "247:\tlearn: 0.2275264\ttotal: 15.2s\tremaining: 46s\n",
      "248:\tlearn: 0.2272466\ttotal: 15.3s\tremaining: 46s\n",
      "249:\tlearn: 0.2269718\ttotal: 15.3s\tremaining: 46s\n",
      "250:\tlearn: 0.2266977\ttotal: 15.4s\tremaining: 45.9s\n",
      "251:\tlearn: 0.2264385\ttotal: 15.4s\tremaining: 45.9s\n",
      "252:\tlearn: 0.2263682\ttotal: 15.5s\tremaining: 45.8s\n",
      "253:\tlearn: 0.2260019\ttotal: 15.6s\tremaining: 45.7s\n",
      "254:\tlearn: 0.2257353\ttotal: 15.6s\tremaining: 45.7s\n",
      "255:\tlearn: 0.2255100\ttotal: 15.7s\tremaining: 45.6s\n",
      "256:\tlearn: 0.2253458\ttotal: 15.8s\tremaining: 45.6s\n",
      "257:\tlearn: 0.2249503\ttotal: 15.8s\tremaining: 45.5s\n",
      "258:\tlearn: 0.2247164\ttotal: 15.9s\tremaining: 45.4s\n",
      "259:\tlearn: 0.2244744\ttotal: 15.9s\tremaining: 45.4s\n",
      "260:\tlearn: 0.2242331\ttotal: 16s\tremaining: 45.3s\n",
      "261:\tlearn: 0.2239434\ttotal: 16.1s\tremaining: 45.3s\n",
      "262:\tlearn: 0.2236641\ttotal: 16.1s\tremaining: 45.2s\n",
      "263:\tlearn: 0.2232949\ttotal: 16.2s\tremaining: 45.2s\n",
      "264:\tlearn: 0.2230592\ttotal: 16.3s\tremaining: 45.1s\n",
      "265:\tlearn: 0.2228275\ttotal: 16.3s\tremaining: 45.1s\n",
      "266:\tlearn: 0.2225352\ttotal: 16.4s\tremaining: 45s\n",
      "267:\tlearn: 0.2222261\ttotal: 16.5s\tremaining: 44.9s\n",
      "268:\tlearn: 0.2222206\ttotal: 16.5s\tremaining: 44.8s\n",
      "269:\tlearn: 0.2221530\ttotal: 16.5s\tremaining: 44.7s\n",
      "270:\tlearn: 0.2219026\ttotal: 16.6s\tremaining: 44.7s\n",
      "271:\tlearn: 0.2215424\ttotal: 16.7s\tremaining: 44.6s\n",
      "272:\tlearn: 0.2213283\ttotal: 16.7s\tremaining: 44.6s\n",
      "273:\tlearn: 0.2210527\ttotal: 16.8s\tremaining: 44.5s\n",
      "274:\tlearn: 0.2208705\ttotal: 16.9s\tremaining: 44.4s\n",
      "275:\tlearn: 0.2207150\ttotal: 16.9s\tremaining: 44.4s\n",
      "276:\tlearn: 0.2202892\ttotal: 17s\tremaining: 44.3s\n",
      "277:\tlearn: 0.2200007\ttotal: 17s\tremaining: 44.3s\n",
      "278:\tlearn: 0.2195644\ttotal: 17.1s\tremaining: 44.2s\n",
      "279:\tlearn: 0.2193238\ttotal: 17.2s\tremaining: 44.2s\n",
      "280:\tlearn: 0.2191839\ttotal: 17.2s\tremaining: 44.1s\n",
      "281:\tlearn: 0.2189743\ttotal: 17.3s\tremaining: 44.1s\n",
      "282:\tlearn: 0.2188917\ttotal: 17.4s\tremaining: 44s\n",
      "283:\tlearn: 0.2188868\ttotal: 17.4s\tremaining: 43.9s\n",
      "284:\tlearn: 0.2188022\ttotal: 17.5s\tremaining: 43.8s\n",
      "285:\tlearn: 0.2187137\ttotal: 17.5s\tremaining: 43.8s\n",
      "286:\tlearn: 0.2184928\ttotal: 17.6s\tremaining: 43.7s\n",
      "287:\tlearn: 0.2183394\ttotal: 17.7s\tremaining: 43.7s\n",
      "288:\tlearn: 0.2179611\ttotal: 17.7s\tremaining: 43.6s\n",
      "289:\tlearn: 0.2179413\ttotal: 17.8s\tremaining: 43.6s\n",
      "290:\tlearn: 0.2177250\ttotal: 17.9s\tremaining: 43.5s\n",
      "291:\tlearn: 0.2172032\ttotal: 17.9s\tremaining: 43.5s\n",
      "292:\tlearn: 0.2171673\ttotal: 18s\tremaining: 43.4s\n",
      "293:\tlearn: 0.2169630\ttotal: 18.1s\tremaining: 43.4s\n",
      "294:\tlearn: 0.2168591\ttotal: 18.1s\tremaining: 43.3s\n",
      "295:\tlearn: 0.2168551\ttotal: 18.2s\tremaining: 43.2s\n",
      "296:\tlearn: 0.2165706\ttotal: 18.2s\tremaining: 43.2s\n",
      "297:\tlearn: 0.2162707\ttotal: 18.3s\tremaining: 43.1s\n",
      "298:\tlearn: 0.2160016\ttotal: 18.4s\tremaining: 43s\n",
      "299:\tlearn: 0.2159274\ttotal: 18.4s\tremaining: 43s\n",
      "300:\tlearn: 0.2159047\ttotal: 18.5s\tremaining: 42.9s\n",
      "301:\tlearn: 0.2153547\ttotal: 18.5s\tremaining: 42.9s\n",
      "302:\tlearn: 0.2150948\ttotal: 18.6s\tremaining: 42.8s\n",
      "303:\tlearn: 0.2148594\ttotal: 18.7s\tremaining: 42.7s\n",
      "304:\tlearn: 0.2147218\ttotal: 18.7s\tremaining: 42.7s\n",
      "305:\tlearn: 0.2147026\ttotal: 18.8s\tremaining: 42.6s\n",
      "306:\tlearn: 0.2144052\ttotal: 18.9s\tremaining: 42.6s\n",
      "307:\tlearn: 0.2141547\ttotal: 18.9s\tremaining: 42.5s\n",
      "308:\tlearn: 0.2139819\ttotal: 19s\tremaining: 42.4s\n",
      "309:\tlearn: 0.2135937\ttotal: 19s\tremaining: 42.4s\n",
      "310:\tlearn: 0.2135055\ttotal: 19.1s\tremaining: 42.3s\n",
      "311:\tlearn: 0.2132951\ttotal: 19.2s\tremaining: 42.3s\n",
      "312:\tlearn: 0.2131185\ttotal: 19.2s\tremaining: 42.2s\n",
      "313:\tlearn: 0.2128923\ttotal: 19.3s\tremaining: 42.1s\n",
      "314:\tlearn: 0.2127031\ttotal: 19.3s\tremaining: 42.1s\n",
      "315:\tlearn: 0.2125448\ttotal: 19.4s\tremaining: 42s\n",
      "316:\tlearn: 0.2122804\ttotal: 19.5s\tremaining: 41.9s\n",
      "317:\tlearn: 0.2119594\ttotal: 19.5s\tremaining: 41.9s\n",
      "318:\tlearn: 0.2118544\ttotal: 19.6s\tremaining: 41.8s\n",
      "319:\tlearn: 0.2116932\ttotal: 19.6s\tremaining: 41.7s\n",
      "320:\tlearn: 0.2116889\ttotal: 19.7s\tremaining: 41.6s\n",
      "321:\tlearn: 0.2116843\ttotal: 19.8s\tremaining: 41.6s\n",
      "322:\tlearn: 0.2116148\ttotal: 19.8s\tremaining: 41.5s\n",
      "323:\tlearn: 0.2114297\ttotal: 19.9s\tremaining: 41.5s\n",
      "324:\tlearn: 0.2112968\ttotal: 19.9s\tremaining: 41.4s\n",
      "325:\tlearn: 0.2111183\ttotal: 20s\tremaining: 41.3s\n",
      "326:\tlearn: 0.2109600\ttotal: 20s\tremaining: 41.3s\n",
      "327:\tlearn: 0.2107188\ttotal: 20.1s\tremaining: 41.2s\n",
      "328:\tlearn: 0.2103032\ttotal: 20.2s\tremaining: 41.1s\n",
      "329:\tlearn: 0.2101342\ttotal: 20.2s\tremaining: 41.1s\n",
      "330:\tlearn: 0.2099998\ttotal: 20.3s\tremaining: 41s\n",
      "331:\tlearn: 0.2096425\ttotal: 20.3s\tremaining: 40.9s\n",
      "332:\tlearn: 0.2095071\ttotal: 20.4s\tremaining: 40.9s\n",
      "333:\tlearn: 0.2093361\ttotal: 20.5s\tremaining: 40.8s\n",
      "334:\tlearn: 0.2091887\ttotal: 20.5s\tremaining: 40.7s\n",
      "335:\tlearn: 0.2090400\ttotal: 20.6s\tremaining: 40.7s\n",
      "336:\tlearn: 0.2088056\ttotal: 20.6s\tremaining: 40.6s\n",
      "337:\tlearn: 0.2087101\ttotal: 20.7s\tremaining: 40.6s\n",
      "338:\tlearn: 0.2084565\ttotal: 20.8s\tremaining: 40.5s\n",
      "339:\tlearn: 0.2083996\ttotal: 20.8s\tremaining: 40.4s\n",
      "340:\tlearn: 0.2083959\ttotal: 20.9s\tremaining: 40.3s\n",
      "341:\tlearn: 0.2083918\ttotal: 20.9s\tremaining: 40.2s\n",
      "342:\tlearn: 0.2082479\ttotal: 21s\tremaining: 40.2s\n",
      "343:\tlearn: 0.2082435\ttotal: 21s\tremaining: 40.1s\n",
      "344:\tlearn: 0.2078922\ttotal: 21.1s\tremaining: 40.1s\n",
      "345:\tlearn: 0.2077869\ttotal: 21.2s\tremaining: 40s\n",
      "346:\tlearn: 0.2075475\ttotal: 21.2s\tremaining: 40s\n",
      "347:\tlearn: 0.2073029\ttotal: 21.3s\tremaining: 39.9s\n",
      "348:\tlearn: 0.2072286\ttotal: 21.4s\tremaining: 39.8s\n",
      "349:\tlearn: 0.2070844\ttotal: 21.4s\tremaining: 39.8s\n",
      "350:\tlearn: 0.2069050\ttotal: 21.5s\tremaining: 39.7s\n",
      "351:\tlearn: 0.2066579\ttotal: 21.5s\tremaining: 39.6s\n",
      "352:\tlearn: 0.2066536\ttotal: 21.6s\tremaining: 39.6s\n",
      "353:\tlearn: 0.2064547\ttotal: 21.7s\tremaining: 39.5s\n",
      "354:\tlearn: 0.2063624\ttotal: 21.7s\tremaining: 39.5s\n",
      "355:\tlearn: 0.2063538\ttotal: 21.8s\tremaining: 39.4s\n",
      "356:\tlearn: 0.2061927\ttotal: 21.8s\tremaining: 39.3s\n",
      "357:\tlearn: 0.2059845\ttotal: 21.9s\tremaining: 39.3s\n",
      "358:\tlearn: 0.2058294\ttotal: 22s\tremaining: 39.2s\n",
      "359:\tlearn: 0.2054028\ttotal: 22s\tremaining: 39.1s\n",
      "360:\tlearn: 0.2052342\ttotal: 22.1s\tremaining: 39.1s\n",
      "361:\tlearn: 0.2050030\ttotal: 22.1s\tremaining: 39s\n",
      "362:\tlearn: 0.2048424\ttotal: 22.2s\tremaining: 39s\n",
      "363:\tlearn: 0.2046341\ttotal: 22.3s\tremaining: 38.9s\n",
      "364:\tlearn: 0.2043376\ttotal: 22.3s\tremaining: 38.8s\n",
      "365:\tlearn: 0.2042100\ttotal: 22.4s\tremaining: 38.8s\n",
      "366:\tlearn: 0.2039037\ttotal: 22.4s\tremaining: 38.7s\n",
      "367:\tlearn: 0.2035675\ttotal: 22.5s\tremaining: 38.6s\n",
      "368:\tlearn: 0.2033962\ttotal: 22.6s\tremaining: 38.6s\n",
      "369:\tlearn: 0.2032087\ttotal: 22.6s\tremaining: 38.5s\n",
      "370:\tlearn: 0.2029220\ttotal: 22.7s\tremaining: 38.4s\n",
      "371:\tlearn: 0.2027155\ttotal: 22.7s\tremaining: 38.4s\n",
      "372:\tlearn: 0.2024204\ttotal: 22.8s\tremaining: 38.3s\n",
      "373:\tlearn: 0.2023630\ttotal: 22.9s\tremaining: 38.3s\n",
      "374:\tlearn: 0.2021789\ttotal: 22.9s\tremaining: 38.2s\n",
      "375:\tlearn: 0.2019081\ttotal: 23s\tremaining: 38.1s\n",
      "376:\tlearn: 0.2017646\ttotal: 23s\tremaining: 38.1s\n",
      "377:\tlearn: 0.2015712\ttotal: 23.1s\tremaining: 38s\n",
      "378:\tlearn: 0.2014001\ttotal: 23.1s\tremaining: 37.9s\n",
      "379:\tlearn: 0.2013968\ttotal: 23.2s\tremaining: 37.8s\n",
      "380:\tlearn: 0.2011873\ttotal: 23.3s\tremaining: 37.8s\n",
      "381:\tlearn: 0.2009572\ttotal: 23.3s\tremaining: 37.7s\n",
      "382:\tlearn: 0.2008371\ttotal: 23.4s\tremaining: 37.7s\n",
      "383:\tlearn: 0.2007584\ttotal: 23.4s\tremaining: 37.6s\n",
      "384:\tlearn: 0.2005562\ttotal: 23.5s\tremaining: 37.5s\n",
      "385:\tlearn: 0.2003241\ttotal: 23.6s\tremaining: 37.5s\n",
      "386:\tlearn: 0.2001457\ttotal: 23.6s\tremaining: 37.4s\n",
      "387:\tlearn: 0.2000104\ttotal: 23.7s\tremaining: 37.4s\n",
      "388:\tlearn: 0.1996288\ttotal: 23.7s\tremaining: 37.3s\n",
      "389:\tlearn: 0.1994507\ttotal: 23.8s\tremaining: 37.2s\n",
      "390:\tlearn: 0.1992121\ttotal: 23.9s\tremaining: 37.2s\n",
      "391:\tlearn: 0.1991234\ttotal: 23.9s\tremaining: 37.1s\n",
      "392:\tlearn: 0.1989592\ttotal: 24s\tremaining: 37.1s\n",
      "393:\tlearn: 0.1988998\ttotal: 24.1s\tremaining: 37s\n",
      "394:\tlearn: 0.1987955\ttotal: 24.1s\tremaining: 36.9s\n",
      "395:\tlearn: 0.1987374\ttotal: 24.2s\tremaining: 36.9s\n",
      "396:\tlearn: 0.1985430\ttotal: 24.2s\tremaining: 36.8s\n",
      "397:\tlearn: 0.1984217\ttotal: 24.3s\tremaining: 36.8s\n",
      "398:\tlearn: 0.1982356\ttotal: 24.4s\tremaining: 36.7s\n",
      "399:\tlearn: 0.1980579\ttotal: 24.4s\tremaining: 36.6s\n",
      "400:\tlearn: 0.1979628\ttotal: 24.5s\tremaining: 36.6s\n",
      "401:\tlearn: 0.1978800\ttotal: 24.5s\tremaining: 36.5s\n",
      "402:\tlearn: 0.1977211\ttotal: 24.6s\tremaining: 36.4s\n",
      "403:\tlearn: 0.1975041\ttotal: 24.7s\tremaining: 36.4s\n",
      "404:\tlearn: 0.1973584\ttotal: 24.7s\tremaining: 36.3s\n",
      "405:\tlearn: 0.1971428\ttotal: 24.8s\tremaining: 36.3s\n",
      "406:\tlearn: 0.1969350\ttotal: 24.8s\tremaining: 36.2s\n",
      "407:\tlearn: 0.1968299\ttotal: 24.9s\tremaining: 36.1s\n",
      "408:\tlearn: 0.1966599\ttotal: 25s\tremaining: 36.1s\n",
      "409:\tlearn: 0.1965470\ttotal: 25s\tremaining: 36s\n",
      "410:\tlearn: 0.1962404\ttotal: 25.1s\tremaining: 35.9s\n",
      "411:\tlearn: 0.1962382\ttotal: 25.1s\tremaining: 35.9s\n",
      "412:\tlearn: 0.1962029\ttotal: 25.2s\tremaining: 35.8s\n",
      "413:\tlearn: 0.1960196\ttotal: 25.2s\tremaining: 35.7s\n",
      "414:\tlearn: 0.1959233\ttotal: 25.3s\tremaining: 35.7s\n",
      "415:\tlearn: 0.1958379\ttotal: 25.4s\tremaining: 35.6s\n",
      "416:\tlearn: 0.1955889\ttotal: 25.4s\tremaining: 35.5s\n",
      "417:\tlearn: 0.1953368\ttotal: 25.5s\tremaining: 35.5s\n",
      "418:\tlearn: 0.1952079\ttotal: 25.5s\tremaining: 35.4s\n",
      "419:\tlearn: 0.1952066\ttotal: 25.6s\tremaining: 35.3s\n",
      "420:\tlearn: 0.1950973\ttotal: 25.6s\tremaining: 35.3s\n",
      "421:\tlearn: 0.1948743\ttotal: 25.7s\tremaining: 35.2s\n",
      "422:\tlearn: 0.1946448\ttotal: 25.8s\tremaining: 35.1s\n",
      "423:\tlearn: 0.1945092\ttotal: 25.8s\tremaining: 35.1s\n",
      "424:\tlearn: 0.1944666\ttotal: 25.9s\tremaining: 35s\n",
      "425:\tlearn: 0.1942724\ttotal: 25.9s\tremaining: 35s\n",
      "426:\tlearn: 0.1941006\ttotal: 26s\tremaining: 34.9s\n",
      "427:\tlearn: 0.1939608\ttotal: 26.1s\tremaining: 34.8s\n",
      "428:\tlearn: 0.1936713\ttotal: 26.1s\tremaining: 34.8s\n",
      "429:\tlearn: 0.1934714\ttotal: 26.2s\tremaining: 34.7s\n",
      "430:\tlearn: 0.1933322\ttotal: 26.3s\tremaining: 34.7s\n",
      "431:\tlearn: 0.1932731\ttotal: 26.3s\tremaining: 34.6s\n",
      "432:\tlearn: 0.1928851\ttotal: 26.4s\tremaining: 34.5s\n",
      "433:\tlearn: 0.1927628\ttotal: 26.4s\tremaining: 34.5s\n",
      "434:\tlearn: 0.1927595\ttotal: 26.5s\tremaining: 34.4s\n",
      "435:\tlearn: 0.1926575\ttotal: 26.5s\tremaining: 34.3s\n",
      "436:\tlearn: 0.1924643\ttotal: 26.6s\tremaining: 34.3s\n",
      "437:\tlearn: 0.1922668\ttotal: 26.7s\tremaining: 34.2s\n",
      "438:\tlearn: 0.1921130\ttotal: 26.7s\tremaining: 34.1s\n",
      "439:\tlearn: 0.1919500\ttotal: 26.8s\tremaining: 34.1s\n",
      "440:\tlearn: 0.1918623\ttotal: 26.8s\tremaining: 34s\n",
      "441:\tlearn: 0.1917463\ttotal: 26.9s\tremaining: 34s\n",
      "442:\tlearn: 0.1917186\ttotal: 27s\tremaining: 33.9s\n",
      "443:\tlearn: 0.1915622\ttotal: 27s\tremaining: 33.8s\n",
      "444:\tlearn: 0.1913073\ttotal: 27.1s\tremaining: 33.8s\n",
      "445:\tlearn: 0.1912172\ttotal: 27.1s\tremaining: 33.7s\n",
      "446:\tlearn: 0.1911841\ttotal: 27.2s\tremaining: 33.7s\n",
      "447:\tlearn: 0.1911700\ttotal: 27.2s\tremaining: 33.6s\n",
      "448:\tlearn: 0.1911499\ttotal: 27.3s\tremaining: 33.5s\n",
      "449:\tlearn: 0.1907778\ttotal: 27.3s\tremaining: 33.4s\n",
      "450:\tlearn: 0.1906231\ttotal: 27.4s\tremaining: 33.4s\n",
      "451:\tlearn: 0.1904052\ttotal: 27.5s\tremaining: 33.3s\n",
      "452:\tlearn: 0.1902606\ttotal: 27.5s\tremaining: 33.2s\n",
      "453:\tlearn: 0.1900102\ttotal: 27.6s\tremaining: 33.2s\n",
      "454:\tlearn: 0.1899970\ttotal: 27.7s\tremaining: 33.1s\n",
      "455:\tlearn: 0.1899821\ttotal: 27.7s\tremaining: 33.1s\n",
      "456:\tlearn: 0.1897930\ttotal: 27.8s\tremaining: 33s\n",
      "457:\tlearn: 0.1896565\ttotal: 27.8s\tremaining: 33s\n",
      "458:\tlearn: 0.1895469\ttotal: 27.9s\tremaining: 32.9s\n",
      "459:\tlearn: 0.1891774\ttotal: 28s\tremaining: 32.9s\n",
      "460:\tlearn: 0.1888800\ttotal: 28.1s\tremaining: 32.8s\n",
      "461:\tlearn: 0.1886829\ttotal: 28.1s\tremaining: 32.7s\n",
      "462:\tlearn: 0.1884484\ttotal: 28.2s\tremaining: 32.7s\n",
      "463:\tlearn: 0.1882248\ttotal: 28.2s\tremaining: 32.6s\n",
      "464:\tlearn: 0.1881450\ttotal: 28.3s\tremaining: 32.6s\n",
      "465:\tlearn: 0.1880995\ttotal: 28.4s\tremaining: 32.5s\n",
      "466:\tlearn: 0.1879791\ttotal: 28.4s\tremaining: 32.4s\n",
      "467:\tlearn: 0.1877854\ttotal: 28.5s\tremaining: 32.4s\n",
      "468:\tlearn: 0.1875913\ttotal: 28.5s\tremaining: 32.3s\n",
      "469:\tlearn: 0.1874373\ttotal: 28.6s\tremaining: 32.3s\n",
      "470:\tlearn: 0.1872887\ttotal: 28.7s\tremaining: 32.2s\n",
      "471:\tlearn: 0.1871524\ttotal: 28.7s\tremaining: 32.1s\n",
      "472:\tlearn: 0.1870026\ttotal: 28.8s\tremaining: 32.1s\n",
      "473:\tlearn: 0.1868919\ttotal: 28.8s\tremaining: 32s\n",
      "474:\tlearn: 0.1868445\ttotal: 28.9s\tremaining: 31.9s\n",
      "475:\tlearn: 0.1865692\ttotal: 29s\tremaining: 31.9s\n",
      "476:\tlearn: 0.1865228\ttotal: 29s\tremaining: 31.8s\n",
      "477:\tlearn: 0.1862937\ttotal: 29.1s\tremaining: 31.8s\n",
      "478:\tlearn: 0.1862527\ttotal: 29.2s\tremaining: 31.7s\n",
      "479:\tlearn: 0.1860959\ttotal: 29.2s\tremaining: 31.6s\n",
      "480:\tlearn: 0.1860104\ttotal: 29.3s\tremaining: 31.6s\n",
      "481:\tlearn: 0.1858600\ttotal: 29.3s\tremaining: 31.5s\n",
      "482:\tlearn: 0.1858135\ttotal: 29.4s\tremaining: 31.5s\n",
      "483:\tlearn: 0.1856914\ttotal: 29.5s\tremaining: 31.4s\n",
      "484:\tlearn: 0.1855978\ttotal: 29.5s\tremaining: 31.3s\n",
      "485:\tlearn: 0.1854374\ttotal: 29.6s\tremaining: 31.3s\n",
      "486:\tlearn: 0.1852526\ttotal: 29.6s\tremaining: 31.2s\n",
      "487:\tlearn: 0.1851388\ttotal: 29.7s\tremaining: 31.2s\n",
      "488:\tlearn: 0.1851390\ttotal: 29.7s\tremaining: 31.1s\n",
      "489:\tlearn: 0.1850110\ttotal: 29.8s\tremaining: 31s\n",
      "490:\tlearn: 0.1848530\ttotal: 29.9s\tremaining: 30.9s\n",
      "491:\tlearn: 0.1848520\ttotal: 29.9s\tremaining: 30.9s\n",
      "492:\tlearn: 0.1847129\ttotal: 30s\tremaining: 30.8s\n",
      "493:\tlearn: 0.1845978\ttotal: 30s\tremaining: 30.8s\n",
      "494:\tlearn: 0.1845050\ttotal: 30.1s\tremaining: 30.7s\n",
      "495:\tlearn: 0.1844225\ttotal: 30.2s\tremaining: 30.7s\n",
      "496:\tlearn: 0.1842936\ttotal: 30.2s\tremaining: 30.6s\n",
      "497:\tlearn: 0.1841670\ttotal: 30.3s\tremaining: 30.5s\n",
      "498:\tlearn: 0.1839812\ttotal: 30.4s\tremaining: 30.5s\n",
      "499:\tlearn: 0.1838670\ttotal: 30.4s\tremaining: 30.4s\n",
      "500:\tlearn: 0.1835825\ttotal: 30.5s\tremaining: 30.3s\n",
      "501:\tlearn: 0.1833900\ttotal: 30.5s\tremaining: 30.3s\n",
      "502:\tlearn: 0.1832696\ttotal: 30.6s\tremaining: 30.2s\n",
      "503:\tlearn: 0.1831386\ttotal: 30.6s\tremaining: 30.2s\n",
      "504:\tlearn: 0.1830372\ttotal: 30.7s\tremaining: 30.1s\n",
      "505:\tlearn: 0.1828436\ttotal: 30.8s\tremaining: 30s\n",
      "506:\tlearn: 0.1827156\ttotal: 30.8s\tremaining: 30s\n",
      "507:\tlearn: 0.1826378\ttotal: 30.9s\tremaining: 29.9s\n",
      "508:\tlearn: 0.1825879\ttotal: 31s\tremaining: 29.9s\n",
      "509:\tlearn: 0.1825513\ttotal: 31s\tremaining: 29.8s\n",
      "510:\tlearn: 0.1822938\ttotal: 31.1s\tremaining: 29.8s\n",
      "511:\tlearn: 0.1820500\ttotal: 31.2s\tremaining: 29.7s\n",
      "512:\tlearn: 0.1817880\ttotal: 31.2s\tremaining: 29.6s\n",
      "513:\tlearn: 0.1815758\ttotal: 31.3s\tremaining: 29.6s\n",
      "514:\tlearn: 0.1814296\ttotal: 31.4s\tremaining: 29.5s\n",
      "515:\tlearn: 0.1811857\ttotal: 31.4s\tremaining: 29.5s\n",
      "516:\tlearn: 0.1810191\ttotal: 31.5s\tremaining: 29.4s\n",
      "517:\tlearn: 0.1808414\ttotal: 31.5s\tremaining: 29.3s\n",
      "518:\tlearn: 0.1805476\ttotal: 31.6s\tremaining: 29.3s\n",
      "519:\tlearn: 0.1804665\ttotal: 31.7s\tremaining: 29.2s\n",
      "520:\tlearn: 0.1803408\ttotal: 31.7s\tremaining: 29.2s\n",
      "521:\tlearn: 0.1803039\ttotal: 31.8s\tremaining: 29.1s\n",
      "522:\tlearn: 0.1802428\ttotal: 31.9s\tremaining: 29.1s\n",
      "523:\tlearn: 0.1800907\ttotal: 31.9s\tremaining: 29s\n",
      "524:\tlearn: 0.1798914\ttotal: 32s\tremaining: 29s\n",
      "525:\tlearn: 0.1796307\ttotal: 32.1s\tremaining: 28.9s\n",
      "526:\tlearn: 0.1794558\ttotal: 32.1s\tremaining: 28.8s\n",
      "527:\tlearn: 0.1793562\ttotal: 32.2s\tremaining: 28.8s\n",
      "528:\tlearn: 0.1793001\ttotal: 32.3s\tremaining: 28.7s\n",
      "529:\tlearn: 0.1792549\ttotal: 32.3s\tremaining: 28.7s\n",
      "530:\tlearn: 0.1790207\ttotal: 32.4s\tremaining: 28.6s\n",
      "531:\tlearn: 0.1788673\ttotal: 32.4s\tremaining: 28.5s\n",
      "532:\tlearn: 0.1787119\ttotal: 32.5s\tremaining: 28.5s\n",
      "533:\tlearn: 0.1783177\ttotal: 32.6s\tremaining: 28.4s\n",
      "534:\tlearn: 0.1781533\ttotal: 32.6s\tremaining: 28.4s\n",
      "535:\tlearn: 0.1781242\ttotal: 32.7s\tremaining: 28.3s\n",
      "536:\tlearn: 0.1780122\ttotal: 32.8s\tremaining: 28.2s\n",
      "537:\tlearn: 0.1778714\ttotal: 32.8s\tremaining: 28.2s\n",
      "538:\tlearn: 0.1776665\ttotal: 32.9s\tremaining: 28.1s\n",
      "539:\tlearn: 0.1774892\ttotal: 32.9s\tremaining: 28.1s\n",
      "540:\tlearn: 0.1771445\ttotal: 33s\tremaining: 28s\n",
      "541:\tlearn: 0.1769874\ttotal: 33.1s\tremaining: 27.9s\n",
      "542:\tlearn: 0.1767589\ttotal: 33.1s\tremaining: 27.9s\n",
      "543:\tlearn: 0.1766385\ttotal: 33.2s\tremaining: 27.8s\n",
      "544:\tlearn: 0.1763594\ttotal: 33.3s\tremaining: 27.8s\n",
      "545:\tlearn: 0.1762420\ttotal: 33.3s\tremaining: 27.7s\n",
      "546:\tlearn: 0.1760861\ttotal: 33.4s\tremaining: 27.6s\n",
      "547:\tlearn: 0.1759686\ttotal: 33.4s\tremaining: 27.6s\n",
      "548:\tlearn: 0.1756449\ttotal: 33.5s\tremaining: 27.5s\n",
      "549:\tlearn: 0.1755117\ttotal: 33.5s\tremaining: 27.4s\n",
      "550:\tlearn: 0.1753131\ttotal: 33.6s\tremaining: 27.4s\n",
      "551:\tlearn: 0.1750273\ttotal: 33.7s\tremaining: 27.3s\n",
      "552:\tlearn: 0.1748935\ttotal: 33.7s\tremaining: 27.3s\n",
      "553:\tlearn: 0.1748153\ttotal: 33.8s\tremaining: 27.2s\n",
      "554:\tlearn: 0.1745770\ttotal: 33.8s\tremaining: 27.1s\n",
      "555:\tlearn: 0.1745008\ttotal: 33.9s\tremaining: 27.1s\n",
      "556:\tlearn: 0.1744431\ttotal: 33.9s\tremaining: 27s\n",
      "557:\tlearn: 0.1742248\ttotal: 34s\tremaining: 26.9s\n",
      "558:\tlearn: 0.1740653\ttotal: 34.1s\tremaining: 26.9s\n",
      "559:\tlearn: 0.1739256\ttotal: 34.1s\tremaining: 26.8s\n",
      "560:\tlearn: 0.1739182\ttotal: 34.2s\tremaining: 26.8s\n",
      "561:\tlearn: 0.1737678\ttotal: 34.3s\tremaining: 26.7s\n",
      "562:\tlearn: 0.1735387\ttotal: 34.3s\tremaining: 26.6s\n",
      "563:\tlearn: 0.1732993\ttotal: 34.4s\tremaining: 26.6s\n",
      "564:\tlearn: 0.1729685\ttotal: 34.4s\tremaining: 26.5s\n",
      "565:\tlearn: 0.1728780\ttotal: 34.5s\tremaining: 26.5s\n",
      "566:\tlearn: 0.1727511\ttotal: 34.6s\tremaining: 26.4s\n",
      "567:\tlearn: 0.1724670\ttotal: 34.6s\tremaining: 26.3s\n",
      "568:\tlearn: 0.1722227\ttotal: 34.7s\tremaining: 26.3s\n",
      "569:\tlearn: 0.1720625\ttotal: 34.7s\tremaining: 26.2s\n",
      "570:\tlearn: 0.1719676\ttotal: 34.8s\tremaining: 26.1s\n",
      "571:\tlearn: 0.1718222\ttotal: 34.9s\tremaining: 26.1s\n",
      "572:\tlearn: 0.1717906\ttotal: 34.9s\tremaining: 26s\n",
      "573:\tlearn: 0.1716804\ttotal: 35s\tremaining: 26s\n",
      "574:\tlearn: 0.1714733\ttotal: 35s\tremaining: 25.9s\n",
      "575:\tlearn: 0.1712763\ttotal: 35.1s\tremaining: 25.8s\n",
      "576:\tlearn: 0.1711140\ttotal: 35.2s\tremaining: 25.8s\n",
      "577:\tlearn: 0.1710006\ttotal: 35.2s\tremaining: 25.7s\n",
      "578:\tlearn: 0.1709271\ttotal: 35.3s\tremaining: 25.6s\n",
      "579:\tlearn: 0.1707020\ttotal: 35.3s\tremaining: 25.6s\n",
      "580:\tlearn: 0.1704377\ttotal: 35.4s\tremaining: 25.5s\n",
      "581:\tlearn: 0.1702389\ttotal: 35.4s\tremaining: 25.5s\n",
      "582:\tlearn: 0.1701161\ttotal: 35.5s\tremaining: 25.4s\n",
      "583:\tlearn: 0.1698799\ttotal: 35.6s\tremaining: 25.3s\n",
      "584:\tlearn: 0.1697472\ttotal: 35.6s\tremaining: 25.3s\n",
      "585:\tlearn: 0.1696062\ttotal: 35.7s\tremaining: 25.2s\n",
      "586:\tlearn: 0.1695381\ttotal: 35.7s\tremaining: 25.1s\n",
      "587:\tlearn: 0.1694395\ttotal: 35.8s\tremaining: 25.1s\n",
      "588:\tlearn: 0.1692339\ttotal: 35.9s\tremaining: 25s\n",
      "589:\tlearn: 0.1692007\ttotal: 35.9s\tremaining: 25s\n",
      "590:\tlearn: 0.1691315\ttotal: 36s\tremaining: 24.9s\n",
      "591:\tlearn: 0.1690820\ttotal: 36s\tremaining: 24.8s\n",
      "592:\tlearn: 0.1689869\ttotal: 36.1s\tremaining: 24.8s\n",
      "593:\tlearn: 0.1688470\ttotal: 36.1s\tremaining: 24.7s\n",
      "594:\tlearn: 0.1688088\ttotal: 36.2s\tremaining: 24.6s\n",
      "595:\tlearn: 0.1686906\ttotal: 36.3s\tremaining: 24.6s\n",
      "596:\tlearn: 0.1686151\ttotal: 36.3s\tremaining: 24.5s\n",
      "597:\tlearn: 0.1685202\ttotal: 36.4s\tremaining: 24.5s\n",
      "598:\tlearn: 0.1684641\ttotal: 36.4s\tremaining: 24.4s\n",
      "599:\tlearn: 0.1683507\ttotal: 36.5s\tremaining: 24.3s\n",
      "600:\tlearn: 0.1680806\ttotal: 36.5s\tremaining: 24.3s\n",
      "601:\tlearn: 0.1678583\ttotal: 36.6s\tremaining: 24.2s\n",
      "602:\tlearn: 0.1676914\ttotal: 36.7s\tremaining: 24.1s\n",
      "603:\tlearn: 0.1675053\ttotal: 36.7s\tremaining: 24.1s\n",
      "604:\tlearn: 0.1674030\ttotal: 36.8s\tremaining: 24s\n",
      "605:\tlearn: 0.1672126\ttotal: 36.8s\tremaining: 23.9s\n",
      "606:\tlearn: 0.1671385\ttotal: 36.9s\tremaining: 23.9s\n",
      "607:\tlearn: 0.1670084\ttotal: 37s\tremaining: 23.8s\n",
      "608:\tlearn: 0.1668782\ttotal: 37s\tremaining: 23.8s\n",
      "609:\tlearn: 0.1665950\ttotal: 37.1s\tremaining: 23.7s\n",
      "610:\tlearn: 0.1665151\ttotal: 37.1s\tremaining: 23.7s\n",
      "611:\tlearn: 0.1664019\ttotal: 37.2s\tremaining: 23.6s\n",
      "612:\tlearn: 0.1663239\ttotal: 37.3s\tremaining: 23.5s\n",
      "613:\tlearn: 0.1662101\ttotal: 37.3s\tremaining: 23.5s\n",
      "614:\tlearn: 0.1661550\ttotal: 37.4s\tremaining: 23.4s\n",
      "615:\tlearn: 0.1660716\ttotal: 37.5s\tremaining: 23.3s\n",
      "616:\tlearn: 0.1658742\ttotal: 37.5s\tremaining: 23.3s\n",
      "617:\tlearn: 0.1657767\ttotal: 37.6s\tremaining: 23.2s\n",
      "618:\tlearn: 0.1656391\ttotal: 37.6s\tremaining: 23.2s\n",
      "619:\tlearn: 0.1655649\ttotal: 37.7s\tremaining: 23.1s\n",
      "620:\tlearn: 0.1655444\ttotal: 37.8s\tremaining: 23s\n",
      "621:\tlearn: 0.1654278\ttotal: 37.8s\tremaining: 23s\n",
      "622:\tlearn: 0.1653406\ttotal: 37.9s\tremaining: 22.9s\n",
      "623:\tlearn: 0.1652158\ttotal: 37.9s\tremaining: 22.9s\n",
      "624:\tlearn: 0.1650499\ttotal: 38s\tremaining: 22.8s\n",
      "625:\tlearn: 0.1650171\ttotal: 38.1s\tremaining: 22.7s\n",
      "626:\tlearn: 0.1647928\ttotal: 38.1s\tremaining: 22.7s\n",
      "627:\tlearn: 0.1646875\ttotal: 38.2s\tremaining: 22.6s\n",
      "628:\tlearn: 0.1645118\ttotal: 38.2s\tremaining: 22.5s\n",
      "629:\tlearn: 0.1644689\ttotal: 38.3s\tremaining: 22.5s\n",
      "630:\tlearn: 0.1643920\ttotal: 38.3s\tremaining: 22.4s\n",
      "631:\tlearn: 0.1643895\ttotal: 38.4s\tremaining: 22.3s\n",
      "632:\tlearn: 0.1643551\ttotal: 38.4s\tremaining: 22.3s\n",
      "633:\tlearn: 0.1642442\ttotal: 38.5s\tremaining: 22.2s\n",
      "634:\tlearn: 0.1640007\ttotal: 38.5s\tremaining: 22.2s\n",
      "635:\tlearn: 0.1638558\ttotal: 38.6s\tremaining: 22.1s\n",
      "636:\tlearn: 0.1637298\ttotal: 38.7s\tremaining: 22s\n",
      "637:\tlearn: 0.1635264\ttotal: 38.7s\tremaining: 22s\n",
      "638:\tlearn: 0.1634089\ttotal: 38.8s\tremaining: 21.9s\n",
      "639:\tlearn: 0.1632649\ttotal: 38.8s\tremaining: 21.8s\n",
      "640:\tlearn: 0.1631585\ttotal: 38.9s\tremaining: 21.8s\n",
      "641:\tlearn: 0.1630435\ttotal: 38.9s\tremaining: 21.7s\n",
      "642:\tlearn: 0.1628958\ttotal: 39s\tremaining: 21.7s\n",
      "643:\tlearn: 0.1628167\ttotal: 39.1s\tremaining: 21.6s\n",
      "644:\tlearn: 0.1627118\ttotal: 39.1s\tremaining: 21.5s\n",
      "645:\tlearn: 0.1626460\ttotal: 39.2s\tremaining: 21.5s\n",
      "646:\tlearn: 0.1625369\ttotal: 39.3s\tremaining: 21.4s\n",
      "647:\tlearn: 0.1624181\ttotal: 39.3s\tremaining: 21.4s\n",
      "648:\tlearn: 0.1623232\ttotal: 39.4s\tremaining: 21.3s\n",
      "649:\tlearn: 0.1622689\ttotal: 39.4s\tremaining: 21.2s\n",
      "650:\tlearn: 0.1621946\ttotal: 39.5s\tremaining: 21.2s\n",
      "651:\tlearn: 0.1620715\ttotal: 39.5s\tremaining: 21.1s\n",
      "652:\tlearn: 0.1619823\ttotal: 39.6s\tremaining: 21s\n",
      "653:\tlearn: 0.1617634\ttotal: 39.7s\tremaining: 21s\n",
      "654:\tlearn: 0.1617057\ttotal: 39.7s\tremaining: 20.9s\n",
      "655:\tlearn: 0.1616770\ttotal: 39.8s\tremaining: 20.9s\n",
      "656:\tlearn: 0.1616066\ttotal: 39.8s\tremaining: 20.8s\n",
      "657:\tlearn: 0.1613629\ttotal: 39.9s\tremaining: 20.7s\n",
      "658:\tlearn: 0.1612334\ttotal: 40s\tremaining: 20.7s\n",
      "659:\tlearn: 0.1610992\ttotal: 40s\tremaining: 20.6s\n",
      "660:\tlearn: 0.1610235\ttotal: 40.1s\tremaining: 20.6s\n",
      "661:\tlearn: 0.1609633\ttotal: 40.1s\tremaining: 20.5s\n",
      "662:\tlearn: 0.1607853\ttotal: 40.2s\tremaining: 20.4s\n",
      "663:\tlearn: 0.1606972\ttotal: 40.3s\tremaining: 20.4s\n",
      "664:\tlearn: 0.1605720\ttotal: 40.3s\tremaining: 20.3s\n",
      "665:\tlearn: 0.1604266\ttotal: 40.4s\tremaining: 20.2s\n",
      "666:\tlearn: 0.1603420\ttotal: 40.4s\tremaining: 20.2s\n",
      "667:\tlearn: 0.1600465\ttotal: 40.5s\tremaining: 20.1s\n",
      "668:\tlearn: 0.1600168\ttotal: 40.6s\tremaining: 20.1s\n",
      "669:\tlearn: 0.1600141\ttotal: 40.6s\tremaining: 20s\n",
      "670:\tlearn: 0.1599825\ttotal: 40.6s\tremaining: 19.9s\n",
      "671:\tlearn: 0.1598239\ttotal: 40.7s\tremaining: 19.9s\n",
      "672:\tlearn: 0.1597393\ttotal: 40.8s\tremaining: 19.8s\n",
      "673:\tlearn: 0.1596713\ttotal: 40.8s\tremaining: 19.8s\n",
      "674:\tlearn: 0.1594734\ttotal: 40.9s\tremaining: 19.7s\n",
      "675:\tlearn: 0.1593730\ttotal: 41s\tremaining: 19.6s\n",
      "676:\tlearn: 0.1592013\ttotal: 41.1s\tremaining: 19.6s\n",
      "677:\tlearn: 0.1590417\ttotal: 41.1s\tremaining: 19.5s\n",
      "678:\tlearn: 0.1589470\ttotal: 41.2s\tremaining: 19.5s\n",
      "679:\tlearn: 0.1587101\ttotal: 41.2s\tremaining: 19.4s\n",
      "680:\tlearn: 0.1586470\ttotal: 41.3s\tremaining: 19.3s\n",
      "681:\tlearn: 0.1585675\ttotal: 41.4s\tremaining: 19.3s\n",
      "682:\tlearn: 0.1585019\ttotal: 41.4s\tremaining: 19.2s\n",
      "683:\tlearn: 0.1583613\ttotal: 41.5s\tremaining: 19.2s\n",
      "684:\tlearn: 0.1583340\ttotal: 41.5s\tremaining: 19.1s\n",
      "685:\tlearn: 0.1582059\ttotal: 41.6s\tremaining: 19s\n",
      "686:\tlearn: 0.1580871\ttotal: 41.7s\tremaining: 19s\n",
      "687:\tlearn: 0.1579793\ttotal: 41.7s\tremaining: 18.9s\n",
      "688:\tlearn: 0.1578149\ttotal: 41.8s\tremaining: 18.9s\n",
      "689:\tlearn: 0.1577465\ttotal: 41.8s\tremaining: 18.8s\n",
      "690:\tlearn: 0.1576061\ttotal: 41.9s\tremaining: 18.7s\n",
      "691:\tlearn: 0.1575655\ttotal: 41.9s\tremaining: 18.7s\n",
      "692:\tlearn: 0.1574461\ttotal: 42s\tremaining: 18.6s\n",
      "693:\tlearn: 0.1572646\ttotal: 42.1s\tremaining: 18.5s\n",
      "694:\tlearn: 0.1570929\ttotal: 42.1s\tremaining: 18.5s\n",
      "695:\tlearn: 0.1570425\ttotal: 42.2s\tremaining: 18.4s\n",
      "696:\tlearn: 0.1568840\ttotal: 42.2s\tremaining: 18.4s\n",
      "697:\tlearn: 0.1567557\ttotal: 42.3s\tremaining: 18.3s\n",
      "698:\tlearn: 0.1565697\ttotal: 42.4s\tremaining: 18.2s\n",
      "699:\tlearn: 0.1564798\ttotal: 42.4s\tremaining: 18.2s\n",
      "700:\tlearn: 0.1563667\ttotal: 42.5s\tremaining: 18.1s\n",
      "701:\tlearn: 0.1562940\ttotal: 42.5s\tremaining: 18.1s\n",
      "702:\tlearn: 0.1561690\ttotal: 42.6s\tremaining: 18s\n",
      "703:\tlearn: 0.1561333\ttotal: 42.6s\tremaining: 17.9s\n",
      "704:\tlearn: 0.1558982\ttotal: 42.7s\tremaining: 17.9s\n",
      "705:\tlearn: 0.1557436\ttotal: 42.8s\tremaining: 17.8s\n",
      "706:\tlearn: 0.1556969\ttotal: 42.8s\tremaining: 17.7s\n",
      "707:\tlearn: 0.1554959\ttotal: 42.9s\tremaining: 17.7s\n",
      "708:\tlearn: 0.1553912\ttotal: 42.9s\tremaining: 17.6s\n",
      "709:\tlearn: 0.1552475\ttotal: 43s\tremaining: 17.6s\n",
      "710:\tlearn: 0.1552013\ttotal: 43.1s\tremaining: 17.5s\n",
      "711:\tlearn: 0.1550457\ttotal: 43.1s\tremaining: 17.4s\n",
      "712:\tlearn: 0.1548751\ttotal: 43.2s\tremaining: 17.4s\n",
      "713:\tlearn: 0.1546967\ttotal: 43.2s\tremaining: 17.3s\n",
      "714:\tlearn: 0.1546809\ttotal: 43.3s\tremaining: 17.3s\n",
      "715:\tlearn: 0.1546038\ttotal: 43.4s\tremaining: 17.2s\n",
      "716:\tlearn: 0.1545129\ttotal: 43.4s\tremaining: 17.1s\n",
      "717:\tlearn: 0.1544660\ttotal: 43.5s\tremaining: 17.1s\n",
      "718:\tlearn: 0.1544255\ttotal: 43.5s\tremaining: 17s\n",
      "719:\tlearn: 0.1544136\ttotal: 43.6s\tremaining: 17s\n",
      "720:\tlearn: 0.1544017\ttotal: 43.7s\tremaining: 16.9s\n",
      "721:\tlearn: 0.1543466\ttotal: 43.7s\tremaining: 16.8s\n",
      "722:\tlearn: 0.1543007\ttotal: 43.8s\tremaining: 16.8s\n",
      "723:\tlearn: 0.1541976\ttotal: 43.9s\tremaining: 16.7s\n",
      "724:\tlearn: 0.1540701\ttotal: 43.9s\tremaining: 16.7s\n",
      "725:\tlearn: 0.1540170\ttotal: 44s\tremaining: 16.6s\n",
      "726:\tlearn: 0.1539943\ttotal: 44.1s\tremaining: 16.5s\n",
      "727:\tlearn: 0.1539437\ttotal: 44.1s\tremaining: 16.5s\n",
      "728:\tlearn: 0.1539038\ttotal: 44.2s\tremaining: 16.4s\n",
      "729:\tlearn: 0.1538558\ttotal: 44.2s\tremaining: 16.4s\n",
      "730:\tlearn: 0.1537509\ttotal: 44.3s\tremaining: 16.3s\n",
      "731:\tlearn: 0.1535370\ttotal: 44.4s\tremaining: 16.2s\n",
      "732:\tlearn: 0.1534544\ttotal: 44.4s\tremaining: 16.2s\n",
      "733:\tlearn: 0.1533643\ttotal: 44.5s\tremaining: 16.1s\n",
      "734:\tlearn: 0.1533399\ttotal: 44.5s\tremaining: 16.1s\n",
      "735:\tlearn: 0.1531813\ttotal: 44.6s\tremaining: 16s\n",
      "736:\tlearn: 0.1530341\ttotal: 44.7s\tremaining: 15.9s\n",
      "737:\tlearn: 0.1528941\ttotal: 44.7s\tremaining: 15.9s\n",
      "738:\tlearn: 0.1527575\ttotal: 44.8s\tremaining: 15.8s\n",
      "739:\tlearn: 0.1526808\ttotal: 44.9s\tremaining: 15.8s\n",
      "740:\tlearn: 0.1525934\ttotal: 44.9s\tremaining: 15.7s\n",
      "741:\tlearn: 0.1524957\ttotal: 45s\tremaining: 15.6s\n",
      "742:\tlearn: 0.1524218\ttotal: 45s\tremaining: 15.6s\n",
      "743:\tlearn: 0.1523030\ttotal: 45.1s\tremaining: 15.5s\n",
      "744:\tlearn: 0.1520917\ttotal: 45.2s\tremaining: 15.5s\n",
      "745:\tlearn: 0.1519661\ttotal: 45.2s\tremaining: 15.4s\n",
      "746:\tlearn: 0.1518819\ttotal: 45.3s\tremaining: 15.3s\n",
      "747:\tlearn: 0.1516998\ttotal: 45.3s\tremaining: 15.3s\n",
      "748:\tlearn: 0.1516213\ttotal: 45.4s\tremaining: 15.2s\n",
      "749:\tlearn: 0.1514631\ttotal: 45.5s\tremaining: 15.2s\n",
      "750:\tlearn: 0.1513644\ttotal: 45.5s\tremaining: 15.1s\n",
      "751:\tlearn: 0.1513026\ttotal: 45.6s\tremaining: 15s\n",
      "752:\tlearn: 0.1512038\ttotal: 45.6s\tremaining: 15s\n",
      "753:\tlearn: 0.1510780\ttotal: 45.7s\tremaining: 14.9s\n",
      "754:\tlearn: 0.1509639\ttotal: 45.8s\tremaining: 14.8s\n",
      "755:\tlearn: 0.1509217\ttotal: 45.8s\tremaining: 14.8s\n",
      "756:\tlearn: 0.1508153\ttotal: 45.9s\tremaining: 14.7s\n",
      "757:\tlearn: 0.1507404\ttotal: 45.9s\tremaining: 14.7s\n",
      "758:\tlearn: 0.1505940\ttotal: 46s\tremaining: 14.6s\n",
      "759:\tlearn: 0.1504905\ttotal: 46s\tremaining: 14.5s\n",
      "760:\tlearn: 0.1504342\ttotal: 46.1s\tremaining: 14.5s\n",
      "761:\tlearn: 0.1503496\ttotal: 46.2s\tremaining: 14.4s\n",
      "762:\tlearn: 0.1502166\ttotal: 46.2s\tremaining: 14.4s\n",
      "763:\tlearn: 0.1500648\ttotal: 46.3s\tremaining: 14.3s\n",
      "764:\tlearn: 0.1499487\ttotal: 46.3s\tremaining: 14.2s\n",
      "765:\tlearn: 0.1499013\ttotal: 46.4s\tremaining: 14.2s\n",
      "766:\tlearn: 0.1498773\ttotal: 46.5s\tremaining: 14.1s\n",
      "767:\tlearn: 0.1498499\ttotal: 46.5s\tremaining: 14.1s\n",
      "768:\tlearn: 0.1497682\ttotal: 46.6s\tremaining: 14s\n",
      "769:\tlearn: 0.1496674\ttotal: 46.6s\tremaining: 13.9s\n",
      "770:\tlearn: 0.1495628\ttotal: 46.7s\tremaining: 13.9s\n",
      "771:\tlearn: 0.1494395\ttotal: 46.8s\tremaining: 13.8s\n",
      "772:\tlearn: 0.1493954\ttotal: 46.8s\tremaining: 13.7s\n",
      "773:\tlearn: 0.1492699\ttotal: 46.9s\tremaining: 13.7s\n",
      "774:\tlearn: 0.1491713\ttotal: 46.9s\tremaining: 13.6s\n",
      "775:\tlearn: 0.1490896\ttotal: 47s\tremaining: 13.6s\n",
      "776:\tlearn: 0.1489704\ttotal: 47.1s\tremaining: 13.5s\n",
      "777:\tlearn: 0.1487790\ttotal: 47.1s\tremaining: 13.4s\n",
      "778:\tlearn: 0.1486432\ttotal: 47.2s\tremaining: 13.4s\n",
      "779:\tlearn: 0.1485198\ttotal: 47.2s\tremaining: 13.3s\n",
      "780:\tlearn: 0.1483647\ttotal: 47.3s\tremaining: 13.3s\n",
      "781:\tlearn: 0.1482916\ttotal: 47.4s\tremaining: 13.2s\n",
      "782:\tlearn: 0.1482373\ttotal: 47.4s\tremaining: 13.1s\n",
      "783:\tlearn: 0.1481711\ttotal: 47.5s\tremaining: 13.1s\n",
      "784:\tlearn: 0.1481379\ttotal: 47.6s\tremaining: 13s\n",
      "785:\tlearn: 0.1480743\ttotal: 47.6s\tremaining: 13s\n",
      "786:\tlearn: 0.1480464\ttotal: 47.7s\tremaining: 12.9s\n",
      "787:\tlearn: 0.1480233\ttotal: 47.7s\tremaining: 12.8s\n",
      "788:\tlearn: 0.1479076\ttotal: 47.8s\tremaining: 12.8s\n",
      "789:\tlearn: 0.1476859\ttotal: 47.8s\tremaining: 12.7s\n",
      "790:\tlearn: 0.1475415\ttotal: 47.9s\tremaining: 12.7s\n",
      "791:\tlearn: 0.1474249\ttotal: 48s\tremaining: 12.6s\n",
      "792:\tlearn: 0.1473763\ttotal: 48s\tremaining: 12.5s\n",
      "793:\tlearn: 0.1471772\ttotal: 48.1s\tremaining: 12.5s\n",
      "794:\tlearn: 0.1469984\ttotal: 48.1s\tremaining: 12.4s\n",
      "795:\tlearn: 0.1469069\ttotal: 48.2s\tremaining: 12.4s\n",
      "796:\tlearn: 0.1467614\ttotal: 48.3s\tremaining: 12.3s\n",
      "797:\tlearn: 0.1465380\ttotal: 48.3s\tremaining: 12.2s\n",
      "798:\tlearn: 0.1464290\ttotal: 48.4s\tremaining: 12.2s\n",
      "799:\tlearn: 0.1463213\ttotal: 48.4s\tremaining: 12.1s\n",
      "800:\tlearn: 0.1462129\ttotal: 48.5s\tremaining: 12s\n",
      "801:\tlearn: 0.1461154\ttotal: 48.6s\tremaining: 12s\n",
      "802:\tlearn: 0.1460557\ttotal: 48.6s\tremaining: 11.9s\n",
      "803:\tlearn: 0.1459514\ttotal: 48.7s\tremaining: 11.9s\n",
      "804:\tlearn: 0.1458376\ttotal: 48.7s\tremaining: 11.8s\n",
      "805:\tlearn: 0.1457958\ttotal: 48.8s\tremaining: 11.7s\n",
      "806:\tlearn: 0.1456662\ttotal: 48.9s\tremaining: 11.7s\n",
      "807:\tlearn: 0.1455194\ttotal: 48.9s\tremaining: 11.6s\n",
      "808:\tlearn: 0.1452360\ttotal: 49s\tremaining: 11.6s\n",
      "809:\tlearn: 0.1451147\ttotal: 49s\tremaining: 11.5s\n",
      "810:\tlearn: 0.1449898\ttotal: 49.1s\tremaining: 11.4s\n",
      "811:\tlearn: 0.1449256\ttotal: 49.2s\tremaining: 11.4s\n",
      "812:\tlearn: 0.1448827\ttotal: 49.2s\tremaining: 11.3s\n",
      "813:\tlearn: 0.1448241\ttotal: 49.3s\tremaining: 11.3s\n",
      "814:\tlearn: 0.1447470\ttotal: 49.3s\tremaining: 11.2s\n",
      "815:\tlearn: 0.1447031\ttotal: 49.4s\tremaining: 11.1s\n",
      "816:\tlearn: 0.1446478\ttotal: 49.5s\tremaining: 11.1s\n",
      "817:\tlearn: 0.1444672\ttotal: 49.5s\tremaining: 11s\n",
      "818:\tlearn: 0.1443682\ttotal: 49.6s\tremaining: 11s\n",
      "819:\tlearn: 0.1442769\ttotal: 49.7s\tremaining: 10.9s\n",
      "820:\tlearn: 0.1441430\ttotal: 49.7s\tremaining: 10.8s\n",
      "821:\tlearn: 0.1439869\ttotal: 49.8s\tremaining: 10.8s\n",
      "822:\tlearn: 0.1438666\ttotal: 49.8s\tremaining: 10.7s\n",
      "823:\tlearn: 0.1437071\ttotal: 49.9s\tremaining: 10.7s\n",
      "824:\tlearn: 0.1435625\ttotal: 50s\tremaining: 10.6s\n",
      "825:\tlearn: 0.1434282\ttotal: 50s\tremaining: 10.5s\n",
      "826:\tlearn: 0.1433052\ttotal: 50.1s\tremaining: 10.5s\n",
      "827:\tlearn: 0.1432102\ttotal: 50.1s\tremaining: 10.4s\n",
      "828:\tlearn: 0.1431071\ttotal: 50.2s\tremaining: 10.4s\n",
      "829:\tlearn: 0.1430041\ttotal: 50.2s\tremaining: 10.3s\n",
      "830:\tlearn: 0.1429496\ttotal: 50.3s\tremaining: 10.2s\n",
      "831:\tlearn: 0.1428634\ttotal: 50.4s\tremaining: 10.2s\n",
      "832:\tlearn: 0.1427904\ttotal: 50.4s\tremaining: 10.1s\n",
      "833:\tlearn: 0.1426703\ttotal: 50.5s\tremaining: 10s\n",
      "834:\tlearn: 0.1426031\ttotal: 50.6s\tremaining: 9.99s\n",
      "835:\tlearn: 0.1425507\ttotal: 50.6s\tremaining: 9.93s\n",
      "836:\tlearn: 0.1424090\ttotal: 50.7s\tremaining: 9.87s\n",
      "837:\tlearn: 0.1422590\ttotal: 50.8s\tremaining: 9.81s\n",
      "838:\tlearn: 0.1422046\ttotal: 50.8s\tremaining: 9.75s\n",
      "839:\tlearn: 0.1421544\ttotal: 50.9s\tremaining: 9.69s\n",
      "840:\tlearn: 0.1421021\ttotal: 50.9s\tremaining: 9.63s\n",
      "841:\tlearn: 0.1419578\ttotal: 51s\tremaining: 9.57s\n",
      "842:\tlearn: 0.1419155\ttotal: 51.1s\tremaining: 9.51s\n",
      "843:\tlearn: 0.1417987\ttotal: 51.1s\tremaining: 9.45s\n",
      "844:\tlearn: 0.1417482\ttotal: 51.2s\tremaining: 9.39s\n",
      "845:\tlearn: 0.1417267\ttotal: 51.2s\tremaining: 9.33s\n",
      "846:\tlearn: 0.1415974\ttotal: 51.3s\tremaining: 9.27s\n",
      "847:\tlearn: 0.1414821\ttotal: 51.4s\tremaining: 9.21s\n",
      "848:\tlearn: 0.1414004\ttotal: 51.4s\tremaining: 9.14s\n",
      "849:\tlearn: 0.1413332\ttotal: 51.5s\tremaining: 9.08s\n",
      "850:\tlearn: 0.1412452\ttotal: 51.5s\tremaining: 9.02s\n",
      "851:\tlearn: 0.1410613\ttotal: 51.6s\tremaining: 8.97s\n",
      "852:\tlearn: 0.1409183\ttotal: 51.7s\tremaining: 8.91s\n",
      "853:\tlearn: 0.1408336\ttotal: 51.7s\tremaining: 8.85s\n",
      "854:\tlearn: 0.1407779\ttotal: 51.8s\tremaining: 8.79s\n",
      "855:\tlearn: 0.1406271\ttotal: 51.9s\tremaining: 8.73s\n",
      "856:\tlearn: 0.1405625\ttotal: 51.9s\tremaining: 8.67s\n",
      "857:\tlearn: 0.1404390\ttotal: 52s\tremaining: 8.61s\n",
      "858:\tlearn: 0.1403572\ttotal: 52.1s\tremaining: 8.54s\n",
      "859:\tlearn: 0.1402325\ttotal: 52.1s\tremaining: 8.48s\n",
      "860:\tlearn: 0.1401607\ttotal: 52.2s\tremaining: 8.42s\n",
      "861:\tlearn: 0.1401014\ttotal: 52.2s\tremaining: 8.36s\n",
      "862:\tlearn: 0.1400609\ttotal: 52.3s\tremaining: 8.3s\n",
      "863:\tlearn: 0.1400361\ttotal: 52.4s\tremaining: 8.24s\n",
      "864:\tlearn: 0.1399804\ttotal: 52.4s\tremaining: 8.18s\n",
      "865:\tlearn: 0.1398651\ttotal: 52.5s\tremaining: 8.12s\n",
      "866:\tlearn: 0.1398264\ttotal: 52.5s\tremaining: 8.06s\n",
      "867:\tlearn: 0.1397190\ttotal: 52.6s\tremaining: 8s\n",
      "868:\tlearn: 0.1396740\ttotal: 52.7s\tremaining: 7.94s\n",
      "869:\tlearn: 0.1396102\ttotal: 52.7s\tremaining: 7.88s\n",
      "870:\tlearn: 0.1394982\ttotal: 52.8s\tremaining: 7.82s\n",
      "871:\tlearn: 0.1393860\ttotal: 52.9s\tremaining: 7.76s\n",
      "872:\tlearn: 0.1392647\ttotal: 52.9s\tremaining: 7.7s\n",
      "873:\tlearn: 0.1391771\ttotal: 53s\tremaining: 7.64s\n",
      "874:\tlearn: 0.1391521\ttotal: 53s\tremaining: 7.58s\n",
      "875:\tlearn: 0.1390476\ttotal: 53.1s\tremaining: 7.52s\n",
      "876:\tlearn: 0.1389592\ttotal: 53.2s\tremaining: 7.46s\n",
      "877:\tlearn: 0.1389203\ttotal: 53.2s\tremaining: 7.39s\n",
      "878:\tlearn: 0.1388473\ttotal: 53.3s\tremaining: 7.33s\n",
      "879:\tlearn: 0.1387366\ttotal: 53.4s\tremaining: 7.28s\n",
      "880:\tlearn: 0.1386606\ttotal: 53.4s\tremaining: 7.21s\n",
      "881:\tlearn: 0.1385552\ttotal: 53.5s\tremaining: 7.15s\n",
      "882:\tlearn: 0.1384889\ttotal: 53.5s\tremaining: 7.09s\n",
      "883:\tlearn: 0.1384236\ttotal: 53.6s\tremaining: 7.03s\n",
      "884:\tlearn: 0.1383229\ttotal: 53.7s\tremaining: 6.97s\n",
      "885:\tlearn: 0.1382641\ttotal: 53.7s\tremaining: 6.91s\n",
      "886:\tlearn: 0.1382179\ttotal: 53.8s\tremaining: 6.85s\n",
      "887:\tlearn: 0.1380756\ttotal: 53.9s\tremaining: 6.79s\n",
      "888:\tlearn: 0.1379333\ttotal: 53.9s\tremaining: 6.73s\n",
      "889:\tlearn: 0.1379049\ttotal: 54s\tremaining: 6.67s\n",
      "890:\tlearn: 0.1377719\ttotal: 54s\tremaining: 6.61s\n",
      "891:\tlearn: 0.1377039\ttotal: 54.1s\tremaining: 6.55s\n",
      "892:\tlearn: 0.1376277\ttotal: 54.1s\tremaining: 6.49s\n",
      "893:\tlearn: 0.1375635\ttotal: 54.2s\tremaining: 6.43s\n",
      "894:\tlearn: 0.1375106\ttotal: 54.3s\tremaining: 6.37s\n",
      "895:\tlearn: 0.1374648\ttotal: 54.3s\tremaining: 6.3s\n",
      "896:\tlearn: 0.1373720\ttotal: 54.4s\tremaining: 6.24s\n",
      "897:\tlearn: 0.1373219\ttotal: 54.4s\tremaining: 6.18s\n",
      "898:\tlearn: 0.1372731\ttotal: 54.5s\tremaining: 6.12s\n",
      "899:\tlearn: 0.1371974\ttotal: 54.6s\tremaining: 6.06s\n",
      "900:\tlearn: 0.1370494\ttotal: 54.6s\tremaining: 6s\n",
      "901:\tlearn: 0.1370099\ttotal: 54.7s\tremaining: 5.94s\n",
      "902:\tlearn: 0.1369448\ttotal: 54.7s\tremaining: 5.88s\n",
      "903:\tlearn: 0.1368715\ttotal: 54.8s\tremaining: 5.82s\n",
      "904:\tlearn: 0.1367409\ttotal: 54.9s\tremaining: 5.76s\n",
      "905:\tlearn: 0.1365744\ttotal: 54.9s\tremaining: 5.7s\n",
      "906:\tlearn: 0.1365103\ttotal: 55s\tremaining: 5.64s\n",
      "907:\tlearn: 0.1364104\ttotal: 55.1s\tremaining: 5.58s\n",
      "908:\tlearn: 0.1362596\ttotal: 55.1s\tremaining: 5.52s\n",
      "909:\tlearn: 0.1361169\ttotal: 55.2s\tremaining: 5.46s\n",
      "910:\tlearn: 0.1359645\ttotal: 55.2s\tremaining: 5.4s\n",
      "911:\tlearn: 0.1358907\ttotal: 55.3s\tremaining: 5.33s\n",
      "912:\tlearn: 0.1357902\ttotal: 55.4s\tremaining: 5.27s\n",
      "913:\tlearn: 0.1356593\ttotal: 55.4s\tremaining: 5.21s\n",
      "914:\tlearn: 0.1355010\ttotal: 55.5s\tremaining: 5.15s\n",
      "915:\tlearn: 0.1353667\ttotal: 55.5s\tremaining: 5.09s\n",
      "916:\tlearn: 0.1352838\ttotal: 55.6s\tremaining: 5.03s\n",
      "917:\tlearn: 0.1350936\ttotal: 55.7s\tremaining: 4.97s\n",
      "918:\tlearn: 0.1350513\ttotal: 55.7s\tremaining: 4.91s\n",
      "919:\tlearn: 0.1349865\ttotal: 55.8s\tremaining: 4.85s\n",
      "920:\tlearn: 0.1348779\ttotal: 55.9s\tremaining: 4.79s\n",
      "921:\tlearn: 0.1348013\ttotal: 55.9s\tremaining: 4.73s\n",
      "922:\tlearn: 0.1347494\ttotal: 56s\tremaining: 4.67s\n",
      "923:\tlearn: 0.1346445\ttotal: 56s\tremaining: 4.61s\n",
      "924:\tlearn: 0.1344841\ttotal: 56.1s\tremaining: 4.55s\n",
      "925:\tlearn: 0.1343858\ttotal: 56.1s\tremaining: 4.49s\n",
      "926:\tlearn: 0.1343404\ttotal: 56.2s\tremaining: 4.43s\n",
      "927:\tlearn: 0.1342088\ttotal: 56.3s\tremaining: 4.37s\n",
      "928:\tlearn: 0.1340338\ttotal: 56.3s\tremaining: 4.3s\n",
      "929:\tlearn: 0.1339718\ttotal: 56.4s\tremaining: 4.24s\n",
      "930:\tlearn: 0.1338809\ttotal: 56.5s\tremaining: 4.18s\n",
      "931:\tlearn: 0.1337888\ttotal: 56.5s\tremaining: 4.12s\n",
      "932:\tlearn: 0.1336214\ttotal: 56.6s\tremaining: 4.06s\n",
      "933:\tlearn: 0.1335408\ttotal: 56.6s\tremaining: 4s\n",
      "934:\tlearn: 0.1333689\ttotal: 56.7s\tremaining: 3.94s\n",
      "935:\tlearn: 0.1333261\ttotal: 56.7s\tremaining: 3.88s\n",
      "936:\tlearn: 0.1331789\ttotal: 56.8s\tremaining: 3.82s\n",
      "937:\tlearn: 0.1330867\ttotal: 56.9s\tremaining: 3.76s\n",
      "938:\tlearn: 0.1328881\ttotal: 56.9s\tremaining: 3.7s\n",
      "939:\tlearn: 0.1328208\ttotal: 57s\tremaining: 3.64s\n",
      "940:\tlearn: 0.1327276\ttotal: 57s\tremaining: 3.58s\n",
      "941:\tlearn: 0.1326088\ttotal: 57.1s\tremaining: 3.52s\n",
      "942:\tlearn: 0.1324312\ttotal: 57.2s\tremaining: 3.46s\n",
      "943:\tlearn: 0.1322906\ttotal: 57.2s\tremaining: 3.39s\n",
      "944:\tlearn: 0.1322438\ttotal: 57.3s\tremaining: 3.33s\n",
      "945:\tlearn: 0.1321567\ttotal: 57.4s\tremaining: 3.27s\n",
      "946:\tlearn: 0.1320093\ttotal: 57.4s\tremaining: 3.21s\n",
      "947:\tlearn: 0.1319815\ttotal: 57.5s\tremaining: 3.15s\n",
      "948:\tlearn: 0.1318173\ttotal: 57.5s\tremaining: 3.09s\n",
      "949:\tlearn: 0.1317023\ttotal: 57.6s\tremaining: 3.03s\n",
      "950:\tlearn: 0.1316090\ttotal: 57.7s\tremaining: 2.97s\n",
      "951:\tlearn: 0.1315804\ttotal: 57.7s\tremaining: 2.91s\n",
      "952:\tlearn: 0.1314572\ttotal: 57.8s\tremaining: 2.85s\n",
      "953:\tlearn: 0.1314065\ttotal: 57.8s\tremaining: 2.79s\n",
      "954:\tlearn: 0.1313387\ttotal: 57.9s\tremaining: 2.73s\n",
      "955:\tlearn: 0.1312016\ttotal: 58s\tremaining: 2.67s\n",
      "956:\tlearn: 0.1310999\ttotal: 58s\tremaining: 2.61s\n",
      "957:\tlearn: 0.1310527\ttotal: 58.1s\tremaining: 2.55s\n",
      "958:\tlearn: 0.1309683\ttotal: 58.1s\tremaining: 2.48s\n",
      "959:\tlearn: 0.1309031\ttotal: 58.2s\tremaining: 2.42s\n",
      "960:\tlearn: 0.1308574\ttotal: 58.3s\tremaining: 2.36s\n",
      "961:\tlearn: 0.1308133\ttotal: 58.3s\tremaining: 2.3s\n",
      "962:\tlearn: 0.1307924\ttotal: 58.4s\tremaining: 2.24s\n",
      "963:\tlearn: 0.1307124\ttotal: 58.4s\tremaining: 2.18s\n",
      "964:\tlearn: 0.1306311\ttotal: 58.5s\tremaining: 2.12s\n",
      "965:\tlearn: 0.1304984\ttotal: 58.6s\tremaining: 2.06s\n",
      "966:\tlearn: 0.1304336\ttotal: 58.6s\tremaining: 2s\n",
      "967:\tlearn: 0.1303998\ttotal: 58.7s\tremaining: 1.94s\n",
      "968:\tlearn: 0.1303119\ttotal: 58.7s\tremaining: 1.88s\n",
      "969:\tlearn: 0.1302510\ttotal: 58.8s\tremaining: 1.82s\n",
      "970:\tlearn: 0.1301753\ttotal: 58.9s\tremaining: 1.76s\n",
      "971:\tlearn: 0.1300270\ttotal: 58.9s\tremaining: 1.7s\n",
      "972:\tlearn: 0.1299120\ttotal: 59s\tremaining: 1.64s\n",
      "973:\tlearn: 0.1297445\ttotal: 59.1s\tremaining: 1.58s\n",
      "974:\tlearn: 0.1296508\ttotal: 59.1s\tremaining: 1.51s\n",
      "975:\tlearn: 0.1295259\ttotal: 59.2s\tremaining: 1.46s\n",
      "976:\tlearn: 0.1294539\ttotal: 59.2s\tremaining: 1.39s\n",
      "977:\tlearn: 0.1293950\ttotal: 59.3s\tremaining: 1.33s\n",
      "978:\tlearn: 0.1292793\ttotal: 59.4s\tremaining: 1.27s\n",
      "979:\tlearn: 0.1292223\ttotal: 59.4s\tremaining: 1.21s\n",
      "980:\tlearn: 0.1291919\ttotal: 59.5s\tremaining: 1.15s\n",
      "981:\tlearn: 0.1291233\ttotal: 59.5s\tremaining: 1.09s\n",
      "982:\tlearn: 0.1290159\ttotal: 59.6s\tremaining: 1.03s\n",
      "983:\tlearn: 0.1289720\ttotal: 59.7s\tremaining: 970ms\n",
      "984:\tlearn: 0.1289160\ttotal: 59.7s\tremaining: 910ms\n",
      "985:\tlearn: 0.1288227\ttotal: 59.8s\tremaining: 849ms\n",
      "986:\tlearn: 0.1288020\ttotal: 59.8s\tremaining: 788ms\n",
      "987:\tlearn: 0.1287354\ttotal: 59.9s\tremaining: 728ms\n",
      "988:\tlearn: 0.1286726\ttotal: 60s\tremaining: 667ms\n",
      "989:\tlearn: 0.1286262\ttotal: 1m\tremaining: 606ms\n",
      "990:\tlearn: 0.1286079\ttotal: 1m\tremaining: 546ms\n",
      "991:\tlearn: 0.1285760\ttotal: 1m\tremaining: 485ms\n",
      "992:\tlearn: 0.1285102\ttotal: 1m\tremaining: 424ms\n",
      "993:\tlearn: 0.1284649\ttotal: 1m\tremaining: 364ms\n",
      "994:\tlearn: 0.1283635\ttotal: 1m\tremaining: 303ms\n",
      "995:\tlearn: 0.1282729\ttotal: 1m\tremaining: 242ms\n",
      "996:\tlearn: 0.1282162\ttotal: 1m\tremaining: 182ms\n",
      "997:\tlearn: 0.1280716\ttotal: 1m\tremaining: 121ms\n",
      "998:\tlearn: 0.1280307\ttotal: 1m\tremaining: 60.6ms\n",
      "999:\tlearn: 0.1279709\ttotal: 1m\tremaining: 0us\n",
      "0:\tlearn: 0.5883507\ttotal: 47.2ms\tremaining: 47.2s\n",
      "1:\tlearn: 0.5215696\ttotal: 96.7ms\tremaining: 48.3s\n",
      "2:\tlearn: 0.4725045\ttotal: 153ms\tremaining: 50.7s\n",
      "3:\tlearn: 0.4387055\ttotal: 201ms\tremaining: 50.1s\n",
      "4:\tlearn: 0.4134645\ttotal: 253ms\tremaining: 50.3s\n",
      "5:\tlearn: 0.3903585\ttotal: 298ms\tremaining: 49.4s\n",
      "6:\tlearn: 0.3756610\ttotal: 348ms\tremaining: 49.4s\n",
      "7:\tlearn: 0.3631818\ttotal: 392ms\tremaining: 48.6s\n",
      "8:\tlearn: 0.3537860\ttotal: 441ms\tremaining: 48.6s\n",
      "9:\tlearn: 0.3448013\ttotal: 487ms\tremaining: 48.2s\n",
      "10:\tlearn: 0.3367049\ttotal: 538ms\tremaining: 48.4s\n",
      "11:\tlearn: 0.3312840\ttotal: 585ms\tremaining: 48.2s\n",
      "12:\tlearn: 0.3254791\ttotal: 637ms\tremaining: 48.3s\n",
      "13:\tlearn: 0.3204923\ttotal: 682ms\tremaining: 48.1s\n",
      "14:\tlearn: 0.3162786\ttotal: 732ms\tremaining: 48s\n",
      "15:\tlearn: 0.3120456\ttotal: 776ms\tremaining: 47.7s\n",
      "16:\tlearn: 0.3078917\ttotal: 826ms\tremaining: 47.8s\n",
      "17:\tlearn: 0.3046395\ttotal: 877ms\tremaining: 47.8s\n",
      "18:\tlearn: 0.3015023\ttotal: 929ms\tremaining: 48s\n",
      "19:\tlearn: 0.2994301\ttotal: 978ms\tremaining: 47.9s\n",
      "20:\tlearn: 0.2976040\ttotal: 1.03s\tremaining: 47.9s\n",
      "21:\tlearn: 0.2958783\ttotal: 1.07s\tremaining: 47.8s\n",
      "22:\tlearn: 0.2927560\ttotal: 1.12s\tremaining: 47.7s\n",
      "23:\tlearn: 0.2902240\ttotal: 1.17s\tremaining: 47.6s\n",
      "24:\tlearn: 0.2889438\ttotal: 1.22s\tremaining: 47.7s\n",
      "25:\tlearn: 0.2876644\ttotal: 1.27s\tremaining: 47.5s\n",
      "26:\tlearn: 0.2851096\ttotal: 1.32s\tremaining: 47.5s\n",
      "27:\tlearn: 0.2830717\ttotal: 1.37s\tremaining: 47.4s\n",
      "28:\tlearn: 0.2808992\ttotal: 1.41s\tremaining: 47.3s\n",
      "29:\tlearn: 0.2798201\ttotal: 1.46s\tremaining: 47.3s\n",
      "30:\tlearn: 0.2776247\ttotal: 1.51s\tremaining: 47.2s\n",
      "31:\tlearn: 0.2752026\ttotal: 1.56s\tremaining: 47.1s\n",
      "32:\tlearn: 0.2732491\ttotal: 1.61s\tremaining: 47.2s\n",
      "33:\tlearn: 0.2707293\ttotal: 1.66s\tremaining: 47.2s\n",
      "34:\tlearn: 0.2697506\ttotal: 1.71s\tremaining: 47.3s\n",
      "35:\tlearn: 0.2680746\ttotal: 1.76s\tremaining: 47.1s\n",
      "36:\tlearn: 0.2667586\ttotal: 1.81s\tremaining: 47.1s\n",
      "37:\tlearn: 0.2657602\ttotal: 1.86s\tremaining: 47s\n",
      "38:\tlearn: 0.2651314\ttotal: 1.91s\tremaining: 47.1s\n",
      "39:\tlearn: 0.2642370\ttotal: 1.96s\tremaining: 47s\n",
      "40:\tlearn: 0.2631677\ttotal: 2.01s\tremaining: 47s\n",
      "41:\tlearn: 0.2620411\ttotal: 2.06s\tremaining: 47.1s\n",
      "42:\tlearn: 0.2610720\ttotal: 2.12s\tremaining: 47.2s\n",
      "43:\tlearn: 0.2597425\ttotal: 2.17s\tremaining: 47.2s\n",
      "44:\tlearn: 0.2588767\ttotal: 2.22s\tremaining: 47.2s\n",
      "45:\tlearn: 0.2580122\ttotal: 2.27s\tremaining: 47.1s\n",
      "46:\tlearn: 0.2570763\ttotal: 2.33s\tremaining: 47.2s\n",
      "47:\tlearn: 0.2557551\ttotal: 2.39s\tremaining: 47.4s\n",
      "48:\tlearn: 0.2545868\ttotal: 2.44s\tremaining: 47.4s\n",
      "49:\tlearn: 0.2538939\ttotal: 2.49s\tremaining: 47.4s\n",
      "50:\tlearn: 0.2533744\ttotal: 2.54s\tremaining: 47.3s\n",
      "51:\tlearn: 0.2527703\ttotal: 2.6s\tremaining: 47.3s\n",
      "52:\tlearn: 0.2518162\ttotal: 2.65s\tremaining: 47.3s\n",
      "53:\tlearn: 0.2508870\ttotal: 2.7s\tremaining: 47.3s\n",
      "54:\tlearn: 0.2501027\ttotal: 2.75s\tremaining: 47.2s\n",
      "55:\tlearn: 0.2497691\ttotal: 2.8s\tremaining: 47.2s\n",
      "56:\tlearn: 0.2486085\ttotal: 2.85s\tremaining: 47.2s\n",
      "57:\tlearn: 0.2480064\ttotal: 2.9s\tremaining: 47.2s\n",
      "58:\tlearn: 0.2474139\ttotal: 2.95s\tremaining: 47.1s\n",
      "59:\tlearn: 0.2468981\ttotal: 3.01s\tremaining: 47.1s\n",
      "60:\tlearn: 0.2465379\ttotal: 3.05s\tremaining: 47s\n",
      "61:\tlearn: 0.2460024\ttotal: 3.11s\tremaining: 47s\n",
      "62:\tlearn: 0.2451498\ttotal: 3.16s\tremaining: 47s\n",
      "63:\tlearn: 0.2447484\ttotal: 3.22s\tremaining: 47.1s\n",
      "64:\tlearn: 0.2433962\ttotal: 3.27s\tremaining: 47.1s\n",
      "65:\tlearn: 0.2425921\ttotal: 3.33s\tremaining: 47.1s\n",
      "66:\tlearn: 0.2412177\ttotal: 3.38s\tremaining: 47.1s\n",
      "67:\tlearn: 0.2405639\ttotal: 3.44s\tremaining: 47.2s\n",
      "68:\tlearn: 0.2388980\ttotal: 3.5s\tremaining: 47.2s\n",
      "69:\tlearn: 0.2383765\ttotal: 3.55s\tremaining: 47.1s\n",
      "70:\tlearn: 0.2382415\ttotal: 3.56s\tremaining: 46.6s\n",
      "71:\tlearn: 0.2372854\ttotal: 3.62s\tremaining: 46.7s\n",
      "72:\tlearn: 0.2368428\ttotal: 3.67s\tremaining: 46.6s\n",
      "73:\tlearn: 0.2363111\ttotal: 3.72s\tremaining: 46.6s\n",
      "74:\tlearn: 0.2360533\ttotal: 3.78s\tremaining: 46.6s\n",
      "75:\tlearn: 0.2355757\ttotal: 3.83s\tremaining: 46.5s\n",
      "76:\tlearn: 0.2349160\ttotal: 3.88s\tremaining: 46.5s\n",
      "77:\tlearn: 0.2341571\ttotal: 3.93s\tremaining: 46.4s\n",
      "78:\tlearn: 0.2333774\ttotal: 3.98s\tremaining: 46.4s\n",
      "79:\tlearn: 0.2331258\ttotal: 4.03s\tremaining: 46.3s\n",
      "80:\tlearn: 0.2322676\ttotal: 4.08s\tremaining: 46.3s\n",
      "81:\tlearn: 0.2318172\ttotal: 4.13s\tremaining: 46.3s\n",
      "82:\tlearn: 0.2309632\ttotal: 4.19s\tremaining: 46.3s\n",
      "83:\tlearn: 0.2304827\ttotal: 4.24s\tremaining: 46.2s\n",
      "84:\tlearn: 0.2301927\ttotal: 4.29s\tremaining: 46.2s\n",
      "85:\tlearn: 0.2299344\ttotal: 4.35s\tremaining: 46.2s\n",
      "86:\tlearn: 0.2296716\ttotal: 4.4s\tremaining: 46.2s\n",
      "87:\tlearn: 0.2291868\ttotal: 4.46s\tremaining: 46.2s\n",
      "88:\tlearn: 0.2289387\ttotal: 4.51s\tremaining: 46.2s\n",
      "89:\tlearn: 0.2283141\ttotal: 4.57s\tremaining: 46.2s\n",
      "90:\tlearn: 0.2281239\ttotal: 4.62s\tremaining: 46.1s\n",
      "91:\tlearn: 0.2277794\ttotal: 4.68s\tremaining: 46.2s\n",
      "92:\tlearn: 0.2274444\ttotal: 4.73s\tremaining: 46.1s\n",
      "93:\tlearn: 0.2270904\ttotal: 4.79s\tremaining: 46.1s\n",
      "94:\tlearn: 0.2267464\ttotal: 4.84s\tremaining: 46.1s\n",
      "95:\tlearn: 0.2261537\ttotal: 4.89s\tremaining: 46.1s\n",
      "96:\tlearn: 0.2255676\ttotal: 4.95s\tremaining: 46.1s\n",
      "97:\tlearn: 0.2254092\ttotal: 5s\tremaining: 46s\n",
      "98:\tlearn: 0.2252784\ttotal: 5.05s\tremaining: 46s\n",
      "99:\tlearn: 0.2251026\ttotal: 5.11s\tremaining: 46s\n",
      "100:\tlearn: 0.2244913\ttotal: 5.16s\tremaining: 45.9s\n",
      "101:\tlearn: 0.2239540\ttotal: 5.22s\tremaining: 46s\n",
      "102:\tlearn: 0.2237607\ttotal: 5.28s\tremaining: 46s\n",
      "103:\tlearn: 0.2228663\ttotal: 5.34s\tremaining: 46s\n",
      "104:\tlearn: 0.2224386\ttotal: 5.39s\tremaining: 46s\n",
      "105:\tlearn: 0.2214289\ttotal: 5.45s\tremaining: 45.9s\n",
      "106:\tlearn: 0.2211471\ttotal: 5.5s\tremaining: 45.9s\n",
      "107:\tlearn: 0.2207246\ttotal: 5.55s\tremaining: 45.9s\n",
      "108:\tlearn: 0.2203185\ttotal: 5.6s\tremaining: 45.8s\n",
      "109:\tlearn: 0.2197259\ttotal: 5.66s\tremaining: 45.8s\n",
      "110:\tlearn: 0.2187537\ttotal: 5.7s\tremaining: 45.7s\n",
      "111:\tlearn: 0.2182144\ttotal: 5.76s\tremaining: 45.6s\n",
      "112:\tlearn: 0.2178428\ttotal: 5.81s\tremaining: 45.6s\n",
      "113:\tlearn: 0.2172221\ttotal: 5.87s\tremaining: 45.6s\n",
      "114:\tlearn: 0.2169334\ttotal: 5.92s\tremaining: 45.5s\n",
      "115:\tlearn: 0.2162472\ttotal: 5.97s\tremaining: 45.5s\n",
      "116:\tlearn: 0.2160066\ttotal: 6.02s\tremaining: 45.5s\n",
      "117:\tlearn: 0.2156324\ttotal: 6.07s\tremaining: 45.4s\n",
      "118:\tlearn: 0.2152325\ttotal: 6.12s\tremaining: 45.3s\n",
      "119:\tlearn: 0.2147178\ttotal: 6.17s\tremaining: 45.3s\n",
      "120:\tlearn: 0.2142912\ttotal: 6.23s\tremaining: 45.3s\n",
      "121:\tlearn: 0.2136243\ttotal: 6.28s\tremaining: 45.2s\n",
      "122:\tlearn: 0.2130505\ttotal: 6.33s\tremaining: 45.2s\n",
      "123:\tlearn: 0.2124305\ttotal: 6.38s\tremaining: 45.1s\n",
      "124:\tlearn: 0.2119899\ttotal: 6.43s\tremaining: 45.1s\n",
      "125:\tlearn: 0.2114353\ttotal: 6.48s\tremaining: 45s\n",
      "126:\tlearn: 0.2109667\ttotal: 6.53s\tremaining: 44.9s\n",
      "127:\tlearn: 0.2104242\ttotal: 6.58s\tremaining: 44.8s\n",
      "128:\tlearn: 0.2092638\ttotal: 6.63s\tremaining: 44.7s\n",
      "129:\tlearn: 0.2088551\ttotal: 6.67s\tremaining: 44.7s\n",
      "130:\tlearn: 0.2085632\ttotal: 6.72s\tremaining: 44.6s\n",
      "131:\tlearn: 0.2081874\ttotal: 6.77s\tremaining: 44.5s\n",
      "132:\tlearn: 0.2077947\ttotal: 6.81s\tremaining: 44.4s\n",
      "133:\tlearn: 0.2073192\ttotal: 6.86s\tremaining: 44.3s\n",
      "134:\tlearn: 0.2070390\ttotal: 6.91s\tremaining: 44.2s\n",
      "135:\tlearn: 0.2066920\ttotal: 6.95s\tremaining: 44.2s\n",
      "136:\tlearn: 0.2064079\ttotal: 7s\tremaining: 44.1s\n",
      "137:\tlearn: 0.2058929\ttotal: 7.05s\tremaining: 44s\n",
      "138:\tlearn: 0.2056809\ttotal: 7.09s\tremaining: 43.9s\n",
      "139:\tlearn: 0.2049399\ttotal: 7.14s\tremaining: 43.9s\n",
      "140:\tlearn: 0.2046007\ttotal: 7.19s\tremaining: 43.8s\n",
      "141:\tlearn: 0.2040651\ttotal: 7.24s\tremaining: 43.7s\n",
      "142:\tlearn: 0.2036762\ttotal: 7.28s\tremaining: 43.7s\n",
      "143:\tlearn: 0.2032128\ttotal: 7.33s\tremaining: 43.6s\n",
      "144:\tlearn: 0.2027894\ttotal: 7.38s\tremaining: 43.5s\n",
      "145:\tlearn: 0.2025244\ttotal: 7.43s\tremaining: 43.5s\n",
      "146:\tlearn: 0.2019594\ttotal: 7.48s\tremaining: 43.4s\n",
      "147:\tlearn: 0.2013490\ttotal: 7.53s\tremaining: 43.3s\n",
      "148:\tlearn: 0.2006200\ttotal: 7.57s\tremaining: 43.2s\n",
      "149:\tlearn: 0.2003980\ttotal: 7.62s\tremaining: 43.2s\n",
      "150:\tlearn: 0.1999953\ttotal: 7.67s\tremaining: 43.1s\n",
      "151:\tlearn: 0.1996279\ttotal: 7.71s\tremaining: 43s\n",
      "152:\tlearn: 0.1987159\ttotal: 7.76s\tremaining: 43s\n",
      "153:\tlearn: 0.1983983\ttotal: 7.81s\tremaining: 42.9s\n",
      "154:\tlearn: 0.1977511\ttotal: 7.86s\tremaining: 42.8s\n",
      "155:\tlearn: 0.1972864\ttotal: 7.9s\tremaining: 42.8s\n",
      "156:\tlearn: 0.1967301\ttotal: 7.95s\tremaining: 42.7s\n",
      "157:\tlearn: 0.1962989\ttotal: 8s\tremaining: 42.6s\n",
      "158:\tlearn: 0.1959414\ttotal: 8.05s\tremaining: 42.6s\n",
      "159:\tlearn: 0.1955593\ttotal: 8.1s\tremaining: 42.5s\n",
      "160:\tlearn: 0.1951303\ttotal: 8.15s\tremaining: 42.5s\n",
      "161:\tlearn: 0.1946549\ttotal: 8.2s\tremaining: 42.4s\n",
      "162:\tlearn: 0.1942970\ttotal: 8.25s\tremaining: 42.4s\n",
      "163:\tlearn: 0.1939506\ttotal: 8.29s\tremaining: 42.3s\n",
      "164:\tlearn: 0.1936352\ttotal: 8.34s\tremaining: 42.2s\n",
      "165:\tlearn: 0.1935625\ttotal: 8.39s\tremaining: 42.2s\n",
      "166:\tlearn: 0.1933602\ttotal: 8.44s\tremaining: 42.1s\n",
      "167:\tlearn: 0.1932983\ttotal: 8.49s\tremaining: 42s\n",
      "168:\tlearn: 0.1931584\ttotal: 8.54s\tremaining: 42s\n",
      "169:\tlearn: 0.1931439\ttotal: 8.55s\tremaining: 41.8s\n",
      "170:\tlearn: 0.1929524\ttotal: 8.61s\tremaining: 41.7s\n",
      "171:\tlearn: 0.1927931\ttotal: 8.65s\tremaining: 41.6s\n",
      "172:\tlearn: 0.1925158\ttotal: 8.7s\tremaining: 41.6s\n",
      "173:\tlearn: 0.1922942\ttotal: 8.75s\tremaining: 41.5s\n",
      "174:\tlearn: 0.1917636\ttotal: 8.8s\tremaining: 41.5s\n",
      "175:\tlearn: 0.1914404\ttotal: 8.84s\tremaining: 41.4s\n",
      "176:\tlearn: 0.1909172\ttotal: 8.89s\tremaining: 41.3s\n",
      "177:\tlearn: 0.1907071\ttotal: 8.94s\tremaining: 41.3s\n",
      "178:\tlearn: 0.1903096\ttotal: 8.99s\tremaining: 41.3s\n",
      "179:\tlearn: 0.1900338\ttotal: 9.05s\tremaining: 41.3s\n",
      "180:\tlearn: 0.1898288\ttotal: 9.11s\tremaining: 41.2s\n",
      "181:\tlearn: 0.1896497\ttotal: 9.17s\tremaining: 41.2s\n",
      "182:\tlearn: 0.1889962\ttotal: 9.23s\tremaining: 41.2s\n",
      "183:\tlearn: 0.1884049\ttotal: 9.28s\tremaining: 41.1s\n",
      "184:\tlearn: 0.1881185\ttotal: 9.33s\tremaining: 41.1s\n",
      "185:\tlearn: 0.1879265\ttotal: 9.38s\tremaining: 41.1s\n",
      "186:\tlearn: 0.1876636\ttotal: 9.43s\tremaining: 41s\n",
      "187:\tlearn: 0.1876144\ttotal: 9.48s\tremaining: 41s\n",
      "188:\tlearn: 0.1869461\ttotal: 9.53s\tremaining: 40.9s\n",
      "189:\tlearn: 0.1863064\ttotal: 9.58s\tremaining: 40.8s\n",
      "190:\tlearn: 0.1860906\ttotal: 9.62s\tremaining: 40.8s\n",
      "191:\tlearn: 0.1859806\ttotal: 9.67s\tremaining: 40.7s\n",
      "192:\tlearn: 0.1857860\ttotal: 9.72s\tremaining: 40.6s\n",
      "193:\tlearn: 0.1856206\ttotal: 9.77s\tremaining: 40.6s\n",
      "194:\tlearn: 0.1851890\ttotal: 9.81s\tremaining: 40.5s\n",
      "195:\tlearn: 0.1850513\ttotal: 9.86s\tremaining: 40.4s\n",
      "196:\tlearn: 0.1844163\ttotal: 9.91s\tremaining: 40.4s\n",
      "197:\tlearn: 0.1842657\ttotal: 9.96s\tremaining: 40.4s\n",
      "198:\tlearn: 0.1837748\ttotal: 10s\tremaining: 40.3s\n",
      "199:\tlearn: 0.1835762\ttotal: 10.1s\tremaining: 40.3s\n",
      "200:\tlearn: 0.1831669\ttotal: 10.1s\tremaining: 40.2s\n",
      "201:\tlearn: 0.1830317\ttotal: 10.2s\tremaining: 40.1s\n",
      "202:\tlearn: 0.1827411\ttotal: 10.2s\tremaining: 40.1s\n",
      "203:\tlearn: 0.1826579\ttotal: 10.3s\tremaining: 40s\n",
      "204:\tlearn: 0.1822925\ttotal: 10.3s\tremaining: 40s\n",
      "205:\tlearn: 0.1819476\ttotal: 10.4s\tremaining: 39.9s\n",
      "206:\tlearn: 0.1814281\ttotal: 10.4s\tremaining: 39.8s\n",
      "207:\tlearn: 0.1811054\ttotal: 10.4s\tremaining: 39.8s\n",
      "208:\tlearn: 0.1809000\ttotal: 10.5s\tremaining: 39.7s\n",
      "209:\tlearn: 0.1806134\ttotal: 10.5s\tremaining: 39.7s\n",
      "210:\tlearn: 0.1802822\ttotal: 10.6s\tremaining: 39.6s\n",
      "211:\tlearn: 0.1799606\ttotal: 10.6s\tremaining: 39.6s\n",
      "212:\tlearn: 0.1797985\ttotal: 10.7s\tremaining: 39.5s\n",
      "213:\tlearn: 0.1794613\ttotal: 10.7s\tremaining: 39.5s\n",
      "214:\tlearn: 0.1790075\ttotal: 10.8s\tremaining: 39.4s\n",
      "215:\tlearn: 0.1786873\ttotal: 10.8s\tremaining: 39.3s\n",
      "216:\tlearn: 0.1786049\ttotal: 10.9s\tremaining: 39.3s\n",
      "217:\tlearn: 0.1785317\ttotal: 10.9s\tremaining: 39.2s\n",
      "218:\tlearn: 0.1783130\ttotal: 11s\tremaining: 39.2s\n",
      "219:\tlearn: 0.1778293\ttotal: 11s\tremaining: 39.1s\n",
      "220:\tlearn: 0.1775094\ttotal: 11.1s\tremaining: 39.1s\n",
      "221:\tlearn: 0.1773578\ttotal: 11.1s\tremaining: 39.1s\n",
      "222:\tlearn: 0.1771661\ttotal: 11.2s\tremaining: 39s\n",
      "223:\tlearn: 0.1771126\ttotal: 11.3s\tremaining: 39s\n",
      "224:\tlearn: 0.1766432\ttotal: 11.3s\tremaining: 38.9s\n",
      "225:\tlearn: 0.1762716\ttotal: 11.4s\tremaining: 38.9s\n",
      "226:\tlearn: 0.1757379\ttotal: 11.4s\tremaining: 38.8s\n",
      "227:\tlearn: 0.1755444\ttotal: 11.5s\tremaining: 38.8s\n",
      "228:\tlearn: 0.1752086\ttotal: 11.5s\tremaining: 38.8s\n",
      "229:\tlearn: 0.1749375\ttotal: 11.6s\tremaining: 38.7s\n",
      "230:\tlearn: 0.1744986\ttotal: 11.6s\tremaining: 38.7s\n",
      "231:\tlearn: 0.1742169\ttotal: 11.7s\tremaining: 38.7s\n",
      "232:\tlearn: 0.1739857\ttotal: 11.8s\tremaining: 38.8s\n",
      "233:\tlearn: 0.1736601\ttotal: 11.9s\tremaining: 38.9s\n",
      "234:\tlearn: 0.1735225\ttotal: 11.9s\tremaining: 38.9s\n",
      "235:\tlearn: 0.1731468\ttotal: 12s\tremaining: 38.8s\n",
      "236:\tlearn: 0.1728503\ttotal: 12s\tremaining: 38.8s\n",
      "237:\tlearn: 0.1726524\ttotal: 12.1s\tremaining: 38.7s\n",
      "238:\tlearn: 0.1722926\ttotal: 12.2s\tremaining: 38.7s\n",
      "239:\tlearn: 0.1720421\ttotal: 12.2s\tremaining: 38.7s\n",
      "240:\tlearn: 0.1718699\ttotal: 12.3s\tremaining: 38.7s\n",
      "241:\tlearn: 0.1716722\ttotal: 12.3s\tremaining: 38.6s\n",
      "242:\tlearn: 0.1711714\ttotal: 12.4s\tremaining: 38.6s\n",
      "243:\tlearn: 0.1708768\ttotal: 12.4s\tremaining: 38.5s\n",
      "244:\tlearn: 0.1703574\ttotal: 12.5s\tremaining: 38.5s\n",
      "245:\tlearn: 0.1700875\ttotal: 12.5s\tremaining: 38.4s\n",
      "246:\tlearn: 0.1698178\ttotal: 12.6s\tremaining: 38.4s\n",
      "247:\tlearn: 0.1695256\ttotal: 12.6s\tremaining: 38.4s\n",
      "248:\tlearn: 0.1693524\ttotal: 12.7s\tremaining: 38.4s\n",
      "249:\tlearn: 0.1691169\ttotal: 12.8s\tremaining: 38.5s\n",
      "250:\tlearn: 0.1688435\ttotal: 12.9s\tremaining: 38.6s\n",
      "251:\tlearn: 0.1684803\ttotal: 13s\tremaining: 38.7s\n",
      "252:\tlearn: 0.1682691\ttotal: 13.1s\tremaining: 38.8s\n",
      "253:\tlearn: 0.1681481\ttotal: 13.2s\tremaining: 38.9s\n",
      "254:\tlearn: 0.1680163\ttotal: 13.3s\tremaining: 39s\n",
      "255:\tlearn: 0.1678673\ttotal: 13.4s\tremaining: 39.1s\n",
      "256:\tlearn: 0.1677146\ttotal: 13.5s\tremaining: 39s\n",
      "257:\tlearn: 0.1675850\ttotal: 13.6s\tremaining: 39s\n",
      "258:\tlearn: 0.1673515\ttotal: 13.6s\tremaining: 38.9s\n",
      "259:\tlearn: 0.1672307\ttotal: 13.6s\tremaining: 38.8s\n",
      "260:\tlearn: 0.1670044\ttotal: 13.7s\tremaining: 38.8s\n",
      "261:\tlearn: 0.1667667\ttotal: 13.8s\tremaining: 38.7s\n",
      "262:\tlearn: 0.1665671\ttotal: 13.9s\tremaining: 38.8s\n",
      "263:\tlearn: 0.1663338\ttotal: 14s\tremaining: 38.9s\n",
      "264:\tlearn: 0.1661963\ttotal: 14.1s\tremaining: 39s\n",
      "265:\tlearn: 0.1659176\ttotal: 14.1s\tremaining: 38.9s\n",
      "266:\tlearn: 0.1654959\ttotal: 14.2s\tremaining: 38.9s\n",
      "267:\tlearn: 0.1650866\ttotal: 14.2s\tremaining: 38.8s\n",
      "268:\tlearn: 0.1648980\ttotal: 14.3s\tremaining: 38.8s\n",
      "269:\tlearn: 0.1647636\ttotal: 14.3s\tremaining: 38.7s\n",
      "270:\tlearn: 0.1646395\ttotal: 14.4s\tremaining: 38.7s\n",
      "271:\tlearn: 0.1643859\ttotal: 14.4s\tremaining: 38.6s\n",
      "272:\tlearn: 0.1642878\ttotal: 14.5s\tremaining: 38.5s\n",
      "273:\tlearn: 0.1640928\ttotal: 14.5s\tremaining: 38.5s\n",
      "274:\tlearn: 0.1637694\ttotal: 14.6s\tremaining: 38.5s\n",
      "275:\tlearn: 0.1634324\ttotal: 14.6s\tremaining: 38.4s\n",
      "276:\tlearn: 0.1631852\ttotal: 14.7s\tremaining: 38.3s\n",
      "277:\tlearn: 0.1628667\ttotal: 14.7s\tremaining: 38.3s\n",
      "278:\tlearn: 0.1626331\ttotal: 14.8s\tremaining: 38.2s\n",
      "279:\tlearn: 0.1625305\ttotal: 14.8s\tremaining: 38.2s\n",
      "280:\tlearn: 0.1624017\ttotal: 14.9s\tremaining: 38.1s\n",
      "281:\tlearn: 0.1621461\ttotal: 14.9s\tremaining: 38.1s\n",
      "282:\tlearn: 0.1619739\ttotal: 15s\tremaining: 38s\n",
      "283:\tlearn: 0.1615884\ttotal: 15.1s\tremaining: 37.9s\n",
      "284:\tlearn: 0.1614117\ttotal: 15.1s\tremaining: 37.9s\n",
      "285:\tlearn: 0.1614019\ttotal: 15.1s\tremaining: 37.7s\n",
      "286:\tlearn: 0.1611468\ttotal: 15.2s\tremaining: 37.7s\n",
      "287:\tlearn: 0.1608603\ttotal: 15.2s\tremaining: 37.6s\n",
      "288:\tlearn: 0.1604651\ttotal: 15.3s\tremaining: 37.6s\n",
      "289:\tlearn: 0.1602672\ttotal: 15.3s\tremaining: 37.5s\n",
      "290:\tlearn: 0.1601333\ttotal: 15.4s\tremaining: 37.4s\n",
      "291:\tlearn: 0.1598108\ttotal: 15.4s\tremaining: 37.4s\n",
      "292:\tlearn: 0.1597625\ttotal: 15.5s\tremaining: 37.3s\n",
      "293:\tlearn: 0.1595179\ttotal: 15.5s\tremaining: 37.3s\n",
      "294:\tlearn: 0.1594750\ttotal: 15.6s\tremaining: 37.2s\n",
      "295:\tlearn: 0.1592472\ttotal: 15.6s\tremaining: 37.2s\n",
      "296:\tlearn: 0.1590449\ttotal: 15.7s\tremaining: 37.1s\n",
      "297:\tlearn: 0.1589274\ttotal: 15.7s\tremaining: 37.1s\n",
      "298:\tlearn: 0.1588232\ttotal: 15.8s\tremaining: 37s\n",
      "299:\tlearn: 0.1587231\ttotal: 15.8s\tremaining: 37s\n",
      "300:\tlearn: 0.1583450\ttotal: 15.9s\tremaining: 36.9s\n",
      "301:\tlearn: 0.1580019\ttotal: 15.9s\tremaining: 36.8s\n",
      "302:\tlearn: 0.1578363\ttotal: 16s\tremaining: 36.8s\n",
      "303:\tlearn: 0.1574297\ttotal: 16s\tremaining: 36.7s\n",
      "304:\tlearn: 0.1570681\ttotal: 16.1s\tremaining: 36.6s\n",
      "305:\tlearn: 0.1569595\ttotal: 16.1s\tremaining: 36.6s\n",
      "306:\tlearn: 0.1565587\ttotal: 16.2s\tremaining: 36.5s\n",
      "307:\tlearn: 0.1563015\ttotal: 16.2s\tremaining: 36.5s\n",
      "308:\tlearn: 0.1561690\ttotal: 16.3s\tremaining: 36.4s\n",
      "309:\tlearn: 0.1559986\ttotal: 16.3s\tremaining: 36.4s\n",
      "310:\tlearn: 0.1558475\ttotal: 16.4s\tremaining: 36.3s\n",
      "311:\tlearn: 0.1556523\ttotal: 16.4s\tremaining: 36.2s\n",
      "312:\tlearn: 0.1554794\ttotal: 16.5s\tremaining: 36.2s\n",
      "313:\tlearn: 0.1553321\ttotal: 16.5s\tremaining: 36.1s\n",
      "314:\tlearn: 0.1551546\ttotal: 16.6s\tremaining: 36s\n",
      "315:\tlearn: 0.1548484\ttotal: 16.6s\tremaining: 36s\n",
      "316:\tlearn: 0.1547307\ttotal: 16.7s\tremaining: 35.9s\n",
      "317:\tlearn: 0.1544470\ttotal: 16.7s\tremaining: 35.9s\n",
      "318:\tlearn: 0.1541861\ttotal: 16.8s\tremaining: 35.8s\n",
      "319:\tlearn: 0.1537931\ttotal: 16.8s\tremaining: 35.8s\n",
      "320:\tlearn: 0.1535550\ttotal: 16.9s\tremaining: 35.7s\n",
      "321:\tlearn: 0.1533810\ttotal: 16.9s\tremaining: 35.6s\n",
      "322:\tlearn: 0.1532090\ttotal: 17s\tremaining: 35.6s\n",
      "323:\tlearn: 0.1528745\ttotal: 17s\tremaining: 35.5s\n",
      "324:\tlearn: 0.1525832\ttotal: 17.1s\tremaining: 35.5s\n",
      "325:\tlearn: 0.1523132\ttotal: 17.1s\tremaining: 35.4s\n",
      "326:\tlearn: 0.1521289\ttotal: 17.2s\tremaining: 35.3s\n",
      "327:\tlearn: 0.1520235\ttotal: 17.2s\tremaining: 35.3s\n",
      "328:\tlearn: 0.1517875\ttotal: 17.3s\tremaining: 35.2s\n",
      "329:\tlearn: 0.1513962\ttotal: 17.3s\tremaining: 35.2s\n",
      "330:\tlearn: 0.1511152\ttotal: 17.4s\tremaining: 35.1s\n",
      "331:\tlearn: 0.1509543\ttotal: 17.4s\tremaining: 35s\n",
      "332:\tlearn: 0.1506823\ttotal: 17.5s\tremaining: 35s\n",
      "333:\tlearn: 0.1504542\ttotal: 17.5s\tremaining: 34.9s\n",
      "334:\tlearn: 0.1501634\ttotal: 17.6s\tremaining: 34.9s\n",
      "335:\tlearn: 0.1500383\ttotal: 17.6s\tremaining: 34.8s\n",
      "336:\tlearn: 0.1497917\ttotal: 17.7s\tremaining: 34.7s\n",
      "337:\tlearn: 0.1496200\ttotal: 17.7s\tremaining: 34.7s\n",
      "338:\tlearn: 0.1495132\ttotal: 17.8s\tremaining: 34.6s\n",
      "339:\tlearn: 0.1491658\ttotal: 17.8s\tremaining: 34.6s\n",
      "340:\tlearn: 0.1489177\ttotal: 17.8s\tremaining: 34.5s\n",
      "341:\tlearn: 0.1487885\ttotal: 17.9s\tremaining: 34.4s\n",
      "342:\tlearn: 0.1485389\ttotal: 17.9s\tremaining: 34.4s\n",
      "343:\tlearn: 0.1483525\ttotal: 18s\tremaining: 34.3s\n",
      "344:\tlearn: 0.1482361\ttotal: 18s\tremaining: 34.2s\n",
      "345:\tlearn: 0.1481461\ttotal: 18.1s\tremaining: 34.2s\n",
      "346:\tlearn: 0.1479750\ttotal: 18.1s\tremaining: 34.1s\n",
      "347:\tlearn: 0.1477131\ttotal: 18.2s\tremaining: 34.1s\n",
      "348:\tlearn: 0.1474596\ttotal: 18.2s\tremaining: 34s\n",
      "349:\tlearn: 0.1471841\ttotal: 18.3s\tremaining: 34s\n",
      "350:\tlearn: 0.1470729\ttotal: 18.3s\tremaining: 33.9s\n",
      "351:\tlearn: 0.1468415\ttotal: 18.4s\tremaining: 33.8s\n",
      "352:\tlearn: 0.1465543\ttotal: 18.4s\tremaining: 33.8s\n",
      "353:\tlearn: 0.1462570\ttotal: 18.5s\tremaining: 33.7s\n",
      "354:\tlearn: 0.1459516\ttotal: 18.5s\tremaining: 33.7s\n",
      "355:\tlearn: 0.1457695\ttotal: 18.6s\tremaining: 33.6s\n",
      "356:\tlearn: 0.1456605\ttotal: 18.6s\tremaining: 33.5s\n",
      "357:\tlearn: 0.1455528\ttotal: 18.7s\tremaining: 33.5s\n",
      "358:\tlearn: 0.1454826\ttotal: 18.7s\tremaining: 33.4s\n",
      "359:\tlearn: 0.1452030\ttotal: 18.8s\tremaining: 33.4s\n",
      "360:\tlearn: 0.1450166\ttotal: 18.8s\tremaining: 33.3s\n",
      "361:\tlearn: 0.1448241\ttotal: 18.9s\tremaining: 33.3s\n",
      "362:\tlearn: 0.1446502\ttotal: 18.9s\tremaining: 33.2s\n",
      "363:\tlearn: 0.1445874\ttotal: 19s\tremaining: 33.2s\n",
      "364:\tlearn: 0.1444832\ttotal: 19s\tremaining: 33.1s\n",
      "365:\tlearn: 0.1442076\ttotal: 19.1s\tremaining: 33s\n",
      "366:\tlearn: 0.1440076\ttotal: 19.1s\tremaining: 33s\n",
      "367:\tlearn: 0.1438286\ttotal: 19.2s\tremaining: 32.9s\n",
      "368:\tlearn: 0.1436615\ttotal: 19.2s\tremaining: 32.9s\n",
      "369:\tlearn: 0.1434064\ttotal: 19.3s\tremaining: 32.8s\n",
      "370:\tlearn: 0.1432583\ttotal: 19.3s\tremaining: 32.8s\n",
      "371:\tlearn: 0.1432561\ttotal: 19.4s\tremaining: 32.7s\n",
      "372:\tlearn: 0.1430419\ttotal: 19.4s\tremaining: 32.6s\n",
      "373:\tlearn: 0.1427572\ttotal: 19.5s\tremaining: 32.6s\n",
      "374:\tlearn: 0.1426003\ttotal: 19.5s\tremaining: 32.5s\n",
      "375:\tlearn: 0.1425057\ttotal: 19.6s\tremaining: 32.5s\n",
      "376:\tlearn: 0.1422262\ttotal: 19.6s\tremaining: 32.4s\n",
      "377:\tlearn: 0.1419836\ttotal: 19.7s\tremaining: 32.4s\n",
      "378:\tlearn: 0.1417537\ttotal: 19.7s\tremaining: 32.3s\n",
      "379:\tlearn: 0.1414668\ttotal: 19.8s\tremaining: 32.3s\n",
      "380:\tlearn: 0.1413322\ttotal: 19.8s\tremaining: 32.2s\n",
      "381:\tlearn: 0.1411791\ttotal: 19.9s\tremaining: 32.2s\n",
      "382:\tlearn: 0.1409916\ttotal: 19.9s\tremaining: 32.1s\n",
      "383:\tlearn: 0.1408509\ttotal: 20s\tremaining: 32s\n",
      "384:\tlearn: 0.1405513\ttotal: 20s\tremaining: 32s\n",
      "385:\tlearn: 0.1403852\ttotal: 20.1s\tremaining: 31.9s\n",
      "386:\tlearn: 0.1402600\ttotal: 20.1s\tremaining: 31.9s\n",
      "387:\tlearn: 0.1400786\ttotal: 20.2s\tremaining: 31.8s\n",
      "388:\tlearn: 0.1398796\ttotal: 20.2s\tremaining: 31.8s\n",
      "389:\tlearn: 0.1396136\ttotal: 20.3s\tremaining: 31.7s\n",
      "390:\tlearn: 0.1393160\ttotal: 20.3s\tremaining: 31.6s\n",
      "391:\tlearn: 0.1391661\ttotal: 20.4s\tremaining: 31.6s\n",
      "392:\tlearn: 0.1389481\ttotal: 20.4s\tremaining: 31.5s\n",
      "393:\tlearn: 0.1388579\ttotal: 20.5s\tremaining: 31.5s\n",
      "394:\tlearn: 0.1386670\ttotal: 20.5s\tremaining: 31.4s\n",
      "395:\tlearn: 0.1386638\ttotal: 20.6s\tremaining: 31.4s\n",
      "396:\tlearn: 0.1386091\ttotal: 20.6s\tremaining: 31.3s\n",
      "397:\tlearn: 0.1384028\ttotal: 20.7s\tremaining: 31.3s\n",
      "398:\tlearn: 0.1382988\ttotal: 20.7s\tremaining: 31.2s\n",
      "399:\tlearn: 0.1381914\ttotal: 20.8s\tremaining: 31.1s\n",
      "400:\tlearn: 0.1380409\ttotal: 20.8s\tremaining: 31.1s\n",
      "401:\tlearn: 0.1379530\ttotal: 20.9s\tremaining: 31s\n",
      "402:\tlearn: 0.1377304\ttotal: 20.9s\tremaining: 31s\n",
      "403:\tlearn: 0.1376694\ttotal: 21s\tremaining: 30.9s\n",
      "404:\tlearn: 0.1374167\ttotal: 21s\tremaining: 30.9s\n",
      "405:\tlearn: 0.1373318\ttotal: 21.1s\tremaining: 30.8s\n",
      "406:\tlearn: 0.1370958\ttotal: 21.1s\tremaining: 30.8s\n",
      "407:\tlearn: 0.1370219\ttotal: 21.2s\tremaining: 30.7s\n",
      "408:\tlearn: 0.1369178\ttotal: 21.2s\tremaining: 30.7s\n",
      "409:\tlearn: 0.1367932\ttotal: 21.3s\tremaining: 30.6s\n",
      "410:\tlearn: 0.1366783\ttotal: 21.3s\tremaining: 30.5s\n",
      "411:\tlearn: 0.1365738\ttotal: 21.4s\tremaining: 30.5s\n",
      "412:\tlearn: 0.1364467\ttotal: 21.4s\tremaining: 30.4s\n",
      "413:\tlearn: 0.1361028\ttotal: 21.5s\tremaining: 30.4s\n",
      "414:\tlearn: 0.1357484\ttotal: 21.5s\tremaining: 30.3s\n",
      "415:\tlearn: 0.1356327\ttotal: 21.6s\tremaining: 30.3s\n",
      "416:\tlearn: 0.1354838\ttotal: 21.6s\tremaining: 30.2s\n",
      "417:\tlearn: 0.1353858\ttotal: 21.7s\tremaining: 30.2s\n",
      "418:\tlearn: 0.1353044\ttotal: 21.7s\tremaining: 30.1s\n",
      "419:\tlearn: 0.1349524\ttotal: 21.8s\tremaining: 30.1s\n",
      "420:\tlearn: 0.1347446\ttotal: 21.8s\tremaining: 30s\n",
      "421:\tlearn: 0.1345161\ttotal: 21.9s\tremaining: 29.9s\n",
      "422:\tlearn: 0.1344088\ttotal: 21.9s\tremaining: 29.9s\n",
      "423:\tlearn: 0.1342118\ttotal: 22s\tremaining: 29.8s\n",
      "424:\tlearn: 0.1340634\ttotal: 22s\tremaining: 29.8s\n",
      "425:\tlearn: 0.1337646\ttotal: 22.1s\tremaining: 29.7s\n",
      "426:\tlearn: 0.1335106\ttotal: 22.1s\tremaining: 29.7s\n",
      "427:\tlearn: 0.1334553\ttotal: 22.2s\tremaining: 29.6s\n",
      "428:\tlearn: 0.1330573\ttotal: 22.2s\tremaining: 29.6s\n",
      "429:\tlearn: 0.1329819\ttotal: 22.3s\tremaining: 29.5s\n",
      "430:\tlearn: 0.1328405\ttotal: 22.3s\tremaining: 29.4s\n",
      "431:\tlearn: 0.1325876\ttotal: 22.3s\tremaining: 29.4s\n",
      "432:\tlearn: 0.1323290\ttotal: 22.4s\tremaining: 29.3s\n",
      "433:\tlearn: 0.1319180\ttotal: 22.4s\tremaining: 29.3s\n",
      "434:\tlearn: 0.1315982\ttotal: 22.5s\tremaining: 29.2s\n",
      "435:\tlearn: 0.1313087\ttotal: 22.5s\tremaining: 29.2s\n",
      "436:\tlearn: 0.1310546\ttotal: 22.6s\tremaining: 29.1s\n",
      "437:\tlearn: 0.1309897\ttotal: 22.6s\tremaining: 29s\n",
      "438:\tlearn: 0.1308211\ttotal: 22.7s\tremaining: 29s\n",
      "439:\tlearn: 0.1306559\ttotal: 22.7s\tremaining: 28.9s\n",
      "440:\tlearn: 0.1305590\ttotal: 22.8s\tremaining: 28.9s\n",
      "441:\tlearn: 0.1303839\ttotal: 22.8s\tremaining: 28.8s\n",
      "442:\tlearn: 0.1302958\ttotal: 22.9s\tremaining: 28.8s\n",
      "443:\tlearn: 0.1301684\ttotal: 22.9s\tremaining: 28.7s\n",
      "444:\tlearn: 0.1299458\ttotal: 23s\tremaining: 28.6s\n",
      "445:\tlearn: 0.1298372\ttotal: 23s\tremaining: 28.6s\n",
      "446:\tlearn: 0.1297084\ttotal: 23.1s\tremaining: 28.5s\n",
      "447:\tlearn: 0.1295749\ttotal: 23.1s\tremaining: 28.5s\n",
      "448:\tlearn: 0.1294710\ttotal: 23.2s\tremaining: 28.4s\n",
      "449:\tlearn: 0.1293038\ttotal: 23.2s\tremaining: 28.4s\n",
      "450:\tlearn: 0.1291760\ttotal: 23.3s\tremaining: 28.3s\n",
      "451:\tlearn: 0.1290805\ttotal: 23.3s\tremaining: 28.3s\n",
      "452:\tlearn: 0.1288047\ttotal: 23.4s\tremaining: 28.2s\n",
      "453:\tlearn: 0.1287107\ttotal: 23.4s\tremaining: 28.1s\n",
      "454:\tlearn: 0.1286173\ttotal: 23.5s\tremaining: 28.1s\n",
      "455:\tlearn: 0.1284677\ttotal: 23.5s\tremaining: 28s\n",
      "456:\tlearn: 0.1283998\ttotal: 23.6s\tremaining: 28s\n",
      "457:\tlearn: 0.1282155\ttotal: 23.6s\tremaining: 27.9s\n",
      "458:\tlearn: 0.1280403\ttotal: 23.7s\tremaining: 27.9s\n",
      "459:\tlearn: 0.1278520\ttotal: 23.7s\tremaining: 27.8s\n",
      "460:\tlearn: 0.1277600\ttotal: 23.7s\tremaining: 27.8s\n",
      "461:\tlearn: 0.1276412\ttotal: 23.8s\tremaining: 27.7s\n",
      "462:\tlearn: 0.1275202\ttotal: 23.8s\tremaining: 27.7s\n",
      "463:\tlearn: 0.1274905\ttotal: 23.9s\tremaining: 27.6s\n",
      "464:\tlearn: 0.1274857\ttotal: 23.9s\tremaining: 27.5s\n",
      "465:\tlearn: 0.1274228\ttotal: 24s\tremaining: 27.5s\n",
      "466:\tlearn: 0.1273002\ttotal: 24s\tremaining: 27.4s\n",
      "467:\tlearn: 0.1272353\ttotal: 24.1s\tremaining: 27.4s\n",
      "468:\tlearn: 0.1271708\ttotal: 24.1s\tremaining: 27.3s\n",
      "469:\tlearn: 0.1269911\ttotal: 24.2s\tremaining: 27.3s\n",
      "470:\tlearn: 0.1268188\ttotal: 24.2s\tremaining: 27.2s\n",
      "471:\tlearn: 0.1266887\ttotal: 24.3s\tremaining: 27.2s\n",
      "472:\tlearn: 0.1265581\ttotal: 24.3s\tremaining: 27.1s\n",
      "473:\tlearn: 0.1263475\ttotal: 24.4s\tremaining: 27s\n",
      "474:\tlearn: 0.1261983\ttotal: 24.4s\tremaining: 27s\n",
      "475:\tlearn: 0.1260368\ttotal: 24.5s\tremaining: 26.9s\n",
      "476:\tlearn: 0.1259605\ttotal: 24.5s\tremaining: 26.9s\n",
      "477:\tlearn: 0.1256908\ttotal: 24.6s\tremaining: 26.8s\n",
      "478:\tlearn: 0.1254689\ttotal: 24.6s\tremaining: 26.8s\n",
      "479:\tlearn: 0.1253004\ttotal: 24.7s\tremaining: 26.7s\n",
      "480:\tlearn: 0.1249236\ttotal: 24.7s\tremaining: 26.7s\n",
      "481:\tlearn: 0.1246219\ttotal: 24.8s\tremaining: 26.6s\n",
      "482:\tlearn: 0.1245097\ttotal: 24.8s\tremaining: 26.6s\n",
      "483:\tlearn: 0.1244058\ttotal: 24.9s\tremaining: 26.5s\n",
      "484:\tlearn: 0.1242748\ttotal: 24.9s\tremaining: 26.5s\n",
      "485:\tlearn: 0.1241179\ttotal: 25s\tremaining: 26.4s\n",
      "486:\tlearn: 0.1239206\ttotal: 25s\tremaining: 26.4s\n",
      "487:\tlearn: 0.1238332\ttotal: 25.1s\tremaining: 26.3s\n",
      "488:\tlearn: 0.1237285\ttotal: 25.1s\tremaining: 26.2s\n",
      "489:\tlearn: 0.1236563\ttotal: 25.2s\tremaining: 26.2s\n",
      "490:\tlearn: 0.1235743\ttotal: 25.2s\tremaining: 26.1s\n",
      "491:\tlearn: 0.1234148\ttotal: 25.3s\tremaining: 26.1s\n",
      "492:\tlearn: 0.1231808\ttotal: 25.3s\tremaining: 26s\n",
      "493:\tlearn: 0.1229468\ttotal: 25.4s\tremaining: 26s\n",
      "494:\tlearn: 0.1226816\ttotal: 25.4s\tremaining: 25.9s\n",
      "495:\tlearn: 0.1224675\ttotal: 25.5s\tremaining: 25.9s\n",
      "496:\tlearn: 0.1223254\ttotal: 25.5s\tremaining: 25.8s\n",
      "497:\tlearn: 0.1222068\ttotal: 25.6s\tremaining: 25.8s\n",
      "498:\tlearn: 0.1221007\ttotal: 25.6s\tremaining: 25.7s\n",
      "499:\tlearn: 0.1219205\ttotal: 25.7s\tremaining: 25.7s\n",
      "500:\tlearn: 0.1217906\ttotal: 25.7s\tremaining: 25.6s\n",
      "501:\tlearn: 0.1216653\ttotal: 25.8s\tremaining: 25.6s\n",
      "502:\tlearn: 0.1216119\ttotal: 25.8s\tremaining: 25.5s\n",
      "503:\tlearn: 0.1213889\ttotal: 25.9s\tremaining: 25.5s\n",
      "504:\tlearn: 0.1213080\ttotal: 26s\tremaining: 25.4s\n",
      "505:\tlearn: 0.1212407\ttotal: 26s\tremaining: 25.4s\n",
      "506:\tlearn: 0.1211666\ttotal: 26.1s\tremaining: 25.3s\n",
      "507:\tlearn: 0.1210909\ttotal: 26.1s\tremaining: 25.3s\n",
      "508:\tlearn: 0.1209752\ttotal: 26.2s\tremaining: 25.2s\n",
      "509:\tlearn: 0.1208148\ttotal: 26.2s\tremaining: 25.2s\n",
      "510:\tlearn: 0.1206114\ttotal: 26.3s\tremaining: 25.1s\n",
      "511:\tlearn: 0.1205082\ttotal: 26.3s\tremaining: 25.1s\n",
      "512:\tlearn: 0.1202929\ttotal: 26.4s\tremaining: 25.1s\n",
      "513:\tlearn: 0.1200990\ttotal: 26.4s\tremaining: 25s\n",
      "514:\tlearn: 0.1200347\ttotal: 26.5s\tremaining: 24.9s\n",
      "515:\tlearn: 0.1197997\ttotal: 26.5s\tremaining: 24.9s\n",
      "516:\tlearn: 0.1197460\ttotal: 26.6s\tremaining: 24.9s\n",
      "517:\tlearn: 0.1196672\ttotal: 26.7s\tremaining: 24.8s\n",
      "518:\tlearn: 0.1195128\ttotal: 26.7s\tremaining: 24.8s\n",
      "519:\tlearn: 0.1194477\ttotal: 26.8s\tremaining: 24.7s\n",
      "520:\tlearn: 0.1192660\ttotal: 26.8s\tremaining: 24.7s\n",
      "521:\tlearn: 0.1191434\ttotal: 26.9s\tremaining: 24.6s\n",
      "522:\tlearn: 0.1190285\ttotal: 26.9s\tremaining: 24.6s\n",
      "523:\tlearn: 0.1189353\ttotal: 27s\tremaining: 24.5s\n",
      "524:\tlearn: 0.1188692\ttotal: 27s\tremaining: 24.4s\n",
      "525:\tlearn: 0.1187750\ttotal: 27.1s\tremaining: 24.4s\n",
      "526:\tlearn: 0.1187533\ttotal: 27.1s\tremaining: 24.3s\n",
      "527:\tlearn: 0.1186793\ttotal: 27.2s\tremaining: 24.3s\n",
      "528:\tlearn: 0.1185805\ttotal: 27.3s\tremaining: 24.3s\n",
      "529:\tlearn: 0.1184406\ttotal: 27.3s\tremaining: 24.2s\n",
      "530:\tlearn: 0.1183522\ttotal: 27.4s\tremaining: 24.2s\n",
      "531:\tlearn: 0.1182244\ttotal: 27.4s\tremaining: 24.1s\n",
      "532:\tlearn: 0.1181862\ttotal: 27.5s\tremaining: 24.1s\n",
      "533:\tlearn: 0.1179638\ttotal: 27.5s\tremaining: 24s\n",
      "534:\tlearn: 0.1179425\ttotal: 27.6s\tremaining: 24s\n",
      "535:\tlearn: 0.1177060\ttotal: 27.6s\tremaining: 23.9s\n",
      "536:\tlearn: 0.1176485\ttotal: 27.7s\tremaining: 23.9s\n",
      "537:\tlearn: 0.1175577\ttotal: 27.7s\tremaining: 23.8s\n",
      "538:\tlearn: 0.1173279\ttotal: 27.8s\tremaining: 23.8s\n",
      "539:\tlearn: 0.1171276\ttotal: 27.8s\tremaining: 23.7s\n",
      "540:\tlearn: 0.1170238\ttotal: 27.9s\tremaining: 23.7s\n",
      "541:\tlearn: 0.1168723\ttotal: 27.9s\tremaining: 23.6s\n",
      "542:\tlearn: 0.1167253\ttotal: 28s\tremaining: 23.6s\n",
      "543:\tlearn: 0.1166296\ttotal: 28s\tremaining: 23.5s\n",
      "544:\tlearn: 0.1164545\ttotal: 28.1s\tremaining: 23.4s\n",
      "545:\tlearn: 0.1163348\ttotal: 28.1s\tremaining: 23.4s\n",
      "546:\tlearn: 0.1162344\ttotal: 28.2s\tremaining: 23.3s\n",
      "547:\tlearn: 0.1160879\ttotal: 28.2s\tremaining: 23.3s\n",
      "548:\tlearn: 0.1158890\ttotal: 28.3s\tremaining: 23.2s\n",
      "549:\tlearn: 0.1157710\ttotal: 28.3s\tremaining: 23.2s\n",
      "550:\tlearn: 0.1155230\ttotal: 28.4s\tremaining: 23.1s\n",
      "551:\tlearn: 0.1153942\ttotal: 28.4s\tremaining: 23.1s\n",
      "552:\tlearn: 0.1152970\ttotal: 28.5s\tremaining: 23s\n",
      "553:\tlearn: 0.1151728\ttotal: 28.6s\tremaining: 23s\n",
      "554:\tlearn: 0.1149990\ttotal: 28.6s\tremaining: 22.9s\n",
      "555:\tlearn: 0.1147433\ttotal: 28.7s\tremaining: 22.9s\n",
      "556:\tlearn: 0.1146636\ttotal: 28.7s\tremaining: 22.9s\n",
      "557:\tlearn: 0.1145488\ttotal: 28.8s\tremaining: 22.8s\n",
      "558:\tlearn: 0.1144275\ttotal: 28.9s\tremaining: 22.8s\n",
      "559:\tlearn: 0.1141930\ttotal: 28.9s\tremaining: 22.7s\n",
      "560:\tlearn: 0.1141284\ttotal: 29s\tremaining: 22.7s\n",
      "561:\tlearn: 0.1140847\ttotal: 29s\tremaining: 22.6s\n",
      "562:\tlearn: 0.1139919\ttotal: 29s\tremaining: 22.5s\n",
      "563:\tlearn: 0.1137793\ttotal: 29.1s\tremaining: 22.5s\n",
      "564:\tlearn: 0.1135861\ttotal: 29.2s\tremaining: 22.4s\n",
      "565:\tlearn: 0.1133873\ttotal: 29.2s\tremaining: 22.4s\n",
      "566:\tlearn: 0.1132464\ttotal: 29.2s\tremaining: 22.3s\n",
      "567:\tlearn: 0.1130755\ttotal: 29.3s\tremaining: 22.3s\n",
      "568:\tlearn: 0.1129805\ttotal: 29.3s\tremaining: 22.2s\n",
      "569:\tlearn: 0.1129316\ttotal: 29.4s\tremaining: 22.2s\n",
      "570:\tlearn: 0.1126842\ttotal: 29.5s\tremaining: 22.1s\n",
      "571:\tlearn: 0.1125785\ttotal: 29.5s\tremaining: 22.1s\n",
      "572:\tlearn: 0.1124830\ttotal: 29.6s\tremaining: 22s\n",
      "573:\tlearn: 0.1123518\ttotal: 29.6s\tremaining: 22s\n",
      "574:\tlearn: 0.1121396\ttotal: 29.7s\tremaining: 21.9s\n",
      "575:\tlearn: 0.1120475\ttotal: 29.7s\tremaining: 21.9s\n",
      "576:\tlearn: 0.1119054\ttotal: 29.8s\tremaining: 21.8s\n",
      "577:\tlearn: 0.1118143\ttotal: 29.8s\tremaining: 21.8s\n",
      "578:\tlearn: 0.1116908\ttotal: 29.9s\tremaining: 21.7s\n",
      "579:\tlearn: 0.1116203\ttotal: 29.9s\tremaining: 21.7s\n",
      "580:\tlearn: 0.1114309\ttotal: 30s\tremaining: 21.6s\n",
      "581:\tlearn: 0.1113515\ttotal: 30s\tremaining: 21.6s\n",
      "582:\tlearn: 0.1112730\ttotal: 30.1s\tremaining: 21.5s\n",
      "583:\tlearn: 0.1112116\ttotal: 30.2s\tremaining: 21.5s\n",
      "584:\tlearn: 0.1110404\ttotal: 30.2s\tremaining: 21.4s\n",
      "585:\tlearn: 0.1109794\ttotal: 30.3s\tremaining: 21.4s\n",
      "586:\tlearn: 0.1108974\ttotal: 30.3s\tremaining: 21.3s\n",
      "587:\tlearn: 0.1108305\ttotal: 30.4s\tremaining: 21.3s\n",
      "588:\tlearn: 0.1106774\ttotal: 30.4s\tremaining: 21.2s\n",
      "589:\tlearn: 0.1106089\ttotal: 30.5s\tremaining: 21.2s\n",
      "590:\tlearn: 0.1104950\ttotal: 30.5s\tremaining: 21.1s\n",
      "591:\tlearn: 0.1104270\ttotal: 30.6s\tremaining: 21.1s\n",
      "592:\tlearn: 0.1102972\ttotal: 30.6s\tremaining: 21s\n",
      "593:\tlearn: 0.1101956\ttotal: 30.7s\tremaining: 21s\n",
      "594:\tlearn: 0.1101212\ttotal: 30.7s\tremaining: 20.9s\n",
      "595:\tlearn: 0.1099929\ttotal: 30.8s\tremaining: 20.9s\n",
      "596:\tlearn: 0.1098052\ttotal: 30.8s\tremaining: 20.8s\n",
      "597:\tlearn: 0.1097266\ttotal: 30.9s\tremaining: 20.8s\n",
      "598:\tlearn: 0.1096539\ttotal: 31s\tremaining: 20.7s\n",
      "599:\tlearn: 0.1095106\ttotal: 31s\tremaining: 20.7s\n",
      "600:\tlearn: 0.1094147\ttotal: 31.1s\tremaining: 20.6s\n",
      "601:\tlearn: 0.1092530\ttotal: 31.1s\tremaining: 20.6s\n",
      "602:\tlearn: 0.1090931\ttotal: 31.1s\tremaining: 20.5s\n",
      "603:\tlearn: 0.1089959\ttotal: 31.2s\tremaining: 20.5s\n",
      "604:\tlearn: 0.1089038\ttotal: 31.2s\tremaining: 20.4s\n",
      "605:\tlearn: 0.1088733\ttotal: 31.3s\tremaining: 20.3s\n",
      "606:\tlearn: 0.1085942\ttotal: 31.3s\tremaining: 20.3s\n",
      "607:\tlearn: 0.1084260\ttotal: 31.4s\tremaining: 20.2s\n",
      "608:\tlearn: 0.1083082\ttotal: 31.4s\tremaining: 20.2s\n",
      "609:\tlearn: 0.1081327\ttotal: 31.5s\tremaining: 20.1s\n",
      "610:\tlearn: 0.1080548\ttotal: 31.5s\tremaining: 20.1s\n",
      "611:\tlearn: 0.1079569\ttotal: 31.6s\tremaining: 20s\n",
      "612:\tlearn: 0.1077190\ttotal: 31.6s\tremaining: 20s\n",
      "613:\tlearn: 0.1076321\ttotal: 31.7s\tremaining: 19.9s\n",
      "614:\tlearn: 0.1075556\ttotal: 31.8s\tremaining: 19.9s\n",
      "615:\tlearn: 0.1074771\ttotal: 31.8s\tremaining: 19.8s\n",
      "616:\tlearn: 0.1072794\ttotal: 31.9s\tremaining: 19.8s\n",
      "617:\tlearn: 0.1071546\ttotal: 31.9s\tremaining: 19.7s\n",
      "618:\tlearn: 0.1070750\ttotal: 32s\tremaining: 19.7s\n",
      "619:\tlearn: 0.1069466\ttotal: 32s\tremaining: 19.6s\n",
      "620:\tlearn: 0.1067834\ttotal: 32.1s\tremaining: 19.6s\n",
      "621:\tlearn: 0.1066739\ttotal: 32.1s\tremaining: 19.5s\n",
      "622:\tlearn: 0.1065971\ttotal: 32.2s\tremaining: 19.5s\n",
      "623:\tlearn: 0.1064708\ttotal: 32.2s\tremaining: 19.4s\n",
      "624:\tlearn: 0.1063512\ttotal: 32.3s\tremaining: 19.4s\n",
      "625:\tlearn: 0.1062955\ttotal: 32.3s\tremaining: 19.3s\n",
      "626:\tlearn: 0.1062096\ttotal: 32.4s\tremaining: 19.3s\n",
      "627:\tlearn: 0.1061696\ttotal: 32.4s\tremaining: 19.2s\n",
      "628:\tlearn: 0.1060003\ttotal: 32.5s\tremaining: 19.1s\n",
      "629:\tlearn: 0.1058472\ttotal: 32.5s\tremaining: 19.1s\n",
      "630:\tlearn: 0.1057852\ttotal: 32.6s\tremaining: 19s\n",
      "631:\tlearn: 0.1056830\ttotal: 32.6s\tremaining: 19s\n",
      "632:\tlearn: 0.1055318\ttotal: 32.6s\tremaining: 18.9s\n",
      "633:\tlearn: 0.1053287\ttotal: 32.7s\tremaining: 18.9s\n",
      "634:\tlearn: 0.1051923\ttotal: 32.7s\tremaining: 18.8s\n",
      "635:\tlearn: 0.1050777\ttotal: 32.8s\tremaining: 18.8s\n",
      "636:\tlearn: 0.1048295\ttotal: 32.8s\tremaining: 18.7s\n",
      "637:\tlearn: 0.1047761\ttotal: 32.9s\tremaining: 18.7s\n",
      "638:\tlearn: 0.1047486\ttotal: 33s\tremaining: 18.6s\n",
      "639:\tlearn: 0.1045955\ttotal: 33s\tremaining: 18.6s\n",
      "640:\tlearn: 0.1044795\ttotal: 33.1s\tremaining: 18.5s\n",
      "641:\tlearn: 0.1044113\ttotal: 33.1s\tremaining: 18.5s\n",
      "642:\tlearn: 0.1043359\ttotal: 33.1s\tremaining: 18.4s\n",
      "643:\tlearn: 0.1042669\ttotal: 33.2s\tremaining: 18.4s\n",
      "644:\tlearn: 0.1040332\ttotal: 33.2s\tremaining: 18.3s\n",
      "645:\tlearn: 0.1039850\ttotal: 33.3s\tremaining: 18.2s\n",
      "646:\tlearn: 0.1038415\ttotal: 33.3s\tremaining: 18.2s\n",
      "647:\tlearn: 0.1037034\ttotal: 33.4s\tremaining: 18.1s\n",
      "648:\tlearn: 0.1036498\ttotal: 33.4s\tremaining: 18.1s\n",
      "649:\tlearn: 0.1036049\ttotal: 33.5s\tremaining: 18s\n",
      "650:\tlearn: 0.1034860\ttotal: 33.5s\tremaining: 18s\n",
      "651:\tlearn: 0.1033740\ttotal: 33.6s\tremaining: 17.9s\n",
      "652:\tlearn: 0.1033101\ttotal: 33.7s\tremaining: 17.9s\n",
      "653:\tlearn: 0.1032622\ttotal: 33.7s\tremaining: 17.8s\n",
      "654:\tlearn: 0.1032267\ttotal: 33.8s\tremaining: 17.8s\n",
      "655:\tlearn: 0.1030666\ttotal: 33.8s\tremaining: 17.7s\n",
      "656:\tlearn: 0.1028748\ttotal: 33.9s\tremaining: 17.7s\n",
      "657:\tlearn: 0.1027791\ttotal: 33.9s\tremaining: 17.6s\n",
      "658:\tlearn: 0.1026362\ttotal: 34s\tremaining: 17.6s\n",
      "659:\tlearn: 0.1025860\ttotal: 34s\tremaining: 17.5s\n",
      "660:\tlearn: 0.1025041\ttotal: 34.1s\tremaining: 17.5s\n",
      "661:\tlearn: 0.1024148\ttotal: 34.1s\tremaining: 17.4s\n",
      "662:\tlearn: 0.1023415\ttotal: 34.2s\tremaining: 17.4s\n",
      "663:\tlearn: 0.1022677\ttotal: 34.2s\tremaining: 17.3s\n",
      "664:\tlearn: 0.1021328\ttotal: 34.3s\tremaining: 17.3s\n",
      "665:\tlearn: 0.1020516\ttotal: 34.3s\tremaining: 17.2s\n",
      "666:\tlearn: 0.1019734\ttotal: 34.4s\tremaining: 17.2s\n",
      "667:\tlearn: 0.1017375\ttotal: 34.4s\tremaining: 17.1s\n",
      "668:\tlearn: 0.1016404\ttotal: 34.5s\tremaining: 17.1s\n",
      "669:\tlearn: 0.1016233\ttotal: 34.5s\tremaining: 17s\n",
      "670:\tlearn: 0.1015519\ttotal: 34.6s\tremaining: 16.9s\n",
      "671:\tlearn: 0.1013650\ttotal: 34.6s\tremaining: 16.9s\n",
      "672:\tlearn: 0.1012798\ttotal: 34.7s\tremaining: 16.8s\n",
      "673:\tlearn: 0.1011533\ttotal: 34.7s\tremaining: 16.8s\n",
      "674:\tlearn: 0.1010473\ttotal: 34.7s\tremaining: 16.7s\n",
      "675:\tlearn: 0.1008490\ttotal: 34.8s\tremaining: 16.7s\n",
      "676:\tlearn: 0.1007385\ttotal: 34.8s\tremaining: 16.6s\n",
      "677:\tlearn: 0.1006517\ttotal: 34.9s\tremaining: 16.6s\n",
      "678:\tlearn: 0.1006136\ttotal: 34.9s\tremaining: 16.5s\n",
      "679:\tlearn: 0.1005819\ttotal: 35s\tremaining: 16.5s\n",
      "680:\tlearn: 0.1005117\ttotal: 35s\tremaining: 16.4s\n",
      "681:\tlearn: 0.1004277\ttotal: 35.1s\tremaining: 16.4s\n",
      "682:\tlearn: 0.1002827\ttotal: 35.1s\tremaining: 16.3s\n",
      "683:\tlearn: 0.1001612\ttotal: 35.2s\tremaining: 16.3s\n",
      "684:\tlearn: 0.1001048\ttotal: 35.2s\tremaining: 16.2s\n",
      "685:\tlearn: 0.1000584\ttotal: 35.3s\tremaining: 16.2s\n",
      "686:\tlearn: 0.0997919\ttotal: 35.3s\tremaining: 16.1s\n",
      "687:\tlearn: 0.0996429\ttotal: 35.4s\tremaining: 16s\n",
      "688:\tlearn: 0.0995657\ttotal: 35.4s\tremaining: 16s\n",
      "689:\tlearn: 0.0995080\ttotal: 35.5s\tremaining: 15.9s\n",
      "690:\tlearn: 0.0993901\ttotal: 35.5s\tremaining: 15.9s\n",
      "691:\tlearn: 0.0992964\ttotal: 35.6s\tremaining: 15.8s\n",
      "692:\tlearn: 0.0991878\ttotal: 35.6s\tremaining: 15.8s\n",
      "693:\tlearn: 0.0990825\ttotal: 35.7s\tremaining: 15.7s\n",
      "694:\tlearn: 0.0989264\ttotal: 35.7s\tremaining: 15.7s\n",
      "695:\tlearn: 0.0988195\ttotal: 35.8s\tremaining: 15.6s\n",
      "696:\tlearn: 0.0987760\ttotal: 35.8s\tremaining: 15.6s\n",
      "697:\tlearn: 0.0987351\ttotal: 35.9s\tremaining: 15.5s\n",
      "698:\tlearn: 0.0986595\ttotal: 35.9s\tremaining: 15.5s\n",
      "699:\tlearn: 0.0985980\ttotal: 36s\tremaining: 15.4s\n",
      "700:\tlearn: 0.0984692\ttotal: 36s\tremaining: 15.4s\n",
      "701:\tlearn: 0.0984637\ttotal: 36s\tremaining: 15.3s\n",
      "702:\tlearn: 0.0982685\ttotal: 36.1s\tremaining: 15.2s\n",
      "703:\tlearn: 0.0981547\ttotal: 36.1s\tremaining: 15.2s\n",
      "704:\tlearn: 0.0981099\ttotal: 36.2s\tremaining: 15.1s\n",
      "705:\tlearn: 0.0981087\ttotal: 36.2s\tremaining: 15.1s\n",
      "706:\tlearn: 0.0980077\ttotal: 36.2s\tremaining: 15s\n",
      "707:\tlearn: 0.0978936\ttotal: 36.3s\tremaining: 15s\n",
      "708:\tlearn: 0.0977712\ttotal: 36.3s\tremaining: 14.9s\n",
      "709:\tlearn: 0.0976853\ttotal: 36.4s\tremaining: 14.9s\n",
      "710:\tlearn: 0.0976422\ttotal: 36.4s\tremaining: 14.8s\n",
      "711:\tlearn: 0.0975693\ttotal: 36.5s\tremaining: 14.8s\n",
      "712:\tlearn: 0.0975110\ttotal: 36.5s\tremaining: 14.7s\n",
      "713:\tlearn: 0.0974788\ttotal: 36.6s\tremaining: 14.7s\n",
      "714:\tlearn: 0.0974489\ttotal: 36.6s\tremaining: 14.6s\n",
      "715:\tlearn: 0.0973759\ttotal: 36.7s\tremaining: 14.6s\n",
      "716:\tlearn: 0.0972335\ttotal: 36.7s\tremaining: 14.5s\n",
      "717:\tlearn: 0.0971588\ttotal: 36.8s\tremaining: 14.4s\n",
      "718:\tlearn: 0.0971321\ttotal: 36.8s\tremaining: 14.4s\n",
      "719:\tlearn: 0.0970647\ttotal: 36.9s\tremaining: 14.3s\n",
      "720:\tlearn: 0.0969262\ttotal: 36.9s\tremaining: 14.3s\n",
      "721:\tlearn: 0.0968365\ttotal: 37s\tremaining: 14.2s\n",
      "722:\tlearn: 0.0967196\ttotal: 37s\tremaining: 14.2s\n",
      "723:\tlearn: 0.0965766\ttotal: 37.1s\tremaining: 14.1s\n",
      "724:\tlearn: 0.0964793\ttotal: 37.1s\tremaining: 14.1s\n",
      "725:\tlearn: 0.0963425\ttotal: 37.2s\tremaining: 14s\n",
      "726:\tlearn: 0.0962487\ttotal: 37.2s\tremaining: 14s\n",
      "727:\tlearn: 0.0961759\ttotal: 37.2s\tremaining: 13.9s\n",
      "728:\tlearn: 0.0960800\ttotal: 37.3s\tremaining: 13.9s\n",
      "729:\tlearn: 0.0960029\ttotal: 37.3s\tremaining: 13.8s\n",
      "730:\tlearn: 0.0959259\ttotal: 37.4s\tremaining: 13.8s\n",
      "731:\tlearn: 0.0958371\ttotal: 37.4s\tremaining: 13.7s\n",
      "732:\tlearn: 0.0957671\ttotal: 37.5s\tremaining: 13.7s\n",
      "733:\tlearn: 0.0955398\ttotal: 37.5s\tremaining: 13.6s\n",
      "734:\tlearn: 0.0954643\ttotal: 37.6s\tremaining: 13.5s\n",
      "735:\tlearn: 0.0954340\ttotal: 37.6s\tremaining: 13.5s\n",
      "736:\tlearn: 0.0953933\ttotal: 37.7s\tremaining: 13.4s\n",
      "737:\tlearn: 0.0952640\ttotal: 37.7s\tremaining: 13.4s\n",
      "738:\tlearn: 0.0951034\ttotal: 37.8s\tremaining: 13.3s\n",
      "739:\tlearn: 0.0949235\ttotal: 37.8s\tremaining: 13.3s\n",
      "740:\tlearn: 0.0947502\ttotal: 37.9s\tremaining: 13.2s\n",
      "741:\tlearn: 0.0946963\ttotal: 37.9s\tremaining: 13.2s\n",
      "742:\tlearn: 0.0946131\ttotal: 38s\tremaining: 13.1s\n",
      "743:\tlearn: 0.0945788\ttotal: 38s\tremaining: 13.1s\n",
      "744:\tlearn: 0.0945666\ttotal: 38s\tremaining: 13s\n",
      "745:\tlearn: 0.0943754\ttotal: 38.1s\tremaining: 13s\n",
      "746:\tlearn: 0.0943078\ttotal: 38.1s\tremaining: 12.9s\n",
      "747:\tlearn: 0.0942390\ttotal: 38.2s\tremaining: 12.9s\n",
      "748:\tlearn: 0.0941231\ttotal: 38.2s\tremaining: 12.8s\n",
      "749:\tlearn: 0.0941045\ttotal: 38.3s\tremaining: 12.8s\n",
      "750:\tlearn: 0.0940362\ttotal: 38.3s\tremaining: 12.7s\n",
      "751:\tlearn: 0.0939057\ttotal: 38.4s\tremaining: 12.7s\n",
      "752:\tlearn: 0.0938009\ttotal: 38.4s\tremaining: 12.6s\n",
      "753:\tlearn: 0.0937331\ttotal: 38.5s\tremaining: 12.6s\n",
      "754:\tlearn: 0.0935630\ttotal: 38.6s\tremaining: 12.5s\n",
      "755:\tlearn: 0.0934190\ttotal: 38.6s\tremaining: 12.5s\n",
      "756:\tlearn: 0.0932754\ttotal: 38.7s\tremaining: 12.4s\n",
      "757:\tlearn: 0.0932098\ttotal: 38.7s\tremaining: 12.4s\n",
      "758:\tlearn: 0.0931142\ttotal: 38.8s\tremaining: 12.3s\n",
      "759:\tlearn: 0.0930458\ttotal: 38.8s\tremaining: 12.3s\n",
      "760:\tlearn: 0.0929403\ttotal: 38.9s\tremaining: 12.2s\n",
      "761:\tlearn: 0.0928707\ttotal: 38.9s\tremaining: 12.2s\n",
      "762:\tlearn: 0.0928101\ttotal: 39s\tremaining: 12.1s\n",
      "763:\tlearn: 0.0927298\ttotal: 39s\tremaining: 12s\n",
      "764:\tlearn: 0.0925918\ttotal: 39.1s\tremaining: 12s\n",
      "765:\tlearn: 0.0925587\ttotal: 39.1s\tremaining: 11.9s\n",
      "766:\tlearn: 0.0925254\ttotal: 39.1s\tremaining: 11.9s\n",
      "767:\tlearn: 0.0923562\ttotal: 39.2s\tremaining: 11.8s\n",
      "768:\tlearn: 0.0922231\ttotal: 39.3s\tremaining: 11.8s\n",
      "769:\tlearn: 0.0921841\ttotal: 39.3s\tremaining: 11.7s\n",
      "770:\tlearn: 0.0920780\ttotal: 39.4s\tremaining: 11.7s\n",
      "771:\tlearn: 0.0920332\ttotal: 39.4s\tremaining: 11.6s\n",
      "772:\tlearn: 0.0919520\ttotal: 39.5s\tremaining: 11.6s\n",
      "773:\tlearn: 0.0918989\ttotal: 39.5s\tremaining: 11.5s\n",
      "774:\tlearn: 0.0918364\ttotal: 39.6s\tremaining: 11.5s\n",
      "775:\tlearn: 0.0918027\ttotal: 39.6s\tremaining: 11.4s\n",
      "776:\tlearn: 0.0917342\ttotal: 39.7s\tremaining: 11.4s\n",
      "777:\tlearn: 0.0917116\ttotal: 39.7s\tremaining: 11.3s\n",
      "778:\tlearn: 0.0916751\ttotal: 39.7s\tremaining: 11.3s\n",
      "779:\tlearn: 0.0916408\ttotal: 39.8s\tremaining: 11.2s\n",
      "780:\tlearn: 0.0915130\ttotal: 39.8s\tremaining: 11.2s\n",
      "781:\tlearn: 0.0914892\ttotal: 39.9s\tremaining: 11.1s\n",
      "782:\tlearn: 0.0914390\ttotal: 39.9s\tremaining: 11.1s\n",
      "783:\tlearn: 0.0913698\ttotal: 40s\tremaining: 11s\n",
      "784:\tlearn: 0.0913306\ttotal: 40s\tremaining: 11s\n",
      "785:\tlearn: 0.0912346\ttotal: 40.1s\tremaining: 10.9s\n",
      "786:\tlearn: 0.0910819\ttotal: 40.1s\tremaining: 10.9s\n",
      "787:\tlearn: 0.0910147\ttotal: 40.2s\tremaining: 10.8s\n",
      "788:\tlearn: 0.0909686\ttotal: 40.2s\tremaining: 10.8s\n",
      "789:\tlearn: 0.0908864\ttotal: 40.3s\tremaining: 10.7s\n",
      "790:\tlearn: 0.0907416\ttotal: 40.3s\tremaining: 10.7s\n",
      "791:\tlearn: 0.0906487\ttotal: 40.4s\tremaining: 10.6s\n",
      "792:\tlearn: 0.0905031\ttotal: 40.4s\tremaining: 10.6s\n",
      "793:\tlearn: 0.0904178\ttotal: 40.5s\tremaining: 10.5s\n",
      "794:\tlearn: 0.0903643\ttotal: 40.5s\tremaining: 10.4s\n",
      "795:\tlearn: 0.0903254\ttotal: 40.6s\tremaining: 10.4s\n",
      "796:\tlearn: 0.0901857\ttotal: 40.6s\tremaining: 10.3s\n",
      "797:\tlearn: 0.0901178\ttotal: 40.7s\tremaining: 10.3s\n",
      "798:\tlearn: 0.0900660\ttotal: 40.7s\tremaining: 10.2s\n",
      "799:\tlearn: 0.0899563\ttotal: 40.8s\tremaining: 10.2s\n",
      "800:\tlearn: 0.0899307\ttotal: 40.8s\tremaining: 10.1s\n",
      "801:\tlearn: 0.0898675\ttotal: 40.9s\tremaining: 10.1s\n",
      "802:\tlearn: 0.0897480\ttotal: 40.9s\tremaining: 10s\n",
      "803:\tlearn: 0.0896753\ttotal: 41s\tremaining: 9.99s\n",
      "804:\tlearn: 0.0895459\ttotal: 41s\tremaining: 9.94s\n",
      "805:\tlearn: 0.0894846\ttotal: 41.1s\tremaining: 9.88s\n",
      "806:\tlearn: 0.0894023\ttotal: 41.1s\tremaining: 9.83s\n",
      "807:\tlearn: 0.0892357\ttotal: 41.2s\tremaining: 9.78s\n",
      "808:\tlearn: 0.0891576\ttotal: 41.2s\tremaining: 9.73s\n",
      "809:\tlearn: 0.0889817\ttotal: 41.3s\tremaining: 9.68s\n",
      "810:\tlearn: 0.0889120\ttotal: 41.3s\tremaining: 9.63s\n",
      "811:\tlearn: 0.0887921\ttotal: 41.4s\tremaining: 9.58s\n",
      "812:\tlearn: 0.0886992\ttotal: 41.4s\tremaining: 9.53s\n",
      "813:\tlearn: 0.0885910\ttotal: 41.5s\tremaining: 9.48s\n",
      "814:\tlearn: 0.0885507\ttotal: 41.5s\tremaining: 9.43s\n",
      "815:\tlearn: 0.0884548\ttotal: 41.6s\tremaining: 9.38s\n",
      "816:\tlearn: 0.0882948\ttotal: 41.6s\tremaining: 9.32s\n",
      "817:\tlearn: 0.0882489\ttotal: 41.7s\tremaining: 9.27s\n",
      "818:\tlearn: 0.0881635\ttotal: 41.7s\tremaining: 9.22s\n",
      "819:\tlearn: 0.0880499\ttotal: 41.8s\tremaining: 9.17s\n",
      "820:\tlearn: 0.0879750\ttotal: 41.8s\tremaining: 9.12s\n",
      "821:\tlearn: 0.0879158\ttotal: 41.9s\tremaining: 9.07s\n",
      "822:\tlearn: 0.0878408\ttotal: 41.9s\tremaining: 9.02s\n",
      "823:\tlearn: 0.0877870\ttotal: 42s\tremaining: 8.96s\n",
      "824:\tlearn: 0.0877197\ttotal: 42s\tremaining: 8.91s\n",
      "825:\tlearn: 0.0876720\ttotal: 42.1s\tremaining: 8.86s\n",
      "826:\tlearn: 0.0876254\ttotal: 42.1s\tremaining: 8.81s\n",
      "827:\tlearn: 0.0875622\ttotal: 42.2s\tremaining: 8.76s\n",
      "828:\tlearn: 0.0875358\ttotal: 42.2s\tremaining: 8.71s\n",
      "829:\tlearn: 0.0874542\ttotal: 42.3s\tremaining: 8.66s\n",
      "830:\tlearn: 0.0873453\ttotal: 42.3s\tremaining: 8.61s\n",
      "831:\tlearn: 0.0872716\ttotal: 42.4s\tremaining: 8.55s\n",
      "832:\tlearn: 0.0870743\ttotal: 42.4s\tremaining: 8.5s\n",
      "833:\tlearn: 0.0870113\ttotal: 42.5s\tremaining: 8.45s\n",
      "834:\tlearn: 0.0869593\ttotal: 42.5s\tremaining: 8.4s\n",
      "835:\tlearn: 0.0868609\ttotal: 42.6s\tremaining: 8.35s\n",
      "836:\tlearn: 0.0867817\ttotal: 42.6s\tremaining: 8.3s\n",
      "837:\tlearn: 0.0867314\ttotal: 42.7s\tremaining: 8.25s\n",
      "838:\tlearn: 0.0867293\ttotal: 42.7s\tremaining: 8.19s\n",
      "839:\tlearn: 0.0866629\ttotal: 42.7s\tremaining: 8.14s\n",
      "840:\tlearn: 0.0866334\ttotal: 42.8s\tremaining: 8.09s\n",
      "841:\tlearn: 0.0865694\ttotal: 42.8s\tremaining: 8.04s\n",
      "842:\tlearn: 0.0865068\ttotal: 42.9s\tremaining: 7.98s\n",
      "843:\tlearn: 0.0864659\ttotal: 42.9s\tremaining: 7.93s\n",
      "844:\tlearn: 0.0863278\ttotal: 43s\tremaining: 7.88s\n",
      "845:\tlearn: 0.0862689\ttotal: 43s\tremaining: 7.83s\n",
      "846:\tlearn: 0.0862086\ttotal: 43.1s\tremaining: 7.78s\n",
      "847:\tlearn: 0.0861386\ttotal: 43.1s\tremaining: 7.73s\n",
      "848:\tlearn: 0.0860268\ttotal: 43.2s\tremaining: 7.68s\n",
      "849:\tlearn: 0.0859245\ttotal: 43.2s\tremaining: 7.63s\n",
      "850:\tlearn: 0.0858033\ttotal: 43.3s\tremaining: 7.57s\n",
      "851:\tlearn: 0.0856908\ttotal: 43.3s\tremaining: 7.52s\n",
      "852:\tlearn: 0.0856572\ttotal: 43.4s\tremaining: 7.47s\n",
      "853:\tlearn: 0.0856020\ttotal: 43.4s\tremaining: 7.42s\n",
      "854:\tlearn: 0.0855573\ttotal: 43.5s\tremaining: 7.37s\n",
      "855:\tlearn: 0.0855115\ttotal: 43.5s\tremaining: 7.32s\n",
      "856:\tlearn: 0.0854755\ttotal: 43.6s\tremaining: 7.27s\n",
      "857:\tlearn: 0.0854342\ttotal: 43.6s\tremaining: 7.22s\n",
      "858:\tlearn: 0.0853205\ttotal: 43.7s\tremaining: 7.17s\n",
      "859:\tlearn: 0.0852954\ttotal: 43.7s\tremaining: 7.11s\n",
      "860:\tlearn: 0.0851805\ttotal: 43.8s\tremaining: 7.06s\n",
      "861:\tlearn: 0.0850209\ttotal: 43.8s\tremaining: 7.01s\n",
      "862:\tlearn: 0.0849186\ttotal: 43.8s\tremaining: 6.96s\n",
      "863:\tlearn: 0.0848217\ttotal: 43.9s\tremaining: 6.91s\n",
      "864:\tlearn: 0.0847648\ttotal: 43.9s\tremaining: 6.86s\n",
      "865:\tlearn: 0.0846556\ttotal: 44s\tremaining: 6.81s\n",
      "866:\tlearn: 0.0846207\ttotal: 44s\tremaining: 6.76s\n",
      "867:\tlearn: 0.0845435\ttotal: 44.1s\tremaining: 6.71s\n",
      "868:\tlearn: 0.0844576\ttotal: 44.1s\tremaining: 6.65s\n",
      "869:\tlearn: 0.0843421\ttotal: 44.2s\tremaining: 6.6s\n",
      "870:\tlearn: 0.0842293\ttotal: 44.2s\tremaining: 6.55s\n",
      "871:\tlearn: 0.0840976\ttotal: 44.3s\tremaining: 6.5s\n",
      "872:\tlearn: 0.0839652\ttotal: 44.3s\tremaining: 6.45s\n",
      "873:\tlearn: 0.0838825\ttotal: 44.4s\tremaining: 6.4s\n",
      "874:\tlearn: 0.0837858\ttotal: 44.4s\tremaining: 6.35s\n",
      "875:\tlearn: 0.0837300\ttotal: 44.5s\tremaining: 6.3s\n",
      "876:\tlearn: 0.0836626\ttotal: 44.5s\tremaining: 6.25s\n",
      "877:\tlearn: 0.0835914\ttotal: 44.6s\tremaining: 6.19s\n",
      "878:\tlearn: 0.0835465\ttotal: 44.6s\tremaining: 6.14s\n",
      "879:\tlearn: 0.0834931\ttotal: 44.7s\tremaining: 6.09s\n",
      "880:\tlearn: 0.0834350\ttotal: 44.7s\tremaining: 6.04s\n",
      "881:\tlearn: 0.0834012\ttotal: 44.8s\tremaining: 5.99s\n",
      "882:\tlearn: 0.0833495\ttotal: 44.8s\tremaining: 5.94s\n",
      "883:\tlearn: 0.0832590\ttotal: 44.9s\tremaining: 5.89s\n",
      "884:\tlearn: 0.0831479\ttotal: 44.9s\tremaining: 5.84s\n",
      "885:\tlearn: 0.0830918\ttotal: 45s\tremaining: 5.79s\n",
      "886:\tlearn: 0.0830505\ttotal: 45s\tremaining: 5.73s\n",
      "887:\tlearn: 0.0830163\ttotal: 45.1s\tremaining: 5.68s\n",
      "888:\tlearn: 0.0829724\ttotal: 45.1s\tremaining: 5.63s\n",
      "889:\tlearn: 0.0828919\ttotal: 45.2s\tremaining: 5.58s\n",
      "890:\tlearn: 0.0827764\ttotal: 45.2s\tremaining: 5.53s\n",
      "891:\tlearn: 0.0826746\ttotal: 45.3s\tremaining: 5.48s\n",
      "892:\tlearn: 0.0826028\ttotal: 45.3s\tremaining: 5.43s\n",
      "893:\tlearn: 0.0825109\ttotal: 45.4s\tremaining: 5.38s\n",
      "894:\tlearn: 0.0824298\ttotal: 45.4s\tremaining: 5.33s\n",
      "895:\tlearn: 0.0823987\ttotal: 45.5s\tremaining: 5.28s\n",
      "896:\tlearn: 0.0822843\ttotal: 45.5s\tremaining: 5.22s\n",
      "897:\tlearn: 0.0821900\ttotal: 45.6s\tremaining: 5.17s\n",
      "898:\tlearn: 0.0820928\ttotal: 45.6s\tremaining: 5.12s\n",
      "899:\tlearn: 0.0820367\ttotal: 45.7s\tremaining: 5.07s\n",
      "900:\tlearn: 0.0818924\ttotal: 45.7s\tremaining: 5.02s\n",
      "901:\tlearn: 0.0817523\ttotal: 45.7s\tremaining: 4.97s\n",
      "902:\tlearn: 0.0816495\ttotal: 45.8s\tremaining: 4.92s\n",
      "903:\tlearn: 0.0816041\ttotal: 45.8s\tremaining: 4.87s\n",
      "904:\tlearn: 0.0815326\ttotal: 45.9s\tremaining: 4.82s\n",
      "905:\tlearn: 0.0814058\ttotal: 45.9s\tremaining: 4.76s\n",
      "906:\tlearn: 0.0812762\ttotal: 46s\tremaining: 4.71s\n",
      "907:\tlearn: 0.0811741\ttotal: 46s\tremaining: 4.66s\n",
      "908:\tlearn: 0.0811403\ttotal: 46.1s\tremaining: 4.61s\n",
      "909:\tlearn: 0.0810734\ttotal: 46.1s\tremaining: 4.56s\n",
      "910:\tlearn: 0.0810111\ttotal: 46.2s\tremaining: 4.51s\n",
      "911:\tlearn: 0.0809112\ttotal: 46.2s\tremaining: 4.46s\n",
      "912:\tlearn: 0.0808392\ttotal: 46.3s\tremaining: 4.41s\n",
      "913:\tlearn: 0.0808035\ttotal: 46.3s\tremaining: 4.36s\n",
      "914:\tlearn: 0.0807150\ttotal: 46.4s\tremaining: 4.31s\n",
      "915:\tlearn: 0.0805819\ttotal: 46.4s\tremaining: 4.26s\n",
      "916:\tlearn: 0.0805312\ttotal: 46.5s\tremaining: 4.21s\n",
      "917:\tlearn: 0.0803886\ttotal: 46.5s\tremaining: 4.16s\n",
      "918:\tlearn: 0.0803829\ttotal: 46.6s\tremaining: 4.1s\n",
      "919:\tlearn: 0.0803629\ttotal: 46.6s\tremaining: 4.05s\n",
      "920:\tlearn: 0.0803153\ttotal: 46.7s\tremaining: 4s\n",
      "921:\tlearn: 0.0802563\ttotal: 46.7s\tremaining: 3.95s\n",
      "922:\tlearn: 0.0802046\ttotal: 46.8s\tremaining: 3.9s\n",
      "923:\tlearn: 0.0801633\ttotal: 46.8s\tremaining: 3.85s\n",
      "924:\tlearn: 0.0801209\ttotal: 46.8s\tremaining: 3.8s\n",
      "925:\tlearn: 0.0800541\ttotal: 46.9s\tremaining: 3.75s\n",
      "926:\tlearn: 0.0799850\ttotal: 46.9s\tremaining: 3.7s\n",
      "927:\tlearn: 0.0799173\ttotal: 47s\tremaining: 3.65s\n",
      "928:\tlearn: 0.0798510\ttotal: 47s\tremaining: 3.6s\n",
      "929:\tlearn: 0.0796956\ttotal: 47.1s\tremaining: 3.54s\n",
      "930:\tlearn: 0.0796331\ttotal: 47.1s\tremaining: 3.49s\n",
      "931:\tlearn: 0.0795471\ttotal: 47.2s\tremaining: 3.44s\n",
      "932:\tlearn: 0.0794443\ttotal: 47.2s\tremaining: 3.39s\n",
      "933:\tlearn: 0.0793518\ttotal: 47.3s\tremaining: 3.34s\n",
      "934:\tlearn: 0.0793155\ttotal: 47.3s\tremaining: 3.29s\n",
      "935:\tlearn: 0.0792562\ttotal: 47.4s\tremaining: 3.24s\n",
      "936:\tlearn: 0.0791903\ttotal: 47.4s\tremaining: 3.19s\n",
      "937:\tlearn: 0.0791102\ttotal: 47.5s\tremaining: 3.14s\n",
      "938:\tlearn: 0.0790054\ttotal: 47.5s\tremaining: 3.09s\n",
      "939:\tlearn: 0.0789482\ttotal: 47.6s\tremaining: 3.04s\n",
      "940:\tlearn: 0.0788564\ttotal: 47.6s\tremaining: 2.99s\n",
      "941:\tlearn: 0.0787975\ttotal: 47.7s\tremaining: 2.94s\n",
      "942:\tlearn: 0.0787177\ttotal: 47.7s\tremaining: 2.88s\n",
      "943:\tlearn: 0.0786766\ttotal: 47.8s\tremaining: 2.83s\n",
      "944:\tlearn: 0.0786325\ttotal: 47.8s\tremaining: 2.78s\n",
      "945:\tlearn: 0.0784992\ttotal: 47.9s\tremaining: 2.73s\n",
      "946:\tlearn: 0.0784081\ttotal: 47.9s\tremaining: 2.68s\n",
      "947:\tlearn: 0.0783741\ttotal: 48s\tremaining: 2.63s\n",
      "948:\tlearn: 0.0783210\ttotal: 48s\tremaining: 2.58s\n",
      "949:\tlearn: 0.0782947\ttotal: 48.1s\tremaining: 2.53s\n",
      "950:\tlearn: 0.0782544\ttotal: 48.2s\tremaining: 2.48s\n",
      "951:\tlearn: 0.0781779\ttotal: 48.2s\tremaining: 2.43s\n",
      "952:\tlearn: 0.0781001\ttotal: 48.3s\tremaining: 2.38s\n",
      "953:\tlearn: 0.0780211\ttotal: 48.3s\tremaining: 2.33s\n",
      "954:\tlearn: 0.0779827\ttotal: 48.4s\tremaining: 2.28s\n",
      "955:\tlearn: 0.0779438\ttotal: 48.4s\tremaining: 2.23s\n",
      "956:\tlearn: 0.0778882\ttotal: 48.5s\tremaining: 2.18s\n",
      "957:\tlearn: 0.0778540\ttotal: 48.5s\tremaining: 2.13s\n",
      "958:\tlearn: 0.0778086\ttotal: 48.6s\tremaining: 2.08s\n",
      "959:\tlearn: 0.0776953\ttotal: 48.6s\tremaining: 2.03s\n",
      "960:\tlearn: 0.0776180\ttotal: 48.7s\tremaining: 1.98s\n",
      "961:\tlearn: 0.0775703\ttotal: 48.7s\tremaining: 1.93s\n",
      "962:\tlearn: 0.0774339\ttotal: 48.8s\tremaining: 1.87s\n",
      "963:\tlearn: 0.0773229\ttotal: 48.8s\tremaining: 1.82s\n",
      "964:\tlearn: 0.0772537\ttotal: 48.9s\tremaining: 1.77s\n",
      "965:\tlearn: 0.0771868\ttotal: 48.9s\tremaining: 1.72s\n",
      "966:\tlearn: 0.0771511\ttotal: 49s\tremaining: 1.67s\n",
      "967:\tlearn: 0.0770924\ttotal: 49s\tremaining: 1.62s\n",
      "968:\tlearn: 0.0770466\ttotal: 49.1s\tremaining: 1.57s\n",
      "969:\tlearn: 0.0770020\ttotal: 49.1s\tremaining: 1.52s\n",
      "970:\tlearn: 0.0769765\ttotal: 49.2s\tremaining: 1.47s\n",
      "971:\tlearn: 0.0769528\ttotal: 49.3s\tremaining: 1.42s\n",
      "972:\tlearn: 0.0768770\ttotal: 49.3s\tremaining: 1.37s\n",
      "973:\tlearn: 0.0768483\ttotal: 49.4s\tremaining: 1.32s\n",
      "974:\tlearn: 0.0767756\ttotal: 49.4s\tremaining: 1.27s\n",
      "975:\tlearn: 0.0766976\ttotal: 49.5s\tremaining: 1.22s\n",
      "976:\tlearn: 0.0766656\ttotal: 49.5s\tremaining: 1.17s\n",
      "977:\tlearn: 0.0765472\ttotal: 49.6s\tremaining: 1.11s\n",
      "978:\tlearn: 0.0764565\ttotal: 49.6s\tremaining: 1.06s\n",
      "979:\tlearn: 0.0764072\ttotal: 49.7s\tremaining: 1.01s\n",
      "980:\tlearn: 0.0763392\ttotal: 49.7s\tremaining: 963ms\n",
      "981:\tlearn: 0.0762798\ttotal: 49.8s\tremaining: 912ms\n",
      "982:\tlearn: 0.0762284\ttotal: 49.8s\tremaining: 862ms\n",
      "983:\tlearn: 0.0761231\ttotal: 49.9s\tremaining: 811ms\n",
      "984:\tlearn: 0.0760792\ttotal: 49.9s\tremaining: 760ms\n",
      "985:\tlearn: 0.0760540\ttotal: 50s\tremaining: 710ms\n",
      "986:\tlearn: 0.0760069\ttotal: 50s\tremaining: 659ms\n",
      "987:\tlearn: 0.0759410\ttotal: 50.1s\tremaining: 608ms\n",
      "988:\tlearn: 0.0758898\ttotal: 50.1s\tremaining: 557ms\n",
      "989:\tlearn: 0.0758180\ttotal: 50.2s\tremaining: 507ms\n",
      "990:\tlearn: 0.0757414\ttotal: 50.2s\tremaining: 456ms\n",
      "991:\tlearn: 0.0756539\ttotal: 50.3s\tremaining: 405ms\n",
      "992:\tlearn: 0.0755894\ttotal: 50.3s\tremaining: 355ms\n",
      "993:\tlearn: 0.0755536\ttotal: 50.4s\tremaining: 304ms\n",
      "994:\tlearn: 0.0755118\ttotal: 50.4s\tremaining: 253ms\n",
      "995:\tlearn: 0.0754291\ttotal: 50.5s\tremaining: 203ms\n",
      "996:\tlearn: 0.0753756\ttotal: 50.5s\tremaining: 152ms\n",
      "997:\tlearn: 0.0753472\ttotal: 50.6s\tremaining: 101ms\n",
      "998:\tlearn: 0.0753039\ttotal: 50.6s\tremaining: 50.7ms\n",
      "999:\tlearn: 0.0752606\ttotal: 50.7s\tremaining: 0us\n",
      "0:\tlearn: 0.5876507\ttotal: 47.2ms\tremaining: 47.1s\n",
      "1:\tlearn: 0.5149459\ttotal: 93.8ms\tremaining: 46.8s\n",
      "2:\tlearn: 0.4667019\ttotal: 138ms\tremaining: 46s\n",
      "3:\tlearn: 0.4279271\ttotal: 185ms\tremaining: 46.2s\n",
      "4:\tlearn: 0.4027729\ttotal: 232ms\tremaining: 46.3s\n",
      "5:\tlearn: 0.3813144\ttotal: 286ms\tremaining: 47.3s\n",
      "6:\tlearn: 0.3598705\ttotal: 331ms\tremaining: 47s\n",
      "7:\tlearn: 0.3466457\ttotal: 382ms\tremaining: 47.4s\n",
      "8:\tlearn: 0.3335311\ttotal: 430ms\tremaining: 47.3s\n",
      "9:\tlearn: 0.3231910\ttotal: 487ms\tremaining: 48.2s\n",
      "10:\tlearn: 0.3138014\ttotal: 534ms\tremaining: 48s\n",
      "11:\tlearn: 0.3068788\ttotal: 581ms\tremaining: 47.8s\n",
      "12:\tlearn: 0.3003406\ttotal: 628ms\tremaining: 47.7s\n",
      "13:\tlearn: 0.2955196\ttotal: 676ms\tremaining: 47.6s\n",
      "14:\tlearn: 0.2906029\ttotal: 723ms\tremaining: 47.4s\n",
      "15:\tlearn: 0.2870689\ttotal: 768ms\tremaining: 47.3s\n",
      "16:\tlearn: 0.2831318\ttotal: 814ms\tremaining: 47.1s\n",
      "17:\tlearn: 0.2781234\ttotal: 859ms\tremaining: 46.9s\n",
      "18:\tlearn: 0.2756718\ttotal: 905ms\tremaining: 46.8s\n",
      "19:\tlearn: 0.2711139\ttotal: 953ms\tremaining: 46.7s\n",
      "20:\tlearn: 0.2678779\ttotal: 1s\tremaining: 46.8s\n",
      "21:\tlearn: 0.2656335\ttotal: 1.05s\tremaining: 46.8s\n",
      "22:\tlearn: 0.2631424\ttotal: 1.1s\tremaining: 46.9s\n",
      "23:\tlearn: 0.2605300\ttotal: 1.15s\tremaining: 46.7s\n",
      "24:\tlearn: 0.2582529\ttotal: 1.2s\tremaining: 46.8s\n",
      "25:\tlearn: 0.2565736\ttotal: 1.25s\tremaining: 46.7s\n",
      "26:\tlearn: 0.2539214\ttotal: 1.3s\tremaining: 46.8s\n",
      "27:\tlearn: 0.2529372\ttotal: 1.34s\tremaining: 46.7s\n",
      "28:\tlearn: 0.2507734\ttotal: 1.39s\tremaining: 46.7s\n",
      "29:\tlearn: 0.2493200\ttotal: 1.44s\tremaining: 46.6s\n",
      "30:\tlearn: 0.2472132\ttotal: 1.5s\tremaining: 46.8s\n",
      "31:\tlearn: 0.2460274\ttotal: 1.55s\tremaining: 47s\n",
      "32:\tlearn: 0.2452046\ttotal: 1.6s\tremaining: 47.1s\n",
      "33:\tlearn: 0.2445527\ttotal: 1.66s\tremaining: 47.1s\n",
      "34:\tlearn: 0.2426592\ttotal: 1.71s\tremaining: 47.1s\n",
      "35:\tlearn: 0.2408244\ttotal: 1.76s\tremaining: 47s\n",
      "36:\tlearn: 0.2389773\ttotal: 1.8s\tremaining: 46.9s\n",
      "37:\tlearn: 0.2377974\ttotal: 1.85s\tremaining: 46.8s\n",
      "38:\tlearn: 0.2362615\ttotal: 1.9s\tremaining: 46.7s\n",
      "39:\tlearn: 0.2352670\ttotal: 1.94s\tremaining: 46.7s\n",
      "40:\tlearn: 0.2340781\ttotal: 1.99s\tremaining: 46.6s\n",
      "41:\tlearn: 0.2328538\ttotal: 2.04s\tremaining: 46.5s\n",
      "42:\tlearn: 0.2318837\ttotal: 2.09s\tremaining: 46.5s\n",
      "43:\tlearn: 0.2302566\ttotal: 2.13s\tremaining: 46.4s\n",
      "44:\tlearn: 0.2294854\ttotal: 2.18s\tremaining: 46.3s\n",
      "45:\tlearn: 0.2285617\ttotal: 2.23s\tremaining: 46.3s\n",
      "46:\tlearn: 0.2276321\ttotal: 2.29s\tremaining: 46.4s\n",
      "47:\tlearn: 0.2267001\ttotal: 2.34s\tremaining: 46.5s\n",
      "48:\tlearn: 0.2260023\ttotal: 2.39s\tremaining: 46.4s\n",
      "49:\tlearn: 0.2240248\ttotal: 2.44s\tremaining: 46.4s\n",
      "50:\tlearn: 0.2227952\ttotal: 2.49s\tremaining: 46.3s\n",
      "51:\tlearn: 0.2223946\ttotal: 2.54s\tremaining: 46.3s\n",
      "52:\tlearn: 0.2213564\ttotal: 2.59s\tremaining: 46.3s\n",
      "53:\tlearn: 0.2208276\ttotal: 2.64s\tremaining: 46.3s\n",
      "54:\tlearn: 0.2195752\ttotal: 2.69s\tremaining: 46.2s\n",
      "55:\tlearn: 0.2191206\ttotal: 2.74s\tremaining: 46.2s\n",
      "56:\tlearn: 0.2182706\ttotal: 2.78s\tremaining: 46.1s\n",
      "57:\tlearn: 0.2169699\ttotal: 2.84s\tremaining: 46.1s\n",
      "58:\tlearn: 0.2166373\ttotal: 2.89s\tremaining: 46.1s\n",
      "59:\tlearn: 0.2165498\ttotal: 2.9s\tremaining: 45.4s\n",
      "60:\tlearn: 0.2161170\ttotal: 2.95s\tremaining: 45.4s\n",
      "61:\tlearn: 0.2155849\ttotal: 3s\tremaining: 45.4s\n",
      "62:\tlearn: 0.2147601\ttotal: 3.05s\tremaining: 45.4s\n",
      "63:\tlearn: 0.2135403\ttotal: 3.1s\tremaining: 45.3s\n",
      "64:\tlearn: 0.2128690\ttotal: 3.15s\tremaining: 45.4s\n",
      "65:\tlearn: 0.2114509\ttotal: 3.2s\tremaining: 45.3s\n",
      "66:\tlearn: 0.2108441\ttotal: 3.25s\tremaining: 45.3s\n",
      "67:\tlearn: 0.2103322\ttotal: 3.3s\tremaining: 45.3s\n",
      "68:\tlearn: 0.2100728\ttotal: 3.35s\tremaining: 45.3s\n",
      "69:\tlearn: 0.2098105\ttotal: 3.4s\tremaining: 45.2s\n",
      "70:\tlearn: 0.2092867\ttotal: 3.46s\tremaining: 45.3s\n",
      "71:\tlearn: 0.2087569\ttotal: 3.51s\tremaining: 45.2s\n",
      "72:\tlearn: 0.2081440\ttotal: 3.56s\tremaining: 45.2s\n",
      "73:\tlearn: 0.2074343\ttotal: 3.61s\tremaining: 45.2s\n",
      "74:\tlearn: 0.2066838\ttotal: 3.66s\tremaining: 45.2s\n",
      "75:\tlearn: 0.2053633\ttotal: 3.71s\tremaining: 45.1s\n",
      "76:\tlearn: 0.2045265\ttotal: 3.76s\tremaining: 45s\n",
      "77:\tlearn: 0.2033271\ttotal: 3.81s\tremaining: 45s\n",
      "78:\tlearn: 0.2029448\ttotal: 3.86s\tremaining: 45s\n",
      "79:\tlearn: 0.2026761\ttotal: 3.9s\tremaining: 44.9s\n",
      "80:\tlearn: 0.2023735\ttotal: 3.95s\tremaining: 44.9s\n",
      "81:\tlearn: 0.2016243\ttotal: 4.01s\tremaining: 44.8s\n",
      "82:\tlearn: 0.2011399\ttotal: 4.05s\tremaining: 44.8s\n",
      "83:\tlearn: 0.2001930\ttotal: 4.1s\tremaining: 44.7s\n",
      "84:\tlearn: 0.2001854\ttotal: 4.12s\tremaining: 44.3s\n",
      "85:\tlearn: 0.1996214\ttotal: 4.17s\tremaining: 44.3s\n",
      "86:\tlearn: 0.1990291\ttotal: 4.22s\tremaining: 44.3s\n",
      "87:\tlearn: 0.1983180\ttotal: 4.26s\tremaining: 44.2s\n",
      "88:\tlearn: 0.1980323\ttotal: 4.31s\tremaining: 44.2s\n",
      "89:\tlearn: 0.1973787\ttotal: 4.36s\tremaining: 44.1s\n",
      "90:\tlearn: 0.1964602\ttotal: 4.41s\tremaining: 44.1s\n",
      "91:\tlearn: 0.1959633\ttotal: 4.46s\tremaining: 44s\n",
      "92:\tlearn: 0.1954158\ttotal: 4.51s\tremaining: 44s\n",
      "93:\tlearn: 0.1945774\ttotal: 4.56s\tremaining: 44s\n",
      "94:\tlearn: 0.1941845\ttotal: 4.62s\tremaining: 44s\n",
      "95:\tlearn: 0.1936214\ttotal: 4.66s\tremaining: 43.9s\n",
      "96:\tlearn: 0.1931250\ttotal: 4.71s\tremaining: 43.9s\n",
      "97:\tlearn: 0.1926536\ttotal: 4.76s\tremaining: 43.8s\n",
      "98:\tlearn: 0.1916858\ttotal: 4.82s\tremaining: 43.8s\n",
      "99:\tlearn: 0.1914062\ttotal: 4.87s\tremaining: 43.8s\n",
      "100:\tlearn: 0.1907214\ttotal: 4.92s\tremaining: 43.8s\n",
      "101:\tlearn: 0.1898159\ttotal: 4.97s\tremaining: 43.8s\n",
      "102:\tlearn: 0.1891033\ttotal: 5.03s\tremaining: 43.8s\n",
      "103:\tlearn: 0.1884727\ttotal: 5.08s\tremaining: 43.8s\n",
      "104:\tlearn: 0.1878837\ttotal: 5.13s\tremaining: 43.7s\n",
      "105:\tlearn: 0.1874469\ttotal: 5.18s\tremaining: 43.7s\n",
      "106:\tlearn: 0.1870826\ttotal: 5.22s\tremaining: 43.6s\n",
      "107:\tlearn: 0.1868622\ttotal: 5.27s\tremaining: 43.6s\n",
      "108:\tlearn: 0.1863179\ttotal: 5.32s\tremaining: 43.5s\n",
      "109:\tlearn: 0.1859269\ttotal: 5.37s\tremaining: 43.5s\n",
      "110:\tlearn: 0.1856778\ttotal: 5.42s\tremaining: 43.4s\n",
      "111:\tlearn: 0.1849103\ttotal: 5.47s\tremaining: 43.4s\n",
      "112:\tlearn: 0.1843655\ttotal: 5.52s\tremaining: 43.3s\n",
      "113:\tlearn: 0.1839842\ttotal: 5.57s\tremaining: 43.3s\n",
      "114:\tlearn: 0.1834607\ttotal: 5.61s\tremaining: 43.2s\n",
      "115:\tlearn: 0.1827699\ttotal: 5.66s\tremaining: 43.1s\n",
      "116:\tlearn: 0.1824832\ttotal: 5.71s\tremaining: 43.1s\n",
      "117:\tlearn: 0.1817522\ttotal: 5.75s\tremaining: 43s\n",
      "118:\tlearn: 0.1813991\ttotal: 5.8s\tremaining: 43s\n",
      "119:\tlearn: 0.1809296\ttotal: 5.85s\tremaining: 42.9s\n",
      "120:\tlearn: 0.1801185\ttotal: 5.9s\tremaining: 42.9s\n",
      "121:\tlearn: 0.1793909\ttotal: 5.95s\tremaining: 42.8s\n",
      "122:\tlearn: 0.1788866\ttotal: 6s\tremaining: 42.8s\n",
      "123:\tlearn: 0.1785201\ttotal: 6.04s\tremaining: 42.7s\n",
      "124:\tlearn: 0.1778073\ttotal: 6.09s\tremaining: 42.6s\n",
      "125:\tlearn: 0.1774551\ttotal: 6.14s\tremaining: 42.6s\n",
      "126:\tlearn: 0.1772236\ttotal: 6.19s\tremaining: 42.5s\n",
      "127:\tlearn: 0.1767539\ttotal: 6.24s\tremaining: 42.5s\n",
      "128:\tlearn: 0.1763287\ttotal: 6.28s\tremaining: 42.4s\n",
      "129:\tlearn: 0.1759523\ttotal: 6.33s\tremaining: 42.4s\n",
      "130:\tlearn: 0.1754318\ttotal: 6.38s\tremaining: 42.3s\n",
      "131:\tlearn: 0.1749661\ttotal: 6.42s\tremaining: 42.2s\n",
      "132:\tlearn: 0.1745592\ttotal: 6.47s\tremaining: 42.2s\n",
      "133:\tlearn: 0.1737185\ttotal: 6.52s\tremaining: 42.1s\n",
      "134:\tlearn: 0.1733589\ttotal: 6.57s\tremaining: 42.1s\n",
      "135:\tlearn: 0.1730539\ttotal: 6.62s\tremaining: 42s\n",
      "136:\tlearn: 0.1724230\ttotal: 6.67s\tremaining: 42s\n",
      "137:\tlearn: 0.1721657\ttotal: 6.71s\tremaining: 41.9s\n",
      "138:\tlearn: 0.1717987\ttotal: 6.76s\tremaining: 41.9s\n",
      "139:\tlearn: 0.1713349\ttotal: 6.81s\tremaining: 41.8s\n",
      "140:\tlearn: 0.1711438\ttotal: 6.87s\tremaining: 41.8s\n",
      "141:\tlearn: 0.1706347\ttotal: 6.91s\tremaining: 41.8s\n",
      "142:\tlearn: 0.1701071\ttotal: 6.96s\tremaining: 41.7s\n",
      "143:\tlearn: 0.1697267\ttotal: 7.01s\tremaining: 41.7s\n",
      "144:\tlearn: 0.1695073\ttotal: 7.07s\tremaining: 41.7s\n",
      "145:\tlearn: 0.1693723\ttotal: 7.12s\tremaining: 41.7s\n",
      "146:\tlearn: 0.1692562\ttotal: 7.17s\tremaining: 41.6s\n",
      "147:\tlearn: 0.1688381\ttotal: 7.23s\tremaining: 41.6s\n",
      "148:\tlearn: 0.1683563\ttotal: 7.29s\tremaining: 41.7s\n",
      "149:\tlearn: 0.1681014\ttotal: 7.36s\tremaining: 41.7s\n",
      "150:\tlearn: 0.1677535\ttotal: 7.41s\tremaining: 41.7s\n",
      "151:\tlearn: 0.1674451\ttotal: 7.46s\tremaining: 41.7s\n",
      "152:\tlearn: 0.1669891\ttotal: 7.52s\tremaining: 41.6s\n",
      "153:\tlearn: 0.1666416\ttotal: 7.57s\tremaining: 41.6s\n",
      "154:\tlearn: 0.1662465\ttotal: 7.61s\tremaining: 41.5s\n",
      "155:\tlearn: 0.1659343\ttotal: 7.66s\tremaining: 41.4s\n",
      "156:\tlearn: 0.1657254\ttotal: 7.71s\tremaining: 41.4s\n",
      "157:\tlearn: 0.1653300\ttotal: 7.75s\tremaining: 41.3s\n",
      "158:\tlearn: 0.1648896\ttotal: 7.8s\tremaining: 41.3s\n",
      "159:\tlearn: 0.1646627\ttotal: 7.85s\tremaining: 41.2s\n",
      "160:\tlearn: 0.1645681\ttotal: 7.9s\tremaining: 41.2s\n",
      "161:\tlearn: 0.1643189\ttotal: 7.95s\tremaining: 41.1s\n",
      "162:\tlearn: 0.1642201\ttotal: 8s\tremaining: 41.1s\n",
      "163:\tlearn: 0.1637453\ttotal: 8.04s\tremaining: 41s\n",
      "164:\tlearn: 0.1635541\ttotal: 8.09s\tremaining: 40.9s\n",
      "165:\tlearn: 0.1631941\ttotal: 8.14s\tremaining: 40.9s\n",
      "166:\tlearn: 0.1626927\ttotal: 8.19s\tremaining: 40.9s\n",
      "167:\tlearn: 0.1621977\ttotal: 8.24s\tremaining: 40.8s\n",
      "168:\tlearn: 0.1619530\ttotal: 8.29s\tremaining: 40.8s\n",
      "169:\tlearn: 0.1616866\ttotal: 8.34s\tremaining: 40.7s\n",
      "170:\tlearn: 0.1612782\ttotal: 8.39s\tremaining: 40.7s\n",
      "171:\tlearn: 0.1610445\ttotal: 8.44s\tremaining: 40.6s\n",
      "172:\tlearn: 0.1607252\ttotal: 8.49s\tremaining: 40.6s\n",
      "173:\tlearn: 0.1606154\ttotal: 8.54s\tremaining: 40.5s\n",
      "174:\tlearn: 0.1601459\ttotal: 8.58s\tremaining: 40.5s\n",
      "175:\tlearn: 0.1598374\ttotal: 8.63s\tremaining: 40.4s\n",
      "176:\tlearn: 0.1595828\ttotal: 8.68s\tremaining: 40.3s\n",
      "177:\tlearn: 0.1593355\ttotal: 8.72s\tremaining: 40.3s\n",
      "178:\tlearn: 0.1589031\ttotal: 8.77s\tremaining: 40.2s\n",
      "179:\tlearn: 0.1584248\ttotal: 8.82s\tremaining: 40.2s\n",
      "180:\tlearn: 0.1581697\ttotal: 8.87s\tremaining: 40.2s\n",
      "181:\tlearn: 0.1578543\ttotal: 8.92s\tremaining: 40.1s\n",
      "182:\tlearn: 0.1575561\ttotal: 8.97s\tremaining: 40s\n",
      "183:\tlearn: 0.1572550\ttotal: 9.01s\tremaining: 40s\n",
      "184:\tlearn: 0.1567996\ttotal: 9.06s\tremaining: 39.9s\n",
      "185:\tlearn: 0.1566233\ttotal: 9.11s\tremaining: 39.9s\n",
      "186:\tlearn: 0.1562748\ttotal: 9.15s\tremaining: 39.8s\n",
      "187:\tlearn: 0.1555459\ttotal: 9.2s\tremaining: 39.7s\n",
      "188:\tlearn: 0.1552413\ttotal: 9.25s\tremaining: 39.7s\n",
      "189:\tlearn: 0.1547141\ttotal: 9.3s\tremaining: 39.6s\n",
      "190:\tlearn: 0.1543051\ttotal: 9.35s\tremaining: 39.6s\n",
      "191:\tlearn: 0.1540440\ttotal: 9.39s\tremaining: 39.5s\n",
      "192:\tlearn: 0.1537026\ttotal: 9.44s\tremaining: 39.5s\n",
      "193:\tlearn: 0.1533593\ttotal: 9.49s\tremaining: 39.4s\n",
      "194:\tlearn: 0.1531209\ttotal: 9.54s\tremaining: 39.4s\n",
      "195:\tlearn: 0.1529298\ttotal: 9.59s\tremaining: 39.3s\n",
      "196:\tlearn: 0.1529218\ttotal: 9.64s\tremaining: 39.3s\n",
      "197:\tlearn: 0.1524868\ttotal: 9.69s\tremaining: 39.3s\n",
      "198:\tlearn: 0.1524791\ttotal: 9.74s\tremaining: 39.2s\n",
      "199:\tlearn: 0.1522387\ttotal: 9.79s\tremaining: 39.2s\n",
      "200:\tlearn: 0.1519775\ttotal: 9.85s\tremaining: 39.1s\n",
      "201:\tlearn: 0.1518564\ttotal: 9.9s\tremaining: 39.1s\n",
      "202:\tlearn: 0.1516754\ttotal: 9.95s\tremaining: 39.1s\n",
      "203:\tlearn: 0.1513015\ttotal: 10s\tremaining: 39s\n",
      "204:\tlearn: 0.1512008\ttotal: 10.1s\tremaining: 39s\n",
      "205:\tlearn: 0.1510885\ttotal: 10.1s\tremaining: 38.9s\n",
      "206:\tlearn: 0.1507315\ttotal: 10.2s\tremaining: 38.9s\n",
      "207:\tlearn: 0.1505819\ttotal: 10.2s\tremaining: 38.8s\n",
      "208:\tlearn: 0.1504976\ttotal: 10.3s\tremaining: 38.9s\n",
      "209:\tlearn: 0.1501259\ttotal: 10.3s\tremaining: 38.8s\n",
      "210:\tlearn: 0.1497329\ttotal: 10.4s\tremaining: 38.8s\n",
      "211:\tlearn: 0.1493439\ttotal: 10.4s\tremaining: 38.7s\n",
      "212:\tlearn: 0.1490376\ttotal: 10.5s\tremaining: 38.7s\n",
      "213:\tlearn: 0.1488059\ttotal: 10.5s\tremaining: 38.6s\n",
      "214:\tlearn: 0.1484456\ttotal: 10.6s\tremaining: 38.6s\n",
      "215:\tlearn: 0.1482456\ttotal: 10.6s\tremaining: 38.5s\n",
      "216:\tlearn: 0.1478480\ttotal: 10.7s\tremaining: 38.5s\n",
      "217:\tlearn: 0.1475100\ttotal: 10.7s\tremaining: 38.4s\n",
      "218:\tlearn: 0.1469940\ttotal: 10.8s\tremaining: 38.4s\n",
      "219:\tlearn: 0.1465613\ttotal: 10.8s\tremaining: 38.3s\n",
      "220:\tlearn: 0.1463138\ttotal: 10.9s\tremaining: 38.3s\n",
      "221:\tlearn: 0.1459389\ttotal: 10.9s\tremaining: 38.2s\n",
      "222:\tlearn: 0.1456780\ttotal: 11s\tremaining: 38.2s\n",
      "223:\tlearn: 0.1453701\ttotal: 11s\tremaining: 38.1s\n",
      "224:\tlearn: 0.1452294\ttotal: 11.1s\tremaining: 38.1s\n",
      "225:\tlearn: 0.1450908\ttotal: 11.1s\tremaining: 38s\n",
      "226:\tlearn: 0.1448947\ttotal: 11.2s\tremaining: 38s\n",
      "227:\tlearn: 0.1447819\ttotal: 11.2s\tremaining: 37.9s\n",
      "228:\tlearn: 0.1444446\ttotal: 11.3s\tremaining: 37.9s\n",
      "229:\tlearn: 0.1442825\ttotal: 11.3s\tremaining: 37.9s\n",
      "230:\tlearn: 0.1440123\ttotal: 11.4s\tremaining: 37.8s\n",
      "231:\tlearn: 0.1437855\ttotal: 11.4s\tremaining: 37.8s\n",
      "232:\tlearn: 0.1435401\ttotal: 11.5s\tremaining: 37.7s\n",
      "233:\tlearn: 0.1434536\ttotal: 11.5s\tremaining: 37.7s\n",
      "234:\tlearn: 0.1431786\ttotal: 11.6s\tremaining: 37.6s\n",
      "235:\tlearn: 0.1426709\ttotal: 11.6s\tremaining: 37.6s\n",
      "236:\tlearn: 0.1423795\ttotal: 11.7s\tremaining: 37.5s\n",
      "237:\tlearn: 0.1419294\ttotal: 11.7s\tremaining: 37.5s\n",
      "238:\tlearn: 0.1416455\ttotal: 11.8s\tremaining: 37.4s\n",
      "239:\tlearn: 0.1413839\ttotal: 11.8s\tremaining: 37.4s\n",
      "240:\tlearn: 0.1409434\ttotal: 11.9s\tremaining: 37.3s\n",
      "241:\tlearn: 0.1407932\ttotal: 11.9s\tremaining: 37.3s\n",
      "242:\tlearn: 0.1405197\ttotal: 11.9s\tremaining: 37.2s\n",
      "243:\tlearn: 0.1403831\ttotal: 12s\tremaining: 37.2s\n",
      "244:\tlearn: 0.1400545\ttotal: 12.1s\tremaining: 37.1s\n",
      "245:\tlearn: 0.1398609\ttotal: 12.1s\tremaining: 37.1s\n",
      "246:\tlearn: 0.1395275\ttotal: 12.1s\tremaining: 37s\n",
      "247:\tlearn: 0.1394054\ttotal: 12.2s\tremaining: 37s\n",
      "248:\tlearn: 0.1391525\ttotal: 12.2s\tremaining: 36.9s\n",
      "249:\tlearn: 0.1388336\ttotal: 12.3s\tremaining: 36.9s\n",
      "250:\tlearn: 0.1386150\ttotal: 12.3s\tremaining: 36.8s\n",
      "251:\tlearn: 0.1386040\ttotal: 12.4s\tremaining: 36.8s\n",
      "252:\tlearn: 0.1384332\ttotal: 12.4s\tremaining: 36.7s\n",
      "253:\tlearn: 0.1381913\ttotal: 12.5s\tremaining: 36.7s\n",
      "254:\tlearn: 0.1379595\ttotal: 12.5s\tremaining: 36.6s\n",
      "255:\tlearn: 0.1377337\ttotal: 12.6s\tremaining: 36.6s\n",
      "256:\tlearn: 0.1375754\ttotal: 12.6s\tremaining: 36.5s\n",
      "257:\tlearn: 0.1374825\ttotal: 12.7s\tremaining: 36.5s\n",
      "258:\tlearn: 0.1373393\ttotal: 12.7s\tremaining: 36.4s\n",
      "259:\tlearn: 0.1369585\ttotal: 12.8s\tremaining: 36.3s\n",
      "260:\tlearn: 0.1367735\ttotal: 12.8s\tremaining: 36.3s\n",
      "261:\tlearn: 0.1365167\ttotal: 12.9s\tremaining: 36.2s\n",
      "262:\tlearn: 0.1363605\ttotal: 12.9s\tremaining: 36.2s\n",
      "263:\tlearn: 0.1362407\ttotal: 13s\tremaining: 36.2s\n",
      "264:\tlearn: 0.1360947\ttotal: 13s\tremaining: 36.1s\n",
      "265:\tlearn: 0.1358813\ttotal: 13.1s\tremaining: 36.1s\n",
      "266:\tlearn: 0.1357247\ttotal: 13.1s\tremaining: 36s\n",
      "267:\tlearn: 0.1354634\ttotal: 13.2s\tremaining: 36s\n",
      "268:\tlearn: 0.1352946\ttotal: 13.2s\tremaining: 35.9s\n",
      "269:\tlearn: 0.1351330\ttotal: 13.3s\tremaining: 35.9s\n",
      "270:\tlearn: 0.1349616\ttotal: 13.3s\tremaining: 35.8s\n",
      "271:\tlearn: 0.1348037\ttotal: 13.4s\tremaining: 35.8s\n",
      "272:\tlearn: 0.1347063\ttotal: 13.4s\tremaining: 35.7s\n",
      "273:\tlearn: 0.1346905\ttotal: 13.5s\tremaining: 35.7s\n",
      "274:\tlearn: 0.1345936\ttotal: 13.5s\tremaining: 35.6s\n",
      "275:\tlearn: 0.1342764\ttotal: 13.6s\tremaining: 35.5s\n",
      "276:\tlearn: 0.1342103\ttotal: 13.6s\tremaining: 35.5s\n",
      "277:\tlearn: 0.1340375\ttotal: 13.6s\tremaining: 35.4s\n",
      "278:\tlearn: 0.1338349\ttotal: 13.7s\tremaining: 35.4s\n",
      "279:\tlearn: 0.1334766\ttotal: 13.7s\tremaining: 35.3s\n",
      "280:\tlearn: 0.1332877\ttotal: 13.8s\tremaining: 35.3s\n",
      "281:\tlearn: 0.1331379\ttotal: 13.8s\tremaining: 35.2s\n",
      "282:\tlearn: 0.1328851\ttotal: 13.9s\tremaining: 35.1s\n",
      "283:\tlearn: 0.1326580\ttotal: 13.9s\tremaining: 35.1s\n",
      "284:\tlearn: 0.1324771\ttotal: 14s\tremaining: 35s\n",
      "285:\tlearn: 0.1322739\ttotal: 14s\tremaining: 35s\n",
      "286:\tlearn: 0.1320366\ttotal: 14.1s\tremaining: 34.9s\n",
      "287:\tlearn: 0.1319651\ttotal: 14.1s\tremaining: 34.9s\n",
      "288:\tlearn: 0.1317387\ttotal: 14.2s\tremaining: 34.8s\n",
      "289:\tlearn: 0.1313101\ttotal: 14.2s\tremaining: 34.8s\n",
      "290:\tlearn: 0.1310484\ttotal: 14.3s\tremaining: 34.7s\n",
      "291:\tlearn: 0.1308139\ttotal: 14.3s\tremaining: 34.7s\n",
      "292:\tlearn: 0.1305767\ttotal: 14.4s\tremaining: 34.6s\n",
      "293:\tlearn: 0.1302746\ttotal: 14.4s\tremaining: 34.6s\n",
      "294:\tlearn: 0.1300745\ttotal: 14.4s\tremaining: 34.5s\n",
      "295:\tlearn: 0.1299360\ttotal: 14.5s\tremaining: 34.5s\n",
      "296:\tlearn: 0.1297716\ttotal: 14.5s\tremaining: 34.4s\n",
      "297:\tlearn: 0.1294906\ttotal: 14.6s\tremaining: 34.4s\n",
      "298:\tlearn: 0.1293754\ttotal: 14.6s\tremaining: 34.3s\n",
      "299:\tlearn: 0.1292251\ttotal: 14.7s\tremaining: 34.3s\n",
      "300:\tlearn: 0.1290064\ttotal: 14.7s\tremaining: 34.2s\n",
      "301:\tlearn: 0.1287711\ttotal: 14.8s\tremaining: 34.2s\n",
      "302:\tlearn: 0.1286521\ttotal: 14.8s\tremaining: 34.1s\n",
      "303:\tlearn: 0.1283683\ttotal: 14.9s\tremaining: 34s\n",
      "304:\tlearn: 0.1281925\ttotal: 14.9s\tremaining: 34s\n",
      "305:\tlearn: 0.1281289\ttotal: 15s\tremaining: 33.9s\n",
      "306:\tlearn: 0.1279717\ttotal: 15s\tremaining: 33.9s\n",
      "307:\tlearn: 0.1276593\ttotal: 15.1s\tremaining: 33.8s\n",
      "308:\tlearn: 0.1273694\ttotal: 15.1s\tremaining: 33.8s\n",
      "309:\tlearn: 0.1272095\ttotal: 15.2s\tremaining: 33.7s\n",
      "310:\tlearn: 0.1269660\ttotal: 15.2s\tremaining: 33.7s\n",
      "311:\tlearn: 0.1268146\ttotal: 15.3s\tremaining: 33.6s\n",
      "312:\tlearn: 0.1267139\ttotal: 15.3s\tremaining: 33.6s\n",
      "313:\tlearn: 0.1263636\ttotal: 15.3s\tremaining: 33.5s\n",
      "314:\tlearn: 0.1261812\ttotal: 15.4s\tremaining: 33.5s\n",
      "315:\tlearn: 0.1260700\ttotal: 15.4s\tremaining: 33.4s\n",
      "316:\tlearn: 0.1258067\ttotal: 15.5s\tremaining: 33.4s\n",
      "317:\tlearn: 0.1256368\ttotal: 15.5s\tremaining: 33.3s\n",
      "318:\tlearn: 0.1253528\ttotal: 15.6s\tremaining: 33.2s\n",
      "319:\tlearn: 0.1250639\ttotal: 15.6s\tremaining: 33.2s\n",
      "320:\tlearn: 0.1248964\ttotal: 15.7s\tremaining: 33.1s\n",
      "321:\tlearn: 0.1248080\ttotal: 15.7s\tremaining: 33.1s\n",
      "322:\tlearn: 0.1246348\ttotal: 15.8s\tremaining: 33s\n",
      "323:\tlearn: 0.1244808\ttotal: 15.8s\tremaining: 33s\n",
      "324:\tlearn: 0.1242556\ttotal: 15.9s\tremaining: 32.9s\n",
      "325:\tlearn: 0.1240797\ttotal: 15.9s\tremaining: 32.9s\n",
      "326:\tlearn: 0.1239277\ttotal: 15.9s\tremaining: 32.8s\n",
      "327:\tlearn: 0.1236922\ttotal: 16s\tremaining: 32.8s\n",
      "328:\tlearn: 0.1235738\ttotal: 16.1s\tremaining: 32.7s\n",
      "329:\tlearn: 0.1232846\ttotal: 16.1s\tremaining: 32.7s\n",
      "330:\tlearn: 0.1231842\ttotal: 16.2s\tremaining: 32.7s\n",
      "331:\tlearn: 0.1230515\ttotal: 16.2s\tremaining: 32.7s\n",
      "332:\tlearn: 0.1228675\ttotal: 16.3s\tremaining: 32.6s\n",
      "333:\tlearn: 0.1223748\ttotal: 16.3s\tremaining: 32.6s\n",
      "334:\tlearn: 0.1221731\ttotal: 16.4s\tremaining: 32.5s\n",
      "335:\tlearn: 0.1220815\ttotal: 16.4s\tremaining: 32.5s\n",
      "336:\tlearn: 0.1218525\ttotal: 16.5s\tremaining: 32.4s\n",
      "337:\tlearn: 0.1217344\ttotal: 16.5s\tremaining: 32.4s\n",
      "338:\tlearn: 0.1215418\ttotal: 16.6s\tremaining: 32.3s\n",
      "339:\tlearn: 0.1211990\ttotal: 16.6s\tremaining: 32.3s\n",
      "340:\tlearn: 0.1209749\ttotal: 16.7s\tremaining: 32.2s\n",
      "341:\tlearn: 0.1206899\ttotal: 16.7s\tremaining: 32.2s\n",
      "342:\tlearn: 0.1205113\ttotal: 16.8s\tremaining: 32.1s\n",
      "343:\tlearn: 0.1202094\ttotal: 16.8s\tremaining: 32.1s\n",
      "344:\tlearn: 0.1198906\ttotal: 16.9s\tremaining: 32s\n",
      "345:\tlearn: 0.1197190\ttotal: 16.9s\tremaining: 32s\n",
      "346:\tlearn: 0.1195490\ttotal: 17s\tremaining: 31.9s\n",
      "347:\tlearn: 0.1194332\ttotal: 17s\tremaining: 31.9s\n",
      "348:\tlearn: 0.1190989\ttotal: 17.1s\tremaining: 31.8s\n",
      "349:\tlearn: 0.1189826\ttotal: 17.1s\tremaining: 31.8s\n",
      "350:\tlearn: 0.1186156\ttotal: 17.2s\tremaining: 31.7s\n",
      "351:\tlearn: 0.1184218\ttotal: 17.2s\tremaining: 31.7s\n",
      "352:\tlearn: 0.1183164\ttotal: 17.3s\tremaining: 31.6s\n",
      "353:\tlearn: 0.1181541\ttotal: 17.3s\tremaining: 31.6s\n",
      "354:\tlearn: 0.1180760\ttotal: 17.4s\tremaining: 31.5s\n",
      "355:\tlearn: 0.1179014\ttotal: 17.4s\tremaining: 31.5s\n",
      "356:\tlearn: 0.1178036\ttotal: 17.5s\tremaining: 31.4s\n",
      "357:\tlearn: 0.1177152\ttotal: 17.5s\tremaining: 31.4s\n",
      "358:\tlearn: 0.1174936\ttotal: 17.6s\tremaining: 31.4s\n",
      "359:\tlearn: 0.1174214\ttotal: 17.6s\tremaining: 31.3s\n",
      "360:\tlearn: 0.1172483\ttotal: 17.7s\tremaining: 31.3s\n",
      "361:\tlearn: 0.1170528\ttotal: 17.7s\tremaining: 31.2s\n",
      "362:\tlearn: 0.1169142\ttotal: 17.8s\tremaining: 31.2s\n",
      "363:\tlearn: 0.1167385\ttotal: 17.8s\tremaining: 31.1s\n",
      "364:\tlearn: 0.1166410\ttotal: 17.9s\tremaining: 31.1s\n",
      "365:\tlearn: 0.1165680\ttotal: 17.9s\tremaining: 31s\n",
      "366:\tlearn: 0.1164212\ttotal: 18s\tremaining: 31s\n",
      "367:\tlearn: 0.1162060\ttotal: 18s\tremaining: 30.9s\n",
      "368:\tlearn: 0.1161238\ttotal: 18.1s\tremaining: 30.9s\n",
      "369:\tlearn: 0.1159415\ttotal: 18.1s\tremaining: 30.8s\n",
      "370:\tlearn: 0.1158691\ttotal: 18.2s\tremaining: 30.8s\n",
      "371:\tlearn: 0.1157733\ttotal: 18.2s\tremaining: 30.7s\n",
      "372:\tlearn: 0.1156397\ttotal: 18.3s\tremaining: 30.7s\n",
      "373:\tlearn: 0.1154088\ttotal: 18.3s\tremaining: 30.6s\n",
      "374:\tlearn: 0.1153307\ttotal: 18.4s\tremaining: 30.6s\n",
      "375:\tlearn: 0.1152297\ttotal: 18.4s\tremaining: 30.6s\n",
      "376:\tlearn: 0.1151523\ttotal: 18.5s\tremaining: 30.5s\n",
      "377:\tlearn: 0.1150332\ttotal: 18.5s\tremaining: 30.5s\n",
      "378:\tlearn: 0.1148439\ttotal: 18.6s\tremaining: 30.4s\n",
      "379:\tlearn: 0.1147095\ttotal: 18.6s\tremaining: 30.4s\n",
      "380:\tlearn: 0.1145241\ttotal: 18.7s\tremaining: 30.3s\n",
      "381:\tlearn: 0.1144345\ttotal: 18.7s\tremaining: 30.3s\n",
      "382:\tlearn: 0.1142791\ttotal: 18.8s\tremaining: 30.2s\n",
      "383:\tlearn: 0.1141776\ttotal: 18.8s\tremaining: 30.2s\n",
      "384:\tlearn: 0.1139597\ttotal: 18.9s\tremaining: 30.2s\n",
      "385:\tlearn: 0.1138755\ttotal: 18.9s\tremaining: 30.1s\n",
      "386:\tlearn: 0.1137041\ttotal: 19s\tremaining: 30.1s\n",
      "387:\tlearn: 0.1136101\ttotal: 19.1s\tremaining: 30.1s\n",
      "388:\tlearn: 0.1134461\ttotal: 19.1s\tremaining: 30s\n",
      "389:\tlearn: 0.1133185\ttotal: 19.2s\tremaining: 30s\n",
      "390:\tlearn: 0.1131408\ttotal: 19.2s\tremaining: 29.9s\n",
      "391:\tlearn: 0.1130289\ttotal: 19.3s\tremaining: 29.9s\n",
      "392:\tlearn: 0.1128334\ttotal: 19.3s\tremaining: 29.8s\n",
      "393:\tlearn: 0.1126580\ttotal: 19.4s\tremaining: 29.8s\n",
      "394:\tlearn: 0.1124666\ttotal: 19.4s\tremaining: 29.7s\n",
      "395:\tlearn: 0.1123922\ttotal: 19.5s\tremaining: 29.7s\n",
      "396:\tlearn: 0.1122460\ttotal: 19.5s\tremaining: 29.7s\n",
      "397:\tlearn: 0.1121746\ttotal: 19.6s\tremaining: 29.6s\n",
      "398:\tlearn: 0.1121660\ttotal: 19.6s\tremaining: 29.6s\n",
      "399:\tlearn: 0.1121098\ttotal: 19.7s\tremaining: 29.5s\n",
      "400:\tlearn: 0.1120130\ttotal: 19.7s\tremaining: 29.5s\n",
      "401:\tlearn: 0.1117368\ttotal: 19.8s\tremaining: 29.4s\n",
      "402:\tlearn: 0.1116698\ttotal: 19.8s\tremaining: 29.4s\n",
      "403:\tlearn: 0.1116181\ttotal: 19.9s\tremaining: 29.3s\n",
      "404:\tlearn: 0.1114493\ttotal: 19.9s\tremaining: 29.3s\n",
      "405:\tlearn: 0.1113983\ttotal: 20s\tremaining: 29.2s\n",
      "406:\tlearn: 0.1111973\ttotal: 20s\tremaining: 29.2s\n",
      "407:\tlearn: 0.1110210\ttotal: 20.1s\tremaining: 29.2s\n",
      "408:\tlearn: 0.1109436\ttotal: 20.1s\tremaining: 29.1s\n",
      "409:\tlearn: 0.1106594\ttotal: 20.2s\tremaining: 29.1s\n",
      "410:\tlearn: 0.1105629\ttotal: 20.2s\tremaining: 29s\n",
      "411:\tlearn: 0.1103670\ttotal: 20.3s\tremaining: 29s\n",
      "412:\tlearn: 0.1102745\ttotal: 20.3s\tremaining: 28.9s\n",
      "413:\tlearn: 0.1100541\ttotal: 20.4s\tremaining: 28.9s\n",
      "414:\tlearn: 0.1098541\ttotal: 20.4s\tremaining: 28.8s\n",
      "415:\tlearn: 0.1096176\ttotal: 20.5s\tremaining: 28.8s\n",
      "416:\tlearn: 0.1094987\ttotal: 20.5s\tremaining: 28.7s\n",
      "417:\tlearn: 0.1092833\ttotal: 20.6s\tremaining: 28.7s\n",
      "418:\tlearn: 0.1090971\ttotal: 20.6s\tremaining: 28.6s\n",
      "419:\tlearn: 0.1089953\ttotal: 20.7s\tremaining: 28.6s\n",
      "420:\tlearn: 0.1089611\ttotal: 20.7s\tremaining: 28.5s\n",
      "421:\tlearn: 0.1086999\ttotal: 20.8s\tremaining: 28.5s\n",
      "422:\tlearn: 0.1086220\ttotal: 20.8s\tremaining: 28.4s\n",
      "423:\tlearn: 0.1085339\ttotal: 20.9s\tremaining: 28.4s\n",
      "424:\tlearn: 0.1084205\ttotal: 20.9s\tremaining: 28.3s\n",
      "425:\tlearn: 0.1082713\ttotal: 21s\tremaining: 28.3s\n",
      "426:\tlearn: 0.1081524\ttotal: 21s\tremaining: 28.2s\n",
      "427:\tlearn: 0.1080569\ttotal: 21.1s\tremaining: 28.2s\n",
      "428:\tlearn: 0.1079113\ttotal: 21.1s\tremaining: 28.1s\n",
      "429:\tlearn: 0.1078042\ttotal: 21.2s\tremaining: 28.1s\n",
      "430:\tlearn: 0.1076341\ttotal: 21.2s\tremaining: 28s\n",
      "431:\tlearn: 0.1076271\ttotal: 21.3s\tremaining: 28s\n",
      "432:\tlearn: 0.1074885\ttotal: 21.3s\tremaining: 27.9s\n",
      "433:\tlearn: 0.1073634\ttotal: 21.4s\tremaining: 27.9s\n",
      "434:\tlearn: 0.1071880\ttotal: 21.4s\tremaining: 27.8s\n",
      "435:\tlearn: 0.1071242\ttotal: 21.5s\tremaining: 27.8s\n",
      "436:\tlearn: 0.1070365\ttotal: 21.5s\tremaining: 27.7s\n",
      "437:\tlearn: 0.1069053\ttotal: 21.6s\tremaining: 27.7s\n",
      "438:\tlearn: 0.1067564\ttotal: 21.6s\tremaining: 27.6s\n",
      "439:\tlearn: 0.1065151\ttotal: 21.7s\tremaining: 27.6s\n",
      "440:\tlearn: 0.1065149\ttotal: 21.7s\tremaining: 27.5s\n",
      "441:\tlearn: 0.1064695\ttotal: 21.8s\tremaining: 27.5s\n",
      "442:\tlearn: 0.1061750\ttotal: 21.8s\tremaining: 27.4s\n",
      "443:\tlearn: 0.1059840\ttotal: 21.9s\tremaining: 27.4s\n",
      "444:\tlearn: 0.1058565\ttotal: 21.9s\tremaining: 27.3s\n",
      "445:\tlearn: 0.1056399\ttotal: 21.9s\tremaining: 27.3s\n",
      "446:\tlearn: 0.1055705\ttotal: 22s\tremaining: 27.2s\n",
      "447:\tlearn: 0.1055163\ttotal: 22.1s\tremaining: 27.2s\n",
      "448:\tlearn: 0.1053924\ttotal: 22.1s\tremaining: 27.1s\n",
      "449:\tlearn: 0.1052473\ttotal: 22.2s\tremaining: 27.1s\n",
      "450:\tlearn: 0.1051609\ttotal: 22.2s\tremaining: 27s\n",
      "451:\tlearn: 0.1049769\ttotal: 22.3s\tremaining: 27s\n",
      "452:\tlearn: 0.1046257\ttotal: 22.3s\tremaining: 27s\n",
      "453:\tlearn: 0.1044109\ttotal: 22.4s\tremaining: 26.9s\n",
      "454:\tlearn: 0.1042917\ttotal: 22.4s\tremaining: 26.8s\n",
      "455:\tlearn: 0.1041185\ttotal: 22.5s\tremaining: 26.8s\n",
      "456:\tlearn: 0.1041103\ttotal: 22.5s\tremaining: 26.7s\n",
      "457:\tlearn: 0.1039972\ttotal: 22.6s\tremaining: 26.7s\n",
      "458:\tlearn: 0.1038943\ttotal: 22.6s\tremaining: 26.6s\n",
      "459:\tlearn: 0.1038471\ttotal: 22.6s\tremaining: 26.6s\n",
      "460:\tlearn: 0.1037192\ttotal: 22.7s\tremaining: 26.5s\n",
      "461:\tlearn: 0.1036127\ttotal: 22.7s\tremaining: 26.5s\n",
      "462:\tlearn: 0.1033104\ttotal: 22.8s\tremaining: 26.4s\n",
      "463:\tlearn: 0.1032079\ttotal: 22.9s\tremaining: 26.4s\n",
      "464:\tlearn: 0.1030963\ttotal: 22.9s\tremaining: 26.4s\n",
      "465:\tlearn: 0.1029470\ttotal: 23s\tremaining: 26.3s\n",
      "466:\tlearn: 0.1027756\ttotal: 23s\tremaining: 26.3s\n",
      "467:\tlearn: 0.1026082\ttotal: 23.1s\tremaining: 26.2s\n",
      "468:\tlearn: 0.1024860\ttotal: 23.1s\tremaining: 26.2s\n",
      "469:\tlearn: 0.1023319\ttotal: 23.2s\tremaining: 26.1s\n",
      "470:\tlearn: 0.1021947\ttotal: 23.2s\tremaining: 26.1s\n",
      "471:\tlearn: 0.1020936\ttotal: 23.3s\tremaining: 26s\n",
      "472:\tlearn: 0.1020049\ttotal: 23.3s\tremaining: 26s\n",
      "473:\tlearn: 0.1018121\ttotal: 23.4s\tremaining: 25.9s\n",
      "474:\tlearn: 0.1017300\ttotal: 23.4s\tremaining: 25.9s\n",
      "475:\tlearn: 0.1016401\ttotal: 23.5s\tremaining: 25.8s\n",
      "476:\tlearn: 0.1014770\ttotal: 23.5s\tremaining: 25.8s\n",
      "477:\tlearn: 0.1013252\ttotal: 23.6s\tremaining: 25.7s\n",
      "478:\tlearn: 0.1011765\ttotal: 23.6s\tremaining: 25.7s\n",
      "479:\tlearn: 0.1010630\ttotal: 23.7s\tremaining: 25.6s\n",
      "480:\tlearn: 0.1008953\ttotal: 23.7s\tremaining: 25.6s\n",
      "481:\tlearn: 0.1007282\ttotal: 23.7s\tremaining: 25.5s\n",
      "482:\tlearn: 0.1006302\ttotal: 23.8s\tremaining: 25.5s\n",
      "483:\tlearn: 0.1003783\ttotal: 23.8s\tremaining: 25.4s\n",
      "484:\tlearn: 0.1002128\ttotal: 23.9s\tremaining: 25.4s\n",
      "485:\tlearn: 0.1001071\ttotal: 23.9s\tremaining: 25.3s\n",
      "486:\tlearn: 0.0999060\ttotal: 24s\tremaining: 25.3s\n",
      "487:\tlearn: 0.0996904\ttotal: 24s\tremaining: 25.2s\n",
      "488:\tlearn: 0.0995940\ttotal: 24.1s\tremaining: 25.2s\n",
      "489:\tlearn: 0.0995005\ttotal: 24.1s\tremaining: 25.1s\n",
      "490:\tlearn: 0.0993232\ttotal: 24.2s\tremaining: 25.1s\n",
      "491:\tlearn: 0.0991802\ttotal: 24.2s\tremaining: 25s\n",
      "492:\tlearn: 0.0991503\ttotal: 24.3s\tremaining: 25s\n",
      "493:\tlearn: 0.0989456\ttotal: 24.3s\tremaining: 24.9s\n",
      "494:\tlearn: 0.0988919\ttotal: 24.4s\tremaining: 24.9s\n",
      "495:\tlearn: 0.0987952\ttotal: 24.4s\tremaining: 24.8s\n",
      "496:\tlearn: 0.0987382\ttotal: 24.5s\tremaining: 24.8s\n",
      "497:\tlearn: 0.0985845\ttotal: 24.5s\tremaining: 24.7s\n",
      "498:\tlearn: 0.0984282\ttotal: 24.6s\tremaining: 24.7s\n",
      "499:\tlearn: 0.0982848\ttotal: 24.6s\tremaining: 24.6s\n",
      "500:\tlearn: 0.0981402\ttotal: 24.7s\tremaining: 24.6s\n",
      "501:\tlearn: 0.0979855\ttotal: 24.7s\tremaining: 24.5s\n",
      "502:\tlearn: 0.0978565\ttotal: 24.7s\tremaining: 24.5s\n",
      "503:\tlearn: 0.0977596\ttotal: 24.8s\tremaining: 24.4s\n",
      "504:\tlearn: 0.0976477\ttotal: 24.8s\tremaining: 24.4s\n",
      "505:\tlearn: 0.0975186\ttotal: 24.9s\tremaining: 24.3s\n",
      "506:\tlearn: 0.0973719\ttotal: 24.9s\tremaining: 24.2s\n",
      "507:\tlearn: 0.0972867\ttotal: 25s\tremaining: 24.2s\n",
      "508:\tlearn: 0.0972134\ttotal: 25s\tremaining: 24.1s\n",
      "509:\tlearn: 0.0971785\ttotal: 25.1s\tremaining: 24.1s\n",
      "510:\tlearn: 0.0970750\ttotal: 25.1s\tremaining: 24s\n",
      "511:\tlearn: 0.0970067\ttotal: 25.2s\tremaining: 24s\n",
      "512:\tlearn: 0.0969636\ttotal: 25.2s\tremaining: 23.9s\n",
      "513:\tlearn: 0.0969207\ttotal: 25.3s\tremaining: 23.9s\n",
      "514:\tlearn: 0.0968239\ttotal: 25.3s\tremaining: 23.9s\n",
      "515:\tlearn: 0.0967148\ttotal: 25.4s\tremaining: 23.8s\n",
      "516:\tlearn: 0.0965889\ttotal: 25.4s\tremaining: 23.7s\n",
      "517:\tlearn: 0.0964846\ttotal: 25.5s\tremaining: 23.7s\n",
      "518:\tlearn: 0.0962572\ttotal: 25.5s\tremaining: 23.7s\n",
      "519:\tlearn: 0.0961773\ttotal: 25.6s\tremaining: 23.6s\n",
      "520:\tlearn: 0.0960273\ttotal: 25.6s\tremaining: 23.5s\n",
      "521:\tlearn: 0.0959570\ttotal: 25.7s\tremaining: 23.5s\n",
      "522:\tlearn: 0.0958065\ttotal: 25.7s\tremaining: 23.4s\n",
      "523:\tlearn: 0.0956493\ttotal: 25.8s\tremaining: 23.4s\n",
      "524:\tlearn: 0.0955453\ttotal: 25.8s\tremaining: 23.3s\n",
      "525:\tlearn: 0.0953621\ttotal: 25.8s\tremaining: 23.3s\n",
      "526:\tlearn: 0.0952615\ttotal: 25.9s\tremaining: 23.2s\n",
      "527:\tlearn: 0.0950839\ttotal: 25.9s\tremaining: 23.2s\n",
      "528:\tlearn: 0.0949811\ttotal: 26s\tremaining: 23.1s\n",
      "529:\tlearn: 0.0948061\ttotal: 26s\tremaining: 23.1s\n",
      "530:\tlearn: 0.0946888\ttotal: 26.1s\tremaining: 23s\n",
      "531:\tlearn: 0.0943568\ttotal: 26.1s\tremaining: 23s\n",
      "532:\tlearn: 0.0941511\ttotal: 26.2s\tremaining: 22.9s\n",
      "533:\tlearn: 0.0939282\ttotal: 26.2s\tremaining: 22.9s\n",
      "534:\tlearn: 0.0938042\ttotal: 26.3s\tremaining: 22.8s\n",
      "535:\tlearn: 0.0937241\ttotal: 26.3s\tremaining: 22.8s\n",
      "536:\tlearn: 0.0936297\ttotal: 26.4s\tremaining: 22.8s\n",
      "537:\tlearn: 0.0934904\ttotal: 26.5s\tremaining: 22.7s\n",
      "538:\tlearn: 0.0934206\ttotal: 26.5s\tremaining: 22.7s\n",
      "539:\tlearn: 0.0934150\ttotal: 26.6s\tremaining: 22.6s\n",
      "540:\tlearn: 0.0933208\ttotal: 26.6s\tremaining: 22.6s\n",
      "541:\tlearn: 0.0932034\ttotal: 26.7s\tremaining: 22.5s\n",
      "542:\tlearn: 0.0930931\ttotal: 26.7s\tremaining: 22.5s\n",
      "543:\tlearn: 0.0930248\ttotal: 26.8s\tremaining: 22.4s\n",
      "544:\tlearn: 0.0928316\ttotal: 26.8s\tremaining: 22.4s\n",
      "545:\tlearn: 0.0926884\ttotal: 26.9s\tremaining: 22.3s\n",
      "546:\tlearn: 0.0925663\ttotal: 26.9s\tremaining: 22.3s\n",
      "547:\tlearn: 0.0924258\ttotal: 27s\tremaining: 22.2s\n",
      "548:\tlearn: 0.0923078\ttotal: 27s\tremaining: 22.2s\n",
      "549:\tlearn: 0.0921846\ttotal: 27s\tremaining: 22.1s\n",
      "550:\tlearn: 0.0921287\ttotal: 27.1s\tremaining: 22.1s\n",
      "551:\tlearn: 0.0920497\ttotal: 27.1s\tremaining: 22s\n",
      "552:\tlearn: 0.0918147\ttotal: 27.2s\tremaining: 22s\n",
      "553:\tlearn: 0.0918080\ttotal: 27.2s\tremaining: 21.9s\n",
      "554:\tlearn: 0.0917173\ttotal: 27.3s\tremaining: 21.9s\n",
      "555:\tlearn: 0.0916215\ttotal: 27.3s\tremaining: 21.8s\n",
      "556:\tlearn: 0.0915100\ttotal: 27.4s\tremaining: 21.8s\n",
      "557:\tlearn: 0.0914376\ttotal: 27.4s\tremaining: 21.7s\n",
      "558:\tlearn: 0.0913314\ttotal: 27.5s\tremaining: 21.7s\n",
      "559:\tlearn: 0.0912557\ttotal: 27.5s\tremaining: 21.6s\n",
      "560:\tlearn: 0.0911025\ttotal: 27.6s\tremaining: 21.6s\n",
      "561:\tlearn: 0.0910433\ttotal: 27.6s\tremaining: 21.5s\n",
      "562:\tlearn: 0.0908640\ttotal: 27.7s\tremaining: 21.5s\n",
      "563:\tlearn: 0.0906937\ttotal: 27.7s\tremaining: 21.4s\n",
      "564:\tlearn: 0.0905790\ttotal: 27.8s\tremaining: 21.4s\n",
      "565:\tlearn: 0.0904642\ttotal: 27.8s\tremaining: 21.3s\n",
      "566:\tlearn: 0.0902985\ttotal: 27.9s\tremaining: 21.3s\n",
      "567:\tlearn: 0.0902710\ttotal: 27.9s\tremaining: 21.2s\n",
      "568:\tlearn: 0.0901404\ttotal: 28s\tremaining: 21.2s\n",
      "569:\tlearn: 0.0900435\ttotal: 28s\tremaining: 21.1s\n",
      "570:\tlearn: 0.0899577\ttotal: 28.1s\tremaining: 21.1s\n",
      "571:\tlearn: 0.0898417\ttotal: 28.1s\tremaining: 21s\n",
      "572:\tlearn: 0.0897456\ttotal: 28.1s\tremaining: 21s\n",
      "573:\tlearn: 0.0896522\ttotal: 28.2s\tremaining: 20.9s\n",
      "574:\tlearn: 0.0895433\ttotal: 28.2s\tremaining: 20.9s\n",
      "575:\tlearn: 0.0894097\ttotal: 28.3s\tremaining: 20.8s\n",
      "576:\tlearn: 0.0893218\ttotal: 28.3s\tremaining: 20.8s\n",
      "577:\tlearn: 0.0891656\ttotal: 28.4s\tremaining: 20.7s\n",
      "578:\tlearn: 0.0891014\ttotal: 28.4s\tremaining: 20.7s\n",
      "579:\tlearn: 0.0889500\ttotal: 28.5s\tremaining: 20.6s\n",
      "580:\tlearn: 0.0888241\ttotal: 28.5s\tremaining: 20.6s\n",
      "581:\tlearn: 0.0886720\ttotal: 28.6s\tremaining: 20.5s\n",
      "582:\tlearn: 0.0885712\ttotal: 28.6s\tremaining: 20.5s\n",
      "583:\tlearn: 0.0884848\ttotal: 28.7s\tremaining: 20.4s\n",
      "584:\tlearn: 0.0883779\ttotal: 28.7s\tremaining: 20.4s\n",
      "585:\tlearn: 0.0880953\ttotal: 28.8s\tremaining: 20.3s\n",
      "586:\tlearn: 0.0879985\ttotal: 28.8s\tremaining: 20.3s\n",
      "587:\tlearn: 0.0879214\ttotal: 28.9s\tremaining: 20.2s\n",
      "588:\tlearn: 0.0878369\ttotal: 28.9s\tremaining: 20.2s\n",
      "589:\tlearn: 0.0876550\ttotal: 29s\tremaining: 20.1s\n",
      "590:\tlearn: 0.0875063\ttotal: 29s\tremaining: 20.1s\n",
      "591:\tlearn: 0.0873802\ttotal: 29.1s\tremaining: 20s\n",
      "592:\tlearn: 0.0871921\ttotal: 29.1s\tremaining: 20s\n",
      "593:\tlearn: 0.0870894\ttotal: 29.2s\tremaining: 19.9s\n",
      "594:\tlearn: 0.0870884\ttotal: 29.2s\tremaining: 19.9s\n",
      "595:\tlearn: 0.0870063\ttotal: 29.3s\tremaining: 19.8s\n",
      "596:\tlearn: 0.0869353\ttotal: 29.3s\tremaining: 19.8s\n",
      "597:\tlearn: 0.0868772\ttotal: 29.4s\tremaining: 19.7s\n",
      "598:\tlearn: 0.0867660\ttotal: 29.4s\tremaining: 19.7s\n",
      "599:\tlearn: 0.0866459\ttotal: 29.5s\tremaining: 19.6s\n",
      "600:\tlearn: 0.0865088\ttotal: 29.5s\tremaining: 19.6s\n",
      "601:\tlearn: 0.0864344\ttotal: 29.5s\tremaining: 19.5s\n",
      "602:\tlearn: 0.0862684\ttotal: 29.6s\tremaining: 19.5s\n",
      "603:\tlearn: 0.0861677\ttotal: 29.6s\tremaining: 19.4s\n",
      "604:\tlearn: 0.0860675\ttotal: 29.7s\tremaining: 19.4s\n",
      "605:\tlearn: 0.0859527\ttotal: 29.7s\tremaining: 19.3s\n",
      "606:\tlearn: 0.0858131\ttotal: 29.8s\tremaining: 19.3s\n",
      "607:\tlearn: 0.0857271\ttotal: 29.8s\tremaining: 19.2s\n",
      "608:\tlearn: 0.0856674\ttotal: 29.9s\tremaining: 19.2s\n",
      "609:\tlearn: 0.0855943\ttotal: 29.9s\tremaining: 19.1s\n",
      "610:\tlearn: 0.0854379\ttotal: 30s\tremaining: 19.1s\n",
      "611:\tlearn: 0.0854315\ttotal: 30s\tremaining: 19s\n",
      "612:\tlearn: 0.0853596\ttotal: 30.1s\tremaining: 19s\n",
      "613:\tlearn: 0.0852794\ttotal: 30.1s\tremaining: 18.9s\n",
      "614:\tlearn: 0.0851318\ttotal: 30.2s\tremaining: 18.9s\n",
      "615:\tlearn: 0.0849741\ttotal: 30.2s\tremaining: 18.8s\n",
      "616:\tlearn: 0.0848245\ttotal: 30.3s\tremaining: 18.8s\n",
      "617:\tlearn: 0.0847563\ttotal: 30.3s\tremaining: 18.7s\n",
      "618:\tlearn: 0.0847040\ttotal: 30.4s\tremaining: 18.7s\n",
      "619:\tlearn: 0.0846459\ttotal: 30.4s\tremaining: 18.6s\n",
      "620:\tlearn: 0.0845118\ttotal: 30.5s\tremaining: 18.6s\n",
      "621:\tlearn: 0.0844714\ttotal: 30.5s\tremaining: 18.5s\n",
      "622:\tlearn: 0.0843981\ttotal: 30.6s\tremaining: 18.5s\n",
      "623:\tlearn: 0.0842863\ttotal: 30.6s\tremaining: 18.4s\n",
      "624:\tlearn: 0.0841682\ttotal: 30.6s\tremaining: 18.4s\n",
      "625:\tlearn: 0.0840267\ttotal: 30.7s\tremaining: 18.3s\n",
      "626:\tlearn: 0.0839681\ttotal: 30.8s\tremaining: 18.3s\n",
      "627:\tlearn: 0.0838510\ttotal: 30.8s\tremaining: 18.2s\n",
      "628:\tlearn: 0.0838393\ttotal: 30.9s\tremaining: 18.2s\n",
      "629:\tlearn: 0.0837162\ttotal: 30.9s\tremaining: 18.2s\n",
      "630:\tlearn: 0.0836678\ttotal: 31s\tremaining: 18.1s\n",
      "631:\tlearn: 0.0835335\ttotal: 31s\tremaining: 18.1s\n",
      "632:\tlearn: 0.0834530\ttotal: 31.1s\tremaining: 18s\n",
      "633:\tlearn: 0.0833067\ttotal: 31.1s\tremaining: 18s\n",
      "634:\tlearn: 0.0832369\ttotal: 31.2s\tremaining: 17.9s\n",
      "635:\tlearn: 0.0830778\ttotal: 31.2s\tremaining: 17.9s\n",
      "636:\tlearn: 0.0830264\ttotal: 31.3s\tremaining: 17.8s\n",
      "637:\tlearn: 0.0828300\ttotal: 31.3s\tremaining: 17.8s\n",
      "638:\tlearn: 0.0827169\ttotal: 31.4s\tremaining: 17.7s\n",
      "639:\tlearn: 0.0826195\ttotal: 31.4s\tremaining: 17.7s\n",
      "640:\tlearn: 0.0825389\ttotal: 31.5s\tremaining: 17.6s\n",
      "641:\tlearn: 0.0823972\ttotal: 31.5s\tremaining: 17.6s\n",
      "642:\tlearn: 0.0822606\ttotal: 31.5s\tremaining: 17.5s\n",
      "643:\tlearn: 0.0821871\ttotal: 31.6s\tremaining: 17.5s\n",
      "644:\tlearn: 0.0821146\ttotal: 31.6s\tremaining: 17.4s\n",
      "645:\tlearn: 0.0820379\ttotal: 31.7s\tremaining: 17.4s\n",
      "646:\tlearn: 0.0819293\ttotal: 31.7s\tremaining: 17.3s\n",
      "647:\tlearn: 0.0818105\ttotal: 31.8s\tremaining: 17.3s\n",
      "648:\tlearn: 0.0817005\ttotal: 31.8s\tremaining: 17.2s\n",
      "649:\tlearn: 0.0816119\ttotal: 31.9s\tremaining: 17.2s\n",
      "650:\tlearn: 0.0814659\ttotal: 31.9s\tremaining: 17.1s\n",
      "651:\tlearn: 0.0813668\ttotal: 32s\tremaining: 17.1s\n",
      "652:\tlearn: 0.0812162\ttotal: 32s\tremaining: 17s\n",
      "653:\tlearn: 0.0811893\ttotal: 32.1s\tremaining: 17s\n",
      "654:\tlearn: 0.0811072\ttotal: 32.1s\tremaining: 16.9s\n",
      "655:\tlearn: 0.0809442\ttotal: 32.2s\tremaining: 16.9s\n",
      "656:\tlearn: 0.0808004\ttotal: 32.2s\tremaining: 16.8s\n",
      "657:\tlearn: 0.0806888\ttotal: 32.3s\tremaining: 16.8s\n",
      "658:\tlearn: 0.0805964\ttotal: 32.3s\tremaining: 16.7s\n",
      "659:\tlearn: 0.0804805\ttotal: 32.4s\tremaining: 16.7s\n",
      "660:\tlearn: 0.0803725\ttotal: 32.4s\tremaining: 16.6s\n",
      "661:\tlearn: 0.0802478\ttotal: 32.5s\tremaining: 16.6s\n",
      "662:\tlearn: 0.0801490\ttotal: 32.5s\tremaining: 16.5s\n",
      "663:\tlearn: 0.0800199\ttotal: 32.6s\tremaining: 16.5s\n",
      "664:\tlearn: 0.0799407\ttotal: 32.6s\tremaining: 16.4s\n",
      "665:\tlearn: 0.0798131\ttotal: 32.7s\tremaining: 16.4s\n",
      "666:\tlearn: 0.0798001\ttotal: 32.7s\tremaining: 16.3s\n",
      "667:\tlearn: 0.0796576\ttotal: 32.8s\tremaining: 16.3s\n",
      "668:\tlearn: 0.0795620\ttotal: 32.8s\tremaining: 16.2s\n",
      "669:\tlearn: 0.0795436\ttotal: 32.9s\tremaining: 16.2s\n",
      "670:\tlearn: 0.0795258\ttotal: 32.9s\tremaining: 16.1s\n",
      "671:\tlearn: 0.0793865\ttotal: 33s\tremaining: 16.1s\n",
      "672:\tlearn: 0.0793263\ttotal: 33s\tremaining: 16s\n",
      "673:\tlearn: 0.0791815\ttotal: 33.1s\tremaining: 16s\n",
      "674:\tlearn: 0.0791256\ttotal: 33.1s\tremaining: 15.9s\n",
      "675:\tlearn: 0.0790220\ttotal: 33.2s\tremaining: 15.9s\n",
      "676:\tlearn: 0.0789047\ttotal: 33.2s\tremaining: 15.8s\n",
      "677:\tlearn: 0.0787481\ttotal: 33.3s\tremaining: 15.8s\n",
      "678:\tlearn: 0.0787001\ttotal: 33.3s\tremaining: 15.7s\n",
      "679:\tlearn: 0.0785758\ttotal: 33.4s\tremaining: 15.7s\n",
      "680:\tlearn: 0.0784800\ttotal: 33.4s\tremaining: 15.7s\n",
      "681:\tlearn: 0.0783327\ttotal: 33.5s\tremaining: 15.6s\n",
      "682:\tlearn: 0.0782907\ttotal: 33.5s\tremaining: 15.6s\n",
      "683:\tlearn: 0.0781629\ttotal: 33.6s\tremaining: 15.5s\n",
      "684:\tlearn: 0.0780414\ttotal: 33.6s\tremaining: 15.5s\n",
      "685:\tlearn: 0.0779668\ttotal: 33.7s\tremaining: 15.4s\n",
      "686:\tlearn: 0.0778842\ttotal: 33.7s\tremaining: 15.4s\n",
      "687:\tlearn: 0.0777870\ttotal: 33.7s\tremaining: 15.3s\n",
      "688:\tlearn: 0.0777043\ttotal: 33.8s\tremaining: 15.3s\n",
      "689:\tlearn: 0.0776335\ttotal: 33.8s\tremaining: 15.2s\n",
      "690:\tlearn: 0.0775323\ttotal: 33.9s\tremaining: 15.2s\n",
      "691:\tlearn: 0.0775178\ttotal: 33.9s\tremaining: 15.1s\n",
      "692:\tlearn: 0.0773740\ttotal: 34s\tremaining: 15.1s\n",
      "693:\tlearn: 0.0772787\ttotal: 34s\tremaining: 15s\n",
      "694:\tlearn: 0.0771540\ttotal: 34.1s\tremaining: 14.9s\n",
      "695:\tlearn: 0.0770693\ttotal: 34.1s\tremaining: 14.9s\n",
      "696:\tlearn: 0.0768959\ttotal: 34.2s\tremaining: 14.9s\n",
      "697:\tlearn: 0.0768441\ttotal: 34.2s\tremaining: 14.8s\n",
      "698:\tlearn: 0.0768077\ttotal: 34.3s\tremaining: 14.8s\n",
      "699:\tlearn: 0.0767750\ttotal: 34.3s\tremaining: 14.7s\n",
      "700:\tlearn: 0.0767240\ttotal: 34.4s\tremaining: 14.7s\n",
      "701:\tlearn: 0.0766598\ttotal: 34.4s\tremaining: 14.6s\n",
      "702:\tlearn: 0.0765675\ttotal: 34.5s\tremaining: 14.6s\n",
      "703:\tlearn: 0.0765347\ttotal: 34.5s\tremaining: 14.5s\n",
      "704:\tlearn: 0.0764983\ttotal: 34.6s\tremaining: 14.5s\n",
      "705:\tlearn: 0.0763894\ttotal: 34.6s\tremaining: 14.4s\n",
      "706:\tlearn: 0.0762853\ttotal: 34.7s\tremaining: 14.4s\n",
      "707:\tlearn: 0.0762222\ttotal: 34.7s\tremaining: 14.3s\n",
      "708:\tlearn: 0.0761660\ttotal: 34.8s\tremaining: 14.3s\n",
      "709:\tlearn: 0.0760677\ttotal: 34.8s\tremaining: 14.2s\n",
      "710:\tlearn: 0.0759725\ttotal: 34.9s\tremaining: 14.2s\n",
      "711:\tlearn: 0.0759256\ttotal: 34.9s\tremaining: 14.1s\n",
      "712:\tlearn: 0.0758599\ttotal: 35s\tremaining: 14.1s\n",
      "713:\tlearn: 0.0758035\ttotal: 35s\tremaining: 14s\n",
      "714:\tlearn: 0.0757325\ttotal: 35.1s\tremaining: 14s\n",
      "715:\tlearn: 0.0756594\ttotal: 35.1s\tremaining: 13.9s\n",
      "716:\tlearn: 0.0756230\ttotal: 35.2s\tremaining: 13.9s\n",
      "717:\tlearn: 0.0755948\ttotal: 35.2s\tremaining: 13.8s\n",
      "718:\tlearn: 0.0754766\ttotal: 35.3s\tremaining: 13.8s\n",
      "719:\tlearn: 0.0754497\ttotal: 35.3s\tremaining: 13.7s\n",
      "720:\tlearn: 0.0753799\ttotal: 35.4s\tremaining: 13.7s\n",
      "721:\tlearn: 0.0752879\ttotal: 35.4s\tremaining: 13.6s\n",
      "722:\tlearn: 0.0751874\ttotal: 35.5s\tremaining: 13.6s\n",
      "723:\tlearn: 0.0750772\ttotal: 35.5s\tremaining: 13.5s\n",
      "724:\tlearn: 0.0749735\ttotal: 35.5s\tremaining: 13.5s\n",
      "725:\tlearn: 0.0748367\ttotal: 35.6s\tremaining: 13.4s\n",
      "726:\tlearn: 0.0747728\ttotal: 35.6s\tremaining: 13.4s\n",
      "727:\tlearn: 0.0746671\ttotal: 35.7s\tremaining: 13.3s\n",
      "728:\tlearn: 0.0745988\ttotal: 35.8s\tremaining: 13.3s\n",
      "729:\tlearn: 0.0745876\ttotal: 35.8s\tremaining: 13.2s\n",
      "730:\tlearn: 0.0745418\ttotal: 35.9s\tremaining: 13.2s\n",
      "731:\tlearn: 0.0744990\ttotal: 35.9s\tremaining: 13.2s\n",
      "732:\tlearn: 0.0744129\ttotal: 36s\tremaining: 13.1s\n",
      "733:\tlearn: 0.0743490\ttotal: 36s\tremaining: 13.1s\n",
      "734:\tlearn: 0.0742339\ttotal: 36.1s\tremaining: 13s\n",
      "735:\tlearn: 0.0741491\ttotal: 36.1s\tremaining: 13s\n",
      "736:\tlearn: 0.0740047\ttotal: 36.2s\tremaining: 12.9s\n",
      "737:\tlearn: 0.0739308\ttotal: 36.2s\tremaining: 12.9s\n",
      "738:\tlearn: 0.0738480\ttotal: 36.3s\tremaining: 12.8s\n",
      "739:\tlearn: 0.0736949\ttotal: 36.3s\tremaining: 12.8s\n",
      "740:\tlearn: 0.0735978\ttotal: 36.4s\tremaining: 12.7s\n",
      "741:\tlearn: 0.0734636\ttotal: 36.4s\tremaining: 12.7s\n",
      "742:\tlearn: 0.0733590\ttotal: 36.5s\tremaining: 12.6s\n",
      "743:\tlearn: 0.0733209\ttotal: 36.5s\tremaining: 12.6s\n",
      "744:\tlearn: 0.0732541\ttotal: 36.6s\tremaining: 12.5s\n",
      "745:\tlearn: 0.0731599\ttotal: 36.6s\tremaining: 12.5s\n",
      "746:\tlearn: 0.0730861\ttotal: 36.6s\tremaining: 12.4s\n",
      "747:\tlearn: 0.0729323\ttotal: 36.7s\tremaining: 12.4s\n",
      "748:\tlearn: 0.0727975\ttotal: 36.7s\tremaining: 12.3s\n",
      "749:\tlearn: 0.0727289\ttotal: 36.8s\tremaining: 12.3s\n",
      "750:\tlearn: 0.0726388\ttotal: 36.8s\tremaining: 12.2s\n",
      "751:\tlearn: 0.0725630\ttotal: 36.9s\tremaining: 12.2s\n",
      "752:\tlearn: 0.0724761\ttotal: 36.9s\tremaining: 12.1s\n",
      "753:\tlearn: 0.0723077\ttotal: 37s\tremaining: 12.1s\n",
      "754:\tlearn: 0.0722121\ttotal: 37s\tremaining: 12s\n",
      "755:\tlearn: 0.0721384\ttotal: 37.1s\tremaining: 12s\n",
      "756:\tlearn: 0.0720506\ttotal: 37.1s\tremaining: 11.9s\n",
      "757:\tlearn: 0.0719679\ttotal: 37.2s\tremaining: 11.9s\n",
      "758:\tlearn: 0.0718565\ttotal: 37.2s\tremaining: 11.8s\n",
      "759:\tlearn: 0.0717290\ttotal: 37.3s\tremaining: 11.8s\n",
      "760:\tlearn: 0.0716904\ttotal: 37.3s\tremaining: 11.7s\n",
      "761:\tlearn: 0.0715714\ttotal: 37.4s\tremaining: 11.7s\n",
      "762:\tlearn: 0.0714709\ttotal: 37.4s\tremaining: 11.6s\n",
      "763:\tlearn: 0.0714609\ttotal: 37.5s\tremaining: 11.6s\n",
      "764:\tlearn: 0.0713783\ttotal: 37.5s\tremaining: 11.5s\n",
      "765:\tlearn: 0.0712932\ttotal: 37.6s\tremaining: 11.5s\n",
      "766:\tlearn: 0.0711591\ttotal: 37.6s\tremaining: 11.4s\n",
      "767:\tlearn: 0.0710739\ttotal: 37.7s\tremaining: 11.4s\n",
      "768:\tlearn: 0.0710250\ttotal: 37.7s\tremaining: 11.3s\n",
      "769:\tlearn: 0.0709497\ttotal: 37.8s\tremaining: 11.3s\n",
      "770:\tlearn: 0.0708938\ttotal: 37.8s\tremaining: 11.2s\n",
      "771:\tlearn: 0.0708250\ttotal: 37.9s\tremaining: 11.2s\n",
      "772:\tlearn: 0.0707044\ttotal: 37.9s\tremaining: 11.1s\n",
      "773:\tlearn: 0.0706309\ttotal: 38s\tremaining: 11.1s\n",
      "774:\tlearn: 0.0705107\ttotal: 38s\tremaining: 11s\n",
      "775:\tlearn: 0.0704094\ttotal: 38s\tremaining: 11s\n",
      "776:\tlearn: 0.0703484\ttotal: 38.1s\tremaining: 10.9s\n",
      "777:\tlearn: 0.0702527\ttotal: 38.1s\tremaining: 10.9s\n",
      "778:\tlearn: 0.0701906\ttotal: 38.2s\tremaining: 10.8s\n",
      "779:\tlearn: 0.0700886\ttotal: 38.2s\tremaining: 10.8s\n",
      "780:\tlearn: 0.0699898\ttotal: 38.3s\tremaining: 10.7s\n",
      "781:\tlearn: 0.0699453\ttotal: 38.3s\tremaining: 10.7s\n",
      "782:\tlearn: 0.0698658\ttotal: 38.4s\tremaining: 10.6s\n",
      "783:\tlearn: 0.0698045\ttotal: 38.4s\tremaining: 10.6s\n",
      "784:\tlearn: 0.0697346\ttotal: 38.5s\tremaining: 10.5s\n",
      "785:\tlearn: 0.0696758\ttotal: 38.5s\tremaining: 10.5s\n",
      "786:\tlearn: 0.0696038\ttotal: 38.6s\tremaining: 10.4s\n",
      "787:\tlearn: 0.0695259\ttotal: 38.6s\tremaining: 10.4s\n",
      "788:\tlearn: 0.0694794\ttotal: 38.7s\tremaining: 10.3s\n",
      "789:\tlearn: 0.0693949\ttotal: 38.7s\tremaining: 10.3s\n",
      "790:\tlearn: 0.0693390\ttotal: 38.8s\tremaining: 10.2s\n",
      "791:\tlearn: 0.0693054\ttotal: 38.8s\tremaining: 10.2s\n",
      "792:\tlearn: 0.0692108\ttotal: 38.9s\tremaining: 10.1s\n",
      "793:\tlearn: 0.0691702\ttotal: 38.9s\tremaining: 10.1s\n",
      "794:\tlearn: 0.0690575\ttotal: 39s\tremaining: 10s\n",
      "795:\tlearn: 0.0690435\ttotal: 39s\tremaining: 10s\n",
      "796:\tlearn: 0.0689661\ttotal: 39.1s\tremaining: 9.95s\n",
      "797:\tlearn: 0.0688962\ttotal: 39.1s\tremaining: 9.9s\n",
      "798:\tlearn: 0.0687933\ttotal: 39.2s\tremaining: 9.85s\n",
      "799:\tlearn: 0.0687037\ttotal: 39.2s\tremaining: 9.8s\n",
      "800:\tlearn: 0.0686240\ttotal: 39.3s\tremaining: 9.76s\n",
      "801:\tlearn: 0.0685472\ttotal: 39.3s\tremaining: 9.71s\n",
      "802:\tlearn: 0.0684950\ttotal: 39.4s\tremaining: 9.65s\n",
      "803:\tlearn: 0.0684852\ttotal: 39.4s\tremaining: 9.61s\n",
      "804:\tlearn: 0.0683980\ttotal: 39.5s\tremaining: 9.56s\n",
      "805:\tlearn: 0.0683265\ttotal: 39.5s\tremaining: 9.51s\n",
      "806:\tlearn: 0.0682084\ttotal: 39.5s\tremaining: 9.46s\n",
      "807:\tlearn: 0.0680785\ttotal: 39.6s\tremaining: 9.41s\n",
      "808:\tlearn: 0.0680021\ttotal: 39.6s\tremaining: 9.36s\n",
      "809:\tlearn: 0.0680015\ttotal: 39.7s\tremaining: 9.31s\n",
      "810:\tlearn: 0.0679557\ttotal: 39.7s\tremaining: 9.26s\n",
      "811:\tlearn: 0.0678750\ttotal: 39.8s\tremaining: 9.21s\n",
      "812:\tlearn: 0.0677939\ttotal: 39.8s\tremaining: 9.16s\n",
      "813:\tlearn: 0.0677563\ttotal: 39.9s\tremaining: 9.11s\n",
      "814:\tlearn: 0.0677285\ttotal: 39.9s\tremaining: 9.06s\n",
      "815:\tlearn: 0.0676153\ttotal: 40s\tremaining: 9.01s\n",
      "816:\tlearn: 0.0675588\ttotal: 40s\tremaining: 8.96s\n",
      "817:\tlearn: 0.0674932\ttotal: 40.1s\tremaining: 8.91s\n",
      "818:\tlearn: 0.0674176\ttotal: 40.1s\tremaining: 8.86s\n",
      "819:\tlearn: 0.0673779\ttotal: 40.2s\tremaining: 8.81s\n",
      "820:\tlearn: 0.0672943\ttotal: 40.2s\tremaining: 8.76s\n",
      "821:\tlearn: 0.0672189\ttotal: 40.2s\tremaining: 8.71s\n",
      "822:\tlearn: 0.0671810\ttotal: 40.3s\tremaining: 8.67s\n",
      "823:\tlearn: 0.0671379\ttotal: 40.3s\tremaining: 8.62s\n",
      "824:\tlearn: 0.0670264\ttotal: 40.4s\tremaining: 8.57s\n",
      "825:\tlearn: 0.0669459\ttotal: 40.4s\tremaining: 8.52s\n",
      "826:\tlearn: 0.0668547\ttotal: 40.5s\tremaining: 8.47s\n",
      "827:\tlearn: 0.0667904\ttotal: 40.5s\tremaining: 8.42s\n",
      "828:\tlearn: 0.0667452\ttotal: 40.6s\tremaining: 8.37s\n",
      "829:\tlearn: 0.0667197\ttotal: 40.6s\tremaining: 8.32s\n",
      "830:\tlearn: 0.0666197\ttotal: 40.7s\tremaining: 8.27s\n",
      "831:\tlearn: 0.0665876\ttotal: 40.7s\tremaining: 8.22s\n",
      "832:\tlearn: 0.0664794\ttotal: 40.8s\tremaining: 8.17s\n",
      "833:\tlearn: 0.0663967\ttotal: 40.8s\tremaining: 8.13s\n",
      "834:\tlearn: 0.0662644\ttotal: 40.9s\tremaining: 8.08s\n",
      "835:\tlearn: 0.0662248\ttotal: 40.9s\tremaining: 8.03s\n",
      "836:\tlearn: 0.0661422\ttotal: 41s\tremaining: 7.98s\n",
      "837:\tlearn: 0.0661224\ttotal: 41s\tremaining: 7.93s\n",
      "838:\tlearn: 0.0660526\ttotal: 41.1s\tremaining: 7.88s\n",
      "839:\tlearn: 0.0659631\ttotal: 41.1s\tremaining: 7.83s\n",
      "840:\tlearn: 0.0658873\ttotal: 41.1s\tremaining: 7.78s\n",
      "841:\tlearn: 0.0657949\ttotal: 41.2s\tremaining: 7.73s\n",
      "842:\tlearn: 0.0657266\ttotal: 41.2s\tremaining: 7.68s\n",
      "843:\tlearn: 0.0657101\ttotal: 41.3s\tremaining: 7.63s\n",
      "844:\tlearn: 0.0656273\ttotal: 41.3s\tremaining: 7.58s\n",
      "845:\tlearn: 0.0655728\ttotal: 41.4s\tremaining: 7.53s\n",
      "846:\tlearn: 0.0654844\ttotal: 41.4s\tremaining: 7.48s\n",
      "847:\tlearn: 0.0654429\ttotal: 41.5s\tremaining: 7.44s\n",
      "848:\tlearn: 0.0653902\ttotal: 41.5s\tremaining: 7.39s\n",
      "849:\tlearn: 0.0653235\ttotal: 41.6s\tremaining: 7.34s\n",
      "850:\tlearn: 0.0652366\ttotal: 41.6s\tremaining: 7.29s\n",
      "851:\tlearn: 0.0651671\ttotal: 41.7s\tremaining: 7.24s\n",
      "852:\tlearn: 0.0651232\ttotal: 41.7s\tremaining: 7.19s\n",
      "853:\tlearn: 0.0650661\ttotal: 41.8s\tremaining: 7.14s\n",
      "854:\tlearn: 0.0650306\ttotal: 41.8s\tremaining: 7.09s\n",
      "855:\tlearn: 0.0650008\ttotal: 41.9s\tremaining: 7.04s\n",
      "856:\tlearn: 0.0649496\ttotal: 41.9s\tremaining: 7s\n",
      "857:\tlearn: 0.0648930\ttotal: 42s\tremaining: 6.95s\n",
      "858:\tlearn: 0.0647710\ttotal: 42s\tremaining: 6.9s\n",
      "859:\tlearn: 0.0646794\ttotal: 42.1s\tremaining: 6.85s\n",
      "860:\tlearn: 0.0645604\ttotal: 42.1s\tremaining: 6.8s\n",
      "861:\tlearn: 0.0644866\ttotal: 42.2s\tremaining: 6.75s\n",
      "862:\tlearn: 0.0644099\ttotal: 42.2s\tremaining: 6.7s\n",
      "863:\tlearn: 0.0643574\ttotal: 42.3s\tremaining: 6.65s\n",
      "864:\tlearn: 0.0642695\ttotal: 42.3s\tremaining: 6.6s\n",
      "865:\tlearn: 0.0642086\ttotal: 42.4s\tremaining: 6.55s\n",
      "866:\tlearn: 0.0641312\ttotal: 42.4s\tremaining: 6.5s\n",
      "867:\tlearn: 0.0640716\ttotal: 42.5s\tremaining: 6.46s\n",
      "868:\tlearn: 0.0640112\ttotal: 42.5s\tremaining: 6.41s\n",
      "869:\tlearn: 0.0639249\ttotal: 42.6s\tremaining: 6.36s\n",
      "870:\tlearn: 0.0638457\ttotal: 42.6s\tremaining: 6.31s\n",
      "871:\tlearn: 0.0637616\ttotal: 42.7s\tremaining: 6.26s\n",
      "872:\tlearn: 0.0637087\ttotal: 42.7s\tremaining: 6.21s\n",
      "873:\tlearn: 0.0636230\ttotal: 42.7s\tremaining: 6.16s\n",
      "874:\tlearn: 0.0635356\ttotal: 42.8s\tremaining: 6.11s\n",
      "875:\tlearn: 0.0634678\ttotal: 42.8s\tremaining: 6.06s\n",
      "876:\tlearn: 0.0634046\ttotal: 42.9s\tremaining: 6.01s\n",
      "877:\tlearn: 0.0633466\ttotal: 42.9s\tremaining: 5.97s\n",
      "878:\tlearn: 0.0632787\ttotal: 43s\tremaining: 5.92s\n",
      "879:\tlearn: 0.0632394\ttotal: 43s\tremaining: 5.87s\n",
      "880:\tlearn: 0.0631997\ttotal: 43.1s\tremaining: 5.82s\n",
      "881:\tlearn: 0.0631457\ttotal: 43.1s\tremaining: 5.77s\n",
      "882:\tlearn: 0.0631210\ttotal: 43.2s\tremaining: 5.72s\n",
      "883:\tlearn: 0.0630871\ttotal: 43.2s\tremaining: 5.67s\n",
      "884:\tlearn: 0.0630585\ttotal: 43.3s\tremaining: 5.62s\n",
      "885:\tlearn: 0.0629994\ttotal: 43.3s\tremaining: 5.57s\n",
      "886:\tlearn: 0.0629510\ttotal: 43.4s\tremaining: 5.53s\n",
      "887:\tlearn: 0.0628674\ttotal: 43.4s\tremaining: 5.47s\n",
      "888:\tlearn: 0.0628321\ttotal: 43.5s\tremaining: 5.43s\n",
      "889:\tlearn: 0.0627789\ttotal: 43.5s\tremaining: 5.38s\n",
      "890:\tlearn: 0.0627312\ttotal: 43.6s\tremaining: 5.33s\n",
      "891:\tlearn: 0.0626960\ttotal: 43.6s\tremaining: 5.28s\n",
      "892:\tlearn: 0.0626278\ttotal: 43.6s\tremaining: 5.23s\n",
      "893:\tlearn: 0.0625909\ttotal: 43.7s\tremaining: 5.18s\n",
      "894:\tlearn: 0.0625308\ttotal: 43.7s\tremaining: 5.13s\n",
      "895:\tlearn: 0.0624844\ttotal: 43.8s\tremaining: 5.08s\n",
      "896:\tlearn: 0.0624301\ttotal: 43.8s\tremaining: 5.03s\n",
      "897:\tlearn: 0.0623966\ttotal: 43.9s\tremaining: 4.98s\n",
      "898:\tlearn: 0.0623189\ttotal: 43.9s\tremaining: 4.93s\n",
      "899:\tlearn: 0.0622643\ttotal: 44s\tremaining: 4.88s\n",
      "900:\tlearn: 0.0622026\ttotal: 44s\tremaining: 4.84s\n",
      "901:\tlearn: 0.0621436\ttotal: 44.1s\tremaining: 4.79s\n",
      "902:\tlearn: 0.0621021\ttotal: 44.1s\tremaining: 4.74s\n",
      "903:\tlearn: 0.0620471\ttotal: 44.2s\tremaining: 4.69s\n",
      "904:\tlearn: 0.0620097\ttotal: 44.2s\tremaining: 4.64s\n",
      "905:\tlearn: 0.0619484\ttotal: 44.3s\tremaining: 4.59s\n",
      "906:\tlearn: 0.0618844\ttotal: 44.3s\tremaining: 4.54s\n",
      "907:\tlearn: 0.0618240\ttotal: 44.4s\tremaining: 4.49s\n",
      "908:\tlearn: 0.0617629\ttotal: 44.4s\tremaining: 4.45s\n",
      "909:\tlearn: 0.0617182\ttotal: 44.5s\tremaining: 4.4s\n",
      "910:\tlearn: 0.0616531\ttotal: 44.5s\tremaining: 4.35s\n",
      "911:\tlearn: 0.0615625\ttotal: 44.6s\tremaining: 4.3s\n",
      "912:\tlearn: 0.0614682\ttotal: 44.6s\tremaining: 4.25s\n",
      "913:\tlearn: 0.0614101\ttotal: 44.7s\tremaining: 4.2s\n",
      "914:\tlearn: 0.0614088\ttotal: 44.7s\tremaining: 4.15s\n",
      "915:\tlearn: 0.0613401\ttotal: 44.7s\tremaining: 4.1s\n",
      "916:\tlearn: 0.0612763\ttotal: 44.8s\tremaining: 4.05s\n",
      "917:\tlearn: 0.0612153\ttotal: 44.8s\tremaining: 4s\n",
      "918:\tlearn: 0.0611791\ttotal: 44.9s\tremaining: 3.96s\n",
      "919:\tlearn: 0.0611139\ttotal: 44.9s\tremaining: 3.91s\n",
      "920:\tlearn: 0.0610830\ttotal: 45s\tremaining: 3.86s\n",
      "921:\tlearn: 0.0609574\ttotal: 45s\tremaining: 3.81s\n",
      "922:\tlearn: 0.0608926\ttotal: 45.1s\tremaining: 3.76s\n",
      "923:\tlearn: 0.0608247\ttotal: 45.1s\tremaining: 3.71s\n",
      "924:\tlearn: 0.0607626\ttotal: 45.2s\tremaining: 3.66s\n",
      "925:\tlearn: 0.0606735\ttotal: 45.2s\tremaining: 3.61s\n",
      "926:\tlearn: 0.0605957\ttotal: 45.3s\tremaining: 3.56s\n",
      "927:\tlearn: 0.0605446\ttotal: 45.3s\tremaining: 3.51s\n",
      "928:\tlearn: 0.0605276\ttotal: 45.3s\tremaining: 3.46s\n",
      "929:\tlearn: 0.0604243\ttotal: 45.4s\tremaining: 3.42s\n",
      "930:\tlearn: 0.0603795\ttotal: 45.4s\tremaining: 3.37s\n",
      "931:\tlearn: 0.0603296\ttotal: 45.5s\tremaining: 3.32s\n",
      "932:\tlearn: 0.0602878\ttotal: 45.5s\tremaining: 3.27s\n",
      "933:\tlearn: 0.0602367\ttotal: 45.6s\tremaining: 3.22s\n",
      "934:\tlearn: 0.0601961\ttotal: 45.6s\tremaining: 3.17s\n",
      "935:\tlearn: 0.0601519\ttotal: 45.7s\tremaining: 3.12s\n",
      "936:\tlearn: 0.0601074\ttotal: 45.7s\tremaining: 3.08s\n",
      "937:\tlearn: 0.0600358\ttotal: 45.8s\tremaining: 3.03s\n",
      "938:\tlearn: 0.0599617\ttotal: 45.8s\tremaining: 2.98s\n",
      "939:\tlearn: 0.0599011\ttotal: 45.9s\tremaining: 2.93s\n",
      "940:\tlearn: 0.0598438\ttotal: 45.9s\tremaining: 2.88s\n",
      "941:\tlearn: 0.0597671\ttotal: 46s\tremaining: 2.83s\n",
      "942:\tlearn: 0.0596845\ttotal: 46s\tremaining: 2.78s\n",
      "943:\tlearn: 0.0596023\ttotal: 46.1s\tremaining: 2.73s\n",
      "944:\tlearn: 0.0595526\ttotal: 46.1s\tremaining: 2.68s\n",
      "945:\tlearn: 0.0595046\ttotal: 46.2s\tremaining: 2.63s\n",
      "946:\tlearn: 0.0594601\ttotal: 46.2s\tremaining: 2.59s\n",
      "947:\tlearn: 0.0593355\ttotal: 46.3s\tremaining: 2.54s\n",
      "948:\tlearn: 0.0592627\ttotal: 46.3s\tremaining: 2.49s\n",
      "949:\tlearn: 0.0591907\ttotal: 46.4s\tremaining: 2.44s\n",
      "950:\tlearn: 0.0591032\ttotal: 46.4s\tremaining: 2.39s\n",
      "951:\tlearn: 0.0591000\ttotal: 46.5s\tremaining: 2.34s\n",
      "952:\tlearn: 0.0590417\ttotal: 46.5s\tremaining: 2.29s\n",
      "953:\tlearn: 0.0589920\ttotal: 46.6s\tremaining: 2.25s\n",
      "954:\tlearn: 0.0589440\ttotal: 46.6s\tremaining: 2.2s\n",
      "955:\tlearn: 0.0588918\ttotal: 46.7s\tremaining: 2.15s\n",
      "956:\tlearn: 0.0588657\ttotal: 46.7s\tremaining: 2.1s\n",
      "957:\tlearn: 0.0587826\ttotal: 46.8s\tremaining: 2.05s\n",
      "958:\tlearn: 0.0587208\ttotal: 46.8s\tremaining: 2s\n",
      "959:\tlearn: 0.0586727\ttotal: 46.9s\tremaining: 1.95s\n",
      "960:\tlearn: 0.0586076\ttotal: 46.9s\tremaining: 1.9s\n",
      "961:\tlearn: 0.0585423\ttotal: 46.9s\tremaining: 1.85s\n",
      "962:\tlearn: 0.0585140\ttotal: 47s\tremaining: 1.8s\n",
      "963:\tlearn: 0.0584309\ttotal: 47s\tremaining: 1.76s\n",
      "964:\tlearn: 0.0583985\ttotal: 47.1s\tremaining: 1.71s\n",
      "965:\tlearn: 0.0583672\ttotal: 47.1s\tremaining: 1.66s\n",
      "966:\tlearn: 0.0583329\ttotal: 47.2s\tremaining: 1.61s\n",
      "967:\tlearn: 0.0583290\ttotal: 47.2s\tremaining: 1.56s\n",
      "968:\tlearn: 0.0583062\ttotal: 47.3s\tremaining: 1.51s\n",
      "969:\tlearn: 0.0582539\ttotal: 47.3s\tremaining: 1.46s\n",
      "970:\tlearn: 0.0581899\ttotal: 47.4s\tremaining: 1.41s\n",
      "971:\tlearn: 0.0581693\ttotal: 47.4s\tremaining: 1.37s\n",
      "972:\tlearn: 0.0581404\ttotal: 47.5s\tremaining: 1.32s\n",
      "973:\tlearn: 0.0581116\ttotal: 47.5s\tremaining: 1.27s\n",
      "974:\tlearn: 0.0580793\ttotal: 47.6s\tremaining: 1.22s\n",
      "975:\tlearn: 0.0580302\ttotal: 47.6s\tremaining: 1.17s\n",
      "976:\tlearn: 0.0579652\ttotal: 47.7s\tremaining: 1.12s\n",
      "977:\tlearn: 0.0579363\ttotal: 47.7s\tremaining: 1.07s\n",
      "978:\tlearn: 0.0578880\ttotal: 47.8s\tremaining: 1.02s\n",
      "979:\tlearn: 0.0578538\ttotal: 47.8s\tremaining: 976ms\n",
      "980:\tlearn: 0.0578012\ttotal: 47.9s\tremaining: 927ms\n",
      "981:\tlearn: 0.0577123\ttotal: 47.9s\tremaining: 879ms\n",
      "982:\tlearn: 0.0576653\ttotal: 48s\tremaining: 830ms\n",
      "983:\tlearn: 0.0576467\ttotal: 48s\tremaining: 781ms\n",
      "984:\tlearn: 0.0576152\ttotal: 48.1s\tremaining: 732ms\n",
      "985:\tlearn: 0.0575923\ttotal: 48.1s\tremaining: 683ms\n",
      "986:\tlearn: 0.0575388\ttotal: 48.2s\tremaining: 635ms\n",
      "987:\tlearn: 0.0574966\ttotal: 48.2s\tremaining: 586ms\n",
      "988:\tlearn: 0.0574555\ttotal: 48.3s\tremaining: 537ms\n",
      "989:\tlearn: 0.0574305\ttotal: 48.3s\tremaining: 488ms\n",
      "990:\tlearn: 0.0573959\ttotal: 48.4s\tremaining: 439ms\n",
      "991:\tlearn: 0.0573322\ttotal: 48.4s\tremaining: 391ms\n",
      "992:\tlearn: 0.0573017\ttotal: 48.5s\tremaining: 342ms\n",
      "993:\tlearn: 0.0572431\ttotal: 48.5s\tremaining: 293ms\n",
      "994:\tlearn: 0.0571501\ttotal: 48.6s\tremaining: 244ms\n",
      "995:\tlearn: 0.0570948\ttotal: 48.6s\tremaining: 195ms\n",
      "996:\tlearn: 0.0570772\ttotal: 48.7s\tremaining: 147ms\n",
      "997:\tlearn: 0.0570108\ttotal: 48.7s\tremaining: 97.7ms\n",
      "998:\tlearn: 0.0569659\ttotal: 48.8s\tremaining: 48.8ms\n",
      "999:\tlearn: 0.0569032\ttotal: 48.8s\tremaining: 0us\n",
      "0:\tlearn: 0.6233512\ttotal: 50.9ms\tremaining: 50.9s\n",
      "1:\tlearn: 0.5709227\ttotal: 98ms\tremaining: 48.9s\n",
      "2:\tlearn: 0.5299704\ttotal: 148ms\tremaining: 49.1s\n",
      "3:\tlearn: 0.4996089\ttotal: 194ms\tremaining: 48.3s\n",
      "4:\tlearn: 0.4756427\ttotal: 244ms\tremaining: 48.5s\n",
      "5:\tlearn: 0.4560386\ttotal: 291ms\tremaining: 48.1s\n",
      "6:\tlearn: 0.4390889\ttotal: 341ms\tremaining: 48.4s\n",
      "7:\tlearn: 0.4279416\ttotal: 385ms\tremaining: 47.8s\n",
      "8:\tlearn: 0.4134211\ttotal: 435ms\tremaining: 47.9s\n",
      "9:\tlearn: 0.4013912\ttotal: 481ms\tremaining: 47.6s\n",
      "10:\tlearn: 0.3933815\ttotal: 532ms\tremaining: 47.8s\n",
      "11:\tlearn: 0.3821280\ttotal: 577ms\tremaining: 47.5s\n",
      "12:\tlearn: 0.3746369\ttotal: 625ms\tremaining: 47.4s\n",
      "13:\tlearn: 0.3689683\ttotal: 676ms\tremaining: 47.6s\n",
      "14:\tlearn: 0.3622854\ttotal: 727ms\tremaining: 47.8s\n",
      "15:\tlearn: 0.3564089\ttotal: 776ms\tremaining: 47.7s\n",
      "16:\tlearn: 0.3519036\ttotal: 833ms\tremaining: 48.2s\n",
      "17:\tlearn: 0.3493788\ttotal: 879ms\tremaining: 48s\n",
      "18:\tlearn: 0.3459994\ttotal: 929ms\tremaining: 48s\n",
      "19:\tlearn: 0.3432026\ttotal: 975ms\tremaining: 47.8s\n",
      "20:\tlearn: 0.3399269\ttotal: 1.02s\tremaining: 47.8s\n",
      "21:\tlearn: 0.3359446\ttotal: 1.07s\tremaining: 47.7s\n",
      "22:\tlearn: 0.3318236\ttotal: 1.12s\tremaining: 47.7s\n",
      "23:\tlearn: 0.3293860\ttotal: 1.17s\tremaining: 47.5s\n",
      "24:\tlearn: 0.3265840\ttotal: 1.22s\tremaining: 47.6s\n",
      "25:\tlearn: 0.3244907\ttotal: 1.27s\tremaining: 47.5s\n",
      "26:\tlearn: 0.3215856\ttotal: 1.32s\tremaining: 47.4s\n",
      "27:\tlearn: 0.3197103\ttotal: 1.36s\tremaining: 47.3s\n",
      "28:\tlearn: 0.3151432\ttotal: 1.41s\tremaining: 47.2s\n",
      "29:\tlearn: 0.3130342\ttotal: 1.46s\tremaining: 47.1s\n",
      "30:\tlearn: 0.3110265\ttotal: 1.51s\tremaining: 47.2s\n",
      "31:\tlearn: 0.3091909\ttotal: 1.56s\tremaining: 47.2s\n",
      "32:\tlearn: 0.3068300\ttotal: 1.61s\tremaining: 47.1s\n",
      "33:\tlearn: 0.3048989\ttotal: 1.65s\tremaining: 47s\n",
      "34:\tlearn: 0.3028645\ttotal: 1.71s\tremaining: 47s\n",
      "35:\tlearn: 0.3006501\ttotal: 1.75s\tremaining: 47s\n",
      "36:\tlearn: 0.2990798\ttotal: 1.81s\tremaining: 47s\n",
      "37:\tlearn: 0.2975092\ttotal: 1.86s\tremaining: 47.2s\n",
      "38:\tlearn: 0.2962353\ttotal: 1.92s\tremaining: 47.4s\n",
      "39:\tlearn: 0.2953855\ttotal: 1.97s\tremaining: 47.3s\n",
      "40:\tlearn: 0.2937867\ttotal: 2.02s\tremaining: 47.2s\n",
      "41:\tlearn: 0.2928581\ttotal: 2.07s\tremaining: 47.2s\n",
      "42:\tlearn: 0.2912029\ttotal: 2.12s\tremaining: 47.1s\n",
      "43:\tlearn: 0.2894149\ttotal: 2.17s\tremaining: 47.1s\n",
      "44:\tlearn: 0.2880677\ttotal: 2.21s\tremaining: 47s\n",
      "45:\tlearn: 0.2872902\ttotal: 2.26s\tremaining: 46.9s\n",
      "46:\tlearn: 0.2863492\ttotal: 2.31s\tremaining: 46.8s\n",
      "47:\tlearn: 0.2850643\ttotal: 2.35s\tremaining: 46.7s\n",
      "48:\tlearn: 0.2843626\ttotal: 2.4s\tremaining: 46.6s\n",
      "49:\tlearn: 0.2833985\ttotal: 2.45s\tremaining: 46.5s\n",
      "50:\tlearn: 0.2824655\ttotal: 2.5s\tremaining: 46.5s\n",
      "51:\tlearn: 0.2813458\ttotal: 2.55s\tremaining: 46.5s\n",
      "52:\tlearn: 0.2804472\ttotal: 2.59s\tremaining: 46.4s\n",
      "53:\tlearn: 0.2796064\ttotal: 2.65s\tremaining: 46.4s\n",
      "54:\tlearn: 0.2784730\ttotal: 2.7s\tremaining: 46.4s\n",
      "55:\tlearn: 0.2775912\ttotal: 2.75s\tremaining: 46.4s\n",
      "56:\tlearn: 0.2757340\ttotal: 2.8s\tremaining: 46.3s\n",
      "57:\tlearn: 0.2753797\ttotal: 2.82s\tremaining: 45.8s\n",
      "58:\tlearn: 0.2740445\ttotal: 2.87s\tremaining: 45.8s\n",
      "59:\tlearn: 0.2737452\ttotal: 2.92s\tremaining: 45.8s\n",
      "60:\tlearn: 0.2725116\ttotal: 2.98s\tremaining: 45.8s\n",
      "61:\tlearn: 0.2720201\ttotal: 3.03s\tremaining: 45.8s\n",
      "62:\tlearn: 0.2715851\ttotal: 3.08s\tremaining: 45.8s\n",
      "63:\tlearn: 0.2708644\ttotal: 3.13s\tremaining: 45.8s\n",
      "64:\tlearn: 0.2701123\ttotal: 3.19s\tremaining: 45.8s\n",
      "65:\tlearn: 0.2691850\ttotal: 3.24s\tremaining: 45.9s\n",
      "66:\tlearn: 0.2678176\ttotal: 3.29s\tremaining: 45.9s\n",
      "67:\tlearn: 0.2667284\ttotal: 3.35s\tremaining: 45.9s\n",
      "68:\tlearn: 0.2664060\ttotal: 3.42s\tremaining: 46.1s\n",
      "69:\tlearn: 0.2657031\ttotal: 3.47s\tremaining: 46.1s\n",
      "70:\tlearn: 0.2648923\ttotal: 3.52s\tremaining: 46.1s\n",
      "71:\tlearn: 0.2633275\ttotal: 3.57s\tremaining: 46.1s\n",
      "72:\tlearn: 0.2626055\ttotal: 3.63s\tremaining: 46.1s\n",
      "73:\tlearn: 0.2622695\ttotal: 3.67s\tremaining: 46s\n",
      "74:\tlearn: 0.2618334\ttotal: 3.73s\tremaining: 46s\n",
      "75:\tlearn: 0.2612839\ttotal: 3.77s\tremaining: 45.9s\n",
      "76:\tlearn: 0.2606683\ttotal: 3.82s\tremaining: 45.8s\n",
      "77:\tlearn: 0.2605115\ttotal: 3.83s\tremaining: 45.3s\n",
      "78:\tlearn: 0.2594536\ttotal: 3.88s\tremaining: 45.2s\n",
      "79:\tlearn: 0.2587594\ttotal: 3.93s\tremaining: 45.2s\n",
      "80:\tlearn: 0.2580950\ttotal: 3.97s\tremaining: 45.1s\n",
      "81:\tlearn: 0.2577142\ttotal: 4.02s\tremaining: 45s\n",
      "82:\tlearn: 0.2573912\ttotal: 4.08s\tremaining: 45.1s\n",
      "83:\tlearn: 0.2563430\ttotal: 4.14s\tremaining: 45.2s\n",
      "84:\tlearn: 0.2555722\ttotal: 4.19s\tremaining: 45.2s\n",
      "85:\tlearn: 0.2555362\ttotal: 4.21s\tremaining: 44.8s\n",
      "86:\tlearn: 0.2546777\ttotal: 4.26s\tremaining: 44.7s\n",
      "87:\tlearn: 0.2539268\ttotal: 4.31s\tremaining: 44.7s\n",
      "88:\tlearn: 0.2532595\ttotal: 4.38s\tremaining: 44.8s\n",
      "89:\tlearn: 0.2519499\ttotal: 4.43s\tremaining: 44.8s\n",
      "90:\tlearn: 0.2512564\ttotal: 4.48s\tremaining: 44.8s\n",
      "91:\tlearn: 0.2505971\ttotal: 4.53s\tremaining: 44.7s\n",
      "92:\tlearn: 0.2497165\ttotal: 4.59s\tremaining: 44.7s\n",
      "93:\tlearn: 0.2489690\ttotal: 4.64s\tremaining: 44.7s\n",
      "94:\tlearn: 0.2486488\ttotal: 4.69s\tremaining: 44.7s\n",
      "95:\tlearn: 0.2480902\ttotal: 4.74s\tremaining: 44.7s\n",
      "96:\tlearn: 0.2473891\ttotal: 4.79s\tremaining: 44.6s\n",
      "97:\tlearn: 0.2463813\ttotal: 4.85s\tremaining: 44.6s\n",
      "98:\tlearn: 0.2456987\ttotal: 4.9s\tremaining: 44.6s\n",
      "99:\tlearn: 0.2452649\ttotal: 4.95s\tremaining: 44.6s\n",
      "100:\tlearn: 0.2445654\ttotal: 5.01s\tremaining: 44.6s\n",
      "101:\tlearn: 0.2441910\ttotal: 5.07s\tremaining: 44.6s\n",
      "102:\tlearn: 0.2437622\ttotal: 5.12s\tremaining: 44.6s\n",
      "103:\tlearn: 0.2430648\ttotal: 5.18s\tremaining: 44.6s\n",
      "104:\tlearn: 0.2428333\ttotal: 5.23s\tremaining: 44.6s\n",
      "105:\tlearn: 0.2423360\ttotal: 5.28s\tremaining: 44.5s\n",
      "106:\tlearn: 0.2418603\ttotal: 5.33s\tremaining: 44.5s\n",
      "107:\tlearn: 0.2414330\ttotal: 5.38s\tremaining: 44.5s\n",
      "108:\tlearn: 0.2406079\ttotal: 5.43s\tremaining: 44.4s\n",
      "109:\tlearn: 0.2401730\ttotal: 5.49s\tremaining: 44.4s\n",
      "110:\tlearn: 0.2395481\ttotal: 5.54s\tremaining: 44.4s\n",
      "111:\tlearn: 0.2387495\ttotal: 5.6s\tremaining: 44.4s\n",
      "112:\tlearn: 0.2376741\ttotal: 5.66s\tremaining: 44.5s\n",
      "113:\tlearn: 0.2370361\ttotal: 5.72s\tremaining: 44.5s\n",
      "114:\tlearn: 0.2359724\ttotal: 5.78s\tremaining: 44.5s\n",
      "115:\tlearn: 0.2352431\ttotal: 5.84s\tremaining: 44.5s\n",
      "116:\tlearn: 0.2347945\ttotal: 5.89s\tremaining: 44.5s\n",
      "117:\tlearn: 0.2345561\ttotal: 5.95s\tremaining: 44.5s\n",
      "118:\tlearn: 0.2341113\ttotal: 6.01s\tremaining: 44.5s\n",
      "119:\tlearn: 0.2336679\ttotal: 6.08s\tremaining: 44.6s\n",
      "120:\tlearn: 0.2331845\ttotal: 6.13s\tremaining: 44.5s\n",
      "121:\tlearn: 0.2329280\ttotal: 6.19s\tremaining: 44.5s\n",
      "122:\tlearn: 0.2324660\ttotal: 6.25s\tremaining: 44.6s\n",
      "123:\tlearn: 0.2318231\ttotal: 6.31s\tremaining: 44.6s\n",
      "124:\tlearn: 0.2315668\ttotal: 6.38s\tremaining: 44.7s\n",
      "125:\tlearn: 0.2309230\ttotal: 6.45s\tremaining: 44.7s\n",
      "126:\tlearn: 0.2305163\ttotal: 6.52s\tremaining: 44.8s\n",
      "127:\tlearn: 0.2301426\ttotal: 6.57s\tremaining: 44.8s\n",
      "128:\tlearn: 0.2296372\ttotal: 6.63s\tremaining: 44.8s\n",
      "129:\tlearn: 0.2292270\ttotal: 6.68s\tremaining: 44.7s\n",
      "130:\tlearn: 0.2289097\ttotal: 6.74s\tremaining: 44.7s\n",
      "131:\tlearn: 0.2283841\ttotal: 6.79s\tremaining: 44.6s\n",
      "132:\tlearn: 0.2281926\ttotal: 6.84s\tremaining: 44.6s\n",
      "133:\tlearn: 0.2276356\ttotal: 6.9s\tremaining: 44.6s\n",
      "134:\tlearn: 0.2273591\ttotal: 6.95s\tremaining: 44.5s\n",
      "135:\tlearn: 0.2266233\ttotal: 7.01s\tremaining: 44.5s\n",
      "136:\tlearn: 0.2263264\ttotal: 7.06s\tremaining: 44.5s\n",
      "137:\tlearn: 0.2254378\ttotal: 7.11s\tremaining: 44.4s\n",
      "138:\tlearn: 0.2246753\ttotal: 7.17s\tremaining: 44.4s\n",
      "139:\tlearn: 0.2242020\ttotal: 7.22s\tremaining: 44.4s\n",
      "140:\tlearn: 0.2238620\ttotal: 7.27s\tremaining: 44.3s\n",
      "141:\tlearn: 0.2233228\ttotal: 7.33s\tremaining: 44.3s\n",
      "142:\tlearn: 0.2227575\ttotal: 7.39s\tremaining: 44.3s\n",
      "143:\tlearn: 0.2223416\ttotal: 7.45s\tremaining: 44.3s\n",
      "144:\tlearn: 0.2218323\ttotal: 7.51s\tremaining: 44.3s\n",
      "145:\tlearn: 0.2210923\ttotal: 7.56s\tremaining: 44.2s\n",
      "146:\tlearn: 0.2202969\ttotal: 7.61s\tremaining: 44.2s\n",
      "147:\tlearn: 0.2200434\ttotal: 7.67s\tremaining: 44.1s\n",
      "148:\tlearn: 0.2194151\ttotal: 7.71s\tremaining: 44.1s\n",
      "149:\tlearn: 0.2190094\ttotal: 7.76s\tremaining: 44s\n",
      "150:\tlearn: 0.2185697\ttotal: 7.82s\tremaining: 43.9s\n",
      "151:\tlearn: 0.2180438\ttotal: 7.87s\tremaining: 43.9s\n",
      "152:\tlearn: 0.2175730\ttotal: 7.92s\tremaining: 43.8s\n",
      "153:\tlearn: 0.2171088\ttotal: 7.97s\tremaining: 43.8s\n",
      "154:\tlearn: 0.2168256\ttotal: 8.03s\tremaining: 43.8s\n",
      "155:\tlearn: 0.2165335\ttotal: 8.09s\tremaining: 43.8s\n",
      "156:\tlearn: 0.2162204\ttotal: 8.15s\tremaining: 43.8s\n",
      "157:\tlearn: 0.2156376\ttotal: 8.21s\tremaining: 43.7s\n",
      "158:\tlearn: 0.2149799\ttotal: 8.26s\tremaining: 43.7s\n",
      "159:\tlearn: 0.2142299\ttotal: 8.31s\tremaining: 43.6s\n",
      "160:\tlearn: 0.2138638\ttotal: 8.37s\tremaining: 43.6s\n",
      "161:\tlearn: 0.2136370\ttotal: 8.42s\tremaining: 43.6s\n",
      "162:\tlearn: 0.2131479\ttotal: 8.47s\tremaining: 43.5s\n",
      "163:\tlearn: 0.2127978\ttotal: 8.53s\tremaining: 43.5s\n",
      "164:\tlearn: 0.2126476\ttotal: 8.58s\tremaining: 43.4s\n",
      "165:\tlearn: 0.2124014\ttotal: 8.63s\tremaining: 43.4s\n",
      "166:\tlearn: 0.2121902\ttotal: 8.69s\tremaining: 43.4s\n",
      "167:\tlearn: 0.2117689\ttotal: 8.75s\tremaining: 43.3s\n",
      "168:\tlearn: 0.2117477\ttotal: 8.8s\tremaining: 43.3s\n",
      "169:\tlearn: 0.2109560\ttotal: 8.85s\tremaining: 43.2s\n",
      "170:\tlearn: 0.2103533\ttotal: 8.9s\tremaining: 43.2s\n",
      "171:\tlearn: 0.2099763\ttotal: 8.95s\tremaining: 43.1s\n",
      "172:\tlearn: 0.2092532\ttotal: 9s\tremaining: 43s\n",
      "173:\tlearn: 0.2087087\ttotal: 9.07s\tremaining: 43.1s\n",
      "174:\tlearn: 0.2084273\ttotal: 9.13s\tremaining: 43s\n",
      "175:\tlearn: 0.2084195\ttotal: 9.18s\tremaining: 43s\n",
      "176:\tlearn: 0.2081946\ttotal: 9.23s\tremaining: 42.9s\n",
      "177:\tlearn: 0.2081840\ttotal: 9.29s\tremaining: 42.9s\n",
      "178:\tlearn: 0.2076271\ttotal: 9.34s\tremaining: 42.8s\n",
      "179:\tlearn: 0.2073068\ttotal: 9.39s\tremaining: 42.8s\n",
      "180:\tlearn: 0.2072885\ttotal: 9.44s\tremaining: 42.7s\n",
      "181:\tlearn: 0.2069792\ttotal: 9.49s\tremaining: 42.6s\n",
      "182:\tlearn: 0.2065531\ttotal: 9.53s\tremaining: 42.6s\n",
      "183:\tlearn: 0.2063436\ttotal: 9.58s\tremaining: 42.5s\n",
      "184:\tlearn: 0.2058479\ttotal: 9.64s\tremaining: 42.5s\n",
      "185:\tlearn: 0.2054845\ttotal: 9.69s\tremaining: 42.4s\n",
      "186:\tlearn: 0.2049210\ttotal: 9.74s\tremaining: 42.4s\n",
      "187:\tlearn: 0.2048051\ttotal: 9.79s\tremaining: 42.3s\n",
      "188:\tlearn: 0.2046566\ttotal: 9.84s\tremaining: 42.2s\n",
      "189:\tlearn: 0.2041428\ttotal: 9.9s\tremaining: 42.2s\n",
      "190:\tlearn: 0.2041267\ttotal: 9.95s\tremaining: 42.1s\n",
      "191:\tlearn: 0.2040233\ttotal: 10s\tremaining: 42.1s\n",
      "192:\tlearn: 0.2038297\ttotal: 10.1s\tremaining: 42s\n",
      "193:\tlearn: 0.2035325\ttotal: 10.1s\tremaining: 42s\n",
      "194:\tlearn: 0.2028829\ttotal: 10.2s\tremaining: 42s\n",
      "195:\tlearn: 0.2027206\ttotal: 10.2s\tremaining: 41.9s\n",
      "196:\tlearn: 0.2023796\ttotal: 10.3s\tremaining: 41.8s\n",
      "197:\tlearn: 0.2019374\ttotal: 10.3s\tremaining: 41.8s\n",
      "198:\tlearn: 0.2014457\ttotal: 10.4s\tremaining: 41.7s\n",
      "199:\tlearn: 0.2010850\ttotal: 10.4s\tremaining: 41.7s\n",
      "200:\tlearn: 0.2007266\ttotal: 10.5s\tremaining: 41.6s\n",
      "201:\tlearn: 0.2004327\ttotal: 10.5s\tremaining: 41.6s\n",
      "202:\tlearn: 0.2001789\ttotal: 10.6s\tremaining: 41.5s\n",
      "203:\tlearn: 0.2000520\ttotal: 10.6s\tremaining: 41.5s\n",
      "204:\tlearn: 0.1998618\ttotal: 10.7s\tremaining: 41.4s\n",
      "205:\tlearn: 0.1995743\ttotal: 10.7s\tremaining: 41.4s\n",
      "206:\tlearn: 0.1994641\ttotal: 10.8s\tremaining: 41.3s\n",
      "207:\tlearn: 0.1989187\ttotal: 10.8s\tremaining: 41.3s\n",
      "208:\tlearn: 0.1986846\ttotal: 10.9s\tremaining: 41.2s\n",
      "209:\tlearn: 0.1982379\ttotal: 10.9s\tremaining: 41.2s\n",
      "210:\tlearn: 0.1979899\ttotal: 11s\tremaining: 41.1s\n",
      "211:\tlearn: 0.1979547\ttotal: 11s\tremaining: 41.1s\n",
      "212:\tlearn: 0.1977094\ttotal: 11.1s\tremaining: 41s\n",
      "213:\tlearn: 0.1975570\ttotal: 11.2s\tremaining: 41s\n",
      "214:\tlearn: 0.1971361\ttotal: 11.2s\tremaining: 40.9s\n",
      "215:\tlearn: 0.1967571\ttotal: 11.3s\tremaining: 40.8s\n",
      "216:\tlearn: 0.1964415\ttotal: 11.3s\tremaining: 40.8s\n",
      "217:\tlearn: 0.1962348\ttotal: 11.4s\tremaining: 40.7s\n",
      "218:\tlearn: 0.1960013\ttotal: 11.4s\tremaining: 40.7s\n",
      "219:\tlearn: 0.1959273\ttotal: 11.5s\tremaining: 40.6s\n",
      "220:\tlearn: 0.1957408\ttotal: 11.5s\tremaining: 40.5s\n",
      "221:\tlearn: 0.1955140\ttotal: 11.6s\tremaining: 40.5s\n",
      "222:\tlearn: 0.1951454\ttotal: 11.6s\tremaining: 40.4s\n",
      "223:\tlearn: 0.1948328\ttotal: 11.7s\tremaining: 40.4s\n",
      "224:\tlearn: 0.1945126\ttotal: 11.7s\tremaining: 40.3s\n",
      "225:\tlearn: 0.1941582\ttotal: 11.8s\tremaining: 40.3s\n",
      "226:\tlearn: 0.1939017\ttotal: 11.8s\tremaining: 40.2s\n",
      "227:\tlearn: 0.1934722\ttotal: 11.9s\tremaining: 40.1s\n",
      "228:\tlearn: 0.1932801\ttotal: 11.9s\tremaining: 40.1s\n",
      "229:\tlearn: 0.1928272\ttotal: 12s\tremaining: 40s\n",
      "230:\tlearn: 0.1925562\ttotal: 12s\tremaining: 40s\n",
      "231:\tlearn: 0.1923346\ttotal: 12.1s\tremaining: 39.9s\n",
      "232:\tlearn: 0.1921716\ttotal: 12.1s\tremaining: 39.9s\n",
      "233:\tlearn: 0.1920235\ttotal: 12.2s\tremaining: 39.8s\n",
      "234:\tlearn: 0.1915664\ttotal: 12.2s\tremaining: 39.8s\n",
      "235:\tlearn: 0.1913519\ttotal: 12.3s\tremaining: 39.7s\n",
      "236:\tlearn: 0.1909626\ttotal: 12.3s\tremaining: 39.7s\n",
      "237:\tlearn: 0.1907509\ttotal: 12.4s\tremaining: 39.6s\n",
      "238:\tlearn: 0.1905177\ttotal: 12.4s\tremaining: 39.6s\n",
      "239:\tlearn: 0.1899820\ttotal: 12.5s\tremaining: 39.5s\n",
      "240:\tlearn: 0.1897689\ttotal: 12.5s\tremaining: 39.5s\n",
      "241:\tlearn: 0.1894740\ttotal: 12.6s\tremaining: 39.4s\n",
      "242:\tlearn: 0.1893084\ttotal: 12.6s\tremaining: 39.4s\n",
      "243:\tlearn: 0.1888956\ttotal: 12.7s\tremaining: 39.3s\n",
      "244:\tlearn: 0.1886266\ttotal: 12.8s\tremaining: 39.3s\n",
      "245:\tlearn: 0.1884642\ttotal: 12.8s\tremaining: 39.3s\n",
      "246:\tlearn: 0.1882379\ttotal: 12.9s\tremaining: 39.2s\n",
      "247:\tlearn: 0.1878793\ttotal: 12.9s\tremaining: 39.2s\n",
      "248:\tlearn: 0.1875897\ttotal: 13s\tremaining: 39.1s\n",
      "249:\tlearn: 0.1873425\ttotal: 13s\tremaining: 39.1s\n",
      "250:\tlearn: 0.1871122\ttotal: 13.1s\tremaining: 39s\n",
      "251:\tlearn: 0.1869787\ttotal: 13.1s\tremaining: 39s\n",
      "252:\tlearn: 0.1868264\ttotal: 13.2s\tremaining: 38.9s\n",
      "253:\tlearn: 0.1867731\ttotal: 13.2s\tremaining: 38.9s\n",
      "254:\tlearn: 0.1865864\ttotal: 13.3s\tremaining: 38.8s\n",
      "255:\tlearn: 0.1864413\ttotal: 13.3s\tremaining: 38.8s\n",
      "256:\tlearn: 0.1863535\ttotal: 13.4s\tremaining: 38.7s\n",
      "257:\tlearn: 0.1860940\ttotal: 13.4s\tremaining: 38.7s\n",
      "258:\tlearn: 0.1858674\ttotal: 13.5s\tremaining: 38.6s\n",
      "259:\tlearn: 0.1855430\ttotal: 13.5s\tremaining: 38.5s\n",
      "260:\tlearn: 0.1853120\ttotal: 13.6s\tremaining: 38.5s\n",
      "261:\tlearn: 0.1848133\ttotal: 13.6s\tremaining: 38.4s\n",
      "262:\tlearn: 0.1844026\ttotal: 13.7s\tremaining: 38.4s\n",
      "263:\tlearn: 0.1842366\ttotal: 13.7s\tremaining: 38.3s\n",
      "264:\tlearn: 0.1840769\ttotal: 13.8s\tremaining: 38.3s\n",
      "265:\tlearn: 0.1839381\ttotal: 13.8s\tremaining: 38.2s\n",
      "266:\tlearn: 0.1835152\ttotal: 13.9s\tremaining: 38.1s\n",
      "267:\tlearn: 0.1832627\ttotal: 13.9s\tremaining: 38.1s\n",
      "268:\tlearn: 0.1830695\ttotal: 14s\tremaining: 38s\n",
      "269:\tlearn: 0.1827131\ttotal: 14s\tremaining: 38s\n",
      "270:\tlearn: 0.1823962\ttotal: 14.1s\tremaining: 37.9s\n",
      "271:\tlearn: 0.1820390\ttotal: 14.2s\tremaining: 37.9s\n",
      "272:\tlearn: 0.1818172\ttotal: 14.2s\tremaining: 37.8s\n",
      "273:\tlearn: 0.1816786\ttotal: 14.3s\tremaining: 37.8s\n",
      "274:\tlearn: 0.1814742\ttotal: 14.3s\tremaining: 37.7s\n",
      "275:\tlearn: 0.1810643\ttotal: 14.4s\tremaining: 37.7s\n",
      "276:\tlearn: 0.1807982\ttotal: 14.4s\tremaining: 37.6s\n",
      "277:\tlearn: 0.1804658\ttotal: 14.5s\tremaining: 37.6s\n",
      "278:\tlearn: 0.1802582\ttotal: 14.5s\tremaining: 37.5s\n",
      "279:\tlearn: 0.1800821\ttotal: 14.6s\tremaining: 37.5s\n",
      "280:\tlearn: 0.1800692\ttotal: 14.6s\tremaining: 37.4s\n",
      "281:\tlearn: 0.1797165\ttotal: 14.7s\tremaining: 37.3s\n",
      "282:\tlearn: 0.1794768\ttotal: 14.7s\tremaining: 37.3s\n",
      "283:\tlearn: 0.1793270\ttotal: 14.8s\tremaining: 37.3s\n",
      "284:\tlearn: 0.1789823\ttotal: 14.9s\tremaining: 37.3s\n",
      "285:\tlearn: 0.1787769\ttotal: 14.9s\tremaining: 37.3s\n",
      "286:\tlearn: 0.1785939\ttotal: 15s\tremaining: 37.2s\n",
      "287:\tlearn: 0.1783606\ttotal: 15s\tremaining: 37.2s\n",
      "288:\tlearn: 0.1781304\ttotal: 15.1s\tremaining: 37.1s\n",
      "289:\tlearn: 0.1778412\ttotal: 15.2s\tremaining: 37.1s\n",
      "290:\tlearn: 0.1776309\ttotal: 15.2s\tremaining: 37s\n",
      "291:\tlearn: 0.1773070\ttotal: 15.2s\tremaining: 37s\n",
      "292:\tlearn: 0.1771436\ttotal: 15.3s\tremaining: 36.9s\n",
      "293:\tlearn: 0.1770917\ttotal: 15.3s\tremaining: 36.8s\n",
      "294:\tlearn: 0.1769221\ttotal: 15.4s\tremaining: 36.8s\n",
      "295:\tlearn: 0.1767119\ttotal: 15.4s\tremaining: 36.7s\n",
      "296:\tlearn: 0.1765694\ttotal: 15.5s\tremaining: 36.7s\n",
      "297:\tlearn: 0.1764074\ttotal: 15.5s\tremaining: 36.6s\n",
      "298:\tlearn: 0.1759931\ttotal: 15.6s\tremaining: 36.6s\n",
      "299:\tlearn: 0.1758092\ttotal: 15.7s\tremaining: 36.5s\n",
      "300:\tlearn: 0.1756039\ttotal: 15.7s\tremaining: 36.5s\n",
      "301:\tlearn: 0.1754351\ttotal: 15.8s\tremaining: 36.4s\n",
      "302:\tlearn: 0.1751931\ttotal: 15.8s\tremaining: 36.4s\n",
      "303:\tlearn: 0.1748894\ttotal: 15.9s\tremaining: 36.3s\n",
      "304:\tlearn: 0.1746571\ttotal: 15.9s\tremaining: 36.3s\n",
      "305:\tlearn: 0.1745269\ttotal: 16s\tremaining: 36.2s\n",
      "306:\tlearn: 0.1743179\ttotal: 16s\tremaining: 36.1s\n",
      "307:\tlearn: 0.1740575\ttotal: 16.1s\tremaining: 36.1s\n",
      "308:\tlearn: 0.1737784\ttotal: 16.1s\tremaining: 36s\n",
      "309:\tlearn: 0.1734278\ttotal: 16.1s\tremaining: 35.9s\n",
      "310:\tlearn: 0.1733421\ttotal: 16.2s\tremaining: 35.9s\n",
      "311:\tlearn: 0.1732985\ttotal: 16.2s\tremaining: 35.8s\n",
      "312:\tlearn: 0.1731670\ttotal: 16.3s\tremaining: 35.8s\n",
      "313:\tlearn: 0.1726685\ttotal: 16.3s\tremaining: 35.7s\n",
      "314:\tlearn: 0.1724111\ttotal: 16.4s\tremaining: 35.6s\n",
      "315:\tlearn: 0.1723379\ttotal: 16.4s\tremaining: 35.6s\n",
      "316:\tlearn: 0.1722241\ttotal: 16.5s\tremaining: 35.5s\n",
      "317:\tlearn: 0.1719040\ttotal: 16.5s\tremaining: 35.5s\n",
      "318:\tlearn: 0.1717987\ttotal: 16.6s\tremaining: 35.4s\n",
      "319:\tlearn: 0.1716033\ttotal: 16.6s\tremaining: 35.4s\n",
      "320:\tlearn: 0.1714638\ttotal: 16.7s\tremaining: 35.3s\n",
      "321:\tlearn: 0.1712989\ttotal: 16.7s\tremaining: 35.2s\n",
      "322:\tlearn: 0.1710632\ttotal: 16.8s\tremaining: 35.2s\n",
      "323:\tlearn: 0.1708652\ttotal: 16.9s\tremaining: 35.2s\n",
      "324:\tlearn: 0.1705575\ttotal: 16.9s\tremaining: 35.2s\n",
      "325:\tlearn: 0.1701774\ttotal: 17s\tremaining: 35.1s\n",
      "326:\tlearn: 0.1699653\ttotal: 17s\tremaining: 35s\n",
      "327:\tlearn: 0.1697182\ttotal: 17.1s\tremaining: 35s\n",
      "328:\tlearn: 0.1694729\ttotal: 17.1s\tremaining: 34.9s\n",
      "329:\tlearn: 0.1692747\ttotal: 17.2s\tremaining: 34.9s\n",
      "330:\tlearn: 0.1691176\ttotal: 17.2s\tremaining: 34.8s\n",
      "331:\tlearn: 0.1690343\ttotal: 17.3s\tremaining: 34.8s\n",
      "332:\tlearn: 0.1688865\ttotal: 17.3s\tremaining: 34.7s\n",
      "333:\tlearn: 0.1686253\ttotal: 17.4s\tremaining: 34.7s\n",
      "334:\tlearn: 0.1684224\ttotal: 17.4s\tremaining: 34.6s\n",
      "335:\tlearn: 0.1683337\ttotal: 17.5s\tremaining: 34.6s\n",
      "336:\tlearn: 0.1681885\ttotal: 17.6s\tremaining: 34.5s\n",
      "337:\tlearn: 0.1680776\ttotal: 17.6s\tremaining: 34.5s\n",
      "338:\tlearn: 0.1678497\ttotal: 17.7s\tremaining: 34.4s\n",
      "339:\tlearn: 0.1676550\ttotal: 17.7s\tremaining: 34.4s\n",
      "340:\tlearn: 0.1675144\ttotal: 17.8s\tremaining: 34.4s\n",
      "341:\tlearn: 0.1673543\ttotal: 17.8s\tremaining: 34.3s\n",
      "342:\tlearn: 0.1672714\ttotal: 17.9s\tremaining: 34.3s\n",
      "343:\tlearn: 0.1671104\ttotal: 17.9s\tremaining: 34.2s\n",
      "344:\tlearn: 0.1668666\ttotal: 18s\tremaining: 34.2s\n",
      "345:\tlearn: 0.1667895\ttotal: 18s\tremaining: 34.1s\n",
      "346:\tlearn: 0.1665665\ttotal: 18.1s\tremaining: 34.1s\n",
      "347:\tlearn: 0.1663716\ttotal: 18.1s\tremaining: 34s\n",
      "348:\tlearn: 0.1660236\ttotal: 18.2s\tremaining: 33.9s\n",
      "349:\tlearn: 0.1658312\ttotal: 18.2s\tremaining: 33.9s\n",
      "350:\tlearn: 0.1657104\ttotal: 18.3s\tremaining: 33.8s\n",
      "351:\tlearn: 0.1654643\ttotal: 18.3s\tremaining: 33.8s\n",
      "352:\tlearn: 0.1653438\ttotal: 18.4s\tremaining: 33.7s\n",
      "353:\tlearn: 0.1651532\ttotal: 18.4s\tremaining: 33.6s\n",
      "354:\tlearn: 0.1649440\ttotal: 18.5s\tremaining: 33.6s\n",
      "355:\tlearn: 0.1648006\ttotal: 18.5s\tremaining: 33.5s\n",
      "356:\tlearn: 0.1646942\ttotal: 18.6s\tremaining: 33.5s\n",
      "357:\tlearn: 0.1645115\ttotal: 18.6s\tremaining: 33.4s\n",
      "358:\tlearn: 0.1643048\ttotal: 18.7s\tremaining: 33.4s\n",
      "359:\tlearn: 0.1640516\ttotal: 18.7s\tremaining: 33.3s\n",
      "360:\tlearn: 0.1638046\ttotal: 18.8s\tremaining: 33.2s\n",
      "361:\tlearn: 0.1636788\ttotal: 18.8s\tremaining: 33.2s\n",
      "362:\tlearn: 0.1635065\ttotal: 18.9s\tremaining: 33.1s\n",
      "363:\tlearn: 0.1633799\ttotal: 18.9s\tremaining: 33.1s\n",
      "364:\tlearn: 0.1632243\ttotal: 19s\tremaining: 33s\n",
      "365:\tlearn: 0.1629283\ttotal: 19s\tremaining: 32.9s\n",
      "366:\tlearn: 0.1626844\ttotal: 19.1s\tremaining: 32.9s\n",
      "367:\tlearn: 0.1623288\ttotal: 19.1s\tremaining: 32.9s\n",
      "368:\tlearn: 0.1621598\ttotal: 19.2s\tremaining: 32.8s\n",
      "369:\tlearn: 0.1619011\ttotal: 19.2s\tremaining: 32.7s\n",
      "370:\tlearn: 0.1617412\ttotal: 19.3s\tremaining: 32.7s\n",
      "371:\tlearn: 0.1615557\ttotal: 19.3s\tremaining: 32.6s\n",
      "372:\tlearn: 0.1613374\ttotal: 19.4s\tremaining: 32.5s\n",
      "373:\tlearn: 0.1612200\ttotal: 19.4s\tremaining: 32.5s\n",
      "374:\tlearn: 0.1610538\ttotal: 19.5s\tremaining: 32.4s\n",
      "375:\tlearn: 0.1607659\ttotal: 19.5s\tremaining: 32.4s\n",
      "376:\tlearn: 0.1606655\ttotal: 19.6s\tremaining: 32.3s\n",
      "377:\tlearn: 0.1605175\ttotal: 19.6s\tremaining: 32.3s\n",
      "378:\tlearn: 0.1603425\ttotal: 19.7s\tremaining: 32.2s\n",
      "379:\tlearn: 0.1600346\ttotal: 19.7s\tremaining: 32.2s\n",
      "380:\tlearn: 0.1598262\ttotal: 19.8s\tremaining: 32.1s\n",
      "381:\tlearn: 0.1594809\ttotal: 19.8s\tremaining: 32s\n",
      "382:\tlearn: 0.1591377\ttotal: 19.9s\tremaining: 32s\n",
      "383:\tlearn: 0.1590236\ttotal: 19.9s\tremaining: 31.9s\n",
      "384:\tlearn: 0.1588330\ttotal: 19.9s\tremaining: 31.9s\n",
      "385:\tlearn: 0.1586948\ttotal: 20s\tremaining: 31.8s\n",
      "386:\tlearn: 0.1584656\ttotal: 20s\tremaining: 31.7s\n",
      "387:\tlearn: 0.1581239\ttotal: 20.1s\tremaining: 31.7s\n",
      "388:\tlearn: 0.1577212\ttotal: 20.1s\tremaining: 31.6s\n",
      "389:\tlearn: 0.1575833\ttotal: 20.2s\tremaining: 31.6s\n",
      "390:\tlearn: 0.1573874\ttotal: 20.2s\tremaining: 31.5s\n",
      "391:\tlearn: 0.1572669\ttotal: 20.3s\tremaining: 31.5s\n",
      "392:\tlearn: 0.1570224\ttotal: 20.3s\tremaining: 31.4s\n",
      "393:\tlearn: 0.1568223\ttotal: 20.4s\tremaining: 31.3s\n",
      "394:\tlearn: 0.1565608\ttotal: 20.4s\tremaining: 31.3s\n",
      "395:\tlearn: 0.1564620\ttotal: 20.5s\tremaining: 31.2s\n",
      "396:\tlearn: 0.1562969\ttotal: 20.5s\tremaining: 31.2s\n",
      "397:\tlearn: 0.1561641\ttotal: 20.6s\tremaining: 31.1s\n",
      "398:\tlearn: 0.1560815\ttotal: 20.6s\tremaining: 31.1s\n",
      "399:\tlearn: 0.1557859\ttotal: 20.7s\tremaining: 31s\n",
      "400:\tlearn: 0.1554708\ttotal: 20.7s\tremaining: 31s\n",
      "401:\tlearn: 0.1552514\ttotal: 20.8s\tremaining: 30.9s\n",
      "402:\tlearn: 0.1550749\ttotal: 20.8s\tremaining: 30.9s\n",
      "403:\tlearn: 0.1550633\ttotal: 20.9s\tremaining: 30.8s\n",
      "404:\tlearn: 0.1546560\ttotal: 20.9s\tremaining: 30.8s\n",
      "405:\tlearn: 0.1544623\ttotal: 21s\tremaining: 30.7s\n",
      "406:\tlearn: 0.1543522\ttotal: 21s\tremaining: 30.6s\n",
      "407:\tlearn: 0.1541639\ttotal: 21.1s\tremaining: 30.6s\n",
      "408:\tlearn: 0.1539730\ttotal: 21.1s\tremaining: 30.5s\n",
      "409:\tlearn: 0.1537629\ttotal: 21.2s\tremaining: 30.5s\n",
      "410:\tlearn: 0.1535352\ttotal: 21.2s\tremaining: 30.4s\n",
      "411:\tlearn: 0.1534037\ttotal: 21.3s\tremaining: 30.3s\n",
      "412:\tlearn: 0.1532963\ttotal: 21.3s\tremaining: 30.3s\n",
      "413:\tlearn: 0.1531342\ttotal: 21.4s\tremaining: 30.2s\n",
      "414:\tlearn: 0.1530265\ttotal: 21.4s\tremaining: 30.2s\n",
      "415:\tlearn: 0.1527949\ttotal: 21.4s\tremaining: 30.1s\n",
      "416:\tlearn: 0.1527464\ttotal: 21.5s\tremaining: 30.1s\n",
      "417:\tlearn: 0.1526285\ttotal: 21.5s\tremaining: 30s\n",
      "418:\tlearn: 0.1524564\ttotal: 21.6s\tremaining: 29.9s\n",
      "419:\tlearn: 0.1522850\ttotal: 21.6s\tremaining: 29.9s\n",
      "420:\tlearn: 0.1520994\ttotal: 21.7s\tremaining: 29.8s\n",
      "421:\tlearn: 0.1518612\ttotal: 21.7s\tremaining: 29.8s\n",
      "422:\tlearn: 0.1516998\ttotal: 21.8s\tremaining: 29.7s\n",
      "423:\tlearn: 0.1515284\ttotal: 21.8s\tremaining: 29.6s\n",
      "424:\tlearn: 0.1513157\ttotal: 21.9s\tremaining: 29.6s\n",
      "425:\tlearn: 0.1511947\ttotal: 21.9s\tremaining: 29.5s\n",
      "426:\tlearn: 0.1510946\ttotal: 22s\tremaining: 29.5s\n",
      "427:\tlearn: 0.1509333\ttotal: 22s\tremaining: 29.4s\n",
      "428:\tlearn: 0.1509100\ttotal: 22.1s\tremaining: 29.4s\n",
      "429:\tlearn: 0.1507763\ttotal: 22.1s\tremaining: 29.3s\n",
      "430:\tlearn: 0.1506681\ttotal: 22.1s\tremaining: 29.2s\n",
      "431:\tlearn: 0.1505914\ttotal: 22.2s\tremaining: 29.2s\n",
      "432:\tlearn: 0.1504205\ttotal: 22.2s\tremaining: 29.1s\n",
      "433:\tlearn: 0.1503499\ttotal: 22.3s\tremaining: 29.1s\n",
      "434:\tlearn: 0.1501766\ttotal: 22.3s\tremaining: 29s\n",
      "435:\tlearn: 0.1498793\ttotal: 22.4s\tremaining: 28.9s\n",
      "436:\tlearn: 0.1496608\ttotal: 22.4s\tremaining: 28.9s\n",
      "437:\tlearn: 0.1494250\ttotal: 22.5s\tremaining: 28.8s\n",
      "438:\tlearn: 0.1491149\ttotal: 22.5s\tremaining: 28.8s\n",
      "439:\tlearn: 0.1489171\ttotal: 22.6s\tremaining: 28.7s\n",
      "440:\tlearn: 0.1485499\ttotal: 22.6s\tremaining: 28.7s\n",
      "441:\tlearn: 0.1483459\ttotal: 22.6s\tremaining: 28.6s\n",
      "442:\tlearn: 0.1481177\ttotal: 22.7s\tremaining: 28.5s\n",
      "443:\tlearn: 0.1479489\ttotal: 22.7s\tremaining: 28.5s\n",
      "444:\tlearn: 0.1477054\ttotal: 22.8s\tremaining: 28.4s\n",
      "445:\tlearn: 0.1475120\ttotal: 22.8s\tremaining: 28.4s\n",
      "446:\tlearn: 0.1473258\ttotal: 22.9s\tremaining: 28.3s\n",
      "447:\tlearn: 0.1470927\ttotal: 22.9s\tremaining: 28.3s\n",
      "448:\tlearn: 0.1468882\ttotal: 23s\tremaining: 28.2s\n",
      "449:\tlearn: 0.1468371\ttotal: 23s\tremaining: 28.1s\n",
      "450:\tlearn: 0.1465971\ttotal: 23.1s\tremaining: 28.1s\n",
      "451:\tlearn: 0.1465020\ttotal: 23.1s\tremaining: 28s\n",
      "452:\tlearn: 0.1463117\ttotal: 23.2s\tremaining: 28s\n",
      "453:\tlearn: 0.1462635\ttotal: 23.2s\tremaining: 27.9s\n",
      "454:\tlearn: 0.1460449\ttotal: 23.3s\tremaining: 27.9s\n",
      "455:\tlearn: 0.1458756\ttotal: 23.3s\tremaining: 27.8s\n",
      "456:\tlearn: 0.1458183\ttotal: 23.4s\tremaining: 27.8s\n",
      "457:\tlearn: 0.1457263\ttotal: 23.4s\tremaining: 27.7s\n",
      "458:\tlearn: 0.1457016\ttotal: 23.5s\tremaining: 27.6s\n",
      "459:\tlearn: 0.1454675\ttotal: 23.5s\tremaining: 27.6s\n",
      "460:\tlearn: 0.1453117\ttotal: 23.5s\tremaining: 27.5s\n",
      "461:\tlearn: 0.1451347\ttotal: 23.6s\tremaining: 27.5s\n",
      "462:\tlearn: 0.1450410\ttotal: 23.6s\tremaining: 27.4s\n",
      "463:\tlearn: 0.1448882\ttotal: 23.7s\tremaining: 27.4s\n",
      "464:\tlearn: 0.1446361\ttotal: 23.7s\tremaining: 27.3s\n",
      "465:\tlearn: 0.1445269\ttotal: 23.8s\tremaining: 27.3s\n",
      "466:\tlearn: 0.1443411\ttotal: 23.8s\tremaining: 27.2s\n",
      "467:\tlearn: 0.1442009\ttotal: 23.9s\tremaining: 27.1s\n",
      "468:\tlearn: 0.1440892\ttotal: 23.9s\tremaining: 27.1s\n",
      "469:\tlearn: 0.1438942\ttotal: 24s\tremaining: 27s\n",
      "470:\tlearn: 0.1436778\ttotal: 24s\tremaining: 27s\n",
      "471:\tlearn: 0.1435833\ttotal: 24.1s\tremaining: 26.9s\n",
      "472:\tlearn: 0.1432349\ttotal: 24.1s\tremaining: 26.9s\n",
      "473:\tlearn: 0.1431035\ttotal: 24.2s\tremaining: 26.8s\n",
      "474:\tlearn: 0.1429989\ttotal: 24.2s\tremaining: 26.8s\n",
      "475:\tlearn: 0.1428927\ttotal: 24.3s\tremaining: 26.7s\n",
      "476:\tlearn: 0.1427330\ttotal: 24.3s\tremaining: 26.7s\n",
      "477:\tlearn: 0.1426782\ttotal: 24.4s\tremaining: 26.6s\n",
      "478:\tlearn: 0.1426078\ttotal: 24.4s\tremaining: 26.6s\n",
      "479:\tlearn: 0.1424544\ttotal: 24.5s\tremaining: 26.5s\n",
      "480:\tlearn: 0.1423567\ttotal: 24.5s\tremaining: 26.5s\n",
      "481:\tlearn: 0.1421447\ttotal: 24.6s\tremaining: 26.4s\n",
      "482:\tlearn: 0.1420340\ttotal: 24.6s\tremaining: 26.4s\n",
      "483:\tlearn: 0.1419264\ttotal: 24.7s\tremaining: 26.3s\n",
      "484:\tlearn: 0.1418457\ttotal: 24.7s\tremaining: 26.3s\n",
      "485:\tlearn: 0.1417314\ttotal: 24.8s\tremaining: 26.2s\n",
      "486:\tlearn: 0.1415391\ttotal: 24.8s\tremaining: 26.2s\n",
      "487:\tlearn: 0.1414406\ttotal: 24.9s\tremaining: 26.1s\n",
      "488:\tlearn: 0.1412729\ttotal: 24.9s\tremaining: 26.1s\n",
      "489:\tlearn: 0.1411429\ttotal: 25s\tremaining: 26s\n",
      "490:\tlearn: 0.1407625\ttotal: 25s\tremaining: 25.9s\n",
      "491:\tlearn: 0.1406521\ttotal: 25.1s\tremaining: 25.9s\n",
      "492:\tlearn: 0.1404856\ttotal: 25.1s\tremaining: 25.8s\n",
      "493:\tlearn: 0.1403723\ttotal: 25.2s\tremaining: 25.8s\n",
      "494:\tlearn: 0.1402247\ttotal: 25.2s\tremaining: 25.7s\n",
      "495:\tlearn: 0.1400845\ttotal: 25.3s\tremaining: 25.7s\n",
      "496:\tlearn: 0.1398499\ttotal: 25.3s\tremaining: 25.6s\n",
      "497:\tlearn: 0.1395457\ttotal: 25.4s\tremaining: 25.6s\n",
      "498:\tlearn: 0.1393180\ttotal: 25.4s\tremaining: 25.5s\n",
      "499:\tlearn: 0.1390940\ttotal: 25.5s\tremaining: 25.5s\n",
      "500:\tlearn: 0.1389266\ttotal: 25.5s\tremaining: 25.4s\n",
      "501:\tlearn: 0.1387149\ttotal: 25.6s\tremaining: 25.4s\n",
      "502:\tlearn: 0.1385991\ttotal: 25.6s\tremaining: 25.3s\n",
      "503:\tlearn: 0.1385115\ttotal: 25.7s\tremaining: 25.3s\n",
      "504:\tlearn: 0.1382966\ttotal: 25.7s\tremaining: 25.2s\n",
      "505:\tlearn: 0.1380969\ttotal: 25.8s\tremaining: 25.2s\n",
      "506:\tlearn: 0.1379506\ttotal: 25.8s\tremaining: 25.1s\n",
      "507:\tlearn: 0.1377146\ttotal: 25.9s\tremaining: 25.1s\n",
      "508:\tlearn: 0.1374673\ttotal: 26s\tremaining: 25.1s\n",
      "509:\tlearn: 0.1372730\ttotal: 26s\tremaining: 25s\n",
      "510:\tlearn: 0.1370560\ttotal: 26.1s\tremaining: 25s\n",
      "511:\tlearn: 0.1369142\ttotal: 26.2s\tremaining: 24.9s\n",
      "512:\tlearn: 0.1367647\ttotal: 26.2s\tremaining: 24.9s\n",
      "513:\tlearn: 0.1366514\ttotal: 26.3s\tremaining: 24.8s\n",
      "514:\tlearn: 0.1363998\ttotal: 26.3s\tremaining: 24.8s\n",
      "515:\tlearn: 0.1361578\ttotal: 26.4s\tremaining: 24.7s\n",
      "516:\tlearn: 0.1359616\ttotal: 26.4s\tremaining: 24.7s\n",
      "517:\tlearn: 0.1357380\ttotal: 26.5s\tremaining: 24.6s\n",
      "518:\tlearn: 0.1356072\ttotal: 26.5s\tremaining: 24.6s\n",
      "519:\tlearn: 0.1352567\ttotal: 26.6s\tremaining: 24.5s\n",
      "520:\tlearn: 0.1351549\ttotal: 26.6s\tremaining: 24.5s\n",
      "521:\tlearn: 0.1350363\ttotal: 26.7s\tremaining: 24.4s\n",
      "522:\tlearn: 0.1349476\ttotal: 26.7s\tremaining: 24.4s\n",
      "523:\tlearn: 0.1348681\ttotal: 26.8s\tremaining: 24.3s\n",
      "524:\tlearn: 0.1347371\ttotal: 26.8s\tremaining: 24.3s\n",
      "525:\tlearn: 0.1346212\ttotal: 26.9s\tremaining: 24.2s\n",
      "526:\tlearn: 0.1345066\ttotal: 27s\tremaining: 24.2s\n",
      "527:\tlearn: 0.1344050\ttotal: 27s\tremaining: 24.1s\n",
      "528:\tlearn: 0.1341740\ttotal: 27.1s\tremaining: 24.1s\n",
      "529:\tlearn: 0.1340583\ttotal: 27.1s\tremaining: 24s\n",
      "530:\tlearn: 0.1340030\ttotal: 27.2s\tremaining: 24s\n",
      "531:\tlearn: 0.1338884\ttotal: 27.2s\tremaining: 23.9s\n",
      "532:\tlearn: 0.1337226\ttotal: 27.3s\tremaining: 23.9s\n",
      "533:\tlearn: 0.1335161\ttotal: 27.3s\tremaining: 23.8s\n",
      "534:\tlearn: 0.1334018\ttotal: 27.4s\tremaining: 23.8s\n",
      "535:\tlearn: 0.1332959\ttotal: 27.4s\tremaining: 23.7s\n",
      "536:\tlearn: 0.1330621\ttotal: 27.5s\tremaining: 23.7s\n",
      "537:\tlearn: 0.1328488\ttotal: 27.5s\tremaining: 23.6s\n",
      "538:\tlearn: 0.1326802\ttotal: 27.6s\tremaining: 23.6s\n",
      "539:\tlearn: 0.1325523\ttotal: 27.6s\tremaining: 23.5s\n",
      "540:\tlearn: 0.1324280\ttotal: 27.7s\tremaining: 23.5s\n",
      "541:\tlearn: 0.1323106\ttotal: 27.7s\tremaining: 23.4s\n",
      "542:\tlearn: 0.1321186\ttotal: 27.8s\tremaining: 23.4s\n",
      "543:\tlearn: 0.1320101\ttotal: 27.9s\tremaining: 23.3s\n",
      "544:\tlearn: 0.1318460\ttotal: 27.9s\tremaining: 23.3s\n",
      "545:\tlearn: 0.1317052\ttotal: 27.9s\tremaining: 23.2s\n",
      "546:\tlearn: 0.1316055\ttotal: 28s\tremaining: 23.2s\n",
      "547:\tlearn: 0.1313798\ttotal: 28s\tremaining: 23.1s\n",
      "548:\tlearn: 0.1313251\ttotal: 28.1s\tremaining: 23.1s\n",
      "549:\tlearn: 0.1311194\ttotal: 28.1s\tremaining: 23s\n",
      "550:\tlearn: 0.1310172\ttotal: 28.2s\tremaining: 23s\n",
      "551:\tlearn: 0.1307807\ttotal: 28.2s\tremaining: 22.9s\n",
      "552:\tlearn: 0.1306569\ttotal: 28.3s\tremaining: 22.9s\n",
      "553:\tlearn: 0.1305698\ttotal: 28.3s\tremaining: 22.8s\n",
      "554:\tlearn: 0.1304295\ttotal: 28.4s\tremaining: 22.7s\n",
      "555:\tlearn: 0.1302392\ttotal: 28.4s\tremaining: 22.7s\n",
      "556:\tlearn: 0.1301853\ttotal: 28.5s\tremaining: 22.6s\n",
      "557:\tlearn: 0.1299455\ttotal: 28.5s\tremaining: 22.6s\n",
      "558:\tlearn: 0.1298332\ttotal: 28.6s\tremaining: 22.5s\n",
      "559:\tlearn: 0.1297412\ttotal: 28.6s\tremaining: 22.5s\n",
      "560:\tlearn: 0.1296799\ttotal: 28.7s\tremaining: 22.4s\n",
      "561:\tlearn: 0.1295921\ttotal: 28.7s\tremaining: 22.4s\n",
      "562:\tlearn: 0.1294627\ttotal: 28.8s\tremaining: 22.3s\n",
      "563:\tlearn: 0.1293443\ttotal: 28.8s\tremaining: 22.3s\n",
      "564:\tlearn: 0.1292756\ttotal: 28.9s\tremaining: 22.2s\n",
      "565:\tlearn: 0.1291322\ttotal: 28.9s\tremaining: 22.2s\n",
      "566:\tlearn: 0.1290210\ttotal: 29s\tremaining: 22.1s\n",
      "567:\tlearn: 0.1289605\ttotal: 29s\tremaining: 22.1s\n",
      "568:\tlearn: 0.1288094\ttotal: 29s\tremaining: 22s\n",
      "569:\tlearn: 0.1287442\ttotal: 29.1s\tremaining: 21.9s\n",
      "570:\tlearn: 0.1287031\ttotal: 29.1s\tremaining: 21.9s\n",
      "571:\tlearn: 0.1286050\ttotal: 29.2s\tremaining: 21.8s\n",
      "572:\tlearn: 0.1284457\ttotal: 29.2s\tremaining: 21.8s\n",
      "573:\tlearn: 0.1283375\ttotal: 29.3s\tremaining: 21.7s\n",
      "574:\tlearn: 0.1281750\ttotal: 29.3s\tremaining: 21.7s\n",
      "575:\tlearn: 0.1280899\ttotal: 29.4s\tremaining: 21.6s\n",
      "576:\tlearn: 0.1280388\ttotal: 29.4s\tremaining: 21.6s\n",
      "577:\tlearn: 0.1279316\ttotal: 29.5s\tremaining: 21.5s\n",
      "578:\tlearn: 0.1278176\ttotal: 29.5s\tremaining: 21.5s\n",
      "579:\tlearn: 0.1275953\ttotal: 29.6s\tremaining: 21.4s\n",
      "580:\tlearn: 0.1274875\ttotal: 29.6s\tremaining: 21.4s\n",
      "581:\tlearn: 0.1274390\ttotal: 29.7s\tremaining: 21.3s\n",
      "582:\tlearn: 0.1272982\ttotal: 29.7s\tremaining: 21.3s\n",
      "583:\tlearn: 0.1270979\ttotal: 29.8s\tremaining: 21.2s\n",
      "584:\tlearn: 0.1270360\ttotal: 29.8s\tremaining: 21.2s\n",
      "585:\tlearn: 0.1269594\ttotal: 29.9s\tremaining: 21.1s\n",
      "586:\tlearn: 0.1268428\ttotal: 29.9s\tremaining: 21.1s\n",
      "587:\tlearn: 0.1267354\ttotal: 30s\tremaining: 21s\n",
      "588:\tlearn: 0.1265426\ttotal: 30s\tremaining: 21s\n",
      "589:\tlearn: 0.1264196\ttotal: 30.1s\tremaining: 20.9s\n",
      "590:\tlearn: 0.1263286\ttotal: 30.1s\tremaining: 20.9s\n",
      "591:\tlearn: 0.1262409\ttotal: 30.2s\tremaining: 20.8s\n",
      "592:\tlearn: 0.1260273\ttotal: 30.2s\tremaining: 20.8s\n",
      "593:\tlearn: 0.1259738\ttotal: 30.3s\tremaining: 20.7s\n",
      "594:\tlearn: 0.1258364\ttotal: 30.3s\tremaining: 20.7s\n",
      "595:\tlearn: 0.1257192\ttotal: 30.4s\tremaining: 20.6s\n",
      "596:\tlearn: 0.1254854\ttotal: 30.5s\tremaining: 20.6s\n",
      "597:\tlearn: 0.1253152\ttotal: 30.5s\tremaining: 20.5s\n",
      "598:\tlearn: 0.1252401\ttotal: 30.6s\tremaining: 20.5s\n",
      "599:\tlearn: 0.1251362\ttotal: 30.6s\tremaining: 20.4s\n",
      "600:\tlearn: 0.1250569\ttotal: 30.7s\tremaining: 20.4s\n",
      "601:\tlearn: 0.1249298\ttotal: 30.7s\tremaining: 20.3s\n",
      "602:\tlearn: 0.1247215\ttotal: 30.8s\tremaining: 20.3s\n",
      "603:\tlearn: 0.1245450\ttotal: 30.8s\tremaining: 20.2s\n",
      "604:\tlearn: 0.1244825\ttotal: 30.9s\tremaining: 20.1s\n",
      "605:\tlearn: 0.1243727\ttotal: 30.9s\tremaining: 20.1s\n",
      "606:\tlearn: 0.1242281\ttotal: 31s\tremaining: 20s\n",
      "607:\tlearn: 0.1241594\ttotal: 31s\tremaining: 20s\n",
      "608:\tlearn: 0.1241168\ttotal: 31.1s\tremaining: 19.9s\n",
      "609:\tlearn: 0.1239789\ttotal: 31.1s\tremaining: 19.9s\n",
      "610:\tlearn: 0.1238928\ttotal: 31.2s\tremaining: 19.8s\n",
      "611:\tlearn: 0.1237454\ttotal: 31.2s\tremaining: 19.8s\n",
      "612:\tlearn: 0.1235931\ttotal: 31.3s\tremaining: 19.7s\n",
      "613:\tlearn: 0.1234516\ttotal: 31.3s\tremaining: 19.7s\n",
      "614:\tlearn: 0.1233731\ttotal: 31.4s\tremaining: 19.6s\n",
      "615:\tlearn: 0.1231869\ttotal: 31.4s\tremaining: 19.6s\n",
      "616:\tlearn: 0.1230169\ttotal: 31.5s\tremaining: 19.5s\n",
      "617:\tlearn: 0.1229428\ttotal: 31.5s\tremaining: 19.5s\n",
      "618:\tlearn: 0.1228828\ttotal: 31.6s\tremaining: 19.4s\n",
      "619:\tlearn: 0.1227694\ttotal: 31.6s\tremaining: 19.4s\n",
      "620:\tlearn: 0.1226852\ttotal: 31.7s\tremaining: 19.3s\n",
      "621:\tlearn: 0.1225647\ttotal: 31.7s\tremaining: 19.3s\n",
      "622:\tlearn: 0.1224759\ttotal: 31.8s\tremaining: 19.2s\n",
      "623:\tlearn: 0.1224255\ttotal: 31.8s\tremaining: 19.2s\n",
      "624:\tlearn: 0.1223550\ttotal: 31.9s\tremaining: 19.1s\n",
      "625:\tlearn: 0.1221970\ttotal: 31.9s\tremaining: 19.1s\n",
      "626:\tlearn: 0.1220152\ttotal: 32s\tremaining: 19s\n",
      "627:\tlearn: 0.1218699\ttotal: 32s\tremaining: 19s\n",
      "628:\tlearn: 0.1217594\ttotal: 32.1s\tremaining: 18.9s\n",
      "629:\tlearn: 0.1217003\ttotal: 32.1s\tremaining: 18.9s\n",
      "630:\tlearn: 0.1215605\ttotal: 32.2s\tremaining: 18.8s\n",
      "631:\tlearn: 0.1214978\ttotal: 32.2s\tremaining: 18.8s\n",
      "632:\tlearn: 0.1213057\ttotal: 32.3s\tremaining: 18.7s\n",
      "633:\tlearn: 0.1212178\ttotal: 32.3s\tremaining: 18.7s\n",
      "634:\tlearn: 0.1211667\ttotal: 32.4s\tremaining: 18.6s\n",
      "635:\tlearn: 0.1211206\ttotal: 32.4s\tremaining: 18.6s\n",
      "636:\tlearn: 0.1210713\ttotal: 32.5s\tremaining: 18.5s\n",
      "637:\tlearn: 0.1208444\ttotal: 32.5s\tremaining: 18.4s\n",
      "638:\tlearn: 0.1207764\ttotal: 32.6s\tremaining: 18.4s\n",
      "639:\tlearn: 0.1206997\ttotal: 32.6s\tremaining: 18.3s\n",
      "640:\tlearn: 0.1206217\ttotal: 32.7s\tremaining: 18.3s\n",
      "641:\tlearn: 0.1205392\ttotal: 32.7s\tremaining: 18.2s\n",
      "642:\tlearn: 0.1203782\ttotal: 32.8s\tremaining: 18.2s\n",
      "643:\tlearn: 0.1202049\ttotal: 32.8s\tremaining: 18.1s\n",
      "644:\tlearn: 0.1201049\ttotal: 32.9s\tremaining: 18.1s\n",
      "645:\tlearn: 0.1198534\ttotal: 32.9s\tremaining: 18s\n",
      "646:\tlearn: 0.1197276\ttotal: 33s\tremaining: 18s\n",
      "647:\tlearn: 0.1194829\ttotal: 33s\tremaining: 17.9s\n",
      "648:\tlearn: 0.1193475\ttotal: 33.1s\tremaining: 17.9s\n",
      "649:\tlearn: 0.1192470\ttotal: 33.1s\tremaining: 17.8s\n",
      "650:\tlearn: 0.1191425\ttotal: 33.2s\tremaining: 17.8s\n",
      "651:\tlearn: 0.1190080\ttotal: 33.2s\tremaining: 17.7s\n",
      "652:\tlearn: 0.1189169\ttotal: 33.3s\tremaining: 17.7s\n",
      "653:\tlearn: 0.1188407\ttotal: 33.3s\tremaining: 17.6s\n",
      "654:\tlearn: 0.1188050\ttotal: 33.4s\tremaining: 17.6s\n",
      "655:\tlearn: 0.1186927\ttotal: 33.4s\tremaining: 17.5s\n",
      "656:\tlearn: 0.1186184\ttotal: 33.5s\tremaining: 17.5s\n",
      "657:\tlearn: 0.1185442\ttotal: 33.5s\tremaining: 17.4s\n",
      "658:\tlearn: 0.1184797\ttotal: 33.6s\tremaining: 17.4s\n",
      "659:\tlearn: 0.1184287\ttotal: 33.6s\tremaining: 17.3s\n",
      "660:\tlearn: 0.1183371\ttotal: 33.7s\tremaining: 17.3s\n",
      "661:\tlearn: 0.1182007\ttotal: 33.7s\tremaining: 17.2s\n",
      "662:\tlearn: 0.1180376\ttotal: 33.8s\tremaining: 17.2s\n",
      "663:\tlearn: 0.1178965\ttotal: 33.8s\tremaining: 17.1s\n",
      "664:\tlearn: 0.1177682\ttotal: 33.9s\tremaining: 17.1s\n",
      "665:\tlearn: 0.1176605\ttotal: 33.9s\tremaining: 17s\n",
      "666:\tlearn: 0.1175150\ttotal: 34s\tremaining: 17s\n",
      "667:\tlearn: 0.1174254\ttotal: 34.1s\tremaining: 16.9s\n",
      "668:\tlearn: 0.1173002\ttotal: 34.1s\tremaining: 16.9s\n",
      "669:\tlearn: 0.1172382\ttotal: 34.2s\tremaining: 16.8s\n",
      "670:\tlearn: 0.1171048\ttotal: 34.2s\tremaining: 16.8s\n",
      "671:\tlearn: 0.1170343\ttotal: 34.3s\tremaining: 16.7s\n",
      "672:\tlearn: 0.1168182\ttotal: 34.3s\tremaining: 16.7s\n",
      "673:\tlearn: 0.1167312\ttotal: 34.4s\tremaining: 16.6s\n",
      "674:\tlearn: 0.1166815\ttotal: 34.4s\tremaining: 16.6s\n",
      "675:\tlearn: 0.1165054\ttotal: 34.5s\tremaining: 16.5s\n",
      "676:\tlearn: 0.1163654\ttotal: 34.5s\tremaining: 16.5s\n",
      "677:\tlearn: 0.1162249\ttotal: 34.6s\tremaining: 16.4s\n",
      "678:\tlearn: 0.1161054\ttotal: 34.6s\tremaining: 16.4s\n",
      "679:\tlearn: 0.1160182\ttotal: 34.7s\tremaining: 16.3s\n",
      "680:\tlearn: 0.1159266\ttotal: 34.7s\tremaining: 16.3s\n",
      "681:\tlearn: 0.1157294\ttotal: 34.8s\tremaining: 16.2s\n",
      "682:\tlearn: 0.1155574\ttotal: 34.8s\tremaining: 16.2s\n",
      "683:\tlearn: 0.1153408\ttotal: 34.9s\tremaining: 16.1s\n",
      "684:\tlearn: 0.1152337\ttotal: 34.9s\tremaining: 16s\n",
      "685:\tlearn: 0.1151488\ttotal: 34.9s\tremaining: 16s\n",
      "686:\tlearn: 0.1149988\ttotal: 35s\tremaining: 15.9s\n",
      "687:\tlearn: 0.1149759\ttotal: 35s\tremaining: 15.9s\n",
      "688:\tlearn: 0.1149133\ttotal: 35.1s\tremaining: 15.8s\n",
      "689:\tlearn: 0.1149006\ttotal: 35.2s\tremaining: 15.8s\n",
      "690:\tlearn: 0.1148995\ttotal: 35.2s\tremaining: 15.7s\n",
      "691:\tlearn: 0.1148482\ttotal: 35.2s\tremaining: 15.7s\n",
      "692:\tlearn: 0.1148300\ttotal: 35.3s\tremaining: 15.6s\n",
      "693:\tlearn: 0.1147883\ttotal: 35.3s\tremaining: 15.6s\n",
      "694:\tlearn: 0.1147217\ttotal: 35.4s\tremaining: 15.5s\n",
      "695:\tlearn: 0.1146014\ttotal: 35.4s\tremaining: 15.5s\n",
      "696:\tlearn: 0.1144679\ttotal: 35.5s\tremaining: 15.4s\n",
      "697:\tlearn: 0.1143171\ttotal: 35.5s\tremaining: 15.4s\n",
      "698:\tlearn: 0.1141108\ttotal: 35.6s\tremaining: 15.3s\n",
      "699:\tlearn: 0.1139443\ttotal: 35.6s\tremaining: 15.3s\n",
      "700:\tlearn: 0.1138801\ttotal: 35.7s\tremaining: 15.2s\n",
      "701:\tlearn: 0.1137326\ttotal: 35.7s\tremaining: 15.2s\n",
      "702:\tlearn: 0.1136348\ttotal: 35.8s\tremaining: 15.1s\n",
      "703:\tlearn: 0.1135285\ttotal: 35.8s\tremaining: 15.1s\n",
      "704:\tlearn: 0.1134151\ttotal: 35.9s\tremaining: 15s\n",
      "705:\tlearn: 0.1133265\ttotal: 35.9s\tremaining: 15s\n",
      "706:\tlearn: 0.1132178\ttotal: 36s\tremaining: 14.9s\n",
      "707:\tlearn: 0.1130878\ttotal: 36s\tremaining: 14.8s\n",
      "708:\tlearn: 0.1129857\ttotal: 36s\tremaining: 14.8s\n",
      "709:\tlearn: 0.1129022\ttotal: 36.1s\tremaining: 14.7s\n",
      "710:\tlearn: 0.1128671\ttotal: 36.1s\tremaining: 14.7s\n",
      "711:\tlearn: 0.1127708\ttotal: 36.2s\tremaining: 14.6s\n",
      "712:\tlearn: 0.1126632\ttotal: 36.2s\tremaining: 14.6s\n",
      "713:\tlearn: 0.1126005\ttotal: 36.3s\tremaining: 14.5s\n",
      "714:\tlearn: 0.1124798\ttotal: 36.3s\tremaining: 14.5s\n",
      "715:\tlearn: 0.1123582\ttotal: 36.4s\tremaining: 14.4s\n",
      "716:\tlearn: 0.1123139\ttotal: 36.4s\tremaining: 14.4s\n",
      "717:\tlearn: 0.1121191\ttotal: 36.5s\tremaining: 14.3s\n",
      "718:\tlearn: 0.1119735\ttotal: 36.5s\tremaining: 14.3s\n",
      "719:\tlearn: 0.1117574\ttotal: 36.6s\tremaining: 14.2s\n",
      "720:\tlearn: 0.1116470\ttotal: 36.6s\tremaining: 14.2s\n",
      "721:\tlearn: 0.1115382\ttotal: 36.7s\tremaining: 14.1s\n",
      "722:\tlearn: 0.1113784\ttotal: 36.7s\tremaining: 14.1s\n",
      "723:\tlearn: 0.1113180\ttotal: 36.8s\tremaining: 14s\n",
      "724:\tlearn: 0.1112692\ttotal: 36.8s\tremaining: 14s\n",
      "725:\tlearn: 0.1112679\ttotal: 36.9s\tremaining: 13.9s\n",
      "726:\tlearn: 0.1112031\ttotal: 36.9s\tremaining: 13.9s\n",
      "727:\tlearn: 0.1110462\ttotal: 37s\tremaining: 13.8s\n",
      "728:\tlearn: 0.1109891\ttotal: 37s\tremaining: 13.8s\n",
      "729:\tlearn: 0.1109484\ttotal: 37.1s\tremaining: 13.7s\n",
      "730:\tlearn: 0.1108718\ttotal: 37.1s\tremaining: 13.7s\n",
      "731:\tlearn: 0.1107806\ttotal: 37.2s\tremaining: 13.6s\n",
      "732:\tlearn: 0.1107046\ttotal: 37.2s\tremaining: 13.5s\n",
      "733:\tlearn: 0.1106149\ttotal: 37.2s\tremaining: 13.5s\n",
      "734:\tlearn: 0.1105274\ttotal: 37.3s\tremaining: 13.4s\n",
      "735:\tlearn: 0.1104620\ttotal: 37.3s\tremaining: 13.4s\n",
      "736:\tlearn: 0.1103649\ttotal: 37.4s\tremaining: 13.3s\n",
      "737:\tlearn: 0.1102676\ttotal: 37.4s\tremaining: 13.3s\n",
      "738:\tlearn: 0.1102238\ttotal: 37.5s\tremaining: 13.2s\n",
      "739:\tlearn: 0.1101308\ttotal: 37.5s\tremaining: 13.2s\n",
      "740:\tlearn: 0.1101172\ttotal: 37.6s\tremaining: 13.1s\n",
      "741:\tlearn: 0.1101165\ttotal: 37.6s\tremaining: 13.1s\n",
      "742:\tlearn: 0.1100279\ttotal: 37.7s\tremaining: 13s\n",
      "743:\tlearn: 0.1100267\ttotal: 37.8s\tremaining: 13s\n",
      "744:\tlearn: 0.1098849\ttotal: 37.8s\tremaining: 12.9s\n",
      "745:\tlearn: 0.1097768\ttotal: 37.9s\tremaining: 12.9s\n",
      "746:\tlearn: 0.1097045\ttotal: 37.9s\tremaining: 12.8s\n",
      "747:\tlearn: 0.1096114\ttotal: 38s\tremaining: 12.8s\n",
      "748:\tlearn: 0.1095533\ttotal: 38s\tremaining: 12.7s\n",
      "749:\tlearn: 0.1094140\ttotal: 38s\tremaining: 12.7s\n",
      "750:\tlearn: 0.1092552\ttotal: 38.1s\tremaining: 12.6s\n",
      "751:\tlearn: 0.1091099\ttotal: 38.1s\tremaining: 12.6s\n",
      "752:\tlearn: 0.1091085\ttotal: 38.2s\tremaining: 12.5s\n",
      "753:\tlearn: 0.1091080\ttotal: 38.2s\tremaining: 12.5s\n",
      "754:\tlearn: 0.1091079\ttotal: 38.3s\tremaining: 12.4s\n",
      "755:\tlearn: 0.1090777\ttotal: 38.3s\tremaining: 12.4s\n",
      "756:\tlearn: 0.1090040\ttotal: 38.4s\tremaining: 12.3s\n",
      "757:\tlearn: 0.1089594\ttotal: 38.4s\tremaining: 12.3s\n",
      "758:\tlearn: 0.1088864\ttotal: 38.5s\tremaining: 12.2s\n",
      "759:\tlearn: 0.1087178\ttotal: 38.5s\tremaining: 12.2s\n",
      "760:\tlearn: 0.1086393\ttotal: 38.6s\tremaining: 12.1s\n",
      "761:\tlearn: 0.1085937\ttotal: 38.6s\tremaining: 12.1s\n",
      "762:\tlearn: 0.1084953\ttotal: 38.7s\tremaining: 12s\n",
      "763:\tlearn: 0.1083682\ttotal: 38.7s\tremaining: 12s\n",
      "764:\tlearn: 0.1082198\ttotal: 38.8s\tremaining: 11.9s\n",
      "765:\tlearn: 0.1081352\ttotal: 38.8s\tremaining: 11.9s\n",
      "766:\tlearn: 0.1080791\ttotal: 38.9s\tremaining: 11.8s\n",
      "767:\tlearn: 0.1079282\ttotal: 38.9s\tremaining: 11.8s\n",
      "768:\tlearn: 0.1079275\ttotal: 39s\tremaining: 11.7s\n",
      "769:\tlearn: 0.1079213\ttotal: 39s\tremaining: 11.7s\n",
      "770:\tlearn: 0.1078481\ttotal: 39.1s\tremaining: 11.6s\n",
      "771:\tlearn: 0.1077413\ttotal: 39.1s\tremaining: 11.6s\n",
      "772:\tlearn: 0.1077355\ttotal: 39.2s\tremaining: 11.5s\n",
      "773:\tlearn: 0.1075899\ttotal: 39.2s\tremaining: 11.5s\n",
      "774:\tlearn: 0.1075095\ttotal: 39.3s\tremaining: 11.4s\n",
      "775:\tlearn: 0.1073600\ttotal: 39.3s\tremaining: 11.4s\n",
      "776:\tlearn: 0.1072679\ttotal: 39.4s\tremaining: 11.3s\n",
      "777:\tlearn: 0.1072330\ttotal: 39.5s\tremaining: 11.3s\n",
      "778:\tlearn: 0.1071690\ttotal: 39.5s\tremaining: 11.2s\n",
      "779:\tlearn: 0.1071359\ttotal: 39.6s\tremaining: 11.2s\n",
      "780:\tlearn: 0.1070154\ttotal: 39.6s\tremaining: 11.1s\n",
      "781:\tlearn: 0.1069059\ttotal: 39.7s\tremaining: 11.1s\n",
      "782:\tlearn: 0.1068035\ttotal: 39.7s\tremaining: 11s\n",
      "783:\tlearn: 0.1067494\ttotal: 39.7s\tremaining: 10.9s\n",
      "784:\tlearn: 0.1066274\ttotal: 39.8s\tremaining: 10.9s\n",
      "785:\tlearn: 0.1065772\ttotal: 39.8s\tremaining: 10.8s\n",
      "786:\tlearn: 0.1064537\ttotal: 39.9s\tremaining: 10.8s\n",
      "787:\tlearn: 0.1063417\ttotal: 39.9s\tremaining: 10.7s\n",
      "788:\tlearn: 0.1062518\ttotal: 40s\tremaining: 10.7s\n",
      "789:\tlearn: 0.1061071\ttotal: 40s\tremaining: 10.6s\n",
      "790:\tlearn: 0.1059814\ttotal: 40.1s\tremaining: 10.6s\n",
      "791:\tlearn: 0.1058849\ttotal: 40.1s\tremaining: 10.5s\n",
      "792:\tlearn: 0.1058173\ttotal: 40.2s\tremaining: 10.5s\n",
      "793:\tlearn: 0.1057564\ttotal: 40.2s\tremaining: 10.4s\n",
      "794:\tlearn: 0.1056413\ttotal: 40.3s\tremaining: 10.4s\n",
      "795:\tlearn: 0.1055161\ttotal: 40.3s\tremaining: 10.3s\n",
      "796:\tlearn: 0.1053548\ttotal: 40.4s\tremaining: 10.3s\n",
      "797:\tlearn: 0.1053226\ttotal: 40.4s\tremaining: 10.2s\n",
      "798:\tlearn: 0.1052536\ttotal: 40.5s\tremaining: 10.2s\n",
      "799:\tlearn: 0.1051355\ttotal: 40.5s\tremaining: 10.1s\n",
      "800:\tlearn: 0.1050803\ttotal: 40.6s\tremaining: 10.1s\n",
      "801:\tlearn: 0.1050796\ttotal: 40.7s\tremaining: 10s\n",
      "802:\tlearn: 0.1050388\ttotal: 40.7s\tremaining: 9.98s\n",
      "803:\tlearn: 0.1049619\ttotal: 40.8s\tremaining: 9.94s\n",
      "804:\tlearn: 0.1048815\ttotal: 40.8s\tremaining: 9.88s\n",
      "805:\tlearn: 0.1047695\ttotal: 40.9s\tremaining: 9.83s\n",
      "806:\tlearn: 0.1046476\ttotal: 40.9s\tremaining: 9.78s\n",
      "807:\tlearn: 0.1045570\ttotal: 41s\tremaining: 9.73s\n",
      "808:\tlearn: 0.1044109\ttotal: 41s\tremaining: 9.68s\n",
      "809:\tlearn: 0.1042788\ttotal: 41.1s\tremaining: 9.63s\n",
      "810:\tlearn: 0.1042148\ttotal: 41.1s\tremaining: 9.58s\n",
      "811:\tlearn: 0.1041912\ttotal: 41.2s\tremaining: 9.53s\n",
      "812:\tlearn: 0.1040680\ttotal: 41.2s\tremaining: 9.48s\n",
      "813:\tlearn: 0.1039222\ttotal: 41.3s\tremaining: 9.43s\n",
      "814:\tlearn: 0.1038787\ttotal: 41.3s\tremaining: 9.38s\n",
      "815:\tlearn: 0.1038372\ttotal: 41.4s\tremaining: 9.32s\n",
      "816:\tlearn: 0.1038022\ttotal: 41.4s\tremaining: 9.27s\n",
      "817:\tlearn: 0.1036813\ttotal: 41.5s\tremaining: 9.22s\n",
      "818:\tlearn: 0.1035263\ttotal: 41.5s\tremaining: 9.17s\n",
      "819:\tlearn: 0.1034648\ttotal: 41.5s\tremaining: 9.12s\n",
      "820:\tlearn: 0.1033732\ttotal: 41.6s\tremaining: 9.07s\n",
      "821:\tlearn: 0.1033343\ttotal: 41.6s\tremaining: 9.02s\n",
      "822:\tlearn: 0.1032625\ttotal: 41.7s\tremaining: 8.97s\n",
      "823:\tlearn: 0.1031694\ttotal: 41.7s\tremaining: 8.92s\n",
      "824:\tlearn: 0.1030579\ttotal: 41.8s\tremaining: 8.87s\n",
      "825:\tlearn: 0.1029662\ttotal: 41.8s\tremaining: 8.81s\n",
      "826:\tlearn: 0.1029137\ttotal: 41.9s\tremaining: 8.76s\n",
      "827:\tlearn: 0.1028236\ttotal: 41.9s\tremaining: 8.71s\n",
      "828:\tlearn: 0.1027794\ttotal: 42s\tremaining: 8.66s\n",
      "829:\tlearn: 0.1026930\ttotal: 42s\tremaining: 8.61s\n",
      "830:\tlearn: 0.1025676\ttotal: 42.1s\tremaining: 8.56s\n",
      "831:\tlearn: 0.1024967\ttotal: 42.1s\tremaining: 8.51s\n",
      "832:\tlearn: 0.1024470\ttotal: 42.2s\tremaining: 8.46s\n",
      "833:\tlearn: 0.1023622\ttotal: 42.2s\tremaining: 8.41s\n",
      "834:\tlearn: 0.1023377\ttotal: 42.3s\tremaining: 8.35s\n",
      "835:\tlearn: 0.1022814\ttotal: 42.3s\tremaining: 8.3s\n",
      "836:\tlearn: 0.1021990\ttotal: 42.4s\tremaining: 8.26s\n",
      "837:\tlearn: 0.1021134\ttotal: 42.4s\tremaining: 8.2s\n",
      "838:\tlearn: 0.1020787\ttotal: 42.5s\tremaining: 8.15s\n",
      "839:\tlearn: 0.1020068\ttotal: 42.5s\tremaining: 8.1s\n",
      "840:\tlearn: 0.1018158\ttotal: 42.6s\tremaining: 8.05s\n",
      "841:\tlearn: 0.1017691\ttotal: 42.6s\tremaining: 8s\n",
      "842:\tlearn: 0.1017105\ttotal: 42.7s\tremaining: 7.95s\n",
      "843:\tlearn: 0.1016765\ttotal: 42.7s\tremaining: 7.9s\n",
      "844:\tlearn: 0.1015969\ttotal: 42.8s\tremaining: 7.85s\n",
      "845:\tlearn: 0.1015702\ttotal: 42.8s\tremaining: 7.8s\n",
      "846:\tlearn: 0.1015025\ttotal: 42.9s\tremaining: 7.75s\n",
      "847:\tlearn: 0.1014042\ttotal: 42.9s\tremaining: 7.7s\n",
      "848:\tlearn: 0.1013629\ttotal: 43s\tremaining: 7.65s\n",
      "849:\tlearn: 0.1013251\ttotal: 43s\tremaining: 7.6s\n",
      "850:\tlearn: 0.1013242\ttotal: 43.1s\tremaining: 7.54s\n",
      "851:\tlearn: 0.1013235\ttotal: 43.1s\tremaining: 7.49s\n",
      "852:\tlearn: 0.1012974\ttotal: 43.2s\tremaining: 7.44s\n",
      "853:\tlearn: 0.1012310\ttotal: 43.3s\tremaining: 7.39s\n",
      "854:\tlearn: 0.1010641\ttotal: 43.3s\tremaining: 7.34s\n",
      "855:\tlearn: 0.1009084\ttotal: 43.3s\tremaining: 7.29s\n",
      "856:\tlearn: 0.1008210\ttotal: 43.4s\tremaining: 7.24s\n",
      "857:\tlearn: 0.1007561\ttotal: 43.4s\tremaining: 7.19s\n",
      "858:\tlearn: 0.1006641\ttotal: 43.5s\tremaining: 7.14s\n",
      "859:\tlearn: 0.1005803\ttotal: 43.5s\tremaining: 7.09s\n",
      "860:\tlearn: 0.1005261\ttotal: 43.6s\tremaining: 7.04s\n",
      "861:\tlearn: 0.1003832\ttotal: 43.6s\tremaining: 6.99s\n",
      "862:\tlearn: 0.1003233\ttotal: 43.7s\tremaining: 6.94s\n",
      "863:\tlearn: 0.1002949\ttotal: 43.7s\tremaining: 6.88s\n",
      "864:\tlearn: 0.1002289\ttotal: 43.8s\tremaining: 6.83s\n",
      "865:\tlearn: 0.1001973\ttotal: 43.8s\tremaining: 6.78s\n",
      "866:\tlearn: 0.1001960\ttotal: 43.9s\tremaining: 6.73s\n",
      "867:\tlearn: 0.1001568\ttotal: 44s\tremaining: 6.68s\n",
      "868:\tlearn: 0.1001522\ttotal: 44s\tremaining: 6.63s\n",
      "869:\tlearn: 0.1000582\ttotal: 44.1s\tremaining: 6.58s\n",
      "870:\tlearn: 0.0999704\ttotal: 44.1s\tremaining: 6.53s\n",
      "871:\tlearn: 0.0998146\ttotal: 44.2s\tremaining: 6.48s\n",
      "872:\tlearn: 0.0997912\ttotal: 44.2s\tremaining: 6.43s\n",
      "873:\tlearn: 0.0997524\ttotal: 44.3s\tremaining: 6.38s\n",
      "874:\tlearn: 0.0997045\ttotal: 44.3s\tremaining: 6.33s\n",
      "875:\tlearn: 0.0996676\ttotal: 44.4s\tremaining: 6.28s\n",
      "876:\tlearn: 0.0996065\ttotal: 44.4s\tremaining: 6.23s\n",
      "877:\tlearn: 0.0994939\ttotal: 44.5s\tremaining: 6.18s\n",
      "878:\tlearn: 0.0993477\ttotal: 44.5s\tremaining: 6.13s\n",
      "879:\tlearn: 0.0992688\ttotal: 44.5s\tremaining: 6.08s\n",
      "880:\tlearn: 0.0992047\ttotal: 44.6s\tremaining: 6.02s\n",
      "881:\tlearn: 0.0991339\ttotal: 44.6s\tremaining: 5.97s\n",
      "882:\tlearn: 0.0990615\ttotal: 44.7s\tremaining: 5.92s\n",
      "883:\tlearn: 0.0989079\ttotal: 44.7s\tremaining: 5.87s\n",
      "884:\tlearn: 0.0988507\ttotal: 44.8s\tremaining: 5.82s\n",
      "885:\tlearn: 0.0988498\ttotal: 44.8s\tremaining: 5.77s\n",
      "886:\tlearn: 0.0988077\ttotal: 44.9s\tremaining: 5.72s\n",
      "887:\tlearn: 0.0987760\ttotal: 44.9s\tremaining: 5.67s\n",
      "888:\tlearn: 0.0986909\ttotal: 45s\tremaining: 5.62s\n",
      "889:\tlearn: 0.0986453\ttotal: 45s\tremaining: 5.57s\n",
      "890:\tlearn: 0.0986031\ttotal: 45.1s\tremaining: 5.51s\n",
      "891:\tlearn: 0.0985601\ttotal: 45.1s\tremaining: 5.46s\n",
      "892:\tlearn: 0.0984487\ttotal: 45.2s\tremaining: 5.42s\n",
      "893:\tlearn: 0.0984362\ttotal: 45.2s\tremaining: 5.36s\n",
      "894:\tlearn: 0.0983549\ttotal: 45.3s\tremaining: 5.31s\n",
      "895:\tlearn: 0.0983543\ttotal: 45.3s\tremaining: 5.26s\n",
      "896:\tlearn: 0.0982917\ttotal: 45.4s\tremaining: 5.21s\n",
      "897:\tlearn: 0.0982570\ttotal: 45.4s\tremaining: 5.16s\n",
      "898:\tlearn: 0.0981847\ttotal: 45.5s\tremaining: 5.11s\n",
      "899:\tlearn: 0.0981257\ttotal: 45.5s\tremaining: 5.06s\n",
      "900:\tlearn: 0.0980323\ttotal: 45.6s\tremaining: 5.01s\n",
      "901:\tlearn: 0.0979550\ttotal: 45.6s\tremaining: 4.96s\n",
      "902:\tlearn: 0.0978900\ttotal: 45.7s\tremaining: 4.91s\n",
      "903:\tlearn: 0.0978123\ttotal: 45.7s\tremaining: 4.86s\n",
      "904:\tlearn: 0.0977841\ttotal: 45.8s\tremaining: 4.81s\n",
      "905:\tlearn: 0.0977031\ttotal: 45.9s\tremaining: 4.76s\n",
      "906:\tlearn: 0.0976061\ttotal: 45.9s\tremaining: 4.71s\n",
      "907:\tlearn: 0.0975119\ttotal: 45.9s\tremaining: 4.66s\n",
      "908:\tlearn: 0.0974632\ttotal: 46s\tremaining: 4.6s\n",
      "909:\tlearn: 0.0974627\ttotal: 46s\tremaining: 4.55s\n",
      "910:\tlearn: 0.0974086\ttotal: 46.1s\tremaining: 4.5s\n",
      "911:\tlearn: 0.0973385\ttotal: 46.1s\tremaining: 4.45s\n",
      "912:\tlearn: 0.0972324\ttotal: 46.2s\tremaining: 4.4s\n",
      "913:\tlearn: 0.0971515\ttotal: 46.2s\tremaining: 4.35s\n",
      "914:\tlearn: 0.0970534\ttotal: 46.3s\tremaining: 4.3s\n",
      "915:\tlearn: 0.0969554\ttotal: 46.3s\tremaining: 4.25s\n",
      "916:\tlearn: 0.0969081\ttotal: 46.4s\tremaining: 4.2s\n",
      "917:\tlearn: 0.0968696\ttotal: 46.4s\tremaining: 4.15s\n",
      "918:\tlearn: 0.0968249\ttotal: 46.5s\tremaining: 4.09s\n",
      "919:\tlearn: 0.0966961\ttotal: 46.5s\tremaining: 4.04s\n",
      "920:\tlearn: 0.0966370\ttotal: 46.6s\tremaining: 3.99s\n",
      "921:\tlearn: 0.0965437\ttotal: 46.6s\tremaining: 3.94s\n",
      "922:\tlearn: 0.0965080\ttotal: 46.6s\tremaining: 3.89s\n",
      "923:\tlearn: 0.0964598\ttotal: 46.7s\tremaining: 3.84s\n",
      "924:\tlearn: 0.0963290\ttotal: 46.7s\tremaining: 3.79s\n",
      "925:\tlearn: 0.0963085\ttotal: 46.8s\tremaining: 3.74s\n",
      "926:\tlearn: 0.0962343\ttotal: 46.8s\tremaining: 3.69s\n",
      "927:\tlearn: 0.0961418\ttotal: 46.9s\tremaining: 3.64s\n",
      "928:\tlearn: 0.0960400\ttotal: 46.9s\tremaining: 3.59s\n",
      "929:\tlearn: 0.0959835\ttotal: 47s\tremaining: 3.54s\n",
      "930:\tlearn: 0.0959345\ttotal: 47s\tremaining: 3.48s\n",
      "931:\tlearn: 0.0958929\ttotal: 47.1s\tremaining: 3.43s\n",
      "932:\tlearn: 0.0957946\ttotal: 47.1s\tremaining: 3.38s\n",
      "933:\tlearn: 0.0957264\ttotal: 47.2s\tremaining: 3.33s\n",
      "934:\tlearn: 0.0956574\ttotal: 47.2s\tremaining: 3.28s\n",
      "935:\tlearn: 0.0956062\ttotal: 47.3s\tremaining: 3.23s\n",
      "936:\tlearn: 0.0954849\ttotal: 47.3s\tremaining: 3.18s\n",
      "937:\tlearn: 0.0954843\ttotal: 47.4s\tremaining: 3.13s\n",
      "938:\tlearn: 0.0954756\ttotal: 47.4s\tremaining: 3.08s\n",
      "939:\tlearn: 0.0954439\ttotal: 47.5s\tremaining: 3.03s\n",
      "940:\tlearn: 0.0954245\ttotal: 47.5s\tremaining: 2.98s\n",
      "941:\tlearn: 0.0953617\ttotal: 47.6s\tremaining: 2.93s\n",
      "942:\tlearn: 0.0953324\ttotal: 47.6s\tremaining: 2.88s\n",
      "943:\tlearn: 0.0952746\ttotal: 47.6s\tremaining: 2.83s\n",
      "944:\tlearn: 0.0952082\ttotal: 47.7s\tremaining: 2.78s\n",
      "945:\tlearn: 0.0951478\ttotal: 47.8s\tremaining: 2.73s\n",
      "946:\tlearn: 0.0951127\ttotal: 47.8s\tremaining: 2.67s\n",
      "947:\tlearn: 0.0950437\ttotal: 47.8s\tremaining: 2.62s\n",
      "948:\tlearn: 0.0950061\ttotal: 47.9s\tremaining: 2.57s\n",
      "949:\tlearn: 0.0949463\ttotal: 47.9s\tremaining: 2.52s\n",
      "950:\tlearn: 0.0949167\ttotal: 48s\tremaining: 2.47s\n",
      "951:\tlearn: 0.0948579\ttotal: 48s\tremaining: 2.42s\n",
      "952:\tlearn: 0.0947836\ttotal: 48.1s\tremaining: 2.37s\n",
      "953:\tlearn: 0.0947569\ttotal: 48.1s\tremaining: 2.32s\n",
      "954:\tlearn: 0.0947254\ttotal: 48.2s\tremaining: 2.27s\n",
      "955:\tlearn: 0.0946914\ttotal: 48.2s\tremaining: 2.22s\n",
      "956:\tlearn: 0.0946260\ttotal: 48.3s\tremaining: 2.17s\n",
      "957:\tlearn: 0.0945514\ttotal: 48.3s\tremaining: 2.12s\n",
      "958:\tlearn: 0.0945017\ttotal: 48.4s\tremaining: 2.07s\n",
      "959:\tlearn: 0.0944027\ttotal: 48.4s\tremaining: 2.02s\n",
      "960:\tlearn: 0.0943687\ttotal: 48.5s\tremaining: 1.97s\n",
      "961:\tlearn: 0.0942911\ttotal: 48.5s\tremaining: 1.92s\n",
      "962:\tlearn: 0.0942731\ttotal: 48.6s\tremaining: 1.86s\n",
      "963:\tlearn: 0.0942282\ttotal: 48.6s\tremaining: 1.81s\n",
      "964:\tlearn: 0.0941838\ttotal: 48.7s\tremaining: 1.76s\n",
      "965:\tlearn: 0.0940659\ttotal: 48.7s\tremaining: 1.71s\n",
      "966:\tlearn: 0.0939953\ttotal: 48.8s\tremaining: 1.66s\n",
      "967:\tlearn: 0.0939484\ttotal: 48.8s\tremaining: 1.61s\n",
      "968:\tlearn: 0.0939078\ttotal: 48.8s\tremaining: 1.56s\n",
      "969:\tlearn: 0.0938245\ttotal: 48.9s\tremaining: 1.51s\n",
      "970:\tlearn: 0.0937652\ttotal: 48.9s\tremaining: 1.46s\n",
      "971:\tlearn: 0.0936981\ttotal: 49s\tremaining: 1.41s\n",
      "972:\tlearn: 0.0936325\ttotal: 49s\tremaining: 1.36s\n",
      "973:\tlearn: 0.0935408\ttotal: 49.1s\tremaining: 1.31s\n",
      "974:\tlearn: 0.0934773\ttotal: 49.1s\tremaining: 1.26s\n",
      "975:\tlearn: 0.0933570\ttotal: 49.2s\tremaining: 1.21s\n",
      "976:\tlearn: 0.0932846\ttotal: 49.2s\tremaining: 1.16s\n",
      "977:\tlearn: 0.0932473\ttotal: 49.3s\tremaining: 1.11s\n",
      "978:\tlearn: 0.0931813\ttotal: 49.3s\tremaining: 1.06s\n",
      "979:\tlearn: 0.0931466\ttotal: 49.4s\tremaining: 1.01s\n",
      "980:\tlearn: 0.0931467\ttotal: 49.4s\tremaining: 957ms\n",
      "981:\tlearn: 0.0930596\ttotal: 49.5s\tremaining: 907ms\n",
      "982:\tlearn: 0.0930248\ttotal: 49.5s\tremaining: 856ms\n",
      "983:\tlearn: 0.0929380\ttotal: 49.5s\tremaining: 806ms\n",
      "984:\tlearn: 0.0928385\ttotal: 49.6s\tremaining: 755ms\n",
      "985:\tlearn: 0.0927890\ttotal: 49.6s\tremaining: 705ms\n",
      "986:\tlearn: 0.0927752\ttotal: 49.7s\tremaining: 655ms\n",
      "987:\tlearn: 0.0927336\ttotal: 49.7s\tremaining: 604ms\n",
      "988:\tlearn: 0.0926771\ttotal: 49.8s\tremaining: 554ms\n",
      "989:\tlearn: 0.0925769\ttotal: 49.8s\tremaining: 504ms\n",
      "990:\tlearn: 0.0925007\ttotal: 49.9s\tremaining: 453ms\n",
      "991:\tlearn: 0.0924186\ttotal: 49.9s\tremaining: 403ms\n",
      "992:\tlearn: 0.0923577\ttotal: 50s\tremaining: 352ms\n",
      "993:\tlearn: 0.0923330\ttotal: 50s\tremaining: 302ms\n",
      "994:\tlearn: 0.0923015\ttotal: 50.1s\tremaining: 252ms\n",
      "995:\tlearn: 0.0922616\ttotal: 50.1s\tremaining: 201ms\n",
      "996:\tlearn: 0.0922270\ttotal: 50.2s\tremaining: 151ms\n",
      "997:\tlearn: 0.0921635\ttotal: 50.2s\tremaining: 101ms\n",
      "998:\tlearn: 0.0920700\ttotal: 50.3s\tremaining: 50.3ms\n",
      "999:\tlearn: 0.0919419\ttotal: 50.3s\tremaining: 0us\n",
      "Recall: 0.45 (+/- 0.59)\n"
     ]
    }
   ],
   "source": [
    "cat = CatBoostClassifier(depth=10, l2_leaf_reg=5, learning_rate=0.1, random_state=12345)\n",
    "cat.fit(features_train, target_train)\n",
    "scores = cross_val_score(cat, features_train, target_train, cv=3, scoring='recall')\n",
    "print(\"Recall: %0.2f (+/- %0.2f)\" % (scores.mean(), scores.std() * 2))"
   ]
  },
  {
   "cell_type": "markdown",
   "metadata": {},
   "source": [
    "Эта модель выдала результат похуже, но большая погрешность."
   ]
  },
  {
   "cell_type": "markdown",
   "metadata": {},
   "source": [
    "##### DecisionTreeClassifier"
   ]
  },
  {
   "cell_type": "code",
   "execution_count": 66,
   "metadata": {},
   "outputs": [
    {
     "name": "stdout",
     "output_type": "stream",
     "text": [
      "Best grid search hyperparameters are: {'criterion': 'entropy', 'max_depth': 4}\n",
      "Best grid search score is: 0.524532046606932\n"
     ]
    }
   ],
   "source": [
    "clf = DecisionTreeClassifier(random_state=12345)\n",
    "param_grid_CLF = {'criterion':['gini','entropy'],\n",
    "                 'max_depth':[4,5,6,7,8,9,10,11,12,15,20,30,40,50,70,90,120,150]}\n",
    "\n",
    "model_grid_CLF = GridSearchCV(clf, param_grid_CLF, cv=5, scoring='recall')\n",
    "\n",
    "model_grid_CLF.fit(features_train, target_train)\n",
    "\n",
    "\n",
    "print('Best grid search hyperparameters are: '+str(model_grid_CLF.best_params_))\n",
    "print('Best grid search score is: '+str(model_grid_CLF.best_score_))"
   ]
  },
  {
   "cell_type": "code",
   "execution_count": 67,
   "metadata": {},
   "outputs": [
    {
     "name": "stdout",
     "output_type": "stream",
     "text": [
      "Recall: 0.50 (+/- 0.46)\n"
     ]
    }
   ],
   "source": [
    "tree = DecisionTreeClassifier(criterion='gini', max_depth=6, random_state=12345)\n",
    "tree.fit(features_train, target_train)\n",
    "scores = cross_val_score(tree, features_train, target_train, cv=3, scoring='recall')\n",
    "print(\"Recall: %0.2f (+/- %0.2f)\" % (scores.mean(), scores.std() * 2))"
   ]
  },
  {
   "cell_type": "markdown",
   "metadata": {},
   "source": [
    "И деревья показали плохой результат, так что не будем её задействовать."
   ]
  },
  {
   "cell_type": "markdown",
   "metadata": {},
   "source": [
    "<div class=\"alert alert-danger\">\n",
    "<h2>Комментарий ревьюера<a class=\"tocSkip\"></a></h2>\n",
    "\n",
    "**Нужно доработать** ❌: тут есть пару важных моментов:\n",
    "1. Чтобы результаты обучения были воспроизводимы, не забывай указывать значение random_state при инициализации моделей;\n",
    "2. Для честного эксперимента нужно подобрать гиперпараметры для всех моделей. Убедись, что подбираешь хотя бы по 2 разных гиперпараметра для **каждой** модели, выбранной тобой для исследования\n",
    "</div>"
   ]
  },
  {
   "cell_type": "markdown",
   "metadata": {},
   "source": [
    "<div class=\"alert alert-info\">\n",
    "    <b>Комментарий студента:</b> Готово, вроде должно быть правильно.\n",
    "</div>"
   ]
  },
  {
   "cell_type": "markdown",
   "metadata": {},
   "source": [
    "<div class=\"alert alert-danger\">\n",
    "<h2>Комментарий ревьюера v2<a class=\"tocSkip\"></a></h2>\n",
    "\n",
    "**Нужно доработать** ❌: не совсем так:\n",
    "1. При инициализации CatBoostClassifier также необходимо указать значение random_state;\n",
    "2. Для подбора гиперпараметров необходимо использовать циклы или автоматизированные методы подбора гиперпараметров(тот же GridSearch), иначе непонятно, как ты их выбрал</div>"
   ]
  },
  {
   "cell_type": "markdown",
   "metadata": {},
   "source": [
    "<div class=\"alert alert-info\">\n",
    "    <b>Комментарий студента V2:</b> Поправил)\n",
    "</div>"
   ]
  },
  {
   "cell_type": "markdown",
   "metadata": {},
   "source": [
    "<div class=\"alert alert-success\">\n",
    "<h2>Комментарий ревьюера v3<a class=\"tocSkip\"></a></h2>\n",
    "    \n",
    "**Отлично!** ✔️: вот теперь другое дело!</div>"
   ]
  },
  {
   "cell_type": "markdown",
   "metadata": {},
   "source": [
    "#### Обучение лучшей модели"
   ]
  },
  {
   "cell_type": "markdown",
   "metadata": {},
   "source": [
    "<div class=\"alert alert-success\">\n",
    "<h2>Комментарий ревьюера<a class=\"tocSkip\"></a></h2>\n",
    "    \n",
    "**Отлично!** ✔️: здорово, что используешь GridSearch!</div>"
   ]
  },
  {
   "cell_type": "markdown",
   "metadata": {},
   "source": [
    "<div class=\"alert alert-warning\">\n",
    "<h2>Комментарий ревьюера<a class=\"tocSkip\"></a></h2>\n",
    "    \n",
    "**Есть совет** ⚠️: но если основная метрика — не accuracy, то в GridSearch нужно указать метрику, по которой будут подбираться гиперпараметры, для этого есть параметр scoring(как и у cross_val_score), подробнее можно почитать в <a href=\"https://scikit-learn.org/stable/modules/generated/sklearn.model_selection.GridSearchCV.html\" target=\"blank_\">документации</a>. Также нет смысла передавать в GridSearch списки с одним значением, лучше их указать при инициализации модели</div>"
   ]
  },
  {
   "cell_type": "code",
   "execution_count": 68,
   "metadata": {},
   "outputs": [
    {
     "name": "stdout",
     "output_type": "stream",
     "text": [
      "0.6489311905133406\n"
     ]
    }
   ],
   "source": [
    "logreg = LogisticRegression(solver='lbfgs', C = 0.00206913808111479, penalty = 'l2', random_state=12345)\n",
    "logreg.fit(features_train, target_train)\n",
    "prediction = logreg.predict(features_test)\n",
    "score = f1_score(prediction, target_test)\n",
    "print(score)"
   ]
  },
  {
   "cell_type": "markdown",
   "metadata": {},
   "source": [
    "F1 показала неплохой результат, модель обучилась."
   ]
  },
  {
   "cell_type": "markdown",
   "metadata": {},
   "source": [
    "<div class=\"alert alert-success\">\n",
    "<h2>Комментарий ревьюера<a class=\"tocSkip\"></a></h2>\n",
    "    \n",
    "**Отлично!** ✔️: 👍</div>"
   ]
  },
  {
   "cell_type": "markdown",
   "metadata": {},
   "source": [
    "<div class=\"alert alert-danger\">\n",
    "<h2>Комментарий ревьюера<a class=\"tocSkip\"></a></h2>\n",
    "\n",
    "**Нужно доработать** ❌: вот на этом этапе необходимо рассчитать прибыль с учетом внедрения лучшей модели. Но сразу хочу обратить твое внимание, что так как модель будет предсказывать отмену брони не идеально, то для корректного расчета прибыли после внедрения модели, нужно одновременно учитывать факт отмены и предсказания модели. Чтобы не запутаться, можно рассмотреть все возможные варианты:\n",
    "    \n",
    "is_canceled = 0, predictions = 0 — постоялец заселился (profit > 0), модель предсказала, что он заселится. В этом случае прибыль отеля никак не меняется.\n",
    "    \n",
    "is_canceled = 0, predictions = 1 — постоялец заселился (profit > 0), модель предсказала, что он отменит. В этом случае постоялец внесёт депозит, который пойдёт в счёт оплаты, то есть в этом случае прибыль отеля тоже никак не меняется.\n",
    "    \n",
    "is_canceled = 1, predictions = 0 — постоялец отменил бронь (profit < 0), модель предсказала, что он заселится, то есть депозит с такого клиента не брали. Тогда прибыль отеля тоже никак не меняется, отель просто потерял деньги, как и до внедрения модели.\n",
    "                                                                        \n",
    "is_canceled = 1, predictions = 1 — постоялец отменил бронь (profit < 0), модель предсказала, что он отменит, с постояльца взяли депозит в 80% от стоимости номера за одни сутки с учетом сезонного коэффициента и затрат на разовую уборку, отель потеряет только 20% от той суммы, которую терял без модели, так как остальное покроет депозит\n",
    "</div>"
   ]
  },
  {
   "cell_type": "markdown",
   "metadata": {},
   "source": [
    "<div class=\"alert alert-info\">\n",
    "    <b>Комментарий студента V2:</b> Вставил, опять же, сам не додумался, но посидел и вот что получилось.\n",
    "</div>"
   ]
  },
  {
   "cell_type": "markdown",
   "metadata": {},
   "source": [
    "#### Подсчёт прибыли"
   ]
  },
  {
   "cell_type": "code",
   "execution_count": 69,
   "metadata": {},
   "outputs": [],
   "source": [
    "def results(model, features, target):\n",
    "    prediction = model.predict(features)\n",
    "    return prediction"
   ]
  },
  {
   "cell_type": "code",
   "execution_count": 70,
   "metadata": {},
   "outputs": [],
   "source": [
    "prediction_lr = results(logreg, features_test, target_test)"
   ]
  },
  {
   "cell_type": "code",
   "execution_count": 71,
   "metadata": {},
   "outputs": [],
   "source": [
    "predictions = [('prediction_lr', prediction_lr)]\n",
    "for name, prediction in predictions:\n",
    "    series = pd.Series(prediction).to_frame()\n",
    "    series.columns = [name]\n",
    "    case_profit = case_profit.merge(series, how='left', left_index=True, right_index=True)"
   ]
  },
  {
   "cell_type": "markdown",
   "metadata": {},
   "source": [
    "<div class=\"alert alert-warning\">\n",
    "<h2>Комментарий ревьюера v3<a class=\"tocSkip\"></a></h2>\n",
    "    \n",
    "**Есть совет** ⚠️: вообще, тоже самое можно сделать немного проще, например:\n",
    "\n",
    "    predictions = model.predict(features_test)\n",
    "    case_profit['predictions'] = predictions\n",
    "        \n",
    "</div>"
   ]
  },
  {
   "cell_type": "code",
   "execution_count": 72,
   "metadata": {},
   "outputs": [],
   "source": [
    "def predicted_profit(data, col):\n",
    "    if data['is_canceled'] == 0:\n",
    "        income = data['price_per_night'] * data['coef'] * data['total_nights']\n",
    "        expenses = data['service_price'] * (1 + data['total_nights'] // 2)\n",
    "    elif (data['is_canceled'] == 1) and (data[col] == 0):\n",
    "        income = 0\n",
    "        expenses = data['service_price'] + (data['price_per_night'] * data['coef'])\n",
    "    elif (data['is_canceled'] == 1) and (data[col] == 1):\n",
    "        income = (data['price_per_night'] * data['coef'] * .8) + (data['service_price'] * .8)\n",
    "        expenses = data['service_price'] + (data['price_per_night'] * data['coef'])\n",
    "    profit = income - expenses\n",
    "    return profit"
   ]
  },
  {
   "cell_type": "code",
   "execution_count": 73,
   "metadata": {},
   "outputs": [],
   "source": [
    "for new_col, col in [('profit_lr', 'prediction_lr')]:\n",
    "    case_profit[new_col] = case_profit.apply(predicted_profit, col=col, axis=1)"
   ]
  },
  {
   "cell_type": "code",
   "execution_count": 74,
   "metadata": {},
   "outputs": [
    {
     "name": "stdout",
     "output_type": "stream",
     "text": [
      "Прибыль после обучения модели - 42393952.0\n"
     ]
    }
   ],
   "source": [
    "print('Прибыль после обучения модели -', case_profit['profit_lr'].sum())"
   ]
  },
  {
   "cell_type": "markdown",
   "metadata": {},
   "source": [
    "<div class=\"alert alert-success\">\n",
    "<h2>Комментарий ревьюера v3<a class=\"tocSkip\"></a></h2>\n",
    "    \n",
    "**Отлично!** ✔️: прибыль после внедрения также расчитана верно!</div>"
   ]
  },
  {
   "cell_type": "markdown",
   "metadata": {},
   "source": [
    "<div class=\"alert alert-info\">\n",
    "    <b>Комментарий студента:</b> Думаю, что лучше сначала разобраться с 3м разделом. \n",
    "</div>"
   ]
  },
  {
   "cell_type": "markdown",
   "metadata": {},
   "source": [
    "### Шаг 5. Опишите портрет «ненадёжного» клиента"
   ]
  },
  {
   "cell_type": "markdown",
   "metadata": {},
   "source": [
    "Что можно сказать о ненадёжном госте. Он очень долго оттягивает момент брони больше месяца. Также можно сделать небольшой вывод, что чаще всего отказываются от брони люди не из России, а из стран FRA и PRT. Судя по таблиц корреляции количество детей и даже колличество отменённых заказов не влияет на вероятность клиента отказаться от брони."
   ]
  },
  {
   "cell_type": "markdown",
   "metadata": {},
   "source": [
    "<div class=\"alert alert-success\">\n",
    "<h2>Комментарий ревьюера<a class=\"tocSkip\"></a></h2>\n",
    "    \n",
    "**Отлично!** ✔️: верно, клиенты из Франции и Португалии отменяют бронь чаще</div>"
   ]
  },
  {
   "cell_type": "markdown",
   "metadata": {},
   "source": [
    "<div class=\"alert alert-warning\">\n",
    "<h2>Комментарий ревьюера<a class=\"tocSkip\"></a></h2>\n",
    "    \n",
    "**Есть совет** ⚠️: но остальные признаки тоже, вероятнее всего, влияют на факт отмены, тогда для большей наглядности можно узнать, как именно тот или иной признак влияет на обучение модели, для этого есть **feature_importances**, то есть важность признаков для решения модели. Сравнивая, насколько важен был признак при решении модели и результаты исследовательского анализа, можно попробовать составить более полный портрет\n",
    "\n",
    "Подробнее про **feature_importances**:\n",
    "* https://towardsdatascience.com/understanding-feature-importance-and-how-to-implement-it-in-python-ff0287b20285\n",
    "* https://medium.com/analytics-vidhya/feature-importance-explained-bfc8d874bcf\n",
    "* https://scikit-learn.org/stable/auto_examples/ensemble/plot_forest_importances.html\n",
    "* https://christophm.github.io/interpretable-ml-book/feature-importance.html\n",
    "</div>"
   ]
  },
  {
   "cell_type": "code",
   "execution_count": 75,
   "metadata": {},
   "outputs": [
    {
     "ename": "AttributeError",
     "evalue": "'LogisticRegression' object has no attribute 'feature_importances_'",
     "output_type": "error",
     "traceback": [
      "\u001b[0;31m---------------------------------------------------------------------------\u001b[0m",
      "\u001b[0;31mAttributeError\u001b[0m                            Traceback (most recent call last)",
      "\u001b[0;32m/tmp/ipykernel_48/1940664935.py\u001b[0m in \u001b[0;36m<module>\u001b[0;34m\u001b[0m\n\u001b[0;32m----> 1\u001b[0;31m \u001b[0mpd\u001b[0m\u001b[0;34m.\u001b[0m\u001b[0mSeries\u001b[0m\u001b[0;34m(\u001b[0m\u001b[0mlogreg\u001b[0m\u001b[0;34m.\u001b[0m\u001b[0mfeature_importances_\u001b[0m\u001b[0;34m,\u001b[0m \u001b[0mfeatures_train\u001b[0m\u001b[0;34m.\u001b[0m\u001b[0mcolumns\u001b[0m\u001b[0;34m)\u001b[0m\u001b[0;34m.\u001b[0m\u001b[0mnlargest\u001b[0m\u001b[0;34m(\u001b[0m\u001b[0;36m15\u001b[0m\u001b[0;34m)\u001b[0m\u001b[0;34m.\u001b[0m\u001b[0mplot\u001b[0m\u001b[0;34m(\u001b[0m\u001b[0mkind\u001b[0m\u001b[0;34m=\u001b[0m\u001b[0;34m'barh'\u001b[0m\u001b[0;34m)\u001b[0m\u001b[0;34m\u001b[0m\u001b[0;34m\u001b[0m\u001b[0m\n\u001b[0m\u001b[1;32m      2\u001b[0m \u001b[0mplt\u001b[0m\u001b[0;34m.\u001b[0m\u001b[0mxlabel\u001b[0m\u001b[0;34m(\u001b[0m\u001b[0;34m'Важность'\u001b[0m\u001b[0;34m)\u001b[0m\u001b[0;34m\u001b[0m\u001b[0;34m\u001b[0m\u001b[0m\n\u001b[1;32m      3\u001b[0m \u001b[0mplt\u001b[0m\u001b[0;34m.\u001b[0m\u001b[0mylabel\u001b[0m\u001b[0;34m(\u001b[0m\u001b[0;34m'Признаки'\u001b[0m\u001b[0;34m)\u001b[0m\u001b[0;34m\u001b[0m\u001b[0;34m\u001b[0m\u001b[0m\n\u001b[1;32m      4\u001b[0m \u001b[0mplt\u001b[0m\u001b[0;34m.\u001b[0m\u001b[0mshow\u001b[0m\u001b[0;34m(\u001b[0m\u001b[0;34m)\u001b[0m\u001b[0;34m\u001b[0m\u001b[0;34m\u001b[0m\u001b[0m\n",
      "\u001b[0;31mAttributeError\u001b[0m: 'LogisticRegression' object has no attribute 'feature_importances_'"
     ]
    }
   ],
   "source": [
    "pd.Series(logreg.feature_importances_, features_train.columns).nlargest(15).plot(kind='barh')\n",
    "plt.xlabel('Важность')\n",
    "plt.ylabel('Признаки')\n",
    "plt.show()"
   ]
  },
  {
   "cell_type": "markdown",
   "metadata": {},
   "source": [
    "<div class=\"alert alert-info\">\n",
    "    <b>Комментарий студента V2:</b> А здесь пишет ошибку. что модель не имеет такого атрибута, как feature_importances_\n",
    "</div>"
   ]
  },
  {
   "cell_type": "markdown",
   "metadata": {},
   "source": [
    "<div class=\"alert alert-warning\">\n",
    "<h2>Комментарий ревьюера v3<a class=\"tocSkip\"></a></h2>\n",
    "    \n",
    "**Есть совет** ⚠️: свойство `feature_importances_` используется обычно у древесных алгоритмов, чтобы получить коэффициенты важности логистической(и линейной) регрессии, можно использовать свойство coef_, например:\n",
    "    \n",
    "    feature_importance = pd.DataFrame(data={\n",
    "        'Признак': features_train.columns,\n",
    "        'Важность': model.coef_[0]\n",
    "    })\n",
    "    feature_importance.sort_values(by='Важность', ascending=False)\n",
    "</div>"
   ]
  },
  {
   "cell_type": "markdown",
   "metadata": {},
   "source": [
    "### Шаг 6. Напишите общий вывод"
   ]
  },
  {
   "cell_type": "markdown",
   "metadata": {},
   "source": [
    "Итог:\n",
    "\n",
    "Были сделаны следующие шаги:\n",
    "\n",
    "- данные скачаны и открыты\n",
    "- данные обработаны и проверены на дупликаты и пропуски\n",
    "- посчитана прибыль без внедрения депозитов\n",
    "- подобраны модели, подобрана метрика\n",
    "- обучена лучшая модель\n",
    "- описан портрет \"ненадежного\" клиента\n",
    "- подведены итоги\n",
    "\n",
    "Стоит сказать, что работать было тяжело, но в итоге, по метрике f1 (0.64) модель обучилась, сделаны определённые выводы: что клиенты, которые отказываются от брони, живут в странах FRA и PRT и любят ждать больше месяца. Также не обошлось без аномальных значений, вроде большого количества детей в семье, парковочных мест и клиентов младше 18.\n",
    "\n",
    "Также были убраны лишний признаки, которые мешали моделям обучаться. Ну и главный итг. С учетом внедрения депозитов, модель принесёт 42 393 952 рублей."
   ]
  },
  {
   "cell_type": "markdown",
   "metadata": {},
   "source": [
    "<div class=\"alert alert-danger\">\n",
    "<h2>Комментарий ревьюера<a class=\"tocSkip\"></a></h2>\n",
    "\n",
    "**Нужно доработать** ❌: в итоговом выводе важно описать основные шаги, которые были сделаны в ходе проекта, какие получились результаты</div>"
   ]
  },
  {
   "cell_type": "markdown",
   "metadata": {},
   "source": [
    "<div class=\"alert alert-success\">\n",
    "<h2>Комментарий ревьюера v3<a class=\"tocSkip\"></a></h2>\n",
    "    \n",
    "**Отлично!** ✔️: 👍</div>"
   ]
  },
  {
   "cell_type": "markdown",
   "metadata": {},
   "source": [
    "<div style=\"padding: 20px 25px; border: 2px #6495ed solid\">\n",
    "    \n",
    "<h2 style=\"color: #87187D\">Итоговый комментарий ревьюера<a class=\"tocSkip\"></a></h2>\n",
    "\n",
    "Видно, что ты приложил много усилий, спасибо за проект!\n",
    "\n",
    "Но тебе обязательно нужно обратить внимание на следующее:\n",
    "* добавь расчет общей прибыли на тестовой выборке до и после внедрения модели;\n",
    "* не забывай указывать значение random_state при инициализации моделей;\n",
    "* подбери хотя бы по 2-3 гиперпараметра для каждой модели;\n",
    "* поправь итоговый вывод;\n",
    "* выбери основную метрику и аргументируй свой выбор: подходящих метрик тут может быть несколько, но по сути основная задача с точки зрения ML — это минимизировать количество ложноотрицательных ответов. Но если разобраться, то и бизнес-метрика вполне может быть основной метрикой для оценки моделей, здорово, если у тебя получится это реализовать;\n",
    "    \n",
    "Остальные комментарии можно найти в проекте. Готов ответить на любые вопросы :)\n",
    "\n",
    "<b>Жду доработанный проект на повторное ревью! Удачи!</b>\n",
    "        \n",
    "</div>"
   ]
  },
  {
   "cell_type": "markdown",
   "metadata": {},
   "source": [
    "<div style=\"padding: 20px 25px; border: 2px #6495ed solid\">\n",
    "    \n",
    "<h2 style=\"color: #87187D\">Итоговый комментарий ревьюера v2<a class=\"tocSkip\"></a></h2>\n",
    "\n",
    "Я постарался дать больше пояснений, надеюсь, теперь стало понятнее :) Критичные замечания пока остаются те же. Не стесняйся задавать вопросы наставнику по проектам, одногруппникам, или мне, мы с удовольствием тебе поможем!\n",
    "\n",
    "<b>Жду доработанный проект на повторное ревью! Удачи!</b>\n",
    "        \n",
    "</div>"
   ]
  },
  {
   "cell_type": "markdown",
   "metadata": {},
   "source": [
    "<div style=\"padding: 20px 25px; border: 2px #6495ed solid\">\n",
    "    \n",
    "<h2 style=\"color: #87187D\">Итоговый комментарий ревьюера v3<a class=\"tocSkip\"></a></h2>\n",
    "\n",
    "То, что нужно, молодец!\n",
    "\n",
    "Все критичные замечания исправлены, и теперь я могу принять твою работу :)\n",
    "\n",
    "<b>Успехов в обучении!</b>\n",
    "        \n",
    "</div>"
   ]
  },
  {
   "cell_type": "code",
   "execution_count": null,
   "metadata": {},
   "outputs": [],
   "source": []
  }
 ],
 "metadata": {
  "ExecuteTimeLog": [
   {
    "duration": 388,
    "start_time": "2023-01-30T21:12:31.722Z"
   },
   {
    "duration": 822,
    "start_time": "2023-01-30T21:13:07.455Z"
   },
   {
    "duration": 26,
    "start_time": "2023-01-30T21:17:24.120Z"
   },
   {
    "duration": 19,
    "start_time": "2023-01-30T21:17:32.845Z"
   },
   {
    "duration": 27,
    "start_time": "2023-01-30T21:18:03.165Z"
   },
   {
    "duration": 3,
    "start_time": "2023-01-30T21:18:57.062Z"
   },
   {
    "duration": 243,
    "start_time": "2023-01-30T21:18:57.067Z"
   },
   {
    "duration": 21,
    "start_time": "2023-01-30T21:18:57.312Z"
   },
   {
    "duration": 23,
    "start_time": "2023-01-30T21:18:57.335Z"
   },
   {
    "duration": 36,
    "start_time": "2023-01-30T21:18:57.361Z"
   },
   {
    "duration": 54,
    "start_time": "2023-01-30T21:18:57.399Z"
   },
   {
    "duration": 81,
    "start_time": "2023-01-30T21:19:08.071Z"
   },
   {
    "duration": 74,
    "start_time": "2023-01-30T21:19:16.187Z"
   },
   {
    "duration": 138,
    "start_time": "2023-01-30T21:20:32.165Z"
   },
   {
    "duration": 103,
    "start_time": "2023-01-30T21:20:36.543Z"
   },
   {
    "duration": 21,
    "start_time": "2023-01-30T21:25:10.077Z"
   },
   {
    "duration": 69,
    "start_time": "2023-01-30T21:25:46.391Z"
   },
   {
    "duration": 1335,
    "start_time": "2023-01-30T21:26:48.207Z"
   },
   {
    "duration": 1258,
    "start_time": "2023-01-30T21:27:00.508Z"
   },
   {
    "duration": 117,
    "start_time": "2023-01-30T21:27:15.168Z"
   },
   {
    "duration": 85,
    "start_time": "2023-01-30T21:27:23.736Z"
   },
   {
    "duration": 60,
    "start_time": "2023-01-30T21:27:30.803Z"
   },
   {
    "duration": 65,
    "start_time": "2023-01-30T21:27:36.518Z"
   },
   {
    "duration": 83,
    "start_time": "2023-01-30T21:27:45.421Z"
   },
   {
    "duration": 108,
    "start_time": "2023-01-30T21:28:18.221Z"
   },
   {
    "duration": 21,
    "start_time": "2023-01-30T21:28:43.212Z"
   },
   {
    "duration": 17,
    "start_time": "2023-01-30T21:29:03.193Z"
   },
   {
    "duration": 52,
    "start_time": "2023-01-30T21:29:19.669Z"
   },
   {
    "duration": 50,
    "start_time": "2023-01-30T21:29:24.645Z"
   },
   {
    "duration": 28,
    "start_time": "2023-01-30T21:29:45.584Z"
   },
   {
    "duration": 50,
    "start_time": "2023-01-30T21:30:51.517Z"
   },
   {
    "duration": 60,
    "start_time": "2023-01-30T21:31:39.102Z"
   },
   {
    "duration": 57,
    "start_time": "2023-01-30T21:31:43.757Z"
   },
   {
    "duration": 431,
    "start_time": "2023-02-01T20:12:11.403Z"
   },
   {
    "duration": 930,
    "start_time": "2023-02-01T20:12:11.837Z"
   },
   {
    "duration": 28,
    "start_time": "2023-02-01T20:12:12.769Z"
   },
   {
    "duration": 21,
    "start_time": "2023-02-01T20:12:12.799Z"
   },
   {
    "duration": 46,
    "start_time": "2023-02-01T20:12:12.821Z"
   },
   {
    "duration": 161,
    "start_time": "2023-02-01T20:12:12.869Z"
   },
   {
    "duration": 132,
    "start_time": "2023-02-01T20:12:13.032Z"
   },
   {
    "duration": 25,
    "start_time": "2023-02-01T20:12:13.166Z"
   },
   {
    "duration": 16,
    "start_time": "2023-02-01T20:12:13.193Z"
   },
   {
    "duration": 100,
    "start_time": "2023-02-01T20:12:13.211Z"
   },
   {
    "duration": 89,
    "start_time": "2023-02-01T20:12:13.313Z"
   },
   {
    "duration": 3,
    "start_time": "2023-02-01T20:12:51.495Z"
   },
   {
    "duration": 1036,
    "start_time": "2023-02-01T20:13:33.578Z"
   },
   {
    "duration": 44,
    "start_time": "2023-02-01T20:21:36.948Z"
   },
   {
    "duration": 48,
    "start_time": "2023-02-01T20:21:54.852Z"
   },
   {
    "duration": 30,
    "start_time": "2023-02-01T20:21:55.236Z"
   },
   {
    "duration": 52,
    "start_time": "2023-02-01T20:22:07.726Z"
   },
   {
    "duration": 33,
    "start_time": "2023-02-01T20:22:27.091Z"
   },
   {
    "duration": 34,
    "start_time": "2023-02-01T20:22:39.660Z"
   },
   {
    "duration": 32,
    "start_time": "2023-02-01T20:22:48.368Z"
   },
   {
    "duration": 32,
    "start_time": "2023-02-01T20:22:58.395Z"
   },
   {
    "duration": 123,
    "start_time": "2023-02-01T20:23:35.916Z"
   },
   {
    "duration": 46,
    "start_time": "2023-02-01T20:24:02.926Z"
   },
   {
    "duration": 51,
    "start_time": "2023-02-01T20:24:36.679Z"
   },
   {
    "duration": 38,
    "start_time": "2023-02-01T20:24:49.068Z"
   },
   {
    "duration": 136,
    "start_time": "2023-02-01T20:25:08.525Z"
   },
   {
    "duration": 5619,
    "start_time": "2023-02-01T20:30:14.594Z"
   },
   {
    "duration": 289,
    "start_time": "2023-02-01T20:30:30.568Z"
   },
   {
    "duration": 143,
    "start_time": "2023-02-01T20:31:35.082Z"
   },
   {
    "duration": 31078,
    "start_time": "2023-02-01T20:31:44.969Z"
   },
   {
    "duration": 271,
    "start_time": "2023-02-01T20:32:36.438Z"
   },
   {
    "duration": 18752,
    "start_time": "2023-02-01T20:36:00.673Z"
   },
   {
    "duration": 19,
    "start_time": "2023-02-01T20:36:24.774Z"
   },
   {
    "duration": 1129,
    "start_time": "2023-02-01T20:36:45.064Z"
   },
   {
    "duration": 50278,
    "start_time": "2023-02-01T20:36:50.629Z"
   },
   {
    "duration": 16952,
    "start_time": "2023-02-02T20:15:45.476Z"
   },
   {
    "duration": 2169,
    "start_time": "2023-02-02T20:16:02.431Z"
   },
   {
    "duration": 620,
    "start_time": "2023-02-02T20:16:04.602Z"
   },
   {
    "duration": 3,
    "start_time": "2023-02-02T20:16:05.224Z"
   },
   {
    "duration": 77,
    "start_time": "2023-02-02T20:16:05.229Z"
   },
   {
    "duration": 22,
    "start_time": "2023-02-02T20:16:05.308Z"
   },
   {
    "duration": 77,
    "start_time": "2023-02-02T20:16:05.332Z"
   },
   {
    "duration": 153,
    "start_time": "2023-02-02T20:16:05.411Z"
   },
   {
    "duration": 155,
    "start_time": "2023-02-02T20:16:05.566Z"
   },
   {
    "duration": 37,
    "start_time": "2023-02-02T20:16:05.725Z"
   },
   {
    "duration": 137,
    "start_time": "2023-02-02T20:16:05.764Z"
   },
   {
    "duration": 48976,
    "start_time": "2023-02-02T20:16:05.903Z"
   },
   {
    "duration": 236,
    "start_time": "2023-02-02T20:20:53.362Z"
   },
   {
    "duration": 43,
    "start_time": "2023-02-02T20:21:05.082Z"
   },
   {
    "duration": 2686,
    "start_time": "2023-02-02T20:21:19.351Z"
   },
   {
    "duration": 1329,
    "start_time": "2023-02-02T20:22:10.470Z"
   },
   {
    "duration": 194,
    "start_time": "2023-02-02T20:22:36.938Z"
   },
   {
    "duration": 14093,
    "start_time": "2023-02-03T13:13:46.869Z"
   },
   {
    "duration": 2208,
    "start_time": "2023-02-03T13:14:00.965Z"
   },
   {
    "duration": 526,
    "start_time": "2023-02-03T13:14:03.175Z"
   },
   {
    "duration": 2,
    "start_time": "2023-02-03T13:14:03.703Z"
   },
   {
    "duration": 25,
    "start_time": "2023-02-03T13:14:03.707Z"
   },
   {
    "duration": 19,
    "start_time": "2023-02-03T13:14:03.734Z"
   },
   {
    "duration": 26,
    "start_time": "2023-02-03T13:14:03.755Z"
   },
   {
    "duration": 155,
    "start_time": "2023-02-03T13:14:03.783Z"
   },
   {
    "duration": 114,
    "start_time": "2023-02-03T13:14:03.941Z"
   },
   {
    "duration": 32,
    "start_time": "2023-02-03T13:14:04.058Z"
   },
   {
    "duration": 130,
    "start_time": "2023-02-03T13:14:04.092Z"
   },
   {
    "duration": 41474,
    "start_time": "2023-02-03T13:14:04.224Z"
   },
   {
    "duration": 250,
    "start_time": "2023-02-03T13:14:45.700Z"
   },
   {
    "duration": 2337,
    "start_time": "2023-02-03T13:34:59.839Z"
   },
   {
    "duration": 3,
    "start_time": "2023-02-03T13:35:02.179Z"
   },
   {
    "duration": 228,
    "start_time": "2023-02-03T13:35:02.183Z"
   },
   {
    "duration": 2,
    "start_time": "2023-02-03T13:35:02.413Z"
   },
   {
    "duration": 24,
    "start_time": "2023-02-03T13:35:02.417Z"
   },
   {
    "duration": 45,
    "start_time": "2023-02-03T13:35:02.442Z"
   },
   {
    "duration": 52,
    "start_time": "2023-02-03T13:35:02.488Z"
   },
   {
    "duration": 123,
    "start_time": "2023-02-03T13:35:02.542Z"
   },
   {
    "duration": 96,
    "start_time": "2023-02-03T13:35:02.666Z"
   },
   {
    "duration": 27,
    "start_time": "2023-02-03T13:35:02.764Z"
   },
   {
    "duration": 106,
    "start_time": "2023-02-03T13:35:02.793Z"
   },
   {
    "duration": 39406,
    "start_time": "2023-02-03T13:35:02.900Z"
   },
   {
    "duration": 299,
    "start_time": "2023-02-03T13:35:42.312Z"
   },
   {
    "duration": 119,
    "start_time": "2023-02-03T13:38:28.590Z"
   },
   {
    "duration": 177,
    "start_time": "2023-02-03T13:44:01.911Z"
   },
   {
    "duration": 11,
    "start_time": "2023-02-03T13:44:10.961Z"
   },
   {
    "duration": 13,
    "start_time": "2023-02-03T13:44:30.950Z"
   },
   {
    "duration": 134,
    "start_time": "2023-02-03T13:44:53.183Z"
   },
   {
    "duration": 136,
    "start_time": "2023-02-03T13:45:00.823Z"
   },
   {
    "duration": 14,
    "start_time": "2023-02-03T13:45:08.880Z"
   },
   {
    "duration": 13,
    "start_time": "2023-02-03T13:45:23.541Z"
   },
   {
    "duration": 194,
    "start_time": "2023-02-03T13:45:30.181Z"
   },
   {
    "duration": 139,
    "start_time": "2023-02-03T13:45:42.321Z"
   },
   {
    "duration": 13,
    "start_time": "2023-02-03T13:45:52.081Z"
   },
   {
    "duration": 21,
    "start_time": "2023-02-03T13:46:35.793Z"
   },
   {
    "duration": 16,
    "start_time": "2023-02-03T13:47:10.999Z"
   },
   {
    "duration": 216,
    "start_time": "2023-02-03T13:48:23.649Z"
   },
   {
    "duration": 24,
    "start_time": "2023-02-03T13:48:43.809Z"
   },
   {
    "duration": 20,
    "start_time": "2023-02-03T13:48:54.419Z"
   },
   {
    "duration": 187,
    "start_time": "2023-02-03T13:50:26.211Z"
   },
   {
    "duration": 21,
    "start_time": "2023-02-03T13:52:23.944Z"
   },
   {
    "duration": 2278,
    "start_time": "2023-02-03T14:15:37.198Z"
   },
   {
    "duration": 4,
    "start_time": "2023-02-03T14:15:39.479Z"
   },
   {
    "duration": 216,
    "start_time": "2023-02-03T14:15:39.484Z"
   },
   {
    "duration": 3,
    "start_time": "2023-02-03T14:15:39.702Z"
   },
   {
    "duration": 22,
    "start_time": "2023-02-03T14:15:39.707Z"
   },
   {
    "duration": 18,
    "start_time": "2023-02-03T14:15:39.731Z"
   },
   {
    "duration": 28,
    "start_time": "2023-02-03T14:15:39.751Z"
   },
   {
    "duration": 149,
    "start_time": "2023-02-03T14:15:39.781Z"
   },
   {
    "duration": 103,
    "start_time": "2023-02-03T14:15:39.932Z"
   },
   {
    "duration": 29,
    "start_time": "2023-02-03T14:15:40.037Z"
   },
   {
    "duration": 109,
    "start_time": "2023-02-03T14:15:40.068Z"
   },
   {
    "duration": 38690,
    "start_time": "2023-02-03T14:15:40.179Z"
   },
   {
    "duration": 248,
    "start_time": "2023-02-03T14:16:18.872Z"
   },
   {
    "duration": 20,
    "start_time": "2023-02-03T14:16:19.122Z"
   },
   {
    "duration": 119,
    "start_time": "2023-02-03T14:16:42.150Z"
   },
   {
    "duration": 32,
    "start_time": "2023-02-03T14:23:28.865Z"
   },
   {
    "duration": 14,
    "start_time": "2023-02-03T14:24:33.125Z"
   },
   {
    "duration": 34,
    "start_time": "2023-02-03T14:24:42.171Z"
   },
   {
    "duration": 26,
    "start_time": "2023-02-03T14:28:42.572Z"
   },
   {
    "duration": 15,
    "start_time": "2023-02-03T14:35:08.575Z"
   },
   {
    "duration": 13,
    "start_time": "2023-02-03T14:35:58.986Z"
   },
   {
    "duration": 12,
    "start_time": "2023-02-03T14:36:09.901Z"
   },
   {
    "duration": 14,
    "start_time": "2023-02-03T14:36:20.327Z"
   },
   {
    "duration": 583,
    "start_time": "2023-02-03T14:36:42.710Z"
   },
   {
    "duration": 18,
    "start_time": "2023-02-03T14:36:46.686Z"
   },
   {
    "duration": 15309,
    "start_time": "2023-02-04T11:47:52.792Z"
   },
   {
    "duration": 2019,
    "start_time": "2023-02-04T11:48:08.104Z"
   },
   {
    "duration": 573,
    "start_time": "2023-02-04T11:48:10.125Z"
   },
   {
    "duration": 3,
    "start_time": "2023-02-04T11:48:10.700Z"
   },
   {
    "duration": 25,
    "start_time": "2023-02-04T11:48:10.704Z"
   },
   {
    "duration": 26,
    "start_time": "2023-02-04T11:48:10.731Z"
   },
   {
    "duration": 30,
    "start_time": "2023-02-04T11:48:10.759Z"
   },
   {
    "duration": 165,
    "start_time": "2023-02-04T11:48:10.790Z"
   },
   {
    "duration": 126,
    "start_time": "2023-02-04T11:48:10.958Z"
   },
   {
    "duration": 32,
    "start_time": "2023-02-04T11:48:11.088Z"
   },
   {
    "duration": 135,
    "start_time": "2023-02-04T11:48:11.122Z"
   },
   {
    "duration": 45875,
    "start_time": "2023-02-04T11:48:11.259Z"
   },
   {
    "duration": 315,
    "start_time": "2023-02-04T11:48:57.136Z"
   },
   {
    "duration": 26,
    "start_time": "2023-02-04T11:48:57.452Z"
   },
   {
    "duration": 93,
    "start_time": "2023-02-04T11:48:57.480Z"
   },
   {
    "duration": 87,
    "start_time": "2023-02-04T11:48:57.575Z"
   },
   {
    "duration": 14,
    "start_time": "2023-02-04T11:48:57.663Z"
   },
   {
    "duration": 22,
    "start_time": "2023-02-04T12:00:26.950Z"
   },
   {
    "duration": 17615,
    "start_time": "2023-02-04T19:10:15.759Z"
   },
   {
    "duration": 4051,
    "start_time": "2023-02-04T19:10:33.378Z"
   },
   {
    "duration": 948,
    "start_time": "2023-02-04T19:10:37.433Z"
   },
   {
    "duration": 3,
    "start_time": "2023-02-04T19:10:38.383Z"
   },
   {
    "duration": 22,
    "start_time": "2023-02-04T19:10:38.388Z"
   },
   {
    "duration": 24,
    "start_time": "2023-02-04T19:10:38.411Z"
   },
   {
    "duration": 38,
    "start_time": "2023-02-04T19:10:38.444Z"
   },
   {
    "duration": 129,
    "start_time": "2023-02-04T19:10:38.484Z"
   },
   {
    "duration": 106,
    "start_time": "2023-02-04T19:10:38.615Z"
   },
   {
    "duration": 40,
    "start_time": "2023-02-04T19:10:38.723Z"
   },
   {
    "duration": 101,
    "start_time": "2023-02-04T19:10:38.765Z"
   },
   {
    "duration": 42092,
    "start_time": "2023-02-04T19:10:38.868Z"
   },
   {
    "duration": 307,
    "start_time": "2023-02-04T19:11:20.963Z"
   },
   {
    "duration": 93,
    "start_time": "2023-02-04T19:11:21.272Z"
   },
   {
    "duration": 76,
    "start_time": "2023-02-04T19:11:21.367Z"
   },
   {
    "duration": 42,
    "start_time": "2023-02-04T19:11:21.450Z"
   },
   {
    "duration": 13,
    "start_time": "2023-02-04T19:11:21.493Z"
   },
   {
    "duration": 16,
    "start_time": "2023-02-04T19:18:07.447Z"
   },
   {
    "duration": 16,
    "start_time": "2023-02-04T19:18:14.463Z"
   },
   {
    "duration": 232,
    "start_time": "2023-02-04T19:37:25.152Z"
   },
   {
    "duration": 7,
    "start_time": "2023-02-04T19:40:15.602Z"
   },
   {
    "duration": 5,
    "start_time": "2023-02-04T19:40:52.325Z"
   },
   {
    "duration": 14353,
    "start_time": "2023-02-05T10:16:38.596Z"
   },
   {
    "duration": 2299,
    "start_time": "2023-02-05T10:16:52.951Z"
   },
   {
    "duration": 526,
    "start_time": "2023-02-05T10:16:55.253Z"
   },
   {
    "duration": 3,
    "start_time": "2023-02-05T10:16:55.782Z"
   },
   {
    "duration": 26,
    "start_time": "2023-02-05T10:16:55.786Z"
   },
   {
    "duration": 29,
    "start_time": "2023-02-05T10:16:55.814Z"
   },
   {
    "duration": 29,
    "start_time": "2023-02-05T10:16:55.844Z"
   },
   {
    "duration": 166,
    "start_time": "2023-02-05T10:16:55.875Z"
   },
   {
    "duration": 105,
    "start_time": "2023-02-05T10:16:56.042Z"
   },
   {
    "duration": 32,
    "start_time": "2023-02-05T10:16:56.150Z"
   },
   {
    "duration": 118,
    "start_time": "2023-02-05T10:16:56.184Z"
   },
   {
    "duration": 43790,
    "start_time": "2023-02-05T10:16:56.304Z"
   },
   {
    "duration": 274,
    "start_time": "2023-02-05T10:17:40.096Z"
   },
   {
    "duration": 76,
    "start_time": "2023-02-05T10:17:40.372Z"
   },
   {
    "duration": 94,
    "start_time": "2023-02-05T10:17:40.450Z"
   },
   {
    "duration": 32,
    "start_time": "2023-02-05T10:17:40.546Z"
   },
   {
    "duration": 67,
    "start_time": "2023-02-05T10:17:40.580Z"
   },
   {
    "duration": 11,
    "start_time": "2023-02-05T10:17:40.649Z"
   },
   {
    "duration": 5,
    "start_time": "2023-02-05T10:17:40.661Z"
   },
   {
    "duration": 206,
    "start_time": "2023-02-05T10:17:40.668Z"
   },
   {
    "duration": 3,
    "start_time": "2023-02-05T10:18:11.453Z"
   },
   {
    "duration": 42,
    "start_time": "2023-02-05T10:19:20.027Z"
   },
   {
    "duration": 13,
    "start_time": "2023-02-05T10:19:30.047Z"
   },
   {
    "duration": 5,
    "start_time": "2023-02-05T10:19:42.984Z"
   },
   {
    "duration": 5,
    "start_time": "2023-02-05T10:20:17.981Z"
   },
   {
    "duration": 6,
    "start_time": "2023-02-05T10:22:01.051Z"
   },
   {
    "duration": 7,
    "start_time": "2023-02-05T10:22:17.833Z"
   },
   {
    "duration": 6,
    "start_time": "2023-02-05T10:23:08.778Z"
   },
   {
    "duration": 20,
    "start_time": "2023-02-05T10:23:37.594Z"
   },
   {
    "duration": 7,
    "start_time": "2023-02-05T10:24:24.791Z"
   },
   {
    "duration": 15024,
    "start_time": "2023-02-05T17:36:53.670Z"
   },
   {
    "duration": 2536,
    "start_time": "2023-02-05T17:37:08.696Z"
   },
   {
    "duration": 617,
    "start_time": "2023-02-05T17:37:11.235Z"
   },
   {
    "duration": 2,
    "start_time": "2023-02-05T17:37:11.855Z"
   },
   {
    "duration": 39,
    "start_time": "2023-02-05T17:37:11.860Z"
   },
   {
    "duration": 21,
    "start_time": "2023-02-05T17:37:11.900Z"
   },
   {
    "duration": 29,
    "start_time": "2023-02-05T17:37:11.922Z"
   },
   {
    "duration": 184,
    "start_time": "2023-02-05T17:37:11.953Z"
   },
   {
    "duration": 110,
    "start_time": "2023-02-05T17:37:12.138Z"
   },
   {
    "duration": 41,
    "start_time": "2023-02-05T17:37:12.252Z"
   },
   {
    "duration": 113,
    "start_time": "2023-02-05T17:37:12.295Z"
   },
   {
    "duration": 44634,
    "start_time": "2023-02-05T17:37:12.412Z"
   },
   {
    "duration": 260,
    "start_time": "2023-02-05T17:37:57.048Z"
   },
   {
    "duration": 21,
    "start_time": "2023-02-05T17:37:57.310Z"
   },
   {
    "duration": 89,
    "start_time": "2023-02-05T17:37:57.333Z"
   },
   {
    "duration": 87,
    "start_time": "2023-02-05T17:37:57.424Z"
   },
   {
    "duration": 15,
    "start_time": "2023-02-05T17:37:57.513Z"
   },
   {
    "duration": 13,
    "start_time": "2023-02-05T17:37:57.530Z"
   },
   {
    "duration": 56,
    "start_time": "2023-02-05T17:37:57.545Z"
   },
   {
    "duration": 9,
    "start_time": "2023-02-05T17:37:57.603Z"
   },
   {
    "duration": 12,
    "start_time": "2023-02-05T17:37:57.614Z"
   },
   {
    "duration": 179,
    "start_time": "2023-02-05T17:37:57.628Z"
   },
   {
    "duration": 13,
    "start_time": "2023-02-05T17:41:21.051Z"
   },
   {
    "duration": 23,
    "start_time": "2023-02-05T17:42:10.723Z"
   },
   {
    "duration": 7,
    "start_time": "2023-02-05T17:42:23.150Z"
   },
   {
    "duration": 173,
    "start_time": "2023-02-05T17:43:14.906Z"
   },
   {
    "duration": 7,
    "start_time": "2023-02-05T17:43:30.704Z"
   },
   {
    "duration": 7,
    "start_time": "2023-02-05T17:43:34.736Z"
   },
   {
    "duration": 6,
    "start_time": "2023-02-05T17:43:52.667Z"
   },
   {
    "duration": 3,
    "start_time": "2023-02-05T17:44:16.468Z"
   },
   {
    "duration": 14,
    "start_time": "2023-02-05T17:46:46.208Z"
   },
   {
    "duration": 201278,
    "start_time": "2023-02-05T17:46:54.485Z"
   },
   {
    "duration": 14,
    "start_time": "2023-02-05T17:53:02.124Z"
   },
   {
    "duration": 66,
    "start_time": "2023-02-05T17:53:23.192Z"
   },
   {
    "duration": 5,
    "start_time": "2023-02-05T17:53:32.525Z"
   },
   {
    "duration": 41,
    "start_time": "2023-02-05T17:53:48.032Z"
   },
   {
    "duration": 52,
    "start_time": "2023-02-05T17:53:52.485Z"
   },
   {
    "duration": 159,
    "start_time": "2023-02-05T18:02:35.387Z"
   },
   {
    "duration": 4,
    "start_time": "2023-02-05T18:03:50.616Z"
   },
   {
    "duration": 3552,
    "start_time": "2023-02-05T18:07:17.161Z"
   },
   {
    "duration": 82,
    "start_time": "2023-02-05T18:07:20.715Z"
   },
   {
    "duration": 207,
    "start_time": "2023-02-05T18:07:20.800Z"
   },
   {
    "duration": 60,
    "start_time": "2023-02-05T18:11:16.099Z"
   },
   {
    "duration": 22,
    "start_time": "2023-02-05T18:11:21.172Z"
   },
   {
    "duration": 21,
    "start_time": "2023-02-05T18:11:55.035Z"
   },
   {
    "duration": 5200,
    "start_time": "2023-02-05T18:13:56.594Z"
   },
   {
    "duration": 6641,
    "start_time": "2023-02-05T18:14:09.254Z"
   },
   {
    "duration": 4,
    "start_time": "2023-02-05T18:15:31.755Z"
   },
   {
    "duration": 19,
    "start_time": "2023-02-05T18:15:40.230Z"
   },
   {
    "duration": 4,
    "start_time": "2023-02-05T18:15:59.952Z"
   },
   {
    "duration": 1072183,
    "start_time": "2023-02-05T18:16:09.015Z"
   },
   {
    "duration": 536012,
    "start_time": "2023-02-05T18:56:10.284Z"
   },
   {
    "duration": 5531,
    "start_time": "2023-02-05T19:07:44.964Z"
   },
   {
    "duration": 346559,
    "start_time": "2023-02-05T19:07:57.224Z"
   },
   {
    "duration": 35,
    "start_time": "2023-02-06T12:35:21.139Z"
   },
   {
    "duration": 2148,
    "start_time": "2023-02-06T12:35:33.642Z"
   },
   {
    "duration": 4,
    "start_time": "2023-02-06T12:35:35.793Z"
   },
   {
    "duration": 221,
    "start_time": "2023-02-06T12:35:35.799Z"
   },
   {
    "duration": 2,
    "start_time": "2023-02-06T12:35:36.022Z"
   },
   {
    "duration": 27,
    "start_time": "2023-02-06T12:35:36.027Z"
   },
   {
    "duration": 23,
    "start_time": "2023-02-06T12:35:36.056Z"
   },
   {
    "duration": 34,
    "start_time": "2023-02-06T12:35:36.080Z"
   },
   {
    "duration": 155,
    "start_time": "2023-02-06T12:35:36.116Z"
   },
   {
    "duration": 106,
    "start_time": "2023-02-06T12:35:36.273Z"
   },
   {
    "duration": 32,
    "start_time": "2023-02-06T12:35:36.381Z"
   },
   {
    "duration": 94,
    "start_time": "2023-02-06T12:35:36.415Z"
   },
   {
    "duration": 41272,
    "start_time": "2023-02-06T12:35:36.510Z"
   },
   {
    "duration": 1447,
    "start_time": "2023-02-06T12:36:17.784Z"
   },
   {
    "duration": 77,
    "start_time": "2023-02-06T12:36:19.234Z"
   },
   {
    "duration": 95,
    "start_time": "2023-02-06T12:36:19.313Z"
   },
   {
    "duration": 89,
    "start_time": "2023-02-06T12:36:19.410Z"
   },
   {
    "duration": 18,
    "start_time": "2023-02-06T12:36:19.501Z"
   },
   {
    "duration": 83,
    "start_time": "2023-02-06T12:36:19.521Z"
   },
   {
    "duration": 16,
    "start_time": "2023-02-06T12:36:19.607Z"
   },
   {
    "duration": 9,
    "start_time": "2023-02-06T12:36:19.626Z"
   },
   {
    "duration": 10,
    "start_time": "2023-02-06T12:36:19.637Z"
   },
   {
    "duration": 400,
    "start_time": "2023-02-06T12:36:19.699Z"
   },
   {
    "duration": 6,
    "start_time": "2023-02-06T12:36:20.100Z"
   },
   {
    "duration": 28,
    "start_time": "2023-02-06T12:36:20.108Z"
   },
   {
    "duration": 67,
    "start_time": "2023-02-06T12:36:20.138Z"
   },
   {
    "duration": 0,
    "start_time": "2023-02-06T12:36:20.207Z"
   },
   {
    "duration": 0,
    "start_time": "2023-02-06T12:36:20.209Z"
   },
   {
    "duration": 0,
    "start_time": "2023-02-06T12:36:20.210Z"
   },
   {
    "duration": 1,
    "start_time": "2023-02-06T12:36:20.211Z"
   },
   {
    "duration": 40,
    "start_time": "2023-02-06T12:36:44.017Z"
   },
   {
    "duration": 1595,
    "start_time": "2023-02-06T12:39:13.704Z"
   },
   {
    "duration": 346454,
    "start_time": "2023-02-06T12:39:15.301Z"
   },
   {
    "duration": 132068,
    "start_time": "2023-02-06T12:45:16.133Z"
   },
   {
    "duration": 4,
    "start_time": "2023-02-06T12:47:43.263Z"
   },
   {
    "duration": 42491,
    "start_time": "2023-02-06T12:47:43.268Z"
   },
   {
    "duration": 12,
    "start_time": "2023-02-06T12:48:31.371Z"
   },
   {
    "duration": 24,
    "start_time": "2023-02-06T12:48:44.365Z"
   },
   {
    "duration": 10,
    "start_time": "2023-02-06T12:53:32.897Z"
   },
   {
    "duration": 8,
    "start_time": "2023-02-06T12:54:07.648Z"
   },
   {
    "duration": 15,
    "start_time": "2023-02-06T12:54:16.828Z"
   },
   {
    "duration": 4,
    "start_time": "2023-02-06T12:54:29.719Z"
   },
   {
    "duration": 9,
    "start_time": "2023-02-06T12:56:17.016Z"
   },
   {
    "duration": 13,
    "start_time": "2023-02-06T12:56:27.037Z"
   },
   {
    "duration": 6,
    "start_time": "2023-02-06T13:03:55.536Z"
   },
   {
    "duration": 8,
    "start_time": "2023-02-06T13:04:56.902Z"
   },
   {
    "duration": 19,
    "start_time": "2023-02-06T13:06:49.317Z"
   },
   {
    "duration": 8,
    "start_time": "2023-02-06T13:08:51.110Z"
   },
   {
    "duration": 16,
    "start_time": "2023-02-06T13:09:02.817Z"
   },
   {
    "duration": 16,
    "start_time": "2023-02-06T13:09:12.756Z"
   },
   {
    "duration": 18,
    "start_time": "2023-02-06T13:09:18.956Z"
   },
   {
    "duration": 5,
    "start_time": "2023-02-06T13:09:45.328Z"
   },
   {
    "duration": 26,
    "start_time": "2023-02-06T13:09:45.822Z"
   },
   {
    "duration": 6,
    "start_time": "2023-02-06T13:10:22.637Z"
   },
   {
    "duration": 25,
    "start_time": "2023-02-06T13:10:23.556Z"
   },
   {
    "duration": 5,
    "start_time": "2023-02-06T13:10:51.746Z"
   },
   {
    "duration": 4,
    "start_time": "2023-02-06T13:10:59.677Z"
   },
   {
    "duration": 6,
    "start_time": "2023-02-06T13:11:29.108Z"
   },
   {
    "duration": 18,
    "start_time": "2023-02-06T13:11:34.648Z"
   },
   {
    "duration": 3,
    "start_time": "2023-02-06T13:11:34.809Z"
   },
   {
    "duration": 17,
    "start_time": "2023-02-06T13:11:34.987Z"
   },
   {
    "duration": 5,
    "start_time": "2023-02-06T13:11:35.136Z"
   },
   {
    "duration": 8,
    "start_time": "2023-02-06T13:11:35.296Z"
   },
   {
    "duration": 5,
    "start_time": "2023-02-06T13:11:35.508Z"
   },
   {
    "duration": 2146,
    "start_time": "2023-02-06T13:11:56.956Z"
   },
   {
    "duration": 4,
    "start_time": "2023-02-06T13:11:59.105Z"
   },
   {
    "duration": 229,
    "start_time": "2023-02-06T13:11:59.111Z"
   },
   {
    "duration": 3,
    "start_time": "2023-02-06T13:11:59.342Z"
   },
   {
    "duration": 24,
    "start_time": "2023-02-06T13:11:59.348Z"
   },
   {
    "duration": 34,
    "start_time": "2023-02-06T13:11:59.373Z"
   },
   {
    "duration": 32,
    "start_time": "2023-02-06T13:11:59.409Z"
   },
   {
    "duration": 19,
    "start_time": "2023-02-06T13:11:59.443Z"
   },
   {
    "duration": 156,
    "start_time": "2023-02-06T13:11:59.464Z"
   },
   {
    "duration": 108,
    "start_time": "2023-02-06T13:11:59.622Z"
   },
   {
    "duration": 26,
    "start_time": "2023-02-06T13:11:59.731Z"
   },
   {
    "duration": 103,
    "start_time": "2023-02-06T13:11:59.759Z"
   },
   {
    "duration": 41339,
    "start_time": "2023-02-06T13:11:59.863Z"
   },
   {
    "duration": 292,
    "start_time": "2023-02-06T13:12:41.207Z"
   },
   {
    "duration": 24,
    "start_time": "2023-02-06T13:12:41.501Z"
   },
   {
    "duration": 90,
    "start_time": "2023-02-06T13:12:41.527Z"
   },
   {
    "duration": 29,
    "start_time": "2023-02-06T13:12:41.619Z"
   },
   {
    "duration": 60,
    "start_time": "2023-02-06T13:12:41.650Z"
   },
   {
    "duration": 22,
    "start_time": "2023-02-06T13:12:41.712Z"
   },
   {
    "duration": 3,
    "start_time": "2023-02-06T13:12:41.736Z"
   },
   {
    "duration": 25,
    "start_time": "2023-02-06T13:12:41.741Z"
   },
   {
    "duration": 31,
    "start_time": "2023-02-06T13:12:41.768Z"
   },
   {
    "duration": 10,
    "start_time": "2023-02-06T13:12:57.506Z"
   },
   {
    "duration": 7,
    "start_time": "2023-02-06T13:12:58.047Z"
   },
   {
    "duration": 7,
    "start_time": "2023-02-06T13:13:01.617Z"
   },
   {
    "duration": 5,
    "start_time": "2023-02-06T13:13:03.148Z"
   },
   {
    "duration": 5,
    "start_time": "2023-02-06T13:13:05.699Z"
   },
   {
    "duration": 2514,
    "start_time": "2023-02-06T13:14:19.506Z"
   },
   {
    "duration": 4,
    "start_time": "2023-02-06T13:14:22.023Z"
   },
   {
    "duration": 240,
    "start_time": "2023-02-06T13:14:22.029Z"
   },
   {
    "duration": 3,
    "start_time": "2023-02-06T13:14:22.271Z"
   },
   {
    "duration": 30,
    "start_time": "2023-02-06T13:14:22.276Z"
   },
   {
    "duration": 23,
    "start_time": "2023-02-06T13:14:22.308Z"
   },
   {
    "duration": 36,
    "start_time": "2023-02-06T13:14:22.333Z"
   },
   {
    "duration": 40,
    "start_time": "2023-02-06T13:14:22.371Z"
   },
   {
    "duration": 163,
    "start_time": "2023-02-06T13:14:22.413Z"
   },
   {
    "duration": 128,
    "start_time": "2023-02-06T13:14:22.579Z"
   },
   {
    "duration": 32,
    "start_time": "2023-02-06T13:14:22.709Z"
   },
   {
    "duration": 117,
    "start_time": "2023-02-06T13:14:22.742Z"
   },
   {
    "duration": 42808,
    "start_time": "2023-02-06T13:14:22.861Z"
   },
   {
    "duration": 257,
    "start_time": "2023-02-06T13:15:05.672Z"
   },
   {
    "duration": 82,
    "start_time": "2023-02-06T13:15:05.932Z"
   },
   {
    "duration": 94,
    "start_time": "2023-02-06T13:15:06.016Z"
   },
   {
    "duration": 89,
    "start_time": "2023-02-06T13:15:06.112Z"
   },
   {
    "duration": 20,
    "start_time": "2023-02-06T13:15:06.202Z"
   },
   {
    "duration": 84,
    "start_time": "2023-02-06T13:15:06.224Z"
   },
   {
    "duration": 3,
    "start_time": "2023-02-06T13:15:06.310Z"
   },
   {
    "duration": 28,
    "start_time": "2023-02-06T13:15:06.315Z"
   },
   {
    "duration": 17,
    "start_time": "2023-02-06T13:15:06.345Z"
   },
   {
    "duration": 34,
    "start_time": "2023-02-06T13:15:06.367Z"
   },
   {
    "duration": 13,
    "start_time": "2023-02-06T13:15:06.404Z"
   },
   {
    "duration": 13,
    "start_time": "2023-02-06T13:15:06.419Z"
   },
   {
    "duration": 16,
    "start_time": "2023-02-06T13:15:06.434Z"
   },
   {
    "duration": 20,
    "start_time": "2023-02-06T13:15:06.452Z"
   },
   {
    "duration": 7,
    "start_time": "2023-02-06T13:15:06.475Z"
   },
   {
    "duration": 23,
    "start_time": "2023-02-06T13:15:06.484Z"
   },
   {
    "duration": 230,
    "start_time": "2023-02-06T13:15:06.509Z"
   },
   {
    "duration": 6,
    "start_time": "2023-02-06T13:15:06.741Z"
   },
   {
    "duration": 34,
    "start_time": "2023-02-06T13:15:06.749Z"
   },
   {
    "duration": 49,
    "start_time": "2023-02-06T13:15:06.784Z"
   },
   {
    "duration": 89199,
    "start_time": "2023-02-06T13:15:06.835Z"
   },
   {
    "duration": 0,
    "start_time": "2023-02-06T13:16:36.037Z"
   },
   {
    "duration": 0,
    "start_time": "2023-02-06T13:16:36.038Z"
   },
   {
    "duration": 0,
    "start_time": "2023-02-06T13:16:36.039Z"
   },
   {
    "duration": 0,
    "start_time": "2023-02-06T13:16:36.040Z"
   },
   {
    "duration": 0,
    "start_time": "2023-02-06T13:16:36.041Z"
   },
   {
    "duration": 0,
    "start_time": "2023-02-06T13:16:36.042Z"
   },
   {
    "duration": 6,
    "start_time": "2023-02-06T13:19:07.488Z"
   },
   {
    "duration": 24,
    "start_time": "2023-02-06T13:19:09.853Z"
   },
   {
    "duration": 0,
    "start_time": "2023-02-06T13:19:09.879Z"
   },
   {
    "duration": 2478,
    "start_time": "2023-02-06T13:19:18.046Z"
   },
   {
    "duration": 4,
    "start_time": "2023-02-06T13:19:20.527Z"
   },
   {
    "duration": 242,
    "start_time": "2023-02-06T13:19:20.533Z"
   },
   {
    "duration": 3,
    "start_time": "2023-02-06T13:19:20.778Z"
   },
   {
    "duration": 42,
    "start_time": "2023-02-06T13:19:20.782Z"
   },
   {
    "duration": 36,
    "start_time": "2023-02-06T13:19:20.827Z"
   },
   {
    "duration": 78,
    "start_time": "2023-02-06T13:19:20.866Z"
   },
   {
    "duration": 21,
    "start_time": "2023-02-06T13:19:20.946Z"
   },
   {
    "duration": 179,
    "start_time": "2023-02-06T13:19:20.970Z"
   },
   {
    "duration": 127,
    "start_time": "2023-02-06T13:19:21.153Z"
   },
   {
    "duration": 47,
    "start_time": "2023-02-06T13:19:21.282Z"
   },
   {
    "duration": 168,
    "start_time": "2023-02-06T13:19:21.331Z"
   },
   {
    "duration": 41401,
    "start_time": "2023-02-06T13:19:21.501Z"
   },
   {
    "duration": 243,
    "start_time": "2023-02-06T13:20:02.904Z"
   },
   {
    "duration": 24,
    "start_time": "2023-02-06T13:20:03.199Z"
   },
   {
    "duration": 90,
    "start_time": "2023-02-06T13:20:03.224Z"
   },
   {
    "duration": 32,
    "start_time": "2023-02-06T13:20:03.316Z"
   },
   {
    "duration": 59,
    "start_time": "2023-02-06T13:20:03.349Z"
   },
   {
    "duration": 22,
    "start_time": "2023-02-06T13:20:03.410Z"
   },
   {
    "duration": 5,
    "start_time": "2023-02-06T13:20:03.434Z"
   },
   {
    "duration": 58,
    "start_time": "2023-02-06T13:20:03.441Z"
   },
   {
    "duration": 10,
    "start_time": "2023-02-06T13:20:03.501Z"
   },
   {
    "duration": 33,
    "start_time": "2023-02-06T13:20:03.513Z"
   },
   {
    "duration": 6,
    "start_time": "2023-02-06T13:20:15.864Z"
   },
   {
    "duration": 29,
    "start_time": "2023-02-06T13:20:16.336Z"
   },
   {
    "duration": 5,
    "start_time": "2023-02-06T13:20:28.725Z"
   },
   {
    "duration": 7,
    "start_time": "2023-02-06T13:20:30.156Z"
   },
   {
    "duration": 5,
    "start_time": "2023-02-06T13:23:55.296Z"
   },
   {
    "duration": 5,
    "start_time": "2023-02-06T13:23:55.864Z"
   },
   {
    "duration": 8,
    "start_time": "2023-02-06T13:23:56.535Z"
   },
   {
    "duration": 5,
    "start_time": "2023-02-06T13:25:21.308Z"
   },
   {
    "duration": 5,
    "start_time": "2023-02-06T13:25:22.136Z"
   },
   {
    "duration": 10,
    "start_time": "2023-02-06T13:25:22.647Z"
   },
   {
    "duration": 7,
    "start_time": "2023-02-06T13:28:37.927Z"
   },
   {
    "duration": 5,
    "start_time": "2023-02-06T13:28:39.841Z"
   },
   {
    "duration": 8,
    "start_time": "2023-02-06T13:28:41.357Z"
   },
   {
    "duration": 6,
    "start_time": "2023-02-06T13:29:10.375Z"
   },
   {
    "duration": 2434,
    "start_time": "2023-02-06T13:30:17.607Z"
   },
   {
    "duration": 4,
    "start_time": "2023-02-06T13:30:20.044Z"
   },
   {
    "duration": 254,
    "start_time": "2023-02-06T13:30:20.050Z"
   },
   {
    "duration": 3,
    "start_time": "2023-02-06T13:30:20.307Z"
   },
   {
    "duration": 30,
    "start_time": "2023-02-06T13:30:20.312Z"
   },
   {
    "duration": 39,
    "start_time": "2023-02-06T13:30:20.344Z"
   },
   {
    "duration": 46,
    "start_time": "2023-02-06T13:30:20.385Z"
   },
   {
    "duration": 20,
    "start_time": "2023-02-06T13:30:20.433Z"
   },
   {
    "duration": 170,
    "start_time": "2023-02-06T13:30:20.454Z"
   },
   {
    "duration": 115,
    "start_time": "2023-02-06T13:30:20.628Z"
   },
   {
    "duration": 27,
    "start_time": "2023-02-06T13:30:20.744Z"
   },
   {
    "duration": 112,
    "start_time": "2023-02-06T13:30:20.773Z"
   },
   {
    "duration": 41660,
    "start_time": "2023-02-06T13:30:20.887Z"
   },
   {
    "duration": 273,
    "start_time": "2023-02-06T13:31:02.549Z"
   },
   {
    "duration": 76,
    "start_time": "2023-02-06T13:31:02.824Z"
   },
   {
    "duration": 41,
    "start_time": "2023-02-06T13:31:02.902Z"
   },
   {
    "duration": 82,
    "start_time": "2023-02-06T13:31:02.945Z"
   },
   {
    "duration": 15,
    "start_time": "2023-02-06T13:31:03.029Z"
   },
   {
    "duration": 22,
    "start_time": "2023-02-06T13:31:03.045Z"
   },
   {
    "duration": 4,
    "start_time": "2023-02-06T13:31:03.100Z"
   },
   {
    "duration": 31,
    "start_time": "2023-02-06T13:31:03.106Z"
   },
   {
    "duration": 9,
    "start_time": "2023-02-06T13:31:03.139Z"
   },
   {
    "duration": 15,
    "start_time": "2023-02-06T13:31:03.150Z"
   },
   {
    "duration": 33,
    "start_time": "2023-02-06T13:31:03.167Z"
   },
   {
    "duration": 5,
    "start_time": "2023-02-06T13:31:03.202Z"
   },
   {
    "duration": 5,
    "start_time": "2023-02-06T13:31:38.500Z"
   },
   {
    "duration": 17,
    "start_time": "2023-02-06T13:37:09.680Z"
   },
   {
    "duration": 16,
    "start_time": "2023-02-06T13:37:22.459Z"
   },
   {
    "duration": 4,
    "start_time": "2023-02-06T13:46:34.132Z"
   },
   {
    "duration": 13,
    "start_time": "2023-02-06T13:49:16.712Z"
   },
   {
    "duration": 3,
    "start_time": "2023-02-06T13:49:51.963Z"
   },
   {
    "duration": 9,
    "start_time": "2023-02-06T13:50:45.862Z"
   },
   {
    "duration": 23,
    "start_time": "2023-02-06T13:50:46.450Z"
   },
   {
    "duration": 41,
    "start_time": "2023-02-06T13:50:49.232Z"
   },
   {
    "duration": 2175,
    "start_time": "2023-02-06T13:51:09.181Z"
   },
   {
    "duration": 5,
    "start_time": "2023-02-06T13:51:11.358Z"
   },
   {
    "duration": 221,
    "start_time": "2023-02-06T13:51:11.364Z"
   },
   {
    "duration": 2,
    "start_time": "2023-02-06T13:51:11.588Z"
   },
   {
    "duration": 35,
    "start_time": "2023-02-06T13:51:11.591Z"
   },
   {
    "duration": 42,
    "start_time": "2023-02-06T13:51:11.628Z"
   },
   {
    "duration": 24,
    "start_time": "2023-02-06T13:51:11.672Z"
   },
   {
    "duration": 18,
    "start_time": "2023-02-06T13:51:11.698Z"
   },
   {
    "duration": 139,
    "start_time": "2023-02-06T13:51:11.718Z"
   },
   {
    "duration": 96,
    "start_time": "2023-02-06T13:51:11.861Z"
   },
   {
    "duration": 25,
    "start_time": "2023-02-06T13:51:11.960Z"
   },
   {
    "duration": 86,
    "start_time": "2023-02-06T13:51:11.999Z"
   },
   {
    "duration": 40346,
    "start_time": "2023-02-06T13:51:12.087Z"
   },
   {
    "duration": 265,
    "start_time": "2023-02-06T13:51:52.434Z"
   },
   {
    "duration": 21,
    "start_time": "2023-02-06T13:51:52.701Z"
   },
   {
    "duration": 90,
    "start_time": "2023-02-06T13:51:52.724Z"
   },
   {
    "duration": 31,
    "start_time": "2023-02-06T13:51:52.816Z"
   },
   {
    "duration": 60,
    "start_time": "2023-02-06T13:51:52.849Z"
   },
   {
    "duration": 21,
    "start_time": "2023-02-06T13:51:52.911Z"
   },
   {
    "duration": 4,
    "start_time": "2023-02-06T13:51:52.933Z"
   },
   {
    "duration": 47,
    "start_time": "2023-02-06T13:51:52.938Z"
   },
   {
    "duration": 9,
    "start_time": "2023-02-06T13:51:52.999Z"
   },
   {
    "duration": 12,
    "start_time": "2023-02-06T13:51:53.010Z"
   },
   {
    "duration": 6,
    "start_time": "2023-02-06T13:51:53.024Z"
   },
   {
    "duration": 8,
    "start_time": "2023-02-06T13:51:53.031Z"
   },
   {
    "duration": 19,
    "start_time": "2023-02-06T13:51:53.040Z"
   },
   {
    "duration": 0,
    "start_time": "2023-02-06T13:51:53.060Z"
   },
   {
    "duration": 0,
    "start_time": "2023-02-06T13:51:53.061Z"
   },
   {
    "duration": 0,
    "start_time": "2023-02-06T13:51:53.062Z"
   },
   {
    "duration": 0,
    "start_time": "2023-02-06T13:51:53.063Z"
   },
   {
    "duration": 0,
    "start_time": "2023-02-06T13:51:53.065Z"
   },
   {
    "duration": 0,
    "start_time": "2023-02-06T13:51:53.066Z"
   },
   {
    "duration": 0,
    "start_time": "2023-02-06T13:51:53.067Z"
   },
   {
    "duration": 0,
    "start_time": "2023-02-06T13:51:53.068Z"
   },
   {
    "duration": 0,
    "start_time": "2023-02-06T13:51:53.069Z"
   },
   {
    "duration": 0,
    "start_time": "2023-02-06T13:51:53.099Z"
   },
   {
    "duration": 0,
    "start_time": "2023-02-06T13:51:53.100Z"
   },
   {
    "duration": 9,
    "start_time": "2023-02-06T13:52:13.452Z"
   },
   {
    "duration": 4,
    "start_time": "2023-02-06T13:52:13.611Z"
   },
   {
    "duration": 7,
    "start_time": "2023-02-06T13:52:13.780Z"
   },
   {
    "duration": 11,
    "start_time": "2023-02-06T13:52:14.271Z"
   },
   {
    "duration": 5,
    "start_time": "2023-02-06T13:52:14.462Z"
   },
   {
    "duration": 2,
    "start_time": "2023-02-06T13:52:14.621Z"
   },
   {
    "duration": 161,
    "start_time": "2023-02-06T13:52:14.792Z"
   },
   {
    "duration": 5,
    "start_time": "2023-02-06T13:52:14.961Z"
   },
   {
    "duration": 12,
    "start_time": "2023-02-06T13:52:23.291Z"
   },
   {
    "duration": 5,
    "start_time": "2023-02-06T13:52:23.443Z"
   },
   {
    "duration": 2,
    "start_time": "2023-02-06T13:52:23.631Z"
   },
   {
    "duration": 5,
    "start_time": "2023-02-06T13:52:23.803Z"
   },
   {
    "duration": 7,
    "start_time": "2023-02-06T13:52:24.036Z"
   },
   {
    "duration": 8,
    "start_time": "2023-02-06T13:52:24.560Z"
   },
   {
    "duration": 17,
    "start_time": "2023-02-06T13:52:25.211Z"
   },
   {
    "duration": 38,
    "start_time": "2023-02-06T13:52:25.441Z"
   },
   {
    "duration": 4,
    "start_time": "2023-02-06T13:52:27.668Z"
   },
   {
    "duration": 11214,
    "start_time": "2023-02-06T13:52:29.890Z"
   },
   {
    "duration": 119989,
    "start_time": "2023-02-06T13:53:41.549Z"
   },
   {
    "duration": 11128,
    "start_time": "2023-02-06T13:55:58.272Z"
   },
   {
    "duration": 116820,
    "start_time": "2023-02-06T13:56:26.050Z"
   },
   {
    "duration": 10907,
    "start_time": "2023-02-06T13:58:40.791Z"
   },
   {
    "duration": 20959,
    "start_time": "2023-02-06T13:58:56.541Z"
   },
   {
    "duration": 41321,
    "start_time": "2023-02-06T13:59:34.419Z"
   },
   {
    "duration": 527,
    "start_time": "2023-02-06T14:00:43.490Z"
   },
   {
    "duration": 3,
    "start_time": "2023-02-06T14:02:11.912Z"
   },
   {
    "duration": 13,
    "start_time": "2023-02-06T14:03:40.437Z"
   },
   {
    "duration": 2331,
    "start_time": "2023-02-06T15:09:02.045Z"
   },
   {
    "duration": 6,
    "start_time": "2023-02-06T15:09:04.379Z"
   },
   {
    "duration": 221,
    "start_time": "2023-02-06T15:09:04.387Z"
   },
   {
    "duration": 3,
    "start_time": "2023-02-06T15:09:04.610Z"
   },
   {
    "duration": 27,
    "start_time": "2023-02-06T15:09:04.614Z"
   },
   {
    "duration": 26,
    "start_time": "2023-02-06T15:09:04.642Z"
   },
   {
    "duration": 43,
    "start_time": "2023-02-06T15:09:04.670Z"
   },
   {
    "duration": 19,
    "start_time": "2023-02-06T15:09:04.714Z"
   },
   {
    "duration": 145,
    "start_time": "2023-02-06T15:09:04.735Z"
   },
   {
    "duration": 112,
    "start_time": "2023-02-06T15:09:04.883Z"
   },
   {
    "duration": 27,
    "start_time": "2023-02-06T15:09:04.996Z"
   },
   {
    "duration": 110,
    "start_time": "2023-02-06T15:09:05.025Z"
   },
   {
    "duration": 43518,
    "start_time": "2023-02-06T15:09:05.137Z"
   },
   {
    "duration": 270,
    "start_time": "2023-02-06T15:09:48.657Z"
   },
   {
    "duration": 77,
    "start_time": "2023-02-06T15:09:48.928Z"
   },
   {
    "duration": 104,
    "start_time": "2023-02-06T15:09:49.007Z"
   },
   {
    "duration": 31,
    "start_time": "2023-02-06T15:09:49.112Z"
   },
   {
    "duration": 53,
    "start_time": "2023-02-06T15:09:49.145Z"
   },
   {
    "duration": 21,
    "start_time": "2023-02-06T15:09:49.200Z"
   },
   {
    "duration": 4,
    "start_time": "2023-02-06T15:09:49.223Z"
   },
   {
    "duration": 29,
    "start_time": "2023-02-06T15:09:49.229Z"
   },
   {
    "duration": 10,
    "start_time": "2023-02-06T15:09:49.259Z"
   },
   {
    "duration": 30,
    "start_time": "2023-02-06T15:09:49.270Z"
   },
   {
    "duration": 12,
    "start_time": "2023-02-06T15:09:49.302Z"
   },
   {
    "duration": 5,
    "start_time": "2023-02-06T15:09:49.316Z"
   },
   {
    "duration": 12,
    "start_time": "2023-02-06T15:09:49.323Z"
   },
   {
    "duration": 15,
    "start_time": "2023-02-06T15:09:49.337Z"
   },
   {
    "duration": 12,
    "start_time": "2023-02-06T15:09:49.356Z"
   },
   {
    "duration": 6,
    "start_time": "2023-02-06T15:09:49.370Z"
   },
   {
    "duration": 6,
    "start_time": "2023-02-06T15:09:49.398Z"
   },
   {
    "duration": 160,
    "start_time": "2023-02-06T15:09:49.407Z"
   },
   {
    "duration": 5,
    "start_time": "2023-02-06T15:09:49.569Z"
   },
   {
    "duration": 18,
    "start_time": "2023-02-06T15:09:49.575Z"
   },
   {
    "duration": 27,
    "start_time": "2023-02-06T15:09:49.609Z"
   },
   {
    "duration": 41,
    "start_time": "2023-02-06T15:09:49.639Z"
   },
   {
    "duration": 11218,
    "start_time": "2023-02-06T15:09:49.682Z"
   },
   {
    "duration": 45075,
    "start_time": "2023-02-06T15:10:00.902Z"
   },
   {
    "duration": 617,
    "start_time": "2023-02-06T15:10:45.979Z"
   },
   {
    "duration": 2236,
    "start_time": "2023-02-06T15:18:42.365Z"
   },
   {
    "duration": 2114,
    "start_time": "2023-02-06T15:18:44.726Z"
   },
   {
    "duration": 256,
    "start_time": "2023-02-06T15:18:46.842Z"
   },
   {
    "duration": 4,
    "start_time": "2023-02-06T15:18:47.100Z"
   },
   {
    "duration": 29,
    "start_time": "2023-02-06T15:18:48.350Z"
   },
   {
    "duration": 20,
    "start_time": "2023-02-06T15:18:49.284Z"
   },
   {
    "duration": 23,
    "start_time": "2023-02-06T15:18:49.908Z"
   },
   {
    "duration": 18,
    "start_time": "2023-02-06T15:18:50.138Z"
   },
   {
    "duration": 150,
    "start_time": "2023-02-06T15:18:50.365Z"
   },
   {
    "duration": 107,
    "start_time": "2023-02-06T15:18:51.009Z"
   },
   {
    "duration": 24,
    "start_time": "2023-02-06T15:18:51.666Z"
   },
   {
    "duration": 96,
    "start_time": "2023-02-06T15:18:51.837Z"
   },
   {
    "duration": 41193,
    "start_time": "2023-02-06T15:18:52.257Z"
   },
   {
    "duration": 256,
    "start_time": "2023-02-06T15:19:33.452Z"
   },
   {
    "duration": 24,
    "start_time": "2023-02-06T15:19:33.709Z"
   },
   {
    "duration": 128,
    "start_time": "2023-02-06T15:20:58.038Z"
   },
   {
    "duration": 30,
    "start_time": "2023-02-06T15:20:58.169Z"
   },
   {
    "duration": 34,
    "start_time": "2023-02-06T15:20:58.397Z"
   },
   {
    "duration": 29,
    "start_time": "2023-02-06T15:20:59.517Z"
   },
   {
    "duration": 14,
    "start_time": "2023-02-06T15:20:59.953Z"
   },
   {
    "duration": 19,
    "start_time": "2023-02-06T15:21:04.668Z"
   },
   {
    "duration": 4,
    "start_time": "2023-02-06T15:21:04.837Z"
   },
   {
    "duration": 31,
    "start_time": "2023-02-06T15:21:05.067Z"
   },
   {
    "duration": 8,
    "start_time": "2023-02-06T15:21:05.295Z"
   },
   {
    "duration": 7,
    "start_time": "2023-02-06T15:21:07.677Z"
   },
   {
    "duration": 6,
    "start_time": "2023-02-06T15:23:07.405Z"
   },
   {
    "duration": 387,
    "start_time": "2023-02-06T15:23:16.546Z"
   },
   {
    "duration": 3,
    "start_time": "2023-02-06T15:23:24.969Z"
   },
   {
    "duration": 7,
    "start_time": "2023-02-06T15:23:26.219Z"
   },
   {
    "duration": 4,
    "start_time": "2023-02-06T15:24:09.438Z"
   },
   {
    "duration": 4,
    "start_time": "2023-02-06T15:24:10.479Z"
   },
   {
    "duration": 9,
    "start_time": "2023-02-06T15:24:11.066Z"
   },
   {
    "duration": 14249,
    "start_time": "2023-02-06T18:43:42.717Z"
   },
   {
    "duration": 2044,
    "start_time": "2023-02-06T18:43:56.968Z"
   },
   {
    "duration": 808,
    "start_time": "2023-02-06T18:43:59.014Z"
   },
   {
    "duration": 3,
    "start_time": "2023-02-06T18:43:59.825Z"
   },
   {
    "duration": 31,
    "start_time": "2023-02-06T18:43:59.830Z"
   },
   {
    "duration": 21,
    "start_time": "2023-02-06T18:43:59.863Z"
   },
   {
    "duration": 31,
    "start_time": "2023-02-06T18:43:59.886Z"
   },
   {
    "duration": 18,
    "start_time": "2023-02-06T18:43:59.919Z"
   },
   {
    "duration": 157,
    "start_time": "2023-02-06T18:43:59.939Z"
   },
   {
    "duration": 110,
    "start_time": "2023-02-06T18:44:00.099Z"
   },
   {
    "duration": 28,
    "start_time": "2023-02-06T18:44:00.210Z"
   },
   {
    "duration": 116,
    "start_time": "2023-02-06T18:44:00.240Z"
   },
   {
    "duration": 41571,
    "start_time": "2023-02-06T18:44:00.358Z"
   },
   {
    "duration": 208,
    "start_time": "2023-02-06T18:44:41.931Z"
   },
   {
    "duration": 72,
    "start_time": "2023-02-06T18:44:42.141Z"
   },
   {
    "duration": 33,
    "start_time": "2023-02-06T18:44:42.215Z"
   },
   {
    "duration": 68,
    "start_time": "2023-02-06T18:44:42.249Z"
   },
   {
    "duration": 14,
    "start_time": "2023-02-06T18:44:42.319Z"
   },
   {
    "duration": 20,
    "start_time": "2023-02-06T18:44:42.334Z"
   },
   {
    "duration": 4,
    "start_time": "2023-02-06T18:44:42.355Z"
   },
   {
    "duration": 57,
    "start_time": "2023-02-06T18:44:42.361Z"
   },
   {
    "duration": 9,
    "start_time": "2023-02-06T18:44:42.420Z"
   },
   {
    "duration": 11,
    "start_time": "2023-02-06T18:44:42.431Z"
   },
   {
    "duration": 6,
    "start_time": "2023-02-06T18:44:42.443Z"
   },
   {
    "duration": 43,
    "start_time": "2023-02-06T18:44:42.450Z"
   },
   {
    "duration": 0,
    "start_time": "2023-02-06T18:44:42.495Z"
   },
   {
    "duration": 0,
    "start_time": "2023-02-06T18:44:42.496Z"
   },
   {
    "duration": 0,
    "start_time": "2023-02-06T18:44:42.497Z"
   },
   {
    "duration": 0,
    "start_time": "2023-02-06T18:44:42.499Z"
   },
   {
    "duration": 0,
    "start_time": "2023-02-06T18:44:42.500Z"
   },
   {
    "duration": 0,
    "start_time": "2023-02-06T18:44:42.502Z"
   },
   {
    "duration": 0,
    "start_time": "2023-02-06T18:44:42.503Z"
   },
   {
    "duration": 0,
    "start_time": "2023-02-06T18:44:42.504Z"
   },
   {
    "duration": 0,
    "start_time": "2023-02-06T18:44:42.505Z"
   },
   {
    "duration": 0,
    "start_time": "2023-02-06T18:44:42.506Z"
   },
   {
    "duration": 0,
    "start_time": "2023-02-06T18:44:42.507Z"
   },
   {
    "duration": 0,
    "start_time": "2023-02-06T18:44:42.509Z"
   },
   {
    "duration": 0,
    "start_time": "2023-02-06T18:44:42.510Z"
   },
   {
    "duration": 64,
    "start_time": "2023-02-06T18:51:59.676Z"
   },
   {
    "duration": 3,
    "start_time": "2023-02-06T18:52:16.329Z"
   },
   {
    "duration": 7,
    "start_time": "2023-02-06T18:52:17.461Z"
   },
   {
    "duration": 5,
    "start_time": "2023-02-06T18:52:37.749Z"
   },
   {
    "duration": 9,
    "start_time": "2023-02-06T18:52:38.703Z"
   },
   {
    "duration": 5,
    "start_time": "2023-02-06T18:52:46.725Z"
   },
   {
    "duration": 6,
    "start_time": "2023-02-06T18:52:47.731Z"
   },
   {
    "duration": 7,
    "start_time": "2023-02-06T18:54:34.156Z"
   },
   {
    "duration": 4,
    "start_time": "2023-02-06T18:57:36.273Z"
   },
   {
    "duration": 7,
    "start_time": "2023-02-06T18:57:37.230Z"
   },
   {
    "duration": 4,
    "start_time": "2023-02-06T18:59:29.292Z"
   },
   {
    "duration": 3,
    "start_time": "2023-02-06T19:00:08.682Z"
   },
   {
    "duration": 5,
    "start_time": "2023-02-06T19:00:55.636Z"
   },
   {
    "duration": 4,
    "start_time": "2023-02-06T19:01:24.653Z"
   },
   {
    "duration": 181,
    "start_time": "2023-02-06T19:03:00.470Z"
   },
   {
    "duration": 6,
    "start_time": "2023-02-06T19:03:13.297Z"
   },
   {
    "duration": 9,
    "start_time": "2023-02-06T19:03:14.432Z"
   },
   {
    "duration": 7,
    "start_time": "2023-02-06T19:03:47.368Z"
   },
   {
    "duration": 10,
    "start_time": "2023-02-06T19:03:49.148Z"
   },
   {
    "duration": 5,
    "start_time": "2023-02-06T19:04:00.821Z"
   },
   {
    "duration": 9,
    "start_time": "2023-02-06T19:04:01.565Z"
   },
   {
    "duration": 9,
    "start_time": "2023-02-06T19:04:33.136Z"
   },
   {
    "duration": 6,
    "start_time": "2023-02-06T19:04:52.048Z"
   },
   {
    "duration": 8,
    "start_time": "2023-02-06T19:04:54.904Z"
   },
   {
    "duration": 8,
    "start_time": "2023-02-06T19:08:57.738Z"
   },
   {
    "duration": 11,
    "start_time": "2023-02-06T19:08:58.053Z"
   },
   {
    "duration": 9,
    "start_time": "2023-02-06T19:09:34.222Z"
   },
   {
    "duration": 11,
    "start_time": "2023-02-06T19:09:34.401Z"
   },
   {
    "duration": 9,
    "start_time": "2023-02-06T19:09:36.687Z"
   },
   {
    "duration": 10,
    "start_time": "2023-02-06T19:10:51.161Z"
   },
   {
    "duration": 8,
    "start_time": "2023-02-06T19:10:51.785Z"
   },
   {
    "duration": 723,
    "start_time": "2023-02-06T19:11:40.660Z"
   },
   {
    "duration": 5,
    "start_time": "2023-02-06T19:11:59.220Z"
   },
   {
    "duration": 4,
    "start_time": "2023-02-06T19:12:09.915Z"
   },
   {
    "duration": 4,
    "start_time": "2023-02-06T19:12:28.954Z"
   },
   {
    "duration": 3,
    "start_time": "2023-02-06T19:12:58.750Z"
   },
   {
    "duration": 4,
    "start_time": "2023-02-06T19:13:10.250Z"
   },
   {
    "duration": 5,
    "start_time": "2023-02-06T19:13:47.289Z"
   },
   {
    "duration": 7,
    "start_time": "2023-02-06T19:14:31.267Z"
   },
   {
    "duration": 7,
    "start_time": "2023-02-06T19:15:20.947Z"
   },
   {
    "duration": 8,
    "start_time": "2023-02-06T19:15:56.192Z"
   },
   {
    "duration": 7,
    "start_time": "2023-02-06T19:16:40.834Z"
   },
   {
    "duration": 8,
    "start_time": "2023-02-06T19:16:44.632Z"
   },
   {
    "duration": 10,
    "start_time": "2023-02-06T19:17:02.421Z"
   },
   {
    "duration": 9,
    "start_time": "2023-02-06T19:17:06.491Z"
   },
   {
    "duration": 12,
    "start_time": "2023-02-06T19:17:33.139Z"
   },
   {
    "duration": 7,
    "start_time": "2023-02-06T19:17:36.289Z"
   },
   {
    "duration": 12,
    "start_time": "2023-02-06T19:22:25.780Z"
   },
   {
    "duration": 6,
    "start_time": "2023-02-06T19:22:26.217Z"
   },
   {
    "duration": 3,
    "start_time": "2023-02-06T19:22:26.968Z"
   },
   {
    "duration": 161,
    "start_time": "2023-02-06T19:22:28.221Z"
   },
   {
    "duration": 5,
    "start_time": "2023-02-06T19:22:28.977Z"
   },
   {
    "duration": 12,
    "start_time": "2023-02-06T19:22:30.495Z"
   },
   {
    "duration": 25,
    "start_time": "2023-02-06T19:22:30.969Z"
   },
   {
    "duration": 44,
    "start_time": "2023-02-06T19:22:31.216Z"
   },
   {
    "duration": 14134,
    "start_time": "2023-02-06T19:22:32.977Z"
   },
   {
    "duration": 44682,
    "start_time": "2023-02-06T19:22:49.537Z"
   },
   {
    "duration": 4,
    "start_time": "2023-02-06T19:23:42.088Z"
   },
   {
    "duration": 556,
    "start_time": "2023-02-06T19:23:53.538Z"
   },
   {
    "duration": 0,
    "start_time": "2023-02-06T19:25:20.647Z"
   },
   {
    "duration": 0,
    "start_time": "2023-02-06T19:25:20.648Z"
   },
   {
    "duration": 586,
    "start_time": "2023-02-06T19:25:24.035Z"
   },
   {
    "duration": 13,
    "start_time": "2023-02-06T19:25:28.425Z"
   },
   {
    "duration": 5,
    "start_time": "2023-02-06T19:29:14.161Z"
   },
   {
    "duration": 25,
    "start_time": "2023-02-06T19:30:03.476Z"
   },
   {
    "duration": 43,
    "start_time": "2023-02-06T19:30:08.620Z"
   },
   {
    "duration": 14,
    "start_time": "2023-02-06T19:34:54.853Z"
   },
   {
    "duration": 3,
    "start_time": "2023-02-06T19:39:56.290Z"
   },
   {
    "duration": 31,
    "start_time": "2023-02-06T19:41:00.660Z"
   },
   {
    "duration": 2248,
    "start_time": "2023-02-06T19:42:09.905Z"
   },
   {
    "duration": 4,
    "start_time": "2023-02-06T19:42:12.156Z"
   },
   {
    "duration": 201,
    "start_time": "2023-02-06T19:42:12.161Z"
   },
   {
    "duration": 2,
    "start_time": "2023-02-06T19:42:12.365Z"
   },
   {
    "duration": 34,
    "start_time": "2023-02-06T19:42:12.368Z"
   },
   {
    "duration": 31,
    "start_time": "2023-02-06T19:42:12.403Z"
   },
   {
    "duration": 32,
    "start_time": "2023-02-06T19:42:12.436Z"
   },
   {
    "duration": 18,
    "start_time": "2023-02-06T19:42:12.470Z"
   },
   {
    "duration": 144,
    "start_time": "2023-02-06T19:42:12.490Z"
   },
   {
    "duration": 116,
    "start_time": "2023-02-06T19:42:12.638Z"
   },
   {
    "duration": 27,
    "start_time": "2023-02-06T19:42:12.756Z"
   },
   {
    "duration": 106,
    "start_time": "2023-02-06T19:42:12.785Z"
   },
   {
    "duration": 40811,
    "start_time": "2023-02-06T19:42:12.902Z"
   },
   {
    "duration": 316,
    "start_time": "2023-02-06T19:42:53.714Z"
   },
   {
    "duration": 80,
    "start_time": "2023-02-06T19:42:54.032Z"
   },
   {
    "duration": 46,
    "start_time": "2023-02-06T19:42:54.114Z"
   },
   {
    "duration": 38,
    "start_time": "2023-02-06T19:42:54.204Z"
   },
   {
    "duration": 18,
    "start_time": "2023-02-06T19:42:54.244Z"
   },
   {
    "duration": 51,
    "start_time": "2023-02-06T19:42:54.264Z"
   },
   {
    "duration": 4,
    "start_time": "2023-02-06T19:42:54.317Z"
   },
   {
    "duration": 25,
    "start_time": "2023-02-06T19:42:54.323Z"
   },
   {
    "duration": 4,
    "start_time": "2023-02-06T19:42:54.350Z"
   },
   {
    "duration": 47,
    "start_time": "2023-02-06T19:42:54.356Z"
   },
   {
    "duration": 17,
    "start_time": "2023-02-06T19:42:54.405Z"
   },
   {
    "duration": 3,
    "start_time": "2023-02-06T19:42:54.424Z"
   },
   {
    "duration": 2266,
    "start_time": "2023-02-06T19:43:17.747Z"
   },
   {
    "duration": 5,
    "start_time": "2023-02-06T19:43:20.015Z"
   },
   {
    "duration": 232,
    "start_time": "2023-02-06T19:43:20.021Z"
   },
   {
    "duration": 3,
    "start_time": "2023-02-06T19:43:20.255Z"
   },
   {
    "duration": 33,
    "start_time": "2023-02-06T19:43:20.260Z"
   },
   {
    "duration": 22,
    "start_time": "2023-02-06T19:43:20.295Z"
   },
   {
    "duration": 25,
    "start_time": "2023-02-06T19:43:20.318Z"
   },
   {
    "duration": 18,
    "start_time": "2023-02-06T19:43:20.345Z"
   },
   {
    "duration": 155,
    "start_time": "2023-02-06T19:43:20.365Z"
   },
   {
    "duration": 110,
    "start_time": "2023-02-06T19:43:20.524Z"
   },
   {
    "duration": 28,
    "start_time": "2023-02-06T19:43:20.636Z"
   },
   {
    "duration": 107,
    "start_time": "2023-02-06T19:43:20.666Z"
   },
   {
    "duration": 40936,
    "start_time": "2023-02-06T19:43:20.775Z"
   },
   {
    "duration": 293,
    "start_time": "2023-02-06T19:44:01.712Z"
   },
   {
    "duration": 24,
    "start_time": "2023-02-06T19:44:02.006Z"
   },
   {
    "duration": 88,
    "start_time": "2023-02-06T19:44:02.032Z"
   },
   {
    "duration": 28,
    "start_time": "2023-02-06T19:44:02.121Z"
   },
   {
    "duration": 14,
    "start_time": "2023-02-06T19:44:02.150Z"
   },
   {
    "duration": 53,
    "start_time": "2023-02-06T19:44:02.166Z"
   },
   {
    "duration": 4,
    "start_time": "2023-02-06T19:44:02.221Z"
   },
   {
    "duration": 37,
    "start_time": "2023-02-06T19:44:02.227Z"
   },
   {
    "duration": 3,
    "start_time": "2023-02-06T19:44:02.266Z"
   },
   {
    "duration": 47,
    "start_time": "2023-02-06T19:44:02.271Z"
   },
   {
    "duration": 19,
    "start_time": "2023-02-06T19:44:02.319Z"
   },
   {
    "duration": 4,
    "start_time": "2023-02-06T19:44:02.339Z"
   },
   {
    "duration": 39,
    "start_time": "2023-02-06T19:44:02.345Z"
   },
   {
    "duration": 19,
    "start_time": "2023-02-06T19:44:02.386Z"
   },
   {
    "duration": 13,
    "start_time": "2023-02-06T19:44:02.408Z"
   },
   {
    "duration": 15,
    "start_time": "2023-02-06T19:44:02.423Z"
   },
   {
    "duration": 171,
    "start_time": "2023-02-06T19:44:02.439Z"
   },
   {
    "duration": 6,
    "start_time": "2023-02-06T19:44:02.612Z"
   },
   {
    "duration": 22,
    "start_time": "2023-02-06T19:44:02.620Z"
   },
   {
    "duration": 17,
    "start_time": "2023-02-06T19:44:02.643Z"
   },
   {
    "duration": 50,
    "start_time": "2023-02-06T19:44:02.662Z"
   },
   {
    "duration": 11394,
    "start_time": "2023-02-06T19:44:02.714Z"
   },
   {
    "duration": 3655,
    "start_time": "2023-02-06T19:44:14.110Z"
   },
   {
    "duration": 0,
    "start_time": "2023-02-06T19:44:17.767Z"
   },
   {
    "duration": 0,
    "start_time": "2023-02-06T19:44:17.768Z"
   },
   {
    "duration": 27,
    "start_time": "2023-02-06T19:44:28.138Z"
   },
   {
    "duration": 34,
    "start_time": "2023-02-06T19:44:44.716Z"
   },
   {
    "duration": 44,
    "start_time": "2023-02-06T19:45:13.773Z"
   },
   {
    "duration": 2240,
    "start_time": "2023-02-06T19:45:45.974Z"
   },
   {
    "duration": 5,
    "start_time": "2023-02-06T19:45:48.216Z"
   },
   {
    "duration": 219,
    "start_time": "2023-02-06T19:45:48.222Z"
   },
   {
    "duration": 3,
    "start_time": "2023-02-06T19:45:48.444Z"
   },
   {
    "duration": 28,
    "start_time": "2023-02-06T19:45:48.448Z"
   },
   {
    "duration": 48,
    "start_time": "2023-02-06T19:45:48.477Z"
   },
   {
    "duration": 36,
    "start_time": "2023-02-06T19:45:48.526Z"
   },
   {
    "duration": 16,
    "start_time": "2023-02-06T19:45:48.564Z"
   },
   {
    "duration": 130,
    "start_time": "2023-02-06T19:45:48.581Z"
   },
   {
    "duration": 106,
    "start_time": "2023-02-06T19:45:48.714Z"
   },
   {
    "duration": 25,
    "start_time": "2023-02-06T19:45:48.822Z"
   },
   {
    "duration": 105,
    "start_time": "2023-02-06T19:45:48.849Z"
   },
   {
    "duration": 41500,
    "start_time": "2023-02-06T19:45:48.955Z"
   },
   {
    "duration": 270,
    "start_time": "2023-02-06T19:46:30.457Z"
   },
   {
    "duration": 20,
    "start_time": "2023-02-06T19:46:30.729Z"
   },
   {
    "duration": 38,
    "start_time": "2023-02-06T19:46:30.804Z"
   },
   {
    "duration": 73,
    "start_time": "2023-02-06T19:46:30.844Z"
   },
   {
    "duration": 22,
    "start_time": "2023-02-06T19:46:30.918Z"
   },
   {
    "duration": 34,
    "start_time": "2023-02-06T19:46:30.942Z"
   },
   {
    "duration": 26,
    "start_time": "2023-02-06T19:46:30.977Z"
   },
   {
    "duration": 48,
    "start_time": "2023-02-06T19:46:31.004Z"
   },
   {
    "duration": 7,
    "start_time": "2023-02-06T19:46:31.054Z"
   },
   {
    "duration": 53,
    "start_time": "2023-02-06T19:46:31.063Z"
   },
   {
    "duration": 23,
    "start_time": "2023-02-06T19:46:31.118Z"
   },
   {
    "duration": 7,
    "start_time": "2023-02-06T19:46:31.143Z"
   },
   {
    "duration": 35,
    "start_time": "2023-02-06T19:46:47.947Z"
   },
   {
    "duration": 26,
    "start_time": "2023-02-06T19:46:56.477Z"
   },
   {
    "duration": 41,
    "start_time": "2023-02-06T19:46:58.974Z"
   },
   {
    "duration": 4,
    "start_time": "2023-02-06T19:47:45.692Z"
   },
   {
    "duration": 24,
    "start_time": "2023-02-06T19:47:46.870Z"
   },
   {
    "duration": 45,
    "start_time": "2023-02-06T19:47:48.573Z"
   },
   {
    "duration": 10,
    "start_time": "2023-02-06T19:48:56.040Z"
   },
   {
    "duration": 6,
    "start_time": "2023-02-06T19:48:56.289Z"
   },
   {
    "duration": 3,
    "start_time": "2023-02-06T19:48:56.605Z"
   },
   {
    "duration": 164,
    "start_time": "2023-02-06T19:48:56.847Z"
   },
   {
    "duration": 6,
    "start_time": "2023-02-06T19:48:57.351Z"
   },
   {
    "duration": 9,
    "start_time": "2023-02-06T19:48:57.753Z"
   },
   {
    "duration": 18,
    "start_time": "2023-02-06T19:48:57.987Z"
   },
   {
    "duration": 33,
    "start_time": "2023-02-06T19:48:58.766Z"
   },
   {
    "duration": 13431,
    "start_time": "2023-02-06T19:49:00.381Z"
   },
   {
    "duration": 42631,
    "start_time": "2023-02-06T19:49:13.905Z"
   },
   {
    "duration": 551,
    "start_time": "2023-02-06T19:49:56.538Z"
   },
   {
    "duration": 67221,
    "start_time": "2023-02-06T20:09:11.705Z"
   },
   {
    "duration": 136515,
    "start_time": "2023-02-06T20:10:32.498Z"
   },
   {
    "duration": 570,
    "start_time": "2023-02-06T20:12:59.438Z"
   },
   {
    "duration": 7,
    "start_time": "2023-02-06T20:13:49.519Z"
   },
   {
    "duration": 5,
    "start_time": "2023-02-06T20:14:07.088Z"
   },
   {
    "duration": 7,
    "start_time": "2023-02-06T20:14:15.073Z"
   },
   {
    "duration": 698,
    "start_time": "2023-02-06T20:14:15.509Z"
   },
   {
    "duration": 13053,
    "start_time": "2023-02-06T20:15:05.742Z"
   },
   {
    "duration": 5,
    "start_time": "2023-02-06T20:16:16.893Z"
   },
   {
    "duration": 25,
    "start_time": "2023-02-06T20:16:17.439Z"
   },
   {
    "duration": 6,
    "start_time": "2023-02-06T20:16:31.019Z"
   },
   {
    "duration": 5,
    "start_time": "2023-02-06T20:16:31.312Z"
   },
   {
    "duration": 40,
    "start_time": "2023-02-06T20:16:31.479Z"
   },
   {
    "duration": 2195,
    "start_time": "2023-02-06T20:17:17.505Z"
   },
   {
    "duration": 4,
    "start_time": "2023-02-06T20:17:19.702Z"
   },
   {
    "duration": 176,
    "start_time": "2023-02-06T20:17:19.708Z"
   },
   {
    "duration": 2,
    "start_time": "2023-02-06T20:17:19.887Z"
   },
   {
    "duration": 25,
    "start_time": "2023-02-06T20:17:19.890Z"
   },
   {
    "duration": 19,
    "start_time": "2023-02-06T20:17:19.917Z"
   },
   {
    "duration": 29,
    "start_time": "2023-02-06T20:17:19.937Z"
   },
   {
    "duration": 15,
    "start_time": "2023-02-06T20:17:19.968Z"
   },
   {
    "duration": 164,
    "start_time": "2023-02-06T20:17:19.985Z"
   },
   {
    "duration": 100,
    "start_time": "2023-02-06T20:17:20.153Z"
   },
   {
    "duration": 24,
    "start_time": "2023-02-06T20:17:20.255Z"
   },
   {
    "duration": 95,
    "start_time": "2023-02-06T20:17:20.281Z"
   },
   {
    "duration": 39967,
    "start_time": "2023-02-06T20:17:20.378Z"
   },
   {
    "duration": 265,
    "start_time": "2023-02-06T20:18:00.347Z"
   },
   {
    "duration": 21,
    "start_time": "2023-02-06T20:18:00.614Z"
   },
   {
    "duration": 97,
    "start_time": "2023-02-06T20:18:00.637Z"
   },
   {
    "duration": 25,
    "start_time": "2023-02-06T20:18:00.736Z"
   },
   {
    "duration": 41,
    "start_time": "2023-02-06T20:18:00.763Z"
   },
   {
    "duration": 20,
    "start_time": "2023-02-06T20:18:00.806Z"
   },
   {
    "duration": 18,
    "start_time": "2023-02-06T20:18:00.828Z"
   },
   {
    "duration": 46,
    "start_time": "2023-02-06T20:18:00.848Z"
   },
   {
    "duration": 18,
    "start_time": "2023-02-06T20:18:00.896Z"
   },
   {
    "duration": 48,
    "start_time": "2023-02-06T20:18:00.916Z"
   },
   {
    "duration": 59,
    "start_time": "2023-02-06T20:18:00.966Z"
   },
   {
    "duration": 210,
    "start_time": "2023-02-06T20:18:01.027Z"
   },
   {
    "duration": 6,
    "start_time": "2023-02-06T20:18:01.238Z"
   },
   {
    "duration": 29,
    "start_time": "2023-02-06T20:18:01.246Z"
   },
   {
    "duration": 29,
    "start_time": "2023-02-06T20:18:01.278Z"
   },
   {
    "duration": 75,
    "start_time": "2023-02-06T20:18:01.309Z"
   },
   {
    "duration": 4422,
    "start_time": "2023-02-06T20:18:01.386Z"
   },
   {
    "duration": 41867,
    "start_time": "2023-02-06T20:18:05.809Z"
   },
   {
    "duration": 505,
    "start_time": "2023-02-06T20:18:47.677Z"
   },
   {
    "duration": 154721,
    "start_time": "2023-02-06T20:18:48.184Z"
   },
   {
    "duration": 1002,
    "start_time": "2023-02-06T20:21:22.907Z"
   },
   {
    "duration": 993,
    "start_time": "2023-02-06T20:21:23.911Z"
   },
   {
    "duration": 16973,
    "start_time": "2023-02-06T20:21:24.905Z"
   },
   {
    "duration": 7223,
    "start_time": "2023-02-06T20:22:51.186Z"
   },
   {
    "duration": 554,
    "start_time": "2023-02-06T20:30:01.629Z"
   },
   {
    "duration": 5,
    "start_time": "2023-02-06T20:30:14.798Z"
   },
   {
    "duration": 5,
    "start_time": "2023-02-06T20:30:23.716Z"
   },
   {
    "duration": 24,
    "start_time": "2023-02-06T20:32:26.150Z"
   },
   {
    "duration": 1106,
    "start_time": "2023-02-06T20:35:54.415Z"
   },
   {
    "duration": 4,
    "start_time": "2023-02-06T20:35:57.029Z"
   },
   {
    "duration": 55,
    "start_time": "2023-02-06T20:47:21.700Z"
   },
   {
    "duration": 4,
    "start_time": "2023-02-06T20:48:55.394Z"
   },
   {
    "duration": 8,
    "start_time": "2023-02-06T20:54:53.557Z"
   },
   {
    "duration": 8,
    "start_time": "2023-02-06T20:55:00.405Z"
   },
   {
    "duration": 11,
    "start_time": "2023-02-06T20:55:11.246Z"
   },
   {
    "duration": 12,
    "start_time": "2023-02-06T20:56:14.249Z"
   },
   {
    "duration": 11,
    "start_time": "2023-02-06T20:57:14.438Z"
   },
   {
    "duration": 11,
    "start_time": "2023-02-06T20:58:46.304Z"
   },
   {
    "duration": 8,
    "start_time": "2023-02-06T21:01:02.322Z"
   },
   {
    "duration": 2264,
    "start_time": "2023-02-06T21:01:11.633Z"
   },
   {
    "duration": 8,
    "start_time": "2023-02-06T21:01:13.900Z"
   },
   {
    "duration": 242,
    "start_time": "2023-02-06T21:01:13.910Z"
   },
   {
    "duration": 3,
    "start_time": "2023-02-06T21:01:14.155Z"
   },
   {
    "duration": 32,
    "start_time": "2023-02-06T21:01:14.160Z"
   },
   {
    "duration": 24,
    "start_time": "2023-02-06T21:01:14.202Z"
   },
   {
    "duration": 26,
    "start_time": "2023-02-06T21:01:14.229Z"
   },
   {
    "duration": 17,
    "start_time": "2023-02-06T21:01:14.257Z"
   },
   {
    "duration": 149,
    "start_time": "2023-02-06T21:01:14.275Z"
   },
   {
    "duration": 106,
    "start_time": "2023-02-06T21:01:14.427Z"
   },
   {
    "duration": 26,
    "start_time": "2023-02-06T21:01:14.535Z"
   },
   {
    "duration": 98,
    "start_time": "2023-02-06T21:01:14.563Z"
   },
   {
    "duration": 42122,
    "start_time": "2023-02-06T21:01:14.662Z"
   },
   {
    "duration": 253,
    "start_time": "2023-02-06T21:01:56.787Z"
   },
   {
    "duration": 75,
    "start_time": "2023-02-06T21:01:57.042Z"
   },
   {
    "duration": 90,
    "start_time": "2023-02-06T21:01:57.119Z"
   },
   {
    "duration": 37,
    "start_time": "2023-02-06T21:01:57.212Z"
   },
   {
    "duration": 18,
    "start_time": "2023-02-06T21:01:57.252Z"
   },
   {
    "duration": 35,
    "start_time": "2023-02-06T21:01:57.273Z"
   },
   {
    "duration": 11,
    "start_time": "2023-02-06T21:01:57.310Z"
   },
   {
    "duration": 22,
    "start_time": "2023-02-06T21:01:57.323Z"
   },
   {
    "duration": 4,
    "start_time": "2023-02-06T21:01:57.347Z"
   },
   {
    "duration": 51,
    "start_time": "2023-02-06T21:01:57.352Z"
   },
   {
    "duration": 3,
    "start_time": "2023-02-06T21:01:57.406Z"
   },
   {
    "duration": 29,
    "start_time": "2023-02-06T21:01:57.411Z"
   },
   {
    "duration": 1057,
    "start_time": "2023-02-06T21:01:57.442Z"
   },
   {
    "duration": 5,
    "start_time": "2023-02-06T21:01:58.500Z"
   },
   {
    "duration": 12,
    "start_time": "2023-02-06T21:01:58.508Z"
   },
   {
    "duration": 6,
    "start_time": "2023-02-06T21:01:58.521Z"
   },
   {
    "duration": 5,
    "start_time": "2023-02-06T21:01:58.528Z"
   },
   {
    "duration": 185,
    "start_time": "2023-02-06T21:01:58.534Z"
   },
   {
    "duration": 5,
    "start_time": "2023-02-06T21:01:58.720Z"
   },
   {
    "duration": 20,
    "start_time": "2023-02-06T21:01:58.727Z"
   },
   {
    "duration": 9,
    "start_time": "2023-02-06T21:01:58.749Z"
   },
   {
    "duration": 48,
    "start_time": "2023-02-06T21:01:58.759Z"
   },
   {
    "duration": 4893,
    "start_time": "2023-02-06T21:01:58.809Z"
   },
   {
    "duration": 4,
    "start_time": "2023-02-06T21:05:26.359Z"
   },
   {
    "duration": 192,
    "start_time": "2023-02-06T21:05:26.365Z"
   },
   {
    "duration": 2,
    "start_time": "2023-02-06T21:05:26.559Z"
   },
   {
    "duration": 24,
    "start_time": "2023-02-06T21:05:26.563Z"
   },
   {
    "duration": 20,
    "start_time": "2023-02-06T21:05:26.588Z"
   },
   {
    "duration": 23,
    "start_time": "2023-02-06T21:05:26.610Z"
   },
   {
    "duration": 16,
    "start_time": "2023-02-06T21:05:26.635Z"
   },
   {
    "duration": 129,
    "start_time": "2023-02-06T21:05:26.653Z"
   },
   {
    "duration": 98,
    "start_time": "2023-02-06T21:05:26.784Z"
   },
   {
    "duration": 26,
    "start_time": "2023-02-06T21:05:26.884Z"
   },
   {
    "duration": 91,
    "start_time": "2023-02-06T21:05:26.912Z"
   },
   {
    "duration": 239,
    "start_time": "2023-02-06T21:05:46.504Z"
   },
   {
    "duration": 78,
    "start_time": "2023-02-06T21:05:46.745Z"
   },
   {
    "duration": 92,
    "start_time": "2023-02-06T21:05:46.825Z"
   },
   {
    "duration": 28,
    "start_time": "2023-02-06T21:05:46.918Z"
   },
   {
    "duration": 67,
    "start_time": "2023-02-06T21:05:46.948Z"
   },
   {
    "duration": 10,
    "start_time": "2023-02-06T21:05:47.016Z"
   },
   {
    "duration": 11,
    "start_time": "2023-02-06T21:05:47.028Z"
   },
   {
    "duration": 76,
    "start_time": "2023-02-06T21:05:47.040Z"
   },
   {
    "duration": 4,
    "start_time": "2023-02-06T21:05:47.118Z"
   },
   {
    "duration": 80,
    "start_time": "2023-02-06T21:05:47.124Z"
   },
   {
    "duration": 4,
    "start_time": "2023-02-06T21:05:47.206Z"
   },
   {
    "duration": 40,
    "start_time": "2023-02-06T21:05:47.212Z"
   },
   {
    "duration": 2111,
    "start_time": "2023-02-06T21:05:47.304Z"
   },
   {
    "duration": 4,
    "start_time": "2023-02-06T21:05:49.417Z"
   },
   {
    "duration": 16,
    "start_time": "2023-02-06T21:05:49.423Z"
   },
   {
    "duration": 5,
    "start_time": "2023-02-06T21:05:49.443Z"
   },
   {
    "duration": 2,
    "start_time": "2023-02-06T21:05:49.504Z"
   },
   {
    "duration": 319,
    "start_time": "2023-02-06T21:05:49.508Z"
   },
   {
    "duration": 5,
    "start_time": "2023-02-06T21:05:49.829Z"
   },
   {
    "duration": 68,
    "start_time": "2023-02-06T21:05:49.835Z"
   },
   {
    "duration": 6,
    "start_time": "2023-02-06T21:05:49.905Z"
   },
   {
    "duration": 97,
    "start_time": "2023-02-06T21:05:49.913Z"
   },
   {
    "duration": 4892,
    "start_time": "2023-02-06T21:05:50.012Z"
   },
   {
    "duration": 42285,
    "start_time": "2023-02-06T21:05:54.906Z"
   },
   {
    "duration": 529,
    "start_time": "2023-02-06T21:06:37.193Z"
   },
   {
    "duration": 156781,
    "start_time": "2023-02-06T21:06:37.723Z"
   },
   {
    "duration": 906,
    "start_time": "2023-02-06T21:09:14.506Z"
   },
   {
    "duration": 2094,
    "start_time": "2023-02-06T21:09:17.668Z"
   },
   {
    "duration": 14866,
    "start_time": "2023-02-07T18:52:45.400Z"
   },
   {
    "duration": 2209,
    "start_time": "2023-02-07T18:53:00.269Z"
   },
   {
    "duration": 790,
    "start_time": "2023-02-07T18:53:02.480Z"
   },
   {
    "duration": 3,
    "start_time": "2023-02-07T18:53:03.272Z"
   },
   {
    "duration": 29,
    "start_time": "2023-02-07T18:53:03.276Z"
   },
   {
    "duration": 19,
    "start_time": "2023-02-07T18:53:03.307Z"
   },
   {
    "duration": 35,
    "start_time": "2023-02-07T18:53:03.328Z"
   },
   {
    "duration": 22,
    "start_time": "2023-02-07T18:53:03.364Z"
   },
   {
    "duration": 153,
    "start_time": "2023-02-07T18:53:03.387Z"
   },
   {
    "duration": 113,
    "start_time": "2023-02-07T18:53:03.545Z"
   },
   {
    "duration": 38,
    "start_time": "2023-02-07T18:53:03.660Z"
   },
   {
    "duration": 112,
    "start_time": "2023-02-07T18:53:03.700Z"
   },
   {
    "duration": 18,
    "start_time": "2023-02-07T18:53:03.815Z"
   },
   {
    "duration": 158,
    "start_time": "2023-02-07T18:53:03.843Z"
   },
   {
    "duration": 36143,
    "start_time": "2023-02-07T18:53:04.003Z"
   },
   {
    "duration": 297,
    "start_time": "2023-02-07T18:53:40.147Z"
   },
   {
    "duration": 21,
    "start_time": "2023-02-07T18:53:40.446Z"
   },
   {
    "duration": 86,
    "start_time": "2023-02-07T18:53:40.469Z"
   },
   {
    "duration": 29,
    "start_time": "2023-02-07T18:53:40.556Z"
   },
   {
    "duration": 18,
    "start_time": "2023-02-07T18:53:40.643Z"
   },
   {
    "duration": 9,
    "start_time": "2023-02-07T18:53:40.664Z"
   },
   {
    "duration": 10,
    "start_time": "2023-02-07T18:53:40.675Z"
   },
   {
    "duration": 76,
    "start_time": "2023-02-07T18:53:40.686Z"
   },
   {
    "duration": 3,
    "start_time": "2023-02-07T18:53:40.764Z"
   },
   {
    "duration": 78,
    "start_time": "2023-02-07T18:53:40.769Z"
   },
   {
    "duration": 3,
    "start_time": "2023-02-07T18:53:40.849Z"
   },
   {
    "duration": 38,
    "start_time": "2023-02-07T18:53:40.854Z"
   },
   {
    "duration": 1582,
    "start_time": "2023-02-07T18:53:40.944Z"
   },
   {
    "duration": 4,
    "start_time": "2023-02-07T18:53:42.528Z"
   },
   {
    "duration": 15,
    "start_time": "2023-02-07T18:53:42.534Z"
   },
   {
    "duration": 26,
    "start_time": "2023-02-07T18:53:42.551Z"
   },
   {
    "duration": 186,
    "start_time": "2023-02-07T18:53:42.579Z"
   },
   {
    "duration": 6,
    "start_time": "2023-02-07T18:53:42.767Z"
   },
   {
    "duration": 15,
    "start_time": "2023-02-07T18:53:42.774Z"
   },
   {
    "duration": 5,
    "start_time": "2023-02-07T18:53:42.791Z"
   },
   {
    "duration": 73,
    "start_time": "2023-02-07T18:53:42.798Z"
   },
   {
    "duration": 6278,
    "start_time": "2023-02-07T18:53:42.873Z"
   },
   {
    "duration": 40907,
    "start_time": "2023-02-07T18:53:49.154Z"
   },
   {
    "duration": 553,
    "start_time": "2023-02-07T18:54:30.063Z"
   },
   {
    "duration": 189526,
    "start_time": "2023-02-07T18:54:30.618Z"
   },
   {
    "duration": 1901,
    "start_time": "2023-02-07T18:57:40.150Z"
   },
   {
    "duration": 1629,
    "start_time": "2023-02-07T20:05:49.851Z"
   },
   {
    "duration": 1578,
    "start_time": "2023-02-07T20:06:05.723Z"
   },
   {
    "duration": 1587,
    "start_time": "2023-02-07T20:07:21.338Z"
   },
   {
    "duration": 1560,
    "start_time": "2023-02-07T20:07:32.260Z"
   },
   {
    "duration": 350,
    "start_time": "2023-02-07T20:10:46.566Z"
   },
   {
    "duration": 394,
    "start_time": "2023-02-07T20:10:54.925Z"
   },
   {
    "duration": 359,
    "start_time": "2023-02-07T20:11:04.121Z"
   },
   {
    "duration": 156,
    "start_time": "2023-02-07T20:13:41.207Z"
   },
   {
    "duration": 18,
    "start_time": "2023-02-07T20:13:48.695Z"
   },
   {
    "duration": 9,
    "start_time": "2023-02-07T20:14:43.752Z"
   },
   {
    "duration": 1113,
    "start_time": "2023-02-07T20:16:39.962Z"
   },
   {
    "duration": 8,
    "start_time": "2023-02-07T20:17:15.537Z"
   },
   {
    "duration": 11,
    "start_time": "2023-02-07T20:19:10.530Z"
   },
   {
    "duration": 8,
    "start_time": "2023-02-07T20:19:18.661Z"
   },
   {
    "duration": 5,
    "start_time": "2023-02-07T20:19:29.764Z"
   },
   {
    "duration": 13,
    "start_time": "2023-02-07T20:20:39.170Z"
   },
   {
    "duration": 13,
    "start_time": "2023-02-07T20:21:22.777Z"
   },
   {
    "duration": 5,
    "start_time": "2023-02-07T20:26:17.401Z"
   },
   {
    "duration": 2422,
    "start_time": "2023-02-07T20:26:23.407Z"
   },
   {
    "duration": 4,
    "start_time": "2023-02-07T20:26:25.832Z"
   },
   {
    "duration": 218,
    "start_time": "2023-02-07T20:26:25.838Z"
   },
   {
    "duration": 3,
    "start_time": "2023-02-07T20:26:26.058Z"
   },
   {
    "duration": 26,
    "start_time": "2023-02-07T20:26:26.062Z"
   },
   {
    "duration": 20,
    "start_time": "2023-02-07T20:26:26.090Z"
   },
   {
    "duration": 36,
    "start_time": "2023-02-07T20:26:26.112Z"
   },
   {
    "duration": 17,
    "start_time": "2023-02-07T20:26:26.150Z"
   },
   {
    "duration": 141,
    "start_time": "2023-02-07T20:26:26.169Z"
   },
   {
    "duration": 95,
    "start_time": "2023-02-07T20:26:26.312Z"
   },
   {
    "duration": 36,
    "start_time": "2023-02-07T20:26:26.408Z"
   },
   {
    "duration": 81,
    "start_time": "2023-02-07T20:26:26.445Z"
   },
   {
    "duration": 22,
    "start_time": "2023-02-07T20:26:26.528Z"
   },
   {
    "duration": 125,
    "start_time": "2023-02-07T20:26:26.552Z"
   },
   {
    "duration": 35414,
    "start_time": "2023-02-07T20:26:26.679Z"
   },
   {
    "duration": 274,
    "start_time": "2023-02-07T20:27:02.096Z"
   },
   {
    "duration": 21,
    "start_time": "2023-02-07T20:27:02.371Z"
   },
   {
    "duration": 89,
    "start_time": "2023-02-07T20:27:02.394Z"
   },
   {
    "duration": 29,
    "start_time": "2023-02-07T20:27:02.485Z"
   },
   {
    "duration": 26,
    "start_time": "2023-02-07T20:27:02.515Z"
   },
   {
    "duration": 36,
    "start_time": "2023-02-07T20:27:02.544Z"
   },
   {
    "duration": 11,
    "start_time": "2023-02-07T20:27:02.582Z"
   },
   {
    "duration": 414,
    "start_time": "2023-02-07T20:27:02.595Z"
   },
   {
    "duration": 10,
    "start_time": "2023-02-07T20:27:03.011Z"
   },
   {
    "duration": 28,
    "start_time": "2023-02-07T20:27:03.023Z"
   },
   {
    "duration": 23,
    "start_time": "2023-02-07T20:27:03.056Z"
   },
   {
    "duration": 9,
    "start_time": "2023-02-07T20:27:03.081Z"
   },
   {
    "duration": 13,
    "start_time": "2023-02-07T20:27:03.092Z"
   },
   {
    "duration": 7,
    "start_time": "2023-02-07T20:27:11.995Z"
   },
   {
    "duration": 20,
    "start_time": "2023-02-07T20:28:14.738Z"
   },
   {
    "duration": 11,
    "start_time": "2023-02-07T20:28:20.577Z"
   },
   {
    "duration": 23,
    "start_time": "2023-02-07T20:28:37.228Z"
   },
   {
    "duration": 11,
    "start_time": "2023-02-07T20:30:31.939Z"
   },
   {
    "duration": 11,
    "start_time": "2023-02-07T20:30:36.860Z"
   },
   {
    "duration": 24,
    "start_time": "2023-02-07T20:30:45.450Z"
   },
   {
    "duration": 34160,
    "start_time": "2023-02-07T20:31:09.409Z"
   },
   {
    "duration": 55,
    "start_time": "2023-02-07T20:31:43.598Z"
   },
   {
    "duration": 32331,
    "start_time": "2023-02-07T20:32:03.620Z"
   },
   {
    "duration": 24,
    "start_time": "2023-02-07T20:32:35.953Z"
   },
   {
    "duration": 33427,
    "start_time": "2023-02-07T20:32:59.134Z"
   },
   {
    "duration": 6,
    "start_time": "2023-02-07T20:33:32.563Z"
   },
   {
    "duration": 34143,
    "start_time": "2023-02-07T20:34:37.256Z"
   },
   {
    "duration": 7,
    "start_time": "2023-02-07T20:35:11.401Z"
   },
   {
    "duration": 39118,
    "start_time": "2023-02-07T20:35:51.538Z"
   },
   {
    "duration": 8,
    "start_time": "2023-02-07T20:39:28.850Z"
   },
   {
    "duration": 6,
    "start_time": "2023-02-07T20:45:15.981Z"
   },
   {
    "duration": 248,
    "start_time": "2023-02-07T20:47:26.620Z"
   },
   {
    "duration": 6485,
    "start_time": "2023-02-07T20:48:20.964Z"
   },
   {
    "duration": 5210,
    "start_time": "2023-02-07T20:49:07.241Z"
   },
   {
    "duration": 2306,
    "start_time": "2023-02-07T20:57:41.187Z"
   },
   {
    "duration": 5,
    "start_time": "2023-02-07T20:57:43.495Z"
   },
   {
    "duration": 212,
    "start_time": "2023-02-07T20:57:43.501Z"
   },
   {
    "duration": 3,
    "start_time": "2023-02-07T20:57:43.715Z"
   },
   {
    "duration": 19,
    "start_time": "2023-02-07T20:57:43.720Z"
   },
   {
    "duration": 16,
    "start_time": "2023-02-07T20:57:43.740Z"
   },
   {
    "duration": 25,
    "start_time": "2023-02-07T20:57:43.757Z"
   },
   {
    "duration": 16,
    "start_time": "2023-02-07T20:57:43.784Z"
   },
   {
    "duration": 140,
    "start_time": "2023-02-07T20:57:43.801Z"
   },
   {
    "duration": 89,
    "start_time": "2023-02-07T20:57:43.944Z"
   },
   {
    "duration": 35,
    "start_time": "2023-02-07T20:57:44.035Z"
   },
   {
    "duration": 97,
    "start_time": "2023-02-07T20:57:44.072Z"
   },
   {
    "duration": 16,
    "start_time": "2023-02-07T20:57:44.170Z"
   },
   {
    "duration": 121,
    "start_time": "2023-02-07T20:57:44.188Z"
   },
   {
    "duration": 33724,
    "start_time": "2023-02-07T20:57:44.310Z"
   },
   {
    "duration": 228,
    "start_time": "2023-02-07T20:58:18.036Z"
   },
   {
    "duration": 18,
    "start_time": "2023-02-07T20:58:18.265Z"
   },
   {
    "duration": 83,
    "start_time": "2023-02-07T20:58:18.285Z"
   },
   {
    "duration": 27,
    "start_time": "2023-02-07T20:58:18.369Z"
   },
   {
    "duration": 11,
    "start_time": "2023-02-07T20:58:18.397Z"
   },
   {
    "duration": 42,
    "start_time": "2023-02-07T20:58:18.409Z"
   },
   {
    "duration": 9,
    "start_time": "2023-02-07T20:58:18.453Z"
   },
   {
    "duration": 371,
    "start_time": "2023-02-07T20:58:18.464Z"
   },
   {
    "duration": 11,
    "start_time": "2023-02-07T20:58:18.836Z"
   },
   {
    "duration": 12,
    "start_time": "2023-02-07T20:58:18.848Z"
   },
   {
    "duration": 13,
    "start_time": "2023-02-07T20:58:18.862Z"
   },
   {
    "duration": 8,
    "start_time": "2023-02-07T20:58:18.877Z"
   },
   {
    "duration": 7,
    "start_time": "2023-02-07T20:58:18.890Z"
   },
   {
    "duration": 55,
    "start_time": "2023-02-07T20:58:18.899Z"
   },
   {
    "duration": 33243,
    "start_time": "2023-02-07T20:58:18.956Z"
   },
   {
    "duration": 38072,
    "start_time": "2023-02-07T20:58:52.200Z"
   },
   {
    "duration": 7,
    "start_time": "2023-02-07T20:59:30.273Z"
   },
   {
    "duration": 46,
    "start_time": "2023-02-07T20:59:30.281Z"
   },
   {
    "duration": 38,
    "start_time": "2023-02-07T20:59:30.328Z"
   },
   {
    "duration": 10,
    "start_time": "2023-02-07T20:59:30.367Z"
   },
   {
    "duration": 55,
    "start_time": "2023-02-07T20:59:30.379Z"
   },
   {
    "duration": 3,
    "start_time": "2023-02-07T20:59:30.436Z"
   },
   {
    "duration": 51,
    "start_time": "2023-02-07T20:59:30.440Z"
   },
   {
    "duration": 1045,
    "start_time": "2023-02-07T20:59:30.493Z"
   },
   {
    "duration": 5,
    "start_time": "2023-02-07T20:59:31.540Z"
   },
   {
    "duration": 12,
    "start_time": "2023-02-07T20:59:31.546Z"
   },
   {
    "duration": 6,
    "start_time": "2023-02-07T20:59:31.560Z"
   },
   {
    "duration": 11,
    "start_time": "2023-02-07T20:59:31.568Z"
   },
   {
    "duration": 178,
    "start_time": "2023-02-07T20:59:31.580Z"
   },
   {
    "duration": 5,
    "start_time": "2023-02-07T20:59:31.760Z"
   },
   {
    "duration": 10,
    "start_time": "2023-02-07T20:59:31.766Z"
   },
   {
    "duration": 5,
    "start_time": "2023-02-07T20:59:31.778Z"
   },
   {
    "duration": 61,
    "start_time": "2023-02-07T20:59:31.784Z"
   },
   {
    "duration": 0,
    "start_time": "2023-02-07T20:59:31.846Z"
   },
   {
    "duration": 0,
    "start_time": "2023-02-07T20:59:31.848Z"
   },
   {
    "duration": 0,
    "start_time": "2023-02-07T20:59:31.849Z"
   },
   {
    "duration": 0,
    "start_time": "2023-02-07T20:59:31.850Z"
   },
   {
    "duration": 0,
    "start_time": "2023-02-07T20:59:31.851Z"
   },
   {
    "duration": 37,
    "start_time": "2023-02-07T21:01:57.962Z"
   },
   {
    "duration": 2431,
    "start_time": "2023-02-07T21:02:43.932Z"
   },
   {
    "duration": 5,
    "start_time": "2023-02-07T21:02:46.365Z"
   },
   {
    "duration": 218,
    "start_time": "2023-02-07T21:02:46.371Z"
   },
   {
    "duration": 2,
    "start_time": "2023-02-07T21:02:46.591Z"
   },
   {
    "duration": 27,
    "start_time": "2023-02-07T21:02:46.595Z"
   },
   {
    "duration": 20,
    "start_time": "2023-02-07T21:02:46.624Z"
   },
   {
    "duration": 26,
    "start_time": "2023-02-07T21:02:46.646Z"
   },
   {
    "duration": 17,
    "start_time": "2023-02-07T21:02:46.674Z"
   },
   {
    "duration": 145,
    "start_time": "2023-02-07T21:02:46.693Z"
   },
   {
    "duration": 89,
    "start_time": "2023-02-07T21:02:46.843Z"
   },
   {
    "duration": 38,
    "start_time": "2023-02-07T21:02:46.934Z"
   },
   {
    "duration": 101,
    "start_time": "2023-02-07T21:02:46.974Z"
   },
   {
    "duration": 13,
    "start_time": "2023-02-07T21:02:47.077Z"
   },
   {
    "duration": 134,
    "start_time": "2023-02-07T21:02:47.092Z"
   },
   {
    "duration": 35451,
    "start_time": "2023-02-07T21:02:47.228Z"
   },
   {
    "duration": 283,
    "start_time": "2023-02-07T21:03:22.681Z"
   },
   {
    "duration": 21,
    "start_time": "2023-02-07T21:03:22.966Z"
   },
   {
    "duration": 88,
    "start_time": "2023-02-07T21:03:22.989Z"
   },
   {
    "duration": 25,
    "start_time": "2023-02-07T21:03:23.079Z"
   },
   {
    "duration": 41,
    "start_time": "2023-02-07T21:03:23.105Z"
   },
   {
    "duration": 11,
    "start_time": "2023-02-07T21:03:23.147Z"
   },
   {
    "duration": 10,
    "start_time": "2023-02-07T21:03:23.159Z"
   },
   {
    "duration": 382,
    "start_time": "2023-02-07T21:03:23.171Z"
   },
   {
    "duration": 12,
    "start_time": "2023-02-07T21:03:23.554Z"
   },
   {
    "duration": 12,
    "start_time": "2023-02-07T21:03:23.567Z"
   },
   {
    "duration": 13,
    "start_time": "2023-02-07T21:03:23.581Z"
   },
   {
    "duration": 8,
    "start_time": "2023-02-07T21:03:23.596Z"
   },
   {
    "duration": 37,
    "start_time": "2023-02-07T21:03:23.607Z"
   },
   {
    "duration": 30,
    "start_time": "2023-02-07T21:03:23.646Z"
   },
   {
    "duration": 37369,
    "start_time": "2023-02-07T21:03:23.678Z"
   },
   {
    "duration": 27510,
    "start_time": "2023-02-07T21:04:01.049Z"
   },
   {
    "duration": 0,
    "start_time": "2023-02-07T21:04:28.561Z"
   },
   {
    "duration": 0,
    "start_time": "2023-02-07T21:04:28.563Z"
   },
   {
    "duration": 0,
    "start_time": "2023-02-07T21:04:28.565Z"
   },
   {
    "duration": 0,
    "start_time": "2023-02-07T21:04:28.566Z"
   },
   {
    "duration": 0,
    "start_time": "2023-02-07T21:04:28.567Z"
   },
   {
    "duration": 0,
    "start_time": "2023-02-07T21:04:28.569Z"
   },
   {
    "duration": 0,
    "start_time": "2023-02-07T21:04:28.570Z"
   },
   {
    "duration": 0,
    "start_time": "2023-02-07T21:04:28.572Z"
   },
   {
    "duration": 0,
    "start_time": "2023-02-07T21:04:28.573Z"
   },
   {
    "duration": 0,
    "start_time": "2023-02-07T21:04:28.574Z"
   },
   {
    "duration": 0,
    "start_time": "2023-02-07T21:04:28.576Z"
   },
   {
    "duration": 0,
    "start_time": "2023-02-07T21:04:28.577Z"
   },
   {
    "duration": 0,
    "start_time": "2023-02-07T21:04:28.579Z"
   },
   {
    "duration": 0,
    "start_time": "2023-02-07T21:04:28.580Z"
   },
   {
    "duration": 0,
    "start_time": "2023-02-07T21:04:28.581Z"
   },
   {
    "duration": 2365,
    "start_time": "2023-02-07T21:04:38.352Z"
   },
   {
    "duration": 5,
    "start_time": "2023-02-07T21:04:40.719Z"
   },
   {
    "duration": 203,
    "start_time": "2023-02-07T21:04:41.159Z"
   },
   {
    "duration": 3,
    "start_time": "2023-02-07T21:04:41.363Z"
   },
   {
    "duration": 19,
    "start_time": "2023-02-07T21:04:41.539Z"
   },
   {
    "duration": 23,
    "start_time": "2023-02-07T21:04:41.723Z"
   },
   {
    "duration": 28,
    "start_time": "2023-02-07T21:04:41.903Z"
   },
   {
    "duration": 17,
    "start_time": "2023-02-07T21:04:42.057Z"
   },
   {
    "duration": 124,
    "start_time": "2023-02-07T21:04:42.231Z"
   },
   {
    "duration": 90,
    "start_time": "2023-02-07T21:04:42.386Z"
   },
   {
    "duration": 29,
    "start_time": "2023-02-07T21:04:43.639Z"
   },
   {
    "duration": 80,
    "start_time": "2023-02-07T21:04:43.811Z"
   },
   {
    "duration": 13,
    "start_time": "2023-02-07T21:04:44.146Z"
   },
   {
    "duration": 123,
    "start_time": "2023-02-07T21:04:44.329Z"
   },
   {
    "duration": 34717,
    "start_time": "2023-02-07T21:04:45.017Z"
   },
   {
    "duration": 120,
    "start_time": "2023-02-07T21:05:26.526Z"
   },
   {
    "duration": 22,
    "start_time": "2023-02-07T21:05:27.223Z"
   },
   {
    "duration": 34,
    "start_time": "2023-02-07T21:05:27.861Z"
   },
   {
    "duration": 27,
    "start_time": "2023-02-07T21:05:28.689Z"
   },
   {
    "duration": 15,
    "start_time": "2023-02-07T21:05:29.232Z"
   },
   {
    "duration": 11,
    "start_time": "2023-02-07T21:05:29.422Z"
   },
   {
    "duration": 12,
    "start_time": "2023-02-07T21:05:29.617Z"
   },
   {
    "duration": 383,
    "start_time": "2023-02-07T21:05:29.784Z"
   },
   {
    "duration": 11,
    "start_time": "2023-02-07T21:05:30.169Z"
   },
   {
    "duration": 24,
    "start_time": "2023-02-07T21:05:30.181Z"
   },
   {
    "duration": 14,
    "start_time": "2023-02-07T21:05:30.278Z"
   },
   {
    "duration": 10,
    "start_time": "2023-02-07T21:05:30.403Z"
   },
   {
    "duration": 8,
    "start_time": "2023-02-07T21:05:30.579Z"
   },
   {
    "duration": 23,
    "start_time": "2023-02-07T21:05:30.905Z"
   },
   {
    "duration": 33806,
    "start_time": "2023-02-07T21:05:31.082Z"
   },
   {
    "duration": 39044,
    "start_time": "2023-02-07T21:06:04.891Z"
   },
   {
    "duration": 11,
    "start_time": "2023-02-07T21:06:43.936Z"
   },
   {
    "duration": 9,
    "start_time": "2023-02-07T21:06:43.949Z"
   },
   {
    "duration": 23,
    "start_time": "2023-02-07T21:06:54.240Z"
   },
   {
    "duration": 4,
    "start_time": "2023-02-07T21:06:54.406Z"
   },
   {
    "duration": 27,
    "start_time": "2023-02-07T21:06:54.577Z"
   },
   {
    "duration": 4,
    "start_time": "2023-02-07T21:06:54.747Z"
   },
   {
    "duration": 28,
    "start_time": "2023-02-07T21:06:54.905Z"
   },
   {
    "duration": 1042,
    "start_time": "2023-02-07T21:06:55.401Z"
   },
   {
    "duration": 5,
    "start_time": "2023-02-07T21:06:56.445Z"
   },
   {
    "duration": 9,
    "start_time": "2023-02-07T21:06:59.648Z"
   },
   {
    "duration": 6,
    "start_time": "2023-02-07T21:07:00.158Z"
   },
   {
    "duration": 3,
    "start_time": "2023-02-07T21:07:00.921Z"
   },
   {
    "duration": 164,
    "start_time": "2023-02-07T21:07:02.553Z"
   },
   {
    "duration": 5,
    "start_time": "2023-02-07T21:07:03.494Z"
   },
   {
    "duration": 9,
    "start_time": "2023-02-07T21:07:09.458Z"
   },
   {
    "duration": 6,
    "start_time": "2023-02-07T21:07:09.769Z"
   },
   {
    "duration": 43,
    "start_time": "2023-02-07T21:07:10.666Z"
   },
   {
    "duration": 5,
    "start_time": "2023-02-07T21:07:57.113Z"
   },
   {
    "duration": 5,
    "start_time": "2023-02-07T21:08:09.937Z"
   },
   {
    "duration": 7,
    "start_time": "2023-02-07T21:08:11.598Z"
   },
   {
    "duration": 6,
    "start_time": "2023-02-07T21:08:11.896Z"
   },
   {
    "duration": 38,
    "start_time": "2023-02-07T21:08:12.489Z"
   },
   {
    "duration": 5,
    "start_time": "2023-02-07T21:08:34.370Z"
   },
   {
    "duration": 6,
    "start_time": "2023-02-07T21:09:23.327Z"
   },
   {
    "duration": 4,
    "start_time": "2023-02-07T21:09:45.599Z"
   },
   {
    "duration": 124,
    "start_time": "2023-02-07T21:10:12.600Z"
   },
   {
    "duration": 5,
    "start_time": "2023-02-07T21:10:17.524Z"
   },
   {
    "duration": 8,
    "start_time": "2023-02-07T21:10:19.473Z"
   },
   {
    "duration": 5,
    "start_time": "2023-02-07T21:10:19.992Z"
   },
   {
    "duration": 6,
    "start_time": "2023-02-07T21:10:20.599Z"
   },
   {
    "duration": 44,
    "start_time": "2023-02-07T21:10:21.394Z"
   },
   {
    "duration": 76,
    "start_time": "2023-02-08T19:13:39.216Z"
   },
   {
    "duration": 14810,
    "start_time": "2023-02-08T19:13:45.123Z"
   },
   {
    "duration": 2422,
    "start_time": "2023-02-08T19:13:59.936Z"
   },
   {
    "duration": 818,
    "start_time": "2023-02-08T19:14:02.360Z"
   },
   {
    "duration": 3,
    "start_time": "2023-02-08T19:14:03.180Z"
   },
   {
    "duration": 48,
    "start_time": "2023-02-08T19:14:03.185Z"
   },
   {
    "duration": 21,
    "start_time": "2023-02-08T19:14:03.235Z"
   },
   {
    "duration": 35,
    "start_time": "2023-02-08T19:14:03.258Z"
   },
   {
    "duration": 20,
    "start_time": "2023-02-08T19:14:03.295Z"
   },
   {
    "duration": 149,
    "start_time": "2023-02-08T19:14:03.341Z"
   },
   {
    "duration": 116,
    "start_time": "2023-02-08T19:14:03.493Z"
   },
   {
    "duration": 41,
    "start_time": "2023-02-08T19:14:03.611Z"
   },
   {
    "duration": 112,
    "start_time": "2023-02-08T19:14:03.654Z"
   },
   {
    "duration": 17,
    "start_time": "2023-02-08T19:14:03.768Z"
   },
   {
    "duration": 160,
    "start_time": "2023-02-08T19:14:03.787Z"
   },
   {
    "duration": 40341,
    "start_time": "2023-02-08T19:14:03.949Z"
   },
   {
    "duration": 250,
    "start_time": "2023-02-08T19:14:44.292Z"
   },
   {
    "duration": 24,
    "start_time": "2023-02-08T19:14:44.544Z"
   },
   {
    "duration": 92,
    "start_time": "2023-02-08T19:14:44.570Z"
   },
   {
    "duration": 36,
    "start_time": "2023-02-08T19:14:44.664Z"
   },
   {
    "duration": 52,
    "start_time": "2023-02-08T19:14:44.702Z"
   },
   {
    "duration": 12,
    "start_time": "2023-02-08T19:14:44.756Z"
   },
   {
    "duration": 26,
    "start_time": "2023-02-08T19:14:44.769Z"
   },
   {
    "duration": 445,
    "start_time": "2023-02-08T19:14:44.797Z"
   },
   {
    "duration": 12,
    "start_time": "2023-02-08T19:14:45.244Z"
   },
   {
    "duration": 17,
    "start_time": "2023-02-08T19:14:45.258Z"
   },
   {
    "duration": 19,
    "start_time": "2023-02-08T19:14:45.277Z"
   },
   {
    "duration": 11,
    "start_time": "2023-02-08T19:14:45.298Z"
   },
   {
    "duration": 8,
    "start_time": "2023-02-08T19:14:45.340Z"
   },
   {
    "duration": 32,
    "start_time": "2023-02-08T19:14:45.350Z"
   },
   {
    "duration": 39781,
    "start_time": "2023-02-08T19:14:45.384Z"
   },
   {
    "duration": 43047,
    "start_time": "2023-02-08T19:15:25.166Z"
   },
   {
    "duration": 9,
    "start_time": "2023-02-08T19:16:08.214Z"
   },
   {
    "duration": 17,
    "start_time": "2023-02-08T19:16:08.241Z"
   },
   {
    "duration": 143,
    "start_time": "2023-02-08T19:16:13.913Z"
   },
   {
    "duration": 14,
    "start_time": "2023-02-08T19:16:22.656Z"
   },
   {
    "duration": 6,
    "start_time": "2023-02-08T19:16:29.318Z"
   },
   {
    "duration": 15,
    "start_time": "2023-02-08T19:18:58.534Z"
   },
   {
    "duration": 15,
    "start_time": "2023-02-08T19:19:14.101Z"
   },
   {
    "duration": 19,
    "start_time": "2023-02-08T19:19:20.808Z"
   },
   {
    "duration": 11,
    "start_time": "2023-02-08T19:19:26.111Z"
   },
   {
    "duration": 13,
    "start_time": "2023-02-08T19:19:45.830Z"
   },
   {
    "duration": 11,
    "start_time": "2023-02-08T19:19:56.350Z"
   },
   {
    "duration": 16,
    "start_time": "2023-02-08T19:20:52.614Z"
   },
   {
    "duration": 36,
    "start_time": "2023-02-08T19:20:58.328Z"
   },
   {
    "duration": 28,
    "start_time": "2023-02-08T19:22:08.414Z"
   },
   {
    "duration": 4,
    "start_time": "2023-02-08T19:23:40.141Z"
   },
   {
    "duration": 810,
    "start_time": "2023-02-08T19:24:00.425Z"
   },
   {
    "duration": 4,
    "start_time": "2023-02-08T19:24:57.845Z"
   },
   {
    "duration": 612,
    "start_time": "2023-02-08T19:24:59.775Z"
   },
   {
    "duration": 5,
    "start_time": "2023-02-08T19:25:29.163Z"
   },
   {
    "duration": 47,
    "start_time": "2023-02-08T19:26:24.848Z"
   },
   {
    "duration": 76,
    "start_time": "2023-02-08T19:27:28.992Z"
   },
   {
    "duration": 4,
    "start_time": "2023-02-08T19:27:42.513Z"
   },
   {
    "duration": 6,
    "start_time": "2023-02-08T19:29:28.970Z"
   },
   {
    "duration": 643,
    "start_time": "2023-02-08T19:29:29.396Z"
   },
   {
    "duration": 7,
    "start_time": "2023-02-08T19:29:30.042Z"
   },
   {
    "duration": 46,
    "start_time": "2023-02-08T19:31:35.462Z"
   },
   {
    "duration": 15,
    "start_time": "2023-02-08T19:31:43.013Z"
   },
   {
    "duration": 22,
    "start_time": "2023-02-08T19:31:47.870Z"
   },
   {
    "duration": 49,
    "start_time": "2023-02-08T19:32:05.847Z"
   },
   {
    "duration": 4,
    "start_time": "2023-02-08T19:32:06.705Z"
   },
   {
    "duration": 6,
    "start_time": "2023-02-08T19:32:15.510Z"
   },
   {
    "duration": 729,
    "start_time": "2023-02-08T19:32:16.378Z"
   },
   {
    "duration": 0,
    "start_time": "2023-02-08T19:32:17.110Z"
   },
   {
    "duration": 2618,
    "start_time": "2023-02-08T19:32:35.489Z"
   },
   {
    "duration": 5,
    "start_time": "2023-02-08T19:32:38.110Z"
   },
   {
    "duration": 277,
    "start_time": "2023-02-08T19:32:38.117Z"
   },
   {
    "duration": 3,
    "start_time": "2023-02-08T19:32:38.397Z"
   },
   {
    "duration": 29,
    "start_time": "2023-02-08T19:32:38.401Z"
   },
   {
    "duration": 31,
    "start_time": "2023-02-08T19:32:38.432Z"
   },
   {
    "duration": 31,
    "start_time": "2023-02-08T19:32:38.466Z"
   },
   {
    "duration": 42,
    "start_time": "2023-02-08T19:32:38.499Z"
   },
   {
    "duration": 157,
    "start_time": "2023-02-08T19:32:38.543Z"
   },
   {
    "duration": 118,
    "start_time": "2023-02-08T19:32:38.702Z"
   },
   {
    "duration": 43,
    "start_time": "2023-02-08T19:32:38.822Z"
   },
   {
    "duration": 107,
    "start_time": "2023-02-08T19:32:38.866Z"
   },
   {
    "duration": 25,
    "start_time": "2023-02-08T19:32:38.975Z"
   },
   {
    "duration": 184,
    "start_time": "2023-02-08T19:32:39.004Z"
   },
   {
    "duration": 41733,
    "start_time": "2023-02-08T19:32:39.192Z"
   },
   {
    "duration": 301,
    "start_time": "2023-02-08T19:33:20.941Z"
   },
   {
    "duration": 24,
    "start_time": "2023-02-08T19:33:21.244Z"
   },
   {
    "duration": 83,
    "start_time": "2023-02-08T19:33:21.269Z"
   },
   {
    "duration": 35,
    "start_time": "2023-02-08T19:33:21.356Z"
   },
   {
    "duration": 20,
    "start_time": "2023-02-08T19:33:21.393Z"
   },
   {
    "duration": 16,
    "start_time": "2023-02-08T19:33:21.441Z"
   },
   {
    "duration": 13,
    "start_time": "2023-02-08T19:33:21.459Z"
   },
   {
    "duration": 487,
    "start_time": "2023-02-08T19:33:21.473Z"
   },
   {
    "duration": 12,
    "start_time": "2023-02-08T19:33:21.962Z"
   },
   {
    "duration": 14,
    "start_time": "2023-02-08T19:33:21.976Z"
   },
   {
    "duration": 16,
    "start_time": "2023-02-08T19:33:21.992Z"
   },
   {
    "duration": 35,
    "start_time": "2023-02-08T19:33:22.011Z"
   },
   {
    "duration": 13,
    "start_time": "2023-02-08T19:33:22.051Z"
   },
   {
    "duration": 57,
    "start_time": "2023-02-08T19:33:22.066Z"
   },
   {
    "duration": 39277,
    "start_time": "2023-02-08T19:33:22.125Z"
   },
   {
    "duration": 44123,
    "start_time": "2023-02-08T19:34:01.404Z"
   },
   {
    "duration": 12,
    "start_time": "2023-02-08T19:34:45.529Z"
   },
   {
    "duration": 7,
    "start_time": "2023-02-08T19:34:45.543Z"
   },
   {
    "duration": 9,
    "start_time": "2023-02-08T19:34:45.552Z"
   },
   {
    "duration": 16,
    "start_time": "2023-02-08T19:34:45.563Z"
   },
   {
    "duration": 10,
    "start_time": "2023-02-08T19:34:45.581Z"
   },
   {
    "duration": 62,
    "start_time": "2023-02-08T19:34:45.592Z"
   },
   {
    "duration": 4,
    "start_time": "2023-02-08T19:34:45.656Z"
   },
   {
    "duration": 3,
    "start_time": "2023-02-08T19:36:59.592Z"
   },
   {
    "duration": 549,
    "start_time": "2023-02-08T19:37:00.421Z"
   },
   {
    "duration": 5,
    "start_time": "2023-02-08T19:37:02.187Z"
   },
   {
    "duration": 13,
    "start_time": "2023-02-08T19:41:00.889Z"
   },
   {
    "duration": 5,
    "start_time": "2023-02-08T19:41:03.514Z"
   },
   {
    "duration": 63,
    "start_time": "2023-02-08T19:46:27.320Z"
   },
   {
    "duration": 0,
    "start_time": "2023-02-08T19:46:27.384Z"
   },
   {
    "duration": 0,
    "start_time": "2023-02-08T19:46:27.385Z"
   },
   {
    "duration": 0,
    "start_time": "2023-02-08T19:46:27.386Z"
   },
   {
    "duration": 4,
    "start_time": "2023-02-08T19:46:34.310Z"
   },
   {
    "duration": 11,
    "start_time": "2023-02-08T19:46:37.581Z"
   },
   {
    "duration": 7,
    "start_time": "2023-02-08T19:46:40.017Z"
   },
   {
    "duration": 3,
    "start_time": "2023-02-08T19:46:40.522Z"
   },
   {
    "duration": 129,
    "start_time": "2023-02-08T19:46:41.197Z"
   },
   {
    "duration": 6,
    "start_time": "2023-02-08T19:46:41.816Z"
   },
   {
    "duration": 12,
    "start_time": "2023-02-08T19:46:43.469Z"
   },
   {
    "duration": 8,
    "start_time": "2023-02-08T19:46:43.957Z"
   },
   {
    "duration": 21,
    "start_time": "2023-02-08T19:46:44.751Z"
   },
   {
    "duration": 6,
    "start_time": "2023-02-08T19:47:02.787Z"
   },
   {
    "duration": 3,
    "start_time": "2023-02-08T19:47:03.397Z"
   },
   {
    "duration": 8,
    "start_time": "2023-02-08T19:47:03.938Z"
   },
   {
    "duration": 18,
    "start_time": "2023-02-08T19:47:04.133Z"
   },
   {
    "duration": 10,
    "start_time": "2023-02-08T19:47:05.046Z"
   },
   {
    "duration": 7,
    "start_time": "2023-02-08T19:47:05.593Z"
   },
   {
    "duration": 20,
    "start_time": "2023-02-08T19:47:05.739Z"
   },
   {
    "duration": 74,
    "start_time": "2023-02-08T19:47:06.918Z"
   },
   {
    "duration": 2722,
    "start_time": "2023-02-08T19:47:15.073Z"
   },
   {
    "duration": 4,
    "start_time": "2023-02-08T19:47:17.798Z"
   },
   {
    "duration": 277,
    "start_time": "2023-02-08T19:47:17.804Z"
   },
   {
    "duration": 3,
    "start_time": "2023-02-08T19:47:18.084Z"
   },
   {
    "duration": 30,
    "start_time": "2023-02-08T19:47:18.089Z"
   },
   {
    "duration": 37,
    "start_time": "2023-02-08T19:47:18.121Z"
   },
   {
    "duration": 36,
    "start_time": "2023-02-08T19:47:18.160Z"
   },
   {
    "duration": 20,
    "start_time": "2023-02-08T19:47:18.198Z"
   },
   {
    "duration": 165,
    "start_time": "2023-02-08T19:47:18.241Z"
   },
   {
    "duration": 121,
    "start_time": "2023-02-08T19:47:18.408Z"
   },
   {
    "duration": 49,
    "start_time": "2023-02-08T19:47:18.531Z"
   },
   {
    "duration": 116,
    "start_time": "2023-02-08T19:47:18.582Z"
   },
   {
    "duration": 18,
    "start_time": "2023-02-08T19:47:18.699Z"
   },
   {
    "duration": 155,
    "start_time": "2023-02-08T19:47:18.719Z"
   },
   {
    "duration": 40142,
    "start_time": "2023-02-08T19:47:18.876Z"
   },
   {
    "duration": 350,
    "start_time": "2023-02-08T19:47:59.021Z"
   },
   {
    "duration": 81,
    "start_time": "2023-02-08T19:47:59.373Z"
   },
   {
    "duration": 38,
    "start_time": "2023-02-08T19:47:59.456Z"
   },
   {
    "duration": 66,
    "start_time": "2023-02-08T19:47:59.496Z"
   },
   {
    "duration": 14,
    "start_time": "2023-02-08T19:47:59.564Z"
   },
   {
    "duration": 15,
    "start_time": "2023-02-08T19:47:59.580Z"
   },
   {
    "duration": 11,
    "start_time": "2023-02-08T19:47:59.596Z"
   },
   {
    "duration": 456,
    "start_time": "2023-02-08T19:47:59.608Z"
   },
   {
    "duration": 12,
    "start_time": "2023-02-08T19:48:00.066Z"
   },
   {
    "duration": 19,
    "start_time": "2023-02-08T19:48:00.080Z"
   },
   {
    "duration": 16,
    "start_time": "2023-02-08T19:48:00.101Z"
   },
   {
    "duration": 35,
    "start_time": "2023-02-08T19:48:00.119Z"
   },
   {
    "duration": 18,
    "start_time": "2023-02-08T19:48:00.158Z"
   },
   {
    "duration": 35,
    "start_time": "2023-02-08T19:48:00.178Z"
   },
   {
    "duration": 38319,
    "start_time": "2023-02-08T19:48:00.216Z"
   },
   {
    "duration": 44098,
    "start_time": "2023-02-08T19:48:38.539Z"
   },
   {
    "duration": 18,
    "start_time": "2023-02-08T19:49:22.639Z"
   },
   {
    "duration": 14,
    "start_time": "2023-02-08T19:49:22.658Z"
   },
   {
    "duration": 17,
    "start_time": "2023-02-08T19:49:22.673Z"
   },
   {
    "duration": 15,
    "start_time": "2023-02-08T19:49:22.692Z"
   },
   {
    "duration": 8,
    "start_time": "2023-02-08T19:49:22.709Z"
   },
   {
    "duration": 14,
    "start_time": "2023-02-08T19:49:22.719Z"
   },
   {
    "duration": 33,
    "start_time": "2023-02-08T19:49:22.735Z"
   },
   {
    "duration": 4,
    "start_time": "2023-02-08T19:49:22.770Z"
   },
   {
    "duration": 611,
    "start_time": "2023-02-08T19:49:22.776Z"
   },
   {
    "duration": 4,
    "start_time": "2023-02-08T19:49:23.389Z"
   },
   {
    "duration": 28,
    "start_time": "2023-02-08T19:49:23.395Z"
   },
   {
    "duration": 31,
    "start_time": "2023-02-08T19:49:23.425Z"
   },
   {
    "duration": 154,
    "start_time": "2023-02-08T19:49:23.457Z"
   },
   {
    "duration": 6,
    "start_time": "2023-02-08T19:49:23.613Z"
   },
   {
    "duration": 23,
    "start_time": "2023-02-08T19:49:23.620Z"
   },
   {
    "duration": 34,
    "start_time": "2023-02-08T19:49:23.644Z"
   },
   {
    "duration": 6,
    "start_time": "2023-02-08T19:50:49.903Z"
   },
   {
    "duration": 18,
    "start_time": "2023-02-08T19:50:50.535Z"
   },
   {
    "duration": 61,
    "start_time": "2023-02-08T19:50:53.428Z"
   },
   {
    "duration": 15,
    "start_time": "2023-02-08T19:53:04.758Z"
   },
   {
    "duration": 2770,
    "start_time": "2023-02-08T19:54:05.858Z"
   },
   {
    "duration": 5,
    "start_time": "2023-02-08T19:54:08.630Z"
   },
   {
    "duration": 259,
    "start_time": "2023-02-08T19:54:08.636Z"
   },
   {
    "duration": 3,
    "start_time": "2023-02-08T19:54:08.897Z"
   },
   {
    "duration": 29,
    "start_time": "2023-02-08T19:54:08.901Z"
   },
   {
    "duration": 51,
    "start_time": "2023-02-08T19:54:08.932Z"
   },
   {
    "duration": 43,
    "start_time": "2023-02-08T19:54:08.986Z"
   },
   {
    "duration": 36,
    "start_time": "2023-02-08T19:54:09.032Z"
   },
   {
    "duration": 197,
    "start_time": "2023-02-08T19:54:09.071Z"
   },
   {
    "duration": 131,
    "start_time": "2023-02-08T19:54:09.271Z"
   },
   {
    "duration": 32,
    "start_time": "2023-02-08T19:54:09.404Z"
   },
   {
    "duration": 138,
    "start_time": "2023-02-08T19:54:09.444Z"
   },
   {
    "duration": 14,
    "start_time": "2023-02-08T19:54:09.583Z"
   },
   {
    "duration": 174,
    "start_time": "2023-02-08T19:54:09.599Z"
   },
   {
    "duration": 41704,
    "start_time": "2023-02-08T19:54:09.775Z"
   },
   {
    "duration": 361,
    "start_time": "2023-02-08T19:54:51.482Z"
   },
   {
    "duration": 24,
    "start_time": "2023-02-08T19:54:51.850Z"
   },
   {
    "duration": 84,
    "start_time": "2023-02-08T19:54:51.876Z"
   },
   {
    "duration": 31,
    "start_time": "2023-02-08T19:54:51.962Z"
   },
   {
    "duration": 14,
    "start_time": "2023-02-08T19:54:51.995Z"
   },
   {
    "duration": 44,
    "start_time": "2023-02-08T19:54:52.011Z"
   },
   {
    "duration": 12,
    "start_time": "2023-02-08T19:54:52.057Z"
   },
   {
    "duration": 462,
    "start_time": "2023-02-08T19:54:52.071Z"
   },
   {
    "duration": 24,
    "start_time": "2023-02-08T19:54:52.535Z"
   },
   {
    "duration": 15,
    "start_time": "2023-02-08T19:54:52.561Z"
   },
   {
    "duration": 14,
    "start_time": "2023-02-08T19:54:52.578Z"
   },
   {
    "duration": 11,
    "start_time": "2023-02-08T19:54:52.594Z"
   },
   {
    "duration": 33,
    "start_time": "2023-02-08T19:54:52.610Z"
   },
   {
    "duration": 31,
    "start_time": "2023-02-08T19:54:52.645Z"
   },
   {
    "duration": 40433,
    "start_time": "2023-02-08T19:54:52.678Z"
   },
   {
    "duration": 3,
    "start_time": "2023-02-08T19:56:18.808Z"
   },
   {
    "duration": 2640,
    "start_time": "2023-02-08T19:56:19.070Z"
   },
   {
    "duration": 5,
    "start_time": "2023-02-08T19:56:21.712Z"
   },
   {
    "duration": 254,
    "start_time": "2023-02-08T19:56:21.718Z"
   },
   {
    "duration": 3,
    "start_time": "2023-02-08T19:56:21.974Z"
   },
   {
    "duration": 34,
    "start_time": "2023-02-08T19:56:21.978Z"
   },
   {
    "duration": 37,
    "start_time": "2023-02-08T19:56:22.014Z"
   },
   {
    "duration": 55,
    "start_time": "2023-02-08T19:56:22.053Z"
   },
   {
    "duration": 24,
    "start_time": "2023-02-08T19:56:22.109Z"
   },
   {
    "duration": 168,
    "start_time": "2023-02-08T19:56:22.134Z"
   },
   {
    "duration": 116,
    "start_time": "2023-02-08T19:56:22.304Z"
   },
   {
    "duration": 51,
    "start_time": "2023-02-08T19:56:22.421Z"
   },
   {
    "duration": 116,
    "start_time": "2023-02-08T19:56:22.474Z"
   },
   {
    "duration": 14,
    "start_time": "2023-02-08T19:56:22.592Z"
   },
   {
    "duration": 145,
    "start_time": "2023-02-08T19:56:22.608Z"
   },
   {
    "duration": 40113,
    "start_time": "2023-02-08T19:56:22.755Z"
   },
   {
    "duration": 298,
    "start_time": "2023-02-08T19:57:02.871Z"
   },
   {
    "duration": 81,
    "start_time": "2023-02-08T19:57:03.171Z"
   },
   {
    "duration": 39,
    "start_time": "2023-02-08T19:57:03.254Z"
   },
   {
    "duration": 70,
    "start_time": "2023-02-08T19:57:03.294Z"
   },
   {
    "duration": 14,
    "start_time": "2023-02-08T19:57:03.365Z"
   },
   {
    "duration": 23,
    "start_time": "2023-02-08T19:57:03.380Z"
   },
   {
    "duration": 15,
    "start_time": "2023-02-08T19:57:03.405Z"
   },
   {
    "duration": 431,
    "start_time": "2023-02-08T19:57:03.421Z"
   },
   {
    "duration": 12,
    "start_time": "2023-02-08T19:57:03.853Z"
   },
   {
    "duration": 13,
    "start_time": "2023-02-08T19:57:03.866Z"
   },
   {
    "duration": 13,
    "start_time": "2023-02-08T19:57:03.881Z"
   },
   {
    "duration": 10,
    "start_time": "2023-02-08T19:57:03.896Z"
   },
   {
    "duration": 42,
    "start_time": "2023-02-08T19:57:03.909Z"
   },
   {
    "duration": 33,
    "start_time": "2023-02-08T19:57:03.953Z"
   },
   {
    "duration": 38313,
    "start_time": "2023-02-08T19:57:03.988Z"
   },
   {
    "duration": 42660,
    "start_time": "2023-02-08T19:57:42.303Z"
   },
   {
    "duration": 7,
    "start_time": "2023-02-08T19:58:24.965Z"
   },
   {
    "duration": 29,
    "start_time": "2023-02-08T19:58:24.973Z"
   },
   {
    "duration": 7,
    "start_time": "2023-02-08T19:58:25.004Z"
   },
   {
    "duration": 18,
    "start_time": "2023-02-08T19:58:25.013Z"
   },
   {
    "duration": 18,
    "start_time": "2023-02-08T19:58:25.032Z"
   },
   {
    "duration": 11,
    "start_time": "2023-02-08T19:58:25.055Z"
   },
   {
    "duration": 35,
    "start_time": "2023-02-08T19:58:25.067Z"
   },
   {
    "duration": 3,
    "start_time": "2023-02-08T19:58:25.104Z"
   },
   {
    "duration": 597,
    "start_time": "2023-02-08T19:58:25.109Z"
   },
   {
    "duration": 4,
    "start_time": "2023-02-08T19:58:25.707Z"
   },
   {
    "duration": 8,
    "start_time": "2023-02-08T19:58:25.713Z"
   },
   {
    "duration": 25,
    "start_time": "2023-02-08T19:58:25.722Z"
   },
   {
    "duration": 7,
    "start_time": "2023-02-08T19:58:25.753Z"
   },
   {
    "duration": 10,
    "start_time": "2023-02-08T19:58:25.762Z"
   },
   {
    "duration": 15,
    "start_time": "2023-02-08T19:58:25.774Z"
   },
   {
    "duration": 6,
    "start_time": "2023-02-08T19:58:25.791Z"
   },
   {
    "duration": 16,
    "start_time": "2023-02-08T19:58:25.799Z"
   },
   {
    "duration": 19,
    "start_time": "2023-02-08T19:58:39.053Z"
   },
   {
    "duration": 19,
    "start_time": "2023-02-08T19:59:07.950Z"
   },
   {
    "duration": 18,
    "start_time": "2023-02-08T20:14:46.667Z"
   },
   {
    "duration": 24,
    "start_time": "2023-02-08T20:17:22.200Z"
   },
   {
    "duration": 24,
    "start_time": "2023-02-08T20:17:30.356Z"
   },
   {
    "duration": 2632,
    "start_time": "2023-02-08T20:17:48.850Z"
   },
   {
    "duration": 4,
    "start_time": "2023-02-08T20:17:51.485Z"
   },
   {
    "duration": 260,
    "start_time": "2023-02-08T20:17:51.491Z"
   },
   {
    "duration": 3,
    "start_time": "2023-02-08T20:17:51.755Z"
   },
   {
    "duration": 25,
    "start_time": "2023-02-08T20:17:51.760Z"
   },
   {
    "duration": 19,
    "start_time": "2023-02-08T20:17:51.787Z"
   },
   {
    "duration": 44,
    "start_time": "2023-02-08T20:17:51.808Z"
   },
   {
    "duration": 21,
    "start_time": "2023-02-08T20:17:51.854Z"
   },
   {
    "duration": 161,
    "start_time": "2023-02-08T20:17:51.877Z"
   },
   {
    "duration": 112,
    "start_time": "2023-02-08T20:17:52.046Z"
   },
   {
    "duration": 43,
    "start_time": "2023-02-08T20:17:52.162Z"
   },
   {
    "duration": 116,
    "start_time": "2023-02-08T20:17:52.207Z"
   },
   {
    "duration": 27,
    "start_time": "2023-02-08T20:17:52.325Z"
   },
   {
    "duration": 161,
    "start_time": "2023-02-08T20:17:52.357Z"
   },
   {
    "duration": 41711,
    "start_time": "2023-02-08T20:17:52.520Z"
   },
   {
    "duration": 254,
    "start_time": "2023-02-08T20:18:34.233Z"
   },
   {
    "duration": 77,
    "start_time": "2023-02-08T20:18:34.488Z"
   },
   {
    "duration": 90,
    "start_time": "2023-02-08T20:18:34.567Z"
   },
   {
    "duration": 31,
    "start_time": "2023-02-08T20:18:34.659Z"
   },
   {
    "duration": 25,
    "start_time": "2023-02-08T20:18:34.692Z"
   },
   {
    "duration": 13,
    "start_time": "2023-02-08T20:18:34.718Z"
   },
   {
    "duration": 39,
    "start_time": "2023-02-08T20:18:34.733Z"
   },
   {
    "duration": 448,
    "start_time": "2023-02-08T20:18:34.774Z"
   },
   {
    "duration": 30,
    "start_time": "2023-02-08T20:18:35.224Z"
   },
   {
    "duration": 14,
    "start_time": "2023-02-08T20:18:35.256Z"
   },
   {
    "duration": 16,
    "start_time": "2023-02-08T20:18:35.272Z"
   },
   {
    "duration": 21,
    "start_time": "2023-02-08T20:18:35.290Z"
   },
   {
    "duration": 25,
    "start_time": "2023-02-08T20:18:35.313Z"
   },
   {
    "duration": 27,
    "start_time": "2023-02-08T20:18:35.350Z"
   },
   {
    "duration": 39213,
    "start_time": "2023-02-08T20:18:35.379Z"
   },
   {
    "duration": 43040,
    "start_time": "2023-02-08T20:19:14.594Z"
   },
   {
    "duration": 9,
    "start_time": "2023-02-08T20:19:57.636Z"
   },
   {
    "duration": 11,
    "start_time": "2023-02-08T20:19:57.646Z"
   },
   {
    "duration": 9,
    "start_time": "2023-02-08T20:19:57.660Z"
   },
   {
    "duration": 17,
    "start_time": "2023-02-08T20:19:57.671Z"
   },
   {
    "duration": 11,
    "start_time": "2023-02-08T20:19:57.690Z"
   },
   {
    "duration": 50,
    "start_time": "2023-02-08T20:19:57.702Z"
   },
   {
    "duration": 30,
    "start_time": "2023-02-08T20:19:57.754Z"
   },
   {
    "duration": 4,
    "start_time": "2023-02-08T20:19:57.786Z"
   },
   {
    "duration": 609,
    "start_time": "2023-02-08T20:19:57.791Z"
   },
   {
    "duration": 4,
    "start_time": "2023-02-08T20:19:58.404Z"
   },
   {
    "duration": 12,
    "start_time": "2023-02-08T20:19:58.409Z"
   },
   {
    "duration": 34,
    "start_time": "2023-02-08T20:19:58.423Z"
   },
   {
    "duration": 14,
    "start_time": "2023-02-08T20:19:58.459Z"
   },
   {
    "duration": 9,
    "start_time": "2023-02-08T20:19:58.474Z"
   },
   {
    "duration": 12,
    "start_time": "2023-02-08T20:19:58.485Z"
   },
   {
    "duration": 6,
    "start_time": "2023-02-08T20:19:58.499Z"
   },
   {
    "duration": 60,
    "start_time": "2023-02-08T20:19:58.507Z"
   },
   {
    "duration": 55,
    "start_time": "2023-02-08T20:20:11.558Z"
   },
   {
    "duration": 28,
    "start_time": "2023-02-08T20:20:15.933Z"
   },
   {
    "duration": 13,
    "start_time": "2023-02-08T20:20:31.376Z"
   },
   {
    "duration": 21,
    "start_time": "2023-02-08T20:20:42.384Z"
   },
   {
    "duration": 27,
    "start_time": "2023-02-08T20:22:27.001Z"
   },
   {
    "duration": 2674,
    "start_time": "2023-02-08T20:22:36.248Z"
   },
   {
    "duration": 5,
    "start_time": "2023-02-08T20:22:38.924Z"
   },
   {
    "duration": 285,
    "start_time": "2023-02-08T20:22:38.930Z"
   },
   {
    "duration": 3,
    "start_time": "2023-02-08T20:22:39.217Z"
   },
   {
    "duration": 38,
    "start_time": "2023-02-08T20:22:39.223Z"
   },
   {
    "duration": 21,
    "start_time": "2023-02-08T20:22:39.263Z"
   },
   {
    "duration": 29,
    "start_time": "2023-02-08T20:22:39.286Z"
   },
   {
    "duration": 47,
    "start_time": "2023-02-08T20:22:39.317Z"
   },
   {
    "duration": 189,
    "start_time": "2023-02-08T20:22:39.366Z"
   },
   {
    "duration": 133,
    "start_time": "2023-02-08T20:22:39.557Z"
   },
   {
    "duration": 32,
    "start_time": "2023-02-08T20:22:39.692Z"
   },
   {
    "duration": 112,
    "start_time": "2023-02-08T20:22:39.725Z"
   },
   {
    "duration": 17,
    "start_time": "2023-02-08T20:22:39.839Z"
   },
   {
    "duration": 145,
    "start_time": "2023-02-08T20:22:39.861Z"
   },
   {
    "duration": 38900,
    "start_time": "2023-02-08T20:22:40.009Z"
   },
   {
    "duration": 262,
    "start_time": "2023-02-08T20:23:18.910Z"
   },
   {
    "duration": 76,
    "start_time": "2023-02-08T20:23:19.173Z"
   },
   {
    "duration": 36,
    "start_time": "2023-02-08T20:23:19.250Z"
   },
   {
    "duration": 55,
    "start_time": "2023-02-08T20:23:19.288Z"
   },
   {
    "duration": 15,
    "start_time": "2023-02-08T20:23:19.345Z"
   },
   {
    "duration": 15,
    "start_time": "2023-02-08T20:23:19.362Z"
   },
   {
    "duration": 13,
    "start_time": "2023-02-08T20:23:19.379Z"
   },
   {
    "duration": 479,
    "start_time": "2023-02-08T20:23:19.394Z"
   },
   {
    "duration": 12,
    "start_time": "2023-02-08T20:23:19.875Z"
   },
   {
    "duration": 13,
    "start_time": "2023-02-08T20:23:19.889Z"
   },
   {
    "duration": 36,
    "start_time": "2023-02-08T20:23:19.904Z"
   },
   {
    "duration": 9,
    "start_time": "2023-02-08T20:23:19.942Z"
   },
   {
    "duration": 10,
    "start_time": "2023-02-08T20:23:19.953Z"
   },
   {
    "duration": 25,
    "start_time": "2023-02-08T20:23:19.965Z"
   },
   {
    "duration": 38437,
    "start_time": "2023-02-08T20:23:19.991Z"
   },
   {
    "duration": 45444,
    "start_time": "2023-02-08T20:23:58.429Z"
   },
   {
    "duration": 7,
    "start_time": "2023-02-08T20:24:43.875Z"
   },
   {
    "duration": 13,
    "start_time": "2023-02-08T20:24:43.883Z"
   },
   {
    "duration": 4,
    "start_time": "2023-02-08T20:24:43.898Z"
   },
   {
    "duration": 36,
    "start_time": "2023-02-08T20:24:43.904Z"
   },
   {
    "duration": 9,
    "start_time": "2023-02-08T20:24:43.942Z"
   },
   {
    "duration": 8,
    "start_time": "2023-02-08T20:24:43.953Z"
   },
   {
    "duration": 25,
    "start_time": "2023-02-08T20:24:43.963Z"
   },
   {
    "duration": 4,
    "start_time": "2023-02-08T20:24:43.990Z"
   },
   {
    "duration": 571,
    "start_time": "2023-02-08T20:24:43.996Z"
   },
   {
    "duration": 4,
    "start_time": "2023-02-08T20:24:44.571Z"
   },
   {
    "duration": 8,
    "start_time": "2023-02-08T20:24:44.576Z"
   },
   {
    "duration": 4,
    "start_time": "2023-02-08T20:24:44.585Z"
   },
   {
    "duration": 5,
    "start_time": "2023-02-08T20:24:44.591Z"
   },
   {
    "duration": 7,
    "start_time": "2023-02-08T20:24:44.597Z"
   },
   {
    "duration": 42,
    "start_time": "2023-02-08T20:24:44.605Z"
   },
   {
    "duration": 5,
    "start_time": "2023-02-08T20:24:44.649Z"
   },
   {
    "duration": 65,
    "start_time": "2023-02-08T20:24:44.656Z"
   },
   {
    "duration": 50,
    "start_time": "2023-02-08T20:24:44.723Z"
   },
   {
    "duration": 36,
    "start_time": "2023-02-08T20:26:13.400Z"
   },
   {
    "duration": 215,
    "start_time": "2023-02-08T20:26:18.506Z"
   },
   {
    "duration": 6,
    "start_time": "2023-02-08T20:59:10.253Z"
   },
   {
    "duration": 84,
    "start_time": "2023-02-08T21:03:21.450Z"
   },
   {
    "duration": 185,
    "start_time": "2023-02-08T21:03:47.044Z"
   },
   {
    "duration": 8851,
    "start_time": "2023-02-08T21:05:23.404Z"
   },
   {
    "duration": 4,
    "start_time": "2023-02-08T21:06:17.078Z"
   },
   {
    "duration": 5,
    "start_time": "2023-02-08T21:06:59.729Z"
   },
   {
    "duration": 23,
    "start_time": "2023-02-08T21:08:30.627Z"
   },
   {
    "duration": 5,
    "start_time": "2023-02-08T21:08:50.602Z"
   },
   {
    "duration": 6,
    "start_time": "2023-02-08T21:11:11.579Z"
   },
   {
    "duration": 9124,
    "start_time": "2023-02-08T21:11:19.636Z"
   },
   {
    "duration": 136,
    "start_time": "2023-02-08T21:11:40.392Z"
   },
   {
    "duration": 5,
    "start_time": "2023-02-08T21:14:46.587Z"
   },
   {
    "duration": 210,
    "start_time": "2023-02-08T21:17:34.071Z"
   },
   {
    "duration": 2549,
    "start_time": "2023-02-08T21:17:53.671Z"
   },
   {
    "duration": 5,
    "start_time": "2023-02-08T21:17:56.222Z"
   },
   {
    "duration": 259,
    "start_time": "2023-02-08T21:17:56.229Z"
   },
   {
    "duration": 3,
    "start_time": "2023-02-08T21:17:56.490Z"
   },
   {
    "duration": 22,
    "start_time": "2023-02-08T21:17:56.494Z"
   },
   {
    "duration": 39,
    "start_time": "2023-02-08T21:17:56.518Z"
   },
   {
    "duration": 36,
    "start_time": "2023-02-08T21:17:56.558Z"
   },
   {
    "duration": 24,
    "start_time": "2023-02-08T21:17:56.596Z"
   },
   {
    "duration": 157,
    "start_time": "2023-02-08T21:17:56.622Z"
   },
   {
    "duration": 121,
    "start_time": "2023-02-08T21:17:56.782Z"
   },
   {
    "duration": 46,
    "start_time": "2023-02-08T21:17:56.905Z"
   },
   {
    "duration": 105,
    "start_time": "2023-02-08T21:17:56.953Z"
   },
   {
    "duration": 17,
    "start_time": "2023-02-08T21:17:57.060Z"
   },
   {
    "duration": 166,
    "start_time": "2023-02-08T21:17:57.079Z"
   },
   {
    "duration": 39913,
    "start_time": "2023-02-08T21:17:57.247Z"
   },
   {
    "duration": 290,
    "start_time": "2023-02-08T21:18:37.164Z"
   },
   {
    "duration": 23,
    "start_time": "2023-02-08T21:18:37.456Z"
   },
   {
    "duration": 90,
    "start_time": "2023-02-08T21:18:37.480Z"
   },
   {
    "duration": 29,
    "start_time": "2023-02-08T21:18:37.572Z"
   },
   {
    "duration": 42,
    "start_time": "2023-02-08T21:18:37.603Z"
   },
   {
    "duration": 22,
    "start_time": "2023-02-08T21:18:37.647Z"
   },
   {
    "duration": 12,
    "start_time": "2023-02-08T21:18:37.670Z"
   },
   {
    "duration": 444,
    "start_time": "2023-02-08T21:18:37.683Z"
   },
   {
    "duration": 24,
    "start_time": "2023-02-08T21:18:38.128Z"
   },
   {
    "duration": 19,
    "start_time": "2023-02-08T21:18:38.154Z"
   },
   {
    "duration": 15,
    "start_time": "2023-02-08T21:18:38.175Z"
   },
   {
    "duration": 11,
    "start_time": "2023-02-08T21:18:38.192Z"
   },
   {
    "duration": 8,
    "start_time": "2023-02-08T21:18:38.207Z"
   },
   {
    "duration": 60,
    "start_time": "2023-02-08T21:18:38.217Z"
   },
   {
    "duration": 39245,
    "start_time": "2023-02-08T21:18:38.279Z"
   },
   {
    "duration": 44483,
    "start_time": "2023-02-08T21:19:17.526Z"
   },
   {
    "duration": 7,
    "start_time": "2023-02-08T21:20:02.011Z"
   },
   {
    "duration": 28,
    "start_time": "2023-02-08T21:20:02.019Z"
   },
   {
    "duration": 21,
    "start_time": "2023-02-08T21:20:02.049Z"
   },
   {
    "duration": 47,
    "start_time": "2023-02-08T21:20:02.071Z"
   },
   {
    "duration": 33,
    "start_time": "2023-02-08T21:20:02.120Z"
   },
   {
    "duration": 28,
    "start_time": "2023-02-08T21:20:02.154Z"
   },
   {
    "duration": 46,
    "start_time": "2023-02-08T21:20:02.185Z"
   },
   {
    "duration": 8,
    "start_time": "2023-02-08T21:20:02.233Z"
   },
   {
    "duration": 603,
    "start_time": "2023-02-08T21:20:02.243Z"
   },
   {
    "duration": 4,
    "start_time": "2023-02-08T21:20:02.848Z"
   },
   {
    "duration": 28,
    "start_time": "2023-02-08T21:20:02.853Z"
   },
   {
    "duration": 33,
    "start_time": "2023-02-08T21:20:02.883Z"
   },
   {
    "duration": 40,
    "start_time": "2023-02-08T21:20:02.918Z"
   },
   {
    "duration": 29,
    "start_time": "2023-02-08T21:20:02.960Z"
   },
   {
    "duration": 19,
    "start_time": "2023-02-08T21:20:02.991Z"
   },
   {
    "duration": 20,
    "start_time": "2023-02-08T21:20:03.012Z"
   },
   {
    "duration": 96,
    "start_time": "2023-02-08T21:20:03.033Z"
   },
   {
    "duration": 40,
    "start_time": "2023-02-08T21:20:03.131Z"
   },
   {
    "duration": 36,
    "start_time": "2023-02-08T21:20:03.173Z"
   },
   {
    "duration": 229,
    "start_time": "2023-02-08T21:20:03.211Z"
   },
   {
    "duration": 4,
    "start_time": "2023-02-08T21:20:03.442Z"
   },
   {
    "duration": 16,
    "start_time": "2023-02-08T21:20:03.448Z"
   },
   {
    "duration": 17,
    "start_time": "2023-02-08T21:20:03.465Z"
   },
   {
    "duration": 15,
    "start_time": "2023-02-08T21:21:28.824Z"
   },
   {
    "duration": 3485,
    "start_time": "2023-02-08T21:21:47.606Z"
   },
   {
    "duration": 58,
    "start_time": "2023-02-08T21:22:03.554Z"
   },
   {
    "duration": 822,
    "start_time": "2023-02-08T21:22:11.225Z"
   },
   {
    "duration": 4,
    "start_time": "2023-02-08T21:24:34.983Z"
   },
   {
    "duration": 7,
    "start_time": "2023-02-08T21:25:20.981Z"
   },
   {
    "duration": 27,
    "start_time": "2023-02-08T21:28:16.804Z"
   },
   {
    "duration": 3,
    "start_time": "2023-02-08T21:29:08.574Z"
   },
   {
    "duration": 13,
    "start_time": "2023-02-08T21:30:06.568Z"
   },
   {
    "duration": 15,
    "start_time": "2023-02-08T21:30:20.095Z"
   },
   {
    "duration": 3,
    "start_time": "2023-02-08T21:31:50.422Z"
   },
   {
    "duration": 13,
    "start_time": "2023-02-08T21:32:20.113Z"
   },
   {
    "duration": 625845,
    "start_time": "2023-02-08T21:32:46.897Z"
   },
   {
    "duration": 5,
    "start_time": "2023-02-08T21:43:12.744Z"
   },
   {
    "duration": 2622,
    "start_time": "2023-02-08T21:46:27.617Z"
   },
   {
    "duration": 2432,
    "start_time": "2023-02-08T21:46:30.242Z"
   },
   {
    "duration": 5,
    "start_time": "2023-02-08T21:46:32.676Z"
   },
   {
    "duration": 209,
    "start_time": "2023-02-08T21:46:32.682Z"
   },
   {
    "duration": 3,
    "start_time": "2023-02-08T21:46:32.894Z"
   },
   {
    "duration": 28,
    "start_time": "2023-02-08T21:46:32.899Z"
   },
   {
    "duration": 42,
    "start_time": "2023-02-08T21:46:32.929Z"
   },
   {
    "duration": 39,
    "start_time": "2023-02-08T21:46:32.973Z"
   },
   {
    "duration": 22,
    "start_time": "2023-02-08T21:46:33.014Z"
   },
   {
    "duration": 144,
    "start_time": "2023-02-08T21:46:33.038Z"
   },
   {
    "duration": 112,
    "start_time": "2023-02-08T21:46:33.184Z"
   },
   {
    "duration": 44,
    "start_time": "2023-02-08T21:46:33.298Z"
   },
   {
    "duration": 103,
    "start_time": "2023-02-08T21:46:33.344Z"
   },
   {
    "duration": 16,
    "start_time": "2023-02-08T21:46:33.451Z"
   },
   {
    "duration": 147,
    "start_time": "2023-02-08T21:46:33.469Z"
   },
   {
    "duration": 38939,
    "start_time": "2023-02-08T21:46:33.618Z"
   },
   {
    "duration": 289,
    "start_time": "2023-02-08T21:47:12.560Z"
   },
   {
    "duration": 22,
    "start_time": "2023-02-08T21:47:12.851Z"
   },
   {
    "duration": 93,
    "start_time": "2023-02-08T21:47:12.875Z"
   },
   {
    "duration": 32,
    "start_time": "2023-02-08T21:47:12.969Z"
   },
   {
    "duration": 38,
    "start_time": "2023-02-08T21:47:13.003Z"
   },
   {
    "duration": 14,
    "start_time": "2023-02-08T21:47:13.043Z"
   },
   {
    "duration": 18,
    "start_time": "2023-02-08T21:47:13.059Z"
   },
   {
    "duration": 461,
    "start_time": "2023-02-08T21:47:13.079Z"
   },
   {
    "duration": 14,
    "start_time": "2023-02-08T21:47:13.542Z"
   },
   {
    "duration": 14,
    "start_time": "2023-02-08T21:47:13.558Z"
   },
   {
    "duration": 16,
    "start_time": "2023-02-08T21:47:13.574Z"
   },
   {
    "duration": 12,
    "start_time": "2023-02-08T21:47:13.593Z"
   },
   {
    "duration": 8,
    "start_time": "2023-02-08T21:47:13.640Z"
   },
   {
    "duration": 28,
    "start_time": "2023-02-08T21:47:13.650Z"
   },
   {
    "duration": 38410,
    "start_time": "2023-02-08T21:47:13.680Z"
   },
   {
    "duration": 43516,
    "start_time": "2023-02-08T21:47:52.092Z"
   },
   {
    "duration": 8,
    "start_time": "2023-02-08T21:48:35.609Z"
   },
   {
    "duration": 23,
    "start_time": "2023-02-08T21:48:35.618Z"
   },
   {
    "duration": 12,
    "start_time": "2023-02-08T21:48:35.642Z"
   },
   {
    "duration": 17,
    "start_time": "2023-02-08T21:48:35.656Z"
   },
   {
    "duration": 9,
    "start_time": "2023-02-08T21:48:35.675Z"
   },
   {
    "duration": 11,
    "start_time": "2023-02-08T21:48:35.686Z"
   },
   {
    "duration": 42,
    "start_time": "2023-02-08T21:48:35.699Z"
   },
   {
    "duration": 3,
    "start_time": "2023-02-08T21:48:35.743Z"
   },
   {
    "duration": 572,
    "start_time": "2023-02-08T21:48:35.751Z"
   },
   {
    "duration": 5,
    "start_time": "2023-02-08T21:48:36.325Z"
   },
   {
    "duration": 6,
    "start_time": "2023-02-08T21:48:36.339Z"
   },
   {
    "duration": 4,
    "start_time": "2023-02-08T21:48:36.347Z"
   },
   {
    "duration": 11,
    "start_time": "2023-02-08T21:48:36.352Z"
   },
   {
    "duration": 8,
    "start_time": "2023-02-08T21:48:36.365Z"
   },
   {
    "duration": 30,
    "start_time": "2023-02-08T21:48:36.374Z"
   },
   {
    "duration": 6,
    "start_time": "2023-02-08T21:48:36.406Z"
   },
   {
    "duration": 67,
    "start_time": "2023-02-08T21:48:36.413Z"
   },
   {
    "duration": 38,
    "start_time": "2023-02-08T21:48:36.482Z"
   },
   {
    "duration": 52,
    "start_time": "2023-02-08T21:48:36.522Z"
   },
   {
    "duration": 222,
    "start_time": "2023-02-08T21:48:36.576Z"
   },
   {
    "duration": 5,
    "start_time": "2023-02-08T21:48:36.801Z"
   },
   {
    "duration": 14,
    "start_time": "2023-02-08T21:48:36.808Z"
   },
   {
    "duration": 22,
    "start_time": "2023-02-08T21:48:36.824Z"
   },
   {
    "duration": 814,
    "start_time": "2023-02-08T21:48:36.849Z"
   },
   {
    "duration": 6,
    "start_time": "2023-02-08T21:48:37.665Z"
   },
   {
    "duration": 5,
    "start_time": "2023-02-08T21:48:37.673Z"
   },
   {
    "duration": 9,
    "start_time": "2023-02-08T21:48:37.680Z"
   },
   {
    "duration": 376951,
    "start_time": "2023-02-08T21:48:37.691Z"
   },
   {
    "duration": 4301,
    "start_time": "2023-02-08T21:54:54.645Z"
   },
   {
    "duration": 529475,
    "start_time": "2023-02-08T21:54:58.948Z"
   },
   {
    "duration": 66891,
    "start_time": "2023-02-08T22:03:48.425Z"
   },
   {
    "duration": 41379,
    "start_time": "2023-02-08T22:04:55.319Z"
   },
   {
    "duration": 514,
    "start_time": "2023-02-08T22:05:36.700Z"
   },
   {
    "duration": 3226,
    "start_time": "2023-02-08T22:05:37.215Z"
   },
   {
    "duration": 227520,
    "start_time": "2023-02-08T22:06:29.458Z"
   },
   {
    "duration": 37982,
    "start_time": "2023-02-08T22:10:30.042Z"
   },
   {
    "duration": 483,
    "start_time": "2023-02-08T22:11:11.136Z"
   },
   {
    "duration": 5343,
    "start_time": "2023-02-08T22:11:18.998Z"
   },
   {
    "duration": 439,
    "start_time": "2023-02-08T22:11:52.504Z"
   },
   {
    "duration": 541,
    "start_time": "2023-02-08T22:12:01.201Z"
   },
   {
    "duration": 529,
    "start_time": "2023-02-08T22:12:05.414Z"
   },
   {
    "duration": 3827,
    "start_time": "2023-02-08T22:12:36.815Z"
   },
   {
    "duration": 3996,
    "start_time": "2023-02-08T22:12:58.446Z"
   },
   {
    "duration": 3488,
    "start_time": "2023-02-08T22:13:47.060Z"
   },
   {
    "duration": 18,
    "start_time": "2023-02-08T22:13:59.505Z"
   },
   {
    "duration": 3345,
    "start_time": "2023-02-08T22:14:02.896Z"
   },
   {
    "duration": 18,
    "start_time": "2023-02-08T22:14:29.754Z"
   },
   {
    "duration": 14,
    "start_time": "2023-02-08T22:16:13.283Z"
   },
   {
    "duration": 41,
    "start_time": "2023-02-08T22:16:47.699Z"
   },
   {
    "duration": 9,
    "start_time": "2023-02-08T22:17:06.138Z"
   },
   {
    "duration": 20,
    "start_time": "2023-02-08T22:17:39.690Z"
   },
   {
    "duration": 3,
    "start_time": "2023-02-08T22:18:55.169Z"
   },
   {
    "duration": 17,
    "start_time": "2023-02-08T22:19:21.023Z"
   },
   {
    "duration": 7,
    "start_time": "2023-02-08T22:19:54.266Z"
   },
   {
    "duration": 5,
    "start_time": "2023-02-08T22:19:59.727Z"
   },
   {
    "duration": 742,
    "start_time": "2023-02-08T22:22:12.153Z"
   },
   {
    "duration": 753,
    "start_time": "2023-02-08T22:22:47.962Z"
   },
   {
    "duration": 4,
    "start_time": "2023-02-08T22:23:16.040Z"
   },
   {
    "duration": 13,
    "start_time": "2023-02-08T22:23:46.895Z"
   },
   {
    "duration": 15,
    "start_time": "2023-02-08T22:23:55.699Z"
   },
   {
    "duration": 25,
    "start_time": "2023-02-08T22:27:18.441Z"
   },
   {
    "duration": 17,
    "start_time": "2023-02-08T22:27:26.966Z"
   },
   {
    "duration": 16,
    "start_time": "2023-02-08T22:27:37.804Z"
   },
   {
    "duration": 14,
    "start_time": "2023-02-08T22:28:27.910Z"
   },
   {
    "duration": 2949,
    "start_time": "2023-02-08T22:31:26.135Z"
   },
   {
    "duration": 2679,
    "start_time": "2023-02-08T22:31:29.087Z"
   },
   {
    "duration": 11,
    "start_time": "2023-02-08T22:31:31.773Z"
   },
   {
    "duration": 262,
    "start_time": "2023-02-08T22:31:31.787Z"
   },
   {
    "duration": 3,
    "start_time": "2023-02-08T22:31:32.052Z"
   },
   {
    "duration": 25,
    "start_time": "2023-02-08T22:31:32.058Z"
   },
   {
    "duration": 30,
    "start_time": "2023-02-08T22:31:32.084Z"
   },
   {
    "duration": 48,
    "start_time": "2023-02-08T22:31:32.116Z"
   },
   {
    "duration": 20,
    "start_time": "2023-02-08T22:31:32.168Z"
   },
   {
    "duration": 184,
    "start_time": "2023-02-08T22:31:32.191Z"
   },
   {
    "duration": 119,
    "start_time": "2023-02-08T22:31:32.377Z"
   },
   {
    "duration": 44,
    "start_time": "2023-02-08T22:31:32.497Z"
   },
   {
    "duration": 114,
    "start_time": "2023-02-08T22:31:32.543Z"
   },
   {
    "duration": 13,
    "start_time": "2023-02-08T22:31:32.660Z"
   },
   {
    "duration": 158,
    "start_time": "2023-02-08T22:31:32.675Z"
   },
   {
    "duration": 16,
    "start_time": "2023-02-08T22:31:32.839Z"
   },
   {
    "duration": 40627,
    "start_time": "2023-02-08T22:31:32.857Z"
   },
   {
    "duration": 274,
    "start_time": "2023-02-08T22:32:13.487Z"
   },
   {
    "duration": 24,
    "start_time": "2023-02-08T22:32:13.763Z"
   },
   {
    "duration": 82,
    "start_time": "2023-02-08T22:32:13.789Z"
   },
   {
    "duration": 30,
    "start_time": "2023-02-08T22:32:13.873Z"
   },
   {
    "duration": 36,
    "start_time": "2023-02-08T22:32:13.905Z"
   },
   {
    "duration": 13,
    "start_time": "2023-02-08T22:32:13.943Z"
   },
   {
    "duration": 14,
    "start_time": "2023-02-08T22:32:13.957Z"
   },
   {
    "duration": 445,
    "start_time": "2023-02-08T22:32:13.972Z"
   },
   {
    "duration": 22,
    "start_time": "2023-02-08T22:32:14.418Z"
   },
   {
    "duration": 13,
    "start_time": "2023-02-08T22:32:14.442Z"
   },
   {
    "duration": 17,
    "start_time": "2023-02-08T22:32:14.460Z"
   },
   {
    "duration": 11,
    "start_time": "2023-02-08T22:32:14.479Z"
   },
   {
    "duration": 11,
    "start_time": "2023-02-08T22:32:14.492Z"
   },
   {
    "duration": 53,
    "start_time": "2023-02-08T22:32:14.504Z"
   },
   {
    "duration": 38788,
    "start_time": "2023-02-08T22:32:14.559Z"
   },
   {
    "duration": 43551,
    "start_time": "2023-02-08T22:32:53.349Z"
   },
   {
    "duration": 9,
    "start_time": "2023-02-08T22:33:36.902Z"
   },
   {
    "duration": 9,
    "start_time": "2023-02-08T22:33:36.913Z"
   },
   {
    "duration": 5,
    "start_time": "2023-02-08T22:33:36.941Z"
   },
   {
    "duration": 15,
    "start_time": "2023-02-08T22:33:36.947Z"
   },
   {
    "duration": 9,
    "start_time": "2023-02-08T22:33:36.964Z"
   },
   {
    "duration": 18,
    "start_time": "2023-02-08T22:33:36.975Z"
   },
   {
    "duration": 63,
    "start_time": "2023-02-08T22:33:36.995Z"
   },
   {
    "duration": 5,
    "start_time": "2023-02-08T22:33:37.061Z"
   },
   {
    "duration": 571,
    "start_time": "2023-02-08T22:33:37.069Z"
   },
   {
    "duration": 4,
    "start_time": "2023-02-08T22:33:37.642Z"
   },
   {
    "duration": 21,
    "start_time": "2023-02-08T22:33:37.648Z"
   },
   {
    "duration": 15,
    "start_time": "2023-02-08T22:33:37.671Z"
   },
   {
    "duration": 6,
    "start_time": "2023-02-08T22:33:37.688Z"
   },
   {
    "duration": 7,
    "start_time": "2023-02-08T22:33:37.696Z"
   },
   {
    "duration": 12,
    "start_time": "2023-02-08T22:33:37.705Z"
   },
   {
    "duration": 25,
    "start_time": "2023-02-08T22:33:37.719Z"
   },
   {
    "duration": 42,
    "start_time": "2023-02-08T22:33:37.746Z"
   },
   {
    "duration": 43,
    "start_time": "2023-02-08T22:33:37.790Z"
   },
   {
    "duration": 33,
    "start_time": "2023-02-08T22:33:37.835Z"
   },
   {
    "duration": 204,
    "start_time": "2023-02-08T22:33:37.870Z"
   },
   {
    "duration": 4,
    "start_time": "2023-02-08T22:33:38.076Z"
   },
   {
    "duration": 7,
    "start_time": "2023-02-08T22:33:38.083Z"
   },
   {
    "duration": 7,
    "start_time": "2023-02-08T22:33:38.092Z"
   },
   {
    "duration": 668,
    "start_time": "2023-02-08T22:33:38.101Z"
   },
   {
    "duration": 7,
    "start_time": "2023-02-08T22:33:38.772Z"
   },
   {
    "duration": 14,
    "start_time": "2023-02-08T22:33:38.781Z"
   },
   {
    "duration": 15,
    "start_time": "2023-02-08T22:33:38.797Z"
   },
   {
    "duration": 326427,
    "start_time": "2023-02-08T22:33:38.815Z"
   },
   {
    "duration": 1303,
    "start_time": "2023-02-08T22:39:05.244Z"
   },
   {
    "duration": 502571,
    "start_time": "2023-02-08T22:39:06.551Z"
   },
   {
    "duration": 215149,
    "start_time": "2023-02-08T22:47:29.124Z"
   },
   {
    "duration": 38392,
    "start_time": "2023-02-08T22:51:04.275Z"
   },
   {
    "duration": 495,
    "start_time": "2023-02-08T22:51:42.669Z"
   },
   {
    "duration": 2904,
    "start_time": "2023-02-08T22:51:43.167Z"
   },
   {
    "duration": 5,
    "start_time": "2023-02-08T22:51:46.140Z"
   },
   {
    "duration": 106,
    "start_time": "2023-02-08T22:51:46.152Z"
   },
   {
    "duration": 94,
    "start_time": "2023-02-08T22:51:46.272Z"
   },
   {
    "duration": 37,
    "start_time": "2023-02-08T22:51:46.369Z"
   },
   {
    "duration": 815,
    "start_time": "2023-02-08T22:51:46.408Z"
   },
   {
    "duration": 4,
    "start_time": "2023-02-08T22:51:47.225Z"
   },
   {
    "duration": 23,
    "start_time": "2023-02-08T22:51:47.244Z"
   },
   {
    "duration": 0,
    "start_time": "2023-02-08T22:51:47.269Z"
   },
   {
    "duration": 0,
    "start_time": "2023-02-08T22:51:47.271Z"
   },
   {
    "duration": 0,
    "start_time": "2023-02-08T22:51:47.272Z"
   },
   {
    "duration": 5,
    "start_time": "2023-02-08T22:54:25.253Z"
   },
   {
    "duration": 5078,
    "start_time": "2023-02-08T22:54:53.667Z"
   },
   {
    "duration": 14936,
    "start_time": "2023-02-09T20:10:25.461Z"
   },
   {
    "duration": 2886,
    "start_time": "2023-02-09T20:10:40.400Z"
   },
   {
    "duration": 2834,
    "start_time": "2023-02-09T20:10:43.288Z"
   },
   {
    "duration": 865,
    "start_time": "2023-02-09T20:10:46.124Z"
   },
   {
    "duration": 2,
    "start_time": "2023-02-09T20:10:46.992Z"
   },
   {
    "duration": 27,
    "start_time": "2023-02-09T20:10:46.996Z"
   },
   {
    "duration": 29,
    "start_time": "2023-02-09T20:10:47.025Z"
   },
   {
    "duration": 46,
    "start_time": "2023-02-09T20:10:47.057Z"
   },
   {
    "duration": 18,
    "start_time": "2023-02-09T20:10:47.105Z"
   },
   {
    "duration": 154,
    "start_time": "2023-02-09T20:10:47.124Z"
   },
   {
    "duration": 122,
    "start_time": "2023-02-09T20:10:47.280Z"
   },
   {
    "duration": 41,
    "start_time": "2023-02-09T20:10:47.403Z"
   },
   {
    "duration": 114,
    "start_time": "2023-02-09T20:10:47.445Z"
   },
   {
    "duration": 15,
    "start_time": "2023-02-09T20:10:47.562Z"
   },
   {
    "duration": 171,
    "start_time": "2023-02-09T20:10:47.579Z"
   },
   {
    "duration": 14,
    "start_time": "2023-02-09T20:10:47.756Z"
   },
   {
    "duration": 40665,
    "start_time": "2023-02-09T20:10:47.771Z"
   },
   {
    "duration": 350,
    "start_time": "2023-02-09T20:11:28.440Z"
   },
   {
    "duration": 69,
    "start_time": "2023-02-09T20:11:28.792Z"
   },
   {
    "duration": 36,
    "start_time": "2023-02-09T20:11:28.863Z"
   },
   {
    "duration": 56,
    "start_time": "2023-02-09T20:11:28.901Z"
   },
   {
    "duration": 15,
    "start_time": "2023-02-09T20:11:28.959Z"
   },
   {
    "duration": 11,
    "start_time": "2023-02-09T20:11:28.976Z"
   },
   {
    "duration": 10,
    "start_time": "2023-02-09T20:11:28.989Z"
   },
   {
    "duration": 526,
    "start_time": "2023-02-09T20:11:29.000Z"
   },
   {
    "duration": 21,
    "start_time": "2023-02-09T20:11:29.527Z"
   },
   {
    "duration": 40,
    "start_time": "2023-02-09T20:11:29.550Z"
   },
   {
    "duration": 17,
    "start_time": "2023-02-09T20:11:29.592Z"
   },
   {
    "duration": 1023,
    "start_time": "2023-02-09T20:11:29.611Z"
   },
   {
    "duration": 12,
    "start_time": "2023-02-09T20:11:30.636Z"
   },
   {
    "duration": 36,
    "start_time": "2023-02-09T20:11:30.650Z"
   },
   {
    "duration": 39793,
    "start_time": "2023-02-09T20:11:30.688Z"
   },
   {
    "duration": 43173,
    "start_time": "2023-02-09T20:12:10.483Z"
   },
   {
    "duration": 9,
    "start_time": "2023-02-09T20:12:53.658Z"
   },
   {
    "duration": 40,
    "start_time": "2023-02-09T20:12:53.669Z"
   },
   {
    "duration": 24,
    "start_time": "2023-02-09T20:12:53.711Z"
   },
   {
    "duration": 30,
    "start_time": "2023-02-09T20:12:53.739Z"
   },
   {
    "duration": 22,
    "start_time": "2023-02-09T20:12:53.771Z"
   },
   {
    "duration": 210,
    "start_time": "2023-02-09T20:12:53.795Z"
   },
   {
    "duration": 0,
    "start_time": "2023-02-09T20:12:54.008Z"
   },
   {
    "duration": 0,
    "start_time": "2023-02-09T20:12:54.009Z"
   },
   {
    "duration": 0,
    "start_time": "2023-02-09T20:12:54.010Z"
   },
   {
    "duration": 0,
    "start_time": "2023-02-09T20:12:54.012Z"
   },
   {
    "duration": 0,
    "start_time": "2023-02-09T20:12:54.013Z"
   },
   {
    "duration": 0,
    "start_time": "2023-02-09T20:12:54.014Z"
   },
   {
    "duration": 0,
    "start_time": "2023-02-09T20:12:54.014Z"
   },
   {
    "duration": 1,
    "start_time": "2023-02-09T20:12:54.015Z"
   },
   {
    "duration": 0,
    "start_time": "2023-02-09T20:12:54.017Z"
   },
   {
    "duration": 0,
    "start_time": "2023-02-09T20:12:54.018Z"
   },
   {
    "duration": 0,
    "start_time": "2023-02-09T20:12:54.018Z"
   },
   {
    "duration": 0,
    "start_time": "2023-02-09T20:12:54.019Z"
   },
   {
    "duration": 0,
    "start_time": "2023-02-09T20:12:54.037Z"
   },
   {
    "duration": 0,
    "start_time": "2023-02-09T20:12:54.038Z"
   },
   {
    "duration": 0,
    "start_time": "2023-02-09T20:12:54.039Z"
   },
   {
    "duration": 0,
    "start_time": "2023-02-09T20:12:54.040Z"
   },
   {
    "duration": 0,
    "start_time": "2023-02-09T20:12:54.041Z"
   },
   {
    "duration": 0,
    "start_time": "2023-02-09T20:12:54.042Z"
   },
   {
    "duration": 0,
    "start_time": "2023-02-09T20:12:54.043Z"
   },
   {
    "duration": 0,
    "start_time": "2023-02-09T20:12:54.044Z"
   },
   {
    "duration": 0,
    "start_time": "2023-02-09T20:12:54.045Z"
   },
   {
    "duration": 0,
    "start_time": "2023-02-09T20:12:54.046Z"
   },
   {
    "duration": 0,
    "start_time": "2023-02-09T20:12:54.047Z"
   },
   {
    "duration": 0,
    "start_time": "2023-02-09T20:12:54.048Z"
   },
   {
    "duration": 0,
    "start_time": "2023-02-09T20:12:54.049Z"
   },
   {
    "duration": 0,
    "start_time": "2023-02-09T20:12:54.050Z"
   },
   {
    "duration": 0,
    "start_time": "2023-02-09T20:12:54.051Z"
   },
   {
    "duration": 0,
    "start_time": "2023-02-09T20:12:54.052Z"
   },
   {
    "duration": 0,
    "start_time": "2023-02-09T20:12:54.053Z"
   },
   {
    "duration": 0,
    "start_time": "2023-02-09T20:12:54.054Z"
   },
   {
    "duration": 0,
    "start_time": "2023-02-09T20:12:54.055Z"
   },
   {
    "duration": 0,
    "start_time": "2023-02-09T20:12:54.056Z"
   },
   {
    "duration": 0,
    "start_time": "2023-02-09T20:12:54.058Z"
   },
   {
    "duration": 0,
    "start_time": "2023-02-09T20:12:54.059Z"
   },
   {
    "duration": 0,
    "start_time": "2023-02-09T20:12:54.060Z"
   },
   {
    "duration": 9,
    "start_time": "2023-02-09T20:13:34.656Z"
   },
   {
    "duration": 24,
    "start_time": "2023-02-09T20:19:26.269Z"
   },
   {
    "duration": 4,
    "start_time": "2023-02-09T20:19:26.295Z"
   },
   {
    "duration": 607,
    "start_time": "2023-02-09T20:19:26.301Z"
   },
   {
    "duration": 4,
    "start_time": "2023-02-09T20:19:26.911Z"
   },
   {
    "duration": 26,
    "start_time": "2023-02-09T20:19:26.916Z"
   },
   {
    "duration": 3,
    "start_time": "2023-02-09T20:19:26.951Z"
   },
   {
    "duration": 8,
    "start_time": "2023-02-09T20:19:26.956Z"
   },
   {
    "duration": 8,
    "start_time": "2023-02-09T20:19:26.966Z"
   },
   {
    "duration": 15,
    "start_time": "2023-02-09T20:19:26.976Z"
   },
   {
    "duration": 6,
    "start_time": "2023-02-09T20:19:26.994Z"
   },
   {
    "duration": 27,
    "start_time": "2023-02-09T20:19:27.001Z"
   },
   {
    "duration": 52,
    "start_time": "2023-02-09T20:19:27.030Z"
   },
   {
    "duration": 31,
    "start_time": "2023-02-09T20:19:27.084Z"
   },
   {
    "duration": 203,
    "start_time": "2023-02-09T20:19:27.116Z"
   },
   {
    "duration": 4,
    "start_time": "2023-02-09T20:19:27.321Z"
   },
   {
    "duration": 21,
    "start_time": "2023-02-09T20:19:27.336Z"
   },
   {
    "duration": 9,
    "start_time": "2023-02-09T20:19:27.359Z"
   },
   {
    "duration": 694,
    "start_time": "2023-02-09T20:19:27.370Z"
   },
   {
    "duration": 6,
    "start_time": "2023-02-09T20:19:28.066Z"
   },
   {
    "duration": 12,
    "start_time": "2023-02-09T20:19:28.074Z"
   },
   {
    "duration": 9,
    "start_time": "2023-02-09T20:19:28.087Z"
   },
   {
    "duration": 346844,
    "start_time": "2023-02-09T20:19:28.098Z"
   },
   {
    "duration": 1299,
    "start_time": "2023-02-09T20:25:14.945Z"
   },
   {
    "duration": 510465,
    "start_time": "2023-02-09T20:25:16.249Z"
   },
   {
    "duration": 218657,
    "start_time": "2023-02-09T20:33:46.716Z"
   },
   {
    "duration": 37748,
    "start_time": "2023-02-09T20:37:25.375Z"
   },
   {
    "duration": 491,
    "start_time": "2023-02-09T20:38:03.124Z"
   },
   {
    "duration": 3937,
    "start_time": "2023-02-09T20:38:03.619Z"
   },
   {
    "duration": 82,
    "start_time": "2023-02-09T20:38:07.557Z"
   },
   {
    "duration": 127,
    "start_time": "2023-02-09T20:38:07.645Z"
   },
   {
    "duration": 171,
    "start_time": "2023-02-09T20:38:07.774Z"
   },
   {
    "duration": 8,
    "start_time": "2023-02-09T20:38:07.948Z"
   },
   {
    "duration": 896,
    "start_time": "2023-02-09T20:38:07.958Z"
   },
   {
    "duration": 4,
    "start_time": "2023-02-09T20:38:08.856Z"
   },
   {
    "duration": 18,
    "start_time": "2023-02-09T20:38:08.862Z"
   }
  ],
  "kernelspec": {
   "display_name": "Python 3 (ipykernel)",
   "language": "python",
   "name": "python3"
  },
  "language_info": {
   "codemirror_mode": {
    "name": "ipython",
    "version": 3
   },
   "file_extension": ".py",
   "mimetype": "text/x-python",
   "name": "python",
   "nbconvert_exporter": "python",
   "pygments_lexer": "ipython3",
   "version": "3.9.5"
  },
  "toc": {
   "base_numbering": 1,
   "nav_menu": {},
   "number_sections": true,
   "sideBar": true,
   "skip_h1_title": true,
   "title_cell": "Table of Contents",
   "title_sidebar": "Contents",
   "toc_cell": false,
   "toc_position": {
    "height": "calc(100% - 180px)",
    "left": "10px",
    "top": "150px",
    "width": "302.161px"
   },
   "toc_section_display": true,
   "toc_window_display": true
  }
 },
 "nbformat": 4,
 "nbformat_minor": 2
}
